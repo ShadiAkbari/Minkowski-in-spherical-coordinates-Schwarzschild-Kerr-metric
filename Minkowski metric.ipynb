{
 "cells": [
  {
   "cell_type": "code",
   "execution_count": 7,
   "id": "4f7b236a",
   "metadata": {},
   "outputs": [],
   "source": [
    "%display latex"
   ]
  },
  {
   "cell_type": "code",
   "execution_count": 8,
   "id": "f7bbf292",
   "metadata": {},
   "outputs": [
    {
     "name": "stdout",
     "output_type": "stream",
     "text": [
      "4-dimensional differentiable manifold M\n"
     ]
    },
    {
     "data": {
      "text/html": [
       "<html><script type=\"math/tex; mode=display\">\\newcommand{\\Bold}[1]{\\mathbf{#1}}\\left(M,(t, r, \\theta, \\phi)\\right)</script></html>"
      ],
      "text/latex": [
       "$$\\newcommand{\\Bold}[1]{\\mathbf{#1}}\\left(M,(t, r, \\theta, \\phi)\\right)$$"
      ],
      "text/plain": [
       "\\left(M,(t, r, \\theta, \\phi)\\right)"
      ]
     },
     "metadata": {},
     "output_type": "display_data"
    }
   ],
   "source": [
    "from sage.manifolds.all import *\n",
    "from sage.symbolic.constants import pi\n",
    "from sage.symbolic.ring import SR\n",
    "\n",
    "#Defining of manifold and spherical chart\n",
    "M = Manifold(4, name='M', start_index=0)\n",
    "print(M)\n",
    "[i for i in M.irange()]\n",
    "\n",
    "#using SR() to make pi understandab le for sage \n",
    "chart_minf ='t r:(0,+oo) theta:(0,%s) phi:(0,%s)' % (SR(pi), SR(2*pi))\n",
    "std.<t, r, theta, phi> = M.chart(chart_minf)\n",
    "std\n",
    "show(latex(std))"
   ]
  },
  {
   "cell_type": "code",
   "execution_count": 9,
   "id": "be581f54",
   "metadata": {},
   "outputs": [],
   "source": [
    "#Defining of metric \n",
    "g=M.metric('g')\n",
    "g.set_name('g', r'\\mathrm{g}') \n",
    "g[0,0]=-1\n",
    "g[1,1]=1\n",
    "g[2,2]=r^2\n",
    "g[3,3]=r^2*sin(theta)^2"
   ]
  },
  {
   "cell_type": "code",
   "execution_count": 10,
   "id": "8c01dd36",
   "metadata": {},
   "outputs": [
    {
     "name": "stdout",
     "output_type": "stream",
     "text": [
      "Minkowski metric is: \n"
     ]
    },
    {
     "data": {
      "text/html": [
       "<html><script type=\"math/tex; mode=display\">\\newcommand{\\Bold}[1]{\\mathbf{#1}}\\left(\\begin{array}{rrrr}\n",
       "-1 & 0 & 0 & 0 \\\\\n",
       "0 & 1 & 0 & 0 \\\\\n",
       "0 & 0 & r^{2} & 0 \\\\\n",
       "0 & 0 & 0 & r^{2} \\sin\\left(\\theta\\right)^{2}\n",
       "\\end{array}\\right)</script></html>"
      ],
      "text/latex": [
       "$$\\newcommand{\\Bold}[1]{\\mathbf{#1}}\\left(\\begin{array}{rrrr}\n",
       "-1 & 0 & 0 & 0 \\\\\n",
       "0 & 1 & 0 & 0 \\\\\n",
       "0 & 0 & r^{2} & 0 \\\\\n",
       "0 & 0 & 0 & r^{2} \\sin\\left(\\theta\\right)^{2}\n",
       "\\end{array}\\right)$$"
      ],
      "text/plain": [
       "[              -1                0                0                0]\n",
       "[               0                1                0                0]\n",
       "[               0                0              r^2                0]\n",
       "[               0                0                0 r^2*sin(theta)^2]"
      ]
     },
     "execution_count": 10,
     "metadata": {},
     "output_type": "execute_result"
    }
   ],
   "source": [
    "print(\"Minkowski metric is: \")\n",
    "g[:]"
   ]
  },
  {
   "cell_type": "code",
   "execution_count": 11,
   "id": "e8e65ef6",
   "metadata": {},
   "outputs": [
    {
     "name": "stdout",
     "output_type": "stream",
     "text": [
      "Minkowski christoffel symbols are: \n"
     ]
    },
    {
     "data": {
      "text/html": [
       "<html><script type=\"math/tex; mode=display\">\\newcommand{\\Bold}[1]{\\mathbf{#1}}\\begin{array}{lcl} \\Gamma_{ \\phantom{\\, r} \\, \\theta \\, \\theta }^{ \\, r \\phantom{\\, \\theta} \\phantom{\\, \\theta} } & = & -r \\\\ \\Gamma_{ \\phantom{\\, r} \\, \\phi \\, \\phi }^{ \\, r \\phantom{\\, \\phi} \\phantom{\\, \\phi} } & = & -r \\sin\\left(\\theta\\right)^{2} \\\\ \\Gamma_{ \\phantom{\\, \\theta} \\, r \\, \\theta }^{ \\, \\theta \\phantom{\\, r} \\phantom{\\, \\theta} } & = & \\frac{1}{r} \\\\ \\Gamma_{ \\phantom{\\, \\theta} \\, \\phi \\, \\phi }^{ \\, \\theta \\phantom{\\, \\phi} \\phantom{\\, \\phi} } & = & -\\cos\\left(\\theta\\right) \\sin\\left(\\theta\\right) \\\\ \\Gamma_{ \\phantom{\\, \\phi} \\, r \\, \\phi }^{ \\, \\phi \\phantom{\\, r} \\phantom{\\, \\phi} } & = & \\frac{1}{r} \\\\ \\Gamma_{ \\phantom{\\, \\phi} \\, \\theta \\, \\phi }^{ \\, \\phi \\phantom{\\, \\theta} \\phantom{\\, \\phi} } & = & \\frac{\\cos\\left(\\theta\\right)}{\\sin\\left(\\theta\\right)} \\end{array}</script></html>"
      ],
      "text/latex": [
       "$$\\newcommand{\\Bold}[1]{\\mathbf{#1}}\\begin{array}{lcl} \\Gamma_{ \\phantom{\\, r} \\, \\theta \\, \\theta }^{ \\, r \\phantom{\\, \\theta} \\phantom{\\, \\theta} } & = & -r \\\\ \\Gamma_{ \\phantom{\\, r} \\, \\phi \\, \\phi }^{ \\, r \\phantom{\\, \\phi} \\phantom{\\, \\phi} } & = & -r \\sin\\left(\\theta\\right)^{2} \\\\ \\Gamma_{ \\phantom{\\, \\theta} \\, r \\, \\theta }^{ \\, \\theta \\phantom{\\, r} \\phantom{\\, \\theta} } & = & \\frac{1}{r} \\\\ \\Gamma_{ \\phantom{\\, \\theta} \\, \\phi \\, \\phi }^{ \\, \\theta \\phantom{\\, \\phi} \\phantom{\\, \\phi} } & = & -\\cos\\left(\\theta\\right) \\sin\\left(\\theta\\right) \\\\ \\Gamma_{ \\phantom{\\, \\phi} \\, r \\, \\phi }^{ \\, \\phi \\phantom{\\, r} \\phantom{\\, \\phi} } & = & \\frac{1}{r} \\\\ \\Gamma_{ \\phantom{\\, \\phi} \\, \\theta \\, \\phi }^{ \\, \\phi \\phantom{\\, \\theta} \\phantom{\\, \\phi} } & = & \\frac{\\cos\\left(\\theta\\right)}{\\sin\\left(\\theta\\right)} \\end{array}$$"
      ],
      "text/plain": [
       "\\begin{array}{lcl} \\Gamma_{ \\phantom{\\, r} \\, \\theta \\, \\theta }^{ \\, r \\phantom{\\, \\theta} \\phantom{\\, \\theta} } & = & -r \\\\ \\Gamma_{ \\phantom{\\, r} \\, \\phi \\, \\phi }^{ \\, r \\phantom{\\, \\phi} \\phantom{\\, \\phi} } & = & -r \\sin\\left(\\theta\\right)^{2} \\\\ \\Gamma_{ \\phantom{\\, \\theta} \\, r \\, \\theta }^{ \\, \\theta \\phantom{\\, r} \\phantom{\\, \\theta} } & = & \\frac{1}{r} \\\\ \\Gamma_{ \\phantom{\\, \\theta} \\, \\phi \\, \\phi }^{ \\, \\theta \\phantom{\\, \\phi} \\phantom{\\, \\phi} } & = & -\\cos\\left(\\theta\\right) \\sin\\left(\\theta\\right) \\\\ \\Gamma_{ \\phantom{\\, \\phi} \\, r \\, \\phi }^{ \\, \\phi \\phantom{\\, r} \\phantom{\\, \\phi} } & = & \\frac{1}{r} \\\\ \\Gamma_{ \\phantom{\\, \\phi} \\, \\theta \\, \\phi }^{ \\, \\phi \\phantom{\\, \\theta} \\phantom{\\, \\phi} } & = & \\frac{\\cos\\left(\\theta\\right)}{\\sin\\left(\\theta\\right)} \\end{array}"
      ]
     },
     "metadata": {},
     "output_type": "display_data"
    }
   ],
   "source": [
    "#calculating cristoffel symbols\n",
    "print(\"Minkowski christoffel symbols are: \")\n",
    "show(latex(g.christoffel_symbols_display()))"
   ]
  },
  {
   "cell_type": "code",
   "execution_count": 12,
   "id": "6241d483",
   "metadata": {},
   "outputs": [
    {
     "data": {
      "text/html": [
       "<html><script type=\"math/tex; mode=display\">\\newcommand{\\Bold}[1]{\\mathbf{#1}}\\mathrm{Riem}\\left(\\mathrm{g}\\right) = 0</script></html>"
      ],
      "text/latex": [
       "$$\\newcommand{\\Bold}[1]{\\mathbf{#1}}\\mathrm{Riem}\\left(\\mathrm{g}\\right) = 0$$"
      ],
      "text/plain": [
       "\\mathrm{Riem}\\left(\\mathrm{g}\\right) = 0"
      ]
     },
     "metadata": {},
     "output_type": "display_data"
    }
   ],
   "source": [
    "#Riemann tensor\n",
    "Riemann=g.riemann()\n",
    "show(latex(Riemann.display()))\n",
    "\n",
    "\n",
    "#other way\n",
    "nabla=g.connection()\n",
    "Riem=nabla.riemann()\n"
   ]
  },
  {
   "cell_type": "code",
   "execution_count": 13,
   "id": "7b63a638",
   "metadata": {},
   "outputs": [
    {
     "data": {
      "text/html": [
       "<html><script type=\"math/tex; mode=display\">\\newcommand{\\Bold}[1]{\\mathbf{#1}}\\mathrm{Riem}\\left(\\mathrm{g}\\right) = 0</script></html>"
      ],
      "text/latex": [
       "$$\\newcommand{\\Bold}[1]{\\mathbf{#1}}\\mathrm{Riem}\\left(\\mathrm{g}\\right) = 0$$"
      ],
      "text/plain": [
       "\\mathrm{Riem}\\left(\\mathrm{g}\\right) = 0"
      ]
     },
     "metadata": {},
     "output_type": "display_data"
    }
   ],
   "source": [
    "show(latex(Riem.display()))"
   ]
  },
  {
   "cell_type": "code",
   "execution_count": 14,
   "id": "41d12f18",
   "metadata": {},
   "outputs": [
    {
     "data": {
      "text/html": [
       "<html><script type=\"math/tex; mode=display\">\\newcommand{\\Bold}[1]{\\mathbf{#1}}\\left(\\begin{array}{rrrr}\n",
       "0 & 0 & 0 & 0 \\\\\n",
       "0 & 0 & 0 & 0 \\\\\n",
       "0 & 0 & 0 & 0 \\\\\n",
       "0 & 0 & 0 & 0\n",
       "\\end{array}\\right)</script></html>"
      ],
      "text/latex": [
       "$$\\newcommand{\\Bold}[1]{\\mathbf{#1}}\\left(\\begin{array}{rrrr}\n",
       "0 & 0 & 0 & 0 \\\\\n",
       "0 & 0 & 0 & 0 \\\\\n",
       "0 & 0 & 0 & 0 \\\\\n",
       "0 & 0 & 0 & 0\n",
       "\\end{array}\\right)$$"
      ],
      "text/plain": [
       "\\left(\\begin{array}{rrrr}\n",
       "0 & 0 & 0 & 0 \\\\\n",
       "0 & 0 & 0 & 0 \\\\\n",
       "0 & 0 & 0 & 0 \\\\\n",
       "0 & 0 & 0 & 0\n",
       "\\end{array}\\right)"
      ]
     },
     "metadata": {},
     "output_type": "display_data"
    },
    {
     "data": {
      "text/html": [
       "<html><script type=\"math/tex; mode=display\">\\newcommand{\\Bold}[1]{\\mathbf{#1}}\\mathrm{Ric}\\left(\\mathrm{g}\\right) = 0</script></html>"
      ],
      "text/latex": [
       "$$\\newcommand{\\Bold}[1]{\\mathbf{#1}}\\mathrm{Ric}\\left(\\mathrm{g}\\right) = 0$$"
      ],
      "text/plain": [
       "\\mathrm{Ric}\\left(\\mathrm{g}\\right) = 0"
      ]
     },
     "metadata": {},
     "output_type": "display_data"
    }
   ],
   "source": [
    "#Ricci tensor\n",
    "Ricci=g.ricci()\n",
    "Ricci.display()\n",
    "show(latex(Ricci[:]))\n",
    "\n",
    "\n",
    "#other way\n",
    "Ric=nabla.ricci()\n",
    "show(latex(Ric.display()))"
   ]
  },
  {
   "cell_type": "code",
   "execution_count": 15,
   "id": "87663eb0",
   "metadata": {},
   "outputs": [
    {
     "data": {
      "text/html": [
       "<html><script type=\"math/tex; mode=display\">\\newcommand{\\Bold}[1]{\\mathbf{#1}}\\begin{array}{llcl} \\mathrm{d}0\\left( \\frac{\\partial}{\\partial \\theta } \\right) : & M & \\longrightarrow & \\mathbb{R} \\\\ & \\left(t, r, \\theta, \\phi\\right) & \\longmapsto & 0 \\end{array}</script></html>"
      ],
      "text/latex": [
       "$$\\newcommand{\\Bold}[1]{\\mathbf{#1}}\\begin{array}{llcl} \\mathrm{d}0\\left( \\frac{\\partial}{\\partial \\theta } \\right) : & M & \\longrightarrow & \\mathbb{R} \\\\ & \\left(t, r, \\theta, \\phi\\right) & \\longmapsto & 0 \\end{array}$$"
      ],
      "text/plain": [
       "\\begin{array}{llcl} \\mathrm{d}0\\left( \\frac{\\partial}{\\partial \\theta } \\right) : & M & \\longrightarrow & \\mathbb{R} \\\\ & \\left(t, r, \\theta, \\phi\\right) & \\longmapsto & 0 \\end{array}"
      ]
     },
     "metadata": {},
     "output_type": "display_data"
    }
   ],
   "source": [
    "#Ricci scalar\n",
    "Ric_up = Ricci.up(g, 0)  # Raise the first index for contraction\n",
    "R = Ric_up.trace()\n",
    "show(latex(R.display()))\n"
   ]
  },
  {
   "cell_type": "code",
   "execution_count": 16,
   "id": "0ebba24e",
   "metadata": {
    "scrolled": true
   },
   "outputs": [
    {
     "data": {
      "text/html": [
       "<html><script type=\"math/tex; mode=display\">\\newcommand{\\Bold}[1]{\\mathbf{#1}}\\mathrm{C}\\left(\\mathrm{g}\\right) = 0</script></html>"
      ],
      "text/latex": [
       "$$\\newcommand{\\Bold}[1]{\\mathbf{#1}}\\mathrm{C}\\left(\\mathrm{g}\\right) = 0$$"
      ],
      "text/plain": [
       "\\mathrm{C}\\left(\\mathrm{g}\\right) = 0"
      ]
     },
     "metadata": {},
     "output_type": "display_data"
    }
   ],
   "source": [
    "#weyl tensor\n",
    "show(latex(g.weyl().display())) "
   ]
  },
  {
   "cell_type": "code",
   "execution_count": 17,
   "id": "f28bbc2f",
   "metadata": {
    "scrolled": true
   },
   "outputs": [],
   "source": [
    "#Einstein tensor\n",
    "Ein = Ric - (1/2)*R*g"
   ]
  },
  {
   "cell_type": "code",
   "execution_count": 18,
   "id": "e6361b22",
   "metadata": {
    "scrolled": true
   },
   "outputs": [
    {
     "name": "stdout",
     "output_type": "stream",
     "text": [
      "[0 0 0 0]\n",
      "[0 0 0 0]\n",
      "[0 0 0 0]\n",
      "[0 0 0 0]\n"
     ]
    }
   ],
   "source": [
    "Ein.display()\n",
    "components=Ein[:]\n",
    "print(components)"
   ]
  }
 ],
 "metadata": {
  "kernelspec": {
   "display_name": "SageMath 9.5",
   "language": "sage",
   "name": "sagemath"
  },
  "language_info": {
   "codemirror_mode": {
    "name": "ipython",
    "version": 3
   },
   "file_extension": ".py",
   "mimetype": "text/x-python",
   "name": "python",
   "nbconvert_exporter": "python",
   "pygments_lexer": "ipython3",
   "version": "3.10.12"
  }
 },
 "nbformat": 4,
 "nbformat_minor": 5
}

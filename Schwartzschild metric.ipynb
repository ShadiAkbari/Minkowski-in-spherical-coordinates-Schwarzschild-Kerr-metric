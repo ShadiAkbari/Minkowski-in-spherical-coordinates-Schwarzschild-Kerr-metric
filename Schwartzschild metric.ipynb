{
 "cells": [
  {
   "cell_type": "code",
   "execution_count": 1,
   "id": "2e7009ef",
   "metadata": {},
   "outputs": [],
   "source": [
    "%display latex"
   ]
  },
  {
   "cell_type": "code",
   "execution_count": 2,
   "id": "738bc0f7",
   "metadata": {},
   "outputs": [
    {
     "name": "stdout",
     "output_type": "stream",
     "text": [
      "4-dimensional differentiable manifold M\n"
     ]
    },
    {
     "data": {
      "text/html": [
       "<html><script type=\"math/tex; mode=display\">\\newcommand{\\Bold}[1]{\\mathbf{#1}}\\left(M,(t, r, \\theta, \\phi)\\right)</script></html>"
      ],
      "text/latex": [
       "$$\\newcommand{\\Bold}[1]{\\mathbf{#1}}\\left(M,(t, r, \\theta, \\phi)\\right)$$"
      ],
      "text/plain": [
       "\\left(M,(t, r, \\theta, \\phi)\\right)"
      ]
     },
     "metadata": {},
     "output_type": "display_data"
    }
   ],
   "source": [
    "from sage.manifolds.all import *\n",
    "from sage.symbolic.constants import pi\n",
    "from sage.symbolic.ring import SR\n",
    "\n",
    "#Defining of manifold and spherical chart\n",
    "M = Manifold(4, name='M', start_index=0)\n",
    "print(M)\n",
    "[i for i in M.irange()]\n",
    "\n",
    "#using SR() to make pi understandab le for sage \n",
    "chart_minf ='t r:(0,+oo) theta:(0,%s) phi:(0,%s)' % (SR(pi), SR(2*pi))\n",
    "std.<t, r, theta, phi> = M.chart(chart_minf)\n",
    "std\n",
    "show(latex(std))"
   ]
  },
  {
   "cell_type": "code",
   "execution_count": 3,
   "id": "4cc380c0",
   "metadata": {},
   "outputs": [],
   "source": [
    "#Defining of metric \n",
    "g_schw=M.metric('g_{schwrtzschild}')\n",
    "\n",
    "#r_s= (2*G*m)/(c^2)\n",
    "var('r_s c')\n",
    "\n",
    "f=1-r_s/r\n",
    "g_schw[0,0]=-f*c^2\n",
    "g_schw[1,1]=1/f\n",
    "g_schw[2,2]=r^2\n",
    "g_schw[3,3]=r^2*sin(theta)^2"
   ]
  },
  {
   "cell_type": "code",
   "execution_count": 4,
   "id": "a9c729e9",
   "metadata": {},
   "outputs": [
    {
     "data": {
      "text/html": [
       "<html><script type=\"math/tex; mode=display\">\\newcommand{\\Bold}[1]{\\mathbf{#1}}\\left(\\begin{array}{rrrr}\n",
       "c^{2} {\\left(\\frac{r_{s}}{r} - 1\\right)} & 0 & 0 & 0 \\\\\n",
       "0 & -\\frac{1}{\\frac{r_{s}}{r} - 1} & 0 & 0 \\\\\n",
       "0 & 0 & r^{2} & 0 \\\\\n",
       "0 & 0 & 0 & r^{2} \\sin\\left(\\theta\\right)^{2}\n",
       "\\end{array}\\right)</script></html>"
      ],
      "text/latex": [
       "$$\\newcommand{\\Bold}[1]{\\mathbf{#1}}\\left(\\begin{array}{rrrr}\n",
       "c^{2} {\\left(\\frac{r_{s}}{r} - 1\\right)} & 0 & 0 & 0 \\\\\n",
       "0 & -\\frac{1}{\\frac{r_{s}}{r} - 1} & 0 & 0 \\\\\n",
       "0 & 0 & r^{2} & 0 \\\\\n",
       "0 & 0 & 0 & r^{2} \\sin\\left(\\theta\\right)^{2}\n",
       "\\end{array}\\right)$$"
      ],
      "text/plain": [
       "\\left(\\begin{array}{rrrr}\n",
       "c^{2} {\\left(\\frac{r_{s}}{r} - 1\\right)} & 0 & 0 & 0 \\\\\n",
       "0 & -\\frac{1}{\\frac{r_{s}}{r} - 1} & 0 & 0 \\\\\n",
       "0 & 0 & r^{2} & 0 \\\\\n",
       "0 & 0 & 0 & r^{2} \\sin\\left(\\theta\\right)^{2}\n",
       "\\end{array}\\right)"
      ]
     },
     "metadata": {},
     "output_type": "display_data"
    }
   ],
   "source": [
    "#matrix show\n",
    "show(latex(g_schw[:]))"
   ]
  },
  {
   "cell_type": "code",
   "execution_count": 5,
   "id": "83c7d515",
   "metadata": {},
   "outputs": [
    {
     "data": {
      "text/html": [
       "<html><script type=\"math/tex; mode=display\">\\newcommand{\\Bold}[1]{\\mathbf{#1}}\\begin{array}{lcl} \\Gamma_{ \\phantom{\\, t} \\, t \\, r }^{ \\, t \\phantom{\\, t} \\phantom{\\, r} } & = & \\frac{r_{s}}{2 \\, {\\left(r^{2} - r r_{s}\\right)}} \\\\ \\Gamma_{ \\phantom{\\, r} \\, t \\, t }^{ \\, r \\phantom{\\, t} \\phantom{\\, t} } & = & \\frac{c^{2} r r_{s} - c^{2} r_{s}^{2}}{2 \\, r^{3}} \\\\ \\Gamma_{ \\phantom{\\, r} \\, r \\, r }^{ \\, r \\phantom{\\, r} \\phantom{\\, r} } & = & -\\frac{r_{s}}{2 \\, {\\left(r^{2} - r r_{s}\\right)}} \\\\ \\Gamma_{ \\phantom{\\, r} \\, \\theta \\, \\theta }^{ \\, r \\phantom{\\, \\theta} \\phantom{\\, \\theta} } & = & -r + r_{s} \\\\ \\Gamma_{ \\phantom{\\, r} \\, \\phi \\, \\phi }^{ \\, r \\phantom{\\, \\phi} \\phantom{\\, \\phi} } & = & -{\\left(r - r_{s}\\right)} \\sin\\left(\\theta\\right)^{2} \\\\ \\Gamma_{ \\phantom{\\, \\theta} \\, r \\, \\theta }^{ \\, \\theta \\phantom{\\, r} \\phantom{\\, \\theta} } & = & \\frac{1}{r} \\\\ \\Gamma_{ \\phantom{\\, \\theta} \\, \\phi \\, \\phi }^{ \\, \\theta \\phantom{\\, \\phi} \\phantom{\\, \\phi} } & = & -\\cos\\left(\\theta\\right) \\sin\\left(\\theta\\right) \\\\ \\Gamma_{ \\phantom{\\, \\phi} \\, r \\, \\phi }^{ \\, \\phi \\phantom{\\, r} \\phantom{\\, \\phi} } & = & \\frac{1}{r} \\\\ \\Gamma_{ \\phantom{\\, \\phi} \\, \\theta \\, \\phi }^{ \\, \\phi \\phantom{\\, \\theta} \\phantom{\\, \\phi} } & = & \\frac{\\cos\\left(\\theta\\right)}{\\sin\\left(\\theta\\right)} \\end{array}</script></html>"
      ],
      "text/latex": [
       "$$\\newcommand{\\Bold}[1]{\\mathbf{#1}}\\begin{array}{lcl} \\Gamma_{ \\phantom{\\, t} \\, t \\, r }^{ \\, t \\phantom{\\, t} \\phantom{\\, r} } & = & \\frac{r_{s}}{2 \\, {\\left(r^{2} - r r_{s}\\right)}} \\\\ \\Gamma_{ \\phantom{\\, r} \\, t \\, t }^{ \\, r \\phantom{\\, t} \\phantom{\\, t} } & = & \\frac{c^{2} r r_{s} - c^{2} r_{s}^{2}}{2 \\, r^{3}} \\\\ \\Gamma_{ \\phantom{\\, r} \\, r \\, r }^{ \\, r \\phantom{\\, r} \\phantom{\\, r} } & = & -\\frac{r_{s}}{2 \\, {\\left(r^{2} - r r_{s}\\right)}} \\\\ \\Gamma_{ \\phantom{\\, r} \\, \\theta \\, \\theta }^{ \\, r \\phantom{\\, \\theta} \\phantom{\\, \\theta} } & = & -r + r_{s} \\\\ \\Gamma_{ \\phantom{\\, r} \\, \\phi \\, \\phi }^{ \\, r \\phantom{\\, \\phi} \\phantom{\\, \\phi} } & = & -{\\left(r - r_{s}\\right)} \\sin\\left(\\theta\\right)^{2} \\\\ \\Gamma_{ \\phantom{\\, \\theta} \\, r \\, \\theta }^{ \\, \\theta \\phantom{\\, r} \\phantom{\\, \\theta} } & = & \\frac{1}{r} \\\\ \\Gamma_{ \\phantom{\\, \\theta} \\, \\phi \\, \\phi }^{ \\, \\theta \\phantom{\\, \\phi} \\phantom{\\, \\phi} } & = & -\\cos\\left(\\theta\\right) \\sin\\left(\\theta\\right) \\\\ \\Gamma_{ \\phantom{\\, \\phi} \\, r \\, \\phi }^{ \\, \\phi \\phantom{\\, r} \\phantom{\\, \\phi} } & = & \\frac{1}{r} \\\\ \\Gamma_{ \\phantom{\\, \\phi} \\, \\theta \\, \\phi }^{ \\, \\phi \\phantom{\\, \\theta} \\phantom{\\, \\phi} } & = & \\frac{\\cos\\left(\\theta\\right)}{\\sin\\left(\\theta\\right)} \\end{array}$$"
      ],
      "text/plain": [
       "\\begin{array}{lcl} \\Gamma_{ \\phantom{\\, t} \\, t \\, r }^{ \\, t \\phantom{\\, t} \\phantom{\\, r} } & = & \\frac{r_{s}}{2 \\, {\\left(r^{2} - r r_{s}\\right)}} \\\\ \\Gamma_{ \\phantom{\\, r} \\, t \\, t }^{ \\, r \\phantom{\\, t} \\phantom{\\, t} } & = & \\frac{c^{2} r r_{s} - c^{2} r_{s}^{2}}{2 \\, r^{3}} \\\\ \\Gamma_{ \\phantom{\\, r} \\, r \\, r }^{ \\, r \\phantom{\\, r} \\phantom{\\, r} } & = & -\\frac{r_{s}}{2 \\, {\\left(r^{2} - r r_{s}\\right)}} \\\\ \\Gamma_{ \\phantom{\\, r} \\, \\theta \\, \\theta }^{ \\, r \\phantom{\\, \\theta} \\phantom{\\, \\theta} } & = & -r + r_{s} \\\\ \\Gamma_{ \\phantom{\\, r} \\, \\phi \\, \\phi }^{ \\, r \\phantom{\\, \\phi} \\phantom{\\, \\phi} } & = & -{\\left(r - r_{s}\\right)} \\sin\\left(\\theta\\right)^{2} \\\\ \\Gamma_{ \\phantom{\\, \\theta} \\, r \\, \\theta }^{ \\, \\theta \\phantom{\\, r} \\phantom{\\, \\theta} } & = & \\frac{1}{r} \\\\ \\Gamma_{ \\phantom{\\, \\theta} \\, \\phi \\, \\phi }^{ \\, \\theta \\phantom{\\, \\phi} \\phantom{\\, \\phi} } & = & -\\cos\\left(\\theta\\right) \\sin\\left(\\theta\\right) \\\\ \\Gamma_{ \\phantom{\\, \\phi} \\, r \\, \\phi }^{ \\, \\phi \\phantom{\\, r} \\phantom{\\, \\phi} } & = & \\frac{1}{r} \\\\ \\Gamma_{ \\phantom{\\, \\phi} \\, \\theta \\, \\phi }^{ \\, \\phi \\phantom{\\, \\theta} \\phantom{\\, \\phi} } & = & \\frac{\\cos\\left(\\theta\\right)}{\\sin\\left(\\theta\\right)} \\end{array}"
      ]
     },
     "metadata": {},
     "output_type": "display_data"
    }
   ],
   "source": [
    "#calculating cristoffel symbols\n",
    "show(latex(g_schw.christoffel_symbols_display()))\n"
   ]
  },
  {
   "cell_type": "code",
   "execution_count": 6,
   "id": "f8d75575",
   "metadata": {},
   "outputs": [
    {
     "data": {
      "text/html": [
       "<html><script type=\"math/tex; mode=display\">\\newcommand{\\Bold}[1]{\\mathbf{#1}}\\begin{array}{lcl} X_{ \\, t \\, r \\, t \\, r }^{ \\phantom{\\, t}\\phantom{\\, r}\\phantom{\\, t}\\phantom{\\, r} } & = & -\\frac{c^{2} r_{s}}{r^{3}} \\\\ X_{ \\, t \\, r \\, r \\, t }^{ \\phantom{\\, t}\\phantom{\\, r}\\phantom{\\, r}\\phantom{\\, t} } & = & \\frac{c^{2} r_{s}}{r^{3}} \\\\ X_{ \\, t \\, \\theta \\, t \\, \\theta }^{ \\phantom{\\, t}\\phantom{\\, \\theta}\\phantom{\\, t}\\phantom{\\, \\theta} } & = & \\frac{c^{2} r r_{s} - c^{2} r_{s}^{2}}{2 \\, r^{2}} \\\\ X_{ \\, t \\, \\theta \\, \\theta \\, t }^{ \\phantom{\\, t}\\phantom{\\, \\theta}\\phantom{\\, \\theta}\\phantom{\\, t} } & = & -\\frac{c^{2} r r_{s} - c^{2} r_{s}^{2}}{2 \\, r^{2}} \\\\ X_{ \\, t \\, \\phi \\, t \\, \\phi }^{ \\phantom{\\, t}\\phantom{\\, \\phi}\\phantom{\\, t}\\phantom{\\, \\phi} } & = & \\frac{{\\left(c^{2} r r_{s} - c^{2} r_{s}^{2}\\right)} \\sin\\left(\\theta\\right)^{2}}{2 \\, r^{2}} \\\\ X_{ \\, t \\, \\phi \\, \\phi \\, t }^{ \\phantom{\\, t}\\phantom{\\, \\phi}\\phantom{\\, \\phi}\\phantom{\\, t} } & = & -\\frac{{\\left(c^{2} r r_{s} - c^{2} r_{s}^{2}\\right)} \\sin\\left(\\theta\\right)^{2}}{2 \\, r^{2}} \\\\ X_{ \\, r \\, t \\, t \\, r }^{ \\phantom{\\, r}\\phantom{\\, t}\\phantom{\\, t}\\phantom{\\, r} } & = & \\frac{c^{2} r_{s}}{r^{3}} \\\\ X_{ \\, r \\, t \\, r \\, t }^{ \\phantom{\\, r}\\phantom{\\, t}\\phantom{\\, r}\\phantom{\\, t} } & = & -\\frac{c^{2} r_{s}}{r^{3}} \\\\ X_{ \\, r \\, \\theta \\, r \\, \\theta }^{ \\phantom{\\, r}\\phantom{\\, \\theta}\\phantom{\\, r}\\phantom{\\, \\theta} } & = & -\\frac{r_{s}}{2 \\, {\\left(r - r_{s}\\right)}} \\\\ X_{ \\, r \\, \\theta \\, \\theta \\, r }^{ \\phantom{\\, r}\\phantom{\\, \\theta}\\phantom{\\, \\theta}\\phantom{\\, r} } & = & \\frac{r_{s}}{2 \\, {\\left(r - r_{s}\\right)}} \\\\ X_{ \\, r \\, \\phi \\, r \\, \\phi }^{ \\phantom{\\, r}\\phantom{\\, \\phi}\\phantom{\\, r}\\phantom{\\, \\phi} } & = & -\\frac{r_{s} \\sin\\left(\\theta\\right)^{2}}{2 \\, {\\left(r - r_{s}\\right)}} \\\\ X_{ \\, r \\, \\phi \\, \\phi \\, r }^{ \\phantom{\\, r}\\phantom{\\, \\phi}\\phantom{\\, \\phi}\\phantom{\\, r} } & = & \\frac{r_{s} \\sin\\left(\\theta\\right)^{2}}{2 \\, {\\left(r - r_{s}\\right)}} \\\\ X_{ \\, \\theta \\, t \\, t \\, \\theta }^{ \\phantom{\\, \\theta}\\phantom{\\, t}\\phantom{\\, t}\\phantom{\\, \\theta} } & = & -\\frac{c^{2} r r_{s} - c^{2} r_{s}^{2}}{2 \\, r^{2}} \\\\ X_{ \\, \\theta \\, t \\, \\theta \\, t }^{ \\phantom{\\, \\theta}\\phantom{\\, t}\\phantom{\\, \\theta}\\phantom{\\, t} } & = & \\frac{c^{2} r r_{s} - c^{2} r_{s}^{2}}{2 \\, r^{2}} \\\\ X_{ \\, \\theta \\, r \\, r \\, \\theta }^{ \\phantom{\\, \\theta}\\phantom{\\, r}\\phantom{\\, r}\\phantom{\\, \\theta} } & = & \\frac{r_{s}}{2 \\, {\\left(r - r_{s}\\right)}} \\\\ X_{ \\, \\theta \\, r \\, \\theta \\, r }^{ \\phantom{\\, \\theta}\\phantom{\\, r}\\phantom{\\, \\theta}\\phantom{\\, r} } & = & -\\frac{r_{s}}{2 \\, {\\left(r - r_{s}\\right)}} \\\\ X_{ \\, \\theta \\, \\phi \\, \\theta \\, \\phi }^{ \\phantom{\\, \\theta}\\phantom{\\, \\phi}\\phantom{\\, \\theta}\\phantom{\\, \\phi} } & = & r r_{s} \\sin\\left(\\theta\\right)^{2} \\\\ X_{ \\, \\theta \\, \\phi \\, \\phi \\, \\theta }^{ \\phantom{\\, \\theta}\\phantom{\\, \\phi}\\phantom{\\, \\phi}\\phantom{\\, \\theta} } & = & -r r_{s} \\sin\\left(\\theta\\right)^{2} \\\\ X_{ \\, \\phi \\, t \\, t \\, \\phi }^{ \\phantom{\\, \\phi}\\phantom{\\, t}\\phantom{\\, t}\\phantom{\\, \\phi} } & = & -\\frac{{\\left(c^{2} r r_{s} - c^{2} r_{s}^{2}\\right)} \\sin\\left(\\theta\\right)^{2}}{2 \\, r^{2}} \\\\ X_{ \\, \\phi \\, t \\, \\phi \\, t }^{ \\phantom{\\, \\phi}\\phantom{\\, t}\\phantom{\\, \\phi}\\phantom{\\, t} } & = & \\frac{{\\left(c^{2} r r_{s} - c^{2} r_{s}^{2}\\right)} \\sin\\left(\\theta\\right)^{2}}{2 \\, r^{2}} \\\\ X_{ \\, \\phi \\, r \\, r \\, \\phi }^{ \\phantom{\\, \\phi}\\phantom{\\, r}\\phantom{\\, r}\\phantom{\\, \\phi} } & = & \\frac{r_{s} \\sin\\left(\\theta\\right)^{2}}{2 \\, {\\left(r - r_{s}\\right)}} \\\\ X_{ \\, \\phi \\, r \\, \\phi \\, r }^{ \\phantom{\\, \\phi}\\phantom{\\, r}\\phantom{\\, \\phi}\\phantom{\\, r} } & = & -\\frac{r_{s} \\sin\\left(\\theta\\right)^{2}}{2 \\, {\\left(r - r_{s}\\right)}} \\\\ X_{ \\, \\phi \\, \\theta \\, \\theta \\, \\phi }^{ \\phantom{\\, \\phi}\\phantom{\\, \\theta}\\phantom{\\, \\theta}\\phantom{\\, \\phi} } & = & -r r_{s} \\sin\\left(\\theta\\right)^{2} \\\\ X_{ \\, \\phi \\, \\theta \\, \\phi \\, \\theta }^{ \\phantom{\\, \\phi}\\phantom{\\, \\theta}\\phantom{\\, \\phi}\\phantom{\\, \\theta} } & = & r r_{s} \\sin\\left(\\theta\\right)^{2} \\end{array}</script></html>"
      ],
      "text/latex": [
       "$$\\newcommand{\\Bold}[1]{\\mathbf{#1}}\\begin{array}{lcl} X_{ \\, t \\, r \\, t \\, r }^{ \\phantom{\\, t}\\phantom{\\, r}\\phantom{\\, t}\\phantom{\\, r} } & = & -\\frac{c^{2} r_{s}}{r^{3}} \\\\ X_{ \\, t \\, r \\, r \\, t }^{ \\phantom{\\, t}\\phantom{\\, r}\\phantom{\\, r}\\phantom{\\, t} } & = & \\frac{c^{2} r_{s}}{r^{3}} \\\\ X_{ \\, t \\, \\theta \\, t \\, \\theta }^{ \\phantom{\\, t}\\phantom{\\, \\theta}\\phantom{\\, t}\\phantom{\\, \\theta} } & = & \\frac{c^{2} r r_{s} - c^{2} r_{s}^{2}}{2 \\, r^{2}} \\\\ X_{ \\, t \\, \\theta \\, \\theta \\, t }^{ \\phantom{\\, t}\\phantom{\\, \\theta}\\phantom{\\, \\theta}\\phantom{\\, t} } & = & -\\frac{c^{2} r r_{s} - c^{2} r_{s}^{2}}{2 \\, r^{2}} \\\\ X_{ \\, t \\, \\phi \\, t \\, \\phi }^{ \\phantom{\\, t}\\phantom{\\, \\phi}\\phantom{\\, t}\\phantom{\\, \\phi} } & = & \\frac{{\\left(c^{2} r r_{s} - c^{2} r_{s}^{2}\\right)} \\sin\\left(\\theta\\right)^{2}}{2 \\, r^{2}} \\\\ X_{ \\, t \\, \\phi \\, \\phi \\, t }^{ \\phantom{\\, t}\\phantom{\\, \\phi}\\phantom{\\, \\phi}\\phantom{\\, t} } & = & -\\frac{{\\left(c^{2} r r_{s} - c^{2} r_{s}^{2}\\right)} \\sin\\left(\\theta\\right)^{2}}{2 \\, r^{2}} \\\\ X_{ \\, r \\, t \\, t \\, r }^{ \\phantom{\\, r}\\phantom{\\, t}\\phantom{\\, t}\\phantom{\\, r} } & = & \\frac{c^{2} r_{s}}{r^{3}} \\\\ X_{ \\, r \\, t \\, r \\, t }^{ \\phantom{\\, r}\\phantom{\\, t}\\phantom{\\, r}\\phantom{\\, t} } & = & -\\frac{c^{2} r_{s}}{r^{3}} \\\\ X_{ \\, r \\, \\theta \\, r \\, \\theta }^{ \\phantom{\\, r}\\phantom{\\, \\theta}\\phantom{\\, r}\\phantom{\\, \\theta} } & = & -\\frac{r_{s}}{2 \\, {\\left(r - r_{s}\\right)}} \\\\ X_{ \\, r \\, \\theta \\, \\theta \\, r }^{ \\phantom{\\, r}\\phantom{\\, \\theta}\\phantom{\\, \\theta}\\phantom{\\, r} } & = & \\frac{r_{s}}{2 \\, {\\left(r - r_{s}\\right)}} \\\\ X_{ \\, r \\, \\phi \\, r \\, \\phi }^{ \\phantom{\\, r}\\phantom{\\, \\phi}\\phantom{\\, r}\\phantom{\\, \\phi} } & = & -\\frac{r_{s} \\sin\\left(\\theta\\right)^{2}}{2 \\, {\\left(r - r_{s}\\right)}} \\\\ X_{ \\, r \\, \\phi \\, \\phi \\, r }^{ \\phantom{\\, r}\\phantom{\\, \\phi}\\phantom{\\, \\phi}\\phantom{\\, r} } & = & \\frac{r_{s} \\sin\\left(\\theta\\right)^{2}}{2 \\, {\\left(r - r_{s}\\right)}} \\\\ X_{ \\, \\theta \\, t \\, t \\, \\theta }^{ \\phantom{\\, \\theta}\\phantom{\\, t}\\phantom{\\, t}\\phantom{\\, \\theta} } & = & -\\frac{c^{2} r r_{s} - c^{2} r_{s}^{2}}{2 \\, r^{2}} \\\\ X_{ \\, \\theta \\, t \\, \\theta \\, t }^{ \\phantom{\\, \\theta}\\phantom{\\, t}\\phantom{\\, \\theta}\\phantom{\\, t} } & = & \\frac{c^{2} r r_{s} - c^{2} r_{s}^{2}}{2 \\, r^{2}} \\\\ X_{ \\, \\theta \\, r \\, r \\, \\theta }^{ \\phantom{\\, \\theta}\\phantom{\\, r}\\phantom{\\, r}\\phantom{\\, \\theta} } & = & \\frac{r_{s}}{2 \\, {\\left(r - r_{s}\\right)}} \\\\ X_{ \\, \\theta \\, r \\, \\theta \\, r }^{ \\phantom{\\, \\theta}\\phantom{\\, r}\\phantom{\\, \\theta}\\phantom{\\, r} } & = & -\\frac{r_{s}}{2 \\, {\\left(r - r_{s}\\right)}} \\\\ X_{ \\, \\theta \\, \\phi \\, \\theta \\, \\phi }^{ \\phantom{\\, \\theta}\\phantom{\\, \\phi}\\phantom{\\, \\theta}\\phantom{\\, \\phi} } & = & r r_{s} \\sin\\left(\\theta\\right)^{2} \\\\ X_{ \\, \\theta \\, \\phi \\, \\phi \\, \\theta }^{ \\phantom{\\, \\theta}\\phantom{\\, \\phi}\\phantom{\\, \\phi}\\phantom{\\, \\theta} } & = & -r r_{s} \\sin\\left(\\theta\\right)^{2} \\\\ X_{ \\, \\phi \\, t \\, t \\, \\phi }^{ \\phantom{\\, \\phi}\\phantom{\\, t}\\phantom{\\, t}\\phantom{\\, \\phi} } & = & -\\frac{{\\left(c^{2} r r_{s} - c^{2} r_{s}^{2}\\right)} \\sin\\left(\\theta\\right)^{2}}{2 \\, r^{2}} \\\\ X_{ \\, \\phi \\, t \\, \\phi \\, t }^{ \\phantom{\\, \\phi}\\phantom{\\, t}\\phantom{\\, \\phi}\\phantom{\\, t} } & = & \\frac{{\\left(c^{2} r r_{s} - c^{2} r_{s}^{2}\\right)} \\sin\\left(\\theta\\right)^{2}}{2 \\, r^{2}} \\\\ X_{ \\, \\phi \\, r \\, r \\, \\phi }^{ \\phantom{\\, \\phi}\\phantom{\\, r}\\phantom{\\, r}\\phantom{\\, \\phi} } & = & \\frac{r_{s} \\sin\\left(\\theta\\right)^{2}}{2 \\, {\\left(r - r_{s}\\right)}} \\\\ X_{ \\, \\phi \\, r \\, \\phi \\, r }^{ \\phantom{\\, \\phi}\\phantom{\\, r}\\phantom{\\, \\phi}\\phantom{\\, r} } & = & -\\frac{r_{s} \\sin\\left(\\theta\\right)^{2}}{2 \\, {\\left(r - r_{s}\\right)}} \\\\ X_{ \\, \\phi \\, \\theta \\, \\theta \\, \\phi }^{ \\phantom{\\, \\phi}\\phantom{\\, \\theta}\\phantom{\\, \\theta}\\phantom{\\, \\phi} } & = & -r r_{s} \\sin\\left(\\theta\\right)^{2} \\\\ X_{ \\, \\phi \\, \\theta \\, \\phi \\, \\theta }^{ \\phantom{\\, \\phi}\\phantom{\\, \\theta}\\phantom{\\, \\phi}\\phantom{\\, \\theta} } & = & r r_{s} \\sin\\left(\\theta\\right)^{2} \\end{array}$$"
      ],
      "text/plain": [
       "\\begin{array}{lcl} X_{ \\, t \\, r \\, t \\, r }^{ \\phantom{\\, t}\\phantom{\\, r}\\phantom{\\, t}\\phantom{\\, r} } & = & -\\frac{c^{2} r_{s}}{r^{3}} \\\\ X_{ \\, t \\, r \\, r \\, t }^{ \\phantom{\\, t}\\phantom{\\, r}\\phantom{\\, r}\\phantom{\\, t} } & = & \\frac{c^{2} r_{s}}{r^{3}} \\\\ X_{ \\, t \\, \\theta \\, t \\, \\theta }^{ \\phantom{\\, t}\\phantom{\\, \\theta}\\phantom{\\, t}\\phantom{\\, \\theta} } & = & \\frac{c^{2} r r_{s} - c^{2} r_{s}^{2}}{2 \\, r^{2}} \\\\ X_{ \\, t \\, \\theta \\, \\theta \\, t }^{ \\phantom{\\, t}\\phantom{\\, \\theta}\\phantom{\\, \\theta}\\phantom{\\, t} } & = & -\\frac{c^{2} r r_{s} - c^{2} r_{s}^{2}}{2 \\, r^{2}} \\\\ X_{ \\, t \\, \\phi \\, t \\, \\phi }^{ \\phantom{\\, t}\\phantom{\\, \\phi}\\phantom{\\, t}\\phantom{\\, \\phi} } & = & \\frac{{\\left(c^{2} r r_{s} - c^{2} r_{s}^{2}\\right)} \\sin\\left(\\theta\\right)^{2}}{2 \\, r^{2}} \\\\ X_{ \\, t \\, \\phi \\, \\phi \\, t }^{ \\phantom{\\, t}\\phantom{\\, \\phi}\\phantom{\\, \\phi}\\phantom{\\, t} } & = & -\\frac{{\\left(c^{2} r r_{s} - c^{2} r_{s}^{2}\\right)} \\sin\\left(\\theta\\right)^{2}}{2 \\, r^{2}} \\\\ X_{ \\, r \\, t \\, t \\, r }^{ \\phantom{\\, r}\\phantom{\\, t}\\phantom{\\, t}\\phantom{\\, r} } & = & \\frac{c^{2} r_{s}}{r^{3}} \\\\ X_{ \\, r \\, t \\, r \\, t }^{ \\phantom{\\, r}\\phantom{\\, t}\\phantom{\\, r}\\phantom{\\, t} } & = & -\\frac{c^{2} r_{s}}{r^{3}} \\\\ X_{ \\, r \\, \\theta \\, r \\, \\theta }^{ \\phantom{\\, r}\\phantom{\\, \\theta}\\phantom{\\, r}\\phantom{\\, \\theta} } & = & -\\frac{r_{s}}{2 \\, {\\left(r - r_{s}\\right)}} \\\\ X_{ \\, r \\, \\theta \\, \\theta \\, r }^{ \\phantom{\\, r}\\phantom{\\, \\theta}\\phantom{\\, \\theta}\\phantom{\\, r} } & = & \\frac{r_{s}}{2 \\, {\\left(r - r_{s}\\right)}} \\\\ X_{ \\, r \\, \\phi \\, r \\, \\phi }^{ \\phantom{\\, r}\\phantom{\\, \\phi}\\phantom{\\, r}\\phantom{\\, \\phi} } & = & -\\frac{r_{s} \\sin\\left(\\theta\\right)^{2}}{2 \\, {\\left(r - r_{s}\\right)}} \\\\ X_{ \\, r \\, \\phi \\, \\phi \\, r }^{ \\phantom{\\, r}\\phantom{\\, \\phi}\\phantom{\\, \\phi}\\phantom{\\, r} } & = & \\frac{r_{s} \\sin\\left(\\theta\\right)^{2}}{2 \\, {\\left(r - r_{s}\\right)}} \\\\ X_{ \\, \\theta \\, t \\, t \\, \\theta }^{ \\phantom{\\, \\theta}\\phantom{\\, t}\\phantom{\\, t}\\phantom{\\, \\theta} } & = & -\\frac{c^{2} r r_{s} - c^{2} r_{s}^{2}}{2 \\, r^{2}} \\\\ X_{ \\, \\theta \\, t \\, \\theta \\, t }^{ \\phantom{\\, \\theta}\\phantom{\\, t}\\phantom{\\, \\theta}\\phantom{\\, t} } & = & \\frac{c^{2} r r_{s} - c^{2} r_{s}^{2}}{2 \\, r^{2}} \\\\ X_{ \\, \\theta \\, r \\, r \\, \\theta }^{ \\phantom{\\, \\theta}\\phantom{\\, r}\\phantom{\\, r}\\phantom{\\, \\theta} } & = & \\frac{r_{s}}{2 \\, {\\left(r - r_{s}\\right)}} \\\\ X_{ \\, \\theta \\, r \\, \\theta \\, r }^{ \\phantom{\\, \\theta}\\phantom{\\, r}\\phantom{\\, \\theta}\\phantom{\\, r} } & = & -\\frac{r_{s}}{2 \\, {\\left(r - r_{s}\\right)}} \\\\ X_{ \\, \\theta \\, \\phi \\, \\theta \\, \\phi }^{ \\phantom{\\, \\theta}\\phantom{\\, \\phi}\\phantom{\\, \\theta}\\phantom{\\, \\phi} } & = & r r_{s} \\sin\\left(\\theta\\right)^{2} \\\\ X_{ \\, \\theta \\, \\phi \\, \\phi \\, \\theta }^{ \\phantom{\\, \\theta}\\phantom{\\, \\phi}\\phantom{\\, \\phi}\\phantom{\\, \\theta} } & = & -r r_{s} \\sin\\left(\\theta\\right)^{2} \\\\ X_{ \\, \\phi \\, t \\, t \\, \\phi }^{ \\phantom{\\, \\phi}\\phantom{\\, t}\\phantom{\\, t}\\phantom{\\, \\phi} } & = & -\\frac{{\\left(c^{2} r r_{s} - c^{2} r_{s}^{2}\\right)} \\sin\\left(\\theta\\right)^{2}}{2 \\, r^{2}} \\\\ X_{ \\, \\phi \\, t \\, \\phi \\, t }^{ \\phantom{\\, \\phi}\\phantom{\\, t}\\phantom{\\, \\phi}\\phantom{\\, t} } & = & \\frac{{\\left(c^{2} r r_{s} - c^{2} r_{s}^{2}\\right)} \\sin\\left(\\theta\\right)^{2}}{2 \\, r^{2}} \\\\ X_{ \\, \\phi \\, r \\, r \\, \\phi }^{ \\phantom{\\, \\phi}\\phantom{\\, r}\\phantom{\\, r}\\phantom{\\, \\phi} } & = & \\frac{r_{s} \\sin\\left(\\theta\\right)^{2}}{2 \\, {\\left(r - r_{s}\\right)}} \\\\ X_{ \\, \\phi \\, r \\, \\phi \\, r }^{ \\phantom{\\, \\phi}\\phantom{\\, r}\\phantom{\\, \\phi}\\phantom{\\, r} } & = & -\\frac{r_{s} \\sin\\left(\\theta\\right)^{2}}{2 \\, {\\left(r - r_{s}\\right)}} \\\\ X_{ \\, \\phi \\, \\theta \\, \\theta \\, \\phi }^{ \\phantom{\\, \\phi}\\phantom{\\, \\theta}\\phantom{\\, \\theta}\\phantom{\\, \\phi} } & = & -r r_{s} \\sin\\left(\\theta\\right)^{2} \\\\ X_{ \\, \\phi \\, \\theta \\, \\phi \\, \\theta }^{ \\phantom{\\, \\phi}\\phantom{\\, \\theta}\\phantom{\\, \\phi}\\phantom{\\, \\theta} } & = & r r_{s} \\sin\\left(\\theta\\right)^{2} \\end{array}"
      ]
     },
     "metadata": {},
     "output_type": "display_data"
    },
    {
     "data": {
      "text/html": [
       "<html><script type=\"math/tex; mode=display\">\\newcommand{\\Bold}[1]{\\mathbf{#1}}\\mathrm{Riem}\\left(g_{schwrtzschild}\\right) = \\left( \\frac{r_{s}}{r^{3} - r^{2} r_{s}} \\right) \\frac{\\partial}{\\partial t }\\otimes \\mathrm{d} r\\otimes \\mathrm{d} t\\otimes \\mathrm{d} r + \\left( -\\frac{r_{s}}{r^{3} - r^{2} r_{s}} \\right) \\frac{\\partial}{\\partial t }\\otimes \\mathrm{d} r\\otimes \\mathrm{d} r\\otimes \\mathrm{d} t -\\frac{r_{s}}{2 \\, r} \\frac{\\partial}{\\partial t }\\otimes \\mathrm{d} \\theta\\otimes \\mathrm{d} t\\otimes \\mathrm{d} \\theta + \\frac{r_{s}}{2 \\, r} \\frac{\\partial}{\\partial t }\\otimes \\mathrm{d} \\theta\\otimes \\mathrm{d} \\theta\\otimes \\mathrm{d} t -\\frac{r_{s} \\sin\\left(\\theta\\right)^{2}}{2 \\, r} \\frac{\\partial}{\\partial t }\\otimes \\mathrm{d} \\phi\\otimes \\mathrm{d} t\\otimes \\mathrm{d} \\phi + \\frac{r_{s} \\sin\\left(\\theta\\right)^{2}}{2 \\, r} \\frac{\\partial}{\\partial t }\\otimes \\mathrm{d} \\phi\\otimes \\mathrm{d} \\phi\\otimes \\mathrm{d} t + \\left( \\frac{c^{2} r r_{s} - c^{2} r_{s}^{2}}{r^{4}} \\right) \\frac{\\partial}{\\partial r }\\otimes \\mathrm{d} t\\otimes \\mathrm{d} t\\otimes \\mathrm{d} r + \\left( -\\frac{c^{2} r r_{s} - c^{2} r_{s}^{2}}{r^{4}} \\right) \\frac{\\partial}{\\partial r }\\otimes \\mathrm{d} t\\otimes \\mathrm{d} r\\otimes \\mathrm{d} t -\\frac{r_{s}}{2 \\, r} \\frac{\\partial}{\\partial r }\\otimes \\mathrm{d} \\theta\\otimes \\mathrm{d} r\\otimes \\mathrm{d} \\theta + \\frac{r_{s}}{2 \\, r} \\frac{\\partial}{\\partial r }\\otimes \\mathrm{d} \\theta\\otimes \\mathrm{d} \\theta\\otimes \\mathrm{d} r -\\frac{r_{s} \\sin\\left(\\theta\\right)^{2}}{2 \\, r} \\frac{\\partial}{\\partial r }\\otimes \\mathrm{d} \\phi\\otimes \\mathrm{d} r\\otimes \\mathrm{d} \\phi + \\frac{r_{s} \\sin\\left(\\theta\\right)^{2}}{2 \\, r} \\frac{\\partial}{\\partial r }\\otimes \\mathrm{d} \\phi\\otimes \\mathrm{d} \\phi\\otimes \\mathrm{d} r + \\left( -\\frac{c^{2} r r_{s} - c^{2} r_{s}^{2}}{2 \\, r^{4}} \\right) \\frac{\\partial}{\\partial \\theta }\\otimes \\mathrm{d} t\\otimes \\mathrm{d} t\\otimes \\mathrm{d} \\theta + \\left( \\frac{c^{2} r r_{s} - c^{2} r_{s}^{2}}{2 \\, r^{4}} \\right) \\frac{\\partial}{\\partial \\theta }\\otimes \\mathrm{d} t\\otimes \\mathrm{d} \\theta\\otimes \\mathrm{d} t + \\frac{r_{s}}{2 \\, {\\left(r^{3} - r^{2} r_{s}\\right)}} \\frac{\\partial}{\\partial \\theta }\\otimes \\mathrm{d} r\\otimes \\mathrm{d} r\\otimes \\mathrm{d} \\theta -\\frac{r_{s}}{2 \\, {\\left(r^{3} - r^{2} r_{s}\\right)}} \\frac{\\partial}{\\partial \\theta }\\otimes \\mathrm{d} r\\otimes \\mathrm{d} \\theta\\otimes \\mathrm{d} r + \\frac{r_{s} \\sin\\left(\\theta\\right)^{2}}{r} \\frac{\\partial}{\\partial \\theta }\\otimes \\mathrm{d} \\phi\\otimes \\mathrm{d} \\theta\\otimes \\mathrm{d} \\phi -\\frac{r_{s} \\sin\\left(\\theta\\right)^{2}}{r} \\frac{\\partial}{\\partial \\theta }\\otimes \\mathrm{d} \\phi\\otimes \\mathrm{d} \\phi\\otimes \\mathrm{d} \\theta + \\left( -\\frac{c^{2} r r_{s} - c^{2} r_{s}^{2}}{2 \\, r^{4}} \\right) \\frac{\\partial}{\\partial \\phi }\\otimes \\mathrm{d} t\\otimes \\mathrm{d} t\\otimes \\mathrm{d} \\phi + \\left( \\frac{c^{2} r r_{s} - c^{2} r_{s}^{2}}{2 \\, r^{4}} \\right) \\frac{\\partial}{\\partial \\phi }\\otimes \\mathrm{d} t\\otimes \\mathrm{d} \\phi\\otimes \\mathrm{d} t + \\frac{r_{s}}{2 \\, {\\left(r^{3} - r^{2} r_{s}\\right)}} \\frac{\\partial}{\\partial \\phi }\\otimes \\mathrm{d} r\\otimes \\mathrm{d} r\\otimes \\mathrm{d} \\phi -\\frac{r_{s}}{2 \\, {\\left(r^{3} - r^{2} r_{s}\\right)}} \\frac{\\partial}{\\partial \\phi }\\otimes \\mathrm{d} r\\otimes \\mathrm{d} \\phi\\otimes \\mathrm{d} r -\\frac{r_{s}}{r} \\frac{\\partial}{\\partial \\phi }\\otimes \\mathrm{d} \\theta\\otimes \\mathrm{d} \\theta\\otimes \\mathrm{d} \\phi + \\frac{r_{s}}{r} \\frac{\\partial}{\\partial \\phi }\\otimes \\mathrm{d} \\theta\\otimes \\mathrm{d} \\phi\\otimes \\mathrm{d} \\theta</script></html>"
      ],
      "text/latex": [
       "$$\\newcommand{\\Bold}[1]{\\mathbf{#1}}\\mathrm{Riem}\\left(g_{schwrtzschild}\\right) = \\left( \\frac{r_{s}}{r^{3} - r^{2} r_{s}} \\right) \\frac{\\partial}{\\partial t }\\otimes \\mathrm{d} r\\otimes \\mathrm{d} t\\otimes \\mathrm{d} r + \\left( -\\frac{r_{s}}{r^{3} - r^{2} r_{s}} \\right) \\frac{\\partial}{\\partial t }\\otimes \\mathrm{d} r\\otimes \\mathrm{d} r\\otimes \\mathrm{d} t -\\frac{r_{s}}{2 \\, r} \\frac{\\partial}{\\partial t }\\otimes \\mathrm{d} \\theta\\otimes \\mathrm{d} t\\otimes \\mathrm{d} \\theta + \\frac{r_{s}}{2 \\, r} \\frac{\\partial}{\\partial t }\\otimes \\mathrm{d} \\theta\\otimes \\mathrm{d} \\theta\\otimes \\mathrm{d} t -\\frac{r_{s} \\sin\\left(\\theta\\right)^{2}}{2 \\, r} \\frac{\\partial}{\\partial t }\\otimes \\mathrm{d} \\phi\\otimes \\mathrm{d} t\\otimes \\mathrm{d} \\phi + \\frac{r_{s} \\sin\\left(\\theta\\right)^{2}}{2 \\, r} \\frac{\\partial}{\\partial t }\\otimes \\mathrm{d} \\phi\\otimes \\mathrm{d} \\phi\\otimes \\mathrm{d} t + \\left( \\frac{c^{2} r r_{s} - c^{2} r_{s}^{2}}{r^{4}} \\right) \\frac{\\partial}{\\partial r }\\otimes \\mathrm{d} t\\otimes \\mathrm{d} t\\otimes \\mathrm{d} r + \\left( -\\frac{c^{2} r r_{s} - c^{2} r_{s}^{2}}{r^{4}} \\right) \\frac{\\partial}{\\partial r }\\otimes \\mathrm{d} t\\otimes \\mathrm{d} r\\otimes \\mathrm{d} t -\\frac{r_{s}}{2 \\, r} \\frac{\\partial}{\\partial r }\\otimes \\mathrm{d} \\theta\\otimes \\mathrm{d} r\\otimes \\mathrm{d} \\theta + \\frac{r_{s}}{2 \\, r} \\frac{\\partial}{\\partial r }\\otimes \\mathrm{d} \\theta\\otimes \\mathrm{d} \\theta\\otimes \\mathrm{d} r -\\frac{r_{s} \\sin\\left(\\theta\\right)^{2}}{2 \\, r} \\frac{\\partial}{\\partial r }\\otimes \\mathrm{d} \\phi\\otimes \\mathrm{d} r\\otimes \\mathrm{d} \\phi + \\frac{r_{s} \\sin\\left(\\theta\\right)^{2}}{2 \\, r} \\frac{\\partial}{\\partial r }\\otimes \\mathrm{d} \\phi\\otimes \\mathrm{d} \\phi\\otimes \\mathrm{d} r + \\left( -\\frac{c^{2} r r_{s} - c^{2} r_{s}^{2}}{2 \\, r^{4}} \\right) \\frac{\\partial}{\\partial \\theta }\\otimes \\mathrm{d} t\\otimes \\mathrm{d} t\\otimes \\mathrm{d} \\theta + \\left( \\frac{c^{2} r r_{s} - c^{2} r_{s}^{2}}{2 \\, r^{4}} \\right) \\frac{\\partial}{\\partial \\theta }\\otimes \\mathrm{d} t\\otimes \\mathrm{d} \\theta\\otimes \\mathrm{d} t + \\frac{r_{s}}{2 \\, {\\left(r^{3} - r^{2} r_{s}\\right)}} \\frac{\\partial}{\\partial \\theta }\\otimes \\mathrm{d} r\\otimes \\mathrm{d} r\\otimes \\mathrm{d} \\theta -\\frac{r_{s}}{2 \\, {\\left(r^{3} - r^{2} r_{s}\\right)}} \\frac{\\partial}{\\partial \\theta }\\otimes \\mathrm{d} r\\otimes \\mathrm{d} \\theta\\otimes \\mathrm{d} r + \\frac{r_{s} \\sin\\left(\\theta\\right)^{2}}{r} \\frac{\\partial}{\\partial \\theta }\\otimes \\mathrm{d} \\phi\\otimes \\mathrm{d} \\theta\\otimes \\mathrm{d} \\phi -\\frac{r_{s} \\sin\\left(\\theta\\right)^{2}}{r} \\frac{\\partial}{\\partial \\theta }\\otimes \\mathrm{d} \\phi\\otimes \\mathrm{d} \\phi\\otimes \\mathrm{d} \\theta + \\left( -\\frac{c^{2} r r_{s} - c^{2} r_{s}^{2}}{2 \\, r^{4}} \\right) \\frac{\\partial}{\\partial \\phi }\\otimes \\mathrm{d} t\\otimes \\mathrm{d} t\\otimes \\mathrm{d} \\phi + \\left( \\frac{c^{2} r r_{s} - c^{2} r_{s}^{2}}{2 \\, r^{4}} \\right) \\frac{\\partial}{\\partial \\phi }\\otimes \\mathrm{d} t\\otimes \\mathrm{d} \\phi\\otimes \\mathrm{d} t + \\frac{r_{s}}{2 \\, {\\left(r^{3} - r^{2} r_{s}\\right)}} \\frac{\\partial}{\\partial \\phi }\\otimes \\mathrm{d} r\\otimes \\mathrm{d} r\\otimes \\mathrm{d} \\phi -\\frac{r_{s}}{2 \\, {\\left(r^{3} - r^{2} r_{s}\\right)}} \\frac{\\partial}{\\partial \\phi }\\otimes \\mathrm{d} r\\otimes \\mathrm{d} \\phi\\otimes \\mathrm{d} r -\\frac{r_{s}}{r} \\frac{\\partial}{\\partial \\phi }\\otimes \\mathrm{d} \\theta\\otimes \\mathrm{d} \\theta\\otimes \\mathrm{d} \\phi + \\frac{r_{s}}{r} \\frac{\\partial}{\\partial \\phi }\\otimes \\mathrm{d} \\theta\\otimes \\mathrm{d} \\phi\\otimes \\mathrm{d} \\theta$$"
      ],
      "text/plain": [
       "\\mathrm{Riem}\\left(g_{schwrtzschild}\\right) = \\left( \\frac{r_{s}}{r^{3} - r^{2} r_{s}} \\right) \\frac{\\partial}{\\partial t }\\otimes \\mathrm{d} r\\otimes \\mathrm{d} t\\otimes \\mathrm{d} r + \\left( -\\frac{r_{s}}{r^{3} - r^{2} r_{s}} \\right) \\frac{\\partial}{\\partial t }\\otimes \\mathrm{d} r\\otimes \\mathrm{d} r\\otimes \\mathrm{d} t -\\frac{r_{s}}{2 \\, r} \\frac{\\partial}{\\partial t }\\otimes \\mathrm{d} \\theta\\otimes \\mathrm{d} t\\otimes \\mathrm{d} \\theta + \\frac{r_{s}}{2 \\, r} \\frac{\\partial}{\\partial t }\\otimes \\mathrm{d} \\theta\\otimes \\mathrm{d} \\theta\\otimes \\mathrm{d} t -\\frac{r_{s} \\sin\\left(\\theta\\right)^{2}}{2 \\, r} \\frac{\\partial}{\\partial t }\\otimes \\mathrm{d} \\phi\\otimes \\mathrm{d} t\\otimes \\mathrm{d} \\phi + \\frac{r_{s} \\sin\\left(\\theta\\right)^{2}}{2 \\, r} \\frac{\\partial}{\\partial t }\\otimes \\mathrm{d} \\phi\\otimes \\mathrm{d} \\phi\\otimes \\mathrm{d} t + \\left( \\frac{c^{2} r r_{s} - c^{2} r_{s}^{2}}{r^{4}} \\right) \\frac{\\partial}{\\partial r }\\otimes \\mathrm{d} t\\otimes \\mathrm{d} t\\otimes \\mathrm{d} r + \\left( -\\frac{c^{2} r r_{s} - c^{2} r_{s}^{2}}{r^{4}} \\right) \\frac{\\partial}{\\partial r }\\otimes \\mathrm{d} t\\otimes \\mathrm{d} r\\otimes \\mathrm{d} t -\\frac{r_{s}}{2 \\, r} \\frac{\\partial}{\\partial r }\\otimes \\mathrm{d} \\theta\\otimes \\mathrm{d} r\\otimes \\mathrm{d} \\theta + \\frac{r_{s}}{2 \\, r} \\frac{\\partial}{\\partial r }\\otimes \\mathrm{d} \\theta\\otimes \\mathrm{d} \\theta\\otimes \\mathrm{d} r -\\frac{r_{s} \\sin\\left(\\theta\\right)^{2}}{2 \\, r} \\frac{\\partial}{\\partial r }\\otimes \\mathrm{d} \\phi\\otimes \\mathrm{d} r\\otimes \\mathrm{d} \\phi + \\frac{r_{s} \\sin\\left(\\theta\\right)^{2}}{2 \\, r} \\frac{\\partial}{\\partial r }\\otimes \\mathrm{d} \\phi\\otimes \\mathrm{d} \\phi\\otimes \\mathrm{d} r + \\left( -\\frac{c^{2} r r_{s} - c^{2} r_{s}^{2}}{2 \\, r^{4}} \\right) \\frac{\\partial}{\\partial \\theta }\\otimes \\mathrm{d} t\\otimes \\mathrm{d} t\\otimes \\mathrm{d} \\theta + \\left( \\frac{c^{2} r r_{s} - c^{2} r_{s}^{2}}{2 \\, r^{4}} \\right) \\frac{\\partial}{\\partial \\theta }\\otimes \\mathrm{d} t\\otimes \\mathrm{d} \\theta\\otimes \\mathrm{d} t + \\frac{r_{s}}{2 \\, {\\left(r^{3} - r^{2} r_{s}\\right)}} \\frac{\\partial}{\\partial \\theta }\\otimes \\mathrm{d} r\\otimes \\mathrm{d} r\\otimes \\mathrm{d} \\theta -\\frac{r_{s}}{2 \\, {\\left(r^{3} - r^{2} r_{s}\\right)}} \\frac{\\partial}{\\partial \\theta }\\otimes \\mathrm{d} r\\otimes \\mathrm{d} \\theta\\otimes \\mathrm{d} r + \\frac{r_{s} \\sin\\left(\\theta\\right)^{2}}{r} \\frac{\\partial}{\\partial \\theta }\\otimes \\mathrm{d} \\phi\\otimes \\mathrm{d} \\theta\\otimes \\mathrm{d} \\phi -\\frac{r_{s} \\sin\\left(\\theta\\right)^{2}}{r} \\frac{\\partial}{\\partial \\theta }\\otimes \\mathrm{d} \\phi\\otimes \\mathrm{d} \\phi\\otimes \\mathrm{d} \\theta + \\left( -\\frac{c^{2} r r_{s} - c^{2} r_{s}^{2}}{2 \\, r^{4}} \\right) \\frac{\\partial}{\\partial \\phi }\\otimes \\mathrm{d} t\\otimes \\mathrm{d} t\\otimes \\mathrm{d} \\phi + \\left( \\frac{c^{2} r r_{s} - c^{2} r_{s}^{2}}{2 \\, r^{4}} \\right) \\frac{\\partial}{\\partial \\phi }\\otimes \\mathrm{d} t\\otimes \\mathrm{d} \\phi\\otimes \\mathrm{d} t + \\frac{r_{s}}{2 \\, {\\left(r^{3} - r^{2} r_{s}\\right)}} \\frac{\\partial}{\\partial \\phi }\\otimes \\mathrm{d} r\\otimes \\mathrm{d} r\\otimes \\mathrm{d} \\phi -\\frac{r_{s}}{2 \\, {\\left(r^{3} - r^{2} r_{s}\\right)}} \\frac{\\partial}{\\partial \\phi }\\otimes \\mathrm{d} r\\otimes \\mathrm{d} \\phi\\otimes \\mathrm{d} r -\\frac{r_{s}}{r} \\frac{\\partial}{\\partial \\phi }\\otimes \\mathrm{d} \\theta\\otimes \\mathrm{d} \\theta\\otimes \\mathrm{d} \\phi + \\frac{r_{s}}{r} \\frac{\\partial}{\\partial \\phi }\\otimes \\mathrm{d} \\theta\\otimes \\mathrm{d} \\phi\\otimes \\mathrm{d} \\theta"
      ]
     },
     "metadata": {},
     "output_type": "display_data"
    }
   ],
   "source": [
    "#Riemann tensor\n",
    "Riemann_schw=g_schw.riemann()\n",
    "#let's lower the indices\n",
    "final=Riemann_schw.down(g_schw,0)\n",
    "show(latex(final.display_comp( only_nonzero=True)))\n",
    "\n",
    "#other way\n",
    "nabla=g_schw.connection()\n",
    "Riem=nabla.riemann()\n",
    "show(latex(Riem.display()))"
   ]
  },
  {
   "cell_type": "code",
   "execution_count": 7,
   "id": "cd29095b",
   "metadata": {},
   "outputs": [
    {
     "data": {
      "text/html": [
       "<html><script type=\"math/tex; mode=display\">\\newcommand{\\Bold}[1]{\\mathbf{#1}}\\begin{array}{lcl} \\mathrm{Riem}\\left(g_{schwrtzschild}\\right)_{ \\phantom{\\, t} \\, r \\, t \\, r }^{ \\, t \\phantom{\\, r} \\phantom{\\, t} \\phantom{\\, r} } & = & \\frac{r_{s}}{r^{3} - r^{2} r_{s}} \\\\ \\mathrm{Riem}\\left(g_{schwrtzschild}\\right)_{ \\phantom{\\, t} \\, r \\, r \\, t }^{ \\, t \\phantom{\\, r} \\phantom{\\, r} \\phantom{\\, t} } & = & -\\frac{r_{s}}{r^{3} - r^{2} r_{s}} \\\\ \\mathrm{Riem}\\left(g_{schwrtzschild}\\right)_{ \\phantom{\\, t} \\, \\theta \\, t \\, \\theta }^{ \\, t \\phantom{\\, \\theta} \\phantom{\\, t} \\phantom{\\, \\theta} } & = & -\\frac{r_{s}}{2 \\, r} \\\\ \\mathrm{Riem}\\left(g_{schwrtzschild}\\right)_{ \\phantom{\\, t} \\, \\theta \\, \\theta \\, t }^{ \\, t \\phantom{\\, \\theta} \\phantom{\\, \\theta} \\phantom{\\, t} } & = & \\frac{r_{s}}{2 \\, r} \\\\ \\mathrm{Riem}\\left(g_{schwrtzschild}\\right)_{ \\phantom{\\, t} \\, \\phi \\, t \\, \\phi }^{ \\, t \\phantom{\\, \\phi} \\phantom{\\, t} \\phantom{\\, \\phi} } & = & -\\frac{r_{s} \\sin\\left(\\theta\\right)^{2}}{2 \\, r} \\\\ \\mathrm{Riem}\\left(g_{schwrtzschild}\\right)_{ \\phantom{\\, t} \\, \\phi \\, \\phi \\, t }^{ \\, t \\phantom{\\, \\phi} \\phantom{\\, \\phi} \\phantom{\\, t} } & = & \\frac{r_{s} \\sin\\left(\\theta\\right)^{2}}{2 \\, r} \\\\ \\mathrm{Riem}\\left(g_{schwrtzschild}\\right)_{ \\phantom{\\, r} \\, t \\, t \\, r }^{ \\, r \\phantom{\\, t} \\phantom{\\, t} \\phantom{\\, r} } & = & \\frac{c^{2} r r_{s} - c^{2} r_{s}^{2}}{r^{4}} \\\\ \\mathrm{Riem}\\left(g_{schwrtzschild}\\right)_{ \\phantom{\\, r} \\, t \\, r \\, t }^{ \\, r \\phantom{\\, t} \\phantom{\\, r} \\phantom{\\, t} } & = & -\\frac{c^{2} r r_{s} - c^{2} r_{s}^{2}}{r^{4}} \\\\ \\mathrm{Riem}\\left(g_{schwrtzschild}\\right)_{ \\phantom{\\, r} \\, \\theta \\, r \\, \\theta }^{ \\, r \\phantom{\\, \\theta} \\phantom{\\, r} \\phantom{\\, \\theta} } & = & -\\frac{r_{s}}{2 \\, r} \\\\ \\mathrm{Riem}\\left(g_{schwrtzschild}\\right)_{ \\phantom{\\, r} \\, \\theta \\, \\theta \\, r }^{ \\, r \\phantom{\\, \\theta} \\phantom{\\, \\theta} \\phantom{\\, r} } & = & \\frac{r_{s}}{2 \\, r} \\\\ \\mathrm{Riem}\\left(g_{schwrtzschild}\\right)_{ \\phantom{\\, r} \\, \\phi \\, r \\, \\phi }^{ \\, r \\phantom{\\, \\phi} \\phantom{\\, r} \\phantom{\\, \\phi} } & = & -\\frac{r_{s} \\sin\\left(\\theta\\right)^{2}}{2 \\, r} \\\\ \\mathrm{Riem}\\left(g_{schwrtzschild}\\right)_{ \\phantom{\\, r} \\, \\phi \\, \\phi \\, r }^{ \\, r \\phantom{\\, \\phi} \\phantom{\\, \\phi} \\phantom{\\, r} } & = & \\frac{r_{s} \\sin\\left(\\theta\\right)^{2}}{2 \\, r} \\\\ \\mathrm{Riem}\\left(g_{schwrtzschild}\\right)_{ \\phantom{\\, \\theta} \\, t \\, t \\, \\theta }^{ \\, \\theta \\phantom{\\, t} \\phantom{\\, t} \\phantom{\\, \\theta} } & = & -\\frac{c^{2} r r_{s} - c^{2} r_{s}^{2}}{2 \\, r^{4}} \\\\ \\mathrm{Riem}\\left(g_{schwrtzschild}\\right)_{ \\phantom{\\, \\theta} \\, t \\, \\theta \\, t }^{ \\, \\theta \\phantom{\\, t} \\phantom{\\, \\theta} \\phantom{\\, t} } & = & \\frac{c^{2} r r_{s} - c^{2} r_{s}^{2}}{2 \\, r^{4}} \\\\ \\mathrm{Riem}\\left(g_{schwrtzschild}\\right)_{ \\phantom{\\, \\theta} \\, r \\, r \\, \\theta }^{ \\, \\theta \\phantom{\\, r} \\phantom{\\, r} \\phantom{\\, \\theta} } & = & \\frac{r_{s}}{2 \\, {\\left(r^{3} - r^{2} r_{s}\\right)}} \\\\ \\mathrm{Riem}\\left(g_{schwrtzschild}\\right)_{ \\phantom{\\, \\theta} \\, r \\, \\theta \\, r }^{ \\, \\theta \\phantom{\\, r} \\phantom{\\, \\theta} \\phantom{\\, r} } & = & -\\frac{r_{s}}{2 \\, {\\left(r^{3} - r^{2} r_{s}\\right)}} \\\\ \\mathrm{Riem}\\left(g_{schwrtzschild}\\right)_{ \\phantom{\\, \\theta} \\, \\phi \\, \\theta \\, \\phi }^{ \\, \\theta \\phantom{\\, \\phi} \\phantom{\\, \\theta} \\phantom{\\, \\phi} } & = & \\frac{r_{s} \\sin\\left(\\theta\\right)^{2}}{r} \\\\ \\mathrm{Riem}\\left(g_{schwrtzschild}\\right)_{ \\phantom{\\, \\theta} \\, \\phi \\, \\phi \\, \\theta }^{ \\, \\theta \\phantom{\\, \\phi} \\phantom{\\, \\phi} \\phantom{\\, \\theta} } & = & -\\frac{r_{s} \\sin\\left(\\theta\\right)^{2}}{r} \\\\ \\mathrm{Riem}\\left(g_{schwrtzschild}\\right)_{ \\phantom{\\, \\phi} \\, t \\, t \\, \\phi }^{ \\, \\phi \\phantom{\\, t} \\phantom{\\, t} \\phantom{\\, \\phi} } & = & -\\frac{c^{2} r r_{s} - c^{2} r_{s}^{2}}{2 \\, r^{4}} \\\\ \\mathrm{Riem}\\left(g_{schwrtzschild}\\right)_{ \\phantom{\\, \\phi} \\, t \\, \\phi \\, t }^{ \\, \\phi \\phantom{\\, t} \\phantom{\\, \\phi} \\phantom{\\, t} } & = & \\frac{c^{2} r r_{s} - c^{2} r_{s}^{2}}{2 \\, r^{4}} \\\\ \\mathrm{Riem}\\left(g_{schwrtzschild}\\right)_{ \\phantom{\\, \\phi} \\, r \\, r \\, \\phi }^{ \\, \\phi \\phantom{\\, r} \\phantom{\\, r} \\phantom{\\, \\phi} } & = & \\frac{r_{s}}{2 \\, {\\left(r^{3} - r^{2} r_{s}\\right)}} \\\\ \\mathrm{Riem}\\left(g_{schwrtzschild}\\right)_{ \\phantom{\\, \\phi} \\, r \\, \\phi \\, r }^{ \\, \\phi \\phantom{\\, r} \\phantom{\\, \\phi} \\phantom{\\, r} } & = & -\\frac{r_{s}}{2 \\, {\\left(r^{3} - r^{2} r_{s}\\right)}} \\\\ \\mathrm{Riem}\\left(g_{schwrtzschild}\\right)_{ \\phantom{\\, \\phi} \\, \\theta \\, \\theta \\, \\phi }^{ \\, \\phi \\phantom{\\, \\theta} \\phantom{\\, \\theta} \\phantom{\\, \\phi} } & = & -\\frac{r_{s}}{r} \\\\ \\mathrm{Riem}\\left(g_{schwrtzschild}\\right)_{ \\phantom{\\, \\phi} \\, \\theta \\, \\phi \\, \\theta }^{ \\, \\phi \\phantom{\\, \\theta} \\phantom{\\, \\phi} \\phantom{\\, \\theta} } & = & \\frac{r_{s}}{r} \\end{array}</script></html>"
      ],
      "text/latex": [
       "$$\\newcommand{\\Bold}[1]{\\mathbf{#1}}\\begin{array}{lcl} \\mathrm{Riem}\\left(g_{schwrtzschild}\\right)_{ \\phantom{\\, t} \\, r \\, t \\, r }^{ \\, t \\phantom{\\, r} \\phantom{\\, t} \\phantom{\\, r} } & = & \\frac{r_{s}}{r^{3} - r^{2} r_{s}} \\\\ \\mathrm{Riem}\\left(g_{schwrtzschild}\\right)_{ \\phantom{\\, t} \\, r \\, r \\, t }^{ \\, t \\phantom{\\, r} \\phantom{\\, r} \\phantom{\\, t} } & = & -\\frac{r_{s}}{r^{3} - r^{2} r_{s}} \\\\ \\mathrm{Riem}\\left(g_{schwrtzschild}\\right)_{ \\phantom{\\, t} \\, \\theta \\, t \\, \\theta }^{ \\, t \\phantom{\\, \\theta} \\phantom{\\, t} \\phantom{\\, \\theta} } & = & -\\frac{r_{s}}{2 \\, r} \\\\ \\mathrm{Riem}\\left(g_{schwrtzschild}\\right)_{ \\phantom{\\, t} \\, \\theta \\, \\theta \\, t }^{ \\, t \\phantom{\\, \\theta} \\phantom{\\, \\theta} \\phantom{\\, t} } & = & \\frac{r_{s}}{2 \\, r} \\\\ \\mathrm{Riem}\\left(g_{schwrtzschild}\\right)_{ \\phantom{\\, t} \\, \\phi \\, t \\, \\phi }^{ \\, t \\phantom{\\, \\phi} \\phantom{\\, t} \\phantom{\\, \\phi} } & = & -\\frac{r_{s} \\sin\\left(\\theta\\right)^{2}}{2 \\, r} \\\\ \\mathrm{Riem}\\left(g_{schwrtzschild}\\right)_{ \\phantom{\\, t} \\, \\phi \\, \\phi \\, t }^{ \\, t \\phantom{\\, \\phi} \\phantom{\\, \\phi} \\phantom{\\, t} } & = & \\frac{r_{s} \\sin\\left(\\theta\\right)^{2}}{2 \\, r} \\\\ \\mathrm{Riem}\\left(g_{schwrtzschild}\\right)_{ \\phantom{\\, r} \\, t \\, t \\, r }^{ \\, r \\phantom{\\, t} \\phantom{\\, t} \\phantom{\\, r} } & = & \\frac{c^{2} r r_{s} - c^{2} r_{s}^{2}}{r^{4}} \\\\ \\mathrm{Riem}\\left(g_{schwrtzschild}\\right)_{ \\phantom{\\, r} \\, t \\, r \\, t }^{ \\, r \\phantom{\\, t} \\phantom{\\, r} \\phantom{\\, t} } & = & -\\frac{c^{2} r r_{s} - c^{2} r_{s}^{2}}{r^{4}} \\\\ \\mathrm{Riem}\\left(g_{schwrtzschild}\\right)_{ \\phantom{\\, r} \\, \\theta \\, r \\, \\theta }^{ \\, r \\phantom{\\, \\theta} \\phantom{\\, r} \\phantom{\\, \\theta} } & = & -\\frac{r_{s}}{2 \\, r} \\\\ \\mathrm{Riem}\\left(g_{schwrtzschild}\\right)_{ \\phantom{\\, r} \\, \\theta \\, \\theta \\, r }^{ \\, r \\phantom{\\, \\theta} \\phantom{\\, \\theta} \\phantom{\\, r} } & = & \\frac{r_{s}}{2 \\, r} \\\\ \\mathrm{Riem}\\left(g_{schwrtzschild}\\right)_{ \\phantom{\\, r} \\, \\phi \\, r \\, \\phi }^{ \\, r \\phantom{\\, \\phi} \\phantom{\\, r} \\phantom{\\, \\phi} } & = & -\\frac{r_{s} \\sin\\left(\\theta\\right)^{2}}{2 \\, r} \\\\ \\mathrm{Riem}\\left(g_{schwrtzschild}\\right)_{ \\phantom{\\, r} \\, \\phi \\, \\phi \\, r }^{ \\, r \\phantom{\\, \\phi} \\phantom{\\, \\phi} \\phantom{\\, r} } & = & \\frac{r_{s} \\sin\\left(\\theta\\right)^{2}}{2 \\, r} \\\\ \\mathrm{Riem}\\left(g_{schwrtzschild}\\right)_{ \\phantom{\\, \\theta} \\, t \\, t \\, \\theta }^{ \\, \\theta \\phantom{\\, t} \\phantom{\\, t} \\phantom{\\, \\theta} } & = & -\\frac{c^{2} r r_{s} - c^{2} r_{s}^{2}}{2 \\, r^{4}} \\\\ \\mathrm{Riem}\\left(g_{schwrtzschild}\\right)_{ \\phantom{\\, \\theta} \\, t \\, \\theta \\, t }^{ \\, \\theta \\phantom{\\, t} \\phantom{\\, \\theta} \\phantom{\\, t} } & = & \\frac{c^{2} r r_{s} - c^{2} r_{s}^{2}}{2 \\, r^{4}} \\\\ \\mathrm{Riem}\\left(g_{schwrtzschild}\\right)_{ \\phantom{\\, \\theta} \\, r \\, r \\, \\theta }^{ \\, \\theta \\phantom{\\, r} \\phantom{\\, r} \\phantom{\\, \\theta} } & = & \\frac{r_{s}}{2 \\, {\\left(r^{3} - r^{2} r_{s}\\right)}} \\\\ \\mathrm{Riem}\\left(g_{schwrtzschild}\\right)_{ \\phantom{\\, \\theta} \\, r \\, \\theta \\, r }^{ \\, \\theta \\phantom{\\, r} \\phantom{\\, \\theta} \\phantom{\\, r} } & = & -\\frac{r_{s}}{2 \\, {\\left(r^{3} - r^{2} r_{s}\\right)}} \\\\ \\mathrm{Riem}\\left(g_{schwrtzschild}\\right)_{ \\phantom{\\, \\theta} \\, \\phi \\, \\theta \\, \\phi }^{ \\, \\theta \\phantom{\\, \\phi} \\phantom{\\, \\theta} \\phantom{\\, \\phi} } & = & \\frac{r_{s} \\sin\\left(\\theta\\right)^{2}}{r} \\\\ \\mathrm{Riem}\\left(g_{schwrtzschild}\\right)_{ \\phantom{\\, \\theta} \\, \\phi \\, \\phi \\, \\theta }^{ \\, \\theta \\phantom{\\, \\phi} \\phantom{\\, \\phi} \\phantom{\\, \\theta} } & = & -\\frac{r_{s} \\sin\\left(\\theta\\right)^{2}}{r} \\\\ \\mathrm{Riem}\\left(g_{schwrtzschild}\\right)_{ \\phantom{\\, \\phi} \\, t \\, t \\, \\phi }^{ \\, \\phi \\phantom{\\, t} \\phantom{\\, t} \\phantom{\\, \\phi} } & = & -\\frac{c^{2} r r_{s} - c^{2} r_{s}^{2}}{2 \\, r^{4}} \\\\ \\mathrm{Riem}\\left(g_{schwrtzschild}\\right)_{ \\phantom{\\, \\phi} \\, t \\, \\phi \\, t }^{ \\, \\phi \\phantom{\\, t} \\phantom{\\, \\phi} \\phantom{\\, t} } & = & \\frac{c^{2} r r_{s} - c^{2} r_{s}^{2}}{2 \\, r^{4}} \\\\ \\mathrm{Riem}\\left(g_{schwrtzschild}\\right)_{ \\phantom{\\, \\phi} \\, r \\, r \\, \\phi }^{ \\, \\phi \\phantom{\\, r} \\phantom{\\, r} \\phantom{\\, \\phi} } & = & \\frac{r_{s}}{2 \\, {\\left(r^{3} - r^{2} r_{s}\\right)}} \\\\ \\mathrm{Riem}\\left(g_{schwrtzschild}\\right)_{ \\phantom{\\, \\phi} \\, r \\, \\phi \\, r }^{ \\, \\phi \\phantom{\\, r} \\phantom{\\, \\phi} \\phantom{\\, r} } & = & -\\frac{r_{s}}{2 \\, {\\left(r^{3} - r^{2} r_{s}\\right)}} \\\\ \\mathrm{Riem}\\left(g_{schwrtzschild}\\right)_{ \\phantom{\\, \\phi} \\, \\theta \\, \\theta \\, \\phi }^{ \\, \\phi \\phantom{\\, \\theta} \\phantom{\\, \\theta} \\phantom{\\, \\phi} } & = & -\\frac{r_{s}}{r} \\\\ \\mathrm{Riem}\\left(g_{schwrtzschild}\\right)_{ \\phantom{\\, \\phi} \\, \\theta \\, \\phi \\, \\theta }^{ \\, \\phi \\phantom{\\, \\theta} \\phantom{\\, \\phi} \\phantom{\\, \\theta} } & = & \\frac{r_{s}}{r} \\end{array}$$"
      ],
      "text/plain": [
       "\\begin{array}{lcl} \\mathrm{Riem}\\left(g_{schwrtzschild}\\right)_{ \\phantom{\\, t} \\, r \\, t \\, r }^{ \\, t \\phantom{\\, r} \\phantom{\\, t} \\phantom{\\, r} } & = & \\frac{r_{s}}{r^{3} - r^{2} r_{s}} \\\\ \\mathrm{Riem}\\left(g_{schwrtzschild}\\right)_{ \\phantom{\\, t} \\, r \\, r \\, t }^{ \\, t \\phantom{\\, r} \\phantom{\\, r} \\phantom{\\, t} } & = & -\\frac{r_{s}}{r^{3} - r^{2} r_{s}} \\\\ \\mathrm{Riem}\\left(g_{schwrtzschild}\\right)_{ \\phantom{\\, t} \\, \\theta \\, t \\, \\theta }^{ \\, t \\phantom{\\, \\theta} \\phantom{\\, t} \\phantom{\\, \\theta} } & = & -\\frac{r_{s}}{2 \\, r} \\\\ \\mathrm{Riem}\\left(g_{schwrtzschild}\\right)_{ \\phantom{\\, t} \\, \\theta \\, \\theta \\, t }^{ \\, t \\phantom{\\, \\theta} \\phantom{\\, \\theta} \\phantom{\\, t} } & = & \\frac{r_{s}}{2 \\, r} \\\\ \\mathrm{Riem}\\left(g_{schwrtzschild}\\right)_{ \\phantom{\\, t} \\, \\phi \\, t \\, \\phi }^{ \\, t \\phantom{\\, \\phi} \\phantom{\\, t} \\phantom{\\, \\phi} } & = & -\\frac{r_{s} \\sin\\left(\\theta\\right)^{2}}{2 \\, r} \\\\ \\mathrm{Riem}\\left(g_{schwrtzschild}\\right)_{ \\phantom{\\, t} \\, \\phi \\, \\phi \\, t }^{ \\, t \\phantom{\\, \\phi} \\phantom{\\, \\phi} \\phantom{\\, t} } & = & \\frac{r_{s} \\sin\\left(\\theta\\right)^{2}}{2 \\, r} \\\\ \\mathrm{Riem}\\left(g_{schwrtzschild}\\right)_{ \\phantom{\\, r} \\, t \\, t \\, r }^{ \\, r \\phantom{\\, t} \\phantom{\\, t} \\phantom{\\, r} } & = & \\frac{c^{2} r r_{s} - c^{2} r_{s}^{2}}{r^{4}} \\\\ \\mathrm{Riem}\\left(g_{schwrtzschild}\\right)_{ \\phantom{\\, r} \\, t \\, r \\, t }^{ \\, r \\phantom{\\, t} \\phantom{\\, r} \\phantom{\\, t} } & = & -\\frac{c^{2} r r_{s} - c^{2} r_{s}^{2}}{r^{4}} \\\\ \\mathrm{Riem}\\left(g_{schwrtzschild}\\right)_{ \\phantom{\\, r} \\, \\theta \\, r \\, \\theta }^{ \\, r \\phantom{\\, \\theta} \\phantom{\\, r} \\phantom{\\, \\theta} } & = & -\\frac{r_{s}}{2 \\, r} \\\\ \\mathrm{Riem}\\left(g_{schwrtzschild}\\right)_{ \\phantom{\\, r} \\, \\theta \\, \\theta \\, r }^{ \\, r \\phantom{\\, \\theta} \\phantom{\\, \\theta} \\phantom{\\, r} } & = & \\frac{r_{s}}{2 \\, r} \\\\ \\mathrm{Riem}\\left(g_{schwrtzschild}\\right)_{ \\phantom{\\, r} \\, \\phi \\, r \\, \\phi }^{ \\, r \\phantom{\\, \\phi} \\phantom{\\, r} \\phantom{\\, \\phi} } & = & -\\frac{r_{s} \\sin\\left(\\theta\\right)^{2}}{2 \\, r} \\\\ \\mathrm{Riem}\\left(g_{schwrtzschild}\\right)_{ \\phantom{\\, r} \\, \\phi \\, \\phi \\, r }^{ \\, r \\phantom{\\, \\phi} \\phantom{\\, \\phi} \\phantom{\\, r} } & = & \\frac{r_{s} \\sin\\left(\\theta\\right)^{2}}{2 \\, r} \\\\ \\mathrm{Riem}\\left(g_{schwrtzschild}\\right)_{ \\phantom{\\, \\theta} \\, t \\, t \\, \\theta }^{ \\, \\theta \\phantom{\\, t} \\phantom{\\, t} \\phantom{\\, \\theta} } & = & -\\frac{c^{2} r r_{s} - c^{2} r_{s}^{2}}{2 \\, r^{4}} \\\\ \\mathrm{Riem}\\left(g_{schwrtzschild}\\right)_{ \\phantom{\\, \\theta} \\, t \\, \\theta \\, t }^{ \\, \\theta \\phantom{\\, t} \\phantom{\\, \\theta} \\phantom{\\, t} } & = & \\frac{c^{2} r r_{s} - c^{2} r_{s}^{2}}{2 \\, r^{4}} \\\\ \\mathrm{Riem}\\left(g_{schwrtzschild}\\right)_{ \\phantom{\\, \\theta} \\, r \\, r \\, \\theta }^{ \\, \\theta \\phantom{\\, r} \\phantom{\\, r} \\phantom{\\, \\theta} } & = & \\frac{r_{s}}{2 \\, {\\left(r^{3} - r^{2} r_{s}\\right)}} \\\\ \\mathrm{Riem}\\left(g_{schwrtzschild}\\right)_{ \\phantom{\\, \\theta} \\, r \\, \\theta \\, r }^{ \\, \\theta \\phantom{\\, r} \\phantom{\\, \\theta} \\phantom{\\, r} } & = & -\\frac{r_{s}}{2 \\, {\\left(r^{3} - r^{2} r_{s}\\right)}} \\\\ \\mathrm{Riem}\\left(g_{schwrtzschild}\\right)_{ \\phantom{\\, \\theta} \\, \\phi \\, \\theta \\, \\phi }^{ \\, \\theta \\phantom{\\, \\phi} \\phantom{\\, \\theta} \\phantom{\\, \\phi} } & = & \\frac{r_{s} \\sin\\left(\\theta\\right)^{2}}{r} \\\\ \\mathrm{Riem}\\left(g_{schwrtzschild}\\right)_{ \\phantom{\\, \\theta} \\, \\phi \\, \\phi \\, \\theta }^{ \\, \\theta \\phantom{\\, \\phi} \\phantom{\\, \\phi} \\phantom{\\, \\theta} } & = & -\\frac{r_{s} \\sin\\left(\\theta\\right)^{2}}{r} \\\\ \\mathrm{Riem}\\left(g_{schwrtzschild}\\right)_{ \\phantom{\\, \\phi} \\, t \\, t \\, \\phi }^{ \\, \\phi \\phantom{\\, t} \\phantom{\\, t} \\phantom{\\, \\phi} } & = & -\\frac{c^{2} r r_{s} - c^{2} r_{s}^{2}}{2 \\, r^{4}} \\\\ \\mathrm{Riem}\\left(g_{schwrtzschild}\\right)_{ \\phantom{\\, \\phi} \\, t \\, \\phi \\, t }^{ \\, \\phi \\phantom{\\, t} \\phantom{\\, \\phi} \\phantom{\\, t} } & = & \\frac{c^{2} r r_{s} - c^{2} r_{s}^{2}}{2 \\, r^{4}} \\\\ \\mathrm{Riem}\\left(g_{schwrtzschild}\\right)_{ \\phantom{\\, \\phi} \\, r \\, r \\, \\phi }^{ \\, \\phi \\phantom{\\, r} \\phantom{\\, r} \\phantom{\\, \\phi} } & = & \\frac{r_{s}}{2 \\, {\\left(r^{3} - r^{2} r_{s}\\right)}} \\\\ \\mathrm{Riem}\\left(g_{schwrtzschild}\\right)_{ \\phantom{\\, \\phi} \\, r \\, \\phi \\, r }^{ \\, \\phi \\phantom{\\, r} \\phantom{\\, \\phi} \\phantom{\\, r} } & = & -\\frac{r_{s}}{2 \\, {\\left(r^{3} - r^{2} r_{s}\\right)}} \\\\ \\mathrm{Riem}\\left(g_{schwrtzschild}\\right)_{ \\phantom{\\, \\phi} \\, \\theta \\, \\theta \\, \\phi }^{ \\, \\phi \\phantom{\\, \\theta} \\phantom{\\, \\theta} \\phantom{\\, \\phi} } & = & -\\frac{r_{s}}{r} \\\\ \\mathrm{Riem}\\left(g_{schwrtzschild}\\right)_{ \\phantom{\\, \\phi} \\, \\theta \\, \\phi \\, \\theta }^{ \\, \\phi \\phantom{\\, \\theta} \\phantom{\\, \\phi} \\phantom{\\, \\theta} } & = & \\frac{r_{s}}{r} \\end{array}"
      ]
     },
     "metadata": {},
     "output_type": "display_data"
    }
   ],
   "source": [
    "#Riemann tensor\n",
    "Riemann_schw=g_schw.riemann()\n",
    "show(latex(Riemann_schw.display_comp( only_nonzero=True)))\n"
   ]
  },
  {
   "cell_type": "code",
   "execution_count": 9,
   "id": "909ba0da",
   "metadata": {},
   "outputs": [
    {
     "data": {
      "text/html": [
       "<html><script type=\"math/tex; mode=display\">\\newcommand{\\Bold}[1]{\\mathbf{#1}}\\left(\\begin{array}{rrrr}\n",
       "0 & 0 & 0 & 0 \\\\\n",
       "0 & 0 & 0 & 0 \\\\\n",
       "0 & 0 & 0 & 0 \\\\\n",
       "0 & 0 & 0 & 0\n",
       "\\end{array}\\right)</script></html>"
      ],
      "text/latex": [
       "$$\\newcommand{\\Bold}[1]{\\mathbf{#1}}\\left(\\begin{array}{rrrr}\n",
       "0 & 0 & 0 & 0 \\\\\n",
       "0 & 0 & 0 & 0 \\\\\n",
       "0 & 0 & 0 & 0 \\\\\n",
       "0 & 0 & 0 & 0\n",
       "\\end{array}\\right)$$"
      ],
      "text/plain": [
       "\\left(\\begin{array}{rrrr}\n",
       "0 & 0 & 0 & 0 \\\\\n",
       "0 & 0 & 0 & 0 \\\\\n",
       "0 & 0 & 0 & 0 \\\\\n",
       "0 & 0 & 0 & 0\n",
       "\\end{array}\\right)"
      ]
     },
     "metadata": {},
     "output_type": "display_data"
    },
    {
     "data": {
      "text/html": [
       "<html><script type=\"math/tex; mode=display\">\\newcommand{\\Bold}[1]{\\mathbf{#1}}\\mathrm{Ric}\\left(g_{schwrtzschild}\\right) = 0</script></html>"
      ],
      "text/latex": [
       "$$\\newcommand{\\Bold}[1]{\\mathbf{#1}}\\mathrm{Ric}\\left(g_{schwrtzschild}\\right) = 0$$"
      ],
      "text/plain": [
       "\\mathrm{Ric}\\left(g_{schwrtzschild}\\right) = 0"
      ]
     },
     "metadata": {},
     "output_type": "display_data"
    }
   ],
   "source": [
    "#Ricci tensor\n",
    "Ricci_schw=g_schw.ricci()\n",
    "Ricci_schw.display()\n",
    "show(latex(Ricci_schw[:]))\n",
    "\n",
    "\n",
    "\n",
    "#other way\n",
    "Ric_schw=nabla.ricci()\n",
    "show(latex(Ric_schw.display()))"
   ]
  },
  {
   "cell_type": "code",
   "execution_count": 10,
   "id": "3d6c7fd3",
   "metadata": {},
   "outputs": [
    {
     "data": {
      "text/html": [
       "<html><script type=\"math/tex; mode=display\">\\newcommand{\\Bold}[1]{\\mathbf{#1}}\\left(\\begin{array}{rrrr}\n",
       "0 & 0 & 0 & 0 \\\\\n",
       "0 & 0 & 0 & 0 \\\\\n",
       "0 & 0 & 0 & 0 \\\\\n",
       "0 & 0 & 0 & 0\n",
       "\\end{array}\\right)</script></html>"
      ],
      "text/latex": [
       "$$\\newcommand{\\Bold}[1]{\\mathbf{#1}}\\left(\\begin{array}{rrrr}\n",
       "0 & 0 & 0 & 0 \\\\\n",
       "0 & 0 & 0 & 0 \\\\\n",
       "0 & 0 & 0 & 0 \\\\\n",
       "0 & 0 & 0 & 0\n",
       "\\end{array}\\right)$$"
      ],
      "text/plain": [
       "[0 0 0 0]\n",
       "[0 0 0 0]\n",
       "[0 0 0 0]\n",
       "[0 0 0 0]"
      ]
     },
     "execution_count": 10,
     "metadata": {},
     "output_type": "execute_result"
    }
   ],
   "source": [
    "Ricci_schw[:]"
   ]
  },
  {
   "cell_type": "code",
   "execution_count": 12,
   "id": "fcc80563",
   "metadata": {},
   "outputs": [
    {
     "data": {
      "text/html": [
       "<html><script type=\"math/tex; mode=display\">\\newcommand{\\Bold}[1]{\\mathbf{#1}}\\mathrm{C}\\left(g_{schwrtzschild}\\right) = \\left( \\frac{r_{s}}{r^{3} - r^{2} r_{s}} \\right) \\frac{\\partial}{\\partial t }\\otimes \\mathrm{d} r\\otimes \\mathrm{d} t\\otimes \\mathrm{d} r + \\left( -\\frac{r_{s}}{r^{3} - r^{2} r_{s}} \\right) \\frac{\\partial}{\\partial t }\\otimes \\mathrm{d} r\\otimes \\mathrm{d} r\\otimes \\mathrm{d} t -\\frac{r_{s}}{2 \\, r} \\frac{\\partial}{\\partial t }\\otimes \\mathrm{d} \\theta\\otimes \\mathrm{d} t\\otimes \\mathrm{d} \\theta + \\frac{r_{s}}{2 \\, r} \\frac{\\partial}{\\partial t }\\otimes \\mathrm{d} \\theta\\otimes \\mathrm{d} \\theta\\otimes \\mathrm{d} t -\\frac{r_{s} \\sin\\left(\\theta\\right)^{2}}{2 \\, r} \\frac{\\partial}{\\partial t }\\otimes \\mathrm{d} \\phi\\otimes \\mathrm{d} t\\otimes \\mathrm{d} \\phi + \\frac{r_{s} \\sin\\left(\\theta\\right)^{2}}{2 \\, r} \\frac{\\partial}{\\partial t }\\otimes \\mathrm{d} \\phi\\otimes \\mathrm{d} \\phi\\otimes \\mathrm{d} t + \\left( \\frac{c^{2} r r_{s} - c^{2} r_{s}^{2}}{r^{4}} \\right) \\frac{\\partial}{\\partial r }\\otimes \\mathrm{d} t\\otimes \\mathrm{d} t\\otimes \\mathrm{d} r + \\left( -\\frac{c^{2} r r_{s} - c^{2} r_{s}^{2}}{r^{4}} \\right) \\frac{\\partial}{\\partial r }\\otimes \\mathrm{d} t\\otimes \\mathrm{d} r\\otimes \\mathrm{d} t -\\frac{r_{s}}{2 \\, r} \\frac{\\partial}{\\partial r }\\otimes \\mathrm{d} \\theta\\otimes \\mathrm{d} r\\otimes \\mathrm{d} \\theta + \\frac{r_{s}}{2 \\, r} \\frac{\\partial}{\\partial r }\\otimes \\mathrm{d} \\theta\\otimes \\mathrm{d} \\theta\\otimes \\mathrm{d} r -\\frac{r_{s} \\sin\\left(\\theta\\right)^{2}}{2 \\, r} \\frac{\\partial}{\\partial r }\\otimes \\mathrm{d} \\phi\\otimes \\mathrm{d} r\\otimes \\mathrm{d} \\phi + \\frac{r_{s} \\sin\\left(\\theta\\right)^{2}}{2 \\, r} \\frac{\\partial}{\\partial r }\\otimes \\mathrm{d} \\phi\\otimes \\mathrm{d} \\phi\\otimes \\mathrm{d} r + \\left( -\\frac{c^{2} r r_{s} - c^{2} r_{s}^{2}}{2 \\, r^{4}} \\right) \\frac{\\partial}{\\partial \\theta }\\otimes \\mathrm{d} t\\otimes \\mathrm{d} t\\otimes \\mathrm{d} \\theta + \\left( \\frac{c^{2} r r_{s} - c^{2} r_{s}^{2}}{2 \\, r^{4}} \\right) \\frac{\\partial}{\\partial \\theta }\\otimes \\mathrm{d} t\\otimes \\mathrm{d} \\theta\\otimes \\mathrm{d} t + \\frac{r_{s}}{2 \\, {\\left(r^{3} - r^{2} r_{s}\\right)}} \\frac{\\partial}{\\partial \\theta }\\otimes \\mathrm{d} r\\otimes \\mathrm{d} r\\otimes \\mathrm{d} \\theta -\\frac{r_{s}}{2 \\, {\\left(r^{3} - r^{2} r_{s}\\right)}} \\frac{\\partial}{\\partial \\theta }\\otimes \\mathrm{d} r\\otimes \\mathrm{d} \\theta\\otimes \\mathrm{d} r + \\frac{r_{s} \\sin\\left(\\theta\\right)^{2}}{r} \\frac{\\partial}{\\partial \\theta }\\otimes \\mathrm{d} \\phi\\otimes \\mathrm{d} \\theta\\otimes \\mathrm{d} \\phi -\\frac{r_{s} \\sin\\left(\\theta\\right)^{2}}{r} \\frac{\\partial}{\\partial \\theta }\\otimes \\mathrm{d} \\phi\\otimes \\mathrm{d} \\phi\\otimes \\mathrm{d} \\theta + \\left( -\\frac{c^{2} r r_{s} - c^{2} r_{s}^{2}}{2 \\, r^{4}} \\right) \\frac{\\partial}{\\partial \\phi }\\otimes \\mathrm{d} t\\otimes \\mathrm{d} t\\otimes \\mathrm{d} \\phi + \\left( \\frac{c^{2} r r_{s} - c^{2} r_{s}^{2}}{2 \\, r^{4}} \\right) \\frac{\\partial}{\\partial \\phi }\\otimes \\mathrm{d} t\\otimes \\mathrm{d} \\phi\\otimes \\mathrm{d} t + \\frac{r_{s}}{2 \\, {\\left(r^{3} - r^{2} r_{s}\\right)}} \\frac{\\partial}{\\partial \\phi }\\otimes \\mathrm{d} r\\otimes \\mathrm{d} r\\otimes \\mathrm{d} \\phi -\\frac{r_{s}}{2 \\, {\\left(r^{3} - r^{2} r_{s}\\right)}} \\frac{\\partial}{\\partial \\phi }\\otimes \\mathrm{d} r\\otimes \\mathrm{d} \\phi\\otimes \\mathrm{d} r -\\frac{r_{s}}{r} \\frac{\\partial}{\\partial \\phi }\\otimes \\mathrm{d} \\theta\\otimes \\mathrm{d} \\theta\\otimes \\mathrm{d} \\phi + \\frac{r_{s}}{r} \\frac{\\partial}{\\partial \\phi }\\otimes \\mathrm{d} \\theta\\otimes \\mathrm{d} \\phi\\otimes \\mathrm{d} \\theta</script></html>"
      ],
      "text/latex": [
       "$$\\newcommand{\\Bold}[1]{\\mathbf{#1}}\\mathrm{C}\\left(g_{schwrtzschild}\\right) = \\left( \\frac{r_{s}}{r^{3} - r^{2} r_{s}} \\right) \\frac{\\partial}{\\partial t }\\otimes \\mathrm{d} r\\otimes \\mathrm{d} t\\otimes \\mathrm{d} r + \\left( -\\frac{r_{s}}{r^{3} - r^{2} r_{s}} \\right) \\frac{\\partial}{\\partial t }\\otimes \\mathrm{d} r\\otimes \\mathrm{d} r\\otimes \\mathrm{d} t -\\frac{r_{s}}{2 \\, r} \\frac{\\partial}{\\partial t }\\otimes \\mathrm{d} \\theta\\otimes \\mathrm{d} t\\otimes \\mathrm{d} \\theta + \\frac{r_{s}}{2 \\, r} \\frac{\\partial}{\\partial t }\\otimes \\mathrm{d} \\theta\\otimes \\mathrm{d} \\theta\\otimes \\mathrm{d} t -\\frac{r_{s} \\sin\\left(\\theta\\right)^{2}}{2 \\, r} \\frac{\\partial}{\\partial t }\\otimes \\mathrm{d} \\phi\\otimes \\mathrm{d} t\\otimes \\mathrm{d} \\phi + \\frac{r_{s} \\sin\\left(\\theta\\right)^{2}}{2 \\, r} \\frac{\\partial}{\\partial t }\\otimes \\mathrm{d} \\phi\\otimes \\mathrm{d} \\phi\\otimes \\mathrm{d} t + \\left( \\frac{c^{2} r r_{s} - c^{2} r_{s}^{2}}{r^{4}} \\right) \\frac{\\partial}{\\partial r }\\otimes \\mathrm{d} t\\otimes \\mathrm{d} t\\otimes \\mathrm{d} r + \\left( -\\frac{c^{2} r r_{s} - c^{2} r_{s}^{2}}{r^{4}} \\right) \\frac{\\partial}{\\partial r }\\otimes \\mathrm{d} t\\otimes \\mathrm{d} r\\otimes \\mathrm{d} t -\\frac{r_{s}}{2 \\, r} \\frac{\\partial}{\\partial r }\\otimes \\mathrm{d} \\theta\\otimes \\mathrm{d} r\\otimes \\mathrm{d} \\theta + \\frac{r_{s}}{2 \\, r} \\frac{\\partial}{\\partial r }\\otimes \\mathrm{d} \\theta\\otimes \\mathrm{d} \\theta\\otimes \\mathrm{d} r -\\frac{r_{s} \\sin\\left(\\theta\\right)^{2}}{2 \\, r} \\frac{\\partial}{\\partial r }\\otimes \\mathrm{d} \\phi\\otimes \\mathrm{d} r\\otimes \\mathrm{d} \\phi + \\frac{r_{s} \\sin\\left(\\theta\\right)^{2}}{2 \\, r} \\frac{\\partial}{\\partial r }\\otimes \\mathrm{d} \\phi\\otimes \\mathrm{d} \\phi\\otimes \\mathrm{d} r + \\left( -\\frac{c^{2} r r_{s} - c^{2} r_{s}^{2}}{2 \\, r^{4}} \\right) \\frac{\\partial}{\\partial \\theta }\\otimes \\mathrm{d} t\\otimes \\mathrm{d} t\\otimes \\mathrm{d} \\theta + \\left( \\frac{c^{2} r r_{s} - c^{2} r_{s}^{2}}{2 \\, r^{4}} \\right) \\frac{\\partial}{\\partial \\theta }\\otimes \\mathrm{d} t\\otimes \\mathrm{d} \\theta\\otimes \\mathrm{d} t + \\frac{r_{s}}{2 \\, {\\left(r^{3} - r^{2} r_{s}\\right)}} \\frac{\\partial}{\\partial \\theta }\\otimes \\mathrm{d} r\\otimes \\mathrm{d} r\\otimes \\mathrm{d} \\theta -\\frac{r_{s}}{2 \\, {\\left(r^{3} - r^{2} r_{s}\\right)}} \\frac{\\partial}{\\partial \\theta }\\otimes \\mathrm{d} r\\otimes \\mathrm{d} \\theta\\otimes \\mathrm{d} r + \\frac{r_{s} \\sin\\left(\\theta\\right)^{2}}{r} \\frac{\\partial}{\\partial \\theta }\\otimes \\mathrm{d} \\phi\\otimes \\mathrm{d} \\theta\\otimes \\mathrm{d} \\phi -\\frac{r_{s} \\sin\\left(\\theta\\right)^{2}}{r} \\frac{\\partial}{\\partial \\theta }\\otimes \\mathrm{d} \\phi\\otimes \\mathrm{d} \\phi\\otimes \\mathrm{d} \\theta + \\left( -\\frac{c^{2} r r_{s} - c^{2} r_{s}^{2}}{2 \\, r^{4}} \\right) \\frac{\\partial}{\\partial \\phi }\\otimes \\mathrm{d} t\\otimes \\mathrm{d} t\\otimes \\mathrm{d} \\phi + \\left( \\frac{c^{2} r r_{s} - c^{2} r_{s}^{2}}{2 \\, r^{4}} \\right) \\frac{\\partial}{\\partial \\phi }\\otimes \\mathrm{d} t\\otimes \\mathrm{d} \\phi\\otimes \\mathrm{d} t + \\frac{r_{s}}{2 \\, {\\left(r^{3} - r^{2} r_{s}\\right)}} \\frac{\\partial}{\\partial \\phi }\\otimes \\mathrm{d} r\\otimes \\mathrm{d} r\\otimes \\mathrm{d} \\phi -\\frac{r_{s}}{2 \\, {\\left(r^{3} - r^{2} r_{s}\\right)}} \\frac{\\partial}{\\partial \\phi }\\otimes \\mathrm{d} r\\otimes \\mathrm{d} \\phi\\otimes \\mathrm{d} r -\\frac{r_{s}}{r} \\frac{\\partial}{\\partial \\phi }\\otimes \\mathrm{d} \\theta\\otimes \\mathrm{d} \\theta\\otimes \\mathrm{d} \\phi + \\frac{r_{s}}{r} \\frac{\\partial}{\\partial \\phi }\\otimes \\mathrm{d} \\theta\\otimes \\mathrm{d} \\phi\\otimes \\mathrm{d} \\theta$$"
      ],
      "text/plain": [
       "\\mathrm{C}\\left(g_{schwrtzschild}\\right) = \\left( \\frac{r_{s}}{r^{3} - r^{2} r_{s}} \\right) \\frac{\\partial}{\\partial t }\\otimes \\mathrm{d} r\\otimes \\mathrm{d} t\\otimes \\mathrm{d} r + \\left( -\\frac{r_{s}}{r^{3} - r^{2} r_{s}} \\right) \\frac{\\partial}{\\partial t }\\otimes \\mathrm{d} r\\otimes \\mathrm{d} r\\otimes \\mathrm{d} t -\\frac{r_{s}}{2 \\, r} \\frac{\\partial}{\\partial t }\\otimes \\mathrm{d} \\theta\\otimes \\mathrm{d} t\\otimes \\mathrm{d} \\theta + \\frac{r_{s}}{2 \\, r} \\frac{\\partial}{\\partial t }\\otimes \\mathrm{d} \\theta\\otimes \\mathrm{d} \\theta\\otimes \\mathrm{d} t -\\frac{r_{s} \\sin\\left(\\theta\\right)^{2}}{2 \\, r} \\frac{\\partial}{\\partial t }\\otimes \\mathrm{d} \\phi\\otimes \\mathrm{d} t\\otimes \\mathrm{d} \\phi + \\frac{r_{s} \\sin\\left(\\theta\\right)^{2}}{2 \\, r} \\frac{\\partial}{\\partial t }\\otimes \\mathrm{d} \\phi\\otimes \\mathrm{d} \\phi\\otimes \\mathrm{d} t + \\left( \\frac{c^{2} r r_{s} - c^{2} r_{s}^{2}}{r^{4}} \\right) \\frac{\\partial}{\\partial r }\\otimes \\mathrm{d} t\\otimes \\mathrm{d} t\\otimes \\mathrm{d} r + \\left( -\\frac{c^{2} r r_{s} - c^{2} r_{s}^{2}}{r^{4}} \\right) \\frac{\\partial}{\\partial r }\\otimes \\mathrm{d} t\\otimes \\mathrm{d} r\\otimes \\mathrm{d} t -\\frac{r_{s}}{2 \\, r} \\frac{\\partial}{\\partial r }\\otimes \\mathrm{d} \\theta\\otimes \\mathrm{d} r\\otimes \\mathrm{d} \\theta + \\frac{r_{s}}{2 \\, r} \\frac{\\partial}{\\partial r }\\otimes \\mathrm{d} \\theta\\otimes \\mathrm{d} \\theta\\otimes \\mathrm{d} r -\\frac{r_{s} \\sin\\left(\\theta\\right)^{2}}{2 \\, r} \\frac{\\partial}{\\partial r }\\otimes \\mathrm{d} \\phi\\otimes \\mathrm{d} r\\otimes \\mathrm{d} \\phi + \\frac{r_{s} \\sin\\left(\\theta\\right)^{2}}{2 \\, r} \\frac{\\partial}{\\partial r }\\otimes \\mathrm{d} \\phi\\otimes \\mathrm{d} \\phi\\otimes \\mathrm{d} r + \\left( -\\frac{c^{2} r r_{s} - c^{2} r_{s}^{2}}{2 \\, r^{4}} \\right) \\frac{\\partial}{\\partial \\theta }\\otimes \\mathrm{d} t\\otimes \\mathrm{d} t\\otimes \\mathrm{d} \\theta + \\left( \\frac{c^{2} r r_{s} - c^{2} r_{s}^{2}}{2 \\, r^{4}} \\right) \\frac{\\partial}{\\partial \\theta }\\otimes \\mathrm{d} t\\otimes \\mathrm{d} \\theta\\otimes \\mathrm{d} t + \\frac{r_{s}}{2 \\, {\\left(r^{3} - r^{2} r_{s}\\right)}} \\frac{\\partial}{\\partial \\theta }\\otimes \\mathrm{d} r\\otimes \\mathrm{d} r\\otimes \\mathrm{d} \\theta -\\frac{r_{s}}{2 \\, {\\left(r^{3} - r^{2} r_{s}\\right)}} \\frac{\\partial}{\\partial \\theta }\\otimes \\mathrm{d} r\\otimes \\mathrm{d} \\theta\\otimes \\mathrm{d} r + \\frac{r_{s} \\sin\\left(\\theta\\right)^{2}}{r} \\frac{\\partial}{\\partial \\theta }\\otimes \\mathrm{d} \\phi\\otimes \\mathrm{d} \\theta\\otimes \\mathrm{d} \\phi -\\frac{r_{s} \\sin\\left(\\theta\\right)^{2}}{r} \\frac{\\partial}{\\partial \\theta }\\otimes \\mathrm{d} \\phi\\otimes \\mathrm{d} \\phi\\otimes \\mathrm{d} \\theta + \\left( -\\frac{c^{2} r r_{s} - c^{2} r_{s}^{2}}{2 \\, r^{4}} \\right) \\frac{\\partial}{\\partial \\phi }\\otimes \\mathrm{d} t\\otimes \\mathrm{d} t\\otimes \\mathrm{d} \\phi + \\left( \\frac{c^{2} r r_{s} - c^{2} r_{s}^{2}}{2 \\, r^{4}} \\right) \\frac{\\partial}{\\partial \\phi }\\otimes \\mathrm{d} t\\otimes \\mathrm{d} \\phi\\otimes \\mathrm{d} t + \\frac{r_{s}}{2 \\, {\\left(r^{3} - r^{2} r_{s}\\right)}} \\frac{\\partial}{\\partial \\phi }\\otimes \\mathrm{d} r\\otimes \\mathrm{d} r\\otimes \\mathrm{d} \\phi -\\frac{r_{s}}{2 \\, {\\left(r^{3} - r^{2} r_{s}\\right)}} \\frac{\\partial}{\\partial \\phi }\\otimes \\mathrm{d} r\\otimes \\mathrm{d} \\phi\\otimes \\mathrm{d} r -\\frac{r_{s}}{r} \\frac{\\partial}{\\partial \\phi }\\otimes \\mathrm{d} \\theta\\otimes \\mathrm{d} \\theta\\otimes \\mathrm{d} \\phi + \\frac{r_{s}}{r} \\frac{\\partial}{\\partial \\phi }\\otimes \\mathrm{d} \\theta\\otimes \\mathrm{d} \\phi\\otimes \\mathrm{d} \\theta"
      ]
     },
     "metadata": {},
     "output_type": "display_data"
    }
   ],
   "source": [
    "#weyl tensor\n",
    "show(latex(g_schw.weyl().display())) "
   ]
  },
  {
   "cell_type": "code",
   "execution_count": 13,
   "id": "523d074c",
   "metadata": {},
   "outputs": [],
   "source": [
    "#the Ricci tensor as well as the Ricci scalar vanish identically because the Schwarzschild\n",
    "#spacetime is a vacuum solution of the field equations. Hence, the Weyl tensor is identical to the Riemann\n",
    "#tensor."
   ]
  },
  {
   "cell_type": "code",
   "execution_count": 14,
   "id": "68aaa0bc",
   "metadata": {},
   "outputs": [
    {
     "name": "stdout",
     "output_type": "stream",
     "text": [
      "Scalar field dzero(∂/∂theta) on the 4-dimensional differentiable manifold M\n"
     ]
    }
   ],
   "source": [
    "print(R_schw)"
   ]
  },
  {
   "cell_type": "code",
   "execution_count": 37,
   "id": "85f68ed4",
   "metadata": {},
   "outputs": [
    {
     "data": {
      "text/html": [
       "<html><script type=\"math/tex; mode=display\">\\newcommand{\\Bold}[1]{\\mathbf{#1}}\\begin{array}{llcl} \\mathrm{r}\\left(g_{schwrtzschild}\\right):& M & \\longrightarrow & \\mathbb{R} \\\\ & \\left(t, r, \\theta, \\phi\\right) & \\longmapsto & 0 \\end{array}</script></html>"
      ],
      "text/latex": [
       "$$\\newcommand{\\Bold}[1]{\\mathbf{#1}}\\begin{array}{llcl} \\mathrm{r}\\left(g_{schwrtzschild}\\right):& M & \\longrightarrow & \\mathbb{R} \\\\ & \\left(t, r, \\theta, \\phi\\right) & \\longmapsto & 0 \\end{array}$$"
      ],
      "text/plain": [
       "\\begin{array}{llcl} \\mathrm{r}\\left(g_{schwrtzschild}\\right):& M & \\longrightarrow & \\mathbb{R} \\\\ & \\left(t, r, \\theta, \\phi\\right) & \\longmapsto & 0 \\end{array}"
      ]
     },
     "metadata": {},
     "output_type": "display_data"
    },
    {
     "data": {
      "text/html": [
       "<html><script type=\"math/tex; mode=display\">\\newcommand{\\Bold}[1]{\\mathbf{#1}}\\begin{array}{llcl} \\mathrm{d}0\\left( \\frac{\\partial}{\\partial \\theta } \\right) : & M & \\longrightarrow & \\mathbb{R} \\\\ & \\left(t, r, \\theta, \\phi\\right) & \\longmapsto & 0 \\end{array}</script></html>"
      ],
      "text/latex": [
       "$$\\newcommand{\\Bold}[1]{\\mathbf{#1}}\\begin{array}{llcl} \\mathrm{d}0\\left( \\frac{\\partial}{\\partial \\theta } \\right) : & M & \\longrightarrow & \\mathbb{R} \\\\ & \\left(t, r, \\theta, \\phi\\right) & \\longmapsto & 0 \\end{array}$$"
      ],
      "text/plain": [
       "\\begin{array}{llcl} \\mathrm{d}0\\left( \\frac{\\partial}{\\partial \\theta } \\right) : & M & \\longrightarrow & \\mathbb{R} \\\\ & \\left(t, r, \\theta, \\phi\\right) & \\longmapsto & 0 \\end{array}"
      ]
     },
     "metadata": {},
     "output_type": "display_data"
    }
   ],
   "source": [
    "#Ricci scalar\n",
    "R_schw=g_schw.ricci_scalar()\n",
    "show(latex(R_schw.display()))\n",
    "\n",
    "\n",
    "#other way\n",
    "Ric_up = Ricci_schw.up(g_schw, 0)  # Raise the first index for contraction\n",
    "R_schw = Ric_up.trace()\n",
    "show(latex(R_schw.display()))"
   ]
  },
  {
   "cell_type": "code",
   "execution_count": 38,
   "id": "654c944b",
   "metadata": {},
   "outputs": [],
   "source": [
    "#Einstein tensor\n",
    "#Ein_schw = Ric_schw - (1/2)* g_schw\n",
    "\n",
    "Ein_tensor=Ric_schw- (1/2)*R_schw*g_schw"
   ]
  },
  {
   "cell_type": "code",
   "execution_count": 39,
   "id": "0688552d",
   "metadata": {},
   "outputs": [
    {
     "data": {
      "text/html": [
       "<html><script type=\"math/tex; mode=display\">\\newcommand{\\Bold}[1]{\\mathbf{#1}}\\mathrm{Ric}\\left(g_{schwrtzschild}\\right)-\\mbox{unnamed metric} = 0</script></html>"
      ],
      "text/latex": [
       "$$\\newcommand{\\Bold}[1]{\\mathbf{#1}}\\mathrm{Ric}\\left(g_{schwrtzschild}\\right)-\\mbox{unnamed metric} = 0$$"
      ],
      "text/plain": [
       "Ric(g_{schwrtzschild})-unnamed metric = 0"
      ]
     },
     "execution_count": 39,
     "metadata": {},
     "output_type": "execute_result"
    }
   ],
   "source": [
    "Ein_tensor.display()"
   ]
  },
  {
   "cell_type": "code",
   "execution_count": 36,
   "id": "b8d9bb6b",
   "metadata": {},
   "outputs": [
    {
     "name": "stdout",
     "output_type": "stream",
     "text": [
      "[0 0 0 0]\n",
      "[0 0 0 0]\n",
      "[0 0 0 0]\n",
      "[0 0 0 0]\n"
     ]
    }
   ],
   "source": [
    "components = Ein_tensor[:]\n",
    "print(components)"
   ]
  },
  {
   "cell_type": "markdown",
   "id": "67aec079",
   "metadata": {},
   "source": []
  },
  {
   "cell_type": "code",
   "execution_count": null,
   "id": "50e3ce37",
   "metadata": {},
   "outputs": [],
   "source": []
  }
 ],
 "metadata": {
  "kernelspec": {
   "display_name": "SageMath 9.5",
   "language": "sage",
   "name": "sagemath"
  },
  "language_info": {
   "codemirror_mode": {
    "name": "ipython",
    "version": 3
   },
   "file_extension": ".py",
   "mimetype": "text/x-python",
   "name": "python",
   "nbconvert_exporter": "python",
   "pygments_lexer": "ipython3",
   "version": "3.10.12"
  }
 },
 "nbformat": 4,
 "nbformat_minor": 5
}

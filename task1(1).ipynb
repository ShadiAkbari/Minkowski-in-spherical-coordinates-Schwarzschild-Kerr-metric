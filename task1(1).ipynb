{
 "cells": [
  {
   "cell_type": "code",
   "execution_count": 1,
   "id": "f7bbf292",
   "metadata": {},
   "outputs": [
    {
     "name": "stdout",
     "output_type": "stream",
     "text": [
      "4-dimensional differentiable manifold M\n"
     ]
    },
    {
     "data": {
      "text/html": [
       "<html><script type=\"math/tex; mode=display\">\\newcommand{\\Bold}[1]{\\mathbf{#1}}\\left(M,(t, r, \\theta, \\phi)\\right)</script></html>"
      ],
      "text/latex": [
       "$$\\newcommand{\\Bold}[1]{\\mathbf{#1}}\\left(M,(t, r, \\theta, \\phi)\\right)$$"
      ],
      "text/plain": [
       "\\left(M,(t, r, \\theta, \\phi)\\right)"
      ]
     },
     "metadata": {},
     "output_type": "display_data"
    }
   ],
   "source": [
    "from sage.manifolds.all import *\n",
    "from sage.symbolic.constants import pi\n",
    "from sage.symbolic.ring import SR\n",
    "\n",
    "#Defining of manifold and spherical chart\n",
    "M = Manifold(4, name='M', start_index=0)\n",
    "print(M)\n",
    "[i for i in M.irange()]\n",
    "\n",
    "#using SR() to make pi understandable for sage \n",
    "chart_minf ='t r:(0,+oo) theta:(0,%s) phi:(0,%s)' % (SR(pi), SR(2*pi))\n",
    "std.<t, r, theta, phi> = M.chart(chart_minf)\n",
    "std\n",
    "show(latex(std))"
   ]
  },
  {
   "cell_type": "code",
   "execution_count": 2,
   "id": "be581f54",
   "metadata": {},
   "outputs": [
    {
     "data": {
      "text/html": [
       "<html><script type=\"math/tex; mode=display\">\\newcommand{\\Bold}[1]{\\mathbf{#1}}\\left(\\begin{array}{rrrr}\n",
       "-1 & 0 & 0 & 0 \\\\\n",
       "0 & 1 & 0 & 0 \\\\\n",
       "0 & 0 & r^{2} & 0 \\\\\n",
       "0 & 0 & 0 & r^{2} \\sin\\left(\\theta\\right)^{2}\n",
       "\\end{array}\\right)</script></html>"
      ],
      "text/latex": [
       "$$\\newcommand{\\Bold}[1]{\\mathbf{#1}}\\left(\\begin{array}{rrrr}\n",
       "-1 & 0 & 0 & 0 \\\\\n",
       "0 & 1 & 0 & 0 \\\\\n",
       "0 & 0 & r^{2} & 0 \\\\\n",
       "0 & 0 & 0 & r^{2} \\sin\\left(\\theta\\right)^{2}\n",
       "\\end{array}\\right)$$"
      ],
      "text/plain": [
       "\\left(\\begin{array}{rrrr}\n",
       "-1 & 0 & 0 & 0 \\\\\n",
       "0 & 1 & 0 & 0 \\\\\n",
       "0 & 0 & r^{2} & 0 \\\\\n",
       "0 & 0 & 0 & r^{2} \\sin\\left(\\theta\\right)^{2}\n",
       "\\end{array}\\right)"
      ]
     },
     "metadata": {},
     "output_type": "display_data"
    }
   ],
   "source": [
    "#Defining of metric \n",
    "g=M.metric('g')\n",
    "g.set_name('g', r'\\mathrm{g}') \n",
    "g[0,0]=-1\n",
    "g[1,1]=1\n",
    "g[2,2]=r^2\n",
    "g[3,3]=r^2*sin(theta)^2\n",
    "\n",
    "show(latex(g[:]))"
   ]
  },
  {
   "cell_type": "code",
   "execution_count": 3,
   "id": "e8e65ef6",
   "metadata": {},
   "outputs": [
    {
     "data": {
      "text/html": [
       "<html><script type=\"math/tex; mode=display\">\\newcommand{\\Bold}[1]{\\mathbf{#1}}\\begin{array}{lcl} \\Gamma_{ \\phantom{\\, r} \\, \\theta \\, \\theta }^{ \\, r \\phantom{\\, \\theta} \\phantom{\\, \\theta} } & = & -r \\\\ \\Gamma_{ \\phantom{\\, r} \\, \\phi \\, \\phi }^{ \\, r \\phantom{\\, \\phi} \\phantom{\\, \\phi} } & = & -r \\sin\\left(\\theta\\right)^{2} \\\\ \\Gamma_{ \\phantom{\\, \\theta} \\, r \\, \\theta }^{ \\, \\theta \\phantom{\\, r} \\phantom{\\, \\theta} } & = & \\frac{1}{r} \\\\ \\Gamma_{ \\phantom{\\, \\theta} \\, \\phi \\, \\phi }^{ \\, \\theta \\phantom{\\, \\phi} \\phantom{\\, \\phi} } & = & -\\cos\\left(\\theta\\right) \\sin\\left(\\theta\\right) \\\\ \\Gamma_{ \\phantom{\\, \\phi} \\, r \\, \\phi }^{ \\, \\phi \\phantom{\\, r} \\phantom{\\, \\phi} } & = & \\frac{1}{r} \\\\ \\Gamma_{ \\phantom{\\, \\phi} \\, \\theta \\, \\phi }^{ \\, \\phi \\phantom{\\, \\theta} \\phantom{\\, \\phi} } & = & \\frac{\\cos\\left(\\theta\\right)}{\\sin\\left(\\theta\\right)} \\end{array}</script></html>"
      ],
      "text/latex": [
       "$$\\newcommand{\\Bold}[1]{\\mathbf{#1}}\\begin{array}{lcl} \\Gamma_{ \\phantom{\\, r} \\, \\theta \\, \\theta }^{ \\, r \\phantom{\\, \\theta} \\phantom{\\, \\theta} } & = & -r \\\\ \\Gamma_{ \\phantom{\\, r} \\, \\phi \\, \\phi }^{ \\, r \\phantom{\\, \\phi} \\phantom{\\, \\phi} } & = & -r \\sin\\left(\\theta\\right)^{2} \\\\ \\Gamma_{ \\phantom{\\, \\theta} \\, r \\, \\theta }^{ \\, \\theta \\phantom{\\, r} \\phantom{\\, \\theta} } & = & \\frac{1}{r} \\\\ \\Gamma_{ \\phantom{\\, \\theta} \\, \\phi \\, \\phi }^{ \\, \\theta \\phantom{\\, \\phi} \\phantom{\\, \\phi} } & = & -\\cos\\left(\\theta\\right) \\sin\\left(\\theta\\right) \\\\ \\Gamma_{ \\phantom{\\, \\phi} \\, r \\, \\phi }^{ \\, \\phi \\phantom{\\, r} \\phantom{\\, \\phi} } & = & \\frac{1}{r} \\\\ \\Gamma_{ \\phantom{\\, \\phi} \\, \\theta \\, \\phi }^{ \\, \\phi \\phantom{\\, \\theta} \\phantom{\\, \\phi} } & = & \\frac{\\cos\\left(\\theta\\right)}{\\sin\\left(\\theta\\right)} \\end{array}$$"
      ],
      "text/plain": [
       "\\begin{array}{lcl} \\Gamma_{ \\phantom{\\, r} \\, \\theta \\, \\theta }^{ \\, r \\phantom{\\, \\theta} \\phantom{\\, \\theta} } & = & -r \\\\ \\Gamma_{ \\phantom{\\, r} \\, \\phi \\, \\phi }^{ \\, r \\phantom{\\, \\phi} \\phantom{\\, \\phi} } & = & -r \\sin\\left(\\theta\\right)^{2} \\\\ \\Gamma_{ \\phantom{\\, \\theta} \\, r \\, \\theta }^{ \\, \\theta \\phantom{\\, r} \\phantom{\\, \\theta} } & = & \\frac{1}{r} \\\\ \\Gamma_{ \\phantom{\\, \\theta} \\, \\phi \\, \\phi }^{ \\, \\theta \\phantom{\\, \\phi} \\phantom{\\, \\phi} } & = & -\\cos\\left(\\theta\\right) \\sin\\left(\\theta\\right) \\\\ \\Gamma_{ \\phantom{\\, \\phi} \\, r \\, \\phi }^{ \\, \\phi \\phantom{\\, r} \\phantom{\\, \\phi} } & = & \\frac{1}{r} \\\\ \\Gamma_{ \\phantom{\\, \\phi} \\, \\theta \\, \\phi }^{ \\, \\phi \\phantom{\\, \\theta} \\phantom{\\, \\phi} } & = & \\frac{\\cos\\left(\\theta\\right)}{\\sin\\left(\\theta\\right)} \\end{array}"
      ]
     },
     "metadata": {},
     "output_type": "display_data"
    }
   ],
   "source": [
    "#calculating cristoffel symbols\n",
    "show(latex(g.christoffel_symbols_display()))"
   ]
  },
  {
   "cell_type": "code",
   "execution_count": 4,
   "id": "6241d483",
   "metadata": {},
   "outputs": [
    {
     "data": {
      "text/html": [
       "<html><script type=\"math/tex; mode=display\">\\newcommand{\\Bold}[1]{\\mathbf{#1}}\\mathrm{Riem}\\left(\\mathrm{g}\\right) = 0</script></html>"
      ],
      "text/latex": [
       "$$\\newcommand{\\Bold}[1]{\\mathbf{#1}}\\mathrm{Riem}\\left(\\mathrm{g}\\right) = 0$$"
      ],
      "text/plain": [
       "\\mathrm{Riem}\\left(\\mathrm{g}\\right) = 0"
      ]
     },
     "metadata": {},
     "output_type": "display_data"
    },
    {
     "data": {
      "text/html": [
       "<html><script type=\"math/tex; mode=display\">\\newcommand{\\Bold}[1]{\\mathbf{#1}}\\mathrm{Riem}\\left(\\mathrm{g}\\right) = 0</script></html>"
      ],
      "text/latex": [
       "$$\\newcommand{\\Bold}[1]{\\mathbf{#1}}\\mathrm{Riem}\\left(\\mathrm{g}\\right) = 0$$"
      ],
      "text/plain": [
       "\\mathrm{Riem}\\left(\\mathrm{g}\\right) = 0"
      ]
     },
     "metadata": {},
     "output_type": "display_data"
    }
   ],
   "source": [
    "#Riemann tensor\n",
    "Riemann=g.riemann()\n",
    "show(latex(Riemann.display()))\n",
    "\n",
    "\n",
    "#other way\n",
    "nabla=g.connection()\n",
    "Riem=nabla.riemann()\n",
    "show(latex(Riem.display()))"
   ]
  },
  {
   "cell_type": "code",
   "execution_count": 5,
   "id": "41d12f18",
   "metadata": {},
   "outputs": [
    {
     "data": {
      "text/html": [
       "<html><script type=\"math/tex; mode=display\">\\newcommand{\\Bold}[1]{\\mathbf{#1}}\\left(\\begin{array}{rrrr}\n",
       "0 & 0 & 0 & 0 \\\\\n",
       "0 & 0 & 0 & 0 \\\\\n",
       "0 & 0 & 0 & 0 \\\\\n",
       "0 & 0 & 0 & 0\n",
       "\\end{array}\\right)</script></html>"
      ],
      "text/latex": [
       "$$\\newcommand{\\Bold}[1]{\\mathbf{#1}}\\left(\\begin{array}{rrrr}\n",
       "0 & 0 & 0 & 0 \\\\\n",
       "0 & 0 & 0 & 0 \\\\\n",
       "0 & 0 & 0 & 0 \\\\\n",
       "0 & 0 & 0 & 0\n",
       "\\end{array}\\right)$$"
      ],
      "text/plain": [
       "\\left(\\begin{array}{rrrr}\n",
       "0 & 0 & 0 & 0 \\\\\n",
       "0 & 0 & 0 & 0 \\\\\n",
       "0 & 0 & 0 & 0 \\\\\n",
       "0 & 0 & 0 & 0\n",
       "\\end{array}\\right)"
      ]
     },
     "metadata": {},
     "output_type": "display_data"
    },
    {
     "data": {
      "text/html": [
       "<html><script type=\"math/tex; mode=display\">\\newcommand{\\Bold}[1]{\\mathbf{#1}}\\mathrm{Ric}\\left(\\mathrm{g}\\right) = 0</script></html>"
      ],
      "text/latex": [
       "$$\\newcommand{\\Bold}[1]{\\mathbf{#1}}\\mathrm{Ric}\\left(\\mathrm{g}\\right) = 0$$"
      ],
      "text/plain": [
       "\\mathrm{Ric}\\left(\\mathrm{g}\\right) = 0"
      ]
     },
     "metadata": {},
     "output_type": "display_data"
    }
   ],
   "source": [
    "#Ricci tensor\n",
    "Ricci=g.ricci()\n",
    "Ricci.display()\n",
    "show(latex(Ricci[:]))\n",
    "\n",
    "\n",
    "#other way\n",
    "Ric=nabla.ricci()\n",
    "show(latex(Ric.display()))"
   ]
  },
  {
   "cell_type": "code",
   "execution_count": 6,
   "id": "87663eb0",
   "metadata": {},
   "outputs": [
    {
     "data": {
      "text/html": [
       "<html><script type=\"math/tex; mode=display\">\\newcommand{\\Bold}[1]{\\mathbf{#1}}\\begin{array}{llcl} \\mathrm{d}0\\left( \\frac{\\partial}{\\partial \\theta } \\right) : & M & \\longrightarrow & \\mathbb{R} \\\\ & \\left(t, r, \\theta, \\phi\\right) & \\longmapsto & 0 \\end{array}</script></html>"
      ],
      "text/latex": [
       "$$\\newcommand{\\Bold}[1]{\\mathbf{#1}}\\begin{array}{llcl} \\mathrm{d}0\\left( \\frac{\\partial}{\\partial \\theta } \\right) : & M & \\longrightarrow & \\mathbb{R} \\\\ & \\left(t, r, \\theta, \\phi\\right) & \\longmapsto & 0 \\end{array}$$"
      ],
      "text/plain": [
       "\\begin{array}{llcl} \\mathrm{d}0\\left( \\frac{\\partial}{\\partial \\theta } \\right) : & M & \\longrightarrow & \\mathbb{R} \\\\ & \\left(t, r, \\theta, \\phi\\right) & \\longmapsto & 0 \\end{array}"
      ]
     },
     "metadata": {},
     "output_type": "display_data"
    }
   ],
   "source": [
    "#Ricci scalar\n",
    "Ric_up = Ricci.up(g, 0)  # Raise the first index for contraction\n",
    "R = Ric_up.trace()\n",
    "show(latex(R.display()))\n"
   ]
  },
  {
   "cell_type": "code",
   "execution_count": 7,
   "id": "0ebba24e",
   "metadata": {
    "scrolled": true
   },
   "outputs": [
    {
     "data": {
      "text/html": [
       "<html><script type=\"math/tex; mode=display\">\\newcommand{\\Bold}[1]{\\mathbf{#1}}\\mathrm{C}\\left(\\mathrm{g}\\right) = 0</script></html>"
      ],
      "text/latex": [
       "$$\\newcommand{\\Bold}[1]{\\mathbf{#1}}\\mathrm{C}\\left(\\mathrm{g}\\right) = 0$$"
      ],
      "text/plain": [
       "\\mathrm{C}\\left(\\mathrm{g}\\right) = 0"
      ]
     },
     "metadata": {},
     "output_type": "display_data"
    }
   ],
   "source": [
    "#weyl tensor\n",
    "show(latex(g.weyl().display())) "
   ]
  },
  {
   "cell_type": "code",
   "execution_count": 8,
   "id": "f28bbc2f",
   "metadata": {
    "scrolled": true
   },
   "outputs": [],
   "source": [
    "#Einstein tensor\n",
    "Ein = Ric - (1/2)*R*g"
   ]
  },
  {
   "cell_type": "code",
   "execution_count": 9,
   "id": "e6361b22",
   "metadata": {},
   "outputs": [
    {
     "data": {
      "text/plain": [
       "Ric(g)-unnamed metric = 0"
      ]
     },
     "execution_count": 9,
     "metadata": {},
     "output_type": "execute_result"
    }
   ],
   "source": [
    "Ein.display()"
   ]
  },
  {
   "cell_type": "code",
   "execution_count": 10,
   "id": "4acd7adb",
   "metadata": {},
   "outputs": [],
   "source": [
    "##############################################################################\n",
    "\n",
    "#schwarzschild metric"
   ]
  },
  {
   "cell_type": "code",
   "execution_count": 11,
   "id": "7f4c8ad8",
   "metadata": {},
   "outputs": [
    {
     "data": {
      "text/html": [
       "<html><script type=\"math/tex; mode=display\">\\newcommand{\\Bold}[1]{\\mathbf{#1}}\\left(\\begin{array}{rrrr}\n",
       "c^{2} {\\left(\\frac{r_{s}}{r} - 1\\right)} & 0 & 0 & 0 \\\\\n",
       "0 & -\\frac{1}{\\frac{r_{s}}{r} - 1} & 0 & 0 \\\\\n",
       "0 & 0 & r^{2} & 0 \\\\\n",
       "0 & 0 & 0 & r^{2} \\sin\\left(\\theta\\right)^{2}\n",
       "\\end{array}\\right)</script></html>"
      ],
      "text/latex": [
       "$$\\newcommand{\\Bold}[1]{\\mathbf{#1}}\\left(\\begin{array}{rrrr}\n",
       "c^{2} {\\left(\\frac{r_{s}}{r} - 1\\right)} & 0 & 0 & 0 \\\\\n",
       "0 & -\\frac{1}{\\frac{r_{s}}{r} - 1} & 0 & 0 \\\\\n",
       "0 & 0 & r^{2} & 0 \\\\\n",
       "0 & 0 & 0 & r^{2} \\sin\\left(\\theta\\right)^{2}\n",
       "\\end{array}\\right)$$"
      ],
      "text/plain": [
       "\\left(\\begin{array}{rrrr}\n",
       "c^{2} {\\left(\\frac{r_{s}}{r} - 1\\right)} & 0 & 0 & 0 \\\\\n",
       "0 & -\\frac{1}{\\frac{r_{s}}{r} - 1} & 0 & 0 \\\\\n",
       "0 & 0 & r^{2} & 0 \\\\\n",
       "0 & 0 & 0 & r^{2} \\sin\\left(\\theta\\right)^{2}\n",
       "\\end{array}\\right)"
      ]
     },
     "metadata": {},
     "output_type": "display_data"
    }
   ],
   "source": [
    "#Defining of metric \n",
    "g_schw=M.metric('g_{schwrtzschild}')\n",
    "\n",
    "#r_s= (2*G*m)/(c^2)\n",
    "var('r_s c')\n",
    "\n",
    "f=1-r_s/r\n",
    "g_schw[0,0]=-f*c^2\n",
    "g_schw[1,1]=1/f\n",
    "g_schw[2,2]=r^2\n",
    "g_schw[3,3]=r^2*sin(theta)^2\n",
    "\n",
    "#matrix show\n",
    "show(latex(g_schw[:]))"
   ]
  },
  {
   "cell_type": "code",
   "execution_count": 12,
   "id": "64110337",
   "metadata": {},
   "outputs": [
    {
     "data": {
      "text/html": [
       "<html><script type=\"math/tex; mode=display\">\\newcommand{\\Bold}[1]{\\mathbf{#1}}\\begin{array}{lcl} \\Gamma_{ \\phantom{\\, t} \\, t \\, r }^{ \\, t \\phantom{\\, t} \\phantom{\\, r} } & = & \\frac{r_{s}}{2 \\, {\\left(r^{2} - r r_{s}\\right)}} \\\\ \\Gamma_{ \\phantom{\\, r} \\, t \\, t }^{ \\, r \\phantom{\\, t} \\phantom{\\, t} } & = & \\frac{c^{2} r r_{s} - c^{2} r_{s}^{2}}{2 \\, r^{3}} \\\\ \\Gamma_{ \\phantom{\\, r} \\, r \\, r }^{ \\, r \\phantom{\\, r} \\phantom{\\, r} } & = & -\\frac{r_{s}}{2 \\, {\\left(r^{2} - r r_{s}\\right)}} \\\\ \\Gamma_{ \\phantom{\\, r} \\, \\theta \\, \\theta }^{ \\, r \\phantom{\\, \\theta} \\phantom{\\, \\theta} } & = & -r + r_{s} \\\\ \\Gamma_{ \\phantom{\\, r} \\, \\phi \\, \\phi }^{ \\, r \\phantom{\\, \\phi} \\phantom{\\, \\phi} } & = & -{\\left(r - r_{s}\\right)} \\sin\\left(\\theta\\right)^{2} \\\\ \\Gamma_{ \\phantom{\\, \\theta} \\, r \\, \\theta }^{ \\, \\theta \\phantom{\\, r} \\phantom{\\, \\theta} } & = & \\frac{1}{r} \\\\ \\Gamma_{ \\phantom{\\, \\theta} \\, \\phi \\, \\phi }^{ \\, \\theta \\phantom{\\, \\phi} \\phantom{\\, \\phi} } & = & -\\cos\\left(\\theta\\right) \\sin\\left(\\theta\\right) \\\\ \\Gamma_{ \\phantom{\\, \\phi} \\, r \\, \\phi }^{ \\, \\phi \\phantom{\\, r} \\phantom{\\, \\phi} } & = & \\frac{1}{r} \\\\ \\Gamma_{ \\phantom{\\, \\phi} \\, \\theta \\, \\phi }^{ \\, \\phi \\phantom{\\, \\theta} \\phantom{\\, \\phi} } & = & \\frac{\\cos\\left(\\theta\\right)}{\\sin\\left(\\theta\\right)} \\end{array}</script></html>"
      ],
      "text/latex": [
       "$$\\newcommand{\\Bold}[1]{\\mathbf{#1}}\\begin{array}{lcl} \\Gamma_{ \\phantom{\\, t} \\, t \\, r }^{ \\, t \\phantom{\\, t} \\phantom{\\, r} } & = & \\frac{r_{s}}{2 \\, {\\left(r^{2} - r r_{s}\\right)}} \\\\ \\Gamma_{ \\phantom{\\, r} \\, t \\, t }^{ \\, r \\phantom{\\, t} \\phantom{\\, t} } & = & \\frac{c^{2} r r_{s} - c^{2} r_{s}^{2}}{2 \\, r^{3}} \\\\ \\Gamma_{ \\phantom{\\, r} \\, r \\, r }^{ \\, r \\phantom{\\, r} \\phantom{\\, r} } & = & -\\frac{r_{s}}{2 \\, {\\left(r^{2} - r r_{s}\\right)}} \\\\ \\Gamma_{ \\phantom{\\, r} \\, \\theta \\, \\theta }^{ \\, r \\phantom{\\, \\theta} \\phantom{\\, \\theta} } & = & -r + r_{s} \\\\ \\Gamma_{ \\phantom{\\, r} \\, \\phi \\, \\phi }^{ \\, r \\phantom{\\, \\phi} \\phantom{\\, \\phi} } & = & -{\\left(r - r_{s}\\right)} \\sin\\left(\\theta\\right)^{2} \\\\ \\Gamma_{ \\phantom{\\, \\theta} \\, r \\, \\theta }^{ \\, \\theta \\phantom{\\, r} \\phantom{\\, \\theta} } & = & \\frac{1}{r} \\\\ \\Gamma_{ \\phantom{\\, \\theta} \\, \\phi \\, \\phi }^{ \\, \\theta \\phantom{\\, \\phi} \\phantom{\\, \\phi} } & = & -\\cos\\left(\\theta\\right) \\sin\\left(\\theta\\right) \\\\ \\Gamma_{ \\phantom{\\, \\phi} \\, r \\, \\phi }^{ \\, \\phi \\phantom{\\, r} \\phantom{\\, \\phi} } & = & \\frac{1}{r} \\\\ \\Gamma_{ \\phantom{\\, \\phi} \\, \\theta \\, \\phi }^{ \\, \\phi \\phantom{\\, \\theta} \\phantom{\\, \\phi} } & = & \\frac{\\cos\\left(\\theta\\right)}{\\sin\\left(\\theta\\right)} \\end{array}$$"
      ],
      "text/plain": [
       "\\begin{array}{lcl} \\Gamma_{ \\phantom{\\, t} \\, t \\, r }^{ \\, t \\phantom{\\, t} \\phantom{\\, r} } & = & \\frac{r_{s}}{2 \\, {\\left(r^{2} - r r_{s}\\right)}} \\\\ \\Gamma_{ \\phantom{\\, r} \\, t \\, t }^{ \\, r \\phantom{\\, t} \\phantom{\\, t} } & = & \\frac{c^{2} r r_{s} - c^{2} r_{s}^{2}}{2 \\, r^{3}} \\\\ \\Gamma_{ \\phantom{\\, r} \\, r \\, r }^{ \\, r \\phantom{\\, r} \\phantom{\\, r} } & = & -\\frac{r_{s}}{2 \\, {\\left(r^{2} - r r_{s}\\right)}} \\\\ \\Gamma_{ \\phantom{\\, r} \\, \\theta \\, \\theta }^{ \\, r \\phantom{\\, \\theta} \\phantom{\\, \\theta} } & = & -r + r_{s} \\\\ \\Gamma_{ \\phantom{\\, r} \\, \\phi \\, \\phi }^{ \\, r \\phantom{\\, \\phi} \\phantom{\\, \\phi} } & = & -{\\left(r - r_{s}\\right)} \\sin\\left(\\theta\\right)^{2} \\\\ \\Gamma_{ \\phantom{\\, \\theta} \\, r \\, \\theta }^{ \\, \\theta \\phantom{\\, r} \\phantom{\\, \\theta} } & = & \\frac{1}{r} \\\\ \\Gamma_{ \\phantom{\\, \\theta} \\, \\phi \\, \\phi }^{ \\, \\theta \\phantom{\\, \\phi} \\phantom{\\, \\phi} } & = & -\\cos\\left(\\theta\\right) \\sin\\left(\\theta\\right) \\\\ \\Gamma_{ \\phantom{\\, \\phi} \\, r \\, \\phi }^{ \\, \\phi \\phantom{\\, r} \\phantom{\\, \\phi} } & = & \\frac{1}{r} \\\\ \\Gamma_{ \\phantom{\\, \\phi} \\, \\theta \\, \\phi }^{ \\, \\phi \\phantom{\\, \\theta} \\phantom{\\, \\phi} } & = & \\frac{\\cos\\left(\\theta\\right)}{\\sin\\left(\\theta\\right)} \\end{array}"
      ]
     },
     "metadata": {},
     "output_type": "display_data"
    }
   ],
   "source": [
    "#calculating cristoffel symbols\n",
    "show(latex(g_schw.christoffel_symbols_display()))\n"
   ]
  },
  {
   "cell_type": "code",
   "execution_count": 13,
   "id": "402f46b3",
   "metadata": {},
   "outputs": [
    {
     "data": {
      "text/html": [
       "<html><script type=\"math/tex; mode=display\">\\newcommand{\\Bold}[1]{\\mathbf{#1}}\\begin{array}{lcl} X_{ \\, t \\, r \\, t \\, r }^{ \\phantom{\\, t}\\phantom{\\, r}\\phantom{\\, t}\\phantom{\\, r} } & = & -\\frac{c^{2} r_{s}}{r^{3}} \\\\ X_{ \\, t \\, r \\, r \\, t }^{ \\phantom{\\, t}\\phantom{\\, r}\\phantom{\\, r}\\phantom{\\, t} } & = & \\frac{c^{2} r_{s}}{r^{3}} \\\\ X_{ \\, t \\, \\theta \\, t \\, \\theta }^{ \\phantom{\\, t}\\phantom{\\, \\theta}\\phantom{\\, t}\\phantom{\\, \\theta} } & = & \\frac{c^{2} r r_{s} - c^{2} r_{s}^{2}}{2 \\, r^{2}} \\\\ X_{ \\, t \\, \\theta \\, \\theta \\, t }^{ \\phantom{\\, t}\\phantom{\\, \\theta}\\phantom{\\, \\theta}\\phantom{\\, t} } & = & -\\frac{c^{2} r r_{s} - c^{2} r_{s}^{2}}{2 \\, r^{2}} \\\\ X_{ \\, t \\, \\phi \\, t \\, \\phi }^{ \\phantom{\\, t}\\phantom{\\, \\phi}\\phantom{\\, t}\\phantom{\\, \\phi} } & = & \\frac{{\\left(c^{2} r r_{s} - c^{2} r_{s}^{2}\\right)} \\sin\\left(\\theta\\right)^{2}}{2 \\, r^{2}} \\\\ X_{ \\, t \\, \\phi \\, \\phi \\, t }^{ \\phantom{\\, t}\\phantom{\\, \\phi}\\phantom{\\, \\phi}\\phantom{\\, t} } & = & -\\frac{{\\left(c^{2} r r_{s} - c^{2} r_{s}^{2}\\right)} \\sin\\left(\\theta\\right)^{2}}{2 \\, r^{2}} \\\\ X_{ \\, r \\, t \\, t \\, r }^{ \\phantom{\\, r}\\phantom{\\, t}\\phantom{\\, t}\\phantom{\\, r} } & = & \\frac{c^{2} r_{s}}{r^{3}} \\\\ X_{ \\, r \\, t \\, r \\, t }^{ \\phantom{\\, r}\\phantom{\\, t}\\phantom{\\, r}\\phantom{\\, t} } & = & -\\frac{c^{2} r_{s}}{r^{3}} \\\\ X_{ \\, r \\, \\theta \\, r \\, \\theta }^{ \\phantom{\\, r}\\phantom{\\, \\theta}\\phantom{\\, r}\\phantom{\\, \\theta} } & = & -\\frac{r_{s}}{2 \\, {\\left(r - r_{s}\\right)}} \\\\ X_{ \\, r \\, \\theta \\, \\theta \\, r }^{ \\phantom{\\, r}\\phantom{\\, \\theta}\\phantom{\\, \\theta}\\phantom{\\, r} } & = & \\frac{r_{s}}{2 \\, {\\left(r - r_{s}\\right)}} \\\\ X_{ \\, r \\, \\phi \\, r \\, \\phi }^{ \\phantom{\\, r}\\phantom{\\, \\phi}\\phantom{\\, r}\\phantom{\\, \\phi} } & = & -\\frac{r_{s} \\sin\\left(\\theta\\right)^{2}}{2 \\, {\\left(r - r_{s}\\right)}} \\\\ X_{ \\, r \\, \\phi \\, \\phi \\, r }^{ \\phantom{\\, r}\\phantom{\\, \\phi}\\phantom{\\, \\phi}\\phantom{\\, r} } & = & \\frac{r_{s} \\sin\\left(\\theta\\right)^{2}}{2 \\, {\\left(r - r_{s}\\right)}} \\\\ X_{ \\, \\theta \\, t \\, t \\, \\theta }^{ \\phantom{\\, \\theta}\\phantom{\\, t}\\phantom{\\, t}\\phantom{\\, \\theta} } & = & -\\frac{c^{2} r r_{s} - c^{2} r_{s}^{2}}{2 \\, r^{2}} \\\\ X_{ \\, \\theta \\, t \\, \\theta \\, t }^{ \\phantom{\\, \\theta}\\phantom{\\, t}\\phantom{\\, \\theta}\\phantom{\\, t} } & = & \\frac{c^{2} r r_{s} - c^{2} r_{s}^{2}}{2 \\, r^{2}} \\\\ X_{ \\, \\theta \\, r \\, r \\, \\theta }^{ \\phantom{\\, \\theta}\\phantom{\\, r}\\phantom{\\, r}\\phantom{\\, \\theta} } & = & \\frac{r_{s}}{2 \\, {\\left(r - r_{s}\\right)}} \\\\ X_{ \\, \\theta \\, r \\, \\theta \\, r }^{ \\phantom{\\, \\theta}\\phantom{\\, r}\\phantom{\\, \\theta}\\phantom{\\, r} } & = & -\\frac{r_{s}}{2 \\, {\\left(r - r_{s}\\right)}} \\\\ X_{ \\, \\theta \\, \\phi \\, \\theta \\, \\phi }^{ \\phantom{\\, \\theta}\\phantom{\\, \\phi}\\phantom{\\, \\theta}\\phantom{\\, \\phi} } & = & r r_{s} \\sin\\left(\\theta\\right)^{2} \\\\ X_{ \\, \\theta \\, \\phi \\, \\phi \\, \\theta }^{ \\phantom{\\, \\theta}\\phantom{\\, \\phi}\\phantom{\\, \\phi}\\phantom{\\, \\theta} } & = & -r r_{s} \\sin\\left(\\theta\\right)^{2} \\\\ X_{ \\, \\phi \\, t \\, t \\, \\phi }^{ \\phantom{\\, \\phi}\\phantom{\\, t}\\phantom{\\, t}\\phantom{\\, \\phi} } & = & -\\frac{{\\left(c^{2} r r_{s} - c^{2} r_{s}^{2}\\right)} \\sin\\left(\\theta\\right)^{2}}{2 \\, r^{2}} \\\\ X_{ \\, \\phi \\, t \\, \\phi \\, t }^{ \\phantom{\\, \\phi}\\phantom{\\, t}\\phantom{\\, \\phi}\\phantom{\\, t} } & = & \\frac{{\\left(c^{2} r r_{s} - c^{2} r_{s}^{2}\\right)} \\sin\\left(\\theta\\right)^{2}}{2 \\, r^{2}} \\\\ X_{ \\, \\phi \\, r \\, r \\, \\phi }^{ \\phantom{\\, \\phi}\\phantom{\\, r}\\phantom{\\, r}\\phantom{\\, \\phi} } & = & \\frac{r_{s} \\sin\\left(\\theta\\right)^{2}}{2 \\, {\\left(r - r_{s}\\right)}} \\\\ X_{ \\, \\phi \\, r \\, \\phi \\, r }^{ \\phantom{\\, \\phi}\\phantom{\\, r}\\phantom{\\, \\phi}\\phantom{\\, r} } & = & -\\frac{r_{s} \\sin\\left(\\theta\\right)^{2}}{2 \\, {\\left(r - r_{s}\\right)}} \\\\ X_{ \\, \\phi \\, \\theta \\, \\theta \\, \\phi }^{ \\phantom{\\, \\phi}\\phantom{\\, \\theta}\\phantom{\\, \\theta}\\phantom{\\, \\phi} } & = & -r r_{s} \\sin\\left(\\theta\\right)^{2} \\\\ X_{ \\, \\phi \\, \\theta \\, \\phi \\, \\theta }^{ \\phantom{\\, \\phi}\\phantom{\\, \\theta}\\phantom{\\, \\phi}\\phantom{\\, \\theta} } & = & r r_{s} \\sin\\left(\\theta\\right)^{2} \\end{array}</script></html>"
      ],
      "text/latex": [
       "$$\\newcommand{\\Bold}[1]{\\mathbf{#1}}\\begin{array}{lcl} X_{ \\, t \\, r \\, t \\, r }^{ \\phantom{\\, t}\\phantom{\\, r}\\phantom{\\, t}\\phantom{\\, r} } & = & -\\frac{c^{2} r_{s}}{r^{3}} \\\\ X_{ \\, t \\, r \\, r \\, t }^{ \\phantom{\\, t}\\phantom{\\, r}\\phantom{\\, r}\\phantom{\\, t} } & = & \\frac{c^{2} r_{s}}{r^{3}} \\\\ X_{ \\, t \\, \\theta \\, t \\, \\theta }^{ \\phantom{\\, t}\\phantom{\\, \\theta}\\phantom{\\, t}\\phantom{\\, \\theta} } & = & \\frac{c^{2} r r_{s} - c^{2} r_{s}^{2}}{2 \\, r^{2}} \\\\ X_{ \\, t \\, \\theta \\, \\theta \\, t }^{ \\phantom{\\, t}\\phantom{\\, \\theta}\\phantom{\\, \\theta}\\phantom{\\, t} } & = & -\\frac{c^{2} r r_{s} - c^{2} r_{s}^{2}}{2 \\, r^{2}} \\\\ X_{ \\, t \\, \\phi \\, t \\, \\phi }^{ \\phantom{\\, t}\\phantom{\\, \\phi}\\phantom{\\, t}\\phantom{\\, \\phi} } & = & \\frac{{\\left(c^{2} r r_{s} - c^{2} r_{s}^{2}\\right)} \\sin\\left(\\theta\\right)^{2}}{2 \\, r^{2}} \\\\ X_{ \\, t \\, \\phi \\, \\phi \\, t }^{ \\phantom{\\, t}\\phantom{\\, \\phi}\\phantom{\\, \\phi}\\phantom{\\, t} } & = & -\\frac{{\\left(c^{2} r r_{s} - c^{2} r_{s}^{2}\\right)} \\sin\\left(\\theta\\right)^{2}}{2 \\, r^{2}} \\\\ X_{ \\, r \\, t \\, t \\, r }^{ \\phantom{\\, r}\\phantom{\\, t}\\phantom{\\, t}\\phantom{\\, r} } & = & \\frac{c^{2} r_{s}}{r^{3}} \\\\ X_{ \\, r \\, t \\, r \\, t }^{ \\phantom{\\, r}\\phantom{\\, t}\\phantom{\\, r}\\phantom{\\, t} } & = & -\\frac{c^{2} r_{s}}{r^{3}} \\\\ X_{ \\, r \\, \\theta \\, r \\, \\theta }^{ \\phantom{\\, r}\\phantom{\\, \\theta}\\phantom{\\, r}\\phantom{\\, \\theta} } & = & -\\frac{r_{s}}{2 \\, {\\left(r - r_{s}\\right)}} \\\\ X_{ \\, r \\, \\theta \\, \\theta \\, r }^{ \\phantom{\\, r}\\phantom{\\, \\theta}\\phantom{\\, \\theta}\\phantom{\\, r} } & = & \\frac{r_{s}}{2 \\, {\\left(r - r_{s}\\right)}} \\\\ X_{ \\, r \\, \\phi \\, r \\, \\phi }^{ \\phantom{\\, r}\\phantom{\\, \\phi}\\phantom{\\, r}\\phantom{\\, \\phi} } & = & -\\frac{r_{s} \\sin\\left(\\theta\\right)^{2}}{2 \\, {\\left(r - r_{s}\\right)}} \\\\ X_{ \\, r \\, \\phi \\, \\phi \\, r }^{ \\phantom{\\, r}\\phantom{\\, \\phi}\\phantom{\\, \\phi}\\phantom{\\, r} } & = & \\frac{r_{s} \\sin\\left(\\theta\\right)^{2}}{2 \\, {\\left(r - r_{s}\\right)}} \\\\ X_{ \\, \\theta \\, t \\, t \\, \\theta }^{ \\phantom{\\, \\theta}\\phantom{\\, t}\\phantom{\\, t}\\phantom{\\, \\theta} } & = & -\\frac{c^{2} r r_{s} - c^{2} r_{s}^{2}}{2 \\, r^{2}} \\\\ X_{ \\, \\theta \\, t \\, \\theta \\, t }^{ \\phantom{\\, \\theta}\\phantom{\\, t}\\phantom{\\, \\theta}\\phantom{\\, t} } & = & \\frac{c^{2} r r_{s} - c^{2} r_{s}^{2}}{2 \\, r^{2}} \\\\ X_{ \\, \\theta \\, r \\, r \\, \\theta }^{ \\phantom{\\, \\theta}\\phantom{\\, r}\\phantom{\\, r}\\phantom{\\, \\theta} } & = & \\frac{r_{s}}{2 \\, {\\left(r - r_{s}\\right)}} \\\\ X_{ \\, \\theta \\, r \\, \\theta \\, r }^{ \\phantom{\\, \\theta}\\phantom{\\, r}\\phantom{\\, \\theta}\\phantom{\\, r} } & = & -\\frac{r_{s}}{2 \\, {\\left(r - r_{s}\\right)}} \\\\ X_{ \\, \\theta \\, \\phi \\, \\theta \\, \\phi }^{ \\phantom{\\, \\theta}\\phantom{\\, \\phi}\\phantom{\\, \\theta}\\phantom{\\, \\phi} } & = & r r_{s} \\sin\\left(\\theta\\right)^{2} \\\\ X_{ \\, \\theta \\, \\phi \\, \\phi \\, \\theta }^{ \\phantom{\\, \\theta}\\phantom{\\, \\phi}\\phantom{\\, \\phi}\\phantom{\\, \\theta} } & = & -r r_{s} \\sin\\left(\\theta\\right)^{2} \\\\ X_{ \\, \\phi \\, t \\, t \\, \\phi }^{ \\phantom{\\, \\phi}\\phantom{\\, t}\\phantom{\\, t}\\phantom{\\, \\phi} } & = & -\\frac{{\\left(c^{2} r r_{s} - c^{2} r_{s}^{2}\\right)} \\sin\\left(\\theta\\right)^{2}}{2 \\, r^{2}} \\\\ X_{ \\, \\phi \\, t \\, \\phi \\, t }^{ \\phantom{\\, \\phi}\\phantom{\\, t}\\phantom{\\, \\phi}\\phantom{\\, t} } & = & \\frac{{\\left(c^{2} r r_{s} - c^{2} r_{s}^{2}\\right)} \\sin\\left(\\theta\\right)^{2}}{2 \\, r^{2}} \\\\ X_{ \\, \\phi \\, r \\, r \\, \\phi }^{ \\phantom{\\, \\phi}\\phantom{\\, r}\\phantom{\\, r}\\phantom{\\, \\phi} } & = & \\frac{r_{s} \\sin\\left(\\theta\\right)^{2}}{2 \\, {\\left(r - r_{s}\\right)}} \\\\ X_{ \\, \\phi \\, r \\, \\phi \\, r }^{ \\phantom{\\, \\phi}\\phantom{\\, r}\\phantom{\\, \\phi}\\phantom{\\, r} } & = & -\\frac{r_{s} \\sin\\left(\\theta\\right)^{2}}{2 \\, {\\left(r - r_{s}\\right)}} \\\\ X_{ \\, \\phi \\, \\theta \\, \\theta \\, \\phi }^{ \\phantom{\\, \\phi}\\phantom{\\, \\theta}\\phantom{\\, \\theta}\\phantom{\\, \\phi} } & = & -r r_{s} \\sin\\left(\\theta\\right)^{2} \\\\ X_{ \\, \\phi \\, \\theta \\, \\phi \\, \\theta }^{ \\phantom{\\, \\phi}\\phantom{\\, \\theta}\\phantom{\\, \\phi}\\phantom{\\, \\theta} } & = & r r_{s} \\sin\\left(\\theta\\right)^{2} \\end{array}$$"
      ],
      "text/plain": [
       "\\begin{array}{lcl} X_{ \\, t \\, r \\, t \\, r }^{ \\phantom{\\, t}\\phantom{\\, r}\\phantom{\\, t}\\phantom{\\, r} } & = & -\\frac{c^{2} r_{s}}{r^{3}} \\\\ X_{ \\, t \\, r \\, r \\, t }^{ \\phantom{\\, t}\\phantom{\\, r}\\phantom{\\, r}\\phantom{\\, t} } & = & \\frac{c^{2} r_{s}}{r^{3}} \\\\ X_{ \\, t \\, \\theta \\, t \\, \\theta }^{ \\phantom{\\, t}\\phantom{\\, \\theta}\\phantom{\\, t}\\phantom{\\, \\theta} } & = & \\frac{c^{2} r r_{s} - c^{2} r_{s}^{2}}{2 \\, r^{2}} \\\\ X_{ \\, t \\, \\theta \\, \\theta \\, t }^{ \\phantom{\\, t}\\phantom{\\, \\theta}\\phantom{\\, \\theta}\\phantom{\\, t} } & = & -\\frac{c^{2} r r_{s} - c^{2} r_{s}^{2}}{2 \\, r^{2}} \\\\ X_{ \\, t \\, \\phi \\, t \\, \\phi }^{ \\phantom{\\, t}\\phantom{\\, \\phi}\\phantom{\\, t}\\phantom{\\, \\phi} } & = & \\frac{{\\left(c^{2} r r_{s} - c^{2} r_{s}^{2}\\right)} \\sin\\left(\\theta\\right)^{2}}{2 \\, r^{2}} \\\\ X_{ \\, t \\, \\phi \\, \\phi \\, t }^{ \\phantom{\\, t}\\phantom{\\, \\phi}\\phantom{\\, \\phi}\\phantom{\\, t} } & = & -\\frac{{\\left(c^{2} r r_{s} - c^{2} r_{s}^{2}\\right)} \\sin\\left(\\theta\\right)^{2}}{2 \\, r^{2}} \\\\ X_{ \\, r \\, t \\, t \\, r }^{ \\phantom{\\, r}\\phantom{\\, t}\\phantom{\\, t}\\phantom{\\, r} } & = & \\frac{c^{2} r_{s}}{r^{3}} \\\\ X_{ \\, r \\, t \\, r \\, t }^{ \\phantom{\\, r}\\phantom{\\, t}\\phantom{\\, r}\\phantom{\\, t} } & = & -\\frac{c^{2} r_{s}}{r^{3}} \\\\ X_{ \\, r \\, \\theta \\, r \\, \\theta }^{ \\phantom{\\, r}\\phantom{\\, \\theta}\\phantom{\\, r}\\phantom{\\, \\theta} } & = & -\\frac{r_{s}}{2 \\, {\\left(r - r_{s}\\right)}} \\\\ X_{ \\, r \\, \\theta \\, \\theta \\, r }^{ \\phantom{\\, r}\\phantom{\\, \\theta}\\phantom{\\, \\theta}\\phantom{\\, r} } & = & \\frac{r_{s}}{2 \\, {\\left(r - r_{s}\\right)}} \\\\ X_{ \\, r \\, \\phi \\, r \\, \\phi }^{ \\phantom{\\, r}\\phantom{\\, \\phi}\\phantom{\\, r}\\phantom{\\, \\phi} } & = & -\\frac{r_{s} \\sin\\left(\\theta\\right)^{2}}{2 \\, {\\left(r - r_{s}\\right)}} \\\\ X_{ \\, r \\, \\phi \\, \\phi \\, r }^{ \\phantom{\\, r}\\phantom{\\, \\phi}\\phantom{\\, \\phi}\\phantom{\\, r} } & = & \\frac{r_{s} \\sin\\left(\\theta\\right)^{2}}{2 \\, {\\left(r - r_{s}\\right)}} \\\\ X_{ \\, \\theta \\, t \\, t \\, \\theta }^{ \\phantom{\\, \\theta}\\phantom{\\, t}\\phantom{\\, t}\\phantom{\\, \\theta} } & = & -\\frac{c^{2} r r_{s} - c^{2} r_{s}^{2}}{2 \\, r^{2}} \\\\ X_{ \\, \\theta \\, t \\, \\theta \\, t }^{ \\phantom{\\, \\theta}\\phantom{\\, t}\\phantom{\\, \\theta}\\phantom{\\, t} } & = & \\frac{c^{2} r r_{s} - c^{2} r_{s}^{2}}{2 \\, r^{2}} \\\\ X_{ \\, \\theta \\, r \\, r \\, \\theta }^{ \\phantom{\\, \\theta}\\phantom{\\, r}\\phantom{\\, r}\\phantom{\\, \\theta} } & = & \\frac{r_{s}}{2 \\, {\\left(r - r_{s}\\right)}} \\\\ X_{ \\, \\theta \\, r \\, \\theta \\, r }^{ \\phantom{\\, \\theta}\\phantom{\\, r}\\phantom{\\, \\theta}\\phantom{\\, r} } & = & -\\frac{r_{s}}{2 \\, {\\left(r - r_{s}\\right)}} \\\\ X_{ \\, \\theta \\, \\phi \\, \\theta \\, \\phi }^{ \\phantom{\\, \\theta}\\phantom{\\, \\phi}\\phantom{\\, \\theta}\\phantom{\\, \\phi} } & = & r r_{s} \\sin\\left(\\theta\\right)^{2} \\\\ X_{ \\, \\theta \\, \\phi \\, \\phi \\, \\theta }^{ \\phantom{\\, \\theta}\\phantom{\\, \\phi}\\phantom{\\, \\phi}\\phantom{\\, \\theta} } & = & -r r_{s} \\sin\\left(\\theta\\right)^{2} \\\\ X_{ \\, \\phi \\, t \\, t \\, \\phi }^{ \\phantom{\\, \\phi}\\phantom{\\, t}\\phantom{\\, t}\\phantom{\\, \\phi} } & = & -\\frac{{\\left(c^{2} r r_{s} - c^{2} r_{s}^{2}\\right)} \\sin\\left(\\theta\\right)^{2}}{2 \\, r^{2}} \\\\ X_{ \\, \\phi \\, t \\, \\phi \\, t }^{ \\phantom{\\, \\phi}\\phantom{\\, t}\\phantom{\\, \\phi}\\phantom{\\, t} } & = & \\frac{{\\left(c^{2} r r_{s} - c^{2} r_{s}^{2}\\right)} \\sin\\left(\\theta\\right)^{2}}{2 \\, r^{2}} \\\\ X_{ \\, \\phi \\, r \\, r \\, \\phi }^{ \\phantom{\\, \\phi}\\phantom{\\, r}\\phantom{\\, r}\\phantom{\\, \\phi} } & = & \\frac{r_{s} \\sin\\left(\\theta\\right)^{2}}{2 \\, {\\left(r - r_{s}\\right)}} \\\\ X_{ \\, \\phi \\, r \\, \\phi \\, r }^{ \\phantom{\\, \\phi}\\phantom{\\, r}\\phantom{\\, \\phi}\\phantom{\\, r} } & = & -\\frac{r_{s} \\sin\\left(\\theta\\right)^{2}}{2 \\, {\\left(r - r_{s}\\right)}} \\\\ X_{ \\, \\phi \\, \\theta \\, \\theta \\, \\phi }^{ \\phantom{\\, \\phi}\\phantom{\\, \\theta}\\phantom{\\, \\theta}\\phantom{\\, \\phi} } & = & -r r_{s} \\sin\\left(\\theta\\right)^{2} \\\\ X_{ \\, \\phi \\, \\theta \\, \\phi \\, \\theta }^{ \\phantom{\\, \\phi}\\phantom{\\, \\theta}\\phantom{\\, \\phi}\\phantom{\\, \\theta} } & = & r r_{s} \\sin\\left(\\theta\\right)^{2} \\end{array}"
      ]
     },
     "metadata": {},
     "output_type": "display_data"
    },
    {
     "data": {
      "text/html": [
       "<html><script type=\"math/tex; mode=display\">\\newcommand{\\Bold}[1]{\\mathbf{#1}}\\mathrm{Riem}\\left(g_{schwrtzschild}\\right) = \\left( \\frac{r_{s}}{r^{3} - r^{2} r_{s}} \\right) \\frac{\\partial}{\\partial t }\\otimes \\mathrm{d} r\\otimes \\mathrm{d} t\\otimes \\mathrm{d} r + \\left( -\\frac{r_{s}}{r^{3} - r^{2} r_{s}} \\right) \\frac{\\partial}{\\partial t }\\otimes \\mathrm{d} r\\otimes \\mathrm{d} r\\otimes \\mathrm{d} t -\\frac{r_{s}}{2 \\, r} \\frac{\\partial}{\\partial t }\\otimes \\mathrm{d} \\theta\\otimes \\mathrm{d} t\\otimes \\mathrm{d} \\theta + \\frac{r_{s}}{2 \\, r} \\frac{\\partial}{\\partial t }\\otimes \\mathrm{d} \\theta\\otimes \\mathrm{d} \\theta\\otimes \\mathrm{d} t -\\frac{r_{s} \\sin\\left(\\theta\\right)^{2}}{2 \\, r} \\frac{\\partial}{\\partial t }\\otimes \\mathrm{d} \\phi\\otimes \\mathrm{d} t\\otimes \\mathrm{d} \\phi + \\frac{r_{s} \\sin\\left(\\theta\\right)^{2}}{2 \\, r} \\frac{\\partial}{\\partial t }\\otimes \\mathrm{d} \\phi\\otimes \\mathrm{d} \\phi\\otimes \\mathrm{d} t + \\left( \\frac{c^{2} r r_{s} - c^{2} r_{s}^{2}}{r^{4}} \\right) \\frac{\\partial}{\\partial r }\\otimes \\mathrm{d} t\\otimes \\mathrm{d} t\\otimes \\mathrm{d} r + \\left( -\\frac{c^{2} r r_{s} - c^{2} r_{s}^{2}}{r^{4}} \\right) \\frac{\\partial}{\\partial r }\\otimes \\mathrm{d} t\\otimes \\mathrm{d} r\\otimes \\mathrm{d} t -\\frac{r_{s}}{2 \\, r} \\frac{\\partial}{\\partial r }\\otimes \\mathrm{d} \\theta\\otimes \\mathrm{d} r\\otimes \\mathrm{d} \\theta + \\frac{r_{s}}{2 \\, r} \\frac{\\partial}{\\partial r }\\otimes \\mathrm{d} \\theta\\otimes \\mathrm{d} \\theta\\otimes \\mathrm{d} r -\\frac{r_{s} \\sin\\left(\\theta\\right)^{2}}{2 \\, r} \\frac{\\partial}{\\partial r }\\otimes \\mathrm{d} \\phi\\otimes \\mathrm{d} r\\otimes \\mathrm{d} \\phi + \\frac{r_{s} \\sin\\left(\\theta\\right)^{2}}{2 \\, r} \\frac{\\partial}{\\partial r }\\otimes \\mathrm{d} \\phi\\otimes \\mathrm{d} \\phi\\otimes \\mathrm{d} r + \\left( -\\frac{c^{2} r r_{s} - c^{2} r_{s}^{2}}{2 \\, r^{4}} \\right) \\frac{\\partial}{\\partial \\theta }\\otimes \\mathrm{d} t\\otimes \\mathrm{d} t\\otimes \\mathrm{d} \\theta + \\left( \\frac{c^{2} r r_{s} - c^{2} r_{s}^{2}}{2 \\, r^{4}} \\right) \\frac{\\partial}{\\partial \\theta }\\otimes \\mathrm{d} t\\otimes \\mathrm{d} \\theta\\otimes \\mathrm{d} t + \\frac{r_{s}}{2 \\, {\\left(r^{3} - r^{2} r_{s}\\right)}} \\frac{\\partial}{\\partial \\theta }\\otimes \\mathrm{d} r\\otimes \\mathrm{d} r\\otimes \\mathrm{d} \\theta -\\frac{r_{s}}{2 \\, {\\left(r^{3} - r^{2} r_{s}\\right)}} \\frac{\\partial}{\\partial \\theta }\\otimes \\mathrm{d} r\\otimes \\mathrm{d} \\theta\\otimes \\mathrm{d} r + \\frac{r_{s} \\sin\\left(\\theta\\right)^{2}}{r} \\frac{\\partial}{\\partial \\theta }\\otimes \\mathrm{d} \\phi\\otimes \\mathrm{d} \\theta\\otimes \\mathrm{d} \\phi -\\frac{r_{s} \\sin\\left(\\theta\\right)^{2}}{r} \\frac{\\partial}{\\partial \\theta }\\otimes \\mathrm{d} \\phi\\otimes \\mathrm{d} \\phi\\otimes \\mathrm{d} \\theta + \\left( -\\frac{c^{2} r r_{s} - c^{2} r_{s}^{2}}{2 \\, r^{4}} \\right) \\frac{\\partial}{\\partial \\phi }\\otimes \\mathrm{d} t\\otimes \\mathrm{d} t\\otimes \\mathrm{d} \\phi + \\left( \\frac{c^{2} r r_{s} - c^{2} r_{s}^{2}}{2 \\, r^{4}} \\right) \\frac{\\partial}{\\partial \\phi }\\otimes \\mathrm{d} t\\otimes \\mathrm{d} \\phi\\otimes \\mathrm{d} t + \\frac{r_{s}}{2 \\, {\\left(r^{3} - r^{2} r_{s}\\right)}} \\frac{\\partial}{\\partial \\phi }\\otimes \\mathrm{d} r\\otimes \\mathrm{d} r\\otimes \\mathrm{d} \\phi -\\frac{r_{s}}{2 \\, {\\left(r^{3} - r^{2} r_{s}\\right)}} \\frac{\\partial}{\\partial \\phi }\\otimes \\mathrm{d} r\\otimes \\mathrm{d} \\phi\\otimes \\mathrm{d} r -\\frac{r_{s}}{r} \\frac{\\partial}{\\partial \\phi }\\otimes \\mathrm{d} \\theta\\otimes \\mathrm{d} \\theta\\otimes \\mathrm{d} \\phi + \\frac{r_{s}}{r} \\frac{\\partial}{\\partial \\phi }\\otimes \\mathrm{d} \\theta\\otimes \\mathrm{d} \\phi\\otimes \\mathrm{d} \\theta</script></html>"
      ],
      "text/latex": [
       "$$\\newcommand{\\Bold}[1]{\\mathbf{#1}}\\mathrm{Riem}\\left(g_{schwrtzschild}\\right) = \\left( \\frac{r_{s}}{r^{3} - r^{2} r_{s}} \\right) \\frac{\\partial}{\\partial t }\\otimes \\mathrm{d} r\\otimes \\mathrm{d} t\\otimes \\mathrm{d} r + \\left( -\\frac{r_{s}}{r^{3} - r^{2} r_{s}} \\right) \\frac{\\partial}{\\partial t }\\otimes \\mathrm{d} r\\otimes \\mathrm{d} r\\otimes \\mathrm{d} t -\\frac{r_{s}}{2 \\, r} \\frac{\\partial}{\\partial t }\\otimes \\mathrm{d} \\theta\\otimes \\mathrm{d} t\\otimes \\mathrm{d} \\theta + \\frac{r_{s}}{2 \\, r} \\frac{\\partial}{\\partial t }\\otimes \\mathrm{d} \\theta\\otimes \\mathrm{d} \\theta\\otimes \\mathrm{d} t -\\frac{r_{s} \\sin\\left(\\theta\\right)^{2}}{2 \\, r} \\frac{\\partial}{\\partial t }\\otimes \\mathrm{d} \\phi\\otimes \\mathrm{d} t\\otimes \\mathrm{d} \\phi + \\frac{r_{s} \\sin\\left(\\theta\\right)^{2}}{2 \\, r} \\frac{\\partial}{\\partial t }\\otimes \\mathrm{d} \\phi\\otimes \\mathrm{d} \\phi\\otimes \\mathrm{d} t + \\left( \\frac{c^{2} r r_{s} - c^{2} r_{s}^{2}}{r^{4}} \\right) \\frac{\\partial}{\\partial r }\\otimes \\mathrm{d} t\\otimes \\mathrm{d} t\\otimes \\mathrm{d} r + \\left( -\\frac{c^{2} r r_{s} - c^{2} r_{s}^{2}}{r^{4}} \\right) \\frac{\\partial}{\\partial r }\\otimes \\mathrm{d} t\\otimes \\mathrm{d} r\\otimes \\mathrm{d} t -\\frac{r_{s}}{2 \\, r} \\frac{\\partial}{\\partial r }\\otimes \\mathrm{d} \\theta\\otimes \\mathrm{d} r\\otimes \\mathrm{d} \\theta + \\frac{r_{s}}{2 \\, r} \\frac{\\partial}{\\partial r }\\otimes \\mathrm{d} \\theta\\otimes \\mathrm{d} \\theta\\otimes \\mathrm{d} r -\\frac{r_{s} \\sin\\left(\\theta\\right)^{2}}{2 \\, r} \\frac{\\partial}{\\partial r }\\otimes \\mathrm{d} \\phi\\otimes \\mathrm{d} r\\otimes \\mathrm{d} \\phi + \\frac{r_{s} \\sin\\left(\\theta\\right)^{2}}{2 \\, r} \\frac{\\partial}{\\partial r }\\otimes \\mathrm{d} \\phi\\otimes \\mathrm{d} \\phi\\otimes \\mathrm{d} r + \\left( -\\frac{c^{2} r r_{s} - c^{2} r_{s}^{2}}{2 \\, r^{4}} \\right) \\frac{\\partial}{\\partial \\theta }\\otimes \\mathrm{d} t\\otimes \\mathrm{d} t\\otimes \\mathrm{d} \\theta + \\left( \\frac{c^{2} r r_{s} - c^{2} r_{s}^{2}}{2 \\, r^{4}} \\right) \\frac{\\partial}{\\partial \\theta }\\otimes \\mathrm{d} t\\otimes \\mathrm{d} \\theta\\otimes \\mathrm{d} t + \\frac{r_{s}}{2 \\, {\\left(r^{3} - r^{2} r_{s}\\right)}} \\frac{\\partial}{\\partial \\theta }\\otimes \\mathrm{d} r\\otimes \\mathrm{d} r\\otimes \\mathrm{d} \\theta -\\frac{r_{s}}{2 \\, {\\left(r^{3} - r^{2} r_{s}\\right)}} \\frac{\\partial}{\\partial \\theta }\\otimes \\mathrm{d} r\\otimes \\mathrm{d} \\theta\\otimes \\mathrm{d} r + \\frac{r_{s} \\sin\\left(\\theta\\right)^{2}}{r} \\frac{\\partial}{\\partial \\theta }\\otimes \\mathrm{d} \\phi\\otimes \\mathrm{d} \\theta\\otimes \\mathrm{d} \\phi -\\frac{r_{s} \\sin\\left(\\theta\\right)^{2}}{r} \\frac{\\partial}{\\partial \\theta }\\otimes \\mathrm{d} \\phi\\otimes \\mathrm{d} \\phi\\otimes \\mathrm{d} \\theta + \\left( -\\frac{c^{2} r r_{s} - c^{2} r_{s}^{2}}{2 \\, r^{4}} \\right) \\frac{\\partial}{\\partial \\phi }\\otimes \\mathrm{d} t\\otimes \\mathrm{d} t\\otimes \\mathrm{d} \\phi + \\left( \\frac{c^{2} r r_{s} - c^{2} r_{s}^{2}}{2 \\, r^{4}} \\right) \\frac{\\partial}{\\partial \\phi }\\otimes \\mathrm{d} t\\otimes \\mathrm{d} \\phi\\otimes \\mathrm{d} t + \\frac{r_{s}}{2 \\, {\\left(r^{3} - r^{2} r_{s}\\right)}} \\frac{\\partial}{\\partial \\phi }\\otimes \\mathrm{d} r\\otimes \\mathrm{d} r\\otimes \\mathrm{d} \\phi -\\frac{r_{s}}{2 \\, {\\left(r^{3} - r^{2} r_{s}\\right)}} \\frac{\\partial}{\\partial \\phi }\\otimes \\mathrm{d} r\\otimes \\mathrm{d} \\phi\\otimes \\mathrm{d} r -\\frac{r_{s}}{r} \\frac{\\partial}{\\partial \\phi }\\otimes \\mathrm{d} \\theta\\otimes \\mathrm{d} \\theta\\otimes \\mathrm{d} \\phi + \\frac{r_{s}}{r} \\frac{\\partial}{\\partial \\phi }\\otimes \\mathrm{d} \\theta\\otimes \\mathrm{d} \\phi\\otimes \\mathrm{d} \\theta$$"
      ],
      "text/plain": [
       "\\mathrm{Riem}\\left(g_{schwrtzschild}\\right) = \\left( \\frac{r_{s}}{r^{3} - r^{2} r_{s}} \\right) \\frac{\\partial}{\\partial t }\\otimes \\mathrm{d} r\\otimes \\mathrm{d} t\\otimes \\mathrm{d} r + \\left( -\\frac{r_{s}}{r^{3} - r^{2} r_{s}} \\right) \\frac{\\partial}{\\partial t }\\otimes \\mathrm{d} r\\otimes \\mathrm{d} r\\otimes \\mathrm{d} t -\\frac{r_{s}}{2 \\, r} \\frac{\\partial}{\\partial t }\\otimes \\mathrm{d} \\theta\\otimes \\mathrm{d} t\\otimes \\mathrm{d} \\theta + \\frac{r_{s}}{2 \\, r} \\frac{\\partial}{\\partial t }\\otimes \\mathrm{d} \\theta\\otimes \\mathrm{d} \\theta\\otimes \\mathrm{d} t -\\frac{r_{s} \\sin\\left(\\theta\\right)^{2}}{2 \\, r} \\frac{\\partial}{\\partial t }\\otimes \\mathrm{d} \\phi\\otimes \\mathrm{d} t\\otimes \\mathrm{d} \\phi + \\frac{r_{s} \\sin\\left(\\theta\\right)^{2}}{2 \\, r} \\frac{\\partial}{\\partial t }\\otimes \\mathrm{d} \\phi\\otimes \\mathrm{d} \\phi\\otimes \\mathrm{d} t + \\left( \\frac{c^{2} r r_{s} - c^{2} r_{s}^{2}}{r^{4}} \\right) \\frac{\\partial}{\\partial r }\\otimes \\mathrm{d} t\\otimes \\mathrm{d} t\\otimes \\mathrm{d} r + \\left( -\\frac{c^{2} r r_{s} - c^{2} r_{s}^{2}}{r^{4}} \\right) \\frac{\\partial}{\\partial r }\\otimes \\mathrm{d} t\\otimes \\mathrm{d} r\\otimes \\mathrm{d} t -\\frac{r_{s}}{2 \\, r} \\frac{\\partial}{\\partial r }\\otimes \\mathrm{d} \\theta\\otimes \\mathrm{d} r\\otimes \\mathrm{d} \\theta + \\frac{r_{s}}{2 \\, r} \\frac{\\partial}{\\partial r }\\otimes \\mathrm{d} \\theta\\otimes \\mathrm{d} \\theta\\otimes \\mathrm{d} r -\\frac{r_{s} \\sin\\left(\\theta\\right)^{2}}{2 \\, r} \\frac{\\partial}{\\partial r }\\otimes \\mathrm{d} \\phi\\otimes \\mathrm{d} r\\otimes \\mathrm{d} \\phi + \\frac{r_{s} \\sin\\left(\\theta\\right)^{2}}{2 \\, r} \\frac{\\partial}{\\partial r }\\otimes \\mathrm{d} \\phi\\otimes \\mathrm{d} \\phi\\otimes \\mathrm{d} r + \\left( -\\frac{c^{2} r r_{s} - c^{2} r_{s}^{2}}{2 \\, r^{4}} \\right) \\frac{\\partial}{\\partial \\theta }\\otimes \\mathrm{d} t\\otimes \\mathrm{d} t\\otimes \\mathrm{d} \\theta + \\left( \\frac{c^{2} r r_{s} - c^{2} r_{s}^{2}}{2 \\, r^{4}} \\right) \\frac{\\partial}{\\partial \\theta }\\otimes \\mathrm{d} t\\otimes \\mathrm{d} \\theta\\otimes \\mathrm{d} t + \\frac{r_{s}}{2 \\, {\\left(r^{3} - r^{2} r_{s}\\right)}} \\frac{\\partial}{\\partial \\theta }\\otimes \\mathrm{d} r\\otimes \\mathrm{d} r\\otimes \\mathrm{d} \\theta -\\frac{r_{s}}{2 \\, {\\left(r^{3} - r^{2} r_{s}\\right)}} \\frac{\\partial}{\\partial \\theta }\\otimes \\mathrm{d} r\\otimes \\mathrm{d} \\theta\\otimes \\mathrm{d} r + \\frac{r_{s} \\sin\\left(\\theta\\right)^{2}}{r} \\frac{\\partial}{\\partial \\theta }\\otimes \\mathrm{d} \\phi\\otimes \\mathrm{d} \\theta\\otimes \\mathrm{d} \\phi -\\frac{r_{s} \\sin\\left(\\theta\\right)^{2}}{r} \\frac{\\partial}{\\partial \\theta }\\otimes \\mathrm{d} \\phi\\otimes \\mathrm{d} \\phi\\otimes \\mathrm{d} \\theta + \\left( -\\frac{c^{2} r r_{s} - c^{2} r_{s}^{2}}{2 \\, r^{4}} \\right) \\frac{\\partial}{\\partial \\phi }\\otimes \\mathrm{d} t\\otimes \\mathrm{d} t\\otimes \\mathrm{d} \\phi + \\left( \\frac{c^{2} r r_{s} - c^{2} r_{s}^{2}}{2 \\, r^{4}} \\right) \\frac{\\partial}{\\partial \\phi }\\otimes \\mathrm{d} t\\otimes \\mathrm{d} \\phi\\otimes \\mathrm{d} t + \\frac{r_{s}}{2 \\, {\\left(r^{3} - r^{2} r_{s}\\right)}} \\frac{\\partial}{\\partial \\phi }\\otimes \\mathrm{d} r\\otimes \\mathrm{d} r\\otimes \\mathrm{d} \\phi -\\frac{r_{s}}{2 \\, {\\left(r^{3} - r^{2} r_{s}\\right)}} \\frac{\\partial}{\\partial \\phi }\\otimes \\mathrm{d} r\\otimes \\mathrm{d} \\phi\\otimes \\mathrm{d} r -\\frac{r_{s}}{r} \\frac{\\partial}{\\partial \\phi }\\otimes \\mathrm{d} \\theta\\otimes \\mathrm{d} \\theta\\otimes \\mathrm{d} \\phi + \\frac{r_{s}}{r} \\frac{\\partial}{\\partial \\phi }\\otimes \\mathrm{d} \\theta\\otimes \\mathrm{d} \\phi\\otimes \\mathrm{d} \\theta"
      ]
     },
     "metadata": {},
     "output_type": "display_data"
    }
   ],
   "source": [
    "#Riemann tensor\n",
    "Riemann_schw=g_schw.riemann()\n",
    "#let's lower the indices\n",
    "final=Riemann_schw.down(g_schw,0)\n",
    "show(latex(final.display_comp( only_nonzero=True)))\n",
    "\n",
    "#other way\n",
    "nabla=g_schw.connection()\n",
    "Riem=nabla.riemann()\n",
    "show(latex(Riem.display()))"
   ]
  },
  {
   "cell_type": "code",
   "execution_count": 14,
   "id": "54ed68e6",
   "metadata": {},
   "outputs": [
    {
     "data": {
      "text/html": [
       "<html><script type=\"math/tex; mode=display\">\\newcommand{\\Bold}[1]{\\mathbf{#1}}\\begin{array}{lcl} \\mathrm{Riem}\\left(g_{schwrtzschild}\\right)_{ \\phantom{\\, t} \\, r \\, t \\, r }^{ \\, t \\phantom{\\, r} \\phantom{\\, t} \\phantom{\\, r} } & = & \\frac{r_{s}}{r^{3} - r^{2} r_{s}} \\\\ \\mathrm{Riem}\\left(g_{schwrtzschild}\\right)_{ \\phantom{\\, t} \\, r \\, r \\, t }^{ \\, t \\phantom{\\, r} \\phantom{\\, r} \\phantom{\\, t} } & = & -\\frac{r_{s}}{r^{3} - r^{2} r_{s}} \\\\ \\mathrm{Riem}\\left(g_{schwrtzschild}\\right)_{ \\phantom{\\, t} \\, \\theta \\, t \\, \\theta }^{ \\, t \\phantom{\\, \\theta} \\phantom{\\, t} \\phantom{\\, \\theta} } & = & -\\frac{r_{s}}{2 \\, r} \\\\ \\mathrm{Riem}\\left(g_{schwrtzschild}\\right)_{ \\phantom{\\, t} \\, \\theta \\, \\theta \\, t }^{ \\, t \\phantom{\\, \\theta} \\phantom{\\, \\theta} \\phantom{\\, t} } & = & \\frac{r_{s}}{2 \\, r} \\\\ \\mathrm{Riem}\\left(g_{schwrtzschild}\\right)_{ \\phantom{\\, t} \\, \\phi \\, t \\, \\phi }^{ \\, t \\phantom{\\, \\phi} \\phantom{\\, t} \\phantom{\\, \\phi} } & = & -\\frac{r_{s} \\sin\\left(\\theta\\right)^{2}}{2 \\, r} \\\\ \\mathrm{Riem}\\left(g_{schwrtzschild}\\right)_{ \\phantom{\\, t} \\, \\phi \\, \\phi \\, t }^{ \\, t \\phantom{\\, \\phi} \\phantom{\\, \\phi} \\phantom{\\, t} } & = & \\frac{r_{s} \\sin\\left(\\theta\\right)^{2}}{2 \\, r} \\\\ \\mathrm{Riem}\\left(g_{schwrtzschild}\\right)_{ \\phantom{\\, r} \\, t \\, t \\, r }^{ \\, r \\phantom{\\, t} \\phantom{\\, t} \\phantom{\\, r} } & = & \\frac{c^{2} r r_{s} - c^{2} r_{s}^{2}}{r^{4}} \\\\ \\mathrm{Riem}\\left(g_{schwrtzschild}\\right)_{ \\phantom{\\, r} \\, t \\, r \\, t }^{ \\, r \\phantom{\\, t} \\phantom{\\, r} \\phantom{\\, t} } & = & -\\frac{c^{2} r r_{s} - c^{2} r_{s}^{2}}{r^{4}} \\\\ \\mathrm{Riem}\\left(g_{schwrtzschild}\\right)_{ \\phantom{\\, r} \\, \\theta \\, r \\, \\theta }^{ \\, r \\phantom{\\, \\theta} \\phantom{\\, r} \\phantom{\\, \\theta} } & = & -\\frac{r_{s}}{2 \\, r} \\\\ \\mathrm{Riem}\\left(g_{schwrtzschild}\\right)_{ \\phantom{\\, r} \\, \\theta \\, \\theta \\, r }^{ \\, r \\phantom{\\, \\theta} \\phantom{\\, \\theta} \\phantom{\\, r} } & = & \\frac{r_{s}}{2 \\, r} \\\\ \\mathrm{Riem}\\left(g_{schwrtzschild}\\right)_{ \\phantom{\\, r} \\, \\phi \\, r \\, \\phi }^{ \\, r \\phantom{\\, \\phi} \\phantom{\\, r} \\phantom{\\, \\phi} } & = & -\\frac{r_{s} \\sin\\left(\\theta\\right)^{2}}{2 \\, r} \\\\ \\mathrm{Riem}\\left(g_{schwrtzschild}\\right)_{ \\phantom{\\, r} \\, \\phi \\, \\phi \\, r }^{ \\, r \\phantom{\\, \\phi} \\phantom{\\, \\phi} \\phantom{\\, r} } & = & \\frac{r_{s} \\sin\\left(\\theta\\right)^{2}}{2 \\, r} \\\\ \\mathrm{Riem}\\left(g_{schwrtzschild}\\right)_{ \\phantom{\\, \\theta} \\, t \\, t \\, \\theta }^{ \\, \\theta \\phantom{\\, t} \\phantom{\\, t} \\phantom{\\, \\theta} } & = & -\\frac{c^{2} r r_{s} - c^{2} r_{s}^{2}}{2 \\, r^{4}} \\\\ \\mathrm{Riem}\\left(g_{schwrtzschild}\\right)_{ \\phantom{\\, \\theta} \\, t \\, \\theta \\, t }^{ \\, \\theta \\phantom{\\, t} \\phantom{\\, \\theta} \\phantom{\\, t} } & = & \\frac{c^{2} r r_{s} - c^{2} r_{s}^{2}}{2 \\, r^{4}} \\\\ \\mathrm{Riem}\\left(g_{schwrtzschild}\\right)_{ \\phantom{\\, \\theta} \\, r \\, r \\, \\theta }^{ \\, \\theta \\phantom{\\, r} \\phantom{\\, r} \\phantom{\\, \\theta} } & = & \\frac{r_{s}}{2 \\, {\\left(r^{3} - r^{2} r_{s}\\right)}} \\\\ \\mathrm{Riem}\\left(g_{schwrtzschild}\\right)_{ \\phantom{\\, \\theta} \\, r \\, \\theta \\, r }^{ \\, \\theta \\phantom{\\, r} \\phantom{\\, \\theta} \\phantom{\\, r} } & = & -\\frac{r_{s}}{2 \\, {\\left(r^{3} - r^{2} r_{s}\\right)}} \\\\ \\mathrm{Riem}\\left(g_{schwrtzschild}\\right)_{ \\phantom{\\, \\theta} \\, \\phi \\, \\theta \\, \\phi }^{ \\, \\theta \\phantom{\\, \\phi} \\phantom{\\, \\theta} \\phantom{\\, \\phi} } & = & \\frac{r_{s} \\sin\\left(\\theta\\right)^{2}}{r} \\\\ \\mathrm{Riem}\\left(g_{schwrtzschild}\\right)_{ \\phantom{\\, \\theta} \\, \\phi \\, \\phi \\, \\theta }^{ \\, \\theta \\phantom{\\, \\phi} \\phantom{\\, \\phi} \\phantom{\\, \\theta} } & = & -\\frac{r_{s} \\sin\\left(\\theta\\right)^{2}}{r} \\\\ \\mathrm{Riem}\\left(g_{schwrtzschild}\\right)_{ \\phantom{\\, \\phi} \\, t \\, t \\, \\phi }^{ \\, \\phi \\phantom{\\, t} \\phantom{\\, t} \\phantom{\\, \\phi} } & = & -\\frac{c^{2} r r_{s} - c^{2} r_{s}^{2}}{2 \\, r^{4}} \\\\ \\mathrm{Riem}\\left(g_{schwrtzschild}\\right)_{ \\phantom{\\, \\phi} \\, t \\, \\phi \\, t }^{ \\, \\phi \\phantom{\\, t} \\phantom{\\, \\phi} \\phantom{\\, t} } & = & \\frac{c^{2} r r_{s} - c^{2} r_{s}^{2}}{2 \\, r^{4}} \\\\ \\mathrm{Riem}\\left(g_{schwrtzschild}\\right)_{ \\phantom{\\, \\phi} \\, r \\, r \\, \\phi }^{ \\, \\phi \\phantom{\\, r} \\phantom{\\, r} \\phantom{\\, \\phi} } & = & \\frac{r_{s}}{2 \\, {\\left(r^{3} - r^{2} r_{s}\\right)}} \\\\ \\mathrm{Riem}\\left(g_{schwrtzschild}\\right)_{ \\phantom{\\, \\phi} \\, r \\, \\phi \\, r }^{ \\, \\phi \\phantom{\\, r} \\phantom{\\, \\phi} \\phantom{\\, r} } & = & -\\frac{r_{s}}{2 \\, {\\left(r^{3} - r^{2} r_{s}\\right)}} \\\\ \\mathrm{Riem}\\left(g_{schwrtzschild}\\right)_{ \\phantom{\\, \\phi} \\, \\theta \\, \\theta \\, \\phi }^{ \\, \\phi \\phantom{\\, \\theta} \\phantom{\\, \\theta} \\phantom{\\, \\phi} } & = & -\\frac{r_{s}}{r} \\\\ \\mathrm{Riem}\\left(g_{schwrtzschild}\\right)_{ \\phantom{\\, \\phi} \\, \\theta \\, \\phi \\, \\theta }^{ \\, \\phi \\phantom{\\, \\theta} \\phantom{\\, \\phi} \\phantom{\\, \\theta} } & = & \\frac{r_{s}}{r} \\end{array}</script></html>"
      ],
      "text/latex": [
       "$$\\newcommand{\\Bold}[1]{\\mathbf{#1}}\\begin{array}{lcl} \\mathrm{Riem}\\left(g_{schwrtzschild}\\right)_{ \\phantom{\\, t} \\, r \\, t \\, r }^{ \\, t \\phantom{\\, r} \\phantom{\\, t} \\phantom{\\, r} } & = & \\frac{r_{s}}{r^{3} - r^{2} r_{s}} \\\\ \\mathrm{Riem}\\left(g_{schwrtzschild}\\right)_{ \\phantom{\\, t} \\, r \\, r \\, t }^{ \\, t \\phantom{\\, r} \\phantom{\\, r} \\phantom{\\, t} } & = & -\\frac{r_{s}}{r^{3} - r^{2} r_{s}} \\\\ \\mathrm{Riem}\\left(g_{schwrtzschild}\\right)_{ \\phantom{\\, t} \\, \\theta \\, t \\, \\theta }^{ \\, t \\phantom{\\, \\theta} \\phantom{\\, t} \\phantom{\\, \\theta} } & = & -\\frac{r_{s}}{2 \\, r} \\\\ \\mathrm{Riem}\\left(g_{schwrtzschild}\\right)_{ \\phantom{\\, t} \\, \\theta \\, \\theta \\, t }^{ \\, t \\phantom{\\, \\theta} \\phantom{\\, \\theta} \\phantom{\\, t} } & = & \\frac{r_{s}}{2 \\, r} \\\\ \\mathrm{Riem}\\left(g_{schwrtzschild}\\right)_{ \\phantom{\\, t} \\, \\phi \\, t \\, \\phi }^{ \\, t \\phantom{\\, \\phi} \\phantom{\\, t} \\phantom{\\, \\phi} } & = & -\\frac{r_{s} \\sin\\left(\\theta\\right)^{2}}{2 \\, r} \\\\ \\mathrm{Riem}\\left(g_{schwrtzschild}\\right)_{ \\phantom{\\, t} \\, \\phi \\, \\phi \\, t }^{ \\, t \\phantom{\\, \\phi} \\phantom{\\, \\phi} \\phantom{\\, t} } & = & \\frac{r_{s} \\sin\\left(\\theta\\right)^{2}}{2 \\, r} \\\\ \\mathrm{Riem}\\left(g_{schwrtzschild}\\right)_{ \\phantom{\\, r} \\, t \\, t \\, r }^{ \\, r \\phantom{\\, t} \\phantom{\\, t} \\phantom{\\, r} } & = & \\frac{c^{2} r r_{s} - c^{2} r_{s}^{2}}{r^{4}} \\\\ \\mathrm{Riem}\\left(g_{schwrtzschild}\\right)_{ \\phantom{\\, r} \\, t \\, r \\, t }^{ \\, r \\phantom{\\, t} \\phantom{\\, r} \\phantom{\\, t} } & = & -\\frac{c^{2} r r_{s} - c^{2} r_{s}^{2}}{r^{4}} \\\\ \\mathrm{Riem}\\left(g_{schwrtzschild}\\right)_{ \\phantom{\\, r} \\, \\theta \\, r \\, \\theta }^{ \\, r \\phantom{\\, \\theta} \\phantom{\\, r} \\phantom{\\, \\theta} } & = & -\\frac{r_{s}}{2 \\, r} \\\\ \\mathrm{Riem}\\left(g_{schwrtzschild}\\right)_{ \\phantom{\\, r} \\, \\theta \\, \\theta \\, r }^{ \\, r \\phantom{\\, \\theta} \\phantom{\\, \\theta} \\phantom{\\, r} } & = & \\frac{r_{s}}{2 \\, r} \\\\ \\mathrm{Riem}\\left(g_{schwrtzschild}\\right)_{ \\phantom{\\, r} \\, \\phi \\, r \\, \\phi }^{ \\, r \\phantom{\\, \\phi} \\phantom{\\, r} \\phantom{\\, \\phi} } & = & -\\frac{r_{s} \\sin\\left(\\theta\\right)^{2}}{2 \\, r} \\\\ \\mathrm{Riem}\\left(g_{schwrtzschild}\\right)_{ \\phantom{\\, r} \\, \\phi \\, \\phi \\, r }^{ \\, r \\phantom{\\, \\phi} \\phantom{\\, \\phi} \\phantom{\\, r} } & = & \\frac{r_{s} \\sin\\left(\\theta\\right)^{2}}{2 \\, r} \\\\ \\mathrm{Riem}\\left(g_{schwrtzschild}\\right)_{ \\phantom{\\, \\theta} \\, t \\, t \\, \\theta }^{ \\, \\theta \\phantom{\\, t} \\phantom{\\, t} \\phantom{\\, \\theta} } & = & -\\frac{c^{2} r r_{s} - c^{2} r_{s}^{2}}{2 \\, r^{4}} \\\\ \\mathrm{Riem}\\left(g_{schwrtzschild}\\right)_{ \\phantom{\\, \\theta} \\, t \\, \\theta \\, t }^{ \\, \\theta \\phantom{\\, t} \\phantom{\\, \\theta} \\phantom{\\, t} } & = & \\frac{c^{2} r r_{s} - c^{2} r_{s}^{2}}{2 \\, r^{4}} \\\\ \\mathrm{Riem}\\left(g_{schwrtzschild}\\right)_{ \\phantom{\\, \\theta} \\, r \\, r \\, \\theta }^{ \\, \\theta \\phantom{\\, r} \\phantom{\\, r} \\phantom{\\, \\theta} } & = & \\frac{r_{s}}{2 \\, {\\left(r^{3} - r^{2} r_{s}\\right)}} \\\\ \\mathrm{Riem}\\left(g_{schwrtzschild}\\right)_{ \\phantom{\\, \\theta} \\, r \\, \\theta \\, r }^{ \\, \\theta \\phantom{\\, r} \\phantom{\\, \\theta} \\phantom{\\, r} } & = & -\\frac{r_{s}}{2 \\, {\\left(r^{3} - r^{2} r_{s}\\right)}} \\\\ \\mathrm{Riem}\\left(g_{schwrtzschild}\\right)_{ \\phantom{\\, \\theta} \\, \\phi \\, \\theta \\, \\phi }^{ \\, \\theta \\phantom{\\, \\phi} \\phantom{\\, \\theta} \\phantom{\\, \\phi} } & = & \\frac{r_{s} \\sin\\left(\\theta\\right)^{2}}{r} \\\\ \\mathrm{Riem}\\left(g_{schwrtzschild}\\right)_{ \\phantom{\\, \\theta} \\, \\phi \\, \\phi \\, \\theta }^{ \\, \\theta \\phantom{\\, \\phi} \\phantom{\\, \\phi} \\phantom{\\, \\theta} } & = & -\\frac{r_{s} \\sin\\left(\\theta\\right)^{2}}{r} \\\\ \\mathrm{Riem}\\left(g_{schwrtzschild}\\right)_{ \\phantom{\\, \\phi} \\, t \\, t \\, \\phi }^{ \\, \\phi \\phantom{\\, t} \\phantom{\\, t} \\phantom{\\, \\phi} } & = & -\\frac{c^{2} r r_{s} - c^{2} r_{s}^{2}}{2 \\, r^{4}} \\\\ \\mathrm{Riem}\\left(g_{schwrtzschild}\\right)_{ \\phantom{\\, \\phi} \\, t \\, \\phi \\, t }^{ \\, \\phi \\phantom{\\, t} \\phantom{\\, \\phi} \\phantom{\\, t} } & = & \\frac{c^{2} r r_{s} - c^{2} r_{s}^{2}}{2 \\, r^{4}} \\\\ \\mathrm{Riem}\\left(g_{schwrtzschild}\\right)_{ \\phantom{\\, \\phi} \\, r \\, r \\, \\phi }^{ \\, \\phi \\phantom{\\, r} \\phantom{\\, r} \\phantom{\\, \\phi} } & = & \\frac{r_{s}}{2 \\, {\\left(r^{3} - r^{2} r_{s}\\right)}} \\\\ \\mathrm{Riem}\\left(g_{schwrtzschild}\\right)_{ \\phantom{\\, \\phi} \\, r \\, \\phi \\, r }^{ \\, \\phi \\phantom{\\, r} \\phantom{\\, \\phi} \\phantom{\\, r} } & = & -\\frac{r_{s}}{2 \\, {\\left(r^{3} - r^{2} r_{s}\\right)}} \\\\ \\mathrm{Riem}\\left(g_{schwrtzschild}\\right)_{ \\phantom{\\, \\phi} \\, \\theta \\, \\theta \\, \\phi }^{ \\, \\phi \\phantom{\\, \\theta} \\phantom{\\, \\theta} \\phantom{\\, \\phi} } & = & -\\frac{r_{s}}{r} \\\\ \\mathrm{Riem}\\left(g_{schwrtzschild}\\right)_{ \\phantom{\\, \\phi} \\, \\theta \\, \\phi \\, \\theta }^{ \\, \\phi \\phantom{\\, \\theta} \\phantom{\\, \\phi} \\phantom{\\, \\theta} } & = & \\frac{r_{s}}{r} \\end{array}$$"
      ],
      "text/plain": [
       "\\begin{array}{lcl} \\mathrm{Riem}\\left(g_{schwrtzschild}\\right)_{ \\phantom{\\, t} \\, r \\, t \\, r }^{ \\, t \\phantom{\\, r} \\phantom{\\, t} \\phantom{\\, r} } & = & \\frac{r_{s}}{r^{3} - r^{2} r_{s}} \\\\ \\mathrm{Riem}\\left(g_{schwrtzschild}\\right)_{ \\phantom{\\, t} \\, r \\, r \\, t }^{ \\, t \\phantom{\\, r} \\phantom{\\, r} \\phantom{\\, t} } & = & -\\frac{r_{s}}{r^{3} - r^{2} r_{s}} \\\\ \\mathrm{Riem}\\left(g_{schwrtzschild}\\right)_{ \\phantom{\\, t} \\, \\theta \\, t \\, \\theta }^{ \\, t \\phantom{\\, \\theta} \\phantom{\\, t} \\phantom{\\, \\theta} } & = & -\\frac{r_{s}}{2 \\, r} \\\\ \\mathrm{Riem}\\left(g_{schwrtzschild}\\right)_{ \\phantom{\\, t} \\, \\theta \\, \\theta \\, t }^{ \\, t \\phantom{\\, \\theta} \\phantom{\\, \\theta} \\phantom{\\, t} } & = & \\frac{r_{s}}{2 \\, r} \\\\ \\mathrm{Riem}\\left(g_{schwrtzschild}\\right)_{ \\phantom{\\, t} \\, \\phi \\, t \\, \\phi }^{ \\, t \\phantom{\\, \\phi} \\phantom{\\, t} \\phantom{\\, \\phi} } & = & -\\frac{r_{s} \\sin\\left(\\theta\\right)^{2}}{2 \\, r} \\\\ \\mathrm{Riem}\\left(g_{schwrtzschild}\\right)_{ \\phantom{\\, t} \\, \\phi \\, \\phi \\, t }^{ \\, t \\phantom{\\, \\phi} \\phantom{\\, \\phi} \\phantom{\\, t} } & = & \\frac{r_{s} \\sin\\left(\\theta\\right)^{2}}{2 \\, r} \\\\ \\mathrm{Riem}\\left(g_{schwrtzschild}\\right)_{ \\phantom{\\, r} \\, t \\, t \\, r }^{ \\, r \\phantom{\\, t} \\phantom{\\, t} \\phantom{\\, r} } & = & \\frac{c^{2} r r_{s} - c^{2} r_{s}^{2}}{r^{4}} \\\\ \\mathrm{Riem}\\left(g_{schwrtzschild}\\right)_{ \\phantom{\\, r} \\, t \\, r \\, t }^{ \\, r \\phantom{\\, t} \\phantom{\\, r} \\phantom{\\, t} } & = & -\\frac{c^{2} r r_{s} - c^{2} r_{s}^{2}}{r^{4}} \\\\ \\mathrm{Riem}\\left(g_{schwrtzschild}\\right)_{ \\phantom{\\, r} \\, \\theta \\, r \\, \\theta }^{ \\, r \\phantom{\\, \\theta} \\phantom{\\, r} \\phantom{\\, \\theta} } & = & -\\frac{r_{s}}{2 \\, r} \\\\ \\mathrm{Riem}\\left(g_{schwrtzschild}\\right)_{ \\phantom{\\, r} \\, \\theta \\, \\theta \\, r }^{ \\, r \\phantom{\\, \\theta} \\phantom{\\, \\theta} \\phantom{\\, r} } & = & \\frac{r_{s}}{2 \\, r} \\\\ \\mathrm{Riem}\\left(g_{schwrtzschild}\\right)_{ \\phantom{\\, r} \\, \\phi \\, r \\, \\phi }^{ \\, r \\phantom{\\, \\phi} \\phantom{\\, r} \\phantom{\\, \\phi} } & = & -\\frac{r_{s} \\sin\\left(\\theta\\right)^{2}}{2 \\, r} \\\\ \\mathrm{Riem}\\left(g_{schwrtzschild}\\right)_{ \\phantom{\\, r} \\, \\phi \\, \\phi \\, r }^{ \\, r \\phantom{\\, \\phi} \\phantom{\\, \\phi} \\phantom{\\, r} } & = & \\frac{r_{s} \\sin\\left(\\theta\\right)^{2}}{2 \\, r} \\\\ \\mathrm{Riem}\\left(g_{schwrtzschild}\\right)_{ \\phantom{\\, \\theta} \\, t \\, t \\, \\theta }^{ \\, \\theta \\phantom{\\, t} \\phantom{\\, t} \\phantom{\\, \\theta} } & = & -\\frac{c^{2} r r_{s} - c^{2} r_{s}^{2}}{2 \\, r^{4}} \\\\ \\mathrm{Riem}\\left(g_{schwrtzschild}\\right)_{ \\phantom{\\, \\theta} \\, t \\, \\theta \\, t }^{ \\, \\theta \\phantom{\\, t} \\phantom{\\, \\theta} \\phantom{\\, t} } & = & \\frac{c^{2} r r_{s} - c^{2} r_{s}^{2}}{2 \\, r^{4}} \\\\ \\mathrm{Riem}\\left(g_{schwrtzschild}\\right)_{ \\phantom{\\, \\theta} \\, r \\, r \\, \\theta }^{ \\, \\theta \\phantom{\\, r} \\phantom{\\, r} \\phantom{\\, \\theta} } & = & \\frac{r_{s}}{2 \\, {\\left(r^{3} - r^{2} r_{s}\\right)}} \\\\ \\mathrm{Riem}\\left(g_{schwrtzschild}\\right)_{ \\phantom{\\, \\theta} \\, r \\, \\theta \\, r }^{ \\, \\theta \\phantom{\\, r} \\phantom{\\, \\theta} \\phantom{\\, r} } & = & -\\frac{r_{s}}{2 \\, {\\left(r^{3} - r^{2} r_{s}\\right)}} \\\\ \\mathrm{Riem}\\left(g_{schwrtzschild}\\right)_{ \\phantom{\\, \\theta} \\, \\phi \\, \\theta \\, \\phi }^{ \\, \\theta \\phantom{\\, \\phi} \\phantom{\\, \\theta} \\phantom{\\, \\phi} } & = & \\frac{r_{s} \\sin\\left(\\theta\\right)^{2}}{r} \\\\ \\mathrm{Riem}\\left(g_{schwrtzschild}\\right)_{ \\phantom{\\, \\theta} \\, \\phi \\, \\phi \\, \\theta }^{ \\, \\theta \\phantom{\\, \\phi} \\phantom{\\, \\phi} \\phantom{\\, \\theta} } & = & -\\frac{r_{s} \\sin\\left(\\theta\\right)^{2}}{r} \\\\ \\mathrm{Riem}\\left(g_{schwrtzschild}\\right)_{ \\phantom{\\, \\phi} \\, t \\, t \\, \\phi }^{ \\, \\phi \\phantom{\\, t} \\phantom{\\, t} \\phantom{\\, \\phi} } & = & -\\frac{c^{2} r r_{s} - c^{2} r_{s}^{2}}{2 \\, r^{4}} \\\\ \\mathrm{Riem}\\left(g_{schwrtzschild}\\right)_{ \\phantom{\\, \\phi} \\, t \\, \\phi \\, t }^{ \\, \\phi \\phantom{\\, t} \\phantom{\\, \\phi} \\phantom{\\, t} } & = & \\frac{c^{2} r r_{s} - c^{2} r_{s}^{2}}{2 \\, r^{4}} \\\\ \\mathrm{Riem}\\left(g_{schwrtzschild}\\right)_{ \\phantom{\\, \\phi} \\, r \\, r \\, \\phi }^{ \\, \\phi \\phantom{\\, r} \\phantom{\\, r} \\phantom{\\, \\phi} } & = & \\frac{r_{s}}{2 \\, {\\left(r^{3} - r^{2} r_{s}\\right)}} \\\\ \\mathrm{Riem}\\left(g_{schwrtzschild}\\right)_{ \\phantom{\\, \\phi} \\, r \\, \\phi \\, r }^{ \\, \\phi \\phantom{\\, r} \\phantom{\\, \\phi} \\phantom{\\, r} } & = & -\\frac{r_{s}}{2 \\, {\\left(r^{3} - r^{2} r_{s}\\right)}} \\\\ \\mathrm{Riem}\\left(g_{schwrtzschild}\\right)_{ \\phantom{\\, \\phi} \\, \\theta \\, \\theta \\, \\phi }^{ \\, \\phi \\phantom{\\, \\theta} \\phantom{\\, \\theta} \\phantom{\\, \\phi} } & = & -\\frac{r_{s}}{r} \\\\ \\mathrm{Riem}\\left(g_{schwrtzschild}\\right)_{ \\phantom{\\, \\phi} \\, \\theta \\, \\phi \\, \\theta }^{ \\, \\phi \\phantom{\\, \\theta} \\phantom{\\, \\phi} \\phantom{\\, \\theta} } & = & \\frac{r_{s}}{r} \\end{array}"
      ]
     },
     "metadata": {},
     "output_type": "display_data"
    }
   ],
   "source": [
    "#Riemann tensor\n",
    "Riemann_schw=g_schw.riemann()\n",
    "show(latex(Riemann_schw.display_comp( only_nonzero=True)))\n"
   ]
  },
  {
   "cell_type": "code",
   "execution_count": 15,
   "id": "8eb205c5",
   "metadata": {},
   "outputs": [
    {
     "data": {
      "text/html": [
       "<html><script type=\"math/tex; mode=display\">\\newcommand{\\Bold}[1]{\\mathbf{#1}}\\left(\\begin{array}{rrrr}\n",
       "0 & 0 & 0 & 0 \\\\\n",
       "0 & 0 & 0 & 0 \\\\\n",
       "0 & 0 & 0 & 0 \\\\\n",
       "0 & 0 & 0 & 0\n",
       "\\end{array}\\right)</script></html>"
      ],
      "text/latex": [
       "$$\\newcommand{\\Bold}[1]{\\mathbf{#1}}\\left(\\begin{array}{rrrr}\n",
       "0 & 0 & 0 & 0 \\\\\n",
       "0 & 0 & 0 & 0 \\\\\n",
       "0 & 0 & 0 & 0 \\\\\n",
       "0 & 0 & 0 & 0\n",
       "\\end{array}\\right)$$"
      ],
      "text/plain": [
       "\\left(\\begin{array}{rrrr}\n",
       "0 & 0 & 0 & 0 \\\\\n",
       "0 & 0 & 0 & 0 \\\\\n",
       "0 & 0 & 0 & 0 \\\\\n",
       "0 & 0 & 0 & 0\n",
       "\\end{array}\\right)"
      ]
     },
     "metadata": {},
     "output_type": "display_data"
    },
    {
     "data": {
      "text/html": [
       "<html><script type=\"math/tex; mode=display\">\\newcommand{\\Bold}[1]{\\mathbf{#1}}\\mathrm{Ric}\\left(\\mathrm{g}\\right) = 0</script></html>"
      ],
      "text/latex": [
       "$$\\newcommand{\\Bold}[1]{\\mathbf{#1}}\\mathrm{Ric}\\left(\\mathrm{g}\\right) = 0$$"
      ],
      "text/plain": [
       "\\mathrm{Ric}\\left(\\mathrm{g}\\right) = 0"
      ]
     },
     "metadata": {},
     "output_type": "display_data"
    }
   ],
   "source": [
    "#Ricci tensor\n",
    "Ricci_schw=g_schw.ricci()\n",
    "Ricci_schw.display()\n",
    "show(latex(Ricci_schw[:]))\n",
    "\n",
    "\n",
    "\n",
    "#other way\n",
    "Ric_schw=nabla.ricci()\n",
    "show(latex(Ric.display()))"
   ]
  },
  {
   "cell_type": "code",
   "execution_count": 16,
   "id": "7ec01109",
   "metadata": {},
   "outputs": [
    {
     "data": {
      "text/html": [
       "<html><script type=\"math/tex; mode=display\">\\newcommand{\\Bold}[1]{\\mathbf{#1}}\\begin{array}{llcl} \\mathrm{r}\\left(g_{schwrtzschild}\\right):& M & \\longrightarrow & \\mathbb{R} \\\\ & \\left(t, r, \\theta, \\phi\\right) & \\longmapsto & 0 \\end{array}</script></html>"
      ],
      "text/latex": [
       "$$\\newcommand{\\Bold}[1]{\\mathbf{#1}}\\begin{array}{llcl} \\mathrm{r}\\left(g_{schwrtzschild}\\right):& M & \\longrightarrow & \\mathbb{R} \\\\ & \\left(t, r, \\theta, \\phi\\right) & \\longmapsto & 0 \\end{array}$$"
      ],
      "text/plain": [
       "\\begin{array}{llcl} \\mathrm{r}\\left(g_{schwrtzschild}\\right):& M & \\longrightarrow & \\mathbb{R} \\\\ & \\left(t, r, \\theta, \\phi\\right) & \\longmapsto & 0 \\end{array}"
      ]
     },
     "metadata": {},
     "output_type": "display_data"
    },
    {
     "data": {
      "text/html": [
       "<html><script type=\"math/tex; mode=display\">\\newcommand{\\Bold}[1]{\\mathbf{#1}}\\begin{array}{llcl} \\mathrm{d}0\\left( \\frac{\\partial}{\\partial \\theta } \\right) : & M & \\longrightarrow & \\mathbb{R} \\\\ & \\left(t, r, \\theta, \\phi\\right) & \\longmapsto & 0 \\end{array}</script></html>"
      ],
      "text/latex": [
       "$$\\newcommand{\\Bold}[1]{\\mathbf{#1}}\\begin{array}{llcl} \\mathrm{d}0\\left( \\frac{\\partial}{\\partial \\theta } \\right) : & M & \\longrightarrow & \\mathbb{R} \\\\ & \\left(t, r, \\theta, \\phi\\right) & \\longmapsto & 0 \\end{array}$$"
      ],
      "text/plain": [
       "\\begin{array}{llcl} \\mathrm{d}0\\left( \\frac{\\partial}{\\partial \\theta } \\right) : & M & \\longrightarrow & \\mathbb{R} \\\\ & \\left(t, r, \\theta, \\phi\\right) & \\longmapsto & 0 \\end{array}"
      ]
     },
     "metadata": {},
     "output_type": "display_data"
    }
   ],
   "source": [
    "#Ricci scalar\n",
    "R_schw=g_schw.ricci_scalar()\n",
    "show(latex(R_schw.display()))\n",
    "\n",
    "\n",
    "#other way\n",
    "Ric_up = Ricci_schw.up(g_schw, 0)  # Raise the first index for contraction\n",
    "R_schw = Ric_up.trace()\n",
    "show(latex(R_schw.display()))\n"
   ]
  },
  {
   "cell_type": "code",
   "execution_count": 17,
   "id": "e9c8ac01",
   "metadata": {},
   "outputs": [
    {
     "data": {
      "text/html": [
       "<html><script type=\"math/tex; mode=display\">\\newcommand{\\Bold}[1]{\\mathbf{#1}}\\mathrm{C}\\left(g_{schwrtzschild}\\right) = \\left( \\frac{r_{s}}{r^{3} - r^{2} r_{s}} \\right) \\frac{\\partial}{\\partial t }\\otimes \\mathrm{d} r\\otimes \\mathrm{d} t\\otimes \\mathrm{d} r + \\left( -\\frac{r_{s}}{r^{3} - r^{2} r_{s}} \\right) \\frac{\\partial}{\\partial t }\\otimes \\mathrm{d} r\\otimes \\mathrm{d} r\\otimes \\mathrm{d} t -\\frac{r_{s}}{2 \\, r} \\frac{\\partial}{\\partial t }\\otimes \\mathrm{d} \\theta\\otimes \\mathrm{d} t\\otimes \\mathrm{d} \\theta + \\frac{r_{s}}{2 \\, r} \\frac{\\partial}{\\partial t }\\otimes \\mathrm{d} \\theta\\otimes \\mathrm{d} \\theta\\otimes \\mathrm{d} t -\\frac{r_{s} \\sin\\left(\\theta\\right)^{2}}{2 \\, r} \\frac{\\partial}{\\partial t }\\otimes \\mathrm{d} \\phi\\otimes \\mathrm{d} t\\otimes \\mathrm{d} \\phi + \\frac{r_{s} \\sin\\left(\\theta\\right)^{2}}{2 \\, r} \\frac{\\partial}{\\partial t }\\otimes \\mathrm{d} \\phi\\otimes \\mathrm{d} \\phi\\otimes \\mathrm{d} t + \\left( \\frac{c^{2} r r_{s} - c^{2} r_{s}^{2}}{r^{4}} \\right) \\frac{\\partial}{\\partial r }\\otimes \\mathrm{d} t\\otimes \\mathrm{d} t\\otimes \\mathrm{d} r + \\left( -\\frac{c^{2} r r_{s} - c^{2} r_{s}^{2}}{r^{4}} \\right) \\frac{\\partial}{\\partial r }\\otimes \\mathrm{d} t\\otimes \\mathrm{d} r\\otimes \\mathrm{d} t -\\frac{r_{s}}{2 \\, r} \\frac{\\partial}{\\partial r }\\otimes \\mathrm{d} \\theta\\otimes \\mathrm{d} r\\otimes \\mathrm{d} \\theta + \\frac{r_{s}}{2 \\, r} \\frac{\\partial}{\\partial r }\\otimes \\mathrm{d} \\theta\\otimes \\mathrm{d} \\theta\\otimes \\mathrm{d} r -\\frac{r_{s} \\sin\\left(\\theta\\right)^{2}}{2 \\, r} \\frac{\\partial}{\\partial r }\\otimes \\mathrm{d} \\phi\\otimes \\mathrm{d} r\\otimes \\mathrm{d} \\phi + \\frac{r_{s} \\sin\\left(\\theta\\right)^{2}}{2 \\, r} \\frac{\\partial}{\\partial r }\\otimes \\mathrm{d} \\phi\\otimes \\mathrm{d} \\phi\\otimes \\mathrm{d} r + \\left( -\\frac{c^{2} r r_{s} - c^{2} r_{s}^{2}}{2 \\, r^{4}} \\right) \\frac{\\partial}{\\partial \\theta }\\otimes \\mathrm{d} t\\otimes \\mathrm{d} t\\otimes \\mathrm{d} \\theta + \\left( \\frac{c^{2} r r_{s} - c^{2} r_{s}^{2}}{2 \\, r^{4}} \\right) \\frac{\\partial}{\\partial \\theta }\\otimes \\mathrm{d} t\\otimes \\mathrm{d} \\theta\\otimes \\mathrm{d} t + \\frac{r_{s}}{2 \\, {\\left(r^{3} - r^{2} r_{s}\\right)}} \\frac{\\partial}{\\partial \\theta }\\otimes \\mathrm{d} r\\otimes \\mathrm{d} r\\otimes \\mathrm{d} \\theta -\\frac{r_{s}}{2 \\, {\\left(r^{3} - r^{2} r_{s}\\right)}} \\frac{\\partial}{\\partial \\theta }\\otimes \\mathrm{d} r\\otimes \\mathrm{d} \\theta\\otimes \\mathrm{d} r + \\frac{r_{s} \\sin\\left(\\theta\\right)^{2}}{r} \\frac{\\partial}{\\partial \\theta }\\otimes \\mathrm{d} \\phi\\otimes \\mathrm{d} \\theta\\otimes \\mathrm{d} \\phi -\\frac{r_{s} \\sin\\left(\\theta\\right)^{2}}{r} \\frac{\\partial}{\\partial \\theta }\\otimes \\mathrm{d} \\phi\\otimes \\mathrm{d} \\phi\\otimes \\mathrm{d} \\theta + \\left( -\\frac{c^{2} r r_{s} - c^{2} r_{s}^{2}}{2 \\, r^{4}} \\right) \\frac{\\partial}{\\partial \\phi }\\otimes \\mathrm{d} t\\otimes \\mathrm{d} t\\otimes \\mathrm{d} \\phi + \\left( \\frac{c^{2} r r_{s} - c^{2} r_{s}^{2}}{2 \\, r^{4}} \\right) \\frac{\\partial}{\\partial \\phi }\\otimes \\mathrm{d} t\\otimes \\mathrm{d} \\phi\\otimes \\mathrm{d} t + \\frac{r_{s}}{2 \\, {\\left(r^{3} - r^{2} r_{s}\\right)}} \\frac{\\partial}{\\partial \\phi }\\otimes \\mathrm{d} r\\otimes \\mathrm{d} r\\otimes \\mathrm{d} \\phi -\\frac{r_{s}}{2 \\, {\\left(r^{3} - r^{2} r_{s}\\right)}} \\frac{\\partial}{\\partial \\phi }\\otimes \\mathrm{d} r\\otimes \\mathrm{d} \\phi\\otimes \\mathrm{d} r -\\frac{r_{s}}{r} \\frac{\\partial}{\\partial \\phi }\\otimes \\mathrm{d} \\theta\\otimes \\mathrm{d} \\theta\\otimes \\mathrm{d} \\phi + \\frac{r_{s}}{r} \\frac{\\partial}{\\partial \\phi }\\otimes \\mathrm{d} \\theta\\otimes \\mathrm{d} \\phi\\otimes \\mathrm{d} \\theta</script></html>"
      ],
      "text/latex": [
       "$$\\newcommand{\\Bold}[1]{\\mathbf{#1}}\\mathrm{C}\\left(g_{schwrtzschild}\\right) = \\left( \\frac{r_{s}}{r^{3} - r^{2} r_{s}} \\right) \\frac{\\partial}{\\partial t }\\otimes \\mathrm{d} r\\otimes \\mathrm{d} t\\otimes \\mathrm{d} r + \\left( -\\frac{r_{s}}{r^{3} - r^{2} r_{s}} \\right) \\frac{\\partial}{\\partial t }\\otimes \\mathrm{d} r\\otimes \\mathrm{d} r\\otimes \\mathrm{d} t -\\frac{r_{s}}{2 \\, r} \\frac{\\partial}{\\partial t }\\otimes \\mathrm{d} \\theta\\otimes \\mathrm{d} t\\otimes \\mathrm{d} \\theta + \\frac{r_{s}}{2 \\, r} \\frac{\\partial}{\\partial t }\\otimes \\mathrm{d} \\theta\\otimes \\mathrm{d} \\theta\\otimes \\mathrm{d} t -\\frac{r_{s} \\sin\\left(\\theta\\right)^{2}}{2 \\, r} \\frac{\\partial}{\\partial t }\\otimes \\mathrm{d} \\phi\\otimes \\mathrm{d} t\\otimes \\mathrm{d} \\phi + \\frac{r_{s} \\sin\\left(\\theta\\right)^{2}}{2 \\, r} \\frac{\\partial}{\\partial t }\\otimes \\mathrm{d} \\phi\\otimes \\mathrm{d} \\phi\\otimes \\mathrm{d} t + \\left( \\frac{c^{2} r r_{s} - c^{2} r_{s}^{2}}{r^{4}} \\right) \\frac{\\partial}{\\partial r }\\otimes \\mathrm{d} t\\otimes \\mathrm{d} t\\otimes \\mathrm{d} r + \\left( -\\frac{c^{2} r r_{s} - c^{2} r_{s}^{2}}{r^{4}} \\right) \\frac{\\partial}{\\partial r }\\otimes \\mathrm{d} t\\otimes \\mathrm{d} r\\otimes \\mathrm{d} t -\\frac{r_{s}}{2 \\, r} \\frac{\\partial}{\\partial r }\\otimes \\mathrm{d} \\theta\\otimes \\mathrm{d} r\\otimes \\mathrm{d} \\theta + \\frac{r_{s}}{2 \\, r} \\frac{\\partial}{\\partial r }\\otimes \\mathrm{d} \\theta\\otimes \\mathrm{d} \\theta\\otimes \\mathrm{d} r -\\frac{r_{s} \\sin\\left(\\theta\\right)^{2}}{2 \\, r} \\frac{\\partial}{\\partial r }\\otimes \\mathrm{d} \\phi\\otimes \\mathrm{d} r\\otimes \\mathrm{d} \\phi + \\frac{r_{s} \\sin\\left(\\theta\\right)^{2}}{2 \\, r} \\frac{\\partial}{\\partial r }\\otimes \\mathrm{d} \\phi\\otimes \\mathrm{d} \\phi\\otimes \\mathrm{d} r + \\left( -\\frac{c^{2} r r_{s} - c^{2} r_{s}^{2}}{2 \\, r^{4}} \\right) \\frac{\\partial}{\\partial \\theta }\\otimes \\mathrm{d} t\\otimes \\mathrm{d} t\\otimes \\mathrm{d} \\theta + \\left( \\frac{c^{2} r r_{s} - c^{2} r_{s}^{2}}{2 \\, r^{4}} \\right) \\frac{\\partial}{\\partial \\theta }\\otimes \\mathrm{d} t\\otimes \\mathrm{d} \\theta\\otimes \\mathrm{d} t + \\frac{r_{s}}{2 \\, {\\left(r^{3} - r^{2} r_{s}\\right)}} \\frac{\\partial}{\\partial \\theta }\\otimes \\mathrm{d} r\\otimes \\mathrm{d} r\\otimes \\mathrm{d} \\theta -\\frac{r_{s}}{2 \\, {\\left(r^{3} - r^{2} r_{s}\\right)}} \\frac{\\partial}{\\partial \\theta }\\otimes \\mathrm{d} r\\otimes \\mathrm{d} \\theta\\otimes \\mathrm{d} r + \\frac{r_{s} \\sin\\left(\\theta\\right)^{2}}{r} \\frac{\\partial}{\\partial \\theta }\\otimes \\mathrm{d} \\phi\\otimes \\mathrm{d} \\theta\\otimes \\mathrm{d} \\phi -\\frac{r_{s} \\sin\\left(\\theta\\right)^{2}}{r} \\frac{\\partial}{\\partial \\theta }\\otimes \\mathrm{d} \\phi\\otimes \\mathrm{d} \\phi\\otimes \\mathrm{d} \\theta + \\left( -\\frac{c^{2} r r_{s} - c^{2} r_{s}^{2}}{2 \\, r^{4}} \\right) \\frac{\\partial}{\\partial \\phi }\\otimes \\mathrm{d} t\\otimes \\mathrm{d} t\\otimes \\mathrm{d} \\phi + \\left( \\frac{c^{2} r r_{s} - c^{2} r_{s}^{2}}{2 \\, r^{4}} \\right) \\frac{\\partial}{\\partial \\phi }\\otimes \\mathrm{d} t\\otimes \\mathrm{d} \\phi\\otimes \\mathrm{d} t + \\frac{r_{s}}{2 \\, {\\left(r^{3} - r^{2} r_{s}\\right)}} \\frac{\\partial}{\\partial \\phi }\\otimes \\mathrm{d} r\\otimes \\mathrm{d} r\\otimes \\mathrm{d} \\phi -\\frac{r_{s}}{2 \\, {\\left(r^{3} - r^{2} r_{s}\\right)}} \\frac{\\partial}{\\partial \\phi }\\otimes \\mathrm{d} r\\otimes \\mathrm{d} \\phi\\otimes \\mathrm{d} r -\\frac{r_{s}}{r} \\frac{\\partial}{\\partial \\phi }\\otimes \\mathrm{d} \\theta\\otimes \\mathrm{d} \\theta\\otimes \\mathrm{d} \\phi + \\frac{r_{s}}{r} \\frac{\\partial}{\\partial \\phi }\\otimes \\mathrm{d} \\theta\\otimes \\mathrm{d} \\phi\\otimes \\mathrm{d} \\theta$$"
      ],
      "text/plain": [
       "\\mathrm{C}\\left(g_{schwrtzschild}\\right) = \\left( \\frac{r_{s}}{r^{3} - r^{2} r_{s}} \\right) \\frac{\\partial}{\\partial t }\\otimes \\mathrm{d} r\\otimes \\mathrm{d} t\\otimes \\mathrm{d} r + \\left( -\\frac{r_{s}}{r^{3} - r^{2} r_{s}} \\right) \\frac{\\partial}{\\partial t }\\otimes \\mathrm{d} r\\otimes \\mathrm{d} r\\otimes \\mathrm{d} t -\\frac{r_{s}}{2 \\, r} \\frac{\\partial}{\\partial t }\\otimes \\mathrm{d} \\theta\\otimes \\mathrm{d} t\\otimes \\mathrm{d} \\theta + \\frac{r_{s}}{2 \\, r} \\frac{\\partial}{\\partial t }\\otimes \\mathrm{d} \\theta\\otimes \\mathrm{d} \\theta\\otimes \\mathrm{d} t -\\frac{r_{s} \\sin\\left(\\theta\\right)^{2}}{2 \\, r} \\frac{\\partial}{\\partial t }\\otimes \\mathrm{d} \\phi\\otimes \\mathrm{d} t\\otimes \\mathrm{d} \\phi + \\frac{r_{s} \\sin\\left(\\theta\\right)^{2}}{2 \\, r} \\frac{\\partial}{\\partial t }\\otimes \\mathrm{d} \\phi\\otimes \\mathrm{d} \\phi\\otimes \\mathrm{d} t + \\left( \\frac{c^{2} r r_{s} - c^{2} r_{s}^{2}}{r^{4}} \\right) \\frac{\\partial}{\\partial r }\\otimes \\mathrm{d} t\\otimes \\mathrm{d} t\\otimes \\mathrm{d} r + \\left( -\\frac{c^{2} r r_{s} - c^{2} r_{s}^{2}}{r^{4}} \\right) \\frac{\\partial}{\\partial r }\\otimes \\mathrm{d} t\\otimes \\mathrm{d} r\\otimes \\mathrm{d} t -\\frac{r_{s}}{2 \\, r} \\frac{\\partial}{\\partial r }\\otimes \\mathrm{d} \\theta\\otimes \\mathrm{d} r\\otimes \\mathrm{d} \\theta + \\frac{r_{s}}{2 \\, r} \\frac{\\partial}{\\partial r }\\otimes \\mathrm{d} \\theta\\otimes \\mathrm{d} \\theta\\otimes \\mathrm{d} r -\\frac{r_{s} \\sin\\left(\\theta\\right)^{2}}{2 \\, r} \\frac{\\partial}{\\partial r }\\otimes \\mathrm{d} \\phi\\otimes \\mathrm{d} r\\otimes \\mathrm{d} \\phi + \\frac{r_{s} \\sin\\left(\\theta\\right)^{2}}{2 \\, r} \\frac{\\partial}{\\partial r }\\otimes \\mathrm{d} \\phi\\otimes \\mathrm{d} \\phi\\otimes \\mathrm{d} r + \\left( -\\frac{c^{2} r r_{s} - c^{2} r_{s}^{2}}{2 \\, r^{4}} \\right) \\frac{\\partial}{\\partial \\theta }\\otimes \\mathrm{d} t\\otimes \\mathrm{d} t\\otimes \\mathrm{d} \\theta + \\left( \\frac{c^{2} r r_{s} - c^{2} r_{s}^{2}}{2 \\, r^{4}} \\right) \\frac{\\partial}{\\partial \\theta }\\otimes \\mathrm{d} t\\otimes \\mathrm{d} \\theta\\otimes \\mathrm{d} t + \\frac{r_{s}}{2 \\, {\\left(r^{3} - r^{2} r_{s}\\right)}} \\frac{\\partial}{\\partial \\theta }\\otimes \\mathrm{d} r\\otimes \\mathrm{d} r\\otimes \\mathrm{d} \\theta -\\frac{r_{s}}{2 \\, {\\left(r^{3} - r^{2} r_{s}\\right)}} \\frac{\\partial}{\\partial \\theta }\\otimes \\mathrm{d} r\\otimes \\mathrm{d} \\theta\\otimes \\mathrm{d} r + \\frac{r_{s} \\sin\\left(\\theta\\right)^{2}}{r} \\frac{\\partial}{\\partial \\theta }\\otimes \\mathrm{d} \\phi\\otimes \\mathrm{d} \\theta\\otimes \\mathrm{d} \\phi -\\frac{r_{s} \\sin\\left(\\theta\\right)^{2}}{r} \\frac{\\partial}{\\partial \\theta }\\otimes \\mathrm{d} \\phi\\otimes \\mathrm{d} \\phi\\otimes \\mathrm{d} \\theta + \\left( -\\frac{c^{2} r r_{s} - c^{2} r_{s}^{2}}{2 \\, r^{4}} \\right) \\frac{\\partial}{\\partial \\phi }\\otimes \\mathrm{d} t\\otimes \\mathrm{d} t\\otimes \\mathrm{d} \\phi + \\left( \\frac{c^{2} r r_{s} - c^{2} r_{s}^{2}}{2 \\, r^{4}} \\right) \\frac{\\partial}{\\partial \\phi }\\otimes \\mathrm{d} t\\otimes \\mathrm{d} \\phi\\otimes \\mathrm{d} t + \\frac{r_{s}}{2 \\, {\\left(r^{3} - r^{2} r_{s}\\right)}} \\frac{\\partial}{\\partial \\phi }\\otimes \\mathrm{d} r\\otimes \\mathrm{d} r\\otimes \\mathrm{d} \\phi -\\frac{r_{s}}{2 \\, {\\left(r^{3} - r^{2} r_{s}\\right)}} \\frac{\\partial}{\\partial \\phi }\\otimes \\mathrm{d} r\\otimes \\mathrm{d} \\phi\\otimes \\mathrm{d} r -\\frac{r_{s}}{r} \\frac{\\partial}{\\partial \\phi }\\otimes \\mathrm{d} \\theta\\otimes \\mathrm{d} \\theta\\otimes \\mathrm{d} \\phi + \\frac{r_{s}}{r} \\frac{\\partial}{\\partial \\phi }\\otimes \\mathrm{d} \\theta\\otimes \\mathrm{d} \\phi\\otimes \\mathrm{d} \\theta"
      ]
     },
     "metadata": {},
     "output_type": "display_data"
    }
   ],
   "source": [
    "#weyl tensor\n",
    "show(latex(g_schw.weyl().display()))\n",
    "\n",
    "#the Ricci tensor as well as the Ricci scalar vanish identically because the Schwarzschild\n",
    "#spacetime is a vacuum solution of the field equations. Hence, the Weyl tensor is identical to the Riemann\n",
    "#tensor. "
   ]
  },
  {
   "cell_type": "code",
   "execution_count": 18,
   "id": "9e2bb79b",
   "metadata": {},
   "outputs": [],
   "source": [
    "#Einstein tensor\n",
    "Ein_schw = Ric_schw - (1/2)*R_schw*g_schw\n"
   ]
  },
  {
   "cell_type": "code",
   "execution_count": 19,
   "id": "8d382d43",
   "metadata": {},
   "outputs": [
    {
     "data": {
      "text/plain": [
       "Ric(g_{schwrtzschild})-unnamed metric = 0"
      ]
     },
     "execution_count": 19,
     "metadata": {},
     "output_type": "execute_result"
    }
   ],
   "source": [
    "Ein_schw.display()\n"
   ]
  },
  {
   "cell_type": "code",
   "execution_count": 20,
   "id": "a6fabf85",
   "metadata": {},
   "outputs": [],
   "source": [
    "#######################################################################################################\n",
    "\n",
    "#Kerr Metric"
   ]
  },
  {
   "cell_type": "code",
   "execution_count": 21,
   "id": "1f3970ad",
   "metadata": {},
   "outputs": [
    {
     "data": {
      "text/html": [
       "<html><script type=\"math/tex; mode=display\">\\newcommand{\\Bold}[1]{\\mathbf{#1}}\\left(\\begin{array}{rrrr}\n",
       "\\frac{2 \\, m r}{a^{2} \\cos\\left(\\theta\\right)^{2} + r^{2}} - 1 & 0 & 0 & -\\frac{2 \\, a m r \\sin\\left(\\theta\\right)^{2}}{a^{2} \\cos\\left(\\theta\\right)^{2} + r^{2}} \\\\\n",
       "0 & \\frac{a^{2} \\cos\\left(\\theta\\right)^{2} + r^{2}}{a^{2} - 2 \\, m r + r^{2}} & 0 & 0 \\\\\n",
       "0 & 0 & a^{2} \\cos\\left(\\theta\\right)^{2} + r^{2} & 0 \\\\\n",
       "-\\frac{2 \\, a m r \\sin\\left(\\theta\\right)^{2}}{a^{2} \\cos\\left(\\theta\\right)^{2} + r^{2}} & 0 & 0 & {\\left(\\frac{2 \\, a^{2} m \\sin\\left(\\theta\\right)^{2}}{a^{2} \\cos\\left(\\theta\\right)^{2} + r^{2}} + a^{2} + r^{2}\\right)} \\sin\\left(\\theta\\right)^{2}\n",
       "\\end{array}\\right)</script></html>"
      ],
      "text/latex": [
       "$$\\newcommand{\\Bold}[1]{\\mathbf{#1}}\\left(\\begin{array}{rrrr}\n",
       "\\frac{2 \\, m r}{a^{2} \\cos\\left(\\theta\\right)^{2} + r^{2}} - 1 & 0 & 0 & -\\frac{2 \\, a m r \\sin\\left(\\theta\\right)^{2}}{a^{2} \\cos\\left(\\theta\\right)^{2} + r^{2}} \\\\\n",
       "0 & \\frac{a^{2} \\cos\\left(\\theta\\right)^{2} + r^{2}}{a^{2} - 2 \\, m r + r^{2}} & 0 & 0 \\\\\n",
       "0 & 0 & a^{2} \\cos\\left(\\theta\\right)^{2} + r^{2} & 0 \\\\\n",
       "-\\frac{2 \\, a m r \\sin\\left(\\theta\\right)^{2}}{a^{2} \\cos\\left(\\theta\\right)^{2} + r^{2}} & 0 & 0 & {\\left(\\frac{2 \\, a^{2} m \\sin\\left(\\theta\\right)^{2}}{a^{2} \\cos\\left(\\theta\\right)^{2} + r^{2}} + a^{2} + r^{2}\\right)} \\sin\\left(\\theta\\right)^{2}\n",
       "\\end{array}\\right)$$"
      ],
      "text/plain": [
       "\\left(\\begin{array}{rrrr}\n",
       "\\frac{2 \\, m r}{a^{2} \\cos\\left(\\theta\\right)^{2} + r^{2}} - 1 & 0 & 0 & -\\frac{2 \\, a m r \\sin\\left(\\theta\\right)^{2}}{a^{2} \\cos\\left(\\theta\\right)^{2} + r^{2}} \\\\\n",
       "0 & \\frac{a^{2} \\cos\\left(\\theta\\right)^{2} + r^{2}}{a^{2} - 2 \\, m r + r^{2}} & 0 & 0 \\\\\n",
       "0 & 0 & a^{2} \\cos\\left(\\theta\\right)^{2} + r^{2} & 0 \\\\\n",
       "-\\frac{2 \\, a m r \\sin\\left(\\theta\\right)^{2}}{a^{2} \\cos\\left(\\theta\\right)^{2} + r^{2}} & 0 & 0 & {\\left(\\frac{2 \\, a^{2} m \\sin\\left(\\theta\\right)^{2}}{a^{2} \\cos\\left(\\theta\\right)^{2} + r^{2}} + a^{2} + r^{2}\\right)} \\sin\\left(\\theta\\right)^{2}\n",
       "\\end{array}\\right)"
      ]
     },
     "metadata": {},
     "output_type": "display_data"
    }
   ],
   "source": [
    "#Defining of metric \n",
    "g_kerr=M.metric('g')\n",
    "\n",
    "var('a  m')\n",
    "\n",
    "\n",
    "sigma= r^2 + a^2 * cos(theta)^2\n",
    "delta=r^2-2*m*r +a^2\n",
    "g_kerr[0,0]=-(1-2*m*r/sigma)\n",
    "g_kerr[0,3]=-2*m*a*r*sin(theta)^2/sigma\n",
    "g_kerr[3,0]=g_kerr[0,3]\n",
    "g_kerr[1,1]=sigma/delta\n",
    "g_kerr[2,2]=sigma\n",
    "g_kerr[3,3]=(r^2+a^2+(2*m*a^2*sin(theta)^2/sigma))*sin(theta)^2\n",
    "\n",
    "#matrix show\n",
    "show(latex(g_kerr[:]))"
   ]
  },
  {
   "cell_type": "code",
   "execution_count": 22,
   "id": "39e8c19f",
   "metadata": {
    "scrolled": true
   },
   "outputs": [
    {
     "data": {
      "text/html": [
       "<html><script type=\"math/tex; mode=display\">\\newcommand{\\Bold}[1]{\\mathbf{#1}}\\begin{array}{lcl} \\Gamma_{ \\phantom{\\, t} \\, t \\, r }^{ \\, t \\phantom{\\, t} \\phantom{\\, r} } & = & -\\frac{a^{2} m r^{4} + m r^{6} - {\\left(a^{6} m + a^{4} m r^{2}\\right)} \\cos\\left(\\theta\\right)^{4} - 2 \\, {\\left(a^{2} m^{2} r^{3} - a^{2} m^{2} r^{2} - {\\left(a^{4} m^{2} r - a^{4} m^{2}\\right)} \\cos\\left(\\theta\\right)^{2}\\right)} \\sin\\left(\\theta\\right)^{2}}{2 \\, a^{2} m r^{5} - a^{2} r^{6} + 2 \\, m r^{7} - r^{8} - {\\left(a^{8} + a^{6} r^{2}\\right)} \\cos\\left(\\theta\\right)^{6} + {\\left(2 \\, a^{6} m r - 3 \\, a^{6} r^{2} + 2 \\, a^{4} m r^{3} - 3 \\, a^{4} r^{4}\\right)} \\cos\\left(\\theta\\right)^{4} + {\\left(4 \\, a^{4} m r^{3} - 3 \\, a^{4} r^{4} + 4 \\, a^{2} m r^{5} - 3 \\, a^{2} r^{6}\\right)} \\cos\\left(\\theta\\right)^{2} - 2 \\, {\\left(a^{6} m \\cos\\left(\\theta\\right)^{4} - 2 \\, a^{2} m^{2} r^{3} + {\\left(2 \\, a^{2} m^{2} + a^{2} m\\right)} r^{4} - 2 \\, {\\left(a^{4} m^{2} r - {\\left(a^{4} m^{2} + a^{4} m\\right)} r^{2}\\right)} \\cos\\left(\\theta\\right)^{2}\\right)} \\sin\\left(\\theta\\right)^{2}} \\\\ \\Gamma_{ \\phantom{\\, t} \\, t \\, \\theta }^{ \\, t \\phantom{\\, t} \\phantom{\\, \\theta} } & = & \\frac{2 \\, {\\left(2 \\, a^{4} m^{2} r \\cos\\left(\\theta\\right) \\sin\\left(\\theta\\right)^{3} + {\\left({\\left(a^{6} m r + a^{4} m r^{3}\\right)} \\cos\\left(\\theta\\right)^{3} - {\\left(2 \\, a^{4} m^{2} r^{2} - a^{4} m r^{3} + 2 \\, a^{2} m^{2} r^{4} - a^{2} m r^{5}\\right)} \\cos\\left(\\theta\\right)\\right)} \\sin\\left(\\theta\\right)\\right)}}{2 \\, a^{2} m r^{5} - a^{2} r^{6} + 2 \\, m r^{7} - r^{8} - {\\left(a^{8} + a^{6} r^{2}\\right)} \\cos\\left(\\theta\\right)^{6} + {\\left(2 \\, a^{6} m r - 3 \\, a^{6} r^{2} + 2 \\, a^{4} m r^{3} - 3 \\, a^{4} r^{4}\\right)} \\cos\\left(\\theta\\right)^{4} + {\\left(4 \\, a^{4} m r^{3} - 3 \\, a^{4} r^{4} + 4 \\, a^{2} m r^{5} - 3 \\, a^{2} r^{6}\\right)} \\cos\\left(\\theta\\right)^{2} - 2 \\, {\\left(a^{6} m \\cos\\left(\\theta\\right)^{4} - 2 \\, a^{2} m^{2} r^{3} + {\\left(2 \\, a^{2} m^{2} + a^{2} m\\right)} r^{4} - 2 \\, {\\left(a^{4} m^{2} r - {\\left(a^{4} m^{2} + a^{4} m\\right)} r^{2}\\right)} \\cos\\left(\\theta\\right)^{2}\\right)} \\sin\\left(\\theta\\right)^{2}} \\\\ \\Gamma_{ \\phantom{\\, t} \\, r \\, \\phi }^{ \\, t \\phantom{\\, r} \\phantom{\\, \\phi} } & = & -\\frac{2 \\, a^{3} m^{2} \\sin\\left(\\theta\\right)^{4} - {\\left(a^{3} m r^{2} + 3 \\, a m r^{4} - {\\left(a^{5} m - a^{3} m r^{2}\\right)} \\cos\\left(\\theta\\right)^{2}\\right)} \\sin\\left(\\theta\\right)^{2}}{2 \\, a^{2} m r^{3} - a^{2} r^{4} + 2 \\, m r^{5} - r^{6} - {\\left(a^{6} + a^{4} r^{2}\\right)} \\cos\\left(\\theta\\right)^{4} + 2 \\, {\\left(a^{4} m r - a^{4} r^{2} + a^{2} m r^{3} - a^{2} r^{4}\\right)} \\cos\\left(\\theta\\right)^{2} - 2 \\, {\\left(a^{4} m \\cos\\left(\\theta\\right)^{2} - 2 \\, a^{2} m^{2} r + {\\left(2 \\, a^{2} m^{2} + a^{2} m\\right)} r^{2}\\right)} \\sin\\left(\\theta\\right)^{2}} \\\\ \\Gamma_{ \\phantom{\\, t} \\, \\theta \\, \\phi }^{ \\, t \\phantom{\\, \\theta} \\phantom{\\, \\phi} } & = & \\frac{2 \\, {\\left({\\left(a^{5} m r^{3} + {\\left(a^{7} m - 2 \\, a^{5} m^{2}\\right)} r\\right)} \\cos\\left(\\theta\\right) \\sin\\left(\\theta\\right)^{5} - {\\left(a^{3} m r^{5} + 2 \\, {\\left(a^{5} m - a^{3} m^{2}\\right)} r^{3} + {\\left(a^{7} m - 2 \\, a^{5} m^{2}\\right)} r\\right)} \\cos\\left(\\theta\\right) \\sin\\left(\\theta\\right)^{3}\\right)}}{2 \\, a^{2} m r^{5} - a^{2} r^{6} + 2 \\, m r^{7} - r^{8} - {\\left(a^{8} + a^{6} r^{2}\\right)} \\cos\\left(\\theta\\right)^{6} + {\\left(2 \\, a^{6} m r - 3 \\, a^{6} r^{2} + 2 \\, a^{4} m r^{3} - 3 \\, a^{4} r^{4}\\right)} \\cos\\left(\\theta\\right)^{4} + {\\left(4 \\, a^{4} m r^{3} - 3 \\, a^{4} r^{4} + 4 \\, a^{2} m r^{5} - 3 \\, a^{2} r^{6}\\right)} \\cos\\left(\\theta\\right)^{2} - 2 \\, {\\left(a^{6} m \\cos\\left(\\theta\\right)^{4} - 2 \\, a^{2} m^{2} r^{3} + {\\left(2 \\, a^{2} m^{2} + a^{2} m\\right)} r^{4} - 2 \\, {\\left(a^{4} m^{2} r - {\\left(a^{4} m^{2} + a^{4} m\\right)} r^{2}\\right)} \\cos\\left(\\theta\\right)^{2}\\right)} \\sin\\left(\\theta\\right)^{2}} \\\\ \\Gamma_{ \\phantom{\\, r} \\, t \\, t }^{ \\, r \\phantom{\\, t} \\phantom{\\, t} } & = & \\frac{a^{2} m r^{2} - 2 \\, m^{2} r^{3} + m r^{4} - {\\left(a^{4} m - 2 \\, a^{2} m^{2} r + a^{2} m r^{2}\\right)} \\cos\\left(\\theta\\right)^{2}}{a^{6} \\cos\\left(\\theta\\right)^{6} + 3 \\, a^{4} r^{2} \\cos\\left(\\theta\\right)^{4} + 3 \\, a^{2} r^{4} \\cos\\left(\\theta\\right)^{2} + r^{6}} \\\\ \\Gamma_{ \\phantom{\\, r} \\, t \\, \\phi }^{ \\, r \\phantom{\\, t} \\phantom{\\, \\phi} } & = & -\\frac{{\\left(a^{3} m r^{2} - 2 \\, a m^{2} r^{3} + a m r^{4} - {\\left(a^{5} m - 2 \\, a^{3} m^{2} r + a^{3} m r^{2}\\right)} \\cos\\left(\\theta\\right)^{2}\\right)} \\sin\\left(\\theta\\right)^{2}}{a^{6} \\cos\\left(\\theta\\right)^{6} + 3 \\, a^{4} r^{2} \\cos\\left(\\theta\\right)^{4} + 3 \\, a^{2} r^{4} \\cos\\left(\\theta\\right)^{2} + r^{6}} \\\\ \\Gamma_{ \\phantom{\\, r} \\, r \\, r }^{ \\, r \\phantom{\\, r} \\phantom{\\, r} } & = & \\frac{a^{2} r - m r^{2} + {\\left(a^{2} m - a^{2} r\\right)} \\cos\\left(\\theta\\right)^{2}}{a^{2} r^{2} - 2 \\, m r^{3} + r^{4} + {\\left(a^{4} - 2 \\, a^{2} m r + a^{2} r^{2}\\right)} \\cos\\left(\\theta\\right)^{2}} \\\\ \\Gamma_{ \\phantom{\\, r} \\, r \\, \\theta }^{ \\, r \\phantom{\\, r} \\phantom{\\, \\theta} } & = & -\\frac{a^{2} \\cos\\left(\\theta\\right) \\sin\\left(\\theta\\right)}{a^{2} \\cos\\left(\\theta\\right)^{2} + r^{2}} \\\\ \\Gamma_{ \\phantom{\\, r} \\, \\theta \\, \\theta }^{ \\, r \\phantom{\\, \\theta} \\phantom{\\, \\theta} } & = & -\\frac{a^{2} r - 2 \\, m r^{2} + r^{3}}{a^{2} \\cos\\left(\\theta\\right)^{2} + r^{2}} \\\\ \\Gamma_{ \\phantom{\\, r} \\, \\phi \\, \\phi }^{ \\, r \\phantom{\\, \\phi} \\phantom{\\, \\phi} } & = & \\frac{2 \\, {\\left(a^{4} m r - 2 \\, a^{2} m^{2} r^{2} + a^{2} m r^{3}\\right)} \\sin\\left(\\theta\\right)^{4} - {\\left(a^{2} r^{5} - 2 \\, m r^{6} + r^{7} + {\\left(a^{6} r - 2 \\, a^{4} m r^{2} + a^{4} r^{3}\\right)} \\cos\\left(\\theta\\right)^{4} + 2 \\, {\\left(a^{4} r^{3} - 2 \\, a^{2} m r^{4} + a^{2} r^{5}\\right)} \\cos\\left(\\theta\\right)^{2}\\right)} \\sin\\left(\\theta\\right)^{2}}{a^{6} \\cos\\left(\\theta\\right)^{6} + 3 \\, a^{4} r^{2} \\cos\\left(\\theta\\right)^{4} + 3 \\, a^{2} r^{4} \\cos\\left(\\theta\\right)^{2} + r^{6}} \\\\ \\Gamma_{ \\phantom{\\, \\theta} \\, t \\, t }^{ \\, \\theta \\phantom{\\, t} \\phantom{\\, t} } & = & -\\frac{2 \\, a^{2} m r \\cos\\left(\\theta\\right) \\sin\\left(\\theta\\right)}{a^{6} \\cos\\left(\\theta\\right)^{6} + 3 \\, a^{4} r^{2} \\cos\\left(\\theta\\right)^{4} + 3 \\, a^{2} r^{4} \\cos\\left(\\theta\\right)^{2} + r^{6}} \\\\ \\Gamma_{ \\phantom{\\, \\theta} \\, t \\, \\phi }^{ \\, \\theta \\phantom{\\, t} \\phantom{\\, \\phi} } & = & \\frac{2 \\, {\\left(a^{3} m r + a m r^{3}\\right)} \\cos\\left(\\theta\\right) \\sin\\left(\\theta\\right)}{a^{6} \\cos\\left(\\theta\\right)^{6} + 3 \\, a^{4} r^{2} \\cos\\left(\\theta\\right)^{4} + 3 \\, a^{2} r^{4} \\cos\\left(\\theta\\right)^{2} + r^{6}} \\\\ \\Gamma_{ \\phantom{\\, \\theta} \\, r \\, r }^{ \\, \\theta \\phantom{\\, r} \\phantom{\\, r} } & = & \\frac{a^{2} \\cos\\left(\\theta\\right) \\sin\\left(\\theta\\right)}{a^{2} r^{2} - 2 \\, m r^{3} + r^{4} + {\\left(a^{4} - 2 \\, a^{2} m r + a^{2} r^{2}\\right)} \\cos\\left(\\theta\\right)^{2}} \\\\ \\Gamma_{ \\phantom{\\, \\theta} \\, r \\, \\theta }^{ \\, \\theta \\phantom{\\, r} \\phantom{\\, \\theta} } & = & \\frac{r}{a^{2} \\cos\\left(\\theta\\right)^{2} + r^{2}} \\\\ \\Gamma_{ \\phantom{\\, \\theta} \\, \\theta \\, \\theta }^{ \\, \\theta \\phantom{\\, \\theta} \\phantom{\\, \\theta} } & = & -\\frac{a^{2} \\cos\\left(\\theta\\right) \\sin\\left(\\theta\\right)}{a^{2} \\cos\\left(\\theta\\right)^{2} + r^{2}} \\\\ \\Gamma_{ \\phantom{\\, \\theta} \\, \\phi \\, \\phi }^{ \\, \\theta \\phantom{\\, \\phi} \\phantom{\\, \\phi} } & = & -\\frac{{\\left({\\left(a^{6} + a^{4} r^{2} - 2 \\, a^{4} m\\right)} \\cos\\left(\\theta\\right)^{5} + 2 \\, {\\left(a^{2} r^{4} + {\\left(a^{4} - 2 \\, a^{2} m\\right)} r^{2}\\right)} \\cos\\left(\\theta\\right)^{3} + {\\left(a^{2} r^{4} + r^{6} + 2 \\, a^{4} m + 4 \\, a^{2} m r^{2}\\right)} \\cos\\left(\\theta\\right)\\right)} \\sin\\left(\\theta\\right)}{a^{6} \\cos\\left(\\theta\\right)^{6} + 3 \\, a^{4} r^{2} \\cos\\left(\\theta\\right)^{4} + 3 \\, a^{2} r^{4} \\cos\\left(\\theta\\right)^{2} + r^{6}} \\\\ \\Gamma_{ \\phantom{\\, \\phi} \\, t \\, r }^{ \\, \\phi \\phantom{\\, t} \\phantom{\\, r} } & = & \\frac{a^{3} m \\cos\\left(\\theta\\right)^{2} - a m r^{2}}{2 \\, a^{2} m r^{3} - a^{2} r^{4} + 2 \\, m r^{5} - r^{6} - {\\left(a^{6} + a^{4} r^{2}\\right)} \\cos\\left(\\theta\\right)^{4} + 2 \\, {\\left(a^{4} m r - a^{4} r^{2} + a^{2} m r^{3} - a^{2} r^{4}\\right)} \\cos\\left(\\theta\\right)^{2} - 2 \\, {\\left(a^{4} m \\cos\\left(\\theta\\right)^{2} - 2 \\, a^{2} m^{2} r + {\\left(2 \\, a^{2} m^{2} + a^{2} m\\right)} r^{2}\\right)} \\sin\\left(\\theta\\right)^{2}} \\\\ \\Gamma_{ \\phantom{\\, \\phi} \\, t \\, \\theta }^{ \\, \\phi \\phantom{\\, t} \\phantom{\\, \\theta} } & = & -\\frac{2 \\, {\\left(a^{3} m r - 2 \\, a m^{2} r^{2} + a m r^{3}\\right)} \\cos\\left(\\theta\\right)}{2 \\, {\\left(a^{4} m \\cos\\left(\\theta\\right)^{2} - 2 \\, a^{2} m^{2} r + {\\left(2 \\, a^{2} m^{2} + a^{2} m\\right)} r^{2}\\right)} \\sin\\left(\\theta\\right)^{3} - {\\left(2 \\, a^{2} m r^{3} - a^{2} r^{4} + 2 \\, m r^{5} - r^{6} - {\\left(a^{6} + a^{4} r^{2}\\right)} \\cos\\left(\\theta\\right)^{4} + 2 \\, {\\left(a^{4} m r - a^{4} r^{2} + a^{2} m r^{3} - a^{2} r^{4}\\right)} \\cos\\left(\\theta\\right)^{2}\\right)} \\sin\\left(\\theta\\right)} \\\\ \\Gamma_{ \\phantom{\\, \\phi} \\, r \\, \\phi }^{ \\, \\phi \\phantom{\\, r} \\phantom{\\, \\phi} } & = & -\\frac{a^{6} r \\cos\\left(\\theta\\right)^{6} - 2 \\, m r^{6} + r^{7} - {\\left(2 \\, a^{4} m r^{2} - 3 \\, a^{4} r^{3}\\right)} \\cos\\left(\\theta\\right)^{4} - {\\left(4 \\, a^{2} m r^{4} - 3 \\, a^{2} r^{5}\\right)} \\cos\\left(\\theta\\right)^{2} + 2 \\, {\\left(2 \\, a^{2} m^{2} r^{2} - {\\left(a^{2} m^{2} + a^{2} m\\right)} r^{3} + {\\left(a^{4} m^{2} - a^{4} m\\right)} r \\cos\\left(\\theta\\right)^{2}\\right)} \\sin\\left(\\theta\\right)^{2}}{2 \\, a^{2} m r^{5} - a^{2} r^{6} + 2 \\, m r^{7} - r^{8} - {\\left(a^{8} + a^{6} r^{2}\\right)} \\cos\\left(\\theta\\right)^{6} + {\\left(2 \\, a^{6} m r - 3 \\, a^{6} r^{2} + 2 \\, a^{4} m r^{3} - 3 \\, a^{4} r^{4}\\right)} \\cos\\left(\\theta\\right)^{4} + {\\left(4 \\, a^{4} m r^{3} - 3 \\, a^{4} r^{4} + 4 \\, a^{2} m r^{5} - 3 \\, a^{2} r^{6}\\right)} \\cos\\left(\\theta\\right)^{2} - 2 \\, {\\left(a^{6} m \\cos\\left(\\theta\\right)^{4} - 2 \\, a^{2} m^{2} r^{3} + {\\left(2 \\, a^{2} m^{2} + a^{2} m\\right)} r^{4} - 2 \\, {\\left(a^{4} m^{2} r - {\\left(a^{4} m^{2} + a^{4} m\\right)} r^{2}\\right)} \\cos\\left(\\theta\\right)^{2}\\right)} \\sin\\left(\\theta\\right)^{2}} \\\\ \\Gamma_{ \\phantom{\\, \\phi} \\, \\theta \\, \\phi }^{ \\, \\phi \\phantom{\\, \\theta} \\phantom{\\, \\phi} } & = & \\frac{{\\left(a^{8} + a^{6} r^{2} - 2 \\, a^{6} m\\right)} \\cos\\left(\\theta\\right)^{7} - {\\left(2 \\, a^{4} m r^{3} - 3 \\, a^{4} r^{4} - 3 \\, {\\left(a^{6} - 2 \\, a^{4} m\\right)} r^{2} + 2 \\, {\\left(a^{6} m - 2 \\, a^{4} m^{2}\\right)} r\\right)} \\cos\\left(\\theta\\right)^{5} - {\\left(4 \\, a^{2} m r^{5} - 3 \\, a^{2} r^{6} - 2 \\, a^{6} m - 4 \\, a^{4} m r^{2} - {\\left(3 \\, a^{4} - 4 \\, a^{2} m\\right)} r^{4} + 4 \\, {\\left(a^{4} m - 2 \\, a^{2} m^{2}\\right)} r^{3}\\right)} \\cos\\left(\\theta\\right)^{3} + 4 \\, {\\left(a^{4} m^{2} r^{2} + a^{2} m^{2} r^{4}\\right)} \\cos\\left(\\theta\\right) \\sin\\left(\\theta\\right)^{2} - {\\left(2 \\, a^{2} m r^{5} - a^{2} r^{6} + 2 \\, m r^{7} - r^{8} + 4 \\, a^{4} m^{2} r - 2 \\, a^{4} m r^{2} + 8 \\, a^{2} m^{2} r^{3} - 4 \\, a^{2} m r^{4}\\right)} \\cos\\left(\\theta\\right)}{2 \\, {\\left(a^{6} m \\cos\\left(\\theta\\right)^{4} - 2 \\, a^{2} m^{2} r^{3} + {\\left(2 \\, a^{2} m^{2} + a^{2} m\\right)} r^{4} - 2 \\, {\\left(a^{4} m^{2} r - {\\left(a^{4} m^{2} + a^{4} m\\right)} r^{2}\\right)} \\cos\\left(\\theta\\right)^{2}\\right)} \\sin\\left(\\theta\\right)^{3} - {\\left(2 \\, a^{2} m r^{5} - a^{2} r^{6} + 2 \\, m r^{7} - r^{8} - {\\left(a^{8} + a^{6} r^{2}\\right)} \\cos\\left(\\theta\\right)^{6} + {\\left(2 \\, a^{6} m r - 3 \\, a^{6} r^{2} + 2 \\, a^{4} m r^{3} - 3 \\, a^{4} r^{4}\\right)} \\cos\\left(\\theta\\right)^{4} + {\\left(4 \\, a^{4} m r^{3} - 3 \\, a^{4} r^{4} + 4 \\, a^{2} m r^{5} - 3 \\, a^{2} r^{6}\\right)} \\cos\\left(\\theta\\right)^{2}\\right)} \\sin\\left(\\theta\\right)} \\end{array}</script></html>"
      ],
      "text/latex": [
       "$$\\newcommand{\\Bold}[1]{\\mathbf{#1}}\\begin{array}{lcl} \\Gamma_{ \\phantom{\\, t} \\, t \\, r }^{ \\, t \\phantom{\\, t} \\phantom{\\, r} } & = & -\\frac{a^{2} m r^{4} + m r^{6} - {\\left(a^{6} m + a^{4} m r^{2}\\right)} \\cos\\left(\\theta\\right)^{4} - 2 \\, {\\left(a^{2} m^{2} r^{3} - a^{2} m^{2} r^{2} - {\\left(a^{4} m^{2} r - a^{4} m^{2}\\right)} \\cos\\left(\\theta\\right)^{2}\\right)} \\sin\\left(\\theta\\right)^{2}}{2 \\, a^{2} m r^{5} - a^{2} r^{6} + 2 \\, m r^{7} - r^{8} - {\\left(a^{8} + a^{6} r^{2}\\right)} \\cos\\left(\\theta\\right)^{6} + {\\left(2 \\, a^{6} m r - 3 \\, a^{6} r^{2} + 2 \\, a^{4} m r^{3} - 3 \\, a^{4} r^{4}\\right)} \\cos\\left(\\theta\\right)^{4} + {\\left(4 \\, a^{4} m r^{3} - 3 \\, a^{4} r^{4} + 4 \\, a^{2} m r^{5} - 3 \\, a^{2} r^{6}\\right)} \\cos\\left(\\theta\\right)^{2} - 2 \\, {\\left(a^{6} m \\cos\\left(\\theta\\right)^{4} - 2 \\, a^{2} m^{2} r^{3} + {\\left(2 \\, a^{2} m^{2} + a^{2} m\\right)} r^{4} - 2 \\, {\\left(a^{4} m^{2} r - {\\left(a^{4} m^{2} + a^{4} m\\right)} r^{2}\\right)} \\cos\\left(\\theta\\right)^{2}\\right)} \\sin\\left(\\theta\\right)^{2}} \\\\ \\Gamma_{ \\phantom{\\, t} \\, t \\, \\theta }^{ \\, t \\phantom{\\, t} \\phantom{\\, \\theta} } & = & \\frac{2 \\, {\\left(2 \\, a^{4} m^{2} r \\cos\\left(\\theta\\right) \\sin\\left(\\theta\\right)^{3} + {\\left({\\left(a^{6} m r + a^{4} m r^{3}\\right)} \\cos\\left(\\theta\\right)^{3} - {\\left(2 \\, a^{4} m^{2} r^{2} - a^{4} m r^{3} + 2 \\, a^{2} m^{2} r^{4} - a^{2} m r^{5}\\right)} \\cos\\left(\\theta\\right)\\right)} \\sin\\left(\\theta\\right)\\right)}}{2 \\, a^{2} m r^{5} - a^{2} r^{6} + 2 \\, m r^{7} - r^{8} - {\\left(a^{8} + a^{6} r^{2}\\right)} \\cos\\left(\\theta\\right)^{6} + {\\left(2 \\, a^{6} m r - 3 \\, a^{6} r^{2} + 2 \\, a^{4} m r^{3} - 3 \\, a^{4} r^{4}\\right)} \\cos\\left(\\theta\\right)^{4} + {\\left(4 \\, a^{4} m r^{3} - 3 \\, a^{4} r^{4} + 4 \\, a^{2} m r^{5} - 3 \\, a^{2} r^{6}\\right)} \\cos\\left(\\theta\\right)^{2} - 2 \\, {\\left(a^{6} m \\cos\\left(\\theta\\right)^{4} - 2 \\, a^{2} m^{2} r^{3} + {\\left(2 \\, a^{2} m^{2} + a^{2} m\\right)} r^{4} - 2 \\, {\\left(a^{4} m^{2} r - {\\left(a^{4} m^{2} + a^{4} m\\right)} r^{2}\\right)} \\cos\\left(\\theta\\right)^{2}\\right)} \\sin\\left(\\theta\\right)^{2}} \\\\ \\Gamma_{ \\phantom{\\, t} \\, r \\, \\phi }^{ \\, t \\phantom{\\, r} \\phantom{\\, \\phi} } & = & -\\frac{2 \\, a^{3} m^{2} \\sin\\left(\\theta\\right)^{4} - {\\left(a^{3} m r^{2} + 3 \\, a m r^{4} - {\\left(a^{5} m - a^{3} m r^{2}\\right)} \\cos\\left(\\theta\\right)^{2}\\right)} \\sin\\left(\\theta\\right)^{2}}{2 \\, a^{2} m r^{3} - a^{2} r^{4} + 2 \\, m r^{5} - r^{6} - {\\left(a^{6} + a^{4} r^{2}\\right)} \\cos\\left(\\theta\\right)^{4} + 2 \\, {\\left(a^{4} m r - a^{4} r^{2} + a^{2} m r^{3} - a^{2} r^{4}\\right)} \\cos\\left(\\theta\\right)^{2} - 2 \\, {\\left(a^{4} m \\cos\\left(\\theta\\right)^{2} - 2 \\, a^{2} m^{2} r + {\\left(2 \\, a^{2} m^{2} + a^{2} m\\right)} r^{2}\\right)} \\sin\\left(\\theta\\right)^{2}} \\\\ \\Gamma_{ \\phantom{\\, t} \\, \\theta \\, \\phi }^{ \\, t \\phantom{\\, \\theta} \\phantom{\\, \\phi} } & = & \\frac{2 \\, {\\left({\\left(a^{5} m r^{3} + {\\left(a^{7} m - 2 \\, a^{5} m^{2}\\right)} r\\right)} \\cos\\left(\\theta\\right) \\sin\\left(\\theta\\right)^{5} - {\\left(a^{3} m r^{5} + 2 \\, {\\left(a^{5} m - a^{3} m^{2}\\right)} r^{3} + {\\left(a^{7} m - 2 \\, a^{5} m^{2}\\right)} r\\right)} \\cos\\left(\\theta\\right) \\sin\\left(\\theta\\right)^{3}\\right)}}{2 \\, a^{2} m r^{5} - a^{2} r^{6} + 2 \\, m r^{7} - r^{8} - {\\left(a^{8} + a^{6} r^{2}\\right)} \\cos\\left(\\theta\\right)^{6} + {\\left(2 \\, a^{6} m r - 3 \\, a^{6} r^{2} + 2 \\, a^{4} m r^{3} - 3 \\, a^{4} r^{4}\\right)} \\cos\\left(\\theta\\right)^{4} + {\\left(4 \\, a^{4} m r^{3} - 3 \\, a^{4} r^{4} + 4 \\, a^{2} m r^{5} - 3 \\, a^{2} r^{6}\\right)} \\cos\\left(\\theta\\right)^{2} - 2 \\, {\\left(a^{6} m \\cos\\left(\\theta\\right)^{4} - 2 \\, a^{2} m^{2} r^{3} + {\\left(2 \\, a^{2} m^{2} + a^{2} m\\right)} r^{4} - 2 \\, {\\left(a^{4} m^{2} r - {\\left(a^{4} m^{2} + a^{4} m\\right)} r^{2}\\right)} \\cos\\left(\\theta\\right)^{2}\\right)} \\sin\\left(\\theta\\right)^{2}} \\\\ \\Gamma_{ \\phantom{\\, r} \\, t \\, t }^{ \\, r \\phantom{\\, t} \\phantom{\\, t} } & = & \\frac{a^{2} m r^{2} - 2 \\, m^{2} r^{3} + m r^{4} - {\\left(a^{4} m - 2 \\, a^{2} m^{2} r + a^{2} m r^{2}\\right)} \\cos\\left(\\theta\\right)^{2}}{a^{6} \\cos\\left(\\theta\\right)^{6} + 3 \\, a^{4} r^{2} \\cos\\left(\\theta\\right)^{4} + 3 \\, a^{2} r^{4} \\cos\\left(\\theta\\right)^{2} + r^{6}} \\\\ \\Gamma_{ \\phantom{\\, r} \\, t \\, \\phi }^{ \\, r \\phantom{\\, t} \\phantom{\\, \\phi} } & = & -\\frac{{\\left(a^{3} m r^{2} - 2 \\, a m^{2} r^{3} + a m r^{4} - {\\left(a^{5} m - 2 \\, a^{3} m^{2} r + a^{3} m r^{2}\\right)} \\cos\\left(\\theta\\right)^{2}\\right)} \\sin\\left(\\theta\\right)^{2}}{a^{6} \\cos\\left(\\theta\\right)^{6} + 3 \\, a^{4} r^{2} \\cos\\left(\\theta\\right)^{4} + 3 \\, a^{2} r^{4} \\cos\\left(\\theta\\right)^{2} + r^{6}} \\\\ \\Gamma_{ \\phantom{\\, r} \\, r \\, r }^{ \\, r \\phantom{\\, r} \\phantom{\\, r} } & = & \\frac{a^{2} r - m r^{2} + {\\left(a^{2} m - a^{2} r\\right)} \\cos\\left(\\theta\\right)^{2}}{a^{2} r^{2} - 2 \\, m r^{3} + r^{4} + {\\left(a^{4} - 2 \\, a^{2} m r + a^{2} r^{2}\\right)} \\cos\\left(\\theta\\right)^{2}} \\\\ \\Gamma_{ \\phantom{\\, r} \\, r \\, \\theta }^{ \\, r \\phantom{\\, r} \\phantom{\\, \\theta} } & = & -\\frac{a^{2} \\cos\\left(\\theta\\right) \\sin\\left(\\theta\\right)}{a^{2} \\cos\\left(\\theta\\right)^{2} + r^{2}} \\\\ \\Gamma_{ \\phantom{\\, r} \\, \\theta \\, \\theta }^{ \\, r \\phantom{\\, \\theta} \\phantom{\\, \\theta} } & = & -\\frac{a^{2} r - 2 \\, m r^{2} + r^{3}}{a^{2} \\cos\\left(\\theta\\right)^{2} + r^{2}} \\\\ \\Gamma_{ \\phantom{\\, r} \\, \\phi \\, \\phi }^{ \\, r \\phantom{\\, \\phi} \\phantom{\\, \\phi} } & = & \\frac{2 \\, {\\left(a^{4} m r - 2 \\, a^{2} m^{2} r^{2} + a^{2} m r^{3}\\right)} \\sin\\left(\\theta\\right)^{4} - {\\left(a^{2} r^{5} - 2 \\, m r^{6} + r^{7} + {\\left(a^{6} r - 2 \\, a^{4} m r^{2} + a^{4} r^{3}\\right)} \\cos\\left(\\theta\\right)^{4} + 2 \\, {\\left(a^{4} r^{3} - 2 \\, a^{2} m r^{4} + a^{2} r^{5}\\right)} \\cos\\left(\\theta\\right)^{2}\\right)} \\sin\\left(\\theta\\right)^{2}}{a^{6} \\cos\\left(\\theta\\right)^{6} + 3 \\, a^{4} r^{2} \\cos\\left(\\theta\\right)^{4} + 3 \\, a^{2} r^{4} \\cos\\left(\\theta\\right)^{2} + r^{6}} \\\\ \\Gamma_{ \\phantom{\\, \\theta} \\, t \\, t }^{ \\, \\theta \\phantom{\\, t} \\phantom{\\, t} } & = & -\\frac{2 \\, a^{2} m r \\cos\\left(\\theta\\right) \\sin\\left(\\theta\\right)}{a^{6} \\cos\\left(\\theta\\right)^{6} + 3 \\, a^{4} r^{2} \\cos\\left(\\theta\\right)^{4} + 3 \\, a^{2} r^{4} \\cos\\left(\\theta\\right)^{2} + r^{6}} \\\\ \\Gamma_{ \\phantom{\\, \\theta} \\, t \\, \\phi }^{ \\, \\theta \\phantom{\\, t} \\phantom{\\, \\phi} } & = & \\frac{2 \\, {\\left(a^{3} m r + a m r^{3}\\right)} \\cos\\left(\\theta\\right) \\sin\\left(\\theta\\right)}{a^{6} \\cos\\left(\\theta\\right)^{6} + 3 \\, a^{4} r^{2} \\cos\\left(\\theta\\right)^{4} + 3 \\, a^{2} r^{4} \\cos\\left(\\theta\\right)^{2} + r^{6}} \\\\ \\Gamma_{ \\phantom{\\, \\theta} \\, r \\, r }^{ \\, \\theta \\phantom{\\, r} \\phantom{\\, r} } & = & \\frac{a^{2} \\cos\\left(\\theta\\right) \\sin\\left(\\theta\\right)}{a^{2} r^{2} - 2 \\, m r^{3} + r^{4} + {\\left(a^{4} - 2 \\, a^{2} m r + a^{2} r^{2}\\right)} \\cos\\left(\\theta\\right)^{2}} \\\\ \\Gamma_{ \\phantom{\\, \\theta} \\, r \\, \\theta }^{ \\, \\theta \\phantom{\\, r} \\phantom{\\, \\theta} } & = & \\frac{r}{a^{2} \\cos\\left(\\theta\\right)^{2} + r^{2}} \\\\ \\Gamma_{ \\phantom{\\, \\theta} \\, \\theta \\, \\theta }^{ \\, \\theta \\phantom{\\, \\theta} \\phantom{\\, \\theta} } & = & -\\frac{a^{2} \\cos\\left(\\theta\\right) \\sin\\left(\\theta\\right)}{a^{2} \\cos\\left(\\theta\\right)^{2} + r^{2}} \\\\ \\Gamma_{ \\phantom{\\, \\theta} \\, \\phi \\, \\phi }^{ \\, \\theta \\phantom{\\, \\phi} \\phantom{\\, \\phi} } & = & -\\frac{{\\left({\\left(a^{6} + a^{4} r^{2} - 2 \\, a^{4} m\\right)} \\cos\\left(\\theta\\right)^{5} + 2 \\, {\\left(a^{2} r^{4} + {\\left(a^{4} - 2 \\, a^{2} m\\right)} r^{2}\\right)} \\cos\\left(\\theta\\right)^{3} + {\\left(a^{2} r^{4} + r^{6} + 2 \\, a^{4} m + 4 \\, a^{2} m r^{2}\\right)} \\cos\\left(\\theta\\right)\\right)} \\sin\\left(\\theta\\right)}{a^{6} \\cos\\left(\\theta\\right)^{6} + 3 \\, a^{4} r^{2} \\cos\\left(\\theta\\right)^{4} + 3 \\, a^{2} r^{4} \\cos\\left(\\theta\\right)^{2} + r^{6}} \\\\ \\Gamma_{ \\phantom{\\, \\phi} \\, t \\, r }^{ \\, \\phi \\phantom{\\, t} \\phantom{\\, r} } & = & \\frac{a^{3} m \\cos\\left(\\theta\\right)^{2} - a m r^{2}}{2 \\, a^{2} m r^{3} - a^{2} r^{4} + 2 \\, m r^{5} - r^{6} - {\\left(a^{6} + a^{4} r^{2}\\right)} \\cos\\left(\\theta\\right)^{4} + 2 \\, {\\left(a^{4} m r - a^{4} r^{2} + a^{2} m r^{3} - a^{2} r^{4}\\right)} \\cos\\left(\\theta\\right)^{2} - 2 \\, {\\left(a^{4} m \\cos\\left(\\theta\\right)^{2} - 2 \\, a^{2} m^{2} r + {\\left(2 \\, a^{2} m^{2} + a^{2} m\\right)} r^{2}\\right)} \\sin\\left(\\theta\\right)^{2}} \\\\ \\Gamma_{ \\phantom{\\, \\phi} \\, t \\, \\theta }^{ \\, \\phi \\phantom{\\, t} \\phantom{\\, \\theta} } & = & -\\frac{2 \\, {\\left(a^{3} m r - 2 \\, a m^{2} r^{2} + a m r^{3}\\right)} \\cos\\left(\\theta\\right)}{2 \\, {\\left(a^{4} m \\cos\\left(\\theta\\right)^{2} - 2 \\, a^{2} m^{2} r + {\\left(2 \\, a^{2} m^{2} + a^{2} m\\right)} r^{2}\\right)} \\sin\\left(\\theta\\right)^{3} - {\\left(2 \\, a^{2} m r^{3} - a^{2} r^{4} + 2 \\, m r^{5} - r^{6} - {\\left(a^{6} + a^{4} r^{2}\\right)} \\cos\\left(\\theta\\right)^{4} + 2 \\, {\\left(a^{4} m r - a^{4} r^{2} + a^{2} m r^{3} - a^{2} r^{4}\\right)} \\cos\\left(\\theta\\right)^{2}\\right)} \\sin\\left(\\theta\\right)} \\\\ \\Gamma_{ \\phantom{\\, \\phi} \\, r \\, \\phi }^{ \\, \\phi \\phantom{\\, r} \\phantom{\\, \\phi} } & = & -\\frac{a^{6} r \\cos\\left(\\theta\\right)^{6} - 2 \\, m r^{6} + r^{7} - {\\left(2 \\, a^{4} m r^{2} - 3 \\, a^{4} r^{3}\\right)} \\cos\\left(\\theta\\right)^{4} - {\\left(4 \\, a^{2} m r^{4} - 3 \\, a^{2} r^{5}\\right)} \\cos\\left(\\theta\\right)^{2} + 2 \\, {\\left(2 \\, a^{2} m^{2} r^{2} - {\\left(a^{2} m^{2} + a^{2} m\\right)} r^{3} + {\\left(a^{4} m^{2} - a^{4} m\\right)} r \\cos\\left(\\theta\\right)^{2}\\right)} \\sin\\left(\\theta\\right)^{2}}{2 \\, a^{2} m r^{5} - a^{2} r^{6} + 2 \\, m r^{7} - r^{8} - {\\left(a^{8} + a^{6} r^{2}\\right)} \\cos\\left(\\theta\\right)^{6} + {\\left(2 \\, a^{6} m r - 3 \\, a^{6} r^{2} + 2 \\, a^{4} m r^{3} - 3 \\, a^{4} r^{4}\\right)} \\cos\\left(\\theta\\right)^{4} + {\\left(4 \\, a^{4} m r^{3} - 3 \\, a^{4} r^{4} + 4 \\, a^{2} m r^{5} - 3 \\, a^{2} r^{6}\\right)} \\cos\\left(\\theta\\right)^{2} - 2 \\, {\\left(a^{6} m \\cos\\left(\\theta\\right)^{4} - 2 \\, a^{2} m^{2} r^{3} + {\\left(2 \\, a^{2} m^{2} + a^{2} m\\right)} r^{4} - 2 \\, {\\left(a^{4} m^{2} r - {\\left(a^{4} m^{2} + a^{4} m\\right)} r^{2}\\right)} \\cos\\left(\\theta\\right)^{2}\\right)} \\sin\\left(\\theta\\right)^{2}} \\\\ \\Gamma_{ \\phantom{\\, \\phi} \\, \\theta \\, \\phi }^{ \\, \\phi \\phantom{\\, \\theta} \\phantom{\\, \\phi} } & = & \\frac{{\\left(a^{8} + a^{6} r^{2} - 2 \\, a^{6} m\\right)} \\cos\\left(\\theta\\right)^{7} - {\\left(2 \\, a^{4} m r^{3} - 3 \\, a^{4} r^{4} - 3 \\, {\\left(a^{6} - 2 \\, a^{4} m\\right)} r^{2} + 2 \\, {\\left(a^{6} m - 2 \\, a^{4} m^{2}\\right)} r\\right)} \\cos\\left(\\theta\\right)^{5} - {\\left(4 \\, a^{2} m r^{5} - 3 \\, a^{2} r^{6} - 2 \\, a^{6} m - 4 \\, a^{4} m r^{2} - {\\left(3 \\, a^{4} - 4 \\, a^{2} m\\right)} r^{4} + 4 \\, {\\left(a^{4} m - 2 \\, a^{2} m^{2}\\right)} r^{3}\\right)} \\cos\\left(\\theta\\right)^{3} + 4 \\, {\\left(a^{4} m^{2} r^{2} + a^{2} m^{2} r^{4}\\right)} \\cos\\left(\\theta\\right) \\sin\\left(\\theta\\right)^{2} - {\\left(2 \\, a^{2} m r^{5} - a^{2} r^{6} + 2 \\, m r^{7} - r^{8} + 4 \\, a^{4} m^{2} r - 2 \\, a^{4} m r^{2} + 8 \\, a^{2} m^{2} r^{3} - 4 \\, a^{2} m r^{4}\\right)} \\cos\\left(\\theta\\right)}{2 \\, {\\left(a^{6} m \\cos\\left(\\theta\\right)^{4} - 2 \\, a^{2} m^{2} r^{3} + {\\left(2 \\, a^{2} m^{2} + a^{2} m\\right)} r^{4} - 2 \\, {\\left(a^{4} m^{2} r - {\\left(a^{4} m^{2} + a^{4} m\\right)} r^{2}\\right)} \\cos\\left(\\theta\\right)^{2}\\right)} \\sin\\left(\\theta\\right)^{3} - {\\left(2 \\, a^{2} m r^{5} - a^{2} r^{6} + 2 \\, m r^{7} - r^{8} - {\\left(a^{8} + a^{6} r^{2}\\right)} \\cos\\left(\\theta\\right)^{6} + {\\left(2 \\, a^{6} m r - 3 \\, a^{6} r^{2} + 2 \\, a^{4} m r^{3} - 3 \\, a^{4} r^{4}\\right)} \\cos\\left(\\theta\\right)^{4} + {\\left(4 \\, a^{4} m r^{3} - 3 \\, a^{4} r^{4} + 4 \\, a^{2} m r^{5} - 3 \\, a^{2} r^{6}\\right)} \\cos\\left(\\theta\\right)^{2}\\right)} \\sin\\left(\\theta\\right)} \\end{array}$$"
      ],
      "text/plain": [
       "\\begin{array}{lcl} \\Gamma_{ \\phantom{\\, t} \\, t \\, r }^{ \\, t \\phantom{\\, t} \\phantom{\\, r} } & = & -\\frac{a^{2} m r^{4} + m r^{6} - {\\left(a^{6} m + a^{4} m r^{2}\\right)} \\cos\\left(\\theta\\right)^{4} - 2 \\, {\\left(a^{2} m^{2} r^{3} - a^{2} m^{2} r^{2} - {\\left(a^{4} m^{2} r - a^{4} m^{2}\\right)} \\cos\\left(\\theta\\right)^{2}\\right)} \\sin\\left(\\theta\\right)^{2}}{2 \\, a^{2} m r^{5} - a^{2} r^{6} + 2 \\, m r^{7} - r^{8} - {\\left(a^{8} + a^{6} r^{2}\\right)} \\cos\\left(\\theta\\right)^{6} + {\\left(2 \\, a^{6} m r - 3 \\, a^{6} r^{2} + 2 \\, a^{4} m r^{3} - 3 \\, a^{4} r^{4}\\right)} \\cos\\left(\\theta\\right)^{4} + {\\left(4 \\, a^{4} m r^{3} - 3 \\, a^{4} r^{4} + 4 \\, a^{2} m r^{5} - 3 \\, a^{2} r^{6}\\right)} \\cos\\left(\\theta\\right)^{2} - 2 \\, {\\left(a^{6} m \\cos\\left(\\theta\\right)^{4} - 2 \\, a^{2} m^{2} r^{3} + {\\left(2 \\, a^{2} m^{2} + a^{2} m\\right)} r^{4} - 2 \\, {\\left(a^{4} m^{2} r - {\\left(a^{4} m^{2} + a^{4} m\\right)} r^{2}\\right)} \\cos\\left(\\theta\\right)^{2}\\right)} \\sin\\left(\\theta\\right)^{2}} \\\\ \\Gamma_{ \\phantom{\\, t} \\, t \\, \\theta }^{ \\, t \\phantom{\\, t} \\phantom{\\, \\theta} } & = & \\frac{2 \\, {\\left(2 \\, a^{4} m^{2} r \\cos\\left(\\theta\\right) \\sin\\left(\\theta\\right)^{3} + {\\left({\\left(a^{6} m r + a^{4} m r^{3}\\right)} \\cos\\left(\\theta\\right)^{3} - {\\left(2 \\, a^{4} m^{2} r^{2} - a^{4} m r^{3} + 2 \\, a^{2} m^{2} r^{4} - a^{2} m r^{5}\\right)} \\cos\\left(\\theta\\right)\\right)} \\sin\\left(\\theta\\right)\\right)}}{2 \\, a^{2} m r^{5} - a^{2} r^{6} + 2 \\, m r^{7} - r^{8} - {\\left(a^{8} + a^{6} r^{2}\\right)} \\cos\\left(\\theta\\right)^{6} + {\\left(2 \\, a^{6} m r - 3 \\, a^{6} r^{2} + 2 \\, a^{4} m r^{3} - 3 \\, a^{4} r^{4}\\right)} \\cos\\left(\\theta\\right)^{4} + {\\left(4 \\, a^{4} m r^{3} - 3 \\, a^{4} r^{4} + 4 \\, a^{2} m r^{5} - 3 \\, a^{2} r^{6}\\right)} \\cos\\left(\\theta\\right)^{2} - 2 \\, {\\left(a^{6} m \\cos\\left(\\theta\\right)^{4} - 2 \\, a^{2} m^{2} r^{3} + {\\left(2 \\, a^{2} m^{2} + a^{2} m\\right)} r^{4} - 2 \\, {\\left(a^{4} m^{2} r - {\\left(a^{4} m^{2} + a^{4} m\\right)} r^{2}\\right)} \\cos\\left(\\theta\\right)^{2}\\right)} \\sin\\left(\\theta\\right)^{2}} \\\\ \\Gamma_{ \\phantom{\\, t} \\, r \\, \\phi }^{ \\, t \\phantom{\\, r} \\phantom{\\, \\phi} } & = & -\\frac{2 \\, a^{3} m^{2} \\sin\\left(\\theta\\right)^{4} - {\\left(a^{3} m r^{2} + 3 \\, a m r^{4} - {\\left(a^{5} m - a^{3} m r^{2}\\right)} \\cos\\left(\\theta\\right)^{2}\\right)} \\sin\\left(\\theta\\right)^{2}}{2 \\, a^{2} m r^{3} - a^{2} r^{4} + 2 \\, m r^{5} - r^{6} - {\\left(a^{6} + a^{4} r^{2}\\right)} \\cos\\left(\\theta\\right)^{4} + 2 \\, {\\left(a^{4} m r - a^{4} r^{2} + a^{2} m r^{3} - a^{2} r^{4}\\right)} \\cos\\left(\\theta\\right)^{2} - 2 \\, {\\left(a^{4} m \\cos\\left(\\theta\\right)^{2} - 2 \\, a^{2} m^{2} r + {\\left(2 \\, a^{2} m^{2} + a^{2} m\\right)} r^{2}\\right)} \\sin\\left(\\theta\\right)^{2}} \\\\ \\Gamma_{ \\phantom{\\, t} \\, \\theta \\, \\phi }^{ \\, t \\phantom{\\, \\theta} \\phantom{\\, \\phi} } & = & \\frac{2 \\, {\\left({\\left(a^{5} m r^{3} + {\\left(a^{7} m - 2 \\, a^{5} m^{2}\\right)} r\\right)} \\cos\\left(\\theta\\right) \\sin\\left(\\theta\\right)^{5} - {\\left(a^{3} m r^{5} + 2 \\, {\\left(a^{5} m - a^{3} m^{2}\\right)} r^{3} + {\\left(a^{7} m - 2 \\, a^{5} m^{2}\\right)} r\\right)} \\cos\\left(\\theta\\right) \\sin\\left(\\theta\\right)^{3}\\right)}}{2 \\, a^{2} m r^{5} - a^{2} r^{6} + 2 \\, m r^{7} - r^{8} - {\\left(a^{8} + a^{6} r^{2}\\right)} \\cos\\left(\\theta\\right)^{6} + {\\left(2 \\, a^{6} m r - 3 \\, a^{6} r^{2} + 2 \\, a^{4} m r^{3} - 3 \\, a^{4} r^{4}\\right)} \\cos\\left(\\theta\\right)^{4} + {\\left(4 \\, a^{4} m r^{3} - 3 \\, a^{4} r^{4} + 4 \\, a^{2} m r^{5} - 3 \\, a^{2} r^{6}\\right)} \\cos\\left(\\theta\\right)^{2} - 2 \\, {\\left(a^{6} m \\cos\\left(\\theta\\right)^{4} - 2 \\, a^{2} m^{2} r^{3} + {\\left(2 \\, a^{2} m^{2} + a^{2} m\\right)} r^{4} - 2 \\, {\\left(a^{4} m^{2} r - {\\left(a^{4} m^{2} + a^{4} m\\right)} r^{2}\\right)} \\cos\\left(\\theta\\right)^{2}\\right)} \\sin\\left(\\theta\\right)^{2}} \\\\ \\Gamma_{ \\phantom{\\, r} \\, t \\, t }^{ \\, r \\phantom{\\, t} \\phantom{\\, t} } & = & \\frac{a^{2} m r^{2} - 2 \\, m^{2} r^{3} + m r^{4} - {\\left(a^{4} m - 2 \\, a^{2} m^{2} r + a^{2} m r^{2}\\right)} \\cos\\left(\\theta\\right)^{2}}{a^{6} \\cos\\left(\\theta\\right)^{6} + 3 \\, a^{4} r^{2} \\cos\\left(\\theta\\right)^{4} + 3 \\, a^{2} r^{4} \\cos\\left(\\theta\\right)^{2} + r^{6}} \\\\ \\Gamma_{ \\phantom{\\, r} \\, t \\, \\phi }^{ \\, r \\phantom{\\, t} \\phantom{\\, \\phi} } & = & -\\frac{{\\left(a^{3} m r^{2} - 2 \\, a m^{2} r^{3} + a m r^{4} - {\\left(a^{5} m - 2 \\, a^{3} m^{2} r + a^{3} m r^{2}\\right)} \\cos\\left(\\theta\\right)^{2}\\right)} \\sin\\left(\\theta\\right)^{2}}{a^{6} \\cos\\left(\\theta\\right)^{6} + 3 \\, a^{4} r^{2} \\cos\\left(\\theta\\right)^{4} + 3 \\, a^{2} r^{4} \\cos\\left(\\theta\\right)^{2} + r^{6}} \\\\ \\Gamma_{ \\phantom{\\, r} \\, r \\, r }^{ \\, r \\phantom{\\, r} \\phantom{\\, r} } & = & \\frac{a^{2} r - m r^{2} + {\\left(a^{2} m - a^{2} r\\right)} \\cos\\left(\\theta\\right)^{2}}{a^{2} r^{2} - 2 \\, m r^{3} + r^{4} + {\\left(a^{4} - 2 \\, a^{2} m r + a^{2} r^{2}\\right)} \\cos\\left(\\theta\\right)^{2}} \\\\ \\Gamma_{ \\phantom{\\, r} \\, r \\, \\theta }^{ \\, r \\phantom{\\, r} \\phantom{\\, \\theta} } & = & -\\frac{a^{2} \\cos\\left(\\theta\\right) \\sin\\left(\\theta\\right)}{a^{2} \\cos\\left(\\theta\\right)^{2} + r^{2}} \\\\ \\Gamma_{ \\phantom{\\, r} \\, \\theta \\, \\theta }^{ \\, r \\phantom{\\, \\theta} \\phantom{\\, \\theta} } & = & -\\frac{a^{2} r - 2 \\, m r^{2} + r^{3}}{a^{2} \\cos\\left(\\theta\\right)^{2} + r^{2}} \\\\ \\Gamma_{ \\phantom{\\, r} \\, \\phi \\, \\phi }^{ \\, r \\phantom{\\, \\phi} \\phantom{\\, \\phi} } & = & \\frac{2 \\, {\\left(a^{4} m r - 2 \\, a^{2} m^{2} r^{2} + a^{2} m r^{3}\\right)} \\sin\\left(\\theta\\right)^{4} - {\\left(a^{2} r^{5} - 2 \\, m r^{6} + r^{7} + {\\left(a^{6} r - 2 \\, a^{4} m r^{2} + a^{4} r^{3}\\right)} \\cos\\left(\\theta\\right)^{4} + 2 \\, {\\left(a^{4} r^{3} - 2 \\, a^{2} m r^{4} + a^{2} r^{5}\\right)} \\cos\\left(\\theta\\right)^{2}\\right)} \\sin\\left(\\theta\\right)^{2}}{a^{6} \\cos\\left(\\theta\\right)^{6} + 3 \\, a^{4} r^{2} \\cos\\left(\\theta\\right)^{4} + 3 \\, a^{2} r^{4} \\cos\\left(\\theta\\right)^{2} + r^{6}} \\\\ \\Gamma_{ \\phantom{\\, \\theta} \\, t \\, t }^{ \\, \\theta \\phantom{\\, t} \\phantom{\\, t} } & = & -\\frac{2 \\, a^{2} m r \\cos\\left(\\theta\\right) \\sin\\left(\\theta\\right)}{a^{6} \\cos\\left(\\theta\\right)^{6} + 3 \\, a^{4} r^{2} \\cos\\left(\\theta\\right)^{4} + 3 \\, a^{2} r^{4} \\cos\\left(\\theta\\right)^{2} + r^{6}} \\\\ \\Gamma_{ \\phantom{\\, \\theta} \\, t \\, \\phi }^{ \\, \\theta \\phantom{\\, t} \\phantom{\\, \\phi} } & = & \\frac{2 \\, {\\left(a^{3} m r + a m r^{3}\\right)} \\cos\\left(\\theta\\right) \\sin\\left(\\theta\\right)}{a^{6} \\cos\\left(\\theta\\right)^{6} + 3 \\, a^{4} r^{2} \\cos\\left(\\theta\\right)^{4} + 3 \\, a^{2} r^{4} \\cos\\left(\\theta\\right)^{2} + r^{6}} \\\\ \\Gamma_{ \\phantom{\\, \\theta} \\, r \\, r }^{ \\, \\theta \\phantom{\\, r} \\phantom{\\, r} } & = & \\frac{a^{2} \\cos\\left(\\theta\\right) \\sin\\left(\\theta\\right)}{a^{2} r^{2} - 2 \\, m r^{3} + r^{4} + {\\left(a^{4} - 2 \\, a^{2} m r + a^{2} r^{2}\\right)} \\cos\\left(\\theta\\right)^{2}} \\\\ \\Gamma_{ \\phantom{\\, \\theta} \\, r \\, \\theta }^{ \\, \\theta \\phantom{\\, r} \\phantom{\\, \\theta} } & = & \\frac{r}{a^{2} \\cos\\left(\\theta\\right)^{2} + r^{2}} \\\\ \\Gamma_{ \\phantom{\\, \\theta} \\, \\theta \\, \\theta }^{ \\, \\theta \\phantom{\\, \\theta} \\phantom{\\, \\theta} } & = & -\\frac{a^{2} \\cos\\left(\\theta\\right) \\sin\\left(\\theta\\right)}{a^{2} \\cos\\left(\\theta\\right)^{2} + r^{2}} \\\\ \\Gamma_{ \\phantom{\\, \\theta} \\, \\phi \\, \\phi }^{ \\, \\theta \\phantom{\\, \\phi} \\phantom{\\, \\phi} } & = & -\\frac{{\\left({\\left(a^{6} + a^{4} r^{2} - 2 \\, a^{4} m\\right)} \\cos\\left(\\theta\\right)^{5} + 2 \\, {\\left(a^{2} r^{4} + {\\left(a^{4} - 2 \\, a^{2} m\\right)} r^{2}\\right)} \\cos\\left(\\theta\\right)^{3} + {\\left(a^{2} r^{4} + r^{6} + 2 \\, a^{4} m + 4 \\, a^{2} m r^{2}\\right)} \\cos\\left(\\theta\\right)\\right)} \\sin\\left(\\theta\\right)}{a^{6} \\cos\\left(\\theta\\right)^{6} + 3 \\, a^{4} r^{2} \\cos\\left(\\theta\\right)^{4} + 3 \\, a^{2} r^{4} \\cos\\left(\\theta\\right)^{2} + r^{6}} \\\\ \\Gamma_{ \\phantom{\\, \\phi} \\, t \\, r }^{ \\, \\phi \\phantom{\\, t} \\phantom{\\, r} } & = & \\frac{a^{3} m \\cos\\left(\\theta\\right)^{2} - a m r^{2}}{2 \\, a^{2} m r^{3} - a^{2} r^{4} + 2 \\, m r^{5} - r^{6} - {\\left(a^{6} + a^{4} r^{2}\\right)} \\cos\\left(\\theta\\right)^{4} + 2 \\, {\\left(a^{4} m r - a^{4} r^{2} + a^{2} m r^{3} - a^{2} r^{4}\\right)} \\cos\\left(\\theta\\right)^{2} - 2 \\, {\\left(a^{4} m \\cos\\left(\\theta\\right)^{2} - 2 \\, a^{2} m^{2} r + {\\left(2 \\, a^{2} m^{2} + a^{2} m\\right)} r^{2}\\right)} \\sin\\left(\\theta\\right)^{2}} \\\\ \\Gamma_{ \\phantom{\\, \\phi} \\, t \\, \\theta }^{ \\, \\phi \\phantom{\\, t} \\phantom{\\, \\theta} } & = & -\\frac{2 \\, {\\left(a^{3} m r - 2 \\, a m^{2} r^{2} + a m r^{3}\\right)} \\cos\\left(\\theta\\right)}{2 \\, {\\left(a^{4} m \\cos\\left(\\theta\\right)^{2} - 2 \\, a^{2} m^{2} r + {\\left(2 \\, a^{2} m^{2} + a^{2} m\\right)} r^{2}\\right)} \\sin\\left(\\theta\\right)^{3} - {\\left(2 \\, a^{2} m r^{3} - a^{2} r^{4} + 2 \\, m r^{5} - r^{6} - {\\left(a^{6} + a^{4} r^{2}\\right)} \\cos\\left(\\theta\\right)^{4} + 2 \\, {\\left(a^{4} m r - a^{4} r^{2} + a^{2} m r^{3} - a^{2} r^{4}\\right)} \\cos\\left(\\theta\\right)^{2}\\right)} \\sin\\left(\\theta\\right)} \\\\ \\Gamma_{ \\phantom{\\, \\phi} \\, r \\, \\phi }^{ \\, \\phi \\phantom{\\, r} \\phantom{\\, \\phi} } & = & -\\frac{a^{6} r \\cos\\left(\\theta\\right)^{6} - 2 \\, m r^{6} + r^{7} - {\\left(2 \\, a^{4} m r^{2} - 3 \\, a^{4} r^{3}\\right)} \\cos\\left(\\theta\\right)^{4} - {\\left(4 \\, a^{2} m r^{4} - 3 \\, a^{2} r^{5}\\right)} \\cos\\left(\\theta\\right)^{2} + 2 \\, {\\left(2 \\, a^{2} m^{2} r^{2} - {\\left(a^{2} m^{2} + a^{2} m\\right)} r^{3} + {\\left(a^{4} m^{2} - a^{4} m\\right)} r \\cos\\left(\\theta\\right)^{2}\\right)} \\sin\\left(\\theta\\right)^{2}}{2 \\, a^{2} m r^{5} - a^{2} r^{6} + 2 \\, m r^{7} - r^{8} - {\\left(a^{8} + a^{6} r^{2}\\right)} \\cos\\left(\\theta\\right)^{6} + {\\left(2 \\, a^{6} m r - 3 \\, a^{6} r^{2} + 2 \\, a^{4} m r^{3} - 3 \\, a^{4} r^{4}\\right)} \\cos\\left(\\theta\\right)^{4} + {\\left(4 \\, a^{4} m r^{3} - 3 \\, a^{4} r^{4} + 4 \\, a^{2} m r^{5} - 3 \\, a^{2} r^{6}\\right)} \\cos\\left(\\theta\\right)^{2} - 2 \\, {\\left(a^{6} m \\cos\\left(\\theta\\right)^{4} - 2 \\, a^{2} m^{2} r^{3} + {\\left(2 \\, a^{2} m^{2} + a^{2} m\\right)} r^{4} - 2 \\, {\\left(a^{4} m^{2} r - {\\left(a^{4} m^{2} + a^{4} m\\right)} r^{2}\\right)} \\cos\\left(\\theta\\right)^{2}\\right)} \\sin\\left(\\theta\\right)^{2}} \\\\ \\Gamma_{ \\phantom{\\, \\phi} \\, \\theta \\, \\phi }^{ \\, \\phi \\phantom{\\, \\theta} \\phantom{\\, \\phi} } & = & \\frac{{\\left(a^{8} + a^{6} r^{2} - 2 \\, a^{6} m\\right)} \\cos\\left(\\theta\\right)^{7} - {\\left(2 \\, a^{4} m r^{3} - 3 \\, a^{4} r^{4} - 3 \\, {\\left(a^{6} - 2 \\, a^{4} m\\right)} r^{2} + 2 \\, {\\left(a^{6} m - 2 \\, a^{4} m^{2}\\right)} r\\right)} \\cos\\left(\\theta\\right)^{5} - {\\left(4 \\, a^{2} m r^{5} - 3 \\, a^{2} r^{6} - 2 \\, a^{6} m - 4 \\, a^{4} m r^{2} - {\\left(3 \\, a^{4} - 4 \\, a^{2} m\\right)} r^{4} + 4 \\, {\\left(a^{4} m - 2 \\, a^{2} m^{2}\\right)} r^{3}\\right)} \\cos\\left(\\theta\\right)^{3} + 4 \\, {\\left(a^{4} m^{2} r^{2} + a^{2} m^{2} r^{4}\\right)} \\cos\\left(\\theta\\right) \\sin\\left(\\theta\\right)^{2} - {\\left(2 \\, a^{2} m r^{5} - a^{2} r^{6} + 2 \\, m r^{7} - r^{8} + 4 \\, a^{4} m^{2} r - 2 \\, a^{4} m r^{2} + 8 \\, a^{2} m^{2} r^{3} - 4 \\, a^{2} m r^{4}\\right)} \\cos\\left(\\theta\\right)}{2 \\, {\\left(a^{6} m \\cos\\left(\\theta\\right)^{4} - 2 \\, a^{2} m^{2} r^{3} + {\\left(2 \\, a^{2} m^{2} + a^{2} m\\right)} r^{4} - 2 \\, {\\left(a^{4} m^{2} r - {\\left(a^{4} m^{2} + a^{4} m\\right)} r^{2}\\right)} \\cos\\left(\\theta\\right)^{2}\\right)} \\sin\\left(\\theta\\right)^{3} - {\\left(2 \\, a^{2} m r^{5} - a^{2} r^{6} + 2 \\, m r^{7} - r^{8} - {\\left(a^{8} + a^{6} r^{2}\\right)} \\cos\\left(\\theta\\right)^{6} + {\\left(2 \\, a^{6} m r - 3 \\, a^{6} r^{2} + 2 \\, a^{4} m r^{3} - 3 \\, a^{4} r^{4}\\right)} \\cos\\left(\\theta\\right)^{4} + {\\left(4 \\, a^{4} m r^{3} - 3 \\, a^{4} r^{4} + 4 \\, a^{2} m r^{5} - 3 \\, a^{2} r^{6}\\right)} \\cos\\left(\\theta\\right)^{2}\\right)} \\sin\\left(\\theta\\right)} \\end{array}"
      ]
     },
     "metadata": {},
     "output_type": "display_data"
    }
   ],
   "source": [
    "#calculating cristoffel symbols\n",
    "show(latex(g_kerr.christoffel_symbols_display()))"
   ]
  },
  {
   "cell_type": "code",
   "execution_count": null,
   "id": "f348833f",
   "metadata": {
    "scrolled": true
   },
   "outputs": [],
   "source": [
    "#Riemann tensor\n",
    "#Riemann_kerr=g_kerr.riemann()\n",
    "#let's lower the indices\n",
    "#final_kerr=Riemann_kerr.down(g_kerr,0)\n",
    "#show(latex(final_kerr.display_comp( only_nonzero=True)))\n",
    "\n",
    "\n",
    "#other way\n",
    "nabla=g_kerr.connection()\n",
    "Riem_kerr=nabla.riemann()\n",
    "show(latex(Riem_kerr.display()))"
   ]
  },
  {
   "cell_type": "code",
   "execution_count": null,
   "id": "2a70821e",
   "metadata": {},
   "outputs": [],
   "source": [
    "#Ricci tensor\n",
    "#Ricci_kerr=g_kerr.ricci()\n",
    "#Ricci_kerr.display()\n",
    "#show(latex(Ricci_kerr[:]))\n",
    "\n",
    "\n",
    "\n",
    "#other way\n",
    "Ric_kerr=nabla.ricci()\n"
   ]
  },
  {
   "cell_type": "code",
   "execution_count": null,
   "id": "908d5af2",
   "metadata": {},
   "outputs": [],
   "source": [
    "show(latex(Ric_kerr.display()))"
   ]
  },
  {
   "cell_type": "code",
   "execution_count": null,
   "id": "c10567b0",
   "metadata": {},
   "outputs": [],
   "source": [
    "#Ricci scalar\n",
    "Rickerr_up = Ric_kerr.up(g, 0)  # Raise the first index for contraction\n",
    "R_kerr = Rickerr_up.trace()\n",
    "show(latex(R_kerr.display()))\n"
   ]
  },
  {
   "cell_type": "code",
   "execution_count": null,
   "id": "cb8a2dfe",
   "metadata": {},
   "outputs": [],
   "source": [
    "#weyl tensor\n",
    "show(latex(g_kerr.weyl().display()))"
   ]
  },
  {
   "cell_type": "code",
   "execution_count": null,
   "id": "9e41493d",
   "metadata": {},
   "outputs": [],
   "source": [
    "#Einstein tensor\n",
    "Ein = Ric_kerr - (1/2)*R_kerr*g_kerr"
   ]
  },
  {
   "cell_type": "code",
   "execution_count": null,
   "id": "7241d14b",
   "metadata": {},
   "outputs": [],
   "source": [
    "Ein.display()"
   ]
  },
  {
   "cell_type": "code",
   "execution_count": null,
   "id": "e588d4fe",
   "metadata": {},
   "outputs": [],
   "source": []
  }
 ],
 "metadata": {
  "kernelspec": {
   "display_name": "SageMath 9.5",
   "language": "sage",
   "name": "sagemath"
  },
  "language_info": {
   "codemirror_mode": {
    "name": "ipython",
    "version": 3
   },
   "file_extension": ".py",
   "mimetype": "text/x-python",
   "name": "python",
   "nbconvert_exporter": "python",
   "pygments_lexer": "ipython3",
   "version": "3.10.12"
  }
 },
 "nbformat": 4,
 "nbformat_minor": 5
}

{
 "cells": [
  {
   "cell_type": "code",
   "execution_count": 22,
   "id": "e4ea6bfe",
   "metadata": {},
   "outputs": [],
   "source": [
    "%display latex"
   ]
  },
  {
   "cell_type": "code",
   "execution_count": 23,
   "id": "3a99b2a9",
   "metadata": {},
   "outputs": [
    {
     "name": "stdout",
     "output_type": "stream",
     "text": [
      "4-dimensional differentiable manifold M\n"
     ]
    },
    {
     "data": {
      "text/html": [
       "<html><script type=\"math/tex; mode=display\">\\newcommand{\\Bold}[1]{\\mathbf{#1}}\\left(M,(t, r, \\theta, \\phi)\\right)</script></html>"
      ],
      "text/latex": [
       "$$\\newcommand{\\Bold}[1]{\\mathbf{#1}}\\left(M,(t, r, \\theta, \\phi)\\right)$$"
      ],
      "text/plain": [
       "\\left(M,(t, r, \\theta, \\phi)\\right)"
      ]
     },
     "metadata": {},
     "output_type": "display_data"
    }
   ],
   "source": [
    "from sage.manifolds.all import *\n",
    "from sage.symbolic.constants import pi\n",
    "from sage.symbolic.ring import SR\n",
    "\n",
    "#Defining of manifold and spherical chart\n",
    "M = Manifold(4, name='M', start_index=0)\n",
    "print(M)\n",
    "[i for i in M.irange()]\n",
    "\n",
    "#using SR() to make pi understandab le for sage \n",
    "chart_minf ='t r:(0,+oo) theta:(0,%s) phi:(0,%s)' % (SR(pi), SR(2*pi))\n",
    "std.<t, r, theta, phi> = M.chart(chart_minf)\n",
    "std\n",
    "show(latex(std))"
   ]
  },
  {
   "cell_type": "code",
   "execution_count": 24,
   "id": "1403491e",
   "metadata": {},
   "outputs": [],
   "source": [
    "#Defining of metric \n",
    "g_kerr=M.metric('g')\n",
    "\n",
    "var('a  m')\n",
    "\n",
    "\n",
    "sigma= r^2 + a^2 * cos(theta)^2\n",
    "delta=r^2-2*m*r +a^2\n",
    "\n",
    "g_kerr[0,0]=-(1-2*m*r/sigma)\n",
    "g_kerr[0,3]=-2*m*a*r*sin(theta)^2/sigma\n",
    "g_kerr[3,0]=g_kerr[0,3]\n",
    "g_kerr[1,1]=sigma/delta\n",
    "g_kerr[2,2]=sigma\n",
    "g_kerr[3,3]=(r^2+a^2+(2*m*r*a^2*sin(theta)^2/sigma))*sin(theta)^2"
   ]
  },
  {
   "cell_type": "code",
   "execution_count": 25,
   "id": "31f86b6a",
   "metadata": {},
   "outputs": [
    {
     "data": {
      "text/html": [
       "<html><script type=\"math/tex; mode=display\">\\newcommand{\\Bold}[1]{\\mathbf{#1}}\\left(\\begin{array}{rrrr}\n",
       "\\frac{2 \\, m r}{a^{2} \\cos\\left(\\theta\\right)^{2} + r^{2}} - 1 & 0 & 0 & -\\frac{2 \\, a m r \\sin\\left(\\theta\\right)^{2}}{a^{2} \\cos\\left(\\theta\\right)^{2} + r^{2}} \\\\\n",
       "0 & \\frac{a^{2} \\cos\\left(\\theta\\right)^{2} + r^{2}}{a^{2} - 2 \\, m r + r^{2}} & 0 & 0 \\\\\n",
       "0 & 0 & a^{2} \\cos\\left(\\theta\\right)^{2} + r^{2} & 0 \\\\\n",
       "-\\frac{2 \\, a m r \\sin\\left(\\theta\\right)^{2}}{a^{2} \\cos\\left(\\theta\\right)^{2} + r^{2}} & 0 & 0 & {\\left(\\frac{2 \\, a^{2} m r \\sin\\left(\\theta\\right)^{2}}{a^{2} \\cos\\left(\\theta\\right)^{2} + r^{2}} + a^{2} + r^{2}\\right)} \\sin\\left(\\theta\\right)^{2}\n",
       "\\end{array}\\right)</script></html>"
      ],
      "text/latex": [
       "$$\\newcommand{\\Bold}[1]{\\mathbf{#1}}\\left(\\begin{array}{rrrr}\n",
       "\\frac{2 \\, m r}{a^{2} \\cos\\left(\\theta\\right)^{2} + r^{2}} - 1 & 0 & 0 & -\\frac{2 \\, a m r \\sin\\left(\\theta\\right)^{2}}{a^{2} \\cos\\left(\\theta\\right)^{2} + r^{2}} \\\\\n",
       "0 & \\frac{a^{2} \\cos\\left(\\theta\\right)^{2} + r^{2}}{a^{2} - 2 \\, m r + r^{2}} & 0 & 0 \\\\\n",
       "0 & 0 & a^{2} \\cos\\left(\\theta\\right)^{2} + r^{2} & 0 \\\\\n",
       "-\\frac{2 \\, a m r \\sin\\left(\\theta\\right)^{2}}{a^{2} \\cos\\left(\\theta\\right)^{2} + r^{2}} & 0 & 0 & {\\left(\\frac{2 \\, a^{2} m r \\sin\\left(\\theta\\right)^{2}}{a^{2} \\cos\\left(\\theta\\right)^{2} + r^{2}} + a^{2} + r^{2}\\right)} \\sin\\left(\\theta\\right)^{2}\n",
       "\\end{array}\\right)$$"
      ],
      "text/plain": [
       "\\left(\\begin{array}{rrrr}\n",
       "\\frac{2 \\, m r}{a^{2} \\cos\\left(\\theta\\right)^{2} + r^{2}} - 1 & 0 & 0 & -\\frac{2 \\, a m r \\sin\\left(\\theta\\right)^{2}}{a^{2} \\cos\\left(\\theta\\right)^{2} + r^{2}} \\\\\n",
       "0 & \\frac{a^{2} \\cos\\left(\\theta\\right)^{2} + r^{2}}{a^{2} - 2 \\, m r + r^{2}} & 0 & 0 \\\\\n",
       "0 & 0 & a^{2} \\cos\\left(\\theta\\right)^{2} + r^{2} & 0 \\\\\n",
       "-\\frac{2 \\, a m r \\sin\\left(\\theta\\right)^{2}}{a^{2} \\cos\\left(\\theta\\right)^{2} + r^{2}} & 0 & 0 & {\\left(\\frac{2 \\, a^{2} m r \\sin\\left(\\theta\\right)^{2}}{a^{2} \\cos\\left(\\theta\\right)^{2} + r^{2}} + a^{2} + r^{2}\\right)} \\sin\\left(\\theta\\right)^{2}\n",
       "\\end{array}\\right)"
      ]
     },
     "metadata": {},
     "output_type": "display_data"
    }
   ],
   "source": [
    "#matrix show\n",
    "show(latex(g_kerr[:]))"
   ]
  },
  {
   "cell_type": "code",
   "execution_count": 26,
   "id": "0d231adf",
   "metadata": {},
   "outputs": [
    {
     "data": {
      "text/html": [
       "<html><script type=\"math/tex; mode=display\">\\newcommand{\\Bold}[1]{\\mathbf{#1}}\\begin{array}{lcl} \\Gamma_{ \\phantom{\\, t} \\, t \\, r }^{ \\, t \\phantom{\\, t} \\phantom{\\, r} } & = & -\\frac{a^{4} m - m r^{4} - {\\left(a^{4} m + a^{2} m r^{2}\\right)} \\sin\\left(\\theta\\right)^{2}}{a^{2} r^{4} - 2 \\, m r^{5} + r^{6} + {\\left(a^{6} - 2 \\, a^{4} m r + a^{4} r^{2}\\right)} \\cos\\left(\\theta\\right)^{4} + 2 \\, {\\left(a^{4} r^{2} - 2 \\, a^{2} m r^{3} + a^{2} r^{4}\\right)} \\cos\\left(\\theta\\right)^{2}} \\\\ \\Gamma_{ \\phantom{\\, t} \\, t \\, \\theta }^{ \\, t \\phantom{\\, t} \\phantom{\\, \\theta} } & = & -\\frac{2 \\, a^{2} m r \\cos\\left(\\theta\\right) \\sin\\left(\\theta\\right)}{a^{4} \\cos\\left(\\theta\\right)^{4} + 2 \\, a^{2} r^{2} \\cos\\left(\\theta\\right)^{2} + r^{4}} \\\\ \\Gamma_{ \\phantom{\\, t} \\, r \\, \\phi }^{ \\, t \\phantom{\\, r} \\phantom{\\, \\phi} } & = & -\\frac{{\\left(a^{3} m r^{2} + 3 \\, a m r^{4} - {\\left(a^{5} m - a^{3} m r^{2}\\right)} \\cos\\left(\\theta\\right)^{2}\\right)} \\sin\\left(\\theta\\right)^{2}}{a^{2} r^{4} - 2 \\, m r^{5} + r^{6} + {\\left(a^{6} - 2 \\, a^{4} m r + a^{4} r^{2}\\right)} \\cos\\left(\\theta\\right)^{4} + 2 \\, {\\left(a^{4} r^{2} - 2 \\, a^{2} m r^{3} + a^{2} r^{4}\\right)} \\cos\\left(\\theta\\right)^{2}} \\\\ \\Gamma_{ \\phantom{\\, t} \\, \\theta \\, \\phi }^{ \\, t \\phantom{\\, \\theta} \\phantom{\\, \\phi} } & = & -\\frac{2 \\, {\\left(a^{5} m r \\cos\\left(\\theta\\right) \\sin\\left(\\theta\\right)^{5} - {\\left(a^{5} m r + a^{3} m r^{3}\\right)} \\cos\\left(\\theta\\right) \\sin\\left(\\theta\\right)^{3}\\right)}}{a^{6} \\cos\\left(\\theta\\right)^{6} + 3 \\, a^{4} r^{2} \\cos\\left(\\theta\\right)^{4} + 3 \\, a^{2} r^{4} \\cos\\left(\\theta\\right)^{2} + r^{6}} \\\\ \\Gamma_{ \\phantom{\\, r} \\, t \\, t }^{ \\, r \\phantom{\\, t} \\phantom{\\, t} } & = & \\frac{a^{2} m r^{2} - 2 \\, m^{2} r^{3} + m r^{4} - {\\left(a^{4} m - 2 \\, a^{2} m^{2} r + a^{2} m r^{2}\\right)} \\cos\\left(\\theta\\right)^{2}}{a^{6} \\cos\\left(\\theta\\right)^{6} + 3 \\, a^{4} r^{2} \\cos\\left(\\theta\\right)^{4} + 3 \\, a^{2} r^{4} \\cos\\left(\\theta\\right)^{2} + r^{6}} \\\\ \\Gamma_{ \\phantom{\\, r} \\, t \\, \\phi }^{ \\, r \\phantom{\\, t} \\phantom{\\, \\phi} } & = & -\\frac{{\\left(a^{3} m r^{2} - 2 \\, a m^{2} r^{3} + a m r^{4} - {\\left(a^{5} m - 2 \\, a^{3} m^{2} r + a^{3} m r^{2}\\right)} \\cos\\left(\\theta\\right)^{2}\\right)} \\sin\\left(\\theta\\right)^{2}}{a^{6} \\cos\\left(\\theta\\right)^{6} + 3 \\, a^{4} r^{2} \\cos\\left(\\theta\\right)^{4} + 3 \\, a^{2} r^{4} \\cos\\left(\\theta\\right)^{2} + r^{6}} \\\\ \\Gamma_{ \\phantom{\\, r} \\, r \\, r }^{ \\, r \\phantom{\\, r} \\phantom{\\, r} } & = & \\frac{a^{2} r - m r^{2} + {\\left(a^{2} m - a^{2} r\\right)} \\cos\\left(\\theta\\right)^{2}}{a^{2} r^{2} - 2 \\, m r^{3} + r^{4} + {\\left(a^{4} - 2 \\, a^{2} m r + a^{2} r^{2}\\right)} \\cos\\left(\\theta\\right)^{2}} \\\\ \\Gamma_{ \\phantom{\\, r} \\, r \\, \\theta }^{ \\, r \\phantom{\\, r} \\phantom{\\, \\theta} } & = & -\\frac{a^{2} \\cos\\left(\\theta\\right) \\sin\\left(\\theta\\right)}{a^{2} \\cos\\left(\\theta\\right)^{2} + r^{2}} \\\\ \\Gamma_{ \\phantom{\\, r} \\, \\theta \\, \\theta }^{ \\, r \\phantom{\\, \\theta} \\phantom{\\, \\theta} } & = & -\\frac{a^{2} r - 2 \\, m r^{2} + r^{3}}{a^{2} \\cos\\left(\\theta\\right)^{2} + r^{2}} \\\\ \\Gamma_{ \\phantom{\\, r} \\, \\phi \\, \\phi }^{ \\, r \\phantom{\\, \\phi} \\phantom{\\, \\phi} } & = & \\frac{{\\left(a^{4} m r^{2} - 2 \\, a^{2} m^{2} r^{3} + a^{2} m r^{4} - {\\left(a^{6} m - 2 \\, a^{4} m^{2} r + a^{4} m r^{2}\\right)} \\cos\\left(\\theta\\right)^{2}\\right)} \\sin\\left(\\theta\\right)^{4} - {\\left(a^{2} r^{5} - 2 \\, m r^{6} + r^{7} + {\\left(a^{6} r - 2 \\, a^{4} m r^{2} + a^{4} r^{3}\\right)} \\cos\\left(\\theta\\right)^{4} + 2 \\, {\\left(a^{4} r^{3} - 2 \\, a^{2} m r^{4} + a^{2} r^{5}\\right)} \\cos\\left(\\theta\\right)^{2}\\right)} \\sin\\left(\\theta\\right)^{2}}{a^{6} \\cos\\left(\\theta\\right)^{6} + 3 \\, a^{4} r^{2} \\cos\\left(\\theta\\right)^{4} + 3 \\, a^{2} r^{4} \\cos\\left(\\theta\\right)^{2} + r^{6}} \\\\ \\Gamma_{ \\phantom{\\, \\theta} \\, t \\, t }^{ \\, \\theta \\phantom{\\, t} \\phantom{\\, t} } & = & -\\frac{2 \\, a^{2} m r \\cos\\left(\\theta\\right) \\sin\\left(\\theta\\right)}{a^{6} \\cos\\left(\\theta\\right)^{6} + 3 \\, a^{4} r^{2} \\cos\\left(\\theta\\right)^{4} + 3 \\, a^{2} r^{4} \\cos\\left(\\theta\\right)^{2} + r^{6}} \\\\ \\Gamma_{ \\phantom{\\, \\theta} \\, t \\, \\phi }^{ \\, \\theta \\phantom{\\, t} \\phantom{\\, \\phi} } & = & \\frac{2 \\, {\\left(a^{3} m r + a m r^{3}\\right)} \\cos\\left(\\theta\\right) \\sin\\left(\\theta\\right)}{a^{6} \\cos\\left(\\theta\\right)^{6} + 3 \\, a^{4} r^{2} \\cos\\left(\\theta\\right)^{4} + 3 \\, a^{2} r^{4} \\cos\\left(\\theta\\right)^{2} + r^{6}} \\\\ \\Gamma_{ \\phantom{\\, \\theta} \\, r \\, r }^{ \\, \\theta \\phantom{\\, r} \\phantom{\\, r} } & = & \\frac{a^{2} \\cos\\left(\\theta\\right) \\sin\\left(\\theta\\right)}{a^{2} r^{2} - 2 \\, m r^{3} + r^{4} + {\\left(a^{4} - 2 \\, a^{2} m r + a^{2} r^{2}\\right)} \\cos\\left(\\theta\\right)^{2}} \\\\ \\Gamma_{ \\phantom{\\, \\theta} \\, r \\, \\theta }^{ \\, \\theta \\phantom{\\, r} \\phantom{\\, \\theta} } & = & \\frac{r}{a^{2} \\cos\\left(\\theta\\right)^{2} + r^{2}} \\\\ \\Gamma_{ \\phantom{\\, \\theta} \\, \\theta \\, \\theta }^{ \\, \\theta \\phantom{\\, \\theta} \\phantom{\\, \\theta} } & = & -\\frac{a^{2} \\cos\\left(\\theta\\right) \\sin\\left(\\theta\\right)}{a^{2} \\cos\\left(\\theta\\right)^{2} + r^{2}} \\\\ \\Gamma_{ \\phantom{\\, \\theta} \\, \\phi \\, \\phi }^{ \\, \\theta \\phantom{\\, \\phi} \\phantom{\\, \\phi} } & = & -\\frac{{\\left({\\left(a^{6} - 2 \\, a^{4} m r + a^{4} r^{2}\\right)} \\cos\\left(\\theta\\right)^{5} + 2 \\, {\\left(a^{4} r^{2} - 2 \\, a^{2} m r^{3} + a^{2} r^{4}\\right)} \\cos\\left(\\theta\\right)^{3} + {\\left(2 \\, a^{4} m r + 4 \\, a^{2} m r^{3} + a^{2} r^{4} + r^{6}\\right)} \\cos\\left(\\theta\\right)\\right)} \\sin\\left(\\theta\\right)}{a^{6} \\cos\\left(\\theta\\right)^{6} + 3 \\, a^{4} r^{2} \\cos\\left(\\theta\\right)^{4} + 3 \\, a^{2} r^{4} \\cos\\left(\\theta\\right)^{2} + r^{6}} \\\\ \\Gamma_{ \\phantom{\\, \\phi} \\, t \\, r }^{ \\, \\phi \\phantom{\\, t} \\phantom{\\, r} } & = & -\\frac{a^{3} m \\cos\\left(\\theta\\right)^{2} - a m r^{2}}{a^{2} r^{4} - 2 \\, m r^{5} + r^{6} + {\\left(a^{6} - 2 \\, a^{4} m r + a^{4} r^{2}\\right)} \\cos\\left(\\theta\\right)^{4} + 2 \\, {\\left(a^{4} r^{2} - 2 \\, a^{2} m r^{3} + a^{2} r^{4}\\right)} \\cos\\left(\\theta\\right)^{2}} \\\\ \\Gamma_{ \\phantom{\\, \\phi} \\, t \\, \\theta }^{ \\, \\phi \\phantom{\\, t} \\phantom{\\, \\theta} } & = & -\\frac{2 \\, a m r \\cos\\left(\\theta\\right)}{{\\left(a^{4} \\cos\\left(\\theta\\right)^{4} + 2 \\, a^{2} r^{2} \\cos\\left(\\theta\\right)^{2} + r^{4}\\right)} \\sin\\left(\\theta\\right)} \\\\ \\Gamma_{ \\phantom{\\, \\phi} \\, r \\, \\phi }^{ \\, \\phi \\phantom{\\, r} \\phantom{\\, \\phi} } & = & -\\frac{a^{2} m r^{2} + 2 \\, m r^{4} - r^{5} + {\\left(a^{4} m - a^{4} r\\right)} \\cos\\left(\\theta\\right)^{4} - {\\left(a^{4} m - a^{2} m r^{2} + 2 \\, a^{2} r^{3}\\right)} \\cos\\left(\\theta\\right)^{2}}{a^{2} r^{4} - 2 \\, m r^{5} + r^{6} + {\\left(a^{6} - 2 \\, a^{4} m r + a^{4} r^{2}\\right)} \\cos\\left(\\theta\\right)^{4} + 2 \\, {\\left(a^{4} r^{2} - 2 \\, a^{2} m r^{3} + a^{2} r^{4}\\right)} \\cos\\left(\\theta\\right)^{2}} \\\\ \\Gamma_{ \\phantom{\\, \\phi} \\, \\theta \\, \\phi }^{ \\, \\phi \\phantom{\\, \\theta} \\phantom{\\, \\phi} } & = & \\frac{a^{4} \\cos\\left(\\theta\\right) \\sin\\left(\\theta\\right)^{4} - 2 \\, {\\left(a^{4} - a^{2} m r + a^{2} r^{2}\\right)} \\cos\\left(\\theta\\right) \\sin\\left(\\theta\\right)^{2} + {\\left(a^{4} + 2 \\, a^{2} r^{2} + r^{4}\\right)} \\cos\\left(\\theta\\right)}{{\\left(a^{4} \\cos\\left(\\theta\\right)^{4} + 2 \\, a^{2} r^{2} \\cos\\left(\\theta\\right)^{2} + r^{4}\\right)} \\sin\\left(\\theta\\right)} \\end{array}</script></html>"
      ],
      "text/latex": [
       "$$\\newcommand{\\Bold}[1]{\\mathbf{#1}}\\begin{array}{lcl} \\Gamma_{ \\phantom{\\, t} \\, t \\, r }^{ \\, t \\phantom{\\, t} \\phantom{\\, r} } & = & -\\frac{a^{4} m - m r^{4} - {\\left(a^{4} m + a^{2} m r^{2}\\right)} \\sin\\left(\\theta\\right)^{2}}{a^{2} r^{4} - 2 \\, m r^{5} + r^{6} + {\\left(a^{6} - 2 \\, a^{4} m r + a^{4} r^{2}\\right)} \\cos\\left(\\theta\\right)^{4} + 2 \\, {\\left(a^{4} r^{2} - 2 \\, a^{2} m r^{3} + a^{2} r^{4}\\right)} \\cos\\left(\\theta\\right)^{2}} \\\\ \\Gamma_{ \\phantom{\\, t} \\, t \\, \\theta }^{ \\, t \\phantom{\\, t} \\phantom{\\, \\theta} } & = & -\\frac{2 \\, a^{2} m r \\cos\\left(\\theta\\right) \\sin\\left(\\theta\\right)}{a^{4} \\cos\\left(\\theta\\right)^{4} + 2 \\, a^{2} r^{2} \\cos\\left(\\theta\\right)^{2} + r^{4}} \\\\ \\Gamma_{ \\phantom{\\, t} \\, r \\, \\phi }^{ \\, t \\phantom{\\, r} \\phantom{\\, \\phi} } & = & -\\frac{{\\left(a^{3} m r^{2} + 3 \\, a m r^{4} - {\\left(a^{5} m - a^{3} m r^{2}\\right)} \\cos\\left(\\theta\\right)^{2}\\right)} \\sin\\left(\\theta\\right)^{2}}{a^{2} r^{4} - 2 \\, m r^{5} + r^{6} + {\\left(a^{6} - 2 \\, a^{4} m r + a^{4} r^{2}\\right)} \\cos\\left(\\theta\\right)^{4} + 2 \\, {\\left(a^{4} r^{2} - 2 \\, a^{2} m r^{3} + a^{2} r^{4}\\right)} \\cos\\left(\\theta\\right)^{2}} \\\\ \\Gamma_{ \\phantom{\\, t} \\, \\theta \\, \\phi }^{ \\, t \\phantom{\\, \\theta} \\phantom{\\, \\phi} } & = & -\\frac{2 \\, {\\left(a^{5} m r \\cos\\left(\\theta\\right) \\sin\\left(\\theta\\right)^{5} - {\\left(a^{5} m r + a^{3} m r^{3}\\right)} \\cos\\left(\\theta\\right) \\sin\\left(\\theta\\right)^{3}\\right)}}{a^{6} \\cos\\left(\\theta\\right)^{6} + 3 \\, a^{4} r^{2} \\cos\\left(\\theta\\right)^{4} + 3 \\, a^{2} r^{4} \\cos\\left(\\theta\\right)^{2} + r^{6}} \\\\ \\Gamma_{ \\phantom{\\, r} \\, t \\, t }^{ \\, r \\phantom{\\, t} \\phantom{\\, t} } & = & \\frac{a^{2} m r^{2} - 2 \\, m^{2} r^{3} + m r^{4} - {\\left(a^{4} m - 2 \\, a^{2} m^{2} r + a^{2} m r^{2}\\right)} \\cos\\left(\\theta\\right)^{2}}{a^{6} \\cos\\left(\\theta\\right)^{6} + 3 \\, a^{4} r^{2} \\cos\\left(\\theta\\right)^{4} + 3 \\, a^{2} r^{4} \\cos\\left(\\theta\\right)^{2} + r^{6}} \\\\ \\Gamma_{ \\phantom{\\, r} \\, t \\, \\phi }^{ \\, r \\phantom{\\, t} \\phantom{\\, \\phi} } & = & -\\frac{{\\left(a^{3} m r^{2} - 2 \\, a m^{2} r^{3} + a m r^{4} - {\\left(a^{5} m - 2 \\, a^{3} m^{2} r + a^{3} m r^{2}\\right)} \\cos\\left(\\theta\\right)^{2}\\right)} \\sin\\left(\\theta\\right)^{2}}{a^{6} \\cos\\left(\\theta\\right)^{6} + 3 \\, a^{4} r^{2} \\cos\\left(\\theta\\right)^{4} + 3 \\, a^{2} r^{4} \\cos\\left(\\theta\\right)^{2} + r^{6}} \\\\ \\Gamma_{ \\phantom{\\, r} \\, r \\, r }^{ \\, r \\phantom{\\, r} \\phantom{\\, r} } & = & \\frac{a^{2} r - m r^{2} + {\\left(a^{2} m - a^{2} r\\right)} \\cos\\left(\\theta\\right)^{2}}{a^{2} r^{2} - 2 \\, m r^{3} + r^{4} + {\\left(a^{4} - 2 \\, a^{2} m r + a^{2} r^{2}\\right)} \\cos\\left(\\theta\\right)^{2}} \\\\ \\Gamma_{ \\phantom{\\, r} \\, r \\, \\theta }^{ \\, r \\phantom{\\, r} \\phantom{\\, \\theta} } & = & -\\frac{a^{2} \\cos\\left(\\theta\\right) \\sin\\left(\\theta\\right)}{a^{2} \\cos\\left(\\theta\\right)^{2} + r^{2}} \\\\ \\Gamma_{ \\phantom{\\, r} \\, \\theta \\, \\theta }^{ \\, r \\phantom{\\, \\theta} \\phantom{\\, \\theta} } & = & -\\frac{a^{2} r - 2 \\, m r^{2} + r^{3}}{a^{2} \\cos\\left(\\theta\\right)^{2} + r^{2}} \\\\ \\Gamma_{ \\phantom{\\, r} \\, \\phi \\, \\phi }^{ \\, r \\phantom{\\, \\phi} \\phantom{\\, \\phi} } & = & \\frac{{\\left(a^{4} m r^{2} - 2 \\, a^{2} m^{2} r^{3} + a^{2} m r^{4} - {\\left(a^{6} m - 2 \\, a^{4} m^{2} r + a^{4} m r^{2}\\right)} \\cos\\left(\\theta\\right)^{2}\\right)} \\sin\\left(\\theta\\right)^{4} - {\\left(a^{2} r^{5} - 2 \\, m r^{6} + r^{7} + {\\left(a^{6} r - 2 \\, a^{4} m r^{2} + a^{4} r^{3}\\right)} \\cos\\left(\\theta\\right)^{4} + 2 \\, {\\left(a^{4} r^{3} - 2 \\, a^{2} m r^{4} + a^{2} r^{5}\\right)} \\cos\\left(\\theta\\right)^{2}\\right)} \\sin\\left(\\theta\\right)^{2}}{a^{6} \\cos\\left(\\theta\\right)^{6} + 3 \\, a^{4} r^{2} \\cos\\left(\\theta\\right)^{4} + 3 \\, a^{2} r^{4} \\cos\\left(\\theta\\right)^{2} + r^{6}} \\\\ \\Gamma_{ \\phantom{\\, \\theta} \\, t \\, t }^{ \\, \\theta \\phantom{\\, t} \\phantom{\\, t} } & = & -\\frac{2 \\, a^{2} m r \\cos\\left(\\theta\\right) \\sin\\left(\\theta\\right)}{a^{6} \\cos\\left(\\theta\\right)^{6} + 3 \\, a^{4} r^{2} \\cos\\left(\\theta\\right)^{4} + 3 \\, a^{2} r^{4} \\cos\\left(\\theta\\right)^{2} + r^{6}} \\\\ \\Gamma_{ \\phantom{\\, \\theta} \\, t \\, \\phi }^{ \\, \\theta \\phantom{\\, t} \\phantom{\\, \\phi} } & = & \\frac{2 \\, {\\left(a^{3} m r + a m r^{3}\\right)} \\cos\\left(\\theta\\right) \\sin\\left(\\theta\\right)}{a^{6} \\cos\\left(\\theta\\right)^{6} + 3 \\, a^{4} r^{2} \\cos\\left(\\theta\\right)^{4} + 3 \\, a^{2} r^{4} \\cos\\left(\\theta\\right)^{2} + r^{6}} \\\\ \\Gamma_{ \\phantom{\\, \\theta} \\, r \\, r }^{ \\, \\theta \\phantom{\\, r} \\phantom{\\, r} } & = & \\frac{a^{2} \\cos\\left(\\theta\\right) \\sin\\left(\\theta\\right)}{a^{2} r^{2} - 2 \\, m r^{3} + r^{4} + {\\left(a^{4} - 2 \\, a^{2} m r + a^{2} r^{2}\\right)} \\cos\\left(\\theta\\right)^{2}} \\\\ \\Gamma_{ \\phantom{\\, \\theta} \\, r \\, \\theta }^{ \\, \\theta \\phantom{\\, r} \\phantom{\\, \\theta} } & = & \\frac{r}{a^{2} \\cos\\left(\\theta\\right)^{2} + r^{2}} \\\\ \\Gamma_{ \\phantom{\\, \\theta} \\, \\theta \\, \\theta }^{ \\, \\theta \\phantom{\\, \\theta} \\phantom{\\, \\theta} } & = & -\\frac{a^{2} \\cos\\left(\\theta\\right) \\sin\\left(\\theta\\right)}{a^{2} \\cos\\left(\\theta\\right)^{2} + r^{2}} \\\\ \\Gamma_{ \\phantom{\\, \\theta} \\, \\phi \\, \\phi }^{ \\, \\theta \\phantom{\\, \\phi} \\phantom{\\, \\phi} } & = & -\\frac{{\\left({\\left(a^{6} - 2 \\, a^{4} m r + a^{4} r^{2}\\right)} \\cos\\left(\\theta\\right)^{5} + 2 \\, {\\left(a^{4} r^{2} - 2 \\, a^{2} m r^{3} + a^{2} r^{4}\\right)} \\cos\\left(\\theta\\right)^{3} + {\\left(2 \\, a^{4} m r + 4 \\, a^{2} m r^{3} + a^{2} r^{4} + r^{6}\\right)} \\cos\\left(\\theta\\right)\\right)} \\sin\\left(\\theta\\right)}{a^{6} \\cos\\left(\\theta\\right)^{6} + 3 \\, a^{4} r^{2} \\cos\\left(\\theta\\right)^{4} + 3 \\, a^{2} r^{4} \\cos\\left(\\theta\\right)^{2} + r^{6}} \\\\ \\Gamma_{ \\phantom{\\, \\phi} \\, t \\, r }^{ \\, \\phi \\phantom{\\, t} \\phantom{\\, r} } & = & -\\frac{a^{3} m \\cos\\left(\\theta\\right)^{2} - a m r^{2}}{a^{2} r^{4} - 2 \\, m r^{5} + r^{6} + {\\left(a^{6} - 2 \\, a^{4} m r + a^{4} r^{2}\\right)} \\cos\\left(\\theta\\right)^{4} + 2 \\, {\\left(a^{4} r^{2} - 2 \\, a^{2} m r^{3} + a^{2} r^{4}\\right)} \\cos\\left(\\theta\\right)^{2}} \\\\ \\Gamma_{ \\phantom{\\, \\phi} \\, t \\, \\theta }^{ \\, \\phi \\phantom{\\, t} \\phantom{\\, \\theta} } & = & -\\frac{2 \\, a m r \\cos\\left(\\theta\\right)}{{\\left(a^{4} \\cos\\left(\\theta\\right)^{4} + 2 \\, a^{2} r^{2} \\cos\\left(\\theta\\right)^{2} + r^{4}\\right)} \\sin\\left(\\theta\\right)} \\\\ \\Gamma_{ \\phantom{\\, \\phi} \\, r \\, \\phi }^{ \\, \\phi \\phantom{\\, r} \\phantom{\\, \\phi} } & = & -\\frac{a^{2} m r^{2} + 2 \\, m r^{4} - r^{5} + {\\left(a^{4} m - a^{4} r\\right)} \\cos\\left(\\theta\\right)^{4} - {\\left(a^{4} m - a^{2} m r^{2} + 2 \\, a^{2} r^{3}\\right)} \\cos\\left(\\theta\\right)^{2}}{a^{2} r^{4} - 2 \\, m r^{5} + r^{6} + {\\left(a^{6} - 2 \\, a^{4} m r + a^{4} r^{2}\\right)} \\cos\\left(\\theta\\right)^{4} + 2 \\, {\\left(a^{4} r^{2} - 2 \\, a^{2} m r^{3} + a^{2} r^{4}\\right)} \\cos\\left(\\theta\\right)^{2}} \\\\ \\Gamma_{ \\phantom{\\, \\phi} \\, \\theta \\, \\phi }^{ \\, \\phi \\phantom{\\, \\theta} \\phantom{\\, \\phi} } & = & \\frac{a^{4} \\cos\\left(\\theta\\right) \\sin\\left(\\theta\\right)^{4} - 2 \\, {\\left(a^{4} - a^{2} m r + a^{2} r^{2}\\right)} \\cos\\left(\\theta\\right) \\sin\\left(\\theta\\right)^{2} + {\\left(a^{4} + 2 \\, a^{2} r^{2} + r^{4}\\right)} \\cos\\left(\\theta\\right)}{{\\left(a^{4} \\cos\\left(\\theta\\right)^{4} + 2 \\, a^{2} r^{2} \\cos\\left(\\theta\\right)^{2} + r^{4}\\right)} \\sin\\left(\\theta\\right)} \\end{array}$$"
      ],
      "text/plain": [
       "\\begin{array}{lcl} \\Gamma_{ \\phantom{\\, t} \\, t \\, r }^{ \\, t \\phantom{\\, t} \\phantom{\\, r} } & = & -\\frac{a^{4} m - m r^{4} - {\\left(a^{4} m + a^{2} m r^{2}\\right)} \\sin\\left(\\theta\\right)^{2}}{a^{2} r^{4} - 2 \\, m r^{5} + r^{6} + {\\left(a^{6} - 2 \\, a^{4} m r + a^{4} r^{2}\\right)} \\cos\\left(\\theta\\right)^{4} + 2 \\, {\\left(a^{4} r^{2} - 2 \\, a^{2} m r^{3} + a^{2} r^{4}\\right)} \\cos\\left(\\theta\\right)^{2}} \\\\ \\Gamma_{ \\phantom{\\, t} \\, t \\, \\theta }^{ \\, t \\phantom{\\, t} \\phantom{\\, \\theta} } & = & -\\frac{2 \\, a^{2} m r \\cos\\left(\\theta\\right) \\sin\\left(\\theta\\right)}{a^{4} \\cos\\left(\\theta\\right)^{4} + 2 \\, a^{2} r^{2} \\cos\\left(\\theta\\right)^{2} + r^{4}} \\\\ \\Gamma_{ \\phantom{\\, t} \\, r \\, \\phi }^{ \\, t \\phantom{\\, r} \\phantom{\\, \\phi} } & = & -\\frac{{\\left(a^{3} m r^{2} + 3 \\, a m r^{4} - {\\left(a^{5} m - a^{3} m r^{2}\\right)} \\cos\\left(\\theta\\right)^{2}\\right)} \\sin\\left(\\theta\\right)^{2}}{a^{2} r^{4} - 2 \\, m r^{5} + r^{6} + {\\left(a^{6} - 2 \\, a^{4} m r + a^{4} r^{2}\\right)} \\cos\\left(\\theta\\right)^{4} + 2 \\, {\\left(a^{4} r^{2} - 2 \\, a^{2} m r^{3} + a^{2} r^{4}\\right)} \\cos\\left(\\theta\\right)^{2}} \\\\ \\Gamma_{ \\phantom{\\, t} \\, \\theta \\, \\phi }^{ \\, t \\phantom{\\, \\theta} \\phantom{\\, \\phi} } & = & -\\frac{2 \\, {\\left(a^{5} m r \\cos\\left(\\theta\\right) \\sin\\left(\\theta\\right)^{5} - {\\left(a^{5} m r + a^{3} m r^{3}\\right)} \\cos\\left(\\theta\\right) \\sin\\left(\\theta\\right)^{3}\\right)}}{a^{6} \\cos\\left(\\theta\\right)^{6} + 3 \\, a^{4} r^{2} \\cos\\left(\\theta\\right)^{4} + 3 \\, a^{2} r^{4} \\cos\\left(\\theta\\right)^{2} + r^{6}} \\\\ \\Gamma_{ \\phantom{\\, r} \\, t \\, t }^{ \\, r \\phantom{\\, t} \\phantom{\\, t} } & = & \\frac{a^{2} m r^{2} - 2 \\, m^{2} r^{3} + m r^{4} - {\\left(a^{4} m - 2 \\, a^{2} m^{2} r + a^{2} m r^{2}\\right)} \\cos\\left(\\theta\\right)^{2}}{a^{6} \\cos\\left(\\theta\\right)^{6} + 3 \\, a^{4} r^{2} \\cos\\left(\\theta\\right)^{4} + 3 \\, a^{2} r^{4} \\cos\\left(\\theta\\right)^{2} + r^{6}} \\\\ \\Gamma_{ \\phantom{\\, r} \\, t \\, \\phi }^{ \\, r \\phantom{\\, t} \\phantom{\\, \\phi} } & = & -\\frac{{\\left(a^{3} m r^{2} - 2 \\, a m^{2} r^{3} + a m r^{4} - {\\left(a^{5} m - 2 \\, a^{3} m^{2} r + a^{3} m r^{2}\\right)} \\cos\\left(\\theta\\right)^{2}\\right)} \\sin\\left(\\theta\\right)^{2}}{a^{6} \\cos\\left(\\theta\\right)^{6} + 3 \\, a^{4} r^{2} \\cos\\left(\\theta\\right)^{4} + 3 \\, a^{2} r^{4} \\cos\\left(\\theta\\right)^{2} + r^{6}} \\\\ \\Gamma_{ \\phantom{\\, r} \\, r \\, r }^{ \\, r \\phantom{\\, r} \\phantom{\\, r} } & = & \\frac{a^{2} r - m r^{2} + {\\left(a^{2} m - a^{2} r\\right)} \\cos\\left(\\theta\\right)^{2}}{a^{2} r^{2} - 2 \\, m r^{3} + r^{4} + {\\left(a^{4} - 2 \\, a^{2} m r + a^{2} r^{2}\\right)} \\cos\\left(\\theta\\right)^{2}} \\\\ \\Gamma_{ \\phantom{\\, r} \\, r \\, \\theta }^{ \\, r \\phantom{\\, r} \\phantom{\\, \\theta} } & = & -\\frac{a^{2} \\cos\\left(\\theta\\right) \\sin\\left(\\theta\\right)}{a^{2} \\cos\\left(\\theta\\right)^{2} + r^{2}} \\\\ \\Gamma_{ \\phantom{\\, r} \\, \\theta \\, \\theta }^{ \\, r \\phantom{\\, \\theta} \\phantom{\\, \\theta} } & = & -\\frac{a^{2} r - 2 \\, m r^{2} + r^{3}}{a^{2} \\cos\\left(\\theta\\right)^{2} + r^{2}} \\\\ \\Gamma_{ \\phantom{\\, r} \\, \\phi \\, \\phi }^{ \\, r \\phantom{\\, \\phi} \\phantom{\\, \\phi} } & = & \\frac{{\\left(a^{4} m r^{2} - 2 \\, a^{2} m^{2} r^{3} + a^{2} m r^{4} - {\\left(a^{6} m - 2 \\, a^{4} m^{2} r + a^{4} m r^{2}\\right)} \\cos\\left(\\theta\\right)^{2}\\right)} \\sin\\left(\\theta\\right)^{4} - {\\left(a^{2} r^{5} - 2 \\, m r^{6} + r^{7} + {\\left(a^{6} r - 2 \\, a^{4} m r^{2} + a^{4} r^{3}\\right)} \\cos\\left(\\theta\\right)^{4} + 2 \\, {\\left(a^{4} r^{3} - 2 \\, a^{2} m r^{4} + a^{2} r^{5}\\right)} \\cos\\left(\\theta\\right)^{2}\\right)} \\sin\\left(\\theta\\right)^{2}}{a^{6} \\cos\\left(\\theta\\right)^{6} + 3 \\, a^{4} r^{2} \\cos\\left(\\theta\\right)^{4} + 3 \\, a^{2} r^{4} \\cos\\left(\\theta\\right)^{2} + r^{6}} \\\\ \\Gamma_{ \\phantom{\\, \\theta} \\, t \\, t }^{ \\, \\theta \\phantom{\\, t} \\phantom{\\, t} } & = & -\\frac{2 \\, a^{2} m r \\cos\\left(\\theta\\right) \\sin\\left(\\theta\\right)}{a^{6} \\cos\\left(\\theta\\right)^{6} + 3 \\, a^{4} r^{2} \\cos\\left(\\theta\\right)^{4} + 3 \\, a^{2} r^{4} \\cos\\left(\\theta\\right)^{2} + r^{6}} \\\\ \\Gamma_{ \\phantom{\\, \\theta} \\, t \\, \\phi }^{ \\, \\theta \\phantom{\\, t} \\phantom{\\, \\phi} } & = & \\frac{2 \\, {\\left(a^{3} m r + a m r^{3}\\right)} \\cos\\left(\\theta\\right) \\sin\\left(\\theta\\right)}{a^{6} \\cos\\left(\\theta\\right)^{6} + 3 \\, a^{4} r^{2} \\cos\\left(\\theta\\right)^{4} + 3 \\, a^{2} r^{4} \\cos\\left(\\theta\\right)^{2} + r^{6}} \\\\ \\Gamma_{ \\phantom{\\, \\theta} \\, r \\, r }^{ \\, \\theta \\phantom{\\, r} \\phantom{\\, r} } & = & \\frac{a^{2} \\cos\\left(\\theta\\right) \\sin\\left(\\theta\\right)}{a^{2} r^{2} - 2 \\, m r^{3} + r^{4} + {\\left(a^{4} - 2 \\, a^{2} m r + a^{2} r^{2}\\right)} \\cos\\left(\\theta\\right)^{2}} \\\\ \\Gamma_{ \\phantom{\\, \\theta} \\, r \\, \\theta }^{ \\, \\theta \\phantom{\\, r} \\phantom{\\, \\theta} } & = & \\frac{r}{a^{2} \\cos\\left(\\theta\\right)^{2} + r^{2}} \\\\ \\Gamma_{ \\phantom{\\, \\theta} \\, \\theta \\, \\theta }^{ \\, \\theta \\phantom{\\, \\theta} \\phantom{\\, \\theta} } & = & -\\frac{a^{2} \\cos\\left(\\theta\\right) \\sin\\left(\\theta\\right)}{a^{2} \\cos\\left(\\theta\\right)^{2} + r^{2}} \\\\ \\Gamma_{ \\phantom{\\, \\theta} \\, \\phi \\, \\phi }^{ \\, \\theta \\phantom{\\, \\phi} \\phantom{\\, \\phi} } & = & -\\frac{{\\left({\\left(a^{6} - 2 \\, a^{4} m r + a^{4} r^{2}\\right)} \\cos\\left(\\theta\\right)^{5} + 2 \\, {\\left(a^{4} r^{2} - 2 \\, a^{2} m r^{3} + a^{2} r^{4}\\right)} \\cos\\left(\\theta\\right)^{3} + {\\left(2 \\, a^{4} m r + 4 \\, a^{2} m r^{3} + a^{2} r^{4} + r^{6}\\right)} \\cos\\left(\\theta\\right)\\right)} \\sin\\left(\\theta\\right)}{a^{6} \\cos\\left(\\theta\\right)^{6} + 3 \\, a^{4} r^{2} \\cos\\left(\\theta\\right)^{4} + 3 \\, a^{2} r^{4} \\cos\\left(\\theta\\right)^{2} + r^{6}} \\\\ \\Gamma_{ \\phantom{\\, \\phi} \\, t \\, r }^{ \\, \\phi \\phantom{\\, t} \\phantom{\\, r} } & = & -\\frac{a^{3} m \\cos\\left(\\theta\\right)^{2} - a m r^{2}}{a^{2} r^{4} - 2 \\, m r^{5} + r^{6} + {\\left(a^{6} - 2 \\, a^{4} m r + a^{4} r^{2}\\right)} \\cos\\left(\\theta\\right)^{4} + 2 \\, {\\left(a^{4} r^{2} - 2 \\, a^{2} m r^{3} + a^{2} r^{4}\\right)} \\cos\\left(\\theta\\right)^{2}} \\\\ \\Gamma_{ \\phantom{\\, \\phi} \\, t \\, \\theta }^{ \\, \\phi \\phantom{\\, t} \\phantom{\\, \\theta} } & = & -\\frac{2 \\, a m r \\cos\\left(\\theta\\right)}{{\\left(a^{4} \\cos\\left(\\theta\\right)^{4} + 2 \\, a^{2} r^{2} \\cos\\left(\\theta\\right)^{2} + r^{4}\\right)} \\sin\\left(\\theta\\right)} \\\\ \\Gamma_{ \\phantom{\\, \\phi} \\, r \\, \\phi }^{ \\, \\phi \\phantom{\\, r} \\phantom{\\, \\phi} } & = & -\\frac{a^{2} m r^{2} + 2 \\, m r^{4} - r^{5} + {\\left(a^{4} m - a^{4} r\\right)} \\cos\\left(\\theta\\right)^{4} - {\\left(a^{4} m - a^{2} m r^{2} + 2 \\, a^{2} r^{3}\\right)} \\cos\\left(\\theta\\right)^{2}}{a^{2} r^{4} - 2 \\, m r^{5} + r^{6} + {\\left(a^{6} - 2 \\, a^{4} m r + a^{4} r^{2}\\right)} \\cos\\left(\\theta\\right)^{4} + 2 \\, {\\left(a^{4} r^{2} - 2 \\, a^{2} m r^{3} + a^{2} r^{4}\\right)} \\cos\\left(\\theta\\right)^{2}} \\\\ \\Gamma_{ \\phantom{\\, \\phi} \\, \\theta \\, \\phi }^{ \\, \\phi \\phantom{\\, \\theta} \\phantom{\\, \\phi} } & = & \\frac{a^{4} \\cos\\left(\\theta\\right) \\sin\\left(\\theta\\right)^{4} - 2 \\, {\\left(a^{4} - a^{2} m r + a^{2} r^{2}\\right)} \\cos\\left(\\theta\\right) \\sin\\left(\\theta\\right)^{2} + {\\left(a^{4} + 2 \\, a^{2} r^{2} + r^{4}\\right)} \\cos\\left(\\theta\\right)}{{\\left(a^{4} \\cos\\left(\\theta\\right)^{4} + 2 \\, a^{2} r^{2} \\cos\\left(\\theta\\right)^{2} + r^{4}\\right)} \\sin\\left(\\theta\\right)} \\end{array}"
      ]
     },
     "metadata": {},
     "output_type": "display_data"
    }
   ],
   "source": [
    "#calculating cristoffel symbols\n",
    "show(latex(g_kerr.christoffel_symbols_display()))"
   ]
  },
  {
   "cell_type": "code",
   "execution_count": 27,
   "id": "a0734c7a",
   "metadata": {},
   "outputs": [
    {
     "data": {
      "text/html": [
       "<html><script type=\"math/tex; mode=display\">\\newcommand{\\Bold}[1]{\\mathbf{#1}}\\begin{array}{lcl} X_{ \\, t \\, r \\, t \\, r }^{ \\phantom{\\, t}\\phantom{\\, r}\\phantom{\\, t}\\phantom{\\, r} } & = & -\\frac{3 \\, a^{4} m r \\sin\\left(\\theta\\right)^{4} - 6 \\, a^{4} m r + 12 \\, a^{2} m^{2} r^{2} - 4 \\, a^{2} m r^{3} - 4 \\, m^{2} r^{4} + 2 \\, m r^{5} + {\\left(3 \\, a^{4} m r - 12 \\, a^{2} m^{2} r^{2} + 7 \\, a^{2} m r^{3}\\right)} \\sin\\left(\\theta\\right)^{2}}{a^{2} r^{6} - 2 \\, m r^{7} + r^{8} + {\\left(a^{8} - 2 \\, a^{6} m r + a^{6} r^{2}\\right)} \\cos\\left(\\theta\\right)^{6} + 3 \\, {\\left(a^{6} r^{2} - 2 \\, a^{4} m r^{3} + a^{4} r^{4}\\right)} \\cos\\left(\\theta\\right)^{4} + 3 \\, {\\left(a^{4} r^{4} - 2 \\, a^{2} m r^{5} + a^{2} r^{6}\\right)} \\cos\\left(\\theta\\right)^{2}} \\\\ X_{ \\, t \\, r \\, t \\, \\theta }^{ \\phantom{\\, t}\\phantom{\\, r}\\phantom{\\, t}\\phantom{\\, \\theta} } & = & -\\frac{3 \\, {\\left(a^{4} m \\cos\\left(\\theta\\right)^{3} - 3 \\, a^{2} m r^{2} \\cos\\left(\\theta\\right)\\right)} \\sin\\left(\\theta\\right)}{a^{6} \\cos\\left(\\theta\\right)^{6} + 3 \\, a^{4} r^{2} \\cos\\left(\\theta\\right)^{4} + 3 \\, a^{2} r^{4} \\cos\\left(\\theta\\right)^{2} + r^{6}} \\\\ X_{ \\, t \\, r \\, r \\, t }^{ \\phantom{\\, t}\\phantom{\\, r}\\phantom{\\, r}\\phantom{\\, t} } & = & \\frac{3 \\, a^{4} m r \\cos\\left(\\theta\\right)^{4} + 3 \\, a^{2} m r^{3} - 4 \\, m^{2} r^{4} + 2 \\, m r^{5} - {\\left(9 \\, a^{4} m r - 12 \\, a^{2} m^{2} r^{2} + 7 \\, a^{2} m r^{3}\\right)} \\cos\\left(\\theta\\right)^{2}}{a^{2} r^{6} - 2 \\, m r^{7} + r^{8} + {\\left(a^{8} - 2 \\, a^{6} m r + a^{6} r^{2}\\right)} \\cos\\left(\\theta\\right)^{6} + 3 \\, {\\left(a^{6} r^{2} - 2 \\, a^{4} m r^{3} + a^{4} r^{4}\\right)} \\cos\\left(\\theta\\right)^{4} + 3 \\, {\\left(a^{4} r^{4} - 2 \\, a^{2} m r^{5} + a^{2} r^{6}\\right)} \\cos\\left(\\theta\\right)^{2}} \\\\ X_{ \\, t \\, r \\, r \\, \\phi }^{ \\phantom{\\, t}\\phantom{\\, r}\\phantom{\\, r}\\phantom{\\, \\phi} } & = & -\\frac{3 \\, a^{3} m r^{3} - 4 \\, a m^{2} r^{4} + 3 \\, a m r^{5} + 3 \\, {\\left(3 \\, a^{5} m r - 4 \\, a^{3} m^{2} r^{2} + 3 \\, a^{3} m r^{3}\\right)} \\cos\\left(\\theta\\right)^{4} - {\\left(9 \\, a^{5} m r - 12 \\, a^{3} m^{2} r^{2} + 12 \\, a^{3} m r^{3} - 4 \\, a m^{2} r^{4} + 3 \\, a m r^{5}\\right)} \\cos\\left(\\theta\\right)^{2}}{a^{2} r^{6} - 2 \\, m r^{7} + r^{8} + {\\left(a^{8} - 2 \\, a^{6} m r + a^{6} r^{2}\\right)} \\cos\\left(\\theta\\right)^{6} + 3 \\, {\\left(a^{6} r^{2} - 2 \\, a^{4} m r^{3} + a^{4} r^{4}\\right)} \\cos\\left(\\theta\\right)^{4} + 3 \\, {\\left(a^{4} r^{4} - 2 \\, a^{2} m r^{5} + a^{2} r^{6}\\right)} \\cos\\left(\\theta\\right)^{2}} \\\\ X_{ \\, t \\, r \\, \\theta \\, t }^{ \\phantom{\\, t}\\phantom{\\, r}\\phantom{\\, \\theta}\\phantom{\\, t} } & = & \\frac{3 \\, {\\left(a^{4} m \\cos\\left(\\theta\\right)^{3} - 3 \\, a^{2} m r^{2} \\cos\\left(\\theta\\right)\\right)} \\sin\\left(\\theta\\right)}{a^{6} \\cos\\left(\\theta\\right)^{6} + 3 \\, a^{4} r^{2} \\cos\\left(\\theta\\right)^{4} + 3 \\, a^{2} r^{4} \\cos\\left(\\theta\\right)^{2} + r^{6}} \\\\ X_{ \\, t \\, r \\, \\theta \\, \\phi }^{ \\phantom{\\, t}\\phantom{\\, r}\\phantom{\\, \\theta}\\phantom{\\, \\phi} } & = & \\frac{{\\left(a^{5} m \\cos\\left(\\theta\\right)^{5} - {\\left(3 \\, a^{5} m + 5 \\, a^{3} m r^{2}\\right)} \\cos\\left(\\theta\\right)^{3} + 3 \\, {\\left(3 \\, a^{3} m r^{2} + 2 \\, a m r^{4}\\right)} \\cos\\left(\\theta\\right)\\right)} \\sin\\left(\\theta\\right)}{a^{6} \\cos\\left(\\theta\\right)^{6} + 3 \\, a^{4} r^{2} \\cos\\left(\\theta\\right)^{4} + 3 \\, a^{2} r^{4} \\cos\\left(\\theta\\right)^{2} + r^{6}} \\\\ X_{ \\, t \\, r \\, \\phi \\, r }^{ \\phantom{\\, t}\\phantom{\\, r}\\phantom{\\, \\phi}\\phantom{\\, r} } & = & \\frac{3 \\, {\\left(3 \\, a^{5} m r - 4 \\, a^{3} m^{2} r^{2} + 3 \\, a^{3} m r^{3}\\right)} \\sin\\left(\\theta\\right)^{4} - {\\left(9 \\, a^{5} m r - 12 \\, a^{3} m^{2} r^{2} + 6 \\, a^{3} m r^{3} + 4 \\, a m^{2} r^{4} - 3 \\, a m r^{5}\\right)} \\sin\\left(\\theta\\right)^{2}}{a^{2} r^{6} - 2 \\, m r^{7} + r^{8} + {\\left(a^{8} - 2 \\, a^{6} m r + a^{6} r^{2}\\right)} \\cos\\left(\\theta\\right)^{6} + 3 \\, {\\left(a^{6} r^{2} - 2 \\, a^{4} m r^{3} + a^{4} r^{4}\\right)} \\cos\\left(\\theta\\right)^{4} + 3 \\, {\\left(a^{4} r^{4} - 2 \\, a^{2} m r^{5} + a^{2} r^{6}\\right)} \\cos\\left(\\theta\\right)^{2}} \\\\ X_{ \\, t \\, r \\, \\phi \\, \\theta }^{ \\phantom{\\, t}\\phantom{\\, r}\\phantom{\\, \\phi}\\phantom{\\, \\theta} } & = & -\\frac{{\\left(a^{5} m \\cos\\left(\\theta\\right)^{5} - {\\left(3 \\, a^{5} m + 5 \\, a^{3} m r^{2}\\right)} \\cos\\left(\\theta\\right)^{3} + 3 \\, {\\left(3 \\, a^{3} m r^{2} + 2 \\, a m r^{4}\\right)} \\cos\\left(\\theta\\right)\\right)} \\sin\\left(\\theta\\right)}{a^{6} \\cos\\left(\\theta\\right)^{6} + 3 \\, a^{4} r^{2} \\cos\\left(\\theta\\right)^{4} + 3 \\, a^{2} r^{4} \\cos\\left(\\theta\\right)^{2} + r^{6}} \\\\ X_{ \\, t \\, \\theta \\, t \\, r }^{ \\phantom{\\, t}\\phantom{\\, \\theta}\\phantom{\\, t}\\phantom{\\, r} } & = & -\\frac{3 \\, {\\left(a^{4} m \\cos\\left(\\theta\\right)^{3} - 3 \\, a^{2} m r^{2} \\cos\\left(\\theta\\right)\\right)} \\sin\\left(\\theta\\right)}{a^{6} \\cos\\left(\\theta\\right)^{6} + 3 \\, a^{4} r^{2} \\cos\\left(\\theta\\right)^{4} + 3 \\, a^{2} r^{4} \\cos\\left(\\theta\\right)^{2} + r^{6}} \\\\ X_{ \\, t \\, \\theta \\, t \\, \\theta }^{ \\phantom{\\, t}\\phantom{\\, \\theta}\\phantom{\\, t}\\phantom{\\, \\theta} } & = & \\frac{6 \\, a^{4} m r \\cos\\left(\\theta\\right)^{4} + 3 \\, a^{2} m r^{3} - 2 \\, m^{2} r^{4} + m r^{5} - {\\left(9 \\, a^{4} m r - 6 \\, a^{2} m^{2} r^{2} + 5 \\, a^{2} m r^{3}\\right)} \\cos\\left(\\theta\\right)^{2}}{a^{6} \\cos\\left(\\theta\\right)^{6} + 3 \\, a^{4} r^{2} \\cos\\left(\\theta\\right)^{4} + 3 \\, a^{2} r^{4} \\cos\\left(\\theta\\right)^{2} + r^{6}} \\\\ X_{ \\, t \\, \\theta \\, r \\, t }^{ \\phantom{\\, t}\\phantom{\\, \\theta}\\phantom{\\, r}\\phantom{\\, t} } & = & \\frac{3 \\, {\\left(a^{4} m \\cos\\left(\\theta\\right)^{3} - 3 \\, a^{2} m r^{2} \\cos\\left(\\theta\\right)\\right)} \\sin\\left(\\theta\\right)}{a^{6} \\cos\\left(\\theta\\right)^{6} + 3 \\, a^{4} r^{2} \\cos\\left(\\theta\\right)^{4} + 3 \\, a^{2} r^{4} \\cos\\left(\\theta\\right)^{2} + r^{6}} \\\\ X_{ \\, t \\, \\theta \\, r \\, \\phi }^{ \\phantom{\\, t}\\phantom{\\, \\theta}\\phantom{\\, r}\\phantom{\\, \\phi} } & = & \\frac{{\\left(2 \\, a^{5} m \\cos\\left(\\theta\\right)^{5} - {\\left(3 \\, a^{5} m + 7 \\, a^{3} m r^{2}\\right)} \\cos\\left(\\theta\\right)^{3} + 3 \\, {\\left(3 \\, a^{3} m r^{2} + a m r^{4}\\right)} \\cos\\left(\\theta\\right)\\right)} \\sin\\left(\\theta\\right)}{a^{6} \\cos\\left(\\theta\\right)^{6} + 3 \\, a^{4} r^{2} \\cos\\left(\\theta\\right)^{4} + 3 \\, a^{2} r^{4} \\cos\\left(\\theta\\right)^{2} + r^{6}} \\\\ X_{ \\, t \\, \\theta \\, \\theta \\, t }^{ \\phantom{\\, t}\\phantom{\\, \\theta}\\phantom{\\, \\theta}\\phantom{\\, t} } & = & -\\frac{6 \\, a^{4} m r \\cos\\left(\\theta\\right)^{4} + 3 \\, a^{2} m r^{3} - 2 \\, m^{2} r^{4} + m r^{5} - {\\left(9 \\, a^{4} m r - 6 \\, a^{2} m^{2} r^{2} + 5 \\, a^{2} m r^{3}\\right)} \\cos\\left(\\theta\\right)^{2}}{a^{6} \\cos\\left(\\theta\\right)^{6} + 3 \\, a^{4} r^{2} \\cos\\left(\\theta\\right)^{4} + 3 \\, a^{2} r^{4} \\cos\\left(\\theta\\right)^{2} + r^{6}} \\\\ X_{ \\, t \\, \\theta \\, \\theta \\, \\phi }^{ \\phantom{\\, t}\\phantom{\\, \\theta}\\phantom{\\, \\theta}\\phantom{\\, \\phi} } & = & \\frac{3 \\, a^{3} m r^{3} - 2 \\, a m^{2} r^{4} + 3 \\, a m r^{5} + 3 \\, {\\left(3 \\, a^{5} m r - 2 \\, a^{3} m^{2} r^{2} + 3 \\, a^{3} m r^{3}\\right)} \\cos\\left(\\theta\\right)^{4} - {\\left(9 \\, a^{5} m r - 6 \\, a^{3} m^{2} r^{2} + 12 \\, a^{3} m r^{3} - 2 \\, a m^{2} r^{4} + 3 \\, a m r^{5}\\right)} \\cos\\left(\\theta\\right)^{2}}{a^{6} \\cos\\left(\\theta\\right)^{6} + 3 \\, a^{4} r^{2} \\cos\\left(\\theta\\right)^{4} + 3 \\, a^{2} r^{4} \\cos\\left(\\theta\\right)^{2} + r^{6}} \\\\ X_{ \\, t \\, \\theta \\, \\phi \\, r }^{ \\phantom{\\, t}\\phantom{\\, \\theta}\\phantom{\\, \\phi}\\phantom{\\, r} } & = & -\\frac{{\\left(2 \\, a^{5} m \\cos\\left(\\theta\\right)^{5} - {\\left(3 \\, a^{5} m + 7 \\, a^{3} m r^{2}\\right)} \\cos\\left(\\theta\\right)^{3} + 3 \\, {\\left(3 \\, a^{3} m r^{2} + a m r^{4}\\right)} \\cos\\left(\\theta\\right)\\right)} \\sin\\left(\\theta\\right)}{a^{6} \\cos\\left(\\theta\\right)^{6} + 3 \\, a^{4} r^{2} \\cos\\left(\\theta\\right)^{4} + 3 \\, a^{2} r^{4} \\cos\\left(\\theta\\right)^{2} + r^{6}} \\\\ X_{ \\, t \\, \\theta \\, \\phi \\, \\theta }^{ \\phantom{\\, t}\\phantom{\\, \\theta}\\phantom{\\, \\phi}\\phantom{\\, \\theta} } & = & -\\frac{3 \\, {\\left(3 \\, a^{5} m r - 2 \\, a^{3} m^{2} r^{2} + 3 \\, a^{3} m r^{3}\\right)} \\sin\\left(\\theta\\right)^{4} - {\\left(9 \\, a^{5} m r - 6 \\, a^{3} m^{2} r^{2} + 6 \\, a^{3} m r^{3} + 2 \\, a m^{2} r^{4} - 3 \\, a m r^{5}\\right)} \\sin\\left(\\theta\\right)^{2}}{a^{6} \\cos\\left(\\theta\\right)^{6} + 3 \\, a^{4} r^{2} \\cos\\left(\\theta\\right)^{4} + 3 \\, a^{2} r^{4} \\cos\\left(\\theta\\right)^{2} + r^{6}} \\\\ X_{ \\, t \\, \\phi \\, t \\, \\phi }^{ \\phantom{\\, t}\\phantom{\\, \\phi}\\phantom{\\, t}\\phantom{\\, \\phi} } & = & \\frac{3 \\, {\\left(a^{4} m r - 2 \\, a^{2} m^{2} r^{2} + a^{2} m r^{3}\\right)} \\sin\\left(\\theta\\right)^{4} - {\\left(3 \\, a^{4} m r - 6 \\, a^{2} m^{2} r^{2} + 2 \\, a^{2} m r^{3} + 2 \\, m^{2} r^{4} - m r^{5}\\right)} \\sin\\left(\\theta\\right)^{2}}{a^{6} \\cos\\left(\\theta\\right)^{6} + 3 \\, a^{4} r^{2} \\cos\\left(\\theta\\right)^{4} + 3 \\, a^{2} r^{4} \\cos\\left(\\theta\\right)^{2} + r^{6}} \\\\ X_{ \\, t \\, \\phi \\, r \\, \\theta }^{ \\phantom{\\, t}\\phantom{\\, \\phi}\\phantom{\\, r}\\phantom{\\, \\theta} } & = & \\frac{{\\left(a^{3} m \\cos\\left(\\theta\\right)^{3} - 3 \\, a m r^{2} \\cos\\left(\\theta\\right)\\right)} \\sin\\left(\\theta\\right)}{a^{4} \\cos\\left(\\theta\\right)^{4} + 2 \\, a^{2} r^{2} \\cos\\left(\\theta\\right)^{2} + r^{4}} \\\\ X_{ \\, t \\, \\phi \\, \\theta \\, r }^{ \\phantom{\\, t}\\phantom{\\, \\phi}\\phantom{\\, \\theta}\\phantom{\\, r} } & = & -\\frac{{\\left(a^{3} m \\cos\\left(\\theta\\right)^{3} - 3 \\, a m r^{2} \\cos\\left(\\theta\\right)\\right)} \\sin\\left(\\theta\\right)}{a^{4} \\cos\\left(\\theta\\right)^{4} + 2 \\, a^{2} r^{2} \\cos\\left(\\theta\\right)^{2} + r^{4}} \\\\ X_{ \\, t \\, \\phi \\, \\phi \\, t }^{ \\phantom{\\, t}\\phantom{\\, \\phi}\\phantom{\\, \\phi}\\phantom{\\, t} } & = & -\\frac{3 \\, {\\left(a^{4} m r - 2 \\, a^{2} m^{2} r^{2} + a^{2} m r^{3}\\right)} \\sin\\left(\\theta\\right)^{4} - {\\left(3 \\, a^{4} m r - 6 \\, a^{2} m^{2} r^{2} + 2 \\, a^{2} m r^{3} + 2 \\, m^{2} r^{4} - m r^{5}\\right)} \\sin\\left(\\theta\\right)^{2}}{a^{6} \\cos\\left(\\theta\\right)^{6} + 3 \\, a^{4} r^{2} \\cos\\left(\\theta\\right)^{4} + 3 \\, a^{2} r^{4} \\cos\\left(\\theta\\right)^{2} + r^{6}} \\\\ X_{ \\, r \\, t \\, t \\, r }^{ \\phantom{\\, r}\\phantom{\\, t}\\phantom{\\, t}\\phantom{\\, r} } & = & \\frac{3 \\, a^{4} m r \\cos\\left(\\theta\\right)^{4} + 3 \\, a^{2} m r^{3} - 4 \\, m^{2} r^{4} + 2 \\, m r^{5} - {\\left(9 \\, a^{4} m r - 12 \\, a^{2} m^{2} r^{2} + 7 \\, a^{2} m r^{3}\\right)} \\cos\\left(\\theta\\right)^{2}}{a^{2} r^{6} - 2 \\, m r^{7} + r^{8} + {\\left(a^{8} - 2 \\, a^{6} m r + a^{6} r^{2}\\right)} \\cos\\left(\\theta\\right)^{6} + 3 \\, {\\left(a^{6} r^{2} - 2 \\, a^{4} m r^{3} + a^{4} r^{4}\\right)} \\cos\\left(\\theta\\right)^{4} + 3 \\, {\\left(a^{4} r^{4} - 2 \\, a^{2} m r^{5} + a^{2} r^{6}\\right)} \\cos\\left(\\theta\\right)^{2}} \\\\ X_{ \\, r \\, t \\, t \\, \\theta }^{ \\phantom{\\, r}\\phantom{\\, t}\\phantom{\\, t}\\phantom{\\, \\theta} } & = & \\frac{3 \\, {\\left(a^{4} m \\cos\\left(\\theta\\right)^{3} - 3 \\, a^{2} m r^{2} \\cos\\left(\\theta\\right)\\right)} \\sin\\left(\\theta\\right)}{a^{6} \\cos\\left(\\theta\\right)^{6} + 3 \\, a^{4} r^{2} \\cos\\left(\\theta\\right)^{4} + 3 \\, a^{2} r^{4} \\cos\\left(\\theta\\right)^{2} + r^{6}} \\\\ X_{ \\, r \\, t \\, r \\, t }^{ \\phantom{\\, r}\\phantom{\\, t}\\phantom{\\, r}\\phantom{\\, t} } & = & -\\frac{3 \\, a^{4} m r \\cos\\left(\\theta\\right)^{4} + 3 \\, a^{2} m r^{3} - 4 \\, m^{2} r^{4} + 2 \\, m r^{5} - {\\left(9 \\, a^{4} m r - 12 \\, a^{2} m^{2} r^{2} + 7 \\, a^{2} m r^{3}\\right)} \\cos\\left(\\theta\\right)^{2}}{a^{2} r^{6} - 2 \\, m r^{7} + r^{8} + {\\left(a^{8} - 2 \\, a^{6} m r + a^{6} r^{2}\\right)} \\cos\\left(\\theta\\right)^{6} + 3 \\, {\\left(a^{6} r^{2} - 2 \\, a^{4} m r^{3} + a^{4} r^{4}\\right)} \\cos\\left(\\theta\\right)^{4} + 3 \\, {\\left(a^{4} r^{4} - 2 \\, a^{2} m r^{5} + a^{2} r^{6}\\right)} \\cos\\left(\\theta\\right)^{2}} \\\\ X_{ \\, r \\, t \\, r \\, \\phi }^{ \\phantom{\\, r}\\phantom{\\, t}\\phantom{\\, r}\\phantom{\\, \\phi} } & = & \\frac{3 \\, {\\left(3 \\, a^{5} m r - 4 \\, a^{3} m^{2} r^{2} + 3 \\, a^{3} m r^{3}\\right)} \\sin\\left(\\theta\\right)^{4} - {\\left(9 \\, a^{5} m r - 12 \\, a^{3} m^{2} r^{2} + 6 \\, a^{3} m r^{3} + 4 \\, a m^{2} r^{4} - 3 \\, a m r^{5}\\right)} \\sin\\left(\\theta\\right)^{2}}{a^{2} r^{6} - 2 \\, m r^{7} + r^{8} + {\\left(a^{8} - 2 \\, a^{6} m r + a^{6} r^{2}\\right)} \\cos\\left(\\theta\\right)^{6} + 3 \\, {\\left(a^{6} r^{2} - 2 \\, a^{4} m r^{3} + a^{4} r^{4}\\right)} \\cos\\left(\\theta\\right)^{4} + 3 \\, {\\left(a^{4} r^{4} - 2 \\, a^{2} m r^{5} + a^{2} r^{6}\\right)} \\cos\\left(\\theta\\right)^{2}} \\\\ X_{ \\, r \\, t \\, \\theta \\, t }^{ \\phantom{\\, r}\\phantom{\\, t}\\phantom{\\, \\theta}\\phantom{\\, t} } & = & -\\frac{3 \\, {\\left(a^{4} m \\cos\\left(\\theta\\right)^{3} - 3 \\, a^{2} m r^{2} \\cos\\left(\\theta\\right)\\right)} \\sin\\left(\\theta\\right)}{a^{6} \\cos\\left(\\theta\\right)^{6} + 3 \\, a^{4} r^{2} \\cos\\left(\\theta\\right)^{4} + 3 \\, a^{2} r^{4} \\cos\\left(\\theta\\right)^{2} + r^{6}} \\\\ X_{ \\, r \\, t \\, \\theta \\, \\phi }^{ \\phantom{\\, r}\\phantom{\\, t}\\phantom{\\, \\theta}\\phantom{\\, \\phi} } & = & -\\frac{{\\left(a^{5} m \\cos\\left(\\theta\\right)^{5} - {\\left(3 \\, a^{5} m + 5 \\, a^{3} m r^{2}\\right)} \\cos\\left(\\theta\\right)^{3} + 3 \\, {\\left(3 \\, a^{3} m r^{2} + 2 \\, a m r^{4}\\right)} \\cos\\left(\\theta\\right)\\right)} \\sin\\left(\\theta\\right)}{a^{6} \\cos\\left(\\theta\\right)^{6} + 3 \\, a^{4} r^{2} \\cos\\left(\\theta\\right)^{4} + 3 \\, a^{2} r^{4} \\cos\\left(\\theta\\right)^{2} + r^{6}} \\\\ X_{ \\, r \\, t \\, \\phi \\, r }^{ \\phantom{\\, r}\\phantom{\\, t}\\phantom{\\, \\phi}\\phantom{\\, r} } & = & -\\frac{3 \\, {\\left(3 \\, a^{5} m r - 4 \\, a^{3} m^{2} r^{2} + 3 \\, a^{3} m r^{3}\\right)} \\sin\\left(\\theta\\right)^{4} - {\\left(9 \\, a^{5} m r - 12 \\, a^{3} m^{2} r^{2} + 6 \\, a^{3} m r^{3} + 4 \\, a m^{2} r^{4} - 3 \\, a m r^{5}\\right)} \\sin\\left(\\theta\\right)^{2}}{a^{2} r^{6} - 2 \\, m r^{7} + r^{8} + {\\left(a^{8} - 2 \\, a^{6} m r + a^{6} r^{2}\\right)} \\cos\\left(\\theta\\right)^{6} + 3 \\, {\\left(a^{6} r^{2} - 2 \\, a^{4} m r^{3} + a^{4} r^{4}\\right)} \\cos\\left(\\theta\\right)^{4} + 3 \\, {\\left(a^{4} r^{4} - 2 \\, a^{2} m r^{5} + a^{2} r^{6}\\right)} \\cos\\left(\\theta\\right)^{2}} \\\\ X_{ \\, r \\, t \\, \\phi \\, \\theta }^{ \\phantom{\\, r}\\phantom{\\, t}\\phantom{\\, \\phi}\\phantom{\\, \\theta} } & = & \\frac{{\\left(a^{5} m \\cos\\left(\\theta\\right)^{5} - {\\left(3 \\, a^{5} m + 5 \\, a^{3} m r^{2}\\right)} \\cos\\left(\\theta\\right)^{3} + 3 \\, {\\left(3 \\, a^{3} m r^{2} + 2 \\, a m r^{4}\\right)} \\cos\\left(\\theta\\right)\\right)} \\sin\\left(\\theta\\right)}{a^{6} \\cos\\left(\\theta\\right)^{6} + 3 \\, a^{4} r^{2} \\cos\\left(\\theta\\right)^{4} + 3 \\, a^{2} r^{4} \\cos\\left(\\theta\\right)^{2} + r^{6}} \\\\ X_{ \\, r \\, \\theta \\, t \\, \\phi }^{ \\phantom{\\, r}\\phantom{\\, \\theta}\\phantom{\\, t}\\phantom{\\, \\phi} } & = & \\frac{{\\left(a^{3} m \\cos\\left(\\theta\\right)^{3} - 3 \\, a m r^{2} \\cos\\left(\\theta\\right)\\right)} \\sin\\left(\\theta\\right)}{a^{4} \\cos\\left(\\theta\\right)^{4} + 2 \\, a^{2} r^{2} \\cos\\left(\\theta\\right)^{2} + r^{4}} \\\\ X_{ \\, r \\, \\theta \\, r \\, \\theta }^{ \\phantom{\\, r}\\phantom{\\, \\theta}\\phantom{\\, r}\\phantom{\\, \\theta} } & = & \\frac{3 \\, a^{2} m r \\cos\\left(\\theta\\right)^{2} - m r^{3}}{a^{2} r^{2} - 2 \\, m r^{3} + r^{4} + {\\left(a^{4} - 2 \\, a^{2} m r + a^{2} r^{2}\\right)} \\cos\\left(\\theta\\right)^{2}} \\\\ X_{ \\, r \\, \\theta \\, \\theta \\, r }^{ \\phantom{\\, r}\\phantom{\\, \\theta}\\phantom{\\, \\theta}\\phantom{\\, r} } & = & -\\frac{3 \\, a^{2} m r \\cos\\left(\\theta\\right)^{2} - m r^{3}}{a^{2} r^{2} - 2 \\, m r^{3} + r^{4} + {\\left(a^{4} - 2 \\, a^{2} m r + a^{2} r^{2}\\right)} \\cos\\left(\\theta\\right)^{2}} \\\\ X_{ \\, r \\, \\theta \\, \\phi \\, t }^{ \\phantom{\\, r}\\phantom{\\, \\theta}\\phantom{\\, \\phi}\\phantom{\\, t} } & = & -\\frac{{\\left(a^{3} m \\cos\\left(\\theta\\right)^{3} - 3 \\, a m r^{2} \\cos\\left(\\theta\\right)\\right)} \\sin\\left(\\theta\\right)}{a^{4} \\cos\\left(\\theta\\right)^{4} + 2 \\, a^{2} r^{2} \\cos\\left(\\theta\\right)^{2} + r^{4}} \\\\ X_{ \\, r \\, \\phi \\, t \\, r }^{ \\phantom{\\, r}\\phantom{\\, \\phi}\\phantom{\\, t}\\phantom{\\, r} } & = & -\\frac{{\\left(3 \\, a^{3} m r^{3} - 4 \\, a m^{2} r^{4} + 3 \\, a m r^{5} - 3 \\, {\\left(3 \\, a^{5} m r - 4 \\, a^{3} m^{2} r^{2} + 3 \\, a^{3} m r^{3}\\right)} \\cos\\left(\\theta\\right)^{2}\\right)} \\sin\\left(\\theta\\right)^{2}}{a^{2} r^{6} - 2 \\, m r^{7} + r^{8} + {\\left(a^{8} - 2 \\, a^{6} m r + a^{6} r^{2}\\right)} \\cos\\left(\\theta\\right)^{6} + 3 \\, {\\left(a^{6} r^{2} - 2 \\, a^{4} m r^{3} + a^{4} r^{4}\\right)} \\cos\\left(\\theta\\right)^{4} + 3 \\, {\\left(a^{4} r^{4} - 2 \\, a^{2} m r^{5} + a^{2} r^{6}\\right)} \\cos\\left(\\theta\\right)^{2}} \\\\ X_{ \\, r \\, \\phi \\, t \\, \\theta }^{ \\phantom{\\, r}\\phantom{\\, \\phi}\\phantom{\\, t}\\phantom{\\, \\theta} } & = & \\frac{{\\left(2 \\, a^{5} m \\cos\\left(\\theta\\right)^{5} - {\\left(3 \\, a^{5} m + 7 \\, a^{3} m r^{2}\\right)} \\cos\\left(\\theta\\right)^{3} + 3 \\, {\\left(3 \\, a^{3} m r^{2} + a m r^{4}\\right)} \\cos\\left(\\theta\\right)\\right)} \\sin\\left(\\theta\\right)}{a^{6} \\cos\\left(\\theta\\right)^{6} + 3 \\, a^{4} r^{2} \\cos\\left(\\theta\\right)^{4} + 3 \\, a^{2} r^{4} \\cos\\left(\\theta\\right)^{2} + r^{6}} \\\\ X_{ \\, r \\, \\phi \\, r \\, t }^{ \\phantom{\\, r}\\phantom{\\, \\phi}\\phantom{\\, r}\\phantom{\\, t} } & = & \\frac{{\\left(3 \\, a^{3} m r^{3} - 4 \\, a m^{2} r^{4} + 3 \\, a m r^{5} - 3 \\, {\\left(3 \\, a^{5} m r - 4 \\, a^{3} m^{2} r^{2} + 3 \\, a^{3} m r^{3}\\right)} \\cos\\left(\\theta\\right)^{2}\\right)} \\sin\\left(\\theta\\right)^{2}}{a^{2} r^{6} - 2 \\, m r^{7} + r^{8} + {\\left(a^{8} - 2 \\, a^{6} m r + a^{6} r^{2}\\right)} \\cos\\left(\\theta\\right)^{6} + 3 \\, {\\left(a^{6} r^{2} - 2 \\, a^{4} m r^{3} + a^{4} r^{4}\\right)} \\cos\\left(\\theta\\right)^{4} + 3 \\, {\\left(a^{4} r^{4} - 2 \\, a^{2} m r^{5} + a^{2} r^{6}\\right)} \\cos\\left(\\theta\\right)^{2}} \\\\ X_{ \\, r \\, \\phi \\, r \\, \\phi }^{ \\phantom{\\, r}\\phantom{\\, \\phi}\\phantom{\\, r}\\phantom{\\, \\phi} } & = & -\\frac{6 \\, {\\left(a^{6} m r - 2 \\, a^{4} m^{2} r^{2} + a^{4} m r^{3}\\right)} \\sin\\left(\\theta\\right)^{6} - {\\left(3 \\, a^{6} m r - 12 \\, a^{4} m^{2} r^{2} - 2 \\, a^{4} m r^{3} + 4 \\, a^{2} m^{2} r^{4} - 5 \\, a^{2} m r^{5}\\right)} \\sin\\left(\\theta\\right)^{4} - {\\left(3 \\, a^{6} m r + 5 \\, a^{4} m r^{3} + a^{2} m r^{5} - m r^{7}\\right)} \\sin\\left(\\theta\\right)^{2}}{a^{2} r^{6} - 2 \\, m r^{7} + r^{8} + {\\left(a^{8} - 2 \\, a^{6} m r + a^{6} r^{2}\\right)} \\cos\\left(\\theta\\right)^{6} + 3 \\, {\\left(a^{6} r^{2} - 2 \\, a^{4} m r^{3} + a^{4} r^{4}\\right)} \\cos\\left(\\theta\\right)^{4} + 3 \\, {\\left(a^{4} r^{4} - 2 \\, a^{2} m r^{5} + a^{2} r^{6}\\right)} \\cos\\left(\\theta\\right)^{2}} \\\\ X_{ \\, r \\, \\phi \\, \\theta \\, t }^{ \\phantom{\\, r}\\phantom{\\, \\phi}\\phantom{\\, \\theta}\\phantom{\\, t} } & = & -\\frac{{\\left(2 \\, a^{5} m \\cos\\left(\\theta\\right)^{5} - {\\left(3 \\, a^{5} m + 7 \\, a^{3} m r^{2}\\right)} \\cos\\left(\\theta\\right)^{3} + 3 \\, {\\left(3 \\, a^{3} m r^{2} + a m r^{4}\\right)} \\cos\\left(\\theta\\right)\\right)} \\sin\\left(\\theta\\right)}{a^{6} \\cos\\left(\\theta\\right)^{6} + 3 \\, a^{4} r^{2} \\cos\\left(\\theta\\right)^{4} + 3 \\, a^{2} r^{4} \\cos\\left(\\theta\\right)^{2} + r^{6}} \\\\ X_{ \\, r \\, \\phi \\, \\theta \\, \\phi }^{ \\phantom{\\, r}\\phantom{\\, \\phi}\\phantom{\\, \\theta}\\phantom{\\, \\phi} } & = & \\frac{3 \\, {\\left({\\left(a^{6} m + a^{4} m r^{2}\\right)} \\cos\\left(\\theta\\right) \\sin\\left(\\theta\\right)^{5} - {\\left(a^{6} m - 2 \\, a^{4} m r^{2} - 3 \\, a^{2} m r^{4}\\right)} \\cos\\left(\\theta\\right) \\sin\\left(\\theta\\right)^{3}\\right)}}{a^{6} \\cos\\left(\\theta\\right)^{6} + 3 \\, a^{4} r^{2} \\cos\\left(\\theta\\right)^{4} + 3 \\, a^{2} r^{4} \\cos\\left(\\theta\\right)^{2} + r^{6}} \\\\ X_{ \\, r \\, \\phi \\, \\phi \\, r }^{ \\phantom{\\, r}\\phantom{\\, \\phi}\\phantom{\\, \\phi}\\phantom{\\, r} } & = & \\frac{6 \\, {\\left(a^{6} m r - 2 \\, a^{4} m^{2} r^{2} + a^{4} m r^{3}\\right)} \\sin\\left(\\theta\\right)^{6} - {\\left(3 \\, a^{6} m r - 12 \\, a^{4} m^{2} r^{2} - 2 \\, a^{4} m r^{3} + 4 \\, a^{2} m^{2} r^{4} - 5 \\, a^{2} m r^{5}\\right)} \\sin\\left(\\theta\\right)^{4} - {\\left(3 \\, a^{6} m r + 5 \\, a^{4} m r^{3} + a^{2} m r^{5} - m r^{7}\\right)} \\sin\\left(\\theta\\right)^{2}}{a^{2} r^{6} - 2 \\, m r^{7} + r^{8} + {\\left(a^{8} - 2 \\, a^{6} m r + a^{6} r^{2}\\right)} \\cos\\left(\\theta\\right)^{6} + 3 \\, {\\left(a^{6} r^{2} - 2 \\, a^{4} m r^{3} + a^{4} r^{4}\\right)} \\cos\\left(\\theta\\right)^{4} + 3 \\, {\\left(a^{4} r^{4} - 2 \\, a^{2} m r^{5} + a^{2} r^{6}\\right)} \\cos\\left(\\theta\\right)^{2}} \\\\ X_{ \\, r \\, \\phi \\, \\phi \\, \\theta }^{ \\phantom{\\, r}\\phantom{\\, \\phi}\\phantom{\\, \\phi}\\phantom{\\, \\theta} } & = & -\\frac{3 \\, {\\left({\\left(a^{6} m + a^{4} m r^{2}\\right)} \\cos\\left(\\theta\\right) \\sin\\left(\\theta\\right)^{5} - {\\left(a^{6} m - 2 \\, a^{4} m r^{2} - 3 \\, a^{2} m r^{4}\\right)} \\cos\\left(\\theta\\right) \\sin\\left(\\theta\\right)^{3}\\right)}}{a^{6} \\cos\\left(\\theta\\right)^{6} + 3 \\, a^{4} r^{2} \\cos\\left(\\theta\\right)^{4} + 3 \\, a^{2} r^{4} \\cos\\left(\\theta\\right)^{2} + r^{6}} \\\\ X_{ \\, \\theta \\, t \\, t \\, r }^{ \\phantom{\\, \\theta}\\phantom{\\, t}\\phantom{\\, t}\\phantom{\\, r} } & = & \\frac{3 \\, {\\left(a^{4} m \\cos\\left(\\theta\\right)^{3} - 3 \\, a^{2} m r^{2} \\cos\\left(\\theta\\right)\\right)} \\sin\\left(\\theta\\right)}{a^{6} \\cos\\left(\\theta\\right)^{6} + 3 \\, a^{4} r^{2} \\cos\\left(\\theta\\right)^{4} + 3 \\, a^{2} r^{4} \\cos\\left(\\theta\\right)^{2} + r^{6}} \\\\ X_{ \\, \\theta \\, t \\, t \\, \\theta }^{ \\phantom{\\, \\theta}\\phantom{\\, t}\\phantom{\\, t}\\phantom{\\, \\theta} } & = & -\\frac{6 \\, a^{4} m r \\sin\\left(\\theta\\right)^{4} - 3 \\, a^{4} m r + 6 \\, a^{2} m^{2} r^{2} - 2 \\, a^{2} m r^{3} - 2 \\, m^{2} r^{4} + m r^{5} - {\\left(3 \\, a^{4} m r + 6 \\, a^{2} m^{2} r^{2} - 5 \\, a^{2} m r^{3}\\right)} \\sin\\left(\\theta\\right)^{2}}{a^{6} \\cos\\left(\\theta\\right)^{6} + 3 \\, a^{4} r^{2} \\cos\\left(\\theta\\right)^{4} + 3 \\, a^{2} r^{4} \\cos\\left(\\theta\\right)^{2} + r^{6}} \\\\ X_{ \\, \\theta \\, t \\, r \\, t }^{ \\phantom{\\, \\theta}\\phantom{\\, t}\\phantom{\\, r}\\phantom{\\, t} } & = & -\\frac{3 \\, {\\left(a^{4} m \\cos\\left(\\theta\\right)^{3} - 3 \\, a^{2} m r^{2} \\cos\\left(\\theta\\right)\\right)} \\sin\\left(\\theta\\right)}{a^{6} \\cos\\left(\\theta\\right)^{6} + 3 \\, a^{4} r^{2} \\cos\\left(\\theta\\right)^{4} + 3 \\, a^{2} r^{4} \\cos\\left(\\theta\\right)^{2} + r^{6}} \\\\ X_{ \\, \\theta \\, t \\, r \\, \\phi }^{ \\phantom{\\, \\theta}\\phantom{\\, t}\\phantom{\\, r}\\phantom{\\, \\phi} } & = & -\\frac{{\\left(2 \\, a^{5} m \\cos\\left(\\theta\\right)^{5} - {\\left(3 \\, a^{5} m + 7 \\, a^{3} m r^{2}\\right)} \\cos\\left(\\theta\\right)^{3} + 3 \\, {\\left(3 \\, a^{3} m r^{2} + a m r^{4}\\right)} \\cos\\left(\\theta\\right)\\right)} \\sin\\left(\\theta\\right)}{a^{6} \\cos\\left(\\theta\\right)^{6} + 3 \\, a^{4} r^{2} \\cos\\left(\\theta\\right)^{4} + 3 \\, a^{2} r^{4} \\cos\\left(\\theta\\right)^{2} + r^{6}} \\\\ X_{ \\, \\theta \\, t \\, \\theta \\, t }^{ \\phantom{\\, \\theta}\\phantom{\\, t}\\phantom{\\, \\theta}\\phantom{\\, t} } & = & \\frac{6 \\, a^{4} m r \\cos\\left(\\theta\\right)^{4} + 3 \\, a^{2} m r^{3} - 2 \\, m^{2} r^{4} + m r^{5} - {\\left(9 \\, a^{4} m r - 6 \\, a^{2} m^{2} r^{2} + 5 \\, a^{2} m r^{3}\\right)} \\cos\\left(\\theta\\right)^{2}}{a^{6} \\cos\\left(\\theta\\right)^{6} + 3 \\, a^{4} r^{2} \\cos\\left(\\theta\\right)^{4} + 3 \\, a^{2} r^{4} \\cos\\left(\\theta\\right)^{2} + r^{6}} \\\\ X_{ \\, \\theta \\, t \\, \\theta \\, \\phi }^{ \\phantom{\\, \\theta}\\phantom{\\, t}\\phantom{\\, \\theta}\\phantom{\\, \\phi} } & = & -\\frac{3 \\, {\\left(3 \\, a^{5} m r - 2 \\, a^{3} m^{2} r^{2} + 3 \\, a^{3} m r^{3}\\right)} \\sin\\left(\\theta\\right)^{4} - {\\left(9 \\, a^{5} m r - 6 \\, a^{3} m^{2} r^{2} + 6 \\, a^{3} m r^{3} + 2 \\, a m^{2} r^{4} - 3 \\, a m r^{5}\\right)} \\sin\\left(\\theta\\right)^{2}}{a^{6} \\cos\\left(\\theta\\right)^{6} + 3 \\, a^{4} r^{2} \\cos\\left(\\theta\\right)^{4} + 3 \\, a^{2} r^{4} \\cos\\left(\\theta\\right)^{2} + r^{6}} \\\\ X_{ \\, \\theta \\, t \\, \\phi \\, r }^{ \\phantom{\\, \\theta}\\phantom{\\, t}\\phantom{\\, \\phi}\\phantom{\\, r} } & = & \\frac{{\\left(2 \\, a^{5} m \\cos\\left(\\theta\\right)^{5} - {\\left(3 \\, a^{5} m + 7 \\, a^{3} m r^{2}\\right)} \\cos\\left(\\theta\\right)^{3} + 3 \\, {\\left(3 \\, a^{3} m r^{2} + a m r^{4}\\right)} \\cos\\left(\\theta\\right)\\right)} \\sin\\left(\\theta\\right)}{a^{6} \\cos\\left(\\theta\\right)^{6} + 3 \\, a^{4} r^{2} \\cos\\left(\\theta\\right)^{4} + 3 \\, a^{2} r^{4} \\cos\\left(\\theta\\right)^{2} + r^{6}} \\\\ X_{ \\, \\theta \\, t \\, \\phi \\, \\theta }^{ \\phantom{\\, \\theta}\\phantom{\\, t}\\phantom{\\, \\phi}\\phantom{\\, \\theta} } & = & \\frac{3 \\, {\\left(3 \\, a^{5} m r - 2 \\, a^{3} m^{2} r^{2} + 3 \\, a^{3} m r^{3}\\right)} \\sin\\left(\\theta\\right)^{4} - {\\left(9 \\, a^{5} m r - 6 \\, a^{3} m^{2} r^{2} + 6 \\, a^{3} m r^{3} + 2 \\, a m^{2} r^{4} - 3 \\, a m r^{5}\\right)} \\sin\\left(\\theta\\right)^{2}}{a^{6} \\cos\\left(\\theta\\right)^{6} + 3 \\, a^{4} r^{2} \\cos\\left(\\theta\\right)^{4} + 3 \\, a^{2} r^{4} \\cos\\left(\\theta\\right)^{2} + r^{6}} \\\\ X_{ \\, \\theta \\, r \\, t \\, \\phi }^{ \\phantom{\\, \\theta}\\phantom{\\, r}\\phantom{\\, t}\\phantom{\\, \\phi} } & = & -\\frac{{\\left(a^{3} m \\cos\\left(\\theta\\right)^{3} - 3 \\, a m r^{2} \\cos\\left(\\theta\\right)\\right)} \\sin\\left(\\theta\\right)}{a^{4} \\cos\\left(\\theta\\right)^{4} + 2 \\, a^{2} r^{2} \\cos\\left(\\theta\\right)^{2} + r^{4}} \\\\ X_{ \\, \\theta \\, r \\, r \\, \\theta }^{ \\phantom{\\, \\theta}\\phantom{\\, r}\\phantom{\\, r}\\phantom{\\, \\theta} } & = & -\\frac{3 \\, a^{2} m r \\cos\\left(\\theta\\right)^{2} - m r^{3}}{a^{2} r^{2} - 2 \\, m r^{3} + r^{4} + {\\left(a^{4} - 2 \\, a^{2} m r + a^{2} r^{2}\\right)} \\cos\\left(\\theta\\right)^{2}} \\\\ X_{ \\, \\theta \\, r \\, \\theta \\, r }^{ \\phantom{\\, \\theta}\\phantom{\\, r}\\phantom{\\, \\theta}\\phantom{\\, r} } & = & \\frac{3 \\, a^{2} m r \\cos\\left(\\theta\\right)^{2} - m r^{3}}{a^{2} r^{2} - 2 \\, m r^{3} + r^{4} + {\\left(a^{4} - 2 \\, a^{2} m r + a^{2} r^{2}\\right)} \\cos\\left(\\theta\\right)^{2}} \\\\ X_{ \\, \\theta \\, r \\, \\phi \\, t }^{ \\phantom{\\, \\theta}\\phantom{\\, r}\\phantom{\\, \\phi}\\phantom{\\, t} } & = & \\frac{{\\left(a^{3} m \\cos\\left(\\theta\\right)^{3} - 3 \\, a m r^{2} \\cos\\left(\\theta\\right)\\right)} \\sin\\left(\\theta\\right)}{a^{4} \\cos\\left(\\theta\\right)^{4} + 2 \\, a^{2} r^{2} \\cos\\left(\\theta\\right)^{2} + r^{4}} \\\\ X_{ \\, \\theta \\, \\phi \\, t \\, r }^{ \\phantom{\\, \\theta}\\phantom{\\, \\phi}\\phantom{\\, t}\\phantom{\\, r} } & = & \\frac{{\\left(a^{5} m \\cos\\left(\\theta\\right)^{5} - {\\left(3 \\, a^{5} m + 5 \\, a^{3} m r^{2}\\right)} \\cos\\left(\\theta\\right)^{3} + 3 \\, {\\left(3 \\, a^{3} m r^{2} + 2 \\, a m r^{4}\\right)} \\cos\\left(\\theta\\right)\\right)} \\sin\\left(\\theta\\right)}{a^{6} \\cos\\left(\\theta\\right)^{6} + 3 \\, a^{4} r^{2} \\cos\\left(\\theta\\right)^{4} + 3 \\, a^{2} r^{4} \\cos\\left(\\theta\\right)^{2} + r^{6}} \\\\ X_{ \\, \\theta \\, \\phi \\, t \\, \\theta }^{ \\phantom{\\, \\theta}\\phantom{\\, \\phi}\\phantom{\\, t}\\phantom{\\, \\theta} } & = & \\frac{3 \\, {\\left(3 \\, a^{5} m r - 2 \\, a^{3} m^{2} r^{2} + 3 \\, a^{3} m r^{3}\\right)} \\sin\\left(\\theta\\right)^{4} - {\\left(9 \\, a^{5} m r - 6 \\, a^{3} m^{2} r^{2} + 6 \\, a^{3} m r^{3} + 2 \\, a m^{2} r^{4} - 3 \\, a m r^{5}\\right)} \\sin\\left(\\theta\\right)^{2}}{a^{6} \\cos\\left(\\theta\\right)^{6} + 3 \\, a^{4} r^{2} \\cos\\left(\\theta\\right)^{4} + 3 \\, a^{2} r^{4} \\cos\\left(\\theta\\right)^{2} + r^{6}} \\\\ X_{ \\, \\theta \\, \\phi \\, r \\, t }^{ \\phantom{\\, \\theta}\\phantom{\\, \\phi}\\phantom{\\, r}\\phantom{\\, t} } & = & -\\frac{{\\left(a^{5} m \\cos\\left(\\theta\\right)^{5} - {\\left(3 \\, a^{5} m + 5 \\, a^{3} m r^{2}\\right)} \\cos\\left(\\theta\\right)^{3} + 3 \\, {\\left(3 \\, a^{3} m r^{2} + 2 \\, a m r^{4}\\right)} \\cos\\left(\\theta\\right)\\right)} \\sin\\left(\\theta\\right)}{a^{6} \\cos\\left(\\theta\\right)^{6} + 3 \\, a^{4} r^{2} \\cos\\left(\\theta\\right)^{4} + 3 \\, a^{2} r^{4} \\cos\\left(\\theta\\right)^{2} + r^{6}} \\\\ X_{ \\, \\theta \\, \\phi \\, r \\, \\phi }^{ \\phantom{\\, \\theta}\\phantom{\\, \\phi}\\phantom{\\, r}\\phantom{\\, \\phi} } & = & \\frac{3 \\, {\\left({\\left(a^{6} m + a^{4} m r^{2}\\right)} \\cos\\left(\\theta\\right) \\sin\\left(\\theta\\right)^{5} - {\\left(a^{6} m - 2 \\, a^{4} m r^{2} - 3 \\, a^{2} m r^{4}\\right)} \\cos\\left(\\theta\\right) \\sin\\left(\\theta\\right)^{3}\\right)}}{a^{6} \\cos\\left(\\theta\\right)^{6} + 3 \\, a^{4} r^{2} \\cos\\left(\\theta\\right)^{4} + 3 \\, a^{2} r^{4} \\cos\\left(\\theta\\right)^{2} + r^{6}} \\\\ X_{ \\, \\theta \\, \\phi \\, \\theta \\, t }^{ \\phantom{\\, \\theta}\\phantom{\\, \\phi}\\phantom{\\, \\theta}\\phantom{\\, t} } & = & -\\frac{3 \\, {\\left(3 \\, a^{5} m r - 2 \\, a^{3} m^{2} r^{2} + 3 \\, a^{3} m r^{3}\\right)} \\sin\\left(\\theta\\right)^{4} - {\\left(9 \\, a^{5} m r - 6 \\, a^{3} m^{2} r^{2} + 6 \\, a^{3} m r^{3} + 2 \\, a m^{2} r^{4} - 3 \\, a m r^{5}\\right)} \\sin\\left(\\theta\\right)^{2}}{a^{6} \\cos\\left(\\theta\\right)^{6} + 3 \\, a^{4} r^{2} \\cos\\left(\\theta\\right)^{4} + 3 \\, a^{2} r^{4} \\cos\\left(\\theta\\right)^{2} + r^{6}} \\\\ X_{ \\, \\theta \\, \\phi \\, \\theta \\, \\phi }^{ \\phantom{\\, \\theta}\\phantom{\\, \\phi}\\phantom{\\, \\theta}\\phantom{\\, \\phi} } & = & \\frac{3 \\, {\\left(a^{6} m r - 2 \\, a^{4} m^{2} r^{2} + a^{4} m r^{3}\\right)} \\sin\\left(\\theta\\right)^{6} + {\\left(3 \\, a^{6} m r + 6 \\, a^{4} m^{2} r^{2} + 10 \\, a^{4} m r^{3} - 2 \\, a^{2} m^{2} r^{4} + 7 \\, a^{2} m r^{5}\\right)} \\sin\\left(\\theta\\right)^{4} - 2 \\, {\\left(3 \\, a^{6} m r + 5 \\, a^{4} m r^{3} + a^{2} m r^{5} - m r^{7}\\right)} \\sin\\left(\\theta\\right)^{2}}{a^{6} \\cos\\left(\\theta\\right)^{6} + 3 \\, a^{4} r^{2} \\cos\\left(\\theta\\right)^{4} + 3 \\, a^{2} r^{4} \\cos\\left(\\theta\\right)^{2} + r^{6}} \\\\ X_{ \\, \\theta \\, \\phi \\, \\phi \\, r }^{ \\phantom{\\, \\theta}\\phantom{\\, \\phi}\\phantom{\\, \\phi}\\phantom{\\, r} } & = & -\\frac{3 \\, {\\left({\\left(a^{6} m + a^{4} m r^{2}\\right)} \\cos\\left(\\theta\\right) \\sin\\left(\\theta\\right)^{5} - {\\left(a^{6} m - 2 \\, a^{4} m r^{2} - 3 \\, a^{2} m r^{4}\\right)} \\cos\\left(\\theta\\right) \\sin\\left(\\theta\\right)^{3}\\right)}}{a^{6} \\cos\\left(\\theta\\right)^{6} + 3 \\, a^{4} r^{2} \\cos\\left(\\theta\\right)^{4} + 3 \\, a^{2} r^{4} \\cos\\left(\\theta\\right)^{2} + r^{6}} \\\\ X_{ \\, \\theta \\, \\phi \\, \\phi \\, \\theta }^{ \\phantom{\\, \\theta}\\phantom{\\, \\phi}\\phantom{\\, \\phi}\\phantom{\\, \\theta} } & = & -\\frac{3 \\, {\\left(a^{6} m r - 2 \\, a^{4} m^{2} r^{2} + a^{4} m r^{3}\\right)} \\sin\\left(\\theta\\right)^{6} + {\\left(3 \\, a^{6} m r + 6 \\, a^{4} m^{2} r^{2} + 10 \\, a^{4} m r^{3} - 2 \\, a^{2} m^{2} r^{4} + 7 \\, a^{2} m r^{5}\\right)} \\sin\\left(\\theta\\right)^{4} - 2 \\, {\\left(3 \\, a^{6} m r + 5 \\, a^{4} m r^{3} + a^{2} m r^{5} - m r^{7}\\right)} \\sin\\left(\\theta\\right)^{2}}{a^{6} \\cos\\left(\\theta\\right)^{6} + 3 \\, a^{4} r^{2} \\cos\\left(\\theta\\right)^{4} + 3 \\, a^{2} r^{4} \\cos\\left(\\theta\\right)^{2} + r^{6}} \\\\ X_{ \\, \\phi \\, t \\, t \\, \\phi }^{ \\phantom{\\, \\phi}\\phantom{\\, t}\\phantom{\\, t}\\phantom{\\, \\phi} } & = & -\\frac{3 \\, {\\left(a^{4} m r - 2 \\, a^{2} m^{2} r^{2} + a^{2} m r^{3}\\right)} \\sin\\left(\\theta\\right)^{4} - {\\left(3 \\, a^{4} m r - 6 \\, a^{2} m^{2} r^{2} + 2 \\, a^{2} m r^{3} + 2 \\, m^{2} r^{4} - m r^{5}\\right)} \\sin\\left(\\theta\\right)^{2}}{a^{6} \\cos\\left(\\theta\\right)^{6} + 3 \\, a^{4} r^{2} \\cos\\left(\\theta\\right)^{4} + 3 \\, a^{2} r^{4} \\cos\\left(\\theta\\right)^{2} + r^{6}} \\\\ X_{ \\, \\phi \\, t \\, r \\, \\theta }^{ \\phantom{\\, \\phi}\\phantom{\\, t}\\phantom{\\, r}\\phantom{\\, \\theta} } & = & -\\frac{{\\left(a^{3} m \\cos\\left(\\theta\\right)^{3} - 3 \\, a m r^{2} \\cos\\left(\\theta\\right)\\right)} \\sin\\left(\\theta\\right)}{a^{4} \\cos\\left(\\theta\\right)^{4} + 2 \\, a^{2} r^{2} \\cos\\left(\\theta\\right)^{2} + r^{4}} \\\\ X_{ \\, \\phi \\, t \\, \\theta \\, r }^{ \\phantom{\\, \\phi}\\phantom{\\, t}\\phantom{\\, \\theta}\\phantom{\\, r} } & = & \\frac{{\\left(a^{3} m \\cos\\left(\\theta\\right)^{3} - 3 \\, a m r^{2} \\cos\\left(\\theta\\right)\\right)} \\sin\\left(\\theta\\right)}{a^{4} \\cos\\left(\\theta\\right)^{4} + 2 \\, a^{2} r^{2} \\cos\\left(\\theta\\right)^{2} + r^{4}} \\\\ X_{ \\, \\phi \\, t \\, \\phi \\, t }^{ \\phantom{\\, \\phi}\\phantom{\\, t}\\phantom{\\, \\phi}\\phantom{\\, t} } & = & \\frac{3 \\, {\\left(a^{4} m r - 2 \\, a^{2} m^{2} r^{2} + a^{2} m r^{3}\\right)} \\sin\\left(\\theta\\right)^{4} - {\\left(3 \\, a^{4} m r - 6 \\, a^{2} m^{2} r^{2} + 2 \\, a^{2} m r^{3} + 2 \\, m^{2} r^{4} - m r^{5}\\right)} \\sin\\left(\\theta\\right)^{2}}{a^{6} \\cos\\left(\\theta\\right)^{6} + 3 \\, a^{4} r^{2} \\cos\\left(\\theta\\right)^{4} + 3 \\, a^{2} r^{4} \\cos\\left(\\theta\\right)^{2} + r^{6}} \\\\ X_{ \\, \\phi \\, r \\, t \\, r }^{ \\phantom{\\, \\phi}\\phantom{\\, r}\\phantom{\\, t}\\phantom{\\, r} } & = & -\\frac{6 \\, {\\left(3 \\, a^{5} m^{2} r^{2} \\cos\\left(\\theta\\right)^{2} - a^{3} m^{2} r^{4}\\right)} \\sin\\left(\\theta\\right)^{4} + {\\left(6 \\, a^{3} m^{2} r^{4} - 3 \\, a^{3} m r^{5} + 4 \\, a m^{2} r^{6} - 3 \\, a m r^{7} + 3 \\, {\\left(3 \\, a^{7} m r + 2 \\, a^{5} m^{2} r^{2} + 3 \\, a^{5} m r^{3}\\right)} \\cos\\left(\\theta\\right)^{4} - 2 \\, {\\left(9 \\, a^{5} m^{2} r^{2} - 3 \\, a^{5} m r^{3} + 7 \\, a^{3} m^{2} r^{4} - 3 \\, a^{3} m r^{5}\\right)} \\cos\\left(\\theta\\right)^{2}\\right)} \\sin\\left(\\theta\\right)^{2}}{a^{2} r^{8} - 2 \\, m r^{9} + r^{10} + {\\left(a^{10} - 2 \\, a^{8} m r + a^{8} r^{2}\\right)} \\cos\\left(\\theta\\right)^{8} + 4 \\, {\\left(a^{8} r^{2} - 2 \\, a^{6} m r^{3} + a^{6} r^{4}\\right)} \\cos\\left(\\theta\\right)^{6} + 6 \\, {\\left(a^{6} r^{4} - 2 \\, a^{4} m r^{5} + a^{4} r^{6}\\right)} \\cos\\left(\\theta\\right)^{4} + 4 \\, {\\left(a^{4} r^{6} - 2 \\, a^{2} m r^{7} + a^{2} r^{8}\\right)} \\cos\\left(\\theta\\right)^{2}} \\\\ X_{ \\, \\phi \\, r \\, t \\, \\theta }^{ \\phantom{\\, \\phi}\\phantom{\\, r}\\phantom{\\, t}\\phantom{\\, \\theta} } & = & -\\frac{{\\left(2 \\, a^{5} m \\cos\\left(\\theta\\right)^{5} - {\\left(3 \\, a^{5} m + 7 \\, a^{3} m r^{2}\\right)} \\cos\\left(\\theta\\right)^{3} + 3 \\, {\\left(3 \\, a^{3} m r^{2} + a m r^{4}\\right)} \\cos\\left(\\theta\\right)\\right)} \\sin\\left(\\theta\\right)}{a^{6} \\cos\\left(\\theta\\right)^{6} + 3 \\, a^{4} r^{2} \\cos\\left(\\theta\\right)^{4} + 3 \\, a^{2} r^{4} \\cos\\left(\\theta\\right)^{2} + r^{6}} \\\\ X_{ \\, \\phi \\, r \\, r \\, t }^{ \\phantom{\\, \\phi}\\phantom{\\, r}\\phantom{\\, r}\\phantom{\\, t} } & = & \\frac{6 \\, {\\left(3 \\, a^{5} m^{2} r^{2} \\cos\\left(\\theta\\right)^{2} - a^{3} m^{2} r^{4}\\right)} \\sin\\left(\\theta\\right)^{4} + {\\left(6 \\, a^{3} m^{2} r^{4} - 3 \\, a^{3} m r^{5} + 4 \\, a m^{2} r^{6} - 3 \\, a m r^{7} + 3 \\, {\\left(3 \\, a^{7} m r + 2 \\, a^{5} m^{2} r^{2} + 3 \\, a^{5} m r^{3}\\right)} \\cos\\left(\\theta\\right)^{4} - 2 \\, {\\left(9 \\, a^{5} m^{2} r^{2} - 3 \\, a^{5} m r^{3} + 7 \\, a^{3} m^{2} r^{4} - 3 \\, a^{3} m r^{5}\\right)} \\cos\\left(\\theta\\right)^{2}\\right)} \\sin\\left(\\theta\\right)^{2}}{a^{2} r^{8} - 2 \\, m r^{9} + r^{10} + {\\left(a^{10} - 2 \\, a^{8} m r + a^{8} r^{2}\\right)} \\cos\\left(\\theta\\right)^{8} + 4 \\, {\\left(a^{8} r^{2} - 2 \\, a^{6} m r^{3} + a^{6} r^{4}\\right)} \\cos\\left(\\theta\\right)^{6} + 6 \\, {\\left(a^{6} r^{4} - 2 \\, a^{4} m r^{5} + a^{4} r^{6}\\right)} \\cos\\left(\\theta\\right)^{4} + 4 \\, {\\left(a^{4} r^{6} - 2 \\, a^{2} m r^{7} + a^{2} r^{8}\\right)} \\cos\\left(\\theta\\right)^{2}} \\\\ X_{ \\, \\phi \\, r \\, r \\, \\phi }^{ \\phantom{\\, \\phi}\\phantom{\\, r}\\phantom{\\, r}\\phantom{\\, \\phi} } & = & -\\frac{6 \\, {\\left(a^{8} m r - 2 \\, a^{6} m^{2} r^{2} + a^{6} m r^{3}\\right)} \\sin\\left(\\theta\\right)^{8} - {\\left(9 \\, a^{8} m r - 24 \\, a^{6} m^{2} r^{2} + 10 \\, a^{6} m r^{3} - 8 \\, a^{4} m^{2} r^{4} + a^{4} m r^{5}\\right)} \\sin\\left(\\theta\\right)^{6} - 4 \\, {\\left(3 \\, a^{6} m^{2} r^{2} + a^{6} m r^{3} + 2 \\, a^{4} m^{2} r^{4} + 2 \\, a^{4} m r^{5} - a^{2} m^{2} r^{6} + a^{2} m r^{7}\\right)} \\sin\\left(\\theta\\right)^{4} + {\\left(3 \\, a^{8} m r + 8 \\, a^{6} m r^{3} + 6 \\, a^{4} m r^{5} - m r^{9}\\right)} \\sin\\left(\\theta\\right)^{2}}{a^{2} r^{8} - 2 \\, m r^{9} + r^{10} + {\\left(a^{10} - 2 \\, a^{8} m r + a^{8} r^{2}\\right)} \\cos\\left(\\theta\\right)^{8} + 4 \\, {\\left(a^{8} r^{2} - 2 \\, a^{6} m r^{3} + a^{6} r^{4}\\right)} \\cos\\left(\\theta\\right)^{6} + 6 \\, {\\left(a^{6} r^{4} - 2 \\, a^{4} m r^{5} + a^{4} r^{6}\\right)} \\cos\\left(\\theta\\right)^{4} + 4 \\, {\\left(a^{4} r^{6} - 2 \\, a^{2} m r^{7} + a^{2} r^{8}\\right)} \\cos\\left(\\theta\\right)^{2}} \\\\ X_{ \\, \\phi \\, r \\, \\theta \\, t }^{ \\phantom{\\, \\phi}\\phantom{\\, r}\\phantom{\\, \\theta}\\phantom{\\, t} } & = & \\frac{{\\left(2 \\, a^{5} m \\cos\\left(\\theta\\right)^{5} - {\\left(3 \\, a^{5} m + 7 \\, a^{3} m r^{2}\\right)} \\cos\\left(\\theta\\right)^{3} + 3 \\, {\\left(3 \\, a^{3} m r^{2} + a m r^{4}\\right)} \\cos\\left(\\theta\\right)\\right)} \\sin\\left(\\theta\\right)}{a^{6} \\cos\\left(\\theta\\right)^{6} + 3 \\, a^{4} r^{2} \\cos\\left(\\theta\\right)^{4} + 3 \\, a^{2} r^{4} \\cos\\left(\\theta\\right)^{2} + r^{6}} \\\\ X_{ \\, \\phi \\, r \\, \\theta \\, \\phi }^{ \\phantom{\\, \\phi}\\phantom{\\, r}\\phantom{\\, \\theta}\\phantom{\\, \\phi} } & = & \\frac{3 \\, {\\left({\\left(a^{8} m + a^{6} m r^{2}\\right)} \\cos\\left(\\theta\\right) \\sin\\left(\\theta\\right)^{7} - 2 \\, {\\left(a^{8} m - a^{4} m r^{4}\\right)} \\cos\\left(\\theta\\right) \\sin\\left(\\theta\\right)^{5} + {\\left(a^{8} m - a^{6} m r^{2} - 5 \\, a^{4} m r^{4} - 3 \\, a^{2} m r^{6}\\right)} \\cos\\left(\\theta\\right) \\sin\\left(\\theta\\right)^{3}\\right)}}{a^{8} \\cos\\left(\\theta\\right)^{8} + 4 \\, a^{6} r^{2} \\cos\\left(\\theta\\right)^{6} + 6 \\, a^{4} r^{4} \\cos\\left(\\theta\\right)^{4} + 4 \\, a^{2} r^{6} \\cos\\left(\\theta\\right)^{2} + r^{8}} \\\\ X_{ \\, \\phi \\, r \\, \\phi \\, r }^{ \\phantom{\\, \\phi}\\phantom{\\, r}\\phantom{\\, \\phi}\\phantom{\\, r} } & = & \\frac{6 \\, {\\left(a^{8} m r - 2 \\, a^{6} m^{2} r^{2} + a^{6} m r^{3}\\right)} \\sin\\left(\\theta\\right)^{8} - {\\left(9 \\, a^{8} m r - 24 \\, a^{6} m^{2} r^{2} + 10 \\, a^{6} m r^{3} - 8 \\, a^{4} m^{2} r^{4} + a^{4} m r^{5}\\right)} \\sin\\left(\\theta\\right)^{6} - 4 \\, {\\left(3 \\, a^{6} m^{2} r^{2} + a^{6} m r^{3} + 2 \\, a^{4} m^{2} r^{4} + 2 \\, a^{4} m r^{5} - a^{2} m^{2} r^{6} + a^{2} m r^{7}\\right)} \\sin\\left(\\theta\\right)^{4} + {\\left(3 \\, a^{8} m r + 8 \\, a^{6} m r^{3} + 6 \\, a^{4} m r^{5} - m r^{9}\\right)} \\sin\\left(\\theta\\right)^{2}}{a^{2} r^{8} - 2 \\, m r^{9} + r^{10} + {\\left(a^{10} - 2 \\, a^{8} m r + a^{8} r^{2}\\right)} \\cos\\left(\\theta\\right)^{8} + 4 \\, {\\left(a^{8} r^{2} - 2 \\, a^{6} m r^{3} + a^{6} r^{4}\\right)} \\cos\\left(\\theta\\right)^{6} + 6 \\, {\\left(a^{6} r^{4} - 2 \\, a^{4} m r^{5} + a^{4} r^{6}\\right)} \\cos\\left(\\theta\\right)^{4} + 4 \\, {\\left(a^{4} r^{6} - 2 \\, a^{2} m r^{7} + a^{2} r^{8}\\right)} \\cos\\left(\\theta\\right)^{2}} \\\\ X_{ \\, \\phi \\, r \\, \\phi \\, \\theta }^{ \\phantom{\\, \\phi}\\phantom{\\, r}\\phantom{\\, \\phi}\\phantom{\\, \\theta} } & = & -\\frac{3 \\, {\\left({\\left(a^{8} m + a^{6} m r^{2}\\right)} \\cos\\left(\\theta\\right) \\sin\\left(\\theta\\right)^{7} - 2 \\, {\\left(a^{8} m - a^{4} m r^{4}\\right)} \\cos\\left(\\theta\\right) \\sin\\left(\\theta\\right)^{5} + {\\left(a^{8} m - a^{6} m r^{2} - 5 \\, a^{4} m r^{4} - 3 \\, a^{2} m r^{6}\\right)} \\cos\\left(\\theta\\right) \\sin\\left(\\theta\\right)^{3}\\right)}}{a^{8} \\cos\\left(\\theta\\right)^{8} + 4 \\, a^{6} r^{2} \\cos\\left(\\theta\\right)^{6} + 6 \\, a^{4} r^{4} \\cos\\left(\\theta\\right)^{4} + 4 \\, a^{2} r^{6} \\cos\\left(\\theta\\right)^{2} + r^{8}} \\\\ X_{ \\, \\phi \\, \\theta \\, t \\, r }^{ \\phantom{\\, \\phi}\\phantom{\\, \\theta}\\phantom{\\, t}\\phantom{\\, r} } & = & -\\frac{{\\left(a^{5} m \\cos\\left(\\theta\\right)^{5} - {\\left(3 \\, a^{5} m + 5 \\, a^{3} m r^{2}\\right)} \\cos\\left(\\theta\\right)^{3} + 3 \\, {\\left(3 \\, a^{3} m r^{2} + 2 \\, a m r^{4}\\right)} \\cos\\left(\\theta\\right)\\right)} \\sin\\left(\\theta\\right)}{a^{6} \\cos\\left(\\theta\\right)^{6} + 3 \\, a^{4} r^{2} \\cos\\left(\\theta\\right)^{4} + 3 \\, a^{2} r^{4} \\cos\\left(\\theta\\right)^{2} + r^{6}} \\\\ X_{ \\, \\phi \\, \\theta \\, t \\, \\theta }^{ \\phantom{\\, \\phi}\\phantom{\\, \\theta}\\phantom{\\, t}\\phantom{\\, \\theta} } & = & \\frac{6 \\, {\\left(3 \\, a^{5} m^{2} r^{2} \\cos\\left(\\theta\\right)^{2} - a^{3} m^{2} r^{4}\\right)} \\sin\\left(\\theta\\right)^{4} + {\\left(6 \\, a^{3} m^{2} r^{4} - 3 \\, a^{3} m r^{5} + 2 \\, a m^{2} r^{6} - 3 \\, a m r^{7} + 3 \\, {\\left(3 \\, a^{7} m r + 4 \\, a^{5} m^{2} r^{2} + 3 \\, a^{5} m r^{3}\\right)} \\cos\\left(\\theta\\right)^{4} - 2 \\, {\\left(9 \\, a^{5} m^{2} r^{2} - 3 \\, a^{5} m r^{3} + 5 \\, a^{3} m^{2} r^{4} - 3 \\, a^{3} m r^{5}\\right)} \\cos\\left(\\theta\\right)^{2}\\right)} \\sin\\left(\\theta\\right)^{2}}{a^{8} \\cos\\left(\\theta\\right)^{8} + 4 \\, a^{6} r^{2} \\cos\\left(\\theta\\right)^{6} + 6 \\, a^{4} r^{4} \\cos\\left(\\theta\\right)^{4} + 4 \\, a^{2} r^{6} \\cos\\left(\\theta\\right)^{2} + r^{8}} \\\\ X_{ \\, \\phi \\, \\theta \\, r \\, t }^{ \\phantom{\\, \\phi}\\phantom{\\, \\theta}\\phantom{\\, r}\\phantom{\\, t} } & = & \\frac{{\\left(a^{5} m \\cos\\left(\\theta\\right)^{5} - {\\left(3 \\, a^{5} m + 5 \\, a^{3} m r^{2}\\right)} \\cos\\left(\\theta\\right)^{3} + 3 \\, {\\left(3 \\, a^{3} m r^{2} + 2 \\, a m r^{4}\\right)} \\cos\\left(\\theta\\right)\\right)} \\sin\\left(\\theta\\right)}{a^{6} \\cos\\left(\\theta\\right)^{6} + 3 \\, a^{4} r^{2} \\cos\\left(\\theta\\right)^{4} + 3 \\, a^{2} r^{4} \\cos\\left(\\theta\\right)^{2} + r^{6}} \\\\ X_{ \\, \\phi \\, \\theta \\, r \\, \\phi }^{ \\phantom{\\, \\phi}\\phantom{\\, \\theta}\\phantom{\\, r}\\phantom{\\, \\phi} } & = & \\frac{3 \\, {\\left({\\left(a^{8} m + a^{6} m r^{2}\\right)} \\cos\\left(\\theta\\right) \\sin\\left(\\theta\\right)^{7} - 2 \\, {\\left(a^{8} m - a^{4} m r^{4}\\right)} \\cos\\left(\\theta\\right) \\sin\\left(\\theta\\right)^{5} + {\\left(a^{8} m - a^{6} m r^{2} - 5 \\, a^{4} m r^{4} - 3 \\, a^{2} m r^{6}\\right)} \\cos\\left(\\theta\\right) \\sin\\left(\\theta\\right)^{3}\\right)}}{a^{8} \\cos\\left(\\theta\\right)^{8} + 4 \\, a^{6} r^{2} \\cos\\left(\\theta\\right)^{6} + 6 \\, a^{4} r^{4} \\cos\\left(\\theta\\right)^{4} + 4 \\, a^{2} r^{6} \\cos\\left(\\theta\\right)^{2} + r^{8}} \\\\ X_{ \\, \\phi \\, \\theta \\, \\theta \\, t }^{ \\phantom{\\, \\phi}\\phantom{\\, \\theta}\\phantom{\\, \\theta}\\phantom{\\, t} } & = & -\\frac{6 \\, {\\left(3 \\, a^{5} m^{2} r^{2} \\cos\\left(\\theta\\right)^{2} - a^{3} m^{2} r^{4}\\right)} \\sin\\left(\\theta\\right)^{4} + {\\left(6 \\, a^{3} m^{2} r^{4} - 3 \\, a^{3} m r^{5} + 2 \\, a m^{2} r^{6} - 3 \\, a m r^{7} + 3 \\, {\\left(3 \\, a^{7} m r + 4 \\, a^{5} m^{2} r^{2} + 3 \\, a^{5} m r^{3}\\right)} \\cos\\left(\\theta\\right)^{4} - 2 \\, {\\left(9 \\, a^{5} m^{2} r^{2} - 3 \\, a^{5} m r^{3} + 5 \\, a^{3} m^{2} r^{4} - 3 \\, a^{3} m r^{5}\\right)} \\cos\\left(\\theta\\right)^{2}\\right)} \\sin\\left(\\theta\\right)^{2}}{a^{8} \\cos\\left(\\theta\\right)^{8} + 4 \\, a^{6} r^{2} \\cos\\left(\\theta\\right)^{6} + 6 \\, a^{4} r^{4} \\cos\\left(\\theta\\right)^{4} + 4 \\, a^{2} r^{6} \\cos\\left(\\theta\\right)^{2} + r^{8}} \\\\ X_{ \\, \\phi \\, \\theta \\, \\theta \\, \\phi }^{ \\phantom{\\, \\phi}\\phantom{\\, \\theta}\\phantom{\\, \\theta}\\phantom{\\, \\phi} } & = & \\frac{3 \\, {\\left(a^{8} m r - 2 \\, a^{6} m^{2} r^{2} + a^{6} m r^{3}\\right)} \\sin\\left(\\theta\\right)^{8} + 4 \\, {\\left(3 \\, a^{6} m^{2} r^{2} + a^{6} m r^{3} + a^{4} m^{2} r^{4} + a^{4} m r^{5}\\right)} \\sin\\left(\\theta\\right)^{6} - {\\left(9 \\, a^{8} m r + 6 \\, a^{6} m^{2} r^{2} + 23 \\, a^{6} m r^{3} + 4 \\, a^{4} m^{2} r^{4} + 19 \\, a^{4} m r^{5} - 2 \\, a^{2} m^{2} r^{6} + 5 \\, a^{2} m r^{7}\\right)} \\sin\\left(\\theta\\right)^{4} + 2 \\, {\\left(3 \\, a^{8} m r + 8 \\, a^{6} m r^{3} + 6 \\, a^{4} m r^{5} - m r^{9}\\right)} \\sin\\left(\\theta\\right)^{2}}{a^{8} \\cos\\left(\\theta\\right)^{8} + 4 \\, a^{6} r^{2} \\cos\\left(\\theta\\right)^{6} + 6 \\, a^{4} r^{4} \\cos\\left(\\theta\\right)^{4} + 4 \\, a^{2} r^{6} \\cos\\left(\\theta\\right)^{2} + r^{8}} \\\\ X_{ \\, \\phi \\, \\theta \\, \\phi \\, r }^{ \\phantom{\\, \\phi}\\phantom{\\, \\theta}\\phantom{\\, \\phi}\\phantom{\\, r} } & = & -\\frac{3 \\, {\\left({\\left(a^{8} m + a^{6} m r^{2}\\right)} \\cos\\left(\\theta\\right) \\sin\\left(\\theta\\right)^{7} - 2 \\, {\\left(a^{8} m - a^{4} m r^{4}\\right)} \\cos\\left(\\theta\\right) \\sin\\left(\\theta\\right)^{5} + {\\left(a^{8} m - a^{6} m r^{2} - 5 \\, a^{4} m r^{4} - 3 \\, a^{2} m r^{6}\\right)} \\cos\\left(\\theta\\right) \\sin\\left(\\theta\\right)^{3}\\right)}}{a^{8} \\cos\\left(\\theta\\right)^{8} + 4 \\, a^{6} r^{2} \\cos\\left(\\theta\\right)^{6} + 6 \\, a^{4} r^{4} \\cos\\left(\\theta\\right)^{4} + 4 \\, a^{2} r^{6} \\cos\\left(\\theta\\right)^{2} + r^{8}} \\\\ X_{ \\, \\phi \\, \\theta \\, \\phi \\, \\theta }^{ \\phantom{\\, \\phi}\\phantom{\\, \\theta}\\phantom{\\, \\phi}\\phantom{\\, \\theta} } & = & -\\frac{3 \\, {\\left(a^{8} m r - 2 \\, a^{6} m^{2} r^{2} + a^{6} m r^{3}\\right)} \\sin\\left(\\theta\\right)^{8} + 4 \\, {\\left(3 \\, a^{6} m^{2} r^{2} + a^{6} m r^{3} + a^{4} m^{2} r^{4} + a^{4} m r^{5}\\right)} \\sin\\left(\\theta\\right)^{6} - {\\left(9 \\, a^{8} m r + 6 \\, a^{6} m^{2} r^{2} + 23 \\, a^{6} m r^{3} + 4 \\, a^{4} m^{2} r^{4} + 19 \\, a^{4} m r^{5} - 2 \\, a^{2} m^{2} r^{6} + 5 \\, a^{2} m r^{7}\\right)} \\sin\\left(\\theta\\right)^{4} + 2 \\, {\\left(3 \\, a^{8} m r + 8 \\, a^{6} m r^{3} + 6 \\, a^{4} m r^{5} - m r^{9}\\right)} \\sin\\left(\\theta\\right)^{2}}{a^{8} \\cos\\left(\\theta\\right)^{8} + 4 \\, a^{6} r^{2} \\cos\\left(\\theta\\right)^{6} + 6 \\, a^{4} r^{4} \\cos\\left(\\theta\\right)^{4} + 4 \\, a^{2} r^{6} \\cos\\left(\\theta\\right)^{2} + r^{8}} \\end{array}</script></html>"
      ],
      "text/latex": [
       "$$\\newcommand{\\Bold}[1]{\\mathbf{#1}}\\begin{array}{lcl} X_{ \\, t \\, r \\, t \\, r }^{ \\phantom{\\, t}\\phantom{\\, r}\\phantom{\\, t}\\phantom{\\, r} } & = & -\\frac{3 \\, a^{4} m r \\sin\\left(\\theta\\right)^{4} - 6 \\, a^{4} m r + 12 \\, a^{2} m^{2} r^{2} - 4 \\, a^{2} m r^{3} - 4 \\, m^{2} r^{4} + 2 \\, m r^{5} + {\\left(3 \\, a^{4} m r - 12 \\, a^{2} m^{2} r^{2} + 7 \\, a^{2} m r^{3}\\right)} \\sin\\left(\\theta\\right)^{2}}{a^{2} r^{6} - 2 \\, m r^{7} + r^{8} + {\\left(a^{8} - 2 \\, a^{6} m r + a^{6} r^{2}\\right)} \\cos\\left(\\theta\\right)^{6} + 3 \\, {\\left(a^{6} r^{2} - 2 \\, a^{4} m r^{3} + a^{4} r^{4}\\right)} \\cos\\left(\\theta\\right)^{4} + 3 \\, {\\left(a^{4} r^{4} - 2 \\, a^{2} m r^{5} + a^{2} r^{6}\\right)} \\cos\\left(\\theta\\right)^{2}} \\\\ X_{ \\, t \\, r \\, t \\, \\theta }^{ \\phantom{\\, t}\\phantom{\\, r}\\phantom{\\, t}\\phantom{\\, \\theta} } & = & -\\frac{3 \\, {\\left(a^{4} m \\cos\\left(\\theta\\right)^{3} - 3 \\, a^{2} m r^{2} \\cos\\left(\\theta\\right)\\right)} \\sin\\left(\\theta\\right)}{a^{6} \\cos\\left(\\theta\\right)^{6} + 3 \\, a^{4} r^{2} \\cos\\left(\\theta\\right)^{4} + 3 \\, a^{2} r^{4} \\cos\\left(\\theta\\right)^{2} + r^{6}} \\\\ X_{ \\, t \\, r \\, r \\, t }^{ \\phantom{\\, t}\\phantom{\\, r}\\phantom{\\, r}\\phantom{\\, t} } & = & \\frac{3 \\, a^{4} m r \\cos\\left(\\theta\\right)^{4} + 3 \\, a^{2} m r^{3} - 4 \\, m^{2} r^{4} + 2 \\, m r^{5} - {\\left(9 \\, a^{4} m r - 12 \\, a^{2} m^{2} r^{2} + 7 \\, a^{2} m r^{3}\\right)} \\cos\\left(\\theta\\right)^{2}}{a^{2} r^{6} - 2 \\, m r^{7} + r^{8} + {\\left(a^{8} - 2 \\, a^{6} m r + a^{6} r^{2}\\right)} \\cos\\left(\\theta\\right)^{6} + 3 \\, {\\left(a^{6} r^{2} - 2 \\, a^{4} m r^{3} + a^{4} r^{4}\\right)} \\cos\\left(\\theta\\right)^{4} + 3 \\, {\\left(a^{4} r^{4} - 2 \\, a^{2} m r^{5} + a^{2} r^{6}\\right)} \\cos\\left(\\theta\\right)^{2}} \\\\ X_{ \\, t \\, r \\, r \\, \\phi }^{ \\phantom{\\, t}\\phantom{\\, r}\\phantom{\\, r}\\phantom{\\, \\phi} } & = & -\\frac{3 \\, a^{3} m r^{3} - 4 \\, a m^{2} r^{4} + 3 \\, a m r^{5} + 3 \\, {\\left(3 \\, a^{5} m r - 4 \\, a^{3} m^{2} r^{2} + 3 \\, a^{3} m r^{3}\\right)} \\cos\\left(\\theta\\right)^{4} - {\\left(9 \\, a^{5} m r - 12 \\, a^{3} m^{2} r^{2} + 12 \\, a^{3} m r^{3} - 4 \\, a m^{2} r^{4} + 3 \\, a m r^{5}\\right)} \\cos\\left(\\theta\\right)^{2}}{a^{2} r^{6} - 2 \\, m r^{7} + r^{8} + {\\left(a^{8} - 2 \\, a^{6} m r + a^{6} r^{2}\\right)} \\cos\\left(\\theta\\right)^{6} + 3 \\, {\\left(a^{6} r^{2} - 2 \\, a^{4} m r^{3} + a^{4} r^{4}\\right)} \\cos\\left(\\theta\\right)^{4} + 3 \\, {\\left(a^{4} r^{4} - 2 \\, a^{2} m r^{5} + a^{2} r^{6}\\right)} \\cos\\left(\\theta\\right)^{2}} \\\\ X_{ \\, t \\, r \\, \\theta \\, t }^{ \\phantom{\\, t}\\phantom{\\, r}\\phantom{\\, \\theta}\\phantom{\\, t} } & = & \\frac{3 \\, {\\left(a^{4} m \\cos\\left(\\theta\\right)^{3} - 3 \\, a^{2} m r^{2} \\cos\\left(\\theta\\right)\\right)} \\sin\\left(\\theta\\right)}{a^{6} \\cos\\left(\\theta\\right)^{6} + 3 \\, a^{4} r^{2} \\cos\\left(\\theta\\right)^{4} + 3 \\, a^{2} r^{4} \\cos\\left(\\theta\\right)^{2} + r^{6}} \\\\ X_{ \\, t \\, r \\, \\theta \\, \\phi }^{ \\phantom{\\, t}\\phantom{\\, r}\\phantom{\\, \\theta}\\phantom{\\, \\phi} } & = & \\frac{{\\left(a^{5} m \\cos\\left(\\theta\\right)^{5} - {\\left(3 \\, a^{5} m + 5 \\, a^{3} m r^{2}\\right)} \\cos\\left(\\theta\\right)^{3} + 3 \\, {\\left(3 \\, a^{3} m r^{2} + 2 \\, a m r^{4}\\right)} \\cos\\left(\\theta\\right)\\right)} \\sin\\left(\\theta\\right)}{a^{6} \\cos\\left(\\theta\\right)^{6} + 3 \\, a^{4} r^{2} \\cos\\left(\\theta\\right)^{4} + 3 \\, a^{2} r^{4} \\cos\\left(\\theta\\right)^{2} + r^{6}} \\\\ X_{ \\, t \\, r \\, \\phi \\, r }^{ \\phantom{\\, t}\\phantom{\\, r}\\phantom{\\, \\phi}\\phantom{\\, r} } & = & \\frac{3 \\, {\\left(3 \\, a^{5} m r - 4 \\, a^{3} m^{2} r^{2} + 3 \\, a^{3} m r^{3}\\right)} \\sin\\left(\\theta\\right)^{4} - {\\left(9 \\, a^{5} m r - 12 \\, a^{3} m^{2} r^{2} + 6 \\, a^{3} m r^{3} + 4 \\, a m^{2} r^{4} - 3 \\, a m r^{5}\\right)} \\sin\\left(\\theta\\right)^{2}}{a^{2} r^{6} - 2 \\, m r^{7} + r^{8} + {\\left(a^{8} - 2 \\, a^{6} m r + a^{6} r^{2}\\right)} \\cos\\left(\\theta\\right)^{6} + 3 \\, {\\left(a^{6} r^{2} - 2 \\, a^{4} m r^{3} + a^{4} r^{4}\\right)} \\cos\\left(\\theta\\right)^{4} + 3 \\, {\\left(a^{4} r^{4} - 2 \\, a^{2} m r^{5} + a^{2} r^{6}\\right)} \\cos\\left(\\theta\\right)^{2}} \\\\ X_{ \\, t \\, r \\, \\phi \\, \\theta }^{ \\phantom{\\, t}\\phantom{\\, r}\\phantom{\\, \\phi}\\phantom{\\, \\theta} } & = & -\\frac{{\\left(a^{5} m \\cos\\left(\\theta\\right)^{5} - {\\left(3 \\, a^{5} m + 5 \\, a^{3} m r^{2}\\right)} \\cos\\left(\\theta\\right)^{3} + 3 \\, {\\left(3 \\, a^{3} m r^{2} + 2 \\, a m r^{4}\\right)} \\cos\\left(\\theta\\right)\\right)} \\sin\\left(\\theta\\right)}{a^{6} \\cos\\left(\\theta\\right)^{6} + 3 \\, a^{4} r^{2} \\cos\\left(\\theta\\right)^{4} + 3 \\, a^{2} r^{4} \\cos\\left(\\theta\\right)^{2} + r^{6}} \\\\ X_{ \\, t \\, \\theta \\, t \\, r }^{ \\phantom{\\, t}\\phantom{\\, \\theta}\\phantom{\\, t}\\phantom{\\, r} } & = & -\\frac{3 \\, {\\left(a^{4} m \\cos\\left(\\theta\\right)^{3} - 3 \\, a^{2} m r^{2} \\cos\\left(\\theta\\right)\\right)} \\sin\\left(\\theta\\right)}{a^{6} \\cos\\left(\\theta\\right)^{6} + 3 \\, a^{4} r^{2} \\cos\\left(\\theta\\right)^{4} + 3 \\, a^{2} r^{4} \\cos\\left(\\theta\\right)^{2} + r^{6}} \\\\ X_{ \\, t \\, \\theta \\, t \\, \\theta }^{ \\phantom{\\, t}\\phantom{\\, \\theta}\\phantom{\\, t}\\phantom{\\, \\theta} } & = & \\frac{6 \\, a^{4} m r \\cos\\left(\\theta\\right)^{4} + 3 \\, a^{2} m r^{3} - 2 \\, m^{2} r^{4} + m r^{5} - {\\left(9 \\, a^{4} m r - 6 \\, a^{2} m^{2} r^{2} + 5 \\, a^{2} m r^{3}\\right)} \\cos\\left(\\theta\\right)^{2}}{a^{6} \\cos\\left(\\theta\\right)^{6} + 3 \\, a^{4} r^{2} \\cos\\left(\\theta\\right)^{4} + 3 \\, a^{2} r^{4} \\cos\\left(\\theta\\right)^{2} + r^{6}} \\\\ X_{ \\, t \\, \\theta \\, r \\, t }^{ \\phantom{\\, t}\\phantom{\\, \\theta}\\phantom{\\, r}\\phantom{\\, t} } & = & \\frac{3 \\, {\\left(a^{4} m \\cos\\left(\\theta\\right)^{3} - 3 \\, a^{2} m r^{2} \\cos\\left(\\theta\\right)\\right)} \\sin\\left(\\theta\\right)}{a^{6} \\cos\\left(\\theta\\right)^{6} + 3 \\, a^{4} r^{2} \\cos\\left(\\theta\\right)^{4} + 3 \\, a^{2} r^{4} \\cos\\left(\\theta\\right)^{2} + r^{6}} \\\\ X_{ \\, t \\, \\theta \\, r \\, \\phi }^{ \\phantom{\\, t}\\phantom{\\, \\theta}\\phantom{\\, r}\\phantom{\\, \\phi} } & = & \\frac{{\\left(2 \\, a^{5} m \\cos\\left(\\theta\\right)^{5} - {\\left(3 \\, a^{5} m + 7 \\, a^{3} m r^{2}\\right)} \\cos\\left(\\theta\\right)^{3} + 3 \\, {\\left(3 \\, a^{3} m r^{2} + a m r^{4}\\right)} \\cos\\left(\\theta\\right)\\right)} \\sin\\left(\\theta\\right)}{a^{6} \\cos\\left(\\theta\\right)^{6} + 3 \\, a^{4} r^{2} \\cos\\left(\\theta\\right)^{4} + 3 \\, a^{2} r^{4} \\cos\\left(\\theta\\right)^{2} + r^{6}} \\\\ X_{ \\, t \\, \\theta \\, \\theta \\, t }^{ \\phantom{\\, t}\\phantom{\\, \\theta}\\phantom{\\, \\theta}\\phantom{\\, t} } & = & -\\frac{6 \\, a^{4} m r \\cos\\left(\\theta\\right)^{4} + 3 \\, a^{2} m r^{3} - 2 \\, m^{2} r^{4} + m r^{5} - {\\left(9 \\, a^{4} m r - 6 \\, a^{2} m^{2} r^{2} + 5 \\, a^{2} m r^{3}\\right)} \\cos\\left(\\theta\\right)^{2}}{a^{6} \\cos\\left(\\theta\\right)^{6} + 3 \\, a^{4} r^{2} \\cos\\left(\\theta\\right)^{4} + 3 \\, a^{2} r^{4} \\cos\\left(\\theta\\right)^{2} + r^{6}} \\\\ X_{ \\, t \\, \\theta \\, \\theta \\, \\phi }^{ \\phantom{\\, t}\\phantom{\\, \\theta}\\phantom{\\, \\theta}\\phantom{\\, \\phi} } & = & \\frac{3 \\, a^{3} m r^{3} - 2 \\, a m^{2} r^{4} + 3 \\, a m r^{5} + 3 \\, {\\left(3 \\, a^{5} m r - 2 \\, a^{3} m^{2} r^{2} + 3 \\, a^{3} m r^{3}\\right)} \\cos\\left(\\theta\\right)^{4} - {\\left(9 \\, a^{5} m r - 6 \\, a^{3} m^{2} r^{2} + 12 \\, a^{3} m r^{3} - 2 \\, a m^{2} r^{4} + 3 \\, a m r^{5}\\right)} \\cos\\left(\\theta\\right)^{2}}{a^{6} \\cos\\left(\\theta\\right)^{6} + 3 \\, a^{4} r^{2} \\cos\\left(\\theta\\right)^{4} + 3 \\, a^{2} r^{4} \\cos\\left(\\theta\\right)^{2} + r^{6}} \\\\ X_{ \\, t \\, \\theta \\, \\phi \\, r }^{ \\phantom{\\, t}\\phantom{\\, \\theta}\\phantom{\\, \\phi}\\phantom{\\, r} } & = & -\\frac{{\\left(2 \\, a^{5} m \\cos\\left(\\theta\\right)^{5} - {\\left(3 \\, a^{5} m + 7 \\, a^{3} m r^{2}\\right)} \\cos\\left(\\theta\\right)^{3} + 3 \\, {\\left(3 \\, a^{3} m r^{2} + a m r^{4}\\right)} \\cos\\left(\\theta\\right)\\right)} \\sin\\left(\\theta\\right)}{a^{6} \\cos\\left(\\theta\\right)^{6} + 3 \\, a^{4} r^{2} \\cos\\left(\\theta\\right)^{4} + 3 \\, a^{2} r^{4} \\cos\\left(\\theta\\right)^{2} + r^{6}} \\\\ X_{ \\, t \\, \\theta \\, \\phi \\, \\theta }^{ \\phantom{\\, t}\\phantom{\\, \\theta}\\phantom{\\, \\phi}\\phantom{\\, \\theta} } & = & -\\frac{3 \\, {\\left(3 \\, a^{5} m r - 2 \\, a^{3} m^{2} r^{2} + 3 \\, a^{3} m r^{3}\\right)} \\sin\\left(\\theta\\right)^{4} - {\\left(9 \\, a^{5} m r - 6 \\, a^{3} m^{2} r^{2} + 6 \\, a^{3} m r^{3} + 2 \\, a m^{2} r^{4} - 3 \\, a m r^{5}\\right)} \\sin\\left(\\theta\\right)^{2}}{a^{6} \\cos\\left(\\theta\\right)^{6} + 3 \\, a^{4} r^{2} \\cos\\left(\\theta\\right)^{4} + 3 \\, a^{2} r^{4} \\cos\\left(\\theta\\right)^{2} + r^{6}} \\\\ X_{ \\, t \\, \\phi \\, t \\, \\phi }^{ \\phantom{\\, t}\\phantom{\\, \\phi}\\phantom{\\, t}\\phantom{\\, \\phi} } & = & \\frac{3 \\, {\\left(a^{4} m r - 2 \\, a^{2} m^{2} r^{2} + a^{2} m r^{3}\\right)} \\sin\\left(\\theta\\right)^{4} - {\\left(3 \\, a^{4} m r - 6 \\, a^{2} m^{2} r^{2} + 2 \\, a^{2} m r^{3} + 2 \\, m^{2} r^{4} - m r^{5}\\right)} \\sin\\left(\\theta\\right)^{2}}{a^{6} \\cos\\left(\\theta\\right)^{6} + 3 \\, a^{4} r^{2} \\cos\\left(\\theta\\right)^{4} + 3 \\, a^{2} r^{4} \\cos\\left(\\theta\\right)^{2} + r^{6}} \\\\ X_{ \\, t \\, \\phi \\, r \\, \\theta }^{ \\phantom{\\, t}\\phantom{\\, \\phi}\\phantom{\\, r}\\phantom{\\, \\theta} } & = & \\frac{{\\left(a^{3} m \\cos\\left(\\theta\\right)^{3} - 3 \\, a m r^{2} \\cos\\left(\\theta\\right)\\right)} \\sin\\left(\\theta\\right)}{a^{4} \\cos\\left(\\theta\\right)^{4} + 2 \\, a^{2} r^{2} \\cos\\left(\\theta\\right)^{2} + r^{4}} \\\\ X_{ \\, t \\, \\phi \\, \\theta \\, r }^{ \\phantom{\\, t}\\phantom{\\, \\phi}\\phantom{\\, \\theta}\\phantom{\\, r} } & = & -\\frac{{\\left(a^{3} m \\cos\\left(\\theta\\right)^{3} - 3 \\, a m r^{2} \\cos\\left(\\theta\\right)\\right)} \\sin\\left(\\theta\\right)}{a^{4} \\cos\\left(\\theta\\right)^{4} + 2 \\, a^{2} r^{2} \\cos\\left(\\theta\\right)^{2} + r^{4}} \\\\ X_{ \\, t \\, \\phi \\, \\phi \\, t }^{ \\phantom{\\, t}\\phantom{\\, \\phi}\\phantom{\\, \\phi}\\phantom{\\, t} } & = & -\\frac{3 \\, {\\left(a^{4} m r - 2 \\, a^{2} m^{2} r^{2} + a^{2} m r^{3}\\right)} \\sin\\left(\\theta\\right)^{4} - {\\left(3 \\, a^{4} m r - 6 \\, a^{2} m^{2} r^{2} + 2 \\, a^{2} m r^{3} + 2 \\, m^{2} r^{4} - m r^{5}\\right)} \\sin\\left(\\theta\\right)^{2}}{a^{6} \\cos\\left(\\theta\\right)^{6} + 3 \\, a^{4} r^{2} \\cos\\left(\\theta\\right)^{4} + 3 \\, a^{2} r^{4} \\cos\\left(\\theta\\right)^{2} + r^{6}} \\\\ X_{ \\, r \\, t \\, t \\, r }^{ \\phantom{\\, r}\\phantom{\\, t}\\phantom{\\, t}\\phantom{\\, r} } & = & \\frac{3 \\, a^{4} m r \\cos\\left(\\theta\\right)^{4} + 3 \\, a^{2} m r^{3} - 4 \\, m^{2} r^{4} + 2 \\, m r^{5} - {\\left(9 \\, a^{4} m r - 12 \\, a^{2} m^{2} r^{2} + 7 \\, a^{2} m r^{3}\\right)} \\cos\\left(\\theta\\right)^{2}}{a^{2} r^{6} - 2 \\, m r^{7} + r^{8} + {\\left(a^{8} - 2 \\, a^{6} m r + a^{6} r^{2}\\right)} \\cos\\left(\\theta\\right)^{6} + 3 \\, {\\left(a^{6} r^{2} - 2 \\, a^{4} m r^{3} + a^{4} r^{4}\\right)} \\cos\\left(\\theta\\right)^{4} + 3 \\, {\\left(a^{4} r^{4} - 2 \\, a^{2} m r^{5} + a^{2} r^{6}\\right)} \\cos\\left(\\theta\\right)^{2}} \\\\ X_{ \\, r \\, t \\, t \\, \\theta }^{ \\phantom{\\, r}\\phantom{\\, t}\\phantom{\\, t}\\phantom{\\, \\theta} } & = & \\frac{3 \\, {\\left(a^{4} m \\cos\\left(\\theta\\right)^{3} - 3 \\, a^{2} m r^{2} \\cos\\left(\\theta\\right)\\right)} \\sin\\left(\\theta\\right)}{a^{6} \\cos\\left(\\theta\\right)^{6} + 3 \\, a^{4} r^{2} \\cos\\left(\\theta\\right)^{4} + 3 \\, a^{2} r^{4} \\cos\\left(\\theta\\right)^{2} + r^{6}} \\\\ X_{ \\, r \\, t \\, r \\, t }^{ \\phantom{\\, r}\\phantom{\\, t}\\phantom{\\, r}\\phantom{\\, t} } & = & -\\frac{3 \\, a^{4} m r \\cos\\left(\\theta\\right)^{4} + 3 \\, a^{2} m r^{3} - 4 \\, m^{2} r^{4} + 2 \\, m r^{5} - {\\left(9 \\, a^{4} m r - 12 \\, a^{2} m^{2} r^{2} + 7 \\, a^{2} m r^{3}\\right)} \\cos\\left(\\theta\\right)^{2}}{a^{2} r^{6} - 2 \\, m r^{7} + r^{8} + {\\left(a^{8} - 2 \\, a^{6} m r + a^{6} r^{2}\\right)} \\cos\\left(\\theta\\right)^{6} + 3 \\, {\\left(a^{6} r^{2} - 2 \\, a^{4} m r^{3} + a^{4} r^{4}\\right)} \\cos\\left(\\theta\\right)^{4} + 3 \\, {\\left(a^{4} r^{4} - 2 \\, a^{2} m r^{5} + a^{2} r^{6}\\right)} \\cos\\left(\\theta\\right)^{2}} \\\\ X_{ \\, r \\, t \\, r \\, \\phi }^{ \\phantom{\\, r}\\phantom{\\, t}\\phantom{\\, r}\\phantom{\\, \\phi} } & = & \\frac{3 \\, {\\left(3 \\, a^{5} m r - 4 \\, a^{3} m^{2} r^{2} + 3 \\, a^{3} m r^{3}\\right)} \\sin\\left(\\theta\\right)^{4} - {\\left(9 \\, a^{5} m r - 12 \\, a^{3} m^{2} r^{2} + 6 \\, a^{3} m r^{3} + 4 \\, a m^{2} r^{4} - 3 \\, a m r^{5}\\right)} \\sin\\left(\\theta\\right)^{2}}{a^{2} r^{6} - 2 \\, m r^{7} + r^{8} + {\\left(a^{8} - 2 \\, a^{6} m r + a^{6} r^{2}\\right)} \\cos\\left(\\theta\\right)^{6} + 3 \\, {\\left(a^{6} r^{2} - 2 \\, a^{4} m r^{3} + a^{4} r^{4}\\right)} \\cos\\left(\\theta\\right)^{4} + 3 \\, {\\left(a^{4} r^{4} - 2 \\, a^{2} m r^{5} + a^{2} r^{6}\\right)} \\cos\\left(\\theta\\right)^{2}} \\\\ X_{ \\, r \\, t \\, \\theta \\, t }^{ \\phantom{\\, r}\\phantom{\\, t}\\phantom{\\, \\theta}\\phantom{\\, t} } & = & -\\frac{3 \\, {\\left(a^{4} m \\cos\\left(\\theta\\right)^{3} - 3 \\, a^{2} m r^{2} \\cos\\left(\\theta\\right)\\right)} \\sin\\left(\\theta\\right)}{a^{6} \\cos\\left(\\theta\\right)^{6} + 3 \\, a^{4} r^{2} \\cos\\left(\\theta\\right)^{4} + 3 \\, a^{2} r^{4} \\cos\\left(\\theta\\right)^{2} + r^{6}} \\\\ X_{ \\, r \\, t \\, \\theta \\, \\phi }^{ \\phantom{\\, r}\\phantom{\\, t}\\phantom{\\, \\theta}\\phantom{\\, \\phi} } & = & -\\frac{{\\left(a^{5} m \\cos\\left(\\theta\\right)^{5} - {\\left(3 \\, a^{5} m + 5 \\, a^{3} m r^{2}\\right)} \\cos\\left(\\theta\\right)^{3} + 3 \\, {\\left(3 \\, a^{3} m r^{2} + 2 \\, a m r^{4}\\right)} \\cos\\left(\\theta\\right)\\right)} \\sin\\left(\\theta\\right)}{a^{6} \\cos\\left(\\theta\\right)^{6} + 3 \\, a^{4} r^{2} \\cos\\left(\\theta\\right)^{4} + 3 \\, a^{2} r^{4} \\cos\\left(\\theta\\right)^{2} + r^{6}} \\\\ X_{ \\, r \\, t \\, \\phi \\, r }^{ \\phantom{\\, r}\\phantom{\\, t}\\phantom{\\, \\phi}\\phantom{\\, r} } & = & -\\frac{3 \\, {\\left(3 \\, a^{5} m r - 4 \\, a^{3} m^{2} r^{2} + 3 \\, a^{3} m r^{3}\\right)} \\sin\\left(\\theta\\right)^{4} - {\\left(9 \\, a^{5} m r - 12 \\, a^{3} m^{2} r^{2} + 6 \\, a^{3} m r^{3} + 4 \\, a m^{2} r^{4} - 3 \\, a m r^{5}\\right)} \\sin\\left(\\theta\\right)^{2}}{a^{2} r^{6} - 2 \\, m r^{7} + r^{8} + {\\left(a^{8} - 2 \\, a^{6} m r + a^{6} r^{2}\\right)} \\cos\\left(\\theta\\right)^{6} + 3 \\, {\\left(a^{6} r^{2} - 2 \\, a^{4} m r^{3} + a^{4} r^{4}\\right)} \\cos\\left(\\theta\\right)^{4} + 3 \\, {\\left(a^{4} r^{4} - 2 \\, a^{2} m r^{5} + a^{2} r^{6}\\right)} \\cos\\left(\\theta\\right)^{2}} \\\\ X_{ \\, r \\, t \\, \\phi \\, \\theta }^{ \\phantom{\\, r}\\phantom{\\, t}\\phantom{\\, \\phi}\\phantom{\\, \\theta} } & = & \\frac{{\\left(a^{5} m \\cos\\left(\\theta\\right)^{5} - {\\left(3 \\, a^{5} m + 5 \\, a^{3} m r^{2}\\right)} \\cos\\left(\\theta\\right)^{3} + 3 \\, {\\left(3 \\, a^{3} m r^{2} + 2 \\, a m r^{4}\\right)} \\cos\\left(\\theta\\right)\\right)} \\sin\\left(\\theta\\right)}{a^{6} \\cos\\left(\\theta\\right)^{6} + 3 \\, a^{4} r^{2} \\cos\\left(\\theta\\right)^{4} + 3 \\, a^{2} r^{4} \\cos\\left(\\theta\\right)^{2} + r^{6}} \\\\ X_{ \\, r \\, \\theta \\, t \\, \\phi }^{ \\phantom{\\, r}\\phantom{\\, \\theta}\\phantom{\\, t}\\phantom{\\, \\phi} } & = & \\frac{{\\left(a^{3} m \\cos\\left(\\theta\\right)^{3} - 3 \\, a m r^{2} \\cos\\left(\\theta\\right)\\right)} \\sin\\left(\\theta\\right)}{a^{4} \\cos\\left(\\theta\\right)^{4} + 2 \\, a^{2} r^{2} \\cos\\left(\\theta\\right)^{2} + r^{4}} \\\\ X_{ \\, r \\, \\theta \\, r \\, \\theta }^{ \\phantom{\\, r}\\phantom{\\, \\theta}\\phantom{\\, r}\\phantom{\\, \\theta} } & = & \\frac{3 \\, a^{2} m r \\cos\\left(\\theta\\right)^{2} - m r^{3}}{a^{2} r^{2} - 2 \\, m r^{3} + r^{4} + {\\left(a^{4} - 2 \\, a^{2} m r + a^{2} r^{2}\\right)} \\cos\\left(\\theta\\right)^{2}} \\\\ X_{ \\, r \\, \\theta \\, \\theta \\, r }^{ \\phantom{\\, r}\\phantom{\\, \\theta}\\phantom{\\, \\theta}\\phantom{\\, r} } & = & -\\frac{3 \\, a^{2} m r \\cos\\left(\\theta\\right)^{2} - m r^{3}}{a^{2} r^{2} - 2 \\, m r^{3} + r^{4} + {\\left(a^{4} - 2 \\, a^{2} m r + a^{2} r^{2}\\right)} \\cos\\left(\\theta\\right)^{2}} \\\\ X_{ \\, r \\, \\theta \\, \\phi \\, t }^{ \\phantom{\\, r}\\phantom{\\, \\theta}\\phantom{\\, \\phi}\\phantom{\\, t} } & = & -\\frac{{\\left(a^{3} m \\cos\\left(\\theta\\right)^{3} - 3 \\, a m r^{2} \\cos\\left(\\theta\\right)\\right)} \\sin\\left(\\theta\\right)}{a^{4} \\cos\\left(\\theta\\right)^{4} + 2 \\, a^{2} r^{2} \\cos\\left(\\theta\\right)^{2} + r^{4}} \\\\ X_{ \\, r \\, \\phi \\, t \\, r }^{ \\phantom{\\, r}\\phantom{\\, \\phi}\\phantom{\\, t}\\phantom{\\, r} } & = & -\\frac{{\\left(3 \\, a^{3} m r^{3} - 4 \\, a m^{2} r^{4} + 3 \\, a m r^{5} - 3 \\, {\\left(3 \\, a^{5} m r - 4 \\, a^{3} m^{2} r^{2} + 3 \\, a^{3} m r^{3}\\right)} \\cos\\left(\\theta\\right)^{2}\\right)} \\sin\\left(\\theta\\right)^{2}}{a^{2} r^{6} - 2 \\, m r^{7} + r^{8} + {\\left(a^{8} - 2 \\, a^{6} m r + a^{6} r^{2}\\right)} \\cos\\left(\\theta\\right)^{6} + 3 \\, {\\left(a^{6} r^{2} - 2 \\, a^{4} m r^{3} + a^{4} r^{4}\\right)} \\cos\\left(\\theta\\right)^{4} + 3 \\, {\\left(a^{4} r^{4} - 2 \\, a^{2} m r^{5} + a^{2} r^{6}\\right)} \\cos\\left(\\theta\\right)^{2}} \\\\ X_{ \\, r \\, \\phi \\, t \\, \\theta }^{ \\phantom{\\, r}\\phantom{\\, \\phi}\\phantom{\\, t}\\phantom{\\, \\theta} } & = & \\frac{{\\left(2 \\, a^{5} m \\cos\\left(\\theta\\right)^{5} - {\\left(3 \\, a^{5} m + 7 \\, a^{3} m r^{2}\\right)} \\cos\\left(\\theta\\right)^{3} + 3 \\, {\\left(3 \\, a^{3} m r^{2} + a m r^{4}\\right)} \\cos\\left(\\theta\\right)\\right)} \\sin\\left(\\theta\\right)}{a^{6} \\cos\\left(\\theta\\right)^{6} + 3 \\, a^{4} r^{2} \\cos\\left(\\theta\\right)^{4} + 3 \\, a^{2} r^{4} \\cos\\left(\\theta\\right)^{2} + r^{6}} \\\\ X_{ \\, r \\, \\phi \\, r \\, t }^{ \\phantom{\\, r}\\phantom{\\, \\phi}\\phantom{\\, r}\\phantom{\\, t} } & = & \\frac{{\\left(3 \\, a^{3} m r^{3} - 4 \\, a m^{2} r^{4} + 3 \\, a m r^{5} - 3 \\, {\\left(3 \\, a^{5} m r - 4 \\, a^{3} m^{2} r^{2} + 3 \\, a^{3} m r^{3}\\right)} \\cos\\left(\\theta\\right)^{2}\\right)} \\sin\\left(\\theta\\right)^{2}}{a^{2} r^{6} - 2 \\, m r^{7} + r^{8} + {\\left(a^{8} - 2 \\, a^{6} m r + a^{6} r^{2}\\right)} \\cos\\left(\\theta\\right)^{6} + 3 \\, {\\left(a^{6} r^{2} - 2 \\, a^{4} m r^{3} + a^{4} r^{4}\\right)} \\cos\\left(\\theta\\right)^{4} + 3 \\, {\\left(a^{4} r^{4} - 2 \\, a^{2} m r^{5} + a^{2} r^{6}\\right)} \\cos\\left(\\theta\\right)^{2}} \\\\ X_{ \\, r \\, \\phi \\, r \\, \\phi }^{ \\phantom{\\, r}\\phantom{\\, \\phi}\\phantom{\\, r}\\phantom{\\, \\phi} } & = & -\\frac{6 \\, {\\left(a^{6} m r - 2 \\, a^{4} m^{2} r^{2} + a^{4} m r^{3}\\right)} \\sin\\left(\\theta\\right)^{6} - {\\left(3 \\, a^{6} m r - 12 \\, a^{4} m^{2} r^{2} - 2 \\, a^{4} m r^{3} + 4 \\, a^{2} m^{2} r^{4} - 5 \\, a^{2} m r^{5}\\right)} \\sin\\left(\\theta\\right)^{4} - {\\left(3 \\, a^{6} m r + 5 \\, a^{4} m r^{3} + a^{2} m r^{5} - m r^{7}\\right)} \\sin\\left(\\theta\\right)^{2}}{a^{2} r^{6} - 2 \\, m r^{7} + r^{8} + {\\left(a^{8} - 2 \\, a^{6} m r + a^{6} r^{2}\\right)} \\cos\\left(\\theta\\right)^{6} + 3 \\, {\\left(a^{6} r^{2} - 2 \\, a^{4} m r^{3} + a^{4} r^{4}\\right)} \\cos\\left(\\theta\\right)^{4} + 3 \\, {\\left(a^{4} r^{4} - 2 \\, a^{2} m r^{5} + a^{2} r^{6}\\right)} \\cos\\left(\\theta\\right)^{2}} \\\\ X_{ \\, r \\, \\phi \\, \\theta \\, t }^{ \\phantom{\\, r}\\phantom{\\, \\phi}\\phantom{\\, \\theta}\\phantom{\\, t} } & = & -\\frac{{\\left(2 \\, a^{5} m \\cos\\left(\\theta\\right)^{5} - {\\left(3 \\, a^{5} m + 7 \\, a^{3} m r^{2}\\right)} \\cos\\left(\\theta\\right)^{3} + 3 \\, {\\left(3 \\, a^{3} m r^{2} + a m r^{4}\\right)} \\cos\\left(\\theta\\right)\\right)} \\sin\\left(\\theta\\right)}{a^{6} \\cos\\left(\\theta\\right)^{6} + 3 \\, a^{4} r^{2} \\cos\\left(\\theta\\right)^{4} + 3 \\, a^{2} r^{4} \\cos\\left(\\theta\\right)^{2} + r^{6}} \\\\ X_{ \\, r \\, \\phi \\, \\theta \\, \\phi }^{ \\phantom{\\, r}\\phantom{\\, \\phi}\\phantom{\\, \\theta}\\phantom{\\, \\phi} } & = & \\frac{3 \\, {\\left({\\left(a^{6} m + a^{4} m r^{2}\\right)} \\cos\\left(\\theta\\right) \\sin\\left(\\theta\\right)^{5} - {\\left(a^{6} m - 2 \\, a^{4} m r^{2} - 3 \\, a^{2} m r^{4}\\right)} \\cos\\left(\\theta\\right) \\sin\\left(\\theta\\right)^{3}\\right)}}{a^{6} \\cos\\left(\\theta\\right)^{6} + 3 \\, a^{4} r^{2} \\cos\\left(\\theta\\right)^{4} + 3 \\, a^{2} r^{4} \\cos\\left(\\theta\\right)^{2} + r^{6}} \\\\ X_{ \\, r \\, \\phi \\, \\phi \\, r }^{ \\phantom{\\, r}\\phantom{\\, \\phi}\\phantom{\\, \\phi}\\phantom{\\, r} } & = & \\frac{6 \\, {\\left(a^{6} m r - 2 \\, a^{4} m^{2} r^{2} + a^{4} m r^{3}\\right)} \\sin\\left(\\theta\\right)^{6} - {\\left(3 \\, a^{6} m r - 12 \\, a^{4} m^{2} r^{2} - 2 \\, a^{4} m r^{3} + 4 \\, a^{2} m^{2} r^{4} - 5 \\, a^{2} m r^{5}\\right)} \\sin\\left(\\theta\\right)^{4} - {\\left(3 \\, a^{6} m r + 5 \\, a^{4} m r^{3} + a^{2} m r^{5} - m r^{7}\\right)} \\sin\\left(\\theta\\right)^{2}}{a^{2} r^{6} - 2 \\, m r^{7} + r^{8} + {\\left(a^{8} - 2 \\, a^{6} m r + a^{6} r^{2}\\right)} \\cos\\left(\\theta\\right)^{6} + 3 \\, {\\left(a^{6} r^{2} - 2 \\, a^{4} m r^{3} + a^{4} r^{4}\\right)} \\cos\\left(\\theta\\right)^{4} + 3 \\, {\\left(a^{4} r^{4} - 2 \\, a^{2} m r^{5} + a^{2} r^{6}\\right)} \\cos\\left(\\theta\\right)^{2}} \\\\ X_{ \\, r \\, \\phi \\, \\phi \\, \\theta }^{ \\phantom{\\, r}\\phantom{\\, \\phi}\\phantom{\\, \\phi}\\phantom{\\, \\theta} } & = & -\\frac{3 \\, {\\left({\\left(a^{6} m + a^{4} m r^{2}\\right)} \\cos\\left(\\theta\\right) \\sin\\left(\\theta\\right)^{5} - {\\left(a^{6} m - 2 \\, a^{4} m r^{2} - 3 \\, a^{2} m r^{4}\\right)} \\cos\\left(\\theta\\right) \\sin\\left(\\theta\\right)^{3}\\right)}}{a^{6} \\cos\\left(\\theta\\right)^{6} + 3 \\, a^{4} r^{2} \\cos\\left(\\theta\\right)^{4} + 3 \\, a^{2} r^{4} \\cos\\left(\\theta\\right)^{2} + r^{6}} \\\\ X_{ \\, \\theta \\, t \\, t \\, r }^{ \\phantom{\\, \\theta}\\phantom{\\, t}\\phantom{\\, t}\\phantom{\\, r} } & = & \\frac{3 \\, {\\left(a^{4} m \\cos\\left(\\theta\\right)^{3} - 3 \\, a^{2} m r^{2} \\cos\\left(\\theta\\right)\\right)} \\sin\\left(\\theta\\right)}{a^{6} \\cos\\left(\\theta\\right)^{6} + 3 \\, a^{4} r^{2} \\cos\\left(\\theta\\right)^{4} + 3 \\, a^{2} r^{4} \\cos\\left(\\theta\\right)^{2} + r^{6}} \\\\ X_{ \\, \\theta \\, t \\, t \\, \\theta }^{ \\phantom{\\, \\theta}\\phantom{\\, t}\\phantom{\\, t}\\phantom{\\, \\theta} } & = & -\\frac{6 \\, a^{4} m r \\sin\\left(\\theta\\right)^{4} - 3 \\, a^{4} m r + 6 \\, a^{2} m^{2} r^{2} - 2 \\, a^{2} m r^{3} - 2 \\, m^{2} r^{4} + m r^{5} - {\\left(3 \\, a^{4} m r + 6 \\, a^{2} m^{2} r^{2} - 5 \\, a^{2} m r^{3}\\right)} \\sin\\left(\\theta\\right)^{2}}{a^{6} \\cos\\left(\\theta\\right)^{6} + 3 \\, a^{4} r^{2} \\cos\\left(\\theta\\right)^{4} + 3 \\, a^{2} r^{4} \\cos\\left(\\theta\\right)^{2} + r^{6}} \\\\ X_{ \\, \\theta \\, t \\, r \\, t }^{ \\phantom{\\, \\theta}\\phantom{\\, t}\\phantom{\\, r}\\phantom{\\, t} } & = & -\\frac{3 \\, {\\left(a^{4} m \\cos\\left(\\theta\\right)^{3} - 3 \\, a^{2} m r^{2} \\cos\\left(\\theta\\right)\\right)} \\sin\\left(\\theta\\right)}{a^{6} \\cos\\left(\\theta\\right)^{6} + 3 \\, a^{4} r^{2} \\cos\\left(\\theta\\right)^{4} + 3 \\, a^{2} r^{4} \\cos\\left(\\theta\\right)^{2} + r^{6}} \\\\ X_{ \\, \\theta \\, t \\, r \\, \\phi }^{ \\phantom{\\, \\theta}\\phantom{\\, t}\\phantom{\\, r}\\phantom{\\, \\phi} } & = & -\\frac{{\\left(2 \\, a^{5} m \\cos\\left(\\theta\\right)^{5} - {\\left(3 \\, a^{5} m + 7 \\, a^{3} m r^{2}\\right)} \\cos\\left(\\theta\\right)^{3} + 3 \\, {\\left(3 \\, a^{3} m r^{2} + a m r^{4}\\right)} \\cos\\left(\\theta\\right)\\right)} \\sin\\left(\\theta\\right)}{a^{6} \\cos\\left(\\theta\\right)^{6} + 3 \\, a^{4} r^{2} \\cos\\left(\\theta\\right)^{4} + 3 \\, a^{2} r^{4} \\cos\\left(\\theta\\right)^{2} + r^{6}} \\\\ X_{ \\, \\theta \\, t \\, \\theta \\, t }^{ \\phantom{\\, \\theta}\\phantom{\\, t}\\phantom{\\, \\theta}\\phantom{\\, t} } & = & \\frac{6 \\, a^{4} m r \\cos\\left(\\theta\\right)^{4} + 3 \\, a^{2} m r^{3} - 2 \\, m^{2} r^{4} + m r^{5} - {\\left(9 \\, a^{4} m r - 6 \\, a^{2} m^{2} r^{2} + 5 \\, a^{2} m r^{3}\\right)} \\cos\\left(\\theta\\right)^{2}}{a^{6} \\cos\\left(\\theta\\right)^{6} + 3 \\, a^{4} r^{2} \\cos\\left(\\theta\\right)^{4} + 3 \\, a^{2} r^{4} \\cos\\left(\\theta\\right)^{2} + r^{6}} \\\\ X_{ \\, \\theta \\, t \\, \\theta \\, \\phi }^{ \\phantom{\\, \\theta}\\phantom{\\, t}\\phantom{\\, \\theta}\\phantom{\\, \\phi} } & = & -\\frac{3 \\, {\\left(3 \\, a^{5} m r - 2 \\, a^{3} m^{2} r^{2} + 3 \\, a^{3} m r^{3}\\right)} \\sin\\left(\\theta\\right)^{4} - {\\left(9 \\, a^{5} m r - 6 \\, a^{3} m^{2} r^{2} + 6 \\, a^{3} m r^{3} + 2 \\, a m^{2} r^{4} - 3 \\, a m r^{5}\\right)} \\sin\\left(\\theta\\right)^{2}}{a^{6} \\cos\\left(\\theta\\right)^{6} + 3 \\, a^{4} r^{2} \\cos\\left(\\theta\\right)^{4} + 3 \\, a^{2} r^{4} \\cos\\left(\\theta\\right)^{2} + r^{6}} \\\\ X_{ \\, \\theta \\, t \\, \\phi \\, r }^{ \\phantom{\\, \\theta}\\phantom{\\, t}\\phantom{\\, \\phi}\\phantom{\\, r} } & = & \\frac{{\\left(2 \\, a^{5} m \\cos\\left(\\theta\\right)^{5} - {\\left(3 \\, a^{5} m + 7 \\, a^{3} m r^{2}\\right)} \\cos\\left(\\theta\\right)^{3} + 3 \\, {\\left(3 \\, a^{3} m r^{2} + a m r^{4}\\right)} \\cos\\left(\\theta\\right)\\right)} \\sin\\left(\\theta\\right)}{a^{6} \\cos\\left(\\theta\\right)^{6} + 3 \\, a^{4} r^{2} \\cos\\left(\\theta\\right)^{4} + 3 \\, a^{2} r^{4} \\cos\\left(\\theta\\right)^{2} + r^{6}} \\\\ X_{ \\, \\theta \\, t \\, \\phi \\, \\theta }^{ \\phantom{\\, \\theta}\\phantom{\\, t}\\phantom{\\, \\phi}\\phantom{\\, \\theta} } & = & \\frac{3 \\, {\\left(3 \\, a^{5} m r - 2 \\, a^{3} m^{2} r^{2} + 3 \\, a^{3} m r^{3}\\right)} \\sin\\left(\\theta\\right)^{4} - {\\left(9 \\, a^{5} m r - 6 \\, a^{3} m^{2} r^{2} + 6 \\, a^{3} m r^{3} + 2 \\, a m^{2} r^{4} - 3 \\, a m r^{5}\\right)} \\sin\\left(\\theta\\right)^{2}}{a^{6} \\cos\\left(\\theta\\right)^{6} + 3 \\, a^{4} r^{2} \\cos\\left(\\theta\\right)^{4} + 3 \\, a^{2} r^{4} \\cos\\left(\\theta\\right)^{2} + r^{6}} \\\\ X_{ \\, \\theta \\, r \\, t \\, \\phi }^{ \\phantom{\\, \\theta}\\phantom{\\, r}\\phantom{\\, t}\\phantom{\\, \\phi} } & = & -\\frac{{\\left(a^{3} m \\cos\\left(\\theta\\right)^{3} - 3 \\, a m r^{2} \\cos\\left(\\theta\\right)\\right)} \\sin\\left(\\theta\\right)}{a^{4} \\cos\\left(\\theta\\right)^{4} + 2 \\, a^{2} r^{2} \\cos\\left(\\theta\\right)^{2} + r^{4}} \\\\ X_{ \\, \\theta \\, r \\, r \\, \\theta }^{ \\phantom{\\, \\theta}\\phantom{\\, r}\\phantom{\\, r}\\phantom{\\, \\theta} } & = & -\\frac{3 \\, a^{2} m r \\cos\\left(\\theta\\right)^{2} - m r^{3}}{a^{2} r^{2} - 2 \\, m r^{3} + r^{4} + {\\left(a^{4} - 2 \\, a^{2} m r + a^{2} r^{2}\\right)} \\cos\\left(\\theta\\right)^{2}} \\\\ X_{ \\, \\theta \\, r \\, \\theta \\, r }^{ \\phantom{\\, \\theta}\\phantom{\\, r}\\phantom{\\, \\theta}\\phantom{\\, r} } & = & \\frac{3 \\, a^{2} m r \\cos\\left(\\theta\\right)^{2} - m r^{3}}{a^{2} r^{2} - 2 \\, m r^{3} + r^{4} + {\\left(a^{4} - 2 \\, a^{2} m r + a^{2} r^{2}\\right)} \\cos\\left(\\theta\\right)^{2}} \\\\ X_{ \\, \\theta \\, r \\, \\phi \\, t }^{ \\phantom{\\, \\theta}\\phantom{\\, r}\\phantom{\\, \\phi}\\phantom{\\, t} } & = & \\frac{{\\left(a^{3} m \\cos\\left(\\theta\\right)^{3} - 3 \\, a m r^{2} \\cos\\left(\\theta\\right)\\right)} \\sin\\left(\\theta\\right)}{a^{4} \\cos\\left(\\theta\\right)^{4} + 2 \\, a^{2} r^{2} \\cos\\left(\\theta\\right)^{2} + r^{4}} \\\\ X_{ \\, \\theta \\, \\phi \\, t \\, r }^{ \\phantom{\\, \\theta}\\phantom{\\, \\phi}\\phantom{\\, t}\\phantom{\\, r} } & = & \\frac{{\\left(a^{5} m \\cos\\left(\\theta\\right)^{5} - {\\left(3 \\, a^{5} m + 5 \\, a^{3} m r^{2}\\right)} \\cos\\left(\\theta\\right)^{3} + 3 \\, {\\left(3 \\, a^{3} m r^{2} + 2 \\, a m r^{4}\\right)} \\cos\\left(\\theta\\right)\\right)} \\sin\\left(\\theta\\right)}{a^{6} \\cos\\left(\\theta\\right)^{6} + 3 \\, a^{4} r^{2} \\cos\\left(\\theta\\right)^{4} + 3 \\, a^{2} r^{4} \\cos\\left(\\theta\\right)^{2} + r^{6}} \\\\ X_{ \\, \\theta \\, \\phi \\, t \\, \\theta }^{ \\phantom{\\, \\theta}\\phantom{\\, \\phi}\\phantom{\\, t}\\phantom{\\, \\theta} } & = & \\frac{3 \\, {\\left(3 \\, a^{5} m r - 2 \\, a^{3} m^{2} r^{2} + 3 \\, a^{3} m r^{3}\\right)} \\sin\\left(\\theta\\right)^{4} - {\\left(9 \\, a^{5} m r - 6 \\, a^{3} m^{2} r^{2} + 6 \\, a^{3} m r^{3} + 2 \\, a m^{2} r^{4} - 3 \\, a m r^{5}\\right)} \\sin\\left(\\theta\\right)^{2}}{a^{6} \\cos\\left(\\theta\\right)^{6} + 3 \\, a^{4} r^{2} \\cos\\left(\\theta\\right)^{4} + 3 \\, a^{2} r^{4} \\cos\\left(\\theta\\right)^{2} + r^{6}} \\\\ X_{ \\, \\theta \\, \\phi \\, r \\, t }^{ \\phantom{\\, \\theta}\\phantom{\\, \\phi}\\phantom{\\, r}\\phantom{\\, t} } & = & -\\frac{{\\left(a^{5} m \\cos\\left(\\theta\\right)^{5} - {\\left(3 \\, a^{5} m + 5 \\, a^{3} m r^{2}\\right)} \\cos\\left(\\theta\\right)^{3} + 3 \\, {\\left(3 \\, a^{3} m r^{2} + 2 \\, a m r^{4}\\right)} \\cos\\left(\\theta\\right)\\right)} \\sin\\left(\\theta\\right)}{a^{6} \\cos\\left(\\theta\\right)^{6} + 3 \\, a^{4} r^{2} \\cos\\left(\\theta\\right)^{4} + 3 \\, a^{2} r^{4} \\cos\\left(\\theta\\right)^{2} + r^{6}} \\\\ X_{ \\, \\theta \\, \\phi \\, r \\, \\phi }^{ \\phantom{\\, \\theta}\\phantom{\\, \\phi}\\phantom{\\, r}\\phantom{\\, \\phi} } & = & \\frac{3 \\, {\\left({\\left(a^{6} m + a^{4} m r^{2}\\right)} \\cos\\left(\\theta\\right) \\sin\\left(\\theta\\right)^{5} - {\\left(a^{6} m - 2 \\, a^{4} m r^{2} - 3 \\, a^{2} m r^{4}\\right)} \\cos\\left(\\theta\\right) \\sin\\left(\\theta\\right)^{3}\\right)}}{a^{6} \\cos\\left(\\theta\\right)^{6} + 3 \\, a^{4} r^{2} \\cos\\left(\\theta\\right)^{4} + 3 \\, a^{2} r^{4} \\cos\\left(\\theta\\right)^{2} + r^{6}} \\\\ X_{ \\, \\theta \\, \\phi \\, \\theta \\, t }^{ \\phantom{\\, \\theta}\\phantom{\\, \\phi}\\phantom{\\, \\theta}\\phantom{\\, t} } & = & -\\frac{3 \\, {\\left(3 \\, a^{5} m r - 2 \\, a^{3} m^{2} r^{2} + 3 \\, a^{3} m r^{3}\\right)} \\sin\\left(\\theta\\right)^{4} - {\\left(9 \\, a^{5} m r - 6 \\, a^{3} m^{2} r^{2} + 6 \\, a^{3} m r^{3} + 2 \\, a m^{2} r^{4} - 3 \\, a m r^{5}\\right)} \\sin\\left(\\theta\\right)^{2}}{a^{6} \\cos\\left(\\theta\\right)^{6} + 3 \\, a^{4} r^{2} \\cos\\left(\\theta\\right)^{4} + 3 \\, a^{2} r^{4} \\cos\\left(\\theta\\right)^{2} + r^{6}} \\\\ X_{ \\, \\theta \\, \\phi \\, \\theta \\, \\phi }^{ \\phantom{\\, \\theta}\\phantom{\\, \\phi}\\phantom{\\, \\theta}\\phantom{\\, \\phi} } & = & \\frac{3 \\, {\\left(a^{6} m r - 2 \\, a^{4} m^{2} r^{2} + a^{4} m r^{3}\\right)} \\sin\\left(\\theta\\right)^{6} + {\\left(3 \\, a^{6} m r + 6 \\, a^{4} m^{2} r^{2} + 10 \\, a^{4} m r^{3} - 2 \\, a^{2} m^{2} r^{4} + 7 \\, a^{2} m r^{5}\\right)} \\sin\\left(\\theta\\right)^{4} - 2 \\, {\\left(3 \\, a^{6} m r + 5 \\, a^{4} m r^{3} + a^{2} m r^{5} - m r^{7}\\right)} \\sin\\left(\\theta\\right)^{2}}{a^{6} \\cos\\left(\\theta\\right)^{6} + 3 \\, a^{4} r^{2} \\cos\\left(\\theta\\right)^{4} + 3 \\, a^{2} r^{4} \\cos\\left(\\theta\\right)^{2} + r^{6}} \\\\ X_{ \\, \\theta \\, \\phi \\, \\phi \\, r }^{ \\phantom{\\, \\theta}\\phantom{\\, \\phi}\\phantom{\\, \\phi}\\phantom{\\, r} } & = & -\\frac{3 \\, {\\left({\\left(a^{6} m + a^{4} m r^{2}\\right)} \\cos\\left(\\theta\\right) \\sin\\left(\\theta\\right)^{5} - {\\left(a^{6} m - 2 \\, a^{4} m r^{2} - 3 \\, a^{2} m r^{4}\\right)} \\cos\\left(\\theta\\right) \\sin\\left(\\theta\\right)^{3}\\right)}}{a^{6} \\cos\\left(\\theta\\right)^{6} + 3 \\, a^{4} r^{2} \\cos\\left(\\theta\\right)^{4} + 3 \\, a^{2} r^{4} \\cos\\left(\\theta\\right)^{2} + r^{6}} \\\\ X_{ \\, \\theta \\, \\phi \\, \\phi \\, \\theta }^{ \\phantom{\\, \\theta}\\phantom{\\, \\phi}\\phantom{\\, \\phi}\\phantom{\\, \\theta} } & = & -\\frac{3 \\, {\\left(a^{6} m r - 2 \\, a^{4} m^{2} r^{2} + a^{4} m r^{3}\\right)} \\sin\\left(\\theta\\right)^{6} + {\\left(3 \\, a^{6} m r + 6 \\, a^{4} m^{2} r^{2} + 10 \\, a^{4} m r^{3} - 2 \\, a^{2} m^{2} r^{4} + 7 \\, a^{2} m r^{5}\\right)} \\sin\\left(\\theta\\right)^{4} - 2 \\, {\\left(3 \\, a^{6} m r + 5 \\, a^{4} m r^{3} + a^{2} m r^{5} - m r^{7}\\right)} \\sin\\left(\\theta\\right)^{2}}{a^{6} \\cos\\left(\\theta\\right)^{6} + 3 \\, a^{4} r^{2} \\cos\\left(\\theta\\right)^{4} + 3 \\, a^{2} r^{4} \\cos\\left(\\theta\\right)^{2} + r^{6}} \\\\ X_{ \\, \\phi \\, t \\, t \\, \\phi }^{ \\phantom{\\, \\phi}\\phantom{\\, t}\\phantom{\\, t}\\phantom{\\, \\phi} } & = & -\\frac{3 \\, {\\left(a^{4} m r - 2 \\, a^{2} m^{2} r^{2} + a^{2} m r^{3}\\right)} \\sin\\left(\\theta\\right)^{4} - {\\left(3 \\, a^{4} m r - 6 \\, a^{2} m^{2} r^{2} + 2 \\, a^{2} m r^{3} + 2 \\, m^{2} r^{4} - m r^{5}\\right)} \\sin\\left(\\theta\\right)^{2}}{a^{6} \\cos\\left(\\theta\\right)^{6} + 3 \\, a^{4} r^{2} \\cos\\left(\\theta\\right)^{4} + 3 \\, a^{2} r^{4} \\cos\\left(\\theta\\right)^{2} + r^{6}} \\\\ X_{ \\, \\phi \\, t \\, r \\, \\theta }^{ \\phantom{\\, \\phi}\\phantom{\\, t}\\phantom{\\, r}\\phantom{\\, \\theta} } & = & -\\frac{{\\left(a^{3} m \\cos\\left(\\theta\\right)^{3} - 3 \\, a m r^{2} \\cos\\left(\\theta\\right)\\right)} \\sin\\left(\\theta\\right)}{a^{4} \\cos\\left(\\theta\\right)^{4} + 2 \\, a^{2} r^{2} \\cos\\left(\\theta\\right)^{2} + r^{4}} \\\\ X_{ \\, \\phi \\, t \\, \\theta \\, r }^{ \\phantom{\\, \\phi}\\phantom{\\, t}\\phantom{\\, \\theta}\\phantom{\\, r} } & = & \\frac{{\\left(a^{3} m \\cos\\left(\\theta\\right)^{3} - 3 \\, a m r^{2} \\cos\\left(\\theta\\right)\\right)} \\sin\\left(\\theta\\right)}{a^{4} \\cos\\left(\\theta\\right)^{4} + 2 \\, a^{2} r^{2} \\cos\\left(\\theta\\right)^{2} + r^{4}} \\\\ X_{ \\, \\phi \\, t \\, \\phi \\, t }^{ \\phantom{\\, \\phi}\\phantom{\\, t}\\phantom{\\, \\phi}\\phantom{\\, t} } & = & \\frac{3 \\, {\\left(a^{4} m r - 2 \\, a^{2} m^{2} r^{2} + a^{2} m r^{3}\\right)} \\sin\\left(\\theta\\right)^{4} - {\\left(3 \\, a^{4} m r - 6 \\, a^{2} m^{2} r^{2} + 2 \\, a^{2} m r^{3} + 2 \\, m^{2} r^{4} - m r^{5}\\right)} \\sin\\left(\\theta\\right)^{2}}{a^{6} \\cos\\left(\\theta\\right)^{6} + 3 \\, a^{4} r^{2} \\cos\\left(\\theta\\right)^{4} + 3 \\, a^{2} r^{4} \\cos\\left(\\theta\\right)^{2} + r^{6}} \\\\ X_{ \\, \\phi \\, r \\, t \\, r }^{ \\phantom{\\, \\phi}\\phantom{\\, r}\\phantom{\\, t}\\phantom{\\, r} } & = & -\\frac{6 \\, {\\left(3 \\, a^{5} m^{2} r^{2} \\cos\\left(\\theta\\right)^{2} - a^{3} m^{2} r^{4}\\right)} \\sin\\left(\\theta\\right)^{4} + {\\left(6 \\, a^{3} m^{2} r^{4} - 3 \\, a^{3} m r^{5} + 4 \\, a m^{2} r^{6} - 3 \\, a m r^{7} + 3 \\, {\\left(3 \\, a^{7} m r + 2 \\, a^{5} m^{2} r^{2} + 3 \\, a^{5} m r^{3}\\right)} \\cos\\left(\\theta\\right)^{4} - 2 \\, {\\left(9 \\, a^{5} m^{2} r^{2} - 3 \\, a^{5} m r^{3} + 7 \\, a^{3} m^{2} r^{4} - 3 \\, a^{3} m r^{5}\\right)} \\cos\\left(\\theta\\right)^{2}\\right)} \\sin\\left(\\theta\\right)^{2}}{a^{2} r^{8} - 2 \\, m r^{9} + r^{10} + {\\left(a^{10} - 2 \\, a^{8} m r + a^{8} r^{2}\\right)} \\cos\\left(\\theta\\right)^{8} + 4 \\, {\\left(a^{8} r^{2} - 2 \\, a^{6} m r^{3} + a^{6} r^{4}\\right)} \\cos\\left(\\theta\\right)^{6} + 6 \\, {\\left(a^{6} r^{4} - 2 \\, a^{4} m r^{5} + a^{4} r^{6}\\right)} \\cos\\left(\\theta\\right)^{4} + 4 \\, {\\left(a^{4} r^{6} - 2 \\, a^{2} m r^{7} + a^{2} r^{8}\\right)} \\cos\\left(\\theta\\right)^{2}} \\\\ X_{ \\, \\phi \\, r \\, t \\, \\theta }^{ \\phantom{\\, \\phi}\\phantom{\\, r}\\phantom{\\, t}\\phantom{\\, \\theta} } & = & -\\frac{{\\left(2 \\, a^{5} m \\cos\\left(\\theta\\right)^{5} - {\\left(3 \\, a^{5} m + 7 \\, a^{3} m r^{2}\\right)} \\cos\\left(\\theta\\right)^{3} + 3 \\, {\\left(3 \\, a^{3} m r^{2} + a m r^{4}\\right)} \\cos\\left(\\theta\\right)\\right)} \\sin\\left(\\theta\\right)}{a^{6} \\cos\\left(\\theta\\right)^{6} + 3 \\, a^{4} r^{2} \\cos\\left(\\theta\\right)^{4} + 3 \\, a^{2} r^{4} \\cos\\left(\\theta\\right)^{2} + r^{6}} \\\\ X_{ \\, \\phi \\, r \\, r \\, t }^{ \\phantom{\\, \\phi}\\phantom{\\, r}\\phantom{\\, r}\\phantom{\\, t} } & = & \\frac{6 \\, {\\left(3 \\, a^{5} m^{2} r^{2} \\cos\\left(\\theta\\right)^{2} - a^{3} m^{2} r^{4}\\right)} \\sin\\left(\\theta\\right)^{4} + {\\left(6 \\, a^{3} m^{2} r^{4} - 3 \\, a^{3} m r^{5} + 4 \\, a m^{2} r^{6} - 3 \\, a m r^{7} + 3 \\, {\\left(3 \\, a^{7} m r + 2 \\, a^{5} m^{2} r^{2} + 3 \\, a^{5} m r^{3}\\right)} \\cos\\left(\\theta\\right)^{4} - 2 \\, {\\left(9 \\, a^{5} m^{2} r^{2} - 3 \\, a^{5} m r^{3} + 7 \\, a^{3} m^{2} r^{4} - 3 \\, a^{3} m r^{5}\\right)} \\cos\\left(\\theta\\right)^{2}\\right)} \\sin\\left(\\theta\\right)^{2}}{a^{2} r^{8} - 2 \\, m r^{9} + r^{10} + {\\left(a^{10} - 2 \\, a^{8} m r + a^{8} r^{2}\\right)} \\cos\\left(\\theta\\right)^{8} + 4 \\, {\\left(a^{8} r^{2} - 2 \\, a^{6} m r^{3} + a^{6} r^{4}\\right)} \\cos\\left(\\theta\\right)^{6} + 6 \\, {\\left(a^{6} r^{4} - 2 \\, a^{4} m r^{5} + a^{4} r^{6}\\right)} \\cos\\left(\\theta\\right)^{4} + 4 \\, {\\left(a^{4} r^{6} - 2 \\, a^{2} m r^{7} + a^{2} r^{8}\\right)} \\cos\\left(\\theta\\right)^{2}} \\\\ X_{ \\, \\phi \\, r \\, r \\, \\phi }^{ \\phantom{\\, \\phi}\\phantom{\\, r}\\phantom{\\, r}\\phantom{\\, \\phi} } & = & -\\frac{6 \\, {\\left(a^{8} m r - 2 \\, a^{6} m^{2} r^{2} + a^{6} m r^{3}\\right)} \\sin\\left(\\theta\\right)^{8} - {\\left(9 \\, a^{8} m r - 24 \\, a^{6} m^{2} r^{2} + 10 \\, a^{6} m r^{3} - 8 \\, a^{4} m^{2} r^{4} + a^{4} m r^{5}\\right)} \\sin\\left(\\theta\\right)^{6} - 4 \\, {\\left(3 \\, a^{6} m^{2} r^{2} + a^{6} m r^{3} + 2 \\, a^{4} m^{2} r^{4} + 2 \\, a^{4} m r^{5} - a^{2} m^{2} r^{6} + a^{2} m r^{7}\\right)} \\sin\\left(\\theta\\right)^{4} + {\\left(3 \\, a^{8} m r + 8 \\, a^{6} m r^{3} + 6 \\, a^{4} m r^{5} - m r^{9}\\right)} \\sin\\left(\\theta\\right)^{2}}{a^{2} r^{8} - 2 \\, m r^{9} + r^{10} + {\\left(a^{10} - 2 \\, a^{8} m r + a^{8} r^{2}\\right)} \\cos\\left(\\theta\\right)^{8} + 4 \\, {\\left(a^{8} r^{2} - 2 \\, a^{6} m r^{3} + a^{6} r^{4}\\right)} \\cos\\left(\\theta\\right)^{6} + 6 \\, {\\left(a^{6} r^{4} - 2 \\, a^{4} m r^{5} + a^{4} r^{6}\\right)} \\cos\\left(\\theta\\right)^{4} + 4 \\, {\\left(a^{4} r^{6} - 2 \\, a^{2} m r^{7} + a^{2} r^{8}\\right)} \\cos\\left(\\theta\\right)^{2}} \\\\ X_{ \\, \\phi \\, r \\, \\theta \\, t }^{ \\phantom{\\, \\phi}\\phantom{\\, r}\\phantom{\\, \\theta}\\phantom{\\, t} } & = & \\frac{{\\left(2 \\, a^{5} m \\cos\\left(\\theta\\right)^{5} - {\\left(3 \\, a^{5} m + 7 \\, a^{3} m r^{2}\\right)} \\cos\\left(\\theta\\right)^{3} + 3 \\, {\\left(3 \\, a^{3} m r^{2} + a m r^{4}\\right)} \\cos\\left(\\theta\\right)\\right)} \\sin\\left(\\theta\\right)}{a^{6} \\cos\\left(\\theta\\right)^{6} + 3 \\, a^{4} r^{2} \\cos\\left(\\theta\\right)^{4} + 3 \\, a^{2} r^{4} \\cos\\left(\\theta\\right)^{2} + r^{6}} \\\\ X_{ \\, \\phi \\, r \\, \\theta \\, \\phi }^{ \\phantom{\\, \\phi}\\phantom{\\, r}\\phantom{\\, \\theta}\\phantom{\\, \\phi} } & = & \\frac{3 \\, {\\left({\\left(a^{8} m + a^{6} m r^{2}\\right)} \\cos\\left(\\theta\\right) \\sin\\left(\\theta\\right)^{7} - 2 \\, {\\left(a^{8} m - a^{4} m r^{4}\\right)} \\cos\\left(\\theta\\right) \\sin\\left(\\theta\\right)^{5} + {\\left(a^{8} m - a^{6} m r^{2} - 5 \\, a^{4} m r^{4} - 3 \\, a^{2} m r^{6}\\right)} \\cos\\left(\\theta\\right) \\sin\\left(\\theta\\right)^{3}\\right)}}{a^{8} \\cos\\left(\\theta\\right)^{8} + 4 \\, a^{6} r^{2} \\cos\\left(\\theta\\right)^{6} + 6 \\, a^{4} r^{4} \\cos\\left(\\theta\\right)^{4} + 4 \\, a^{2} r^{6} \\cos\\left(\\theta\\right)^{2} + r^{8}} \\\\ X_{ \\, \\phi \\, r \\, \\phi \\, r }^{ \\phantom{\\, \\phi}\\phantom{\\, r}\\phantom{\\, \\phi}\\phantom{\\, r} } & = & \\frac{6 \\, {\\left(a^{8} m r - 2 \\, a^{6} m^{2} r^{2} + a^{6} m r^{3}\\right)} \\sin\\left(\\theta\\right)^{8} - {\\left(9 \\, a^{8} m r - 24 \\, a^{6} m^{2} r^{2} + 10 \\, a^{6} m r^{3} - 8 \\, a^{4} m^{2} r^{4} + a^{4} m r^{5}\\right)} \\sin\\left(\\theta\\right)^{6} - 4 \\, {\\left(3 \\, a^{6} m^{2} r^{2} + a^{6} m r^{3} + 2 \\, a^{4} m^{2} r^{4} + 2 \\, a^{4} m r^{5} - a^{2} m^{2} r^{6} + a^{2} m r^{7}\\right)} \\sin\\left(\\theta\\right)^{4} + {\\left(3 \\, a^{8} m r + 8 \\, a^{6} m r^{3} + 6 \\, a^{4} m r^{5} - m r^{9}\\right)} \\sin\\left(\\theta\\right)^{2}}{a^{2} r^{8} - 2 \\, m r^{9} + r^{10} + {\\left(a^{10} - 2 \\, a^{8} m r + a^{8} r^{2}\\right)} \\cos\\left(\\theta\\right)^{8} + 4 \\, {\\left(a^{8} r^{2} - 2 \\, a^{6} m r^{3} + a^{6} r^{4}\\right)} \\cos\\left(\\theta\\right)^{6} + 6 \\, {\\left(a^{6} r^{4} - 2 \\, a^{4} m r^{5} + a^{4} r^{6}\\right)} \\cos\\left(\\theta\\right)^{4} + 4 \\, {\\left(a^{4} r^{6} - 2 \\, a^{2} m r^{7} + a^{2} r^{8}\\right)} \\cos\\left(\\theta\\right)^{2}} \\\\ X_{ \\, \\phi \\, r \\, \\phi \\, \\theta }^{ \\phantom{\\, \\phi}\\phantom{\\, r}\\phantom{\\, \\phi}\\phantom{\\, \\theta} } & = & -\\frac{3 \\, {\\left({\\left(a^{8} m + a^{6} m r^{2}\\right)} \\cos\\left(\\theta\\right) \\sin\\left(\\theta\\right)^{7} - 2 \\, {\\left(a^{8} m - a^{4} m r^{4}\\right)} \\cos\\left(\\theta\\right) \\sin\\left(\\theta\\right)^{5} + {\\left(a^{8} m - a^{6} m r^{2} - 5 \\, a^{4} m r^{4} - 3 \\, a^{2} m r^{6}\\right)} \\cos\\left(\\theta\\right) \\sin\\left(\\theta\\right)^{3}\\right)}}{a^{8} \\cos\\left(\\theta\\right)^{8} + 4 \\, a^{6} r^{2} \\cos\\left(\\theta\\right)^{6} + 6 \\, a^{4} r^{4} \\cos\\left(\\theta\\right)^{4} + 4 \\, a^{2} r^{6} \\cos\\left(\\theta\\right)^{2} + r^{8}} \\\\ X_{ \\, \\phi \\, \\theta \\, t \\, r }^{ \\phantom{\\, \\phi}\\phantom{\\, \\theta}\\phantom{\\, t}\\phantom{\\, r} } & = & -\\frac{{\\left(a^{5} m \\cos\\left(\\theta\\right)^{5} - {\\left(3 \\, a^{5} m + 5 \\, a^{3} m r^{2}\\right)} \\cos\\left(\\theta\\right)^{3} + 3 \\, {\\left(3 \\, a^{3} m r^{2} + 2 \\, a m r^{4}\\right)} \\cos\\left(\\theta\\right)\\right)} \\sin\\left(\\theta\\right)}{a^{6} \\cos\\left(\\theta\\right)^{6} + 3 \\, a^{4} r^{2} \\cos\\left(\\theta\\right)^{4} + 3 \\, a^{2} r^{4} \\cos\\left(\\theta\\right)^{2} + r^{6}} \\\\ X_{ \\, \\phi \\, \\theta \\, t \\, \\theta }^{ \\phantom{\\, \\phi}\\phantom{\\, \\theta}\\phantom{\\, t}\\phantom{\\, \\theta} } & = & \\frac{6 \\, {\\left(3 \\, a^{5} m^{2} r^{2} \\cos\\left(\\theta\\right)^{2} - a^{3} m^{2} r^{4}\\right)} \\sin\\left(\\theta\\right)^{4} + {\\left(6 \\, a^{3} m^{2} r^{4} - 3 \\, a^{3} m r^{5} + 2 \\, a m^{2} r^{6} - 3 \\, a m r^{7} + 3 \\, {\\left(3 \\, a^{7} m r + 4 \\, a^{5} m^{2} r^{2} + 3 \\, a^{5} m r^{3}\\right)} \\cos\\left(\\theta\\right)^{4} - 2 \\, {\\left(9 \\, a^{5} m^{2} r^{2} - 3 \\, a^{5} m r^{3} + 5 \\, a^{3} m^{2} r^{4} - 3 \\, a^{3} m r^{5}\\right)} \\cos\\left(\\theta\\right)^{2}\\right)} \\sin\\left(\\theta\\right)^{2}}{a^{8} \\cos\\left(\\theta\\right)^{8} + 4 \\, a^{6} r^{2} \\cos\\left(\\theta\\right)^{6} + 6 \\, a^{4} r^{4} \\cos\\left(\\theta\\right)^{4} + 4 \\, a^{2} r^{6} \\cos\\left(\\theta\\right)^{2} + r^{8}} \\\\ X_{ \\, \\phi \\, \\theta \\, r \\, t }^{ \\phantom{\\, \\phi}\\phantom{\\, \\theta}\\phantom{\\, r}\\phantom{\\, t} } & = & \\frac{{\\left(a^{5} m \\cos\\left(\\theta\\right)^{5} - {\\left(3 \\, a^{5} m + 5 \\, a^{3} m r^{2}\\right)} \\cos\\left(\\theta\\right)^{3} + 3 \\, {\\left(3 \\, a^{3} m r^{2} + 2 \\, a m r^{4}\\right)} \\cos\\left(\\theta\\right)\\right)} \\sin\\left(\\theta\\right)}{a^{6} \\cos\\left(\\theta\\right)^{6} + 3 \\, a^{4} r^{2} \\cos\\left(\\theta\\right)^{4} + 3 \\, a^{2} r^{4} \\cos\\left(\\theta\\right)^{2} + r^{6}} \\\\ X_{ \\, \\phi \\, \\theta \\, r \\, \\phi }^{ \\phantom{\\, \\phi}\\phantom{\\, \\theta}\\phantom{\\, r}\\phantom{\\, \\phi} } & = & \\frac{3 \\, {\\left({\\left(a^{8} m + a^{6} m r^{2}\\right)} \\cos\\left(\\theta\\right) \\sin\\left(\\theta\\right)^{7} - 2 \\, {\\left(a^{8} m - a^{4} m r^{4}\\right)} \\cos\\left(\\theta\\right) \\sin\\left(\\theta\\right)^{5} + {\\left(a^{8} m - a^{6} m r^{2} - 5 \\, a^{4} m r^{4} - 3 \\, a^{2} m r^{6}\\right)} \\cos\\left(\\theta\\right) \\sin\\left(\\theta\\right)^{3}\\right)}}{a^{8} \\cos\\left(\\theta\\right)^{8} + 4 \\, a^{6} r^{2} \\cos\\left(\\theta\\right)^{6} + 6 \\, a^{4} r^{4} \\cos\\left(\\theta\\right)^{4} + 4 \\, a^{2} r^{6} \\cos\\left(\\theta\\right)^{2} + r^{8}} \\\\ X_{ \\, \\phi \\, \\theta \\, \\theta \\, t }^{ \\phantom{\\, \\phi}\\phantom{\\, \\theta}\\phantom{\\, \\theta}\\phantom{\\, t} } & = & -\\frac{6 \\, {\\left(3 \\, a^{5} m^{2} r^{2} \\cos\\left(\\theta\\right)^{2} - a^{3} m^{2} r^{4}\\right)} \\sin\\left(\\theta\\right)^{4} + {\\left(6 \\, a^{3} m^{2} r^{4} - 3 \\, a^{3} m r^{5} + 2 \\, a m^{2} r^{6} - 3 \\, a m r^{7} + 3 \\, {\\left(3 \\, a^{7} m r + 4 \\, a^{5} m^{2} r^{2} + 3 \\, a^{5} m r^{3}\\right)} \\cos\\left(\\theta\\right)^{4} - 2 \\, {\\left(9 \\, a^{5} m^{2} r^{2} - 3 \\, a^{5} m r^{3} + 5 \\, a^{3} m^{2} r^{4} - 3 \\, a^{3} m r^{5}\\right)} \\cos\\left(\\theta\\right)^{2}\\right)} \\sin\\left(\\theta\\right)^{2}}{a^{8} \\cos\\left(\\theta\\right)^{8} + 4 \\, a^{6} r^{2} \\cos\\left(\\theta\\right)^{6} + 6 \\, a^{4} r^{4} \\cos\\left(\\theta\\right)^{4} + 4 \\, a^{2} r^{6} \\cos\\left(\\theta\\right)^{2} + r^{8}} \\\\ X_{ \\, \\phi \\, \\theta \\, \\theta \\, \\phi }^{ \\phantom{\\, \\phi}\\phantom{\\, \\theta}\\phantom{\\, \\theta}\\phantom{\\, \\phi} } & = & \\frac{3 \\, {\\left(a^{8} m r - 2 \\, a^{6} m^{2} r^{2} + a^{6} m r^{3}\\right)} \\sin\\left(\\theta\\right)^{8} + 4 \\, {\\left(3 \\, a^{6} m^{2} r^{2} + a^{6} m r^{3} + a^{4} m^{2} r^{4} + a^{4} m r^{5}\\right)} \\sin\\left(\\theta\\right)^{6} - {\\left(9 \\, a^{8} m r + 6 \\, a^{6} m^{2} r^{2} + 23 \\, a^{6} m r^{3} + 4 \\, a^{4} m^{2} r^{4} + 19 \\, a^{4} m r^{5} - 2 \\, a^{2} m^{2} r^{6} + 5 \\, a^{2} m r^{7}\\right)} \\sin\\left(\\theta\\right)^{4} + 2 \\, {\\left(3 \\, a^{8} m r + 8 \\, a^{6} m r^{3} + 6 \\, a^{4} m r^{5} - m r^{9}\\right)} \\sin\\left(\\theta\\right)^{2}}{a^{8} \\cos\\left(\\theta\\right)^{8} + 4 \\, a^{6} r^{2} \\cos\\left(\\theta\\right)^{6} + 6 \\, a^{4} r^{4} \\cos\\left(\\theta\\right)^{4} + 4 \\, a^{2} r^{6} \\cos\\left(\\theta\\right)^{2} + r^{8}} \\\\ X_{ \\, \\phi \\, \\theta \\, \\phi \\, r }^{ \\phantom{\\, \\phi}\\phantom{\\, \\theta}\\phantom{\\, \\phi}\\phantom{\\, r} } & = & -\\frac{3 \\, {\\left({\\left(a^{8} m + a^{6} m r^{2}\\right)} \\cos\\left(\\theta\\right) \\sin\\left(\\theta\\right)^{7} - 2 \\, {\\left(a^{8} m - a^{4} m r^{4}\\right)} \\cos\\left(\\theta\\right) \\sin\\left(\\theta\\right)^{5} + {\\left(a^{8} m - a^{6} m r^{2} - 5 \\, a^{4} m r^{4} - 3 \\, a^{2} m r^{6}\\right)} \\cos\\left(\\theta\\right) \\sin\\left(\\theta\\right)^{3}\\right)}}{a^{8} \\cos\\left(\\theta\\right)^{8} + 4 \\, a^{6} r^{2} \\cos\\left(\\theta\\right)^{6} + 6 \\, a^{4} r^{4} \\cos\\left(\\theta\\right)^{4} + 4 \\, a^{2} r^{6} \\cos\\left(\\theta\\right)^{2} + r^{8}} \\\\ X_{ \\, \\phi \\, \\theta \\, \\phi \\, \\theta }^{ \\phantom{\\, \\phi}\\phantom{\\, \\theta}\\phantom{\\, \\phi}\\phantom{\\, \\theta} } & = & -\\frac{3 \\, {\\left(a^{8} m r - 2 \\, a^{6} m^{2} r^{2} + a^{6} m r^{3}\\right)} \\sin\\left(\\theta\\right)^{8} + 4 \\, {\\left(3 \\, a^{6} m^{2} r^{2} + a^{6} m r^{3} + a^{4} m^{2} r^{4} + a^{4} m r^{5}\\right)} \\sin\\left(\\theta\\right)^{6} - {\\left(9 \\, a^{8} m r + 6 \\, a^{6} m^{2} r^{2} + 23 \\, a^{6} m r^{3} + 4 \\, a^{4} m^{2} r^{4} + 19 \\, a^{4} m r^{5} - 2 \\, a^{2} m^{2} r^{6} + 5 \\, a^{2} m r^{7}\\right)} \\sin\\left(\\theta\\right)^{4} + 2 \\, {\\left(3 \\, a^{8} m r + 8 \\, a^{6} m r^{3} + 6 \\, a^{4} m r^{5} - m r^{9}\\right)} \\sin\\left(\\theta\\right)^{2}}{a^{8} \\cos\\left(\\theta\\right)^{8} + 4 \\, a^{6} r^{2} \\cos\\left(\\theta\\right)^{6} + 6 \\, a^{4} r^{4} \\cos\\left(\\theta\\right)^{4} + 4 \\, a^{2} r^{6} \\cos\\left(\\theta\\right)^{2} + r^{8}} \\end{array}$$"
      ],
      "text/plain": [
       "X_t,r,t,r = -(3*a^4*m*r*sin(theta)^4 - 6*a^4*m*r + 12*a^2*m^2*r^2 - 4*a^2*m*r^3 - 4*m^2*r^4 + 2*m*r^5 + (3*a^4*m*r - 12*a^2*m^2*r^2 + 7*a^2*m*r^3)*sin(theta)^2)/(a^2*r^6 - 2*m*r^7 + r^8 + (a^8 - 2*a^6*m*r + a^6*r^2)*cos(theta)^6 + 3*(a^6*r^2 - 2*a^4*m*r^3 + a^4*r^4)*cos(theta)^4 + 3*(a^4*r^4 - 2*a^2*m*r^5 + a^2*r^6)*cos(theta)^2) \n",
       "X_t,r,t,theta = -3*(a^4*m*cos(theta)^3 - 3*a^2*m*r^2*cos(theta))*sin(theta)/(a^6*cos(theta)^6 + 3*a^4*r^2*cos(theta)^4 + 3*a^2*r^4*cos(theta)^2 + r^6) \n",
       "X_t,r,r,t = (3*a^4*m*r*cos(theta)^4 + 3*a^2*m*r^3 - 4*m^2*r^4 + 2*m*r^5 - (9*a^4*m*r - 12*a^2*m^2*r^2 + 7*a^2*m*r^3)*cos(theta)^2)/(a^2*r^6 - 2*m*r^7 + r^8 + (a^8 - 2*a^6*m*r + a^6*r^2)*cos(theta)^6 + 3*(a^6*r^2 - 2*a^4*m*r^3 + a^4*r^4)*cos(theta)^4 + 3*(a^4*r^4 - 2*a^2*m*r^5 + a^2*r^6)*cos(theta)^2) \n",
       "X_t,r,r,phi = -(3*a^3*m*r^3 - 4*a*m^2*r^4 + 3*a*m*r^5 + 3*(3*a^5*m*r - 4*a^3*m^2*r^2 + 3*a^3*m*r^3)*cos(theta)^4 - (9*a^5*m*r - 12*a^3*m^2*r^2 + 12*a^3*m*r^3 - 4*a*m^2*r^4 + 3*a*m*r^5)*cos(theta)^2)/(a^2*r^6 - 2*m*r^7 + r^8 + (a^8 - 2*a^6*m*r + a^6*r^2)*cos(theta)^6 + 3*(a^6*r^2 - 2*a^4*m*r^3 + a^4*r^4)*cos(theta)^4 + 3*(a^4*r^4 - 2*a^2*m*r^5 + a^2*r^6)*cos(theta)^2) \n",
       "X_t,r,theta,t = 3*(a^4*m*cos(theta)^3 - 3*a^2*m*r^2*cos(theta))*sin(theta)/(a^6*cos(theta)^6 + 3*a^4*r^2*cos(theta)^4 + 3*a^2*r^4*cos(theta)^2 + r^6) \n",
       "X_t,r,theta,phi = (a^5*m*cos(theta)^5 - (3*a^5*m + 5*a^3*m*r^2)*cos(theta)^3 + 3*(3*a^3*m*r^2 + 2*a*m*r^4)*cos(theta))*sin(theta)/(a^6*cos(theta)^6 + 3*a^4*r^2*cos(theta)^4 + 3*a^2*r^4*cos(theta)^2 + r^6) \n",
       "X_t,r,phi,r = (3*(3*a^5*m*r - 4*a^3*m^2*r^2 + 3*a^3*m*r^3)*sin(theta)^4 - (9*a^5*m*r - 12*a^3*m^2*r^2 + 6*a^3*m*r^3 + 4*a*m^2*r^4 - 3*a*m*r^5)*sin(theta)^2)/(a^2*r^6 - 2*m*r^7 + r^8 + (a^8 - 2*a^6*m*r + a^6*r^2)*cos(theta)^6 + 3*(a^6*r^2 - 2*a^4*m*r^3 + a^4*r^4)*cos(theta)^4 + 3*(a^4*r^4 - 2*a^2*m*r^5 + a^2*r^6)*cos(theta)^2) \n",
       "X_t,r,phi,theta = -(a^5*m*cos(theta)^5 - (3*a^5*m + 5*a^3*m*r^2)*cos(theta)^3 + 3*(3*a^3*m*r^2 + 2*a*m*r^4)*cos(theta))*sin(theta)/(a^6*cos(theta)^6 + 3*a^4*r^2*cos(theta)^4 + 3*a^2*r^4*cos(theta)^2 + r^6) \n",
       "X_t,theta,t,r = -3*(a^4*m*cos(theta)^3 - 3*a^2*m*r^2*cos(theta))*sin(theta)/(a^6*cos(theta)^6 + 3*a^4*r^2*cos(theta)^4 + 3*a^2*r^4*cos(theta)^2 + r^6) \n",
       "X_t,theta,t,theta = (6*a^4*m*r*cos(theta)^4 + 3*a^2*m*r^3 - 2*m^2*r^4 + m*r^5 - (9*a^4*m*r - 6*a^2*m^2*r^2 + 5*a^2*m*r^3)*cos(theta)^2)/(a^6*cos(theta)^6 + 3*a^4*r^2*cos(theta)^4 + 3*a^2*r^4*cos(theta)^2 + r^6) \n",
       "X_t,theta,r,t = 3*(a^4*m*cos(theta)^3 - 3*a^2*m*r^2*cos(theta))*sin(theta)/(a^6*cos(theta)^6 + 3*a^4*r^2*cos(theta)^4 + 3*a^2*r^4*cos(theta)^2 + r^6) \n",
       "X_t,theta,r,phi = (2*a^5*m*cos(theta)^5 - (3*a^5*m + 7*a^3*m*r^2)*cos(theta)^3 + 3*(3*a^3*m*r^2 + a*m*r^4)*cos(theta))*sin(theta)/(a^6*cos(theta)^6 + 3*a^4*r^2*cos(theta)^4 + 3*a^2*r^4*cos(theta)^2 + r^6) \n",
       "X_t,theta,theta,t = -(6*a^4*m*r*cos(theta)^4 + 3*a^2*m*r^3 - 2*m^2*r^4 + m*r^5 - (9*a^4*m*r - 6*a^2*m^2*r^2 + 5*a^2*m*r^3)*cos(theta)^2)/(a^6*cos(theta)^6 + 3*a^4*r^2*cos(theta)^4 + 3*a^2*r^4*cos(theta)^2 + r^6) \n",
       "X_t,theta,theta,phi = (3*a^3*m*r^3 - 2*a*m^2*r^4 + 3*a*m*r^5 + 3*(3*a^5*m*r - 2*a^3*m^2*r^2 + 3*a^3*m*r^3)*cos(theta)^4 - (9*a^5*m*r - 6*a^3*m^2*r^2 + 12*a^3*m*r^3 - 2*a*m^2*r^4 + 3*a*m*r^5)*cos(theta)^2)/(a^6*cos(theta)^6 + 3*a^4*r^2*cos(theta)^4 + 3*a^2*r^4*cos(theta)^2 + r^6) \n",
       "X_t,theta,phi,r = -(2*a^5*m*cos(theta)^5 - (3*a^5*m + 7*a^3*m*r^2)*cos(theta)^3 + 3*(3*a^3*m*r^2 + a*m*r^4)*cos(theta))*sin(theta)/(a^6*cos(theta)^6 + 3*a^4*r^2*cos(theta)^4 + 3*a^2*r^4*cos(theta)^2 + r^6) \n",
       "X_t,theta,phi,theta = -(3*(3*a^5*m*r - 2*a^3*m^2*r^2 + 3*a^3*m*r^3)*sin(theta)^4 - (9*a^5*m*r - 6*a^3*m^2*r^2 + 6*a^3*m*r^3 + 2*a*m^2*r^4 - 3*a*m*r^5)*sin(theta)^2)/(a^6*cos(theta)^6 + 3*a^4*r^2*cos(theta)^4 + 3*a^2*r^4*cos(theta)^2 + r^6) \n",
       "X_t,phi,t,phi = (3*(a^4*m*r - 2*a^2*m^2*r^2 + a^2*m*r^3)*sin(theta)^4 - (3*a^4*m*r - 6*a^2*m^2*r^2 + 2*a^2*m*r^3 + 2*m^2*r^4 - m*r^5)*sin(theta)^2)/(a^6*cos(theta)^6 + 3*a^4*r^2*cos(theta)^4 + 3*a^2*r^4*cos(theta)^2 + r^6) \n",
       "X_t,phi,r,theta = (a^3*m*cos(theta)^3 - 3*a*m*r^2*cos(theta))*sin(theta)/(a^4*cos(theta)^4 + 2*a^2*r^2*cos(theta)^2 + r^4) \n",
       "X_t,phi,theta,r = -(a^3*m*cos(theta)^3 - 3*a*m*r^2*cos(theta))*sin(theta)/(a^4*cos(theta)^4 + 2*a^2*r^2*cos(theta)^2 + r^4) \n",
       "X_t,phi,phi,t = -(3*(a^4*m*r - 2*a^2*m^2*r^2 + a^2*m*r^3)*sin(theta)^4 - (3*a^4*m*r - 6*a^2*m^2*r^2 + 2*a^2*m*r^3 + 2*m^2*r^4 - m*r^5)*sin(theta)^2)/(a^6*cos(theta)^6 + 3*a^4*r^2*cos(theta)^4 + 3*a^2*r^4*cos(theta)^2 + r^6) \n",
       "X_r,t,t,r = (3*a^4*m*r*cos(theta)^4 + 3*a^2*m*r^3 - 4*m^2*r^4 + 2*m*r^5 - (9*a^4*m*r - 12*a^2*m^2*r^2 + 7*a^2*m*r^3)*cos(theta)^2)/(a^2*r^6 - 2*m*r^7 + r^8 + (a^8 - 2*a^6*m*r + a^6*r^2)*cos(theta)^6 + 3*(a^6*r^2 - 2*a^4*m*r^3 + a^4*r^4)*cos(theta)^4 + 3*(a^4*r^4 - 2*a^2*m*r^5 + a^2*r^6)*cos(theta)^2) \n",
       "X_r,t,t,theta = 3*(a^4*m*cos(theta)^3 - 3*a^2*m*r^2*cos(theta))*sin(theta)/(a^6*cos(theta)^6 + 3*a^4*r^2*cos(theta)^4 + 3*a^2*r^4*cos(theta)^2 + r^6) \n",
       "X_r,t,r,t = -(3*a^4*m*r*cos(theta)^4 + 3*a^2*m*r^3 - 4*m^2*r^4 + 2*m*r^5 - (9*a^4*m*r - 12*a^2*m^2*r^2 + 7*a^2*m*r^3)*cos(theta)^2)/(a^2*r^6 - 2*m*r^7 + r^8 + (a^8 - 2*a^6*m*r + a^6*r^2)*cos(theta)^6 + 3*(a^6*r^2 - 2*a^4*m*r^3 + a^4*r^4)*cos(theta)^4 + 3*(a^4*r^4 - 2*a^2*m*r^5 + a^2*r^6)*cos(theta)^2) \n",
       "X_r,t,r,phi = (3*(3*a^5*m*r - 4*a^3*m^2*r^2 + 3*a^3*m*r^3)*sin(theta)^4 - (9*a^5*m*r - 12*a^3*m^2*r^2 + 6*a^3*m*r^3 + 4*a*m^2*r^4 - 3*a*m*r^5)*sin(theta)^2)/(a^2*r^6 - 2*m*r^7 + r^8 + (a^8 - 2*a^6*m*r + a^6*r^2)*cos(theta)^6 + 3*(a^6*r^2 - 2*a^4*m*r^3 + a^4*r^4)*cos(theta)^4 + 3*(a^4*r^4 - 2*a^2*m*r^5 + a^2*r^6)*cos(theta)^2) \n",
       "X_r,t,theta,t = -3*(a^4*m*cos(theta)^3 - 3*a^2*m*r^2*cos(theta))*sin(theta)/(a^6*cos(theta)^6 + 3*a^4*r^2*cos(theta)^4 + 3*a^2*r^4*cos(theta)^2 + r^6) \n",
       "X_r,t,theta,phi = -(a^5*m*cos(theta)^5 - (3*a^5*m + 5*a^3*m*r^2)*cos(theta)^3 + 3*(3*a^3*m*r^2 + 2*a*m*r^4)*cos(theta))*sin(theta)/(a^6*cos(theta)^6 + 3*a^4*r^2*cos(theta)^4 + 3*a^2*r^4*cos(theta)^2 + r^6) \n",
       "X_r,t,phi,r = -(3*(3*a^5*m*r - 4*a^3*m^2*r^2 + 3*a^3*m*r^3)*sin(theta)^4 - (9*a^5*m*r - 12*a^3*m^2*r^2 + 6*a^3*m*r^3 + 4*a*m^2*r^4 - 3*a*m*r^5)*sin(theta)^2)/(a^2*r^6 - 2*m*r^7 + r^8 + (a^8 - 2*a^6*m*r + a^6*r^2)*cos(theta)^6 + 3*(a^6*r^2 - 2*a^4*m*r^3 + a^4*r^4)*cos(theta)^4 + 3*(a^4*r^4 - 2*a^2*m*r^5 + a^2*r^6)*cos(theta)^2) \n",
       "X_r,t,phi,theta = (a^5*m*cos(theta)^5 - (3*a^5*m + 5*a^3*m*r^2)*cos(theta)^3 + 3*(3*a^3*m*r^2 + 2*a*m*r^4)*cos(theta))*sin(theta)/(a^6*cos(theta)^6 + 3*a^4*r^2*cos(theta)^4 + 3*a^2*r^4*cos(theta)^2 + r^6) \n",
       "X_r,theta,t,phi = (a^3*m*cos(theta)^3 - 3*a*m*r^2*cos(theta))*sin(theta)/(a^4*cos(theta)^4 + 2*a^2*r^2*cos(theta)^2 + r^4) \n",
       "X_r,theta,r,theta = (3*a^2*m*r*cos(theta)^2 - m*r^3)/(a^2*r^2 - 2*m*r^3 + r^4 + (a^4 - 2*a^2*m*r + a^2*r^2)*cos(theta)^2) \n",
       "X_r,theta,theta,r = -(3*a^2*m*r*cos(theta)^2 - m*r^3)/(a^2*r^2 - 2*m*r^3 + r^4 + (a^4 - 2*a^2*m*r + a^2*r^2)*cos(theta)^2) \n",
       "X_r,theta,phi,t = -(a^3*m*cos(theta)^3 - 3*a*m*r^2*cos(theta))*sin(theta)/(a^4*cos(theta)^4 + 2*a^2*r^2*cos(theta)^2 + r^4) \n",
       "X_r,phi,t,r = -(3*a^3*m*r^3 - 4*a*m^2*r^4 + 3*a*m*r^5 - 3*(3*a^5*m*r - 4*a^3*m^2*r^2 + 3*a^3*m*r^3)*cos(theta)^2)*sin(theta)^2/(a^2*r^6 - 2*m*r^7 + r^8 + (a^8 - 2*a^6*m*r + a^6*r^2)*cos(theta)^6 + 3*(a^6*r^2 - 2*a^4*m*r^3 + a^4*r^4)*cos(theta)^4 + 3*(a^4*r^4 - 2*a^2*m*r^5 + a^2*r^6)*cos(theta)^2) \n",
       "X_r,phi,t,theta = (2*a^5*m*cos(theta)^5 - (3*a^5*m + 7*a^3*m*r^2)*cos(theta)^3 + 3*(3*a^3*m*r^2 + a*m*r^4)*cos(theta))*sin(theta)/(a^6*cos(theta)^6 + 3*a^4*r^2*cos(theta)^4 + 3*a^2*r^4*cos(theta)^2 + r^6) \n",
       "X_r,phi,r,t = (3*a^3*m*r^3 - 4*a*m^2*r^4 + 3*a*m*r^5 - 3*(3*a^5*m*r - 4*a^3*m^2*r^2 + 3*a^3*m*r^3)*cos(theta)^2)*sin(theta)^2/(a^2*r^6 - 2*m*r^7 + r^8 + (a^8 - 2*a^6*m*r + a^6*r^2)*cos(theta)^6 + 3*(a^6*r^2 - 2*a^4*m*r^3 + a^4*r^4)*cos(theta)^4 + 3*(a^4*r^4 - 2*a^2*m*r^5 + a^2*r^6)*cos(theta)^2) \n",
       "X_r,phi,r,phi = -(6*(a^6*m*r - 2*a^4*m^2*r^2 + a^4*m*r^3)*sin(theta)^6 - (3*a^6*m*r - 12*a^4*m^2*r^2 - 2*a^4*m*r^3 + 4*a^2*m^2*r^4 - 5*a^2*m*r^5)*sin(theta)^4 - (3*a^6*m*r + 5*a^4*m*r^3 + a^2*m*r^5 - m*r^7)*sin(theta)^2)/(a^2*r^6 - 2*m*r^7 + r^8 + (a^8 - 2*a^6*m*r + a^6*r^2)*cos(theta)^6 + 3*(a^6*r^2 - 2*a^4*m*r^3 + a^4*r^4)*cos(theta)^4 + 3*(a^4*r^4 - 2*a^2*m*r^5 + a^2*r^6)*cos(theta)^2) \n",
       "X_r,phi,theta,t = -(2*a^5*m*cos(theta)^5 - (3*a^5*m + 7*a^3*m*r^2)*cos(theta)^3 + 3*(3*a^3*m*r^2 + a*m*r^4)*cos(theta))*sin(theta)/(a^6*cos(theta)^6 + 3*a^4*r^2*cos(theta)^4 + 3*a^2*r^4*cos(theta)^2 + r^6) \n",
       "X_r,phi,theta,phi = 3*((a^6*m + a^4*m*r^2)*cos(theta)*sin(theta)^5 - (a^6*m - 2*a^4*m*r^2 - 3*a^2*m*r^4)*cos(theta)*sin(theta)^3)/(a^6*cos(theta)^6 + 3*a^4*r^2*cos(theta)^4 + 3*a^2*r^4*cos(theta)^2 + r^6) \n",
       "X_r,phi,phi,r = (6*(a^6*m*r - 2*a^4*m^2*r^2 + a^4*m*r^3)*sin(theta)^6 - (3*a^6*m*r - 12*a^4*m^2*r^2 - 2*a^4*m*r^3 + 4*a^2*m^2*r^4 - 5*a^2*m*r^5)*sin(theta)^4 - (3*a^6*m*r + 5*a^4*m*r^3 + a^2*m*r^5 - m*r^7)*sin(theta)^2)/(a^2*r^6 - 2*m*r^7 + r^8 + (a^8 - 2*a^6*m*r + a^6*r^2)*cos(theta)^6 + 3*(a^6*r^2 - 2*a^4*m*r^3 + a^4*r^4)*cos(theta)^4 + 3*(a^4*r^4 - 2*a^2*m*r^5 + a^2*r^6)*cos(theta)^2) \n",
       "X_r,phi,phi,theta = -3*((a^6*m + a^4*m*r^2)*cos(theta)*sin(theta)^5 - (a^6*m - 2*a^4*m*r^2 - 3*a^2*m*r^4)*cos(theta)*sin(theta)^3)/(a^6*cos(theta)^6 + 3*a^4*r^2*cos(theta)^4 + 3*a^2*r^4*cos(theta)^2 + r^6) \n",
       "X_theta,t,t,r = 3*(a^4*m*cos(theta)^3 - 3*a^2*m*r^2*cos(theta))*sin(theta)/(a^6*cos(theta)^6 + 3*a^4*r^2*cos(theta)^4 + 3*a^2*r^4*cos(theta)^2 + r^6) \n",
       "X_theta,t,t,theta = -(6*a^4*m*r*sin(theta)^4 - 3*a^4*m*r + 6*a^2*m^2*r^2 - 2*a^2*m*r^3 - 2*m^2*r^4 + m*r^5 - (3*a^4*m*r + 6*a^2*m^2*r^2 - 5*a^2*m*r^3)*sin(theta)^2)/(a^6*cos(theta)^6 + 3*a^4*r^2*cos(theta)^4 + 3*a^2*r^4*cos(theta)^2 + r^6) \n",
       "X_theta,t,r,t = -3*(a^4*m*cos(theta)^3 - 3*a^2*m*r^2*cos(theta))*sin(theta)/(a^6*cos(theta)^6 + 3*a^4*r^2*cos(theta)^4 + 3*a^2*r^4*cos(theta)^2 + r^6) \n",
       "X_theta,t,r,phi = -(2*a^5*m*cos(theta)^5 - (3*a^5*m + 7*a^3*m*r^2)*cos(theta)^3 + 3*(3*a^3*m*r^2 + a*m*r^4)*cos(theta))*sin(theta)/(a^6*cos(theta)^6 + 3*a^4*r^2*cos(theta)^4 + 3*a^2*r^4*cos(theta)^2 + r^6) \n",
       "X_theta,t,theta,t = (6*a^4*m*r*cos(theta)^4 + 3*a^2*m*r^3 - 2*m^2*r^4 + m*r^5 - (9*a^4*m*r - 6*a^2*m^2*r^2 + 5*a^2*m*r^3)*cos(theta)^2)/(a^6*cos(theta)^6 + 3*a^4*r^2*cos(theta)^4 + 3*a^2*r^4*cos(theta)^2 + r^6) \n",
       "X_theta,t,theta,phi = -(3*(3*a^5*m*r - 2*a^3*m^2*r^2 + 3*a^3*m*r^3)*sin(theta)^4 - (9*a^5*m*r - 6*a^3*m^2*r^2 + 6*a^3*m*r^3 + 2*a*m^2*r^4 - 3*a*m*r^5)*sin(theta)^2)/(a^6*cos(theta)^6 + 3*a^4*r^2*cos(theta)^4 + 3*a^2*r^4*cos(theta)^2 + r^6) \n",
       "X_theta,t,phi,r = (2*a^5*m*cos(theta)^5 - (3*a^5*m + 7*a^3*m*r^2)*cos(theta)^3 + 3*(3*a^3*m*r^2 + a*m*r^4)*cos(theta))*sin(theta)/(a^6*cos(theta)^6 + 3*a^4*r^2*cos(theta)^4 + 3*a^2*r^4*cos(theta)^2 + r^6) \n",
       "X_theta,t,phi,theta = (3*(3*a^5*m*r - 2*a^3*m^2*r^2 + 3*a^3*m*r^3)*sin(theta)^4 - (9*a^5*m*r - 6*a^3*m^2*r^2 + 6*a^3*m*r^3 + 2*a*m^2*r^4 - 3*a*m*r^5)*sin(theta)^2)/(a^6*cos(theta)^6 + 3*a^4*r^2*cos(theta)^4 + 3*a^2*r^4*cos(theta)^2 + r^6) \n",
       "X_theta,r,t,phi = -(a^3*m*cos(theta)^3 - 3*a*m*r^2*cos(theta))*sin(theta)/(a^4*cos(theta)^4 + 2*a^2*r^2*cos(theta)^2 + r^4) \n",
       "X_theta,r,r,theta = -(3*a^2*m*r*cos(theta)^2 - m*r^3)/(a^2*r^2 - 2*m*r^3 + r^4 + (a^4 - 2*a^2*m*r + a^2*r^2)*cos(theta)^2) \n",
       "X_theta,r,theta,r = (3*a^2*m*r*cos(theta)^2 - m*r^3)/(a^2*r^2 - 2*m*r^3 + r^4 + (a^4 - 2*a^2*m*r + a^2*r^2)*cos(theta)^2) \n",
       "X_theta,r,phi,t = (a^3*m*cos(theta)^3 - 3*a*m*r^2*cos(theta))*sin(theta)/(a^4*cos(theta)^4 + 2*a^2*r^2*cos(theta)^2 + r^4) \n",
       "X_theta,phi,t,r = (a^5*m*cos(theta)^5 - (3*a^5*m + 5*a^3*m*r^2)*cos(theta)^3 + 3*(3*a^3*m*r^2 + 2*a*m*r^4)*cos(theta))*sin(theta)/(a^6*cos(theta)^6 + 3*a^4*r^2*cos(theta)^4 + 3*a^2*r^4*cos(theta)^2 + r^6) \n",
       "X_theta,phi,t,theta = (3*(3*a^5*m*r - 2*a^3*m^2*r^2 + 3*a^3*m*r^3)*sin(theta)^4 - (9*a^5*m*r - 6*a^3*m^2*r^2 + 6*a^3*m*r^3 + 2*a*m^2*r^4 - 3*a*m*r^5)*sin(theta)^2)/(a^6*cos(theta)^6 + 3*a^4*r^2*cos(theta)^4 + 3*a^2*r^4*cos(theta)^2 + r^6) \n",
       "X_theta,phi,r,t = -(a^5*m*cos(theta)^5 - (3*a^5*m + 5*a^3*m*r^2)*cos(theta)^3 + 3*(3*a^3*m*r^2 + 2*a*m*r^4)*cos(theta))*sin(theta)/(a^6*cos(theta)^6 + 3*a^4*r^2*cos(theta)^4 + 3*a^2*r^4*cos(theta)^2 + r^6) \n",
       "X_theta,phi,r,phi = 3*((a^6*m + a^4*m*r^2)*cos(theta)*sin(theta)^5 - (a^6*m - 2*a^4*m*r^2 - 3*a^2*m*r^4)*cos(theta)*sin(theta)^3)/(a^6*cos(theta)^6 + 3*a^4*r^2*cos(theta)^4 + 3*a^2*r^4*cos(theta)^2 + r^6) \n",
       "X_theta,phi,theta,t = -(3*(3*a^5*m*r - 2*a^3*m^2*r^2 + 3*a^3*m*r^3)*sin(theta)^4 - (9*a^5*m*r - 6*a^3*m^2*r^2 + 6*a^3*m*r^3 + 2*a*m^2*r^4 - 3*a*m*r^5)*sin(theta)^2)/(a^6*cos(theta)^6 + 3*a^4*r^2*cos(theta)^4 + 3*a^2*r^4*cos(theta)^2 + r^6) \n",
       "X_theta,phi,theta,phi = (3*(a^6*m*r - 2*a^4*m^2*r^2 + a^4*m*r^3)*sin(theta)^6 + (3*a^6*m*r + 6*a^4*m^2*r^2 + 10*a^4*m*r^3 - 2*a^2*m^2*r^4 + 7*a^2*m*r^5)*sin(theta)^4 - 2*(3*a^6*m*r + 5*a^4*m*r^3 + a^2*m*r^5 - m*r^7)*sin(theta)^2)/(a^6*cos(theta)^6 + 3*a^4*r^2*cos(theta)^4 + 3*a^2*r^4*cos(theta)^2 + r^6) \n",
       "X_theta,phi,phi,r = -3*((a^6*m + a^4*m*r^2)*cos(theta)*sin(theta)^5 - (a^6*m - 2*a^4*m*r^2 - 3*a^2*m*r^4)*cos(theta)*sin(theta)^3)/(a^6*cos(theta)^6 + 3*a^4*r^2*cos(theta)^4 + 3*a^2*r^4*cos(theta)^2 + r^6) \n",
       "X_theta,phi,phi,theta = -(3*(a^6*m*r - 2*a^4*m^2*r^2 + a^4*m*r^3)*sin(theta)^6 + (3*a^6*m*r + 6*a^4*m^2*r^2 + 10*a^4*m*r^3 - 2*a^2*m^2*r^4 + 7*a^2*m*r^5)*sin(theta)^4 - 2*(3*a^6*m*r + 5*a^4*m*r^3 + a^2*m*r^5 - m*r^7)*sin(theta)^2)/(a^6*cos(theta)^6 + 3*a^4*r^2*cos(theta)^4 + 3*a^2*r^4*cos(theta)^2 + r^6) \n",
       "X_phi,t,t,phi = -(3*(a^4*m*r - 2*a^2*m^2*r^2 + a^2*m*r^3)*sin(theta)^4 - (3*a^4*m*r - 6*a^2*m^2*r^2 + 2*a^2*m*r^3 + 2*m^2*r^4 - m*r^5)*sin(theta)^2)/(a^6*cos(theta)^6 + 3*a^4*r^2*cos(theta)^4 + 3*a^2*r^4*cos(theta)^2 + r^6) \n",
       "X_phi,t,r,theta = -(a^3*m*cos(theta)^3 - 3*a*m*r^2*cos(theta))*sin(theta)/(a^4*cos(theta)^4 + 2*a^2*r^2*cos(theta)^2 + r^4) \n",
       "X_phi,t,theta,r = (a^3*m*cos(theta)^3 - 3*a*m*r^2*cos(theta))*sin(theta)/(a^4*cos(theta)^4 + 2*a^2*r^2*cos(theta)^2 + r^4) \n",
       "X_phi,t,phi,t = (3*(a^4*m*r - 2*a^2*m^2*r^2 + a^2*m*r^3)*sin(theta)^4 - (3*a^4*m*r - 6*a^2*m^2*r^2 + 2*a^2*m*r^3 + 2*m^2*r^4 - m*r^5)*sin(theta)^2)/(a^6*cos(theta)^6 + 3*a^4*r^2*cos(theta)^4 + 3*a^2*r^4*cos(theta)^2 + r^6) \n",
       "X_phi,r,t,r = -(6*(3*a^5*m^2*r^2*cos(theta)^2 - a^3*m^2*r^4)*sin(theta)^4 + (6*a^3*m^2*r^4 - 3*a^3*m*r^5 + 4*a*m^2*r^6 - 3*a*m*r^7 + 3*(3*a^7*m*r + 2*a^5*m^2*r^2 + 3*a^5*m*r^3)*cos(theta)^4 - 2*(9*a^5*m^2*r^2 - 3*a^5*m*r^3 + 7*a^3*m^2*r^4 - 3*a^3*m*r^5)*cos(theta)^2)*sin(theta)^2)/(a^2*r^8 - 2*m*r^9 + r^10 + (a^10 - 2*a^8*m*r + a^8*r^2)*cos(theta)^8 + 4*(a^8*r^2 - 2*a^6*m*r^3 + a^6*r^4)*cos(theta)^6 + 6*(a^6*r^4 - 2*a^4*m*r^5 + a^4*r^6)*cos(theta)^4 + 4*(a^4*r^6 - 2*a^2*m*r^7 + a^2*r^8)*cos(theta)^2) \n",
       "X_phi,r,t,theta = -(2*a^5*m*cos(theta)^5 - (3*a^5*m + 7*a^3*m*r^2)*cos(theta)^3 + 3*(3*a^3*m*r^2 + a*m*r^4)*cos(theta))*sin(theta)/(a^6*cos(theta)^6 + 3*a^4*r^2*cos(theta)^4 + 3*a^2*r^4*cos(theta)^2 + r^6) \n",
       "X_phi,r,r,t = (6*(3*a^5*m^2*r^2*cos(theta)^2 - a^3*m^2*r^4)*sin(theta)^4 + (6*a^3*m^2*r^4 - 3*a^3*m*r^5 + 4*a*m^2*r^6 - 3*a*m*r^7 + 3*(3*a^7*m*r + 2*a^5*m^2*r^2 + 3*a^5*m*r^3)*cos(theta)^4 - 2*(9*a^5*m^2*r^2 - 3*a^5*m*r^3 + 7*a^3*m^2*r^4 - 3*a^3*m*r^5)*cos(theta)^2)*sin(theta)^2)/(a^2*r^8 - 2*m*r^9 + r^10 + (a^10 - 2*a^8*m*r + a^8*r^2)*cos(theta)^8 + 4*(a^8*r^2 - 2*a^6*m*r^3 + a^6*r^4)*cos(theta)^6 + 6*(a^6*r^4 - 2*a^4*m*r^5 + a^4*r^6)*cos(theta)^4 + 4*(a^4*r^6 - 2*a^2*m*r^7 + a^2*r^8)*cos(theta)^2) \n",
       "X_phi,r,r,phi = -(6*(a^8*m*r - 2*a^6*m^2*r^2 + a^6*m*r^3)*sin(theta)^8 - (9*a^8*m*r - 24*a^6*m^2*r^2 + 10*a^6*m*r^3 - 8*a^4*m^2*r^4 + a^4*m*r^5)*sin(theta)^6 - 4*(3*a^6*m^2*r^2 + a^6*m*r^3 + 2*a^4*m^2*r^4 + 2*a^4*m*r^5 - a^2*m^2*r^6 + a^2*m*r^7)*sin(theta)^4 + (3*a^8*m*r + 8*a^6*m*r^3 + 6*a^4*m*r^5 - m*r^9)*sin(theta)^2)/(a^2*r^8 - 2*m*r^9 + r^10 + (a^10 - 2*a^8*m*r + a^8*r^2)*cos(theta)^8 + 4*(a^8*r^2 - 2*a^6*m*r^3 + a^6*r^4)*cos(theta)^6 + 6*(a^6*r^4 - 2*a^4*m*r^5 + a^4*r^6)*cos(theta)^4 + 4*(a^4*r^6 - 2*a^2*m*r^7 + a^2*r^8)*cos(theta)^2) \n",
       "X_phi,r,theta,t = (2*a^5*m*cos(theta)^5 - (3*a^5*m + 7*a^3*m*r^2)*cos(theta)^3 + 3*(3*a^3*m*r^2 + a*m*r^4)*cos(theta))*sin(theta)/(a^6*cos(theta)^6 + 3*a^4*r^2*cos(theta)^4 + 3*a^2*r^4*cos(theta)^2 + r^6) \n",
       "X_phi,r,theta,phi = 3*((a^8*m + a^6*m*r^2)*cos(theta)*sin(theta)^7 - 2*(a^8*m - a^4*m*r^4)*cos(theta)*sin(theta)^5 + (a^8*m - a^6*m*r^2 - 5*a^4*m*r^4 - 3*a^2*m*r^6)*cos(theta)*sin(theta)^3)/(a^8*cos(theta)^8 + 4*a^6*r^2*cos(theta)^6 + 6*a^4*r^4*cos(theta)^4 + 4*a^2*r^6*cos(theta)^2 + r^8) \n",
       "X_phi,r,phi,r = (6*(a^8*m*r - 2*a^6*m^2*r^2 + a^6*m*r^3)*sin(theta)^8 - (9*a^8*m*r - 24*a^6*m^2*r^2 + 10*a^6*m*r^3 - 8*a^4*m^2*r^4 + a^4*m*r^5)*sin(theta)^6 - 4*(3*a^6*m^2*r^2 + a^6*m*r^3 + 2*a^4*m^2*r^4 + 2*a^4*m*r^5 - a^2*m^2*r^6 + a^2*m*r^7)*sin(theta)^4 + (3*a^8*m*r + 8*a^6*m*r^3 + 6*a^4*m*r^5 - m*r^9)*sin(theta)^2)/(a^2*r^8 - 2*m*r^9 + r^10 + (a^10 - 2*a^8*m*r + a^8*r^2)*cos(theta)^8 + 4*(a^8*r^2 - 2*a^6*m*r^3 + a^6*r^4)*cos(theta)^6 + 6*(a^6*r^4 - 2*a^4*m*r^5 + a^4*r^6)*cos(theta)^4 + 4*(a^4*r^6 - 2*a^2*m*r^7 + a^2*r^8)*cos(theta)^2) \n",
       "X_phi,r,phi,theta = -3*((a^8*m + a^6*m*r^2)*cos(theta)*sin(theta)^7 - 2*(a^8*m - a^4*m*r^4)*cos(theta)*sin(theta)^5 + (a^8*m - a^6*m*r^2 - 5*a^4*m*r^4 - 3*a^2*m*r^6)*cos(theta)*sin(theta)^3)/(a^8*cos(theta)^8 + 4*a^6*r^2*cos(theta)^6 + 6*a^4*r^4*cos(theta)^4 + 4*a^2*r^6*cos(theta)^2 + r^8) \n",
       "X_phi,theta,t,r = -(a^5*m*cos(theta)^5 - (3*a^5*m + 5*a^3*m*r^2)*cos(theta)^3 + 3*(3*a^3*m*r^2 + 2*a*m*r^4)*cos(theta))*sin(theta)/(a^6*cos(theta)^6 + 3*a^4*r^2*cos(theta)^4 + 3*a^2*r^4*cos(theta)^2 + r^6) \n",
       "X_phi,theta,t,theta = (6*(3*a^5*m^2*r^2*cos(theta)^2 - a^3*m^2*r^4)*sin(theta)^4 + (6*a^3*m^2*r^4 - 3*a^3*m*r^5 + 2*a*m^2*r^6 - 3*a*m*r^7 + 3*(3*a^7*m*r + 4*a^5*m^2*r^2 + 3*a^5*m*r^3)*cos(theta)^4 - 2*(9*a^5*m^2*r^2 - 3*a^5*m*r^3 + 5*a^3*m^2*r^4 - 3*a^3*m*r^5)*cos(theta)^2)*sin(theta)^2)/(a^8*cos(theta)^8 + 4*a^6*r^2*cos(theta)^6 + 6*a^4*r^4*cos(theta)^4 + 4*a^2*r^6*cos(theta)^2 + r^8) \n",
       "X_phi,theta,r,t = (a^5*m*cos(theta)^5 - (3*a^5*m + 5*a^3*m*r^2)*cos(theta)^3 + 3*(3*a^3*m*r^2 + 2*a*m*r^4)*cos(theta))*sin(theta)/(a^6*cos(theta)^6 + 3*a^4*r^2*cos(theta)^4 + 3*a^2*r^4*cos(theta)^2 + r^6) \n",
       "X_phi,theta,r,phi = 3*((a^8*m + a^6*m*r^2)*cos(theta)*sin(theta)^7 - 2*(a^8*m - a^4*m*r^4)*cos(theta)*sin(theta)^5 + (a^8*m - a^6*m*r^2 - 5*a^4*m*r^4 - 3*a^2*m*r^6)*cos(theta)*sin(theta)^3)/(a^8*cos(theta)^8 + 4*a^6*r^2*cos(theta)^6 + 6*a^4*r^4*cos(theta)^4 + 4*a^2*r^6*cos(theta)^2 + r^8) \n",
       "X_phi,theta,theta,t = -(6*(3*a^5*m^2*r^2*cos(theta)^2 - a^3*m^2*r^4)*sin(theta)^4 + (6*a^3*m^2*r^4 - 3*a^3*m*r^5 + 2*a*m^2*r^6 - 3*a*m*r^7 + 3*(3*a^7*m*r + 4*a^5*m^2*r^2 + 3*a^5*m*r^3)*cos(theta)^4 - 2*(9*a^5*m^2*r^2 - 3*a^5*m*r^3 + 5*a^3*m^2*r^4 - 3*a^3*m*r^5)*cos(theta)^2)*sin(theta)^2)/(a^8*cos(theta)^8 + 4*a^6*r^2*cos(theta)^6 + 6*a^4*r^4*cos(theta)^4 + 4*a^2*r^6*cos(theta)^2 + r^8) \n",
       "X_phi,theta,theta,phi = (3*(a^8*m*r - 2*a^6*m^2*r^2 + a^6*m*r^3)*sin(theta)^8 + 4*(3*a^6*m^2*r^2 + a^6*m*r^3 + a^4*m^2*r^4 + a^4*m*r^5)*sin(theta)^6 - (9*a^8*m*r + 6*a^6*m^2*r^2 + 23*a^6*m*r^3 + 4*a^4*m^2*r^4 + 19*a^4*m*r^5 - 2*a^2*m^2*r^6 + 5*a^2*m*r^7)*sin(theta)^4 + 2*(3*a^8*m*r + 8*a^6*m*r^3 + 6*a^4*m*r^5 - m*r^9)*sin(theta)^2)/(a^8*cos(theta)^8 + 4*a^6*r^2*cos(theta)^6 + 6*a^4*r^4*cos(theta)^4 + 4*a^2*r^6*cos(theta)^2 + r^8) \n",
       "X_phi,theta,phi,r = -3*((a^8*m + a^6*m*r^2)*cos(theta)*sin(theta)^7 - 2*(a^8*m - a^4*m*r^4)*cos(theta)*sin(theta)^5 + (a^8*m - a^6*m*r^2 - 5*a^4*m*r^4 - 3*a^2*m*r^6)*cos(theta)*sin(theta)^3)/(a^8*cos(theta)^8 + 4*a^6*r^2*cos(theta)^6 + 6*a^4*r^4*cos(theta)^4 + 4*a^2*r^6*cos(theta)^2 + r^8) \n",
       "X_phi,theta,phi,theta = -(3*(a^8*m*r - 2*a^6*m^2*r^2 + a^6*m*r^3)*sin(theta)^8 + 4*(3*a^6*m^2*r^2 + a^6*m*r^3 + a^4*m^2*r^4 + a^4*m*r^5)*sin(theta)^6 - (9*a^8*m*r + 6*a^6*m^2*r^2 + 23*a^6*m*r^3 + 4*a^4*m^2*r^4 + 19*a^4*m*r^5 - 2*a^2*m^2*r^6 + 5*a^2*m*r^7)*sin(theta)^4 + 2*(3*a^8*m*r + 8*a^6*m*r^3 + 6*a^4*m*r^5 - m*r^9)*sin(theta)^2)/(a^8*cos(theta)^8 + 4*a^6*r^2*cos(theta)^6 + 6*a^4*r^4*cos(theta)^4 + 4*a^2*r^6*cos(theta)^2 + r^8) "
      ]
     },
     "execution_count": 27,
     "metadata": {},
     "output_type": "execute_result"
    }
   ],
   "source": [
    "#Riemann tensor\n",
    "Riemann_kerr=g_kerr.riemann()\n",
    "#let's lower the indices\n",
    "final_kerr=Riemann_kerr.down(g_kerr,0)\n",
    "final_kerr.display_comp( only_nonzero=True)"
   ]
  },
  {
   "cell_type": "code",
   "execution_count": 31,
   "id": "fe97bb4e",
   "metadata": {},
   "outputs": [
    {
     "name": "stdout",
     "output_type": "stream",
     "text": [
      "R_0003 = \n"
     ]
    },
    {
     "data": {
      "text/html": [
       "<html><script type=\"math/tex; mode=display\">\\newcommand{\\Bold}[1]{\\mathbf{#1}}\\frac{2 \\, {\\left(3 \\, a^{3} m^{2} r^{2} \\cos\\left(\\theta\\right)^{4} + a m^{2} r^{4} - {\\left(3 \\, a^{3} m^{2} r^{2} + a m^{2} r^{4}\\right)} \\cos\\left(\\theta\\right)^{2}\\right)}}{a^{8} \\cos\\left(\\theta\\right)^{8} + 4 \\, a^{6} r^{2} \\cos\\left(\\theta\\right)^{6} + 6 \\, a^{4} r^{4} \\cos\\left(\\theta\\right)^{4} + 4 \\, a^{2} r^{6} \\cos\\left(\\theta\\right)^{2} + r^{8}}</script></html>"
      ],
      "text/latex": [
       "$$\\newcommand{\\Bold}[1]{\\mathbf{#1}}\\frac{2 \\, {\\left(3 \\, a^{3} m^{2} r^{2} \\cos\\left(\\theta\\right)^{4} + a m^{2} r^{4} - {\\left(3 \\, a^{3} m^{2} r^{2} + a m^{2} r^{4}\\right)} \\cos\\left(\\theta\\right)^{2}\\right)}}{a^{8} \\cos\\left(\\theta\\right)^{8} + 4 \\, a^{6} r^{2} \\cos\\left(\\theta\\right)^{6} + 6 \\, a^{4} r^{4} \\cos\\left(\\theta\\right)^{4} + 4 \\, a^{2} r^{6} \\cos\\left(\\theta\\right)^{2} + r^{8}}$$"
      ],
      "text/plain": [
       "\\frac{2 \\, {\\left(3 \\, a^{3} m^{2} r^{2} \\cos\\left(\\theta\\right)^{4} + a m^{2} r^{4} - {\\left(3 \\, a^{3} m^{2} r^{2} + a m^{2} r^{4}\\right)} \\cos\\left(\\theta\\right)^{2}\\right)}}{a^{8} \\cos\\left(\\theta\\right)^{8} + 4 \\, a^{6} r^{2} \\cos\\left(\\theta\\right)^{6} + 6 \\, a^{4} r^{4} \\cos\\left(\\theta\\right)^{4} + 4 \\, a^{2} r^{6} \\cos\\left(\\theta\\right)^{2} + r^{8}}"
      ]
     },
     "metadata": {},
     "output_type": "display_data"
    },
    {
     "name": "stdout",
     "output_type": "stream",
     "text": [
      "R_0012 = \n"
     ]
    },
    {
     "data": {
      "text/html": [
       "<html><script type=\"math/tex; mode=display\">\\newcommand{\\Bold}[1]{\\mathbf{#1}}\\frac{2 \\, {\\left(a^{4} m^{2} r \\cos\\left(\\theta\\right)^{3} - 3 \\, a^{2} m^{2} r^{3} \\cos\\left(\\theta\\right)\\right)} \\sin\\left(\\theta\\right)}{a^{2} r^{6} - 2 \\, m r^{7} + r^{8} + {\\left(a^{8} - 2 \\, a^{6} m r + a^{6} r^{2}\\right)} \\cos\\left(\\theta\\right)^{6} + 3 \\, {\\left(a^{6} r^{2} - 2 \\, a^{4} m r^{3} + a^{4} r^{4}\\right)} \\cos\\left(\\theta\\right)^{4} + 3 \\, {\\left(a^{4} r^{4} - 2 \\, a^{2} m r^{5} + a^{2} r^{6}\\right)} \\cos\\left(\\theta\\right)^{2}}</script></html>"
      ],
      "text/latex": [
       "$$\\newcommand{\\Bold}[1]{\\mathbf{#1}}\\frac{2 \\, {\\left(a^{4} m^{2} r \\cos\\left(\\theta\\right)^{3} - 3 \\, a^{2} m^{2} r^{3} \\cos\\left(\\theta\\right)\\right)} \\sin\\left(\\theta\\right)}{a^{2} r^{6} - 2 \\, m r^{7} + r^{8} + {\\left(a^{8} - 2 \\, a^{6} m r + a^{6} r^{2}\\right)} \\cos\\left(\\theta\\right)^{6} + 3 \\, {\\left(a^{6} r^{2} - 2 \\, a^{4} m r^{3} + a^{4} r^{4}\\right)} \\cos\\left(\\theta\\right)^{4} + 3 \\, {\\left(a^{4} r^{4} - 2 \\, a^{2} m r^{5} + a^{2} r^{6}\\right)} \\cos\\left(\\theta\\right)^{2}}$$"
      ],
      "text/plain": [
       "\\frac{2 \\, {\\left(a^{4} m^{2} r \\cos\\left(\\theta\\right)^{3} - 3 \\, a^{2} m^{2} r^{3} \\cos\\left(\\theta\\right)\\right)} \\sin\\left(\\theta\\right)}{a^{2} r^{6} - 2 \\, m r^{7} + r^{8} + {\\left(a^{8} - 2 \\, a^{6} m r + a^{6} r^{2}\\right)} \\cos\\left(\\theta\\right)^{6} + 3 \\, {\\left(a^{6} r^{2} - 2 \\, a^{4} m r^{3} + a^{4} r^{4}\\right)} \\cos\\left(\\theta\\right)^{4} + 3 \\, {\\left(a^{4} r^{4} - 2 \\, a^{2} m r^{5} + a^{2} r^{6}\\right)} \\cos\\left(\\theta\\right)^{2}}"
      ]
     },
     "metadata": {},
     "output_type": "display_data"
    },
    {
     "name": "stdout",
     "output_type": "stream",
     "text": [
      "R_0021 = \n"
     ]
    },
    {
     "data": {
      "text/html": [
       "<html><script type=\"math/tex; mode=display\">\\newcommand{\\Bold}[1]{\\mathbf{#1}}-\\frac{2 \\, {\\left(a^{4} m^{2} r \\cos\\left(\\theta\\right)^{3} - 3 \\, a^{2} m^{2} r^{3} \\cos\\left(\\theta\\right)\\right)} \\sin\\left(\\theta\\right)}{a^{2} r^{6} - 2 \\, m r^{7} + r^{8} + {\\left(a^{8} - 2 \\, a^{6} m r + a^{6} r^{2}\\right)} \\cos\\left(\\theta\\right)^{6} + 3 \\, {\\left(a^{6} r^{2} - 2 \\, a^{4} m r^{3} + a^{4} r^{4}\\right)} \\cos\\left(\\theta\\right)^{4} + 3 \\, {\\left(a^{4} r^{4} - 2 \\, a^{2} m r^{5} + a^{2} r^{6}\\right)} \\cos\\left(\\theta\\right)^{2}}</script></html>"
      ],
      "text/latex": [
       "$$\\newcommand{\\Bold}[1]{\\mathbf{#1}}-\\frac{2 \\, {\\left(a^{4} m^{2} r \\cos\\left(\\theta\\right)^{3} - 3 \\, a^{2} m^{2} r^{3} \\cos\\left(\\theta\\right)\\right)} \\sin\\left(\\theta\\right)}{a^{2} r^{6} - 2 \\, m r^{7} + r^{8} + {\\left(a^{8} - 2 \\, a^{6} m r + a^{6} r^{2}\\right)} \\cos\\left(\\theta\\right)^{6} + 3 \\, {\\left(a^{6} r^{2} - 2 \\, a^{4} m r^{3} + a^{4} r^{4}\\right)} \\cos\\left(\\theta\\right)^{4} + 3 \\, {\\left(a^{4} r^{4} - 2 \\, a^{2} m r^{5} + a^{2} r^{6}\\right)} \\cos\\left(\\theta\\right)^{2}}$$"
      ],
      "text/plain": [
       "-\\frac{2 \\, {\\left(a^{4} m^{2} r \\cos\\left(\\theta\\right)^{3} - 3 \\, a^{2} m^{2} r^{3} \\cos\\left(\\theta\\right)\\right)} \\sin\\left(\\theta\\right)}{a^{2} r^{6} - 2 \\, m r^{7} + r^{8} + {\\left(a^{8} - 2 \\, a^{6} m r + a^{6} r^{2}\\right)} \\cos\\left(\\theta\\right)^{6} + 3 \\, {\\left(a^{6} r^{2} - 2 \\, a^{4} m r^{3} + a^{4} r^{4}\\right)} \\cos\\left(\\theta\\right)^{4} + 3 \\, {\\left(a^{4} r^{4} - 2 \\, a^{2} m r^{5} + a^{2} r^{6}\\right)} \\cos\\left(\\theta\\right)^{2}}"
      ]
     },
     "metadata": {},
     "output_type": "display_data"
    },
    {
     "name": "stdout",
     "output_type": "stream",
     "text": [
      "R_0030 = \n"
     ]
    },
    {
     "data": {
      "text/html": [
       "<html><script type=\"math/tex; mode=display\">\\newcommand{\\Bold}[1]{\\mathbf{#1}}-\\frac{2 \\, {\\left(3 \\, a^{3} m^{2} r^{2} \\cos\\left(\\theta\\right)^{4} + a m^{2} r^{4} - {\\left(3 \\, a^{3} m^{2} r^{2} + a m^{2} r^{4}\\right)} \\cos\\left(\\theta\\right)^{2}\\right)}}{a^{8} \\cos\\left(\\theta\\right)^{8} + 4 \\, a^{6} r^{2} \\cos\\left(\\theta\\right)^{6} + 6 \\, a^{4} r^{4} \\cos\\left(\\theta\\right)^{4} + 4 \\, a^{2} r^{6} \\cos\\left(\\theta\\right)^{2} + r^{8}}</script></html>"
      ],
      "text/latex": [
       "$$\\newcommand{\\Bold}[1]{\\mathbf{#1}}-\\frac{2 \\, {\\left(3 \\, a^{3} m^{2} r^{2} \\cos\\left(\\theta\\right)^{4} + a m^{2} r^{4} - {\\left(3 \\, a^{3} m^{2} r^{2} + a m^{2} r^{4}\\right)} \\cos\\left(\\theta\\right)^{2}\\right)}}{a^{8} \\cos\\left(\\theta\\right)^{8} + 4 \\, a^{6} r^{2} \\cos\\left(\\theta\\right)^{6} + 6 \\, a^{4} r^{4} \\cos\\left(\\theta\\right)^{4} + 4 \\, a^{2} r^{6} \\cos\\left(\\theta\\right)^{2} + r^{8}}$$"
      ],
      "text/plain": [
       "-\\frac{2 \\, {\\left(3 \\, a^{3} m^{2} r^{2} \\cos\\left(\\theta\\right)^{4} + a m^{2} r^{4} - {\\left(3 \\, a^{3} m^{2} r^{2} + a m^{2} r^{4}\\right)} \\cos\\left(\\theta\\right)^{2}\\right)}}{a^{8} \\cos\\left(\\theta\\right)^{8} + 4 \\, a^{6} r^{2} \\cos\\left(\\theta\\right)^{6} + 6 \\, a^{4} r^{4} \\cos\\left(\\theta\\right)^{4} + 4 \\, a^{2} r^{6} \\cos\\left(\\theta\\right)^{2} + r^{8}}"
      ]
     },
     "metadata": {},
     "output_type": "display_data"
    },
    {
     "name": "stdout",
     "output_type": "stream",
     "text": [
      "R_0101 = \n"
     ]
    },
    {
     "data": {
      "text/html": [
       "<html><script type=\"math/tex; mode=display\">\\newcommand{\\Bold}[1]{\\mathbf{#1}}\\frac{3 \\, a^{4} m r \\cos\\left(\\theta\\right)^{4} + 3 \\, a^{2} m r^{3} + 2 \\, m r^{5} - {\\left(9 \\, a^{4} m r + 7 \\, a^{2} m r^{3}\\right)} \\cos\\left(\\theta\\right)^{2}}{a^{2} r^{6} - 2 \\, m r^{7} + r^{8} + {\\left(a^{8} - 2 \\, a^{6} m r + a^{6} r^{2}\\right)} \\cos\\left(\\theta\\right)^{6} + 3 \\, {\\left(a^{6} r^{2} - 2 \\, a^{4} m r^{3} + a^{4} r^{4}\\right)} \\cos\\left(\\theta\\right)^{4} + 3 \\, {\\left(a^{4} r^{4} - 2 \\, a^{2} m r^{5} + a^{2} r^{6}\\right)} \\cos\\left(\\theta\\right)^{2}}</script></html>"
      ],
      "text/latex": [
       "$$\\newcommand{\\Bold}[1]{\\mathbf{#1}}\\frac{3 \\, a^{4} m r \\cos\\left(\\theta\\right)^{4} + 3 \\, a^{2} m r^{3} + 2 \\, m r^{5} - {\\left(9 \\, a^{4} m r + 7 \\, a^{2} m r^{3}\\right)} \\cos\\left(\\theta\\right)^{2}}{a^{2} r^{6} - 2 \\, m r^{7} + r^{8} + {\\left(a^{8} - 2 \\, a^{6} m r + a^{6} r^{2}\\right)} \\cos\\left(\\theta\\right)^{6} + 3 \\, {\\left(a^{6} r^{2} - 2 \\, a^{4} m r^{3} + a^{4} r^{4}\\right)} \\cos\\left(\\theta\\right)^{4} + 3 \\, {\\left(a^{4} r^{4} - 2 \\, a^{2} m r^{5} + a^{2} r^{6}\\right)} \\cos\\left(\\theta\\right)^{2}}$$"
      ],
      "text/plain": [
       "\\frac{3 \\, a^{4} m r \\cos\\left(\\theta\\right)^{4} + 3 \\, a^{2} m r^{3} + 2 \\, m r^{5} - {\\left(9 \\, a^{4} m r + 7 \\, a^{2} m r^{3}\\right)} \\cos\\left(\\theta\\right)^{2}}{a^{2} r^{6} - 2 \\, m r^{7} + r^{8} + {\\left(a^{8} - 2 \\, a^{6} m r + a^{6} r^{2}\\right)} \\cos\\left(\\theta\\right)^{6} + 3 \\, {\\left(a^{6} r^{2} - 2 \\, a^{4} m r^{3} + a^{4} r^{4}\\right)} \\cos\\left(\\theta\\right)^{4} + 3 \\, {\\left(a^{4} r^{4} - 2 \\, a^{2} m r^{5} + a^{2} r^{6}\\right)} \\cos\\left(\\theta\\right)^{2}}"
      ]
     },
     "metadata": {},
     "output_type": "display_data"
    },
    {
     "name": "stdout",
     "output_type": "stream",
     "text": [
      "R_0102 = \n"
     ]
    },
    {
     "data": {
      "text/html": [
       "<html><script type=\"math/tex; mode=display\">\\newcommand{\\Bold}[1]{\\mathbf{#1}}\\frac{{\\left({\\left(3 \\, a^{6} m - 2 \\, a^{4} m^{2} r + 3 \\, a^{4} m r^{2}\\right)} \\cos\\left(\\theta\\right)^{3} - 3 \\, {\\left(3 \\, a^{4} m r^{2} - 2 \\, a^{2} m^{2} r^{3} + 3 \\, a^{2} m r^{4}\\right)} \\cos\\left(\\theta\\right)\\right)} \\sin\\left(\\theta\\right)}{a^{2} r^{6} - 2 \\, m r^{7} + r^{8} + {\\left(a^{8} - 2 \\, a^{6} m r + a^{6} r^{2}\\right)} \\cos\\left(\\theta\\right)^{6} + 3 \\, {\\left(a^{6} r^{2} - 2 \\, a^{4} m r^{3} + a^{4} r^{4}\\right)} \\cos\\left(\\theta\\right)^{4} + 3 \\, {\\left(a^{4} r^{4} - 2 \\, a^{2} m r^{5} + a^{2} r^{6}\\right)} \\cos\\left(\\theta\\right)^{2}}</script></html>"
      ],
      "text/latex": [
       "$$\\newcommand{\\Bold}[1]{\\mathbf{#1}}\\frac{{\\left({\\left(3 \\, a^{6} m - 2 \\, a^{4} m^{2} r + 3 \\, a^{4} m r^{2}\\right)} \\cos\\left(\\theta\\right)^{3} - 3 \\, {\\left(3 \\, a^{4} m r^{2} - 2 \\, a^{2} m^{2} r^{3} + 3 \\, a^{2} m r^{4}\\right)} \\cos\\left(\\theta\\right)\\right)} \\sin\\left(\\theta\\right)}{a^{2} r^{6} - 2 \\, m r^{7} + r^{8} + {\\left(a^{8} - 2 \\, a^{6} m r + a^{6} r^{2}\\right)} \\cos\\left(\\theta\\right)^{6} + 3 \\, {\\left(a^{6} r^{2} - 2 \\, a^{4} m r^{3} + a^{4} r^{4}\\right)} \\cos\\left(\\theta\\right)^{4} + 3 \\, {\\left(a^{4} r^{4} - 2 \\, a^{2} m r^{5} + a^{2} r^{6}\\right)} \\cos\\left(\\theta\\right)^{2}}$$"
      ],
      "text/plain": [
       "\\frac{{\\left({\\left(3 \\, a^{6} m - 2 \\, a^{4} m^{2} r + 3 \\, a^{4} m r^{2}\\right)} \\cos\\left(\\theta\\right)^{3} - 3 \\, {\\left(3 \\, a^{4} m r^{2} - 2 \\, a^{2} m^{2} r^{3} + 3 \\, a^{2} m r^{4}\\right)} \\cos\\left(\\theta\\right)\\right)} \\sin\\left(\\theta\\right)}{a^{2} r^{6} - 2 \\, m r^{7} + r^{8} + {\\left(a^{8} - 2 \\, a^{6} m r + a^{6} r^{2}\\right)} \\cos\\left(\\theta\\right)^{6} + 3 \\, {\\left(a^{6} r^{2} - 2 \\, a^{4} m r^{3} + a^{4} r^{4}\\right)} \\cos\\left(\\theta\\right)^{4} + 3 \\, {\\left(a^{4} r^{4} - 2 \\, a^{2} m r^{5} + a^{2} r^{6}\\right)} \\cos\\left(\\theta\\right)^{2}}"
      ]
     },
     "metadata": {},
     "output_type": "display_data"
    },
    {
     "name": "stdout",
     "output_type": "stream",
     "text": [
      "R_0110 = \n"
     ]
    },
    {
     "data": {
      "text/html": [
       "<html><script type=\"math/tex; mode=display\">\\newcommand{\\Bold}[1]{\\mathbf{#1}}-\\frac{3 \\, a^{4} m r \\cos\\left(\\theta\\right)^{4} + 3 \\, a^{2} m r^{3} + 2 \\, m r^{5} - {\\left(9 \\, a^{4} m r + 7 \\, a^{2} m r^{3}\\right)} \\cos\\left(\\theta\\right)^{2}}{a^{2} r^{6} - 2 \\, m r^{7} + r^{8} + {\\left(a^{8} - 2 \\, a^{6} m r + a^{6} r^{2}\\right)} \\cos\\left(\\theta\\right)^{6} + 3 \\, {\\left(a^{6} r^{2} - 2 \\, a^{4} m r^{3} + a^{4} r^{4}\\right)} \\cos\\left(\\theta\\right)^{4} + 3 \\, {\\left(a^{4} r^{4} - 2 \\, a^{2} m r^{5} + a^{2} r^{6}\\right)} \\cos\\left(\\theta\\right)^{2}}</script></html>"
      ],
      "text/latex": [
       "$$\\newcommand{\\Bold}[1]{\\mathbf{#1}}-\\frac{3 \\, a^{4} m r \\cos\\left(\\theta\\right)^{4} + 3 \\, a^{2} m r^{3} + 2 \\, m r^{5} - {\\left(9 \\, a^{4} m r + 7 \\, a^{2} m r^{3}\\right)} \\cos\\left(\\theta\\right)^{2}}{a^{2} r^{6} - 2 \\, m r^{7} + r^{8} + {\\left(a^{8} - 2 \\, a^{6} m r + a^{6} r^{2}\\right)} \\cos\\left(\\theta\\right)^{6} + 3 \\, {\\left(a^{6} r^{2} - 2 \\, a^{4} m r^{3} + a^{4} r^{4}\\right)} \\cos\\left(\\theta\\right)^{4} + 3 \\, {\\left(a^{4} r^{4} - 2 \\, a^{2} m r^{5} + a^{2} r^{6}\\right)} \\cos\\left(\\theta\\right)^{2}}$$"
      ],
      "text/plain": [
       "-\\frac{3 \\, a^{4} m r \\cos\\left(\\theta\\right)^{4} + 3 \\, a^{2} m r^{3} + 2 \\, m r^{5} - {\\left(9 \\, a^{4} m r + 7 \\, a^{2} m r^{3}\\right)} \\cos\\left(\\theta\\right)^{2}}{a^{2} r^{6} - 2 \\, m r^{7} + r^{8} + {\\left(a^{8} - 2 \\, a^{6} m r + a^{6} r^{2}\\right)} \\cos\\left(\\theta\\right)^{6} + 3 \\, {\\left(a^{6} r^{2} - 2 \\, a^{4} m r^{3} + a^{4} r^{4}\\right)} \\cos\\left(\\theta\\right)^{4} + 3 \\, {\\left(a^{4} r^{4} - 2 \\, a^{2} m r^{5} + a^{2} r^{6}\\right)} \\cos\\left(\\theta\\right)^{2}}"
      ]
     },
     "metadata": {},
     "output_type": "display_data"
    },
    {
     "name": "stdout",
     "output_type": "stream",
     "text": [
      "R_0113 = \n"
     ]
    },
    {
     "data": {
      "text/html": [
       "<html><script type=\"math/tex; mode=display\">\\newcommand{\\Bold}[1]{\\mathbf{#1}}\\frac{3 \\, {\\left(3 \\, {\\left(a^{5} m r + a^{3} m r^{3}\\right)} \\sin\\left(\\theta\\right)^{4} - {\\left(3 \\, a^{5} m r + 2 \\, a^{3} m r^{3} - a m r^{5}\\right)} \\sin\\left(\\theta\\right)^{2}\\right)}}{a^{2} r^{6} - 2 \\, m r^{7} + r^{8} + {\\left(a^{8} - 2 \\, a^{6} m r + a^{6} r^{2}\\right)} \\cos\\left(\\theta\\right)^{6} + 3 \\, {\\left(a^{6} r^{2} - 2 \\, a^{4} m r^{3} + a^{4} r^{4}\\right)} \\cos\\left(\\theta\\right)^{4} + 3 \\, {\\left(a^{4} r^{4} - 2 \\, a^{2} m r^{5} + a^{2} r^{6}\\right)} \\cos\\left(\\theta\\right)^{2}}</script></html>"
      ],
      "text/latex": [
       "$$\\newcommand{\\Bold}[1]{\\mathbf{#1}}\\frac{3 \\, {\\left(3 \\, {\\left(a^{5} m r + a^{3} m r^{3}\\right)} \\sin\\left(\\theta\\right)^{4} - {\\left(3 \\, a^{5} m r + 2 \\, a^{3} m r^{3} - a m r^{5}\\right)} \\sin\\left(\\theta\\right)^{2}\\right)}}{a^{2} r^{6} - 2 \\, m r^{7} + r^{8} + {\\left(a^{8} - 2 \\, a^{6} m r + a^{6} r^{2}\\right)} \\cos\\left(\\theta\\right)^{6} + 3 \\, {\\left(a^{6} r^{2} - 2 \\, a^{4} m r^{3} + a^{4} r^{4}\\right)} \\cos\\left(\\theta\\right)^{4} + 3 \\, {\\left(a^{4} r^{4} - 2 \\, a^{2} m r^{5} + a^{2} r^{6}\\right)} \\cos\\left(\\theta\\right)^{2}}$$"
      ],
      "text/plain": [
       "\\frac{3 \\, {\\left(3 \\, {\\left(a^{5} m r + a^{3} m r^{3}\\right)} \\sin\\left(\\theta\\right)^{4} - {\\left(3 \\, a^{5} m r + 2 \\, a^{3} m r^{3} - a m r^{5}\\right)} \\sin\\left(\\theta\\right)^{2}\\right)}}{a^{2} r^{6} - 2 \\, m r^{7} + r^{8} + {\\left(a^{8} - 2 \\, a^{6} m r + a^{6} r^{2}\\right)} \\cos\\left(\\theta\\right)^{6} + 3 \\, {\\left(a^{6} r^{2} - 2 \\, a^{4} m r^{3} + a^{4} r^{4}\\right)} \\cos\\left(\\theta\\right)^{4} + 3 \\, {\\left(a^{4} r^{4} - 2 \\, a^{2} m r^{5} + a^{2} r^{6}\\right)} \\cos\\left(\\theta\\right)^{2}}"
      ]
     },
     "metadata": {},
     "output_type": "display_data"
    },
    {
     "name": "stdout",
     "output_type": "stream",
     "text": [
      "R_0120 = \n"
     ]
    },
    {
     "data": {
      "text/html": [
       "<html><script type=\"math/tex; mode=display\">\\newcommand{\\Bold}[1]{\\mathbf{#1}}-\\frac{{\\left({\\left(3 \\, a^{6} m - 2 \\, a^{4} m^{2} r + 3 \\, a^{4} m r^{2}\\right)} \\cos\\left(\\theta\\right)^{3} - 3 \\, {\\left(3 \\, a^{4} m r^{2} - 2 \\, a^{2} m^{2} r^{3} + 3 \\, a^{2} m r^{4}\\right)} \\cos\\left(\\theta\\right)\\right)} \\sin\\left(\\theta\\right)}{a^{2} r^{6} - 2 \\, m r^{7} + r^{8} + {\\left(a^{8} - 2 \\, a^{6} m r + a^{6} r^{2}\\right)} \\cos\\left(\\theta\\right)^{6} + 3 \\, {\\left(a^{6} r^{2} - 2 \\, a^{4} m r^{3} + a^{4} r^{4}\\right)} \\cos\\left(\\theta\\right)^{4} + 3 \\, {\\left(a^{4} r^{4} - 2 \\, a^{2} m r^{5} + a^{2} r^{6}\\right)} \\cos\\left(\\theta\\right)^{2}}</script></html>"
      ],
      "text/latex": [
       "$$\\newcommand{\\Bold}[1]{\\mathbf{#1}}-\\frac{{\\left({\\left(3 \\, a^{6} m - 2 \\, a^{4} m^{2} r + 3 \\, a^{4} m r^{2}\\right)} \\cos\\left(\\theta\\right)^{3} - 3 \\, {\\left(3 \\, a^{4} m r^{2} - 2 \\, a^{2} m^{2} r^{3} + 3 \\, a^{2} m r^{4}\\right)} \\cos\\left(\\theta\\right)\\right)} \\sin\\left(\\theta\\right)}{a^{2} r^{6} - 2 \\, m r^{7} + r^{8} + {\\left(a^{8} - 2 \\, a^{6} m r + a^{6} r^{2}\\right)} \\cos\\left(\\theta\\right)^{6} + 3 \\, {\\left(a^{6} r^{2} - 2 \\, a^{4} m r^{3} + a^{4} r^{4}\\right)} \\cos\\left(\\theta\\right)^{4} + 3 \\, {\\left(a^{4} r^{4} - 2 \\, a^{2} m r^{5} + a^{2} r^{6}\\right)} \\cos\\left(\\theta\\right)^{2}}$$"
      ],
      "text/plain": [
       "-\\frac{{\\left({\\left(3 \\, a^{6} m - 2 \\, a^{4} m^{2} r + 3 \\, a^{4} m r^{2}\\right)} \\cos\\left(\\theta\\right)^{3} - 3 \\, {\\left(3 \\, a^{4} m r^{2} - 2 \\, a^{2} m^{2} r^{3} + 3 \\, a^{2} m r^{4}\\right)} \\cos\\left(\\theta\\right)\\right)} \\sin\\left(\\theta\\right)}{a^{2} r^{6} - 2 \\, m r^{7} + r^{8} + {\\left(a^{8} - 2 \\, a^{6} m r + a^{6} r^{2}\\right)} \\cos\\left(\\theta\\right)^{6} + 3 \\, {\\left(a^{6} r^{2} - 2 \\, a^{4} m r^{3} + a^{4} r^{4}\\right)} \\cos\\left(\\theta\\right)^{4} + 3 \\, {\\left(a^{4} r^{4} - 2 \\, a^{2} m r^{5} + a^{2} r^{6}\\right)} \\cos\\left(\\theta\\right)^{2}}"
      ]
     },
     "metadata": {},
     "output_type": "display_data"
    },
    {
     "name": "stdout",
     "output_type": "stream",
     "text": [
      "R_0123 = \n"
     ]
    },
    {
     "data": {
      "text/html": [
       "<html><script type=\"math/tex; mode=display\">\\newcommand{\\Bold}[1]{\\mathbf{#1}}-\\frac{{\\left({\\left(a^{7} m - 2 \\, a^{5} m^{2} r + a^{5} m r^{2}\\right)} \\cos\\left(\\theta\\right)^{5} - {\\left(3 \\, a^{7} m - 2 \\, a^{5} m^{2} r + 8 \\, a^{5} m r^{2} - 6 \\, a^{3} m^{2} r^{3} + 5 \\, a^{3} m r^{4}\\right)} \\cos\\left(\\theta\\right)^{3} + 3 \\, {\\left(3 \\, a^{5} m r^{2} - 2 \\, a^{3} m^{2} r^{3} + 5 \\, a^{3} m r^{4} + 2 \\, a m r^{6}\\right)} \\cos\\left(\\theta\\right)\\right)} \\sin\\left(\\theta\\right)}{a^{2} r^{6} - 2 \\, m r^{7} + r^{8} + {\\left(a^{8} - 2 \\, a^{6} m r + a^{6} r^{2}\\right)} \\cos\\left(\\theta\\right)^{6} + 3 \\, {\\left(a^{6} r^{2} - 2 \\, a^{4} m r^{3} + a^{4} r^{4}\\right)} \\cos\\left(\\theta\\right)^{4} + 3 \\, {\\left(a^{4} r^{4} - 2 \\, a^{2} m r^{5} + a^{2} r^{6}\\right)} \\cos\\left(\\theta\\right)^{2}}</script></html>"
      ],
      "text/latex": [
       "$$\\newcommand{\\Bold}[1]{\\mathbf{#1}}-\\frac{{\\left({\\left(a^{7} m - 2 \\, a^{5} m^{2} r + a^{5} m r^{2}\\right)} \\cos\\left(\\theta\\right)^{5} - {\\left(3 \\, a^{7} m - 2 \\, a^{5} m^{2} r + 8 \\, a^{5} m r^{2} - 6 \\, a^{3} m^{2} r^{3} + 5 \\, a^{3} m r^{4}\\right)} \\cos\\left(\\theta\\right)^{3} + 3 \\, {\\left(3 \\, a^{5} m r^{2} - 2 \\, a^{3} m^{2} r^{3} + 5 \\, a^{3} m r^{4} + 2 \\, a m r^{6}\\right)} \\cos\\left(\\theta\\right)\\right)} \\sin\\left(\\theta\\right)}{a^{2} r^{6} - 2 \\, m r^{7} + r^{8} + {\\left(a^{8} - 2 \\, a^{6} m r + a^{6} r^{2}\\right)} \\cos\\left(\\theta\\right)^{6} + 3 \\, {\\left(a^{6} r^{2} - 2 \\, a^{4} m r^{3} + a^{4} r^{4}\\right)} \\cos\\left(\\theta\\right)^{4} + 3 \\, {\\left(a^{4} r^{4} - 2 \\, a^{2} m r^{5} + a^{2} r^{6}\\right)} \\cos\\left(\\theta\\right)^{2}}$$"
      ],
      "text/plain": [
       "-\\frac{{\\left({\\left(a^{7} m - 2 \\, a^{5} m^{2} r + a^{5} m r^{2}\\right)} \\cos\\left(\\theta\\right)^{5} - {\\left(3 \\, a^{7} m - 2 \\, a^{5} m^{2} r + 8 \\, a^{5} m r^{2} - 6 \\, a^{3} m^{2} r^{3} + 5 \\, a^{3} m r^{4}\\right)} \\cos\\left(\\theta\\right)^{3} + 3 \\, {\\left(3 \\, a^{5} m r^{2} - 2 \\, a^{3} m^{2} r^{3} + 5 \\, a^{3} m r^{4} + 2 \\, a m r^{6}\\right)} \\cos\\left(\\theta\\right)\\right)} \\sin\\left(\\theta\\right)}{a^{2} r^{6} - 2 \\, m r^{7} + r^{8} + {\\left(a^{8} - 2 \\, a^{6} m r + a^{6} r^{2}\\right)} \\cos\\left(\\theta\\right)^{6} + 3 \\, {\\left(a^{6} r^{2} - 2 \\, a^{4} m r^{3} + a^{4} r^{4}\\right)} \\cos\\left(\\theta\\right)^{4} + 3 \\, {\\left(a^{4} r^{4} - 2 \\, a^{2} m r^{5} + a^{2} r^{6}\\right)} \\cos\\left(\\theta\\right)^{2}}"
      ]
     },
     "metadata": {},
     "output_type": "display_data"
    },
    {
     "name": "stdout",
     "output_type": "stream",
     "text": [
      "R_0131 = \n"
     ]
    },
    {
     "data": {
      "text/html": [
       "<html><script type=\"math/tex; mode=display\">\\newcommand{\\Bold}[1]{\\mathbf{#1}}-\\frac{3 \\, {\\left(3 \\, {\\left(a^{5} m r + a^{3} m r^{3}\\right)} \\sin\\left(\\theta\\right)^{4} - {\\left(3 \\, a^{5} m r + 2 \\, a^{3} m r^{3} - a m r^{5}\\right)} \\sin\\left(\\theta\\right)^{2}\\right)}}{a^{2} r^{6} - 2 \\, m r^{7} + r^{8} + {\\left(a^{8} - 2 \\, a^{6} m r + a^{6} r^{2}\\right)} \\cos\\left(\\theta\\right)^{6} + 3 \\, {\\left(a^{6} r^{2} - 2 \\, a^{4} m r^{3} + a^{4} r^{4}\\right)} \\cos\\left(\\theta\\right)^{4} + 3 \\, {\\left(a^{4} r^{4} - 2 \\, a^{2} m r^{5} + a^{2} r^{6}\\right)} \\cos\\left(\\theta\\right)^{2}}</script></html>"
      ],
      "text/latex": [
       "$$\\newcommand{\\Bold}[1]{\\mathbf{#1}}-\\frac{3 \\, {\\left(3 \\, {\\left(a^{5} m r + a^{3} m r^{3}\\right)} \\sin\\left(\\theta\\right)^{4} - {\\left(3 \\, a^{5} m r + 2 \\, a^{3} m r^{3} - a m r^{5}\\right)} \\sin\\left(\\theta\\right)^{2}\\right)}}{a^{2} r^{6} - 2 \\, m r^{7} + r^{8} + {\\left(a^{8} - 2 \\, a^{6} m r + a^{6} r^{2}\\right)} \\cos\\left(\\theta\\right)^{6} + 3 \\, {\\left(a^{6} r^{2} - 2 \\, a^{4} m r^{3} + a^{4} r^{4}\\right)} \\cos\\left(\\theta\\right)^{4} + 3 \\, {\\left(a^{4} r^{4} - 2 \\, a^{2} m r^{5} + a^{2} r^{6}\\right)} \\cos\\left(\\theta\\right)^{2}}$$"
      ],
      "text/plain": [
       "-\\frac{3 \\, {\\left(3 \\, {\\left(a^{5} m r + a^{3} m r^{3}\\right)} \\sin\\left(\\theta\\right)^{4} - {\\left(3 \\, a^{5} m r + 2 \\, a^{3} m r^{3} - a m r^{5}\\right)} \\sin\\left(\\theta\\right)^{2}\\right)}}{a^{2} r^{6} - 2 \\, m r^{7} + r^{8} + {\\left(a^{8} - 2 \\, a^{6} m r + a^{6} r^{2}\\right)} \\cos\\left(\\theta\\right)^{6} + 3 \\, {\\left(a^{6} r^{2} - 2 \\, a^{4} m r^{3} + a^{4} r^{4}\\right)} \\cos\\left(\\theta\\right)^{4} + 3 \\, {\\left(a^{4} r^{4} - 2 \\, a^{2} m r^{5} + a^{2} r^{6}\\right)} \\cos\\left(\\theta\\right)^{2}}"
      ]
     },
     "metadata": {},
     "output_type": "display_data"
    },
    {
     "name": "stdout",
     "output_type": "stream",
     "text": [
      "R_0132 = \n"
     ]
    },
    {
     "data": {
      "text/html": [
       "<html><script type=\"math/tex; mode=display\">\\newcommand{\\Bold}[1]{\\mathbf{#1}}\\frac{{\\left(a^{7} m - 2 \\, a^{5} m^{2} r + a^{5} m r^{2}\\right)} \\cos\\left(\\theta\\right) \\sin\\left(\\theta\\right)^{5} + {\\left(a^{7} m + 2 \\, a^{5} m^{2} r + 6 \\, a^{5} m r^{2} - 6 \\, a^{3} m^{2} r^{3} + 5 \\, a^{3} m r^{4}\\right)} \\cos\\left(\\theta\\right) \\sin\\left(\\theta\\right)^{3} - 2 \\, {\\left(a^{7} m - a^{5} m r^{2} - 5 \\, a^{3} m r^{4} - 3 \\, a m r^{6}\\right)} \\cos\\left(\\theta\\right) \\sin\\left(\\theta\\right)}{a^{2} r^{6} - 2 \\, m r^{7} + r^{8} + {\\left(a^{8} - 2 \\, a^{6} m r + a^{6} r^{2}\\right)} \\cos\\left(\\theta\\right)^{6} + 3 \\, {\\left(a^{6} r^{2} - 2 \\, a^{4} m r^{3} + a^{4} r^{4}\\right)} \\cos\\left(\\theta\\right)^{4} + 3 \\, {\\left(a^{4} r^{4} - 2 \\, a^{2} m r^{5} + a^{2} r^{6}\\right)} \\cos\\left(\\theta\\right)^{2}}</script></html>"
      ],
      "text/latex": [
       "$$\\newcommand{\\Bold}[1]{\\mathbf{#1}}\\frac{{\\left(a^{7} m - 2 \\, a^{5} m^{2} r + a^{5} m r^{2}\\right)} \\cos\\left(\\theta\\right) \\sin\\left(\\theta\\right)^{5} + {\\left(a^{7} m + 2 \\, a^{5} m^{2} r + 6 \\, a^{5} m r^{2} - 6 \\, a^{3} m^{2} r^{3} + 5 \\, a^{3} m r^{4}\\right)} \\cos\\left(\\theta\\right) \\sin\\left(\\theta\\right)^{3} - 2 \\, {\\left(a^{7} m - a^{5} m r^{2} - 5 \\, a^{3} m r^{4} - 3 \\, a m r^{6}\\right)} \\cos\\left(\\theta\\right) \\sin\\left(\\theta\\right)}{a^{2} r^{6} - 2 \\, m r^{7} + r^{8} + {\\left(a^{8} - 2 \\, a^{6} m r + a^{6} r^{2}\\right)} \\cos\\left(\\theta\\right)^{6} + 3 \\, {\\left(a^{6} r^{2} - 2 \\, a^{4} m r^{3} + a^{4} r^{4}\\right)} \\cos\\left(\\theta\\right)^{4} + 3 \\, {\\left(a^{4} r^{4} - 2 \\, a^{2} m r^{5} + a^{2} r^{6}\\right)} \\cos\\left(\\theta\\right)^{2}}$$"
      ],
      "text/plain": [
       "\\frac{{\\left(a^{7} m - 2 \\, a^{5} m^{2} r + a^{5} m r^{2}\\right)} \\cos\\left(\\theta\\right) \\sin\\left(\\theta\\right)^{5} + {\\left(a^{7} m + 2 \\, a^{5} m^{2} r + 6 \\, a^{5} m r^{2} - 6 \\, a^{3} m^{2} r^{3} + 5 \\, a^{3} m r^{4}\\right)} \\cos\\left(\\theta\\right) \\sin\\left(\\theta\\right)^{3} - 2 \\, {\\left(a^{7} m - a^{5} m r^{2} - 5 \\, a^{3} m r^{4} - 3 \\, a m r^{6}\\right)} \\cos\\left(\\theta\\right) \\sin\\left(\\theta\\right)}{a^{2} r^{6} - 2 \\, m r^{7} + r^{8} + {\\left(a^{8} - 2 \\, a^{6} m r + a^{6} r^{2}\\right)} \\cos\\left(\\theta\\right)^{6} + 3 \\, {\\left(a^{6} r^{2} - 2 \\, a^{4} m r^{3} + a^{4} r^{4}\\right)} \\cos\\left(\\theta\\right)^{4} + 3 \\, {\\left(a^{4} r^{4} - 2 \\, a^{2} m r^{5} + a^{2} r^{6}\\right)} \\cos\\left(\\theta\\right)^{2}}"
      ]
     },
     "metadata": {},
     "output_type": "display_data"
    },
    {
     "name": "stdout",
     "output_type": "stream",
     "text": [
      "R_0201 = \n"
     ]
    },
    {
     "data": {
      "text/html": [
       "<html><script type=\"math/tex; mode=display\">\\newcommand{\\Bold}[1]{\\mathbf{#1}}\\frac{{\\left({\\left(3 \\, a^{6} m - 4 \\, a^{4} m^{2} r + 3 \\, a^{4} m r^{2}\\right)} \\cos\\left(\\theta\\right)^{3} - 3 \\, {\\left(3 \\, a^{4} m r^{2} - 4 \\, a^{2} m^{2} r^{3} + 3 \\, a^{2} m r^{4}\\right)} \\cos\\left(\\theta\\right)\\right)} \\sin\\left(\\theta\\right)}{a^{2} r^{6} - 2 \\, m r^{7} + r^{8} + {\\left(a^{8} - 2 \\, a^{6} m r + a^{6} r^{2}\\right)} \\cos\\left(\\theta\\right)^{6} + 3 \\, {\\left(a^{6} r^{2} - 2 \\, a^{4} m r^{3} + a^{4} r^{4}\\right)} \\cos\\left(\\theta\\right)^{4} + 3 \\, {\\left(a^{4} r^{4} - 2 \\, a^{2} m r^{5} + a^{2} r^{6}\\right)} \\cos\\left(\\theta\\right)^{2}}</script></html>"
      ],
      "text/latex": [
       "$$\\newcommand{\\Bold}[1]{\\mathbf{#1}}\\frac{{\\left({\\left(3 \\, a^{6} m - 4 \\, a^{4} m^{2} r + 3 \\, a^{4} m r^{2}\\right)} \\cos\\left(\\theta\\right)^{3} - 3 \\, {\\left(3 \\, a^{4} m r^{2} - 4 \\, a^{2} m^{2} r^{3} + 3 \\, a^{2} m r^{4}\\right)} \\cos\\left(\\theta\\right)\\right)} \\sin\\left(\\theta\\right)}{a^{2} r^{6} - 2 \\, m r^{7} + r^{8} + {\\left(a^{8} - 2 \\, a^{6} m r + a^{6} r^{2}\\right)} \\cos\\left(\\theta\\right)^{6} + 3 \\, {\\left(a^{6} r^{2} - 2 \\, a^{4} m r^{3} + a^{4} r^{4}\\right)} \\cos\\left(\\theta\\right)^{4} + 3 \\, {\\left(a^{4} r^{4} - 2 \\, a^{2} m r^{5} + a^{2} r^{6}\\right)} \\cos\\left(\\theta\\right)^{2}}$$"
      ],
      "text/plain": [
       "\\frac{{\\left({\\left(3 \\, a^{6} m - 4 \\, a^{4} m^{2} r + 3 \\, a^{4} m r^{2}\\right)} \\cos\\left(\\theta\\right)^{3} - 3 \\, {\\left(3 \\, a^{4} m r^{2} - 4 \\, a^{2} m^{2} r^{3} + 3 \\, a^{2} m r^{4}\\right)} \\cos\\left(\\theta\\right)\\right)} \\sin\\left(\\theta\\right)}{a^{2} r^{6} - 2 \\, m r^{7} + r^{8} + {\\left(a^{8} - 2 \\, a^{6} m r + a^{6} r^{2}\\right)} \\cos\\left(\\theta\\right)^{6} + 3 \\, {\\left(a^{6} r^{2} - 2 \\, a^{4} m r^{3} + a^{4} r^{4}\\right)} \\cos\\left(\\theta\\right)^{4} + 3 \\, {\\left(a^{4} r^{4} - 2 \\, a^{2} m r^{5} + a^{2} r^{6}\\right)} \\cos\\left(\\theta\\right)^{2}}"
      ]
     },
     "metadata": {},
     "output_type": "display_data"
    },
    {
     "name": "stdout",
     "output_type": "stream",
     "text": [
      "R_0202 = \n"
     ]
    },
    {
     "data": {
      "text/html": [
       "<html><script type=\"math/tex; mode=display\">\\newcommand{\\Bold}[1]{\\mathbf{#1}}-\\frac{6 \\, a^{4} m r \\cos\\left(\\theta\\right)^{4} + 3 \\, a^{2} m r^{3} + m r^{5} - {\\left(9 \\, a^{4} m r + 5 \\, a^{2} m r^{3}\\right)} \\cos\\left(\\theta\\right)^{2}}{a^{6} \\cos\\left(\\theta\\right)^{6} + 3 \\, a^{4} r^{2} \\cos\\left(\\theta\\right)^{4} + 3 \\, a^{2} r^{4} \\cos\\left(\\theta\\right)^{2} + r^{6}}</script></html>"
      ],
      "text/latex": [
       "$$\\newcommand{\\Bold}[1]{\\mathbf{#1}}-\\frac{6 \\, a^{4} m r \\cos\\left(\\theta\\right)^{4} + 3 \\, a^{2} m r^{3} + m r^{5} - {\\left(9 \\, a^{4} m r + 5 \\, a^{2} m r^{3}\\right)} \\cos\\left(\\theta\\right)^{2}}{a^{6} \\cos\\left(\\theta\\right)^{6} + 3 \\, a^{4} r^{2} \\cos\\left(\\theta\\right)^{4} + 3 \\, a^{2} r^{4} \\cos\\left(\\theta\\right)^{2} + r^{6}}$$"
      ],
      "text/plain": [
       "-\\frac{6 \\, a^{4} m r \\cos\\left(\\theta\\right)^{4} + 3 \\, a^{2} m r^{3} + m r^{5} - {\\left(9 \\, a^{4} m r + 5 \\, a^{2} m r^{3}\\right)} \\cos\\left(\\theta\\right)^{2}}{a^{6} \\cos\\left(\\theta\\right)^{6} + 3 \\, a^{4} r^{2} \\cos\\left(\\theta\\right)^{4} + 3 \\, a^{2} r^{4} \\cos\\left(\\theta\\right)^{2} + r^{6}}"
      ]
     },
     "metadata": {},
     "output_type": "display_data"
    },
    {
     "name": "stdout",
     "output_type": "stream",
     "text": [
      "R_0210 = \n"
     ]
    },
    {
     "data": {
      "text/html": [
       "<html><script type=\"math/tex; mode=display\">\\newcommand{\\Bold}[1]{\\mathbf{#1}}-\\frac{{\\left({\\left(3 \\, a^{6} m - 4 \\, a^{4} m^{2} r + 3 \\, a^{4} m r^{2}\\right)} \\cos\\left(\\theta\\right)^{3} - 3 \\, {\\left(3 \\, a^{4} m r^{2} - 4 \\, a^{2} m^{2} r^{3} + 3 \\, a^{2} m r^{4}\\right)} \\cos\\left(\\theta\\right)\\right)} \\sin\\left(\\theta\\right)}{a^{2} r^{6} - 2 \\, m r^{7} + r^{8} + {\\left(a^{8} - 2 \\, a^{6} m r + a^{6} r^{2}\\right)} \\cos\\left(\\theta\\right)^{6} + 3 \\, {\\left(a^{6} r^{2} - 2 \\, a^{4} m r^{3} + a^{4} r^{4}\\right)} \\cos\\left(\\theta\\right)^{4} + 3 \\, {\\left(a^{4} r^{4} - 2 \\, a^{2} m r^{5} + a^{2} r^{6}\\right)} \\cos\\left(\\theta\\right)^{2}}</script></html>"
      ],
      "text/latex": [
       "$$\\newcommand{\\Bold}[1]{\\mathbf{#1}}-\\frac{{\\left({\\left(3 \\, a^{6} m - 4 \\, a^{4} m^{2} r + 3 \\, a^{4} m r^{2}\\right)} \\cos\\left(\\theta\\right)^{3} - 3 \\, {\\left(3 \\, a^{4} m r^{2} - 4 \\, a^{2} m^{2} r^{3} + 3 \\, a^{2} m r^{4}\\right)} \\cos\\left(\\theta\\right)\\right)} \\sin\\left(\\theta\\right)}{a^{2} r^{6} - 2 \\, m r^{7} + r^{8} + {\\left(a^{8} - 2 \\, a^{6} m r + a^{6} r^{2}\\right)} \\cos\\left(\\theta\\right)^{6} + 3 \\, {\\left(a^{6} r^{2} - 2 \\, a^{4} m r^{3} + a^{4} r^{4}\\right)} \\cos\\left(\\theta\\right)^{4} + 3 \\, {\\left(a^{4} r^{4} - 2 \\, a^{2} m r^{5} + a^{2} r^{6}\\right)} \\cos\\left(\\theta\\right)^{2}}$$"
      ],
      "text/plain": [
       "-\\frac{{\\left({\\left(3 \\, a^{6} m - 4 \\, a^{4} m^{2} r + 3 \\, a^{4} m r^{2}\\right)} \\cos\\left(\\theta\\right)^{3} - 3 \\, {\\left(3 \\, a^{4} m r^{2} - 4 \\, a^{2} m^{2} r^{3} + 3 \\, a^{2} m r^{4}\\right)} \\cos\\left(\\theta\\right)\\right)} \\sin\\left(\\theta\\right)}{a^{2} r^{6} - 2 \\, m r^{7} + r^{8} + {\\left(a^{8} - 2 \\, a^{6} m r + a^{6} r^{2}\\right)} \\cos\\left(\\theta\\right)^{6} + 3 \\, {\\left(a^{6} r^{2} - 2 \\, a^{4} m r^{3} + a^{4} r^{4}\\right)} \\cos\\left(\\theta\\right)^{4} + 3 \\, {\\left(a^{4} r^{4} - 2 \\, a^{2} m r^{5} + a^{2} r^{6}\\right)} \\cos\\left(\\theta\\right)^{2}}"
      ]
     },
     "metadata": {},
     "output_type": "display_data"
    },
    {
     "name": "stdout",
     "output_type": "stream",
     "text": [
      "R_0213 = \n"
     ]
    },
    {
     "data": {
      "text/html": [
       "<html><script type=\"math/tex; mode=display\">\\newcommand{\\Bold}[1]{\\mathbf{#1}}-\\frac{2 \\, {\\left(a^{7} m - 2 \\, a^{5} m^{2} r + a^{5} m r^{2}\\right)} \\cos\\left(\\theta\\right) \\sin\\left(\\theta\\right)^{5} - {\\left(a^{7} m - 4 \\, a^{5} m^{2} r - 6 \\, a^{5} m r^{2} + 12 \\, a^{3} m^{2} r^{3} - 7 \\, a^{3} m r^{4}\\right)} \\cos\\left(\\theta\\right) \\sin\\left(\\theta\\right)^{3} - {\\left(a^{7} m - a^{5} m r^{2} - 5 \\, a^{3} m r^{4} - 3 \\, a m r^{6}\\right)} \\cos\\left(\\theta\\right) \\sin\\left(\\theta\\right)}{a^{2} r^{6} - 2 \\, m r^{7} + r^{8} + {\\left(a^{8} - 2 \\, a^{6} m r + a^{6} r^{2}\\right)} \\cos\\left(\\theta\\right)^{6} + 3 \\, {\\left(a^{6} r^{2} - 2 \\, a^{4} m r^{3} + a^{4} r^{4}\\right)} \\cos\\left(\\theta\\right)^{4} + 3 \\, {\\left(a^{4} r^{4} - 2 \\, a^{2} m r^{5} + a^{2} r^{6}\\right)} \\cos\\left(\\theta\\right)^{2}}</script></html>"
      ],
      "text/latex": [
       "$$\\newcommand{\\Bold}[1]{\\mathbf{#1}}-\\frac{2 \\, {\\left(a^{7} m - 2 \\, a^{5} m^{2} r + a^{5} m r^{2}\\right)} \\cos\\left(\\theta\\right) \\sin\\left(\\theta\\right)^{5} - {\\left(a^{7} m - 4 \\, a^{5} m^{2} r - 6 \\, a^{5} m r^{2} + 12 \\, a^{3} m^{2} r^{3} - 7 \\, a^{3} m r^{4}\\right)} \\cos\\left(\\theta\\right) \\sin\\left(\\theta\\right)^{3} - {\\left(a^{7} m - a^{5} m r^{2} - 5 \\, a^{3} m r^{4} - 3 \\, a m r^{6}\\right)} \\cos\\left(\\theta\\right) \\sin\\left(\\theta\\right)}{a^{2} r^{6} - 2 \\, m r^{7} + r^{8} + {\\left(a^{8} - 2 \\, a^{6} m r + a^{6} r^{2}\\right)} \\cos\\left(\\theta\\right)^{6} + 3 \\, {\\left(a^{6} r^{2} - 2 \\, a^{4} m r^{3} + a^{4} r^{4}\\right)} \\cos\\left(\\theta\\right)^{4} + 3 \\, {\\left(a^{4} r^{4} - 2 \\, a^{2} m r^{5} + a^{2} r^{6}\\right)} \\cos\\left(\\theta\\right)^{2}}$$"
      ],
      "text/plain": [
       "-\\frac{2 \\, {\\left(a^{7} m - 2 \\, a^{5} m^{2} r + a^{5} m r^{2}\\right)} \\cos\\left(\\theta\\right) \\sin\\left(\\theta\\right)^{5} - {\\left(a^{7} m - 4 \\, a^{5} m^{2} r - 6 \\, a^{5} m r^{2} + 12 \\, a^{3} m^{2} r^{3} - 7 \\, a^{3} m r^{4}\\right)} \\cos\\left(\\theta\\right) \\sin\\left(\\theta\\right)^{3} - {\\left(a^{7} m - a^{5} m r^{2} - 5 \\, a^{3} m r^{4} - 3 \\, a m r^{6}\\right)} \\cos\\left(\\theta\\right) \\sin\\left(\\theta\\right)}{a^{2} r^{6} - 2 \\, m r^{7} + r^{8} + {\\left(a^{8} - 2 \\, a^{6} m r + a^{6} r^{2}\\right)} \\cos\\left(\\theta\\right)^{6} + 3 \\, {\\left(a^{6} r^{2} - 2 \\, a^{4} m r^{3} + a^{4} r^{4}\\right)} \\cos\\left(\\theta\\right)^{4} + 3 \\, {\\left(a^{4} r^{4} - 2 \\, a^{2} m r^{5} + a^{2} r^{6}\\right)} \\cos\\left(\\theta\\right)^{2}}"
      ]
     },
     "metadata": {},
     "output_type": "display_data"
    },
    {
     "name": "stdout",
     "output_type": "stream",
     "text": [
      "R_0220 = \n"
     ]
    },
    {
     "data": {
      "text/html": [
       "<html><script type=\"math/tex; mode=display\">\\newcommand{\\Bold}[1]{\\mathbf{#1}}\\frac{6 \\, a^{4} m r \\cos\\left(\\theta\\right)^{4} + 3 \\, a^{2} m r^{3} + m r^{5} - {\\left(9 \\, a^{4} m r + 5 \\, a^{2} m r^{3}\\right)} \\cos\\left(\\theta\\right)^{2}}{a^{6} \\cos\\left(\\theta\\right)^{6} + 3 \\, a^{4} r^{2} \\cos\\left(\\theta\\right)^{4} + 3 \\, a^{2} r^{4} \\cos\\left(\\theta\\right)^{2} + r^{6}}</script></html>"
      ],
      "text/latex": [
       "$$\\newcommand{\\Bold}[1]{\\mathbf{#1}}\\frac{6 \\, a^{4} m r \\cos\\left(\\theta\\right)^{4} + 3 \\, a^{2} m r^{3} + m r^{5} - {\\left(9 \\, a^{4} m r + 5 \\, a^{2} m r^{3}\\right)} \\cos\\left(\\theta\\right)^{2}}{a^{6} \\cos\\left(\\theta\\right)^{6} + 3 \\, a^{4} r^{2} \\cos\\left(\\theta\\right)^{4} + 3 \\, a^{2} r^{4} \\cos\\left(\\theta\\right)^{2} + r^{6}}$$"
      ],
      "text/plain": [
       "\\frac{6 \\, a^{4} m r \\cos\\left(\\theta\\right)^{4} + 3 \\, a^{2} m r^{3} + m r^{5} - {\\left(9 \\, a^{4} m r + 5 \\, a^{2} m r^{3}\\right)} \\cos\\left(\\theta\\right)^{2}}{a^{6} \\cos\\left(\\theta\\right)^{6} + 3 \\, a^{4} r^{2} \\cos\\left(\\theta\\right)^{4} + 3 \\, a^{2} r^{4} \\cos\\left(\\theta\\right)^{2} + r^{6}}"
      ]
     },
     "metadata": {},
     "output_type": "display_data"
    },
    {
     "name": "stdout",
     "output_type": "stream",
     "text": [
      "R_0223 = \n"
     ]
    },
    {
     "data": {
      "text/html": [
       "<html><script type=\"math/tex; mode=display\">\\newcommand{\\Bold}[1]{\\mathbf{#1}}-\\frac{3 \\, {\\left(3 \\, {\\left(a^{5} m r + a^{3} m r^{3}\\right)} \\sin\\left(\\theta\\right)^{4} - {\\left(3 \\, a^{5} m r + 2 \\, a^{3} m r^{3} - a m r^{5}\\right)} \\sin\\left(\\theta\\right)^{2}\\right)}}{a^{6} \\cos\\left(\\theta\\right)^{6} + 3 \\, a^{4} r^{2} \\cos\\left(\\theta\\right)^{4} + 3 \\, a^{2} r^{4} \\cos\\left(\\theta\\right)^{2} + r^{6}}</script></html>"
      ],
      "text/latex": [
       "$$\\newcommand{\\Bold}[1]{\\mathbf{#1}}-\\frac{3 \\, {\\left(3 \\, {\\left(a^{5} m r + a^{3} m r^{3}\\right)} \\sin\\left(\\theta\\right)^{4} - {\\left(3 \\, a^{5} m r + 2 \\, a^{3} m r^{3} - a m r^{5}\\right)} \\sin\\left(\\theta\\right)^{2}\\right)}}{a^{6} \\cos\\left(\\theta\\right)^{6} + 3 \\, a^{4} r^{2} \\cos\\left(\\theta\\right)^{4} + 3 \\, a^{2} r^{4} \\cos\\left(\\theta\\right)^{2} + r^{6}}$$"
      ],
      "text/plain": [
       "-\\frac{3 \\, {\\left(3 \\, {\\left(a^{5} m r + a^{3} m r^{3}\\right)} \\sin\\left(\\theta\\right)^{4} - {\\left(3 \\, a^{5} m r + 2 \\, a^{3} m r^{3} - a m r^{5}\\right)} \\sin\\left(\\theta\\right)^{2}\\right)}}{a^{6} \\cos\\left(\\theta\\right)^{6} + 3 \\, a^{4} r^{2} \\cos\\left(\\theta\\right)^{4} + 3 \\, a^{2} r^{4} \\cos\\left(\\theta\\right)^{2} + r^{6}}"
      ]
     },
     "metadata": {},
     "output_type": "display_data"
    },
    {
     "name": "stdout",
     "output_type": "stream",
     "text": [
      "R_0231 = \n"
     ]
    },
    {
     "data": {
      "text/html": [
       "<html><script type=\"math/tex; mode=display\">\\newcommand{\\Bold}[1]{\\mathbf{#1}}\\frac{2 \\, {\\left(a^{7} m - 2 \\, a^{5} m^{2} r + a^{5} m r^{2}\\right)} \\cos\\left(\\theta\\right) \\sin\\left(\\theta\\right)^{5} - {\\left(a^{7} m - 4 \\, a^{5} m^{2} r - 6 \\, a^{5} m r^{2} + 12 \\, a^{3} m^{2} r^{3} - 7 \\, a^{3} m r^{4}\\right)} \\cos\\left(\\theta\\right) \\sin\\left(\\theta\\right)^{3} - {\\left(a^{7} m - a^{5} m r^{2} - 5 \\, a^{3} m r^{4} - 3 \\, a m r^{6}\\right)} \\cos\\left(\\theta\\right) \\sin\\left(\\theta\\right)}{a^{2} r^{6} - 2 \\, m r^{7} + r^{8} + {\\left(a^{8} - 2 \\, a^{6} m r + a^{6} r^{2}\\right)} \\cos\\left(\\theta\\right)^{6} + 3 \\, {\\left(a^{6} r^{2} - 2 \\, a^{4} m r^{3} + a^{4} r^{4}\\right)} \\cos\\left(\\theta\\right)^{4} + 3 \\, {\\left(a^{4} r^{4} - 2 \\, a^{2} m r^{5} + a^{2} r^{6}\\right)} \\cos\\left(\\theta\\right)^{2}}</script></html>"
      ],
      "text/latex": [
       "$$\\newcommand{\\Bold}[1]{\\mathbf{#1}}\\frac{2 \\, {\\left(a^{7} m - 2 \\, a^{5} m^{2} r + a^{5} m r^{2}\\right)} \\cos\\left(\\theta\\right) \\sin\\left(\\theta\\right)^{5} - {\\left(a^{7} m - 4 \\, a^{5} m^{2} r - 6 \\, a^{5} m r^{2} + 12 \\, a^{3} m^{2} r^{3} - 7 \\, a^{3} m r^{4}\\right)} \\cos\\left(\\theta\\right) \\sin\\left(\\theta\\right)^{3} - {\\left(a^{7} m - a^{5} m r^{2} - 5 \\, a^{3} m r^{4} - 3 \\, a m r^{6}\\right)} \\cos\\left(\\theta\\right) \\sin\\left(\\theta\\right)}{a^{2} r^{6} - 2 \\, m r^{7} + r^{8} + {\\left(a^{8} - 2 \\, a^{6} m r + a^{6} r^{2}\\right)} \\cos\\left(\\theta\\right)^{6} + 3 \\, {\\left(a^{6} r^{2} - 2 \\, a^{4} m r^{3} + a^{4} r^{4}\\right)} \\cos\\left(\\theta\\right)^{4} + 3 \\, {\\left(a^{4} r^{4} - 2 \\, a^{2} m r^{5} + a^{2} r^{6}\\right)} \\cos\\left(\\theta\\right)^{2}}$$"
      ],
      "text/plain": [
       "\\frac{2 \\, {\\left(a^{7} m - 2 \\, a^{5} m^{2} r + a^{5} m r^{2}\\right)} \\cos\\left(\\theta\\right) \\sin\\left(\\theta\\right)^{5} - {\\left(a^{7} m - 4 \\, a^{5} m^{2} r - 6 \\, a^{5} m r^{2} + 12 \\, a^{3} m^{2} r^{3} - 7 \\, a^{3} m r^{4}\\right)} \\cos\\left(\\theta\\right) \\sin\\left(\\theta\\right)^{3} - {\\left(a^{7} m - a^{5} m r^{2} - 5 \\, a^{3} m r^{4} - 3 \\, a m r^{6}\\right)} \\cos\\left(\\theta\\right) \\sin\\left(\\theta\\right)}{a^{2} r^{6} - 2 \\, m r^{7} + r^{8} + {\\left(a^{8} - 2 \\, a^{6} m r + a^{6} r^{2}\\right)} \\cos\\left(\\theta\\right)^{6} + 3 \\, {\\left(a^{6} r^{2} - 2 \\, a^{4} m r^{3} + a^{4} r^{4}\\right)} \\cos\\left(\\theta\\right)^{4} + 3 \\, {\\left(a^{4} r^{4} - 2 \\, a^{2} m r^{5} + a^{2} r^{6}\\right)} \\cos\\left(\\theta\\right)^{2}}"
      ]
     },
     "metadata": {},
     "output_type": "display_data"
    },
    {
     "name": "stdout",
     "output_type": "stream",
     "text": [
      "R_0232 = \n"
     ]
    },
    {
     "data": {
      "text/html": [
       "<html><script type=\"math/tex; mode=display\">\\newcommand{\\Bold}[1]{\\mathbf{#1}}\\frac{3 \\, {\\left(3 \\, {\\left(a^{5} m r + a^{3} m r^{3}\\right)} \\sin\\left(\\theta\\right)^{4} - {\\left(3 \\, a^{5} m r + 2 \\, a^{3} m r^{3} - a m r^{5}\\right)} \\sin\\left(\\theta\\right)^{2}\\right)}}{a^{6} \\cos\\left(\\theta\\right)^{6} + 3 \\, a^{4} r^{2} \\cos\\left(\\theta\\right)^{4} + 3 \\, a^{2} r^{4} \\cos\\left(\\theta\\right)^{2} + r^{6}}</script></html>"
      ],
      "text/latex": [
       "$$\\newcommand{\\Bold}[1]{\\mathbf{#1}}\\frac{3 \\, {\\left(3 \\, {\\left(a^{5} m r + a^{3} m r^{3}\\right)} \\sin\\left(\\theta\\right)^{4} - {\\left(3 \\, a^{5} m r + 2 \\, a^{3} m r^{3} - a m r^{5}\\right)} \\sin\\left(\\theta\\right)^{2}\\right)}}{a^{6} \\cos\\left(\\theta\\right)^{6} + 3 \\, a^{4} r^{2} \\cos\\left(\\theta\\right)^{4} + 3 \\, a^{2} r^{4} \\cos\\left(\\theta\\right)^{2} + r^{6}}$$"
      ],
      "text/plain": [
       "\\frac{3 \\, {\\left(3 \\, {\\left(a^{5} m r + a^{3} m r^{3}\\right)} \\sin\\left(\\theta\\right)^{4} - {\\left(3 \\, a^{5} m r + 2 \\, a^{3} m r^{3} - a m r^{5}\\right)} \\sin\\left(\\theta\\right)^{2}\\right)}}{a^{6} \\cos\\left(\\theta\\right)^{6} + 3 \\, a^{4} r^{2} \\cos\\left(\\theta\\right)^{4} + 3 \\, a^{2} r^{4} \\cos\\left(\\theta\\right)^{2} + r^{6}}"
      ]
     },
     "metadata": {},
     "output_type": "display_data"
    },
    {
     "name": "stdout",
     "output_type": "stream",
     "text": [
      "R_0303 = \n"
     ]
    },
    {
     "data": {
      "text/html": [
       "<html><script type=\"math/tex; mode=display\">\\newcommand{\\Bold}[1]{\\mathbf{#1}}-\\frac{2 \\, a^{2} m^{2} r^{4} + a^{2} m r^{5} + m r^{7} + 3 \\, {\\left(a^{6} m r - 2 \\, a^{4} m^{2} r^{2} + a^{4} m r^{3}\\right)} \\cos\\left(\\theta\\right)^{6} - {\\left(3 \\, a^{6} m r - 12 \\, a^{4} m^{2} r^{2} + a^{4} m r^{3} - 2 \\, a^{2} m^{2} r^{4} - 2 \\, a^{2} m r^{5}\\right)} \\cos\\left(\\theta\\right)^{4} - {\\left(6 \\, a^{4} m^{2} r^{2} + 2 \\, a^{4} m r^{3} + 4 \\, a^{2} m^{2} r^{4} + 3 \\, a^{2} m r^{5} + m r^{7}\\right)} \\cos\\left(\\theta\\right)^{2}}{a^{8} \\cos\\left(\\theta\\right)^{8} + 4 \\, a^{6} r^{2} \\cos\\left(\\theta\\right)^{6} + 6 \\, a^{4} r^{4} \\cos\\left(\\theta\\right)^{4} + 4 \\, a^{2} r^{6} \\cos\\left(\\theta\\right)^{2} + r^{8}}</script></html>"
      ],
      "text/latex": [
       "$$\\newcommand{\\Bold}[1]{\\mathbf{#1}}-\\frac{2 \\, a^{2} m^{2} r^{4} + a^{2} m r^{5} + m r^{7} + 3 \\, {\\left(a^{6} m r - 2 \\, a^{4} m^{2} r^{2} + a^{4} m r^{3}\\right)} \\cos\\left(\\theta\\right)^{6} - {\\left(3 \\, a^{6} m r - 12 \\, a^{4} m^{2} r^{2} + a^{4} m r^{3} - 2 \\, a^{2} m^{2} r^{4} - 2 \\, a^{2} m r^{5}\\right)} \\cos\\left(\\theta\\right)^{4} - {\\left(6 \\, a^{4} m^{2} r^{2} + 2 \\, a^{4} m r^{3} + 4 \\, a^{2} m^{2} r^{4} + 3 \\, a^{2} m r^{5} + m r^{7}\\right)} \\cos\\left(\\theta\\right)^{2}}{a^{8} \\cos\\left(\\theta\\right)^{8} + 4 \\, a^{6} r^{2} \\cos\\left(\\theta\\right)^{6} + 6 \\, a^{4} r^{4} \\cos\\left(\\theta\\right)^{4} + 4 \\, a^{2} r^{6} \\cos\\left(\\theta\\right)^{2} + r^{8}}$$"
      ],
      "text/plain": [
       "-\\frac{2 \\, a^{2} m^{2} r^{4} + a^{2} m r^{5} + m r^{7} + 3 \\, {\\left(a^{6} m r - 2 \\, a^{4} m^{2} r^{2} + a^{4} m r^{3}\\right)} \\cos\\left(\\theta\\right)^{6} - {\\left(3 \\, a^{6} m r - 12 \\, a^{4} m^{2} r^{2} + a^{4} m r^{3} - 2 \\, a^{2} m^{2} r^{4} - 2 \\, a^{2} m r^{5}\\right)} \\cos\\left(\\theta\\right)^{4} - {\\left(6 \\, a^{4} m^{2} r^{2} + 2 \\, a^{4} m r^{3} + 4 \\, a^{2} m^{2} r^{4} + 3 \\, a^{2} m r^{5} + m r^{7}\\right)} \\cos\\left(\\theta\\right)^{2}}{a^{8} \\cos\\left(\\theta\\right)^{8} + 4 \\, a^{6} r^{2} \\cos\\left(\\theta\\right)^{6} + 6 \\, a^{4} r^{4} \\cos\\left(\\theta\\right)^{4} + 4 \\, a^{2} r^{6} \\cos\\left(\\theta\\right)^{2} + r^{8}}"
      ]
     },
     "metadata": {},
     "output_type": "display_data"
    },
    {
     "name": "stdout",
     "output_type": "stream",
     "text": [
      "R_0312 = \n"
     ]
    },
    {
     "data": {
      "text/html": [
       "<html><script type=\"math/tex; mode=display\">\\newcommand{\\Bold}[1]{\\mathbf{#1}}-\\frac{{\\left({\\left(a^{7} m - 2 \\, a^{5} m^{2} r + a^{5} m r^{2}\\right)} \\cos\\left(\\theta\\right)^{5} + 2 \\, {\\left(a^{5} m^{2} r - a^{5} m r^{2} + 3 \\, a^{3} m^{2} r^{3} - a^{3} m r^{4}\\right)} \\cos\\left(\\theta\\right)^{3} - 3 \\, {\\left(2 \\, a^{3} m^{2} r^{3} + a^{3} m r^{4} + a m r^{6}\\right)} \\cos\\left(\\theta\\right)\\right)} \\sin\\left(\\theta\\right)}{a^{2} r^{6} - 2 \\, m r^{7} + r^{8} + {\\left(a^{8} - 2 \\, a^{6} m r + a^{6} r^{2}\\right)} \\cos\\left(\\theta\\right)^{6} + 3 \\, {\\left(a^{6} r^{2} - 2 \\, a^{4} m r^{3} + a^{4} r^{4}\\right)} \\cos\\left(\\theta\\right)^{4} + 3 \\, {\\left(a^{4} r^{4} - 2 \\, a^{2} m r^{5} + a^{2} r^{6}\\right)} \\cos\\left(\\theta\\right)^{2}}</script></html>"
      ],
      "text/latex": [
       "$$\\newcommand{\\Bold}[1]{\\mathbf{#1}}-\\frac{{\\left({\\left(a^{7} m - 2 \\, a^{5} m^{2} r + a^{5} m r^{2}\\right)} \\cos\\left(\\theta\\right)^{5} + 2 \\, {\\left(a^{5} m^{2} r - a^{5} m r^{2} + 3 \\, a^{3} m^{2} r^{3} - a^{3} m r^{4}\\right)} \\cos\\left(\\theta\\right)^{3} - 3 \\, {\\left(2 \\, a^{3} m^{2} r^{3} + a^{3} m r^{4} + a m r^{6}\\right)} \\cos\\left(\\theta\\right)\\right)} \\sin\\left(\\theta\\right)}{a^{2} r^{6} - 2 \\, m r^{7} + r^{8} + {\\left(a^{8} - 2 \\, a^{6} m r + a^{6} r^{2}\\right)} \\cos\\left(\\theta\\right)^{6} + 3 \\, {\\left(a^{6} r^{2} - 2 \\, a^{4} m r^{3} + a^{4} r^{4}\\right)} \\cos\\left(\\theta\\right)^{4} + 3 \\, {\\left(a^{4} r^{4} - 2 \\, a^{2} m r^{5} + a^{2} r^{6}\\right)} \\cos\\left(\\theta\\right)^{2}}$$"
      ],
      "text/plain": [
       "-\\frac{{\\left({\\left(a^{7} m - 2 \\, a^{5} m^{2} r + a^{5} m r^{2}\\right)} \\cos\\left(\\theta\\right)^{5} + 2 \\, {\\left(a^{5} m^{2} r - a^{5} m r^{2} + 3 \\, a^{3} m^{2} r^{3} - a^{3} m r^{4}\\right)} \\cos\\left(\\theta\\right)^{3} - 3 \\, {\\left(2 \\, a^{3} m^{2} r^{3} + a^{3} m r^{4} + a m r^{6}\\right)} \\cos\\left(\\theta\\right)\\right)} \\sin\\left(\\theta\\right)}{a^{2} r^{6} - 2 \\, m r^{7} + r^{8} + {\\left(a^{8} - 2 \\, a^{6} m r + a^{6} r^{2}\\right)} \\cos\\left(\\theta\\right)^{6} + 3 \\, {\\left(a^{6} r^{2} - 2 \\, a^{4} m r^{3} + a^{4} r^{4}\\right)} \\cos\\left(\\theta\\right)^{4} + 3 \\, {\\left(a^{4} r^{4} - 2 \\, a^{2} m r^{5} + a^{2} r^{6}\\right)} \\cos\\left(\\theta\\right)^{2}}"
      ]
     },
     "metadata": {},
     "output_type": "display_data"
    },
    {
     "name": "stdout",
     "output_type": "stream",
     "text": [
      "R_0321 = \n"
     ]
    },
    {
     "data": {
      "text/html": [
       "<html><script type=\"math/tex; mode=display\">\\newcommand{\\Bold}[1]{\\mathbf{#1}}\\frac{{\\left({\\left(a^{7} m - 2 \\, a^{5} m^{2} r + a^{5} m r^{2}\\right)} \\cos\\left(\\theta\\right)^{5} + 2 \\, {\\left(a^{5} m^{2} r - a^{5} m r^{2} + 3 \\, a^{3} m^{2} r^{3} - a^{3} m r^{4}\\right)} \\cos\\left(\\theta\\right)^{3} - 3 \\, {\\left(2 \\, a^{3} m^{2} r^{3} + a^{3} m r^{4} + a m r^{6}\\right)} \\cos\\left(\\theta\\right)\\right)} \\sin\\left(\\theta\\right)}{a^{2} r^{6} - 2 \\, m r^{7} + r^{8} + {\\left(a^{8} - 2 \\, a^{6} m r + a^{6} r^{2}\\right)} \\cos\\left(\\theta\\right)^{6} + 3 \\, {\\left(a^{6} r^{2} - 2 \\, a^{4} m r^{3} + a^{4} r^{4}\\right)} \\cos\\left(\\theta\\right)^{4} + 3 \\, {\\left(a^{4} r^{4} - 2 \\, a^{2} m r^{5} + a^{2} r^{6}\\right)} \\cos\\left(\\theta\\right)^{2}}</script></html>"
      ],
      "text/latex": [
       "$$\\newcommand{\\Bold}[1]{\\mathbf{#1}}\\frac{{\\left({\\left(a^{7} m - 2 \\, a^{5} m^{2} r + a^{5} m r^{2}\\right)} \\cos\\left(\\theta\\right)^{5} + 2 \\, {\\left(a^{5} m^{2} r - a^{5} m r^{2} + 3 \\, a^{3} m^{2} r^{3} - a^{3} m r^{4}\\right)} \\cos\\left(\\theta\\right)^{3} - 3 \\, {\\left(2 \\, a^{3} m^{2} r^{3} + a^{3} m r^{4} + a m r^{6}\\right)} \\cos\\left(\\theta\\right)\\right)} \\sin\\left(\\theta\\right)}{a^{2} r^{6} - 2 \\, m r^{7} + r^{8} + {\\left(a^{8} - 2 \\, a^{6} m r + a^{6} r^{2}\\right)} \\cos\\left(\\theta\\right)^{6} + 3 \\, {\\left(a^{6} r^{2} - 2 \\, a^{4} m r^{3} + a^{4} r^{4}\\right)} \\cos\\left(\\theta\\right)^{4} + 3 \\, {\\left(a^{4} r^{4} - 2 \\, a^{2} m r^{5} + a^{2} r^{6}\\right)} \\cos\\left(\\theta\\right)^{2}}$$"
      ],
      "text/plain": [
       "\\frac{{\\left({\\left(a^{7} m - 2 \\, a^{5} m^{2} r + a^{5} m r^{2}\\right)} \\cos\\left(\\theta\\right)^{5} + 2 \\, {\\left(a^{5} m^{2} r - a^{5} m r^{2} + 3 \\, a^{3} m^{2} r^{3} - a^{3} m r^{4}\\right)} \\cos\\left(\\theta\\right)^{3} - 3 \\, {\\left(2 \\, a^{3} m^{2} r^{3} + a^{3} m r^{4} + a m r^{6}\\right)} \\cos\\left(\\theta\\right)\\right)} \\sin\\left(\\theta\\right)}{a^{2} r^{6} - 2 \\, m r^{7} + r^{8} + {\\left(a^{8} - 2 \\, a^{6} m r + a^{6} r^{2}\\right)} \\cos\\left(\\theta\\right)^{6} + 3 \\, {\\left(a^{6} r^{2} - 2 \\, a^{4} m r^{3} + a^{4} r^{4}\\right)} \\cos\\left(\\theta\\right)^{4} + 3 \\, {\\left(a^{4} r^{4} - 2 \\, a^{2} m r^{5} + a^{2} r^{6}\\right)} \\cos\\left(\\theta\\right)^{2}}"
      ]
     },
     "metadata": {},
     "output_type": "display_data"
    },
    {
     "name": "stdout",
     "output_type": "stream",
     "text": [
      "R_0330 = \n"
     ]
    },
    {
     "data": {
      "text/html": [
       "<html><script type=\"math/tex; mode=display\">\\newcommand{\\Bold}[1]{\\mathbf{#1}}-\\frac{3 \\, {\\left(a^{6} m r - 2 \\, a^{4} m^{2} r^{2} + a^{4} m r^{3}\\right)} \\sin\\left(\\theta\\right)^{6} - 2 \\, {\\left(3 \\, a^{6} m r - 3 \\, a^{4} m^{2} r^{2} + 4 \\, a^{4} m r^{3} + a^{2} m^{2} r^{4} + a^{2} m r^{5}\\right)} \\sin\\left(\\theta\\right)^{4} + {\\left(3 \\, a^{6} m r + 5 \\, a^{4} m r^{3} + a^{2} m r^{5} - m r^{7}\\right)} \\sin\\left(\\theta\\right)^{2}}{a^{8} \\cos\\left(\\theta\\right)^{8} + 4 \\, a^{6} r^{2} \\cos\\left(\\theta\\right)^{6} + 6 \\, a^{4} r^{4} \\cos\\left(\\theta\\right)^{4} + 4 \\, a^{2} r^{6} \\cos\\left(\\theta\\right)^{2} + r^{8}}</script></html>"
      ],
      "text/latex": [
       "$$\\newcommand{\\Bold}[1]{\\mathbf{#1}}-\\frac{3 \\, {\\left(a^{6} m r - 2 \\, a^{4} m^{2} r^{2} + a^{4} m r^{3}\\right)} \\sin\\left(\\theta\\right)^{6} - 2 \\, {\\left(3 \\, a^{6} m r - 3 \\, a^{4} m^{2} r^{2} + 4 \\, a^{4} m r^{3} + a^{2} m^{2} r^{4} + a^{2} m r^{5}\\right)} \\sin\\left(\\theta\\right)^{4} + {\\left(3 \\, a^{6} m r + 5 \\, a^{4} m r^{3} + a^{2} m r^{5} - m r^{7}\\right)} \\sin\\left(\\theta\\right)^{2}}{a^{8} \\cos\\left(\\theta\\right)^{8} + 4 \\, a^{6} r^{2} \\cos\\left(\\theta\\right)^{6} + 6 \\, a^{4} r^{4} \\cos\\left(\\theta\\right)^{4} + 4 \\, a^{2} r^{6} \\cos\\left(\\theta\\right)^{2} + r^{8}}$$"
      ],
      "text/plain": [
       "-\\frac{3 \\, {\\left(a^{6} m r - 2 \\, a^{4} m^{2} r^{2} + a^{4} m r^{3}\\right)} \\sin\\left(\\theta\\right)^{6} - 2 \\, {\\left(3 \\, a^{6} m r - 3 \\, a^{4} m^{2} r^{2} + 4 \\, a^{4} m r^{3} + a^{2} m^{2} r^{4} + a^{2} m r^{5}\\right)} \\sin\\left(\\theta\\right)^{4} + {\\left(3 \\, a^{6} m r + 5 \\, a^{4} m r^{3} + a^{2} m r^{5} - m r^{7}\\right)} \\sin\\left(\\theta\\right)^{2}}{a^{8} \\cos\\left(\\theta\\right)^{8} + 4 \\, a^{6} r^{2} \\cos\\left(\\theta\\right)^{6} + 6 \\, a^{4} r^{4} \\cos\\left(\\theta\\right)^{4} + 4 \\, a^{2} r^{6} \\cos\\left(\\theta\\right)^{2} + r^{8}}"
      ]
     },
     "metadata": {},
     "output_type": "display_data"
    },
    {
     "name": "stdout",
     "output_type": "stream",
     "text": [
      "R_1001 = \n"
     ]
    },
    {
     "data": {
      "text/html": [
       "<html><script type=\"math/tex; mode=display\">\\newcommand{\\Bold}[1]{\\mathbf{#1}}\\frac{3 \\, a^{4} m r \\cos\\left(\\theta\\right)^{4} + 3 \\, a^{2} m r^{3} - 4 \\, m^{2} r^{4} + 2 \\, m r^{5} - {\\left(9 \\, a^{4} m r - 12 \\, a^{2} m^{2} r^{2} + 7 \\, a^{2} m r^{3}\\right)} \\cos\\left(\\theta\\right)^{2}}{a^{8} \\cos\\left(\\theta\\right)^{8} + 4 \\, a^{6} r^{2} \\cos\\left(\\theta\\right)^{6} + 6 \\, a^{4} r^{4} \\cos\\left(\\theta\\right)^{4} + 4 \\, a^{2} r^{6} \\cos\\left(\\theta\\right)^{2} + r^{8}}</script></html>"
      ],
      "text/latex": [
       "$$\\newcommand{\\Bold}[1]{\\mathbf{#1}}\\frac{3 \\, a^{4} m r \\cos\\left(\\theta\\right)^{4} + 3 \\, a^{2} m r^{3} - 4 \\, m^{2} r^{4} + 2 \\, m r^{5} - {\\left(9 \\, a^{4} m r - 12 \\, a^{2} m^{2} r^{2} + 7 \\, a^{2} m r^{3}\\right)} \\cos\\left(\\theta\\right)^{2}}{a^{8} \\cos\\left(\\theta\\right)^{8} + 4 \\, a^{6} r^{2} \\cos\\left(\\theta\\right)^{6} + 6 \\, a^{4} r^{4} \\cos\\left(\\theta\\right)^{4} + 4 \\, a^{2} r^{6} \\cos\\left(\\theta\\right)^{2} + r^{8}}$$"
      ],
      "text/plain": [
       "\\frac{3 \\, a^{4} m r \\cos\\left(\\theta\\right)^{4} + 3 \\, a^{2} m r^{3} - 4 \\, m^{2} r^{4} + 2 \\, m r^{5} - {\\left(9 \\, a^{4} m r - 12 \\, a^{2} m^{2} r^{2} + 7 \\, a^{2} m r^{3}\\right)} \\cos\\left(\\theta\\right)^{2}}{a^{8} \\cos\\left(\\theta\\right)^{8} + 4 \\, a^{6} r^{2} \\cos\\left(\\theta\\right)^{6} + 6 \\, a^{4} r^{4} \\cos\\left(\\theta\\right)^{4} + 4 \\, a^{2} r^{6} \\cos\\left(\\theta\\right)^{2} + r^{8}}"
      ]
     },
     "metadata": {},
     "output_type": "display_data"
    },
    {
     "name": "stdout",
     "output_type": "stream",
     "text": [
      "R_1002 = \n"
     ]
    },
    {
     "data": {
      "text/html": [
       "<html><script type=\"math/tex; mode=display\">\\newcommand{\\Bold}[1]{\\mathbf{#1}}\\frac{3 \\, {\\left({\\left(a^{6} m - 2 \\, a^{4} m^{2} r + a^{4} m r^{2}\\right)} \\cos\\left(\\theta\\right)^{3} - 3 \\, {\\left(a^{4} m r^{2} - 2 \\, a^{2} m^{2} r^{3} + a^{2} m r^{4}\\right)} \\cos\\left(\\theta\\right)\\right)} \\sin\\left(\\theta\\right)}{a^{8} \\cos\\left(\\theta\\right)^{8} + 4 \\, a^{6} r^{2} \\cos\\left(\\theta\\right)^{6} + 6 \\, a^{4} r^{4} \\cos\\left(\\theta\\right)^{4} + 4 \\, a^{2} r^{6} \\cos\\left(\\theta\\right)^{2} + r^{8}}</script></html>"
      ],
      "text/latex": [
       "$$\\newcommand{\\Bold}[1]{\\mathbf{#1}}\\frac{3 \\, {\\left({\\left(a^{6} m - 2 \\, a^{4} m^{2} r + a^{4} m r^{2}\\right)} \\cos\\left(\\theta\\right)^{3} - 3 \\, {\\left(a^{4} m r^{2} - 2 \\, a^{2} m^{2} r^{3} + a^{2} m r^{4}\\right)} \\cos\\left(\\theta\\right)\\right)} \\sin\\left(\\theta\\right)}{a^{8} \\cos\\left(\\theta\\right)^{8} + 4 \\, a^{6} r^{2} \\cos\\left(\\theta\\right)^{6} + 6 \\, a^{4} r^{4} \\cos\\left(\\theta\\right)^{4} + 4 \\, a^{2} r^{6} \\cos\\left(\\theta\\right)^{2} + r^{8}}$$"
      ],
      "text/plain": [
       "\\frac{3 \\, {\\left({\\left(a^{6} m - 2 \\, a^{4} m^{2} r + a^{4} m r^{2}\\right)} \\cos\\left(\\theta\\right)^{3} - 3 \\, {\\left(a^{4} m r^{2} - 2 \\, a^{2} m^{2} r^{3} + a^{2} m r^{4}\\right)} \\cos\\left(\\theta\\right)\\right)} \\sin\\left(\\theta\\right)}{a^{8} \\cos\\left(\\theta\\right)^{8} + 4 \\, a^{6} r^{2} \\cos\\left(\\theta\\right)^{6} + 6 \\, a^{4} r^{4} \\cos\\left(\\theta\\right)^{4} + 4 \\, a^{2} r^{6} \\cos\\left(\\theta\\right)^{2} + r^{8}}"
      ]
     },
     "metadata": {},
     "output_type": "display_data"
    },
    {
     "name": "stdout",
     "output_type": "stream",
     "text": [
      "R_1010 = \n"
     ]
    },
    {
     "data": {
      "text/html": [
       "<html><script type=\"math/tex; mode=display\">\\newcommand{\\Bold}[1]{\\mathbf{#1}}-\\frac{3 \\, a^{4} m r \\cos\\left(\\theta\\right)^{4} + 3 \\, a^{2} m r^{3} - 4 \\, m^{2} r^{4} + 2 \\, m r^{5} - {\\left(9 \\, a^{4} m r - 12 \\, a^{2} m^{2} r^{2} + 7 \\, a^{2} m r^{3}\\right)} \\cos\\left(\\theta\\right)^{2}}{a^{8} \\cos\\left(\\theta\\right)^{8} + 4 \\, a^{6} r^{2} \\cos\\left(\\theta\\right)^{6} + 6 \\, a^{4} r^{4} \\cos\\left(\\theta\\right)^{4} + 4 \\, a^{2} r^{6} \\cos\\left(\\theta\\right)^{2} + r^{8}}</script></html>"
      ],
      "text/latex": [
       "$$\\newcommand{\\Bold}[1]{\\mathbf{#1}}-\\frac{3 \\, a^{4} m r \\cos\\left(\\theta\\right)^{4} + 3 \\, a^{2} m r^{3} - 4 \\, m^{2} r^{4} + 2 \\, m r^{5} - {\\left(9 \\, a^{4} m r - 12 \\, a^{2} m^{2} r^{2} + 7 \\, a^{2} m r^{3}\\right)} \\cos\\left(\\theta\\right)^{2}}{a^{8} \\cos\\left(\\theta\\right)^{8} + 4 \\, a^{6} r^{2} \\cos\\left(\\theta\\right)^{6} + 6 \\, a^{4} r^{4} \\cos\\left(\\theta\\right)^{4} + 4 \\, a^{2} r^{6} \\cos\\left(\\theta\\right)^{2} + r^{8}}$$"
      ],
      "text/plain": [
       "-\\frac{3 \\, a^{4} m r \\cos\\left(\\theta\\right)^{4} + 3 \\, a^{2} m r^{3} - 4 \\, m^{2} r^{4} + 2 \\, m r^{5} - {\\left(9 \\, a^{4} m r - 12 \\, a^{2} m^{2} r^{2} + 7 \\, a^{2} m r^{3}\\right)} \\cos\\left(\\theta\\right)^{2}}{a^{8} \\cos\\left(\\theta\\right)^{8} + 4 \\, a^{6} r^{2} \\cos\\left(\\theta\\right)^{6} + 6 \\, a^{4} r^{4} \\cos\\left(\\theta\\right)^{4} + 4 \\, a^{2} r^{6} \\cos\\left(\\theta\\right)^{2} + r^{8}}"
      ]
     },
     "metadata": {},
     "output_type": "display_data"
    },
    {
     "name": "stdout",
     "output_type": "stream",
     "text": [
      "R_1013 = \n"
     ]
    },
    {
     "data": {
      "text/html": [
       "<html><script type=\"math/tex; mode=display\">\\newcommand{\\Bold}[1]{\\mathbf{#1}}\\frac{3 \\, {\\left(3 \\, a^{5} m r - 4 \\, a^{3} m^{2} r^{2} + 3 \\, a^{3} m r^{3}\\right)} \\sin\\left(\\theta\\right)^{4} - {\\left(9 \\, a^{5} m r - 12 \\, a^{3} m^{2} r^{2} + 6 \\, a^{3} m r^{3} + 4 \\, a m^{2} r^{4} - 3 \\, a m r^{5}\\right)} \\sin\\left(\\theta\\right)^{2}}{a^{8} \\cos\\left(\\theta\\right)^{8} + 4 \\, a^{6} r^{2} \\cos\\left(\\theta\\right)^{6} + 6 \\, a^{4} r^{4} \\cos\\left(\\theta\\right)^{4} + 4 \\, a^{2} r^{6} \\cos\\left(\\theta\\right)^{2} + r^{8}}</script></html>"
      ],
      "text/latex": [
       "$$\\newcommand{\\Bold}[1]{\\mathbf{#1}}\\frac{3 \\, {\\left(3 \\, a^{5} m r - 4 \\, a^{3} m^{2} r^{2} + 3 \\, a^{3} m r^{3}\\right)} \\sin\\left(\\theta\\right)^{4} - {\\left(9 \\, a^{5} m r - 12 \\, a^{3} m^{2} r^{2} + 6 \\, a^{3} m r^{3} + 4 \\, a m^{2} r^{4} - 3 \\, a m r^{5}\\right)} \\sin\\left(\\theta\\right)^{2}}{a^{8} \\cos\\left(\\theta\\right)^{8} + 4 \\, a^{6} r^{2} \\cos\\left(\\theta\\right)^{6} + 6 \\, a^{4} r^{4} \\cos\\left(\\theta\\right)^{4} + 4 \\, a^{2} r^{6} \\cos\\left(\\theta\\right)^{2} + r^{8}}$$"
      ],
      "text/plain": [
       "\\frac{3 \\, {\\left(3 \\, a^{5} m r - 4 \\, a^{3} m^{2} r^{2} + 3 \\, a^{3} m r^{3}\\right)} \\sin\\left(\\theta\\right)^{4} - {\\left(9 \\, a^{5} m r - 12 \\, a^{3} m^{2} r^{2} + 6 \\, a^{3} m r^{3} + 4 \\, a m^{2} r^{4} - 3 \\, a m r^{5}\\right)} \\sin\\left(\\theta\\right)^{2}}{a^{8} \\cos\\left(\\theta\\right)^{8} + 4 \\, a^{6} r^{2} \\cos\\left(\\theta\\right)^{6} + 6 \\, a^{4} r^{4} \\cos\\left(\\theta\\right)^{4} + 4 \\, a^{2} r^{6} \\cos\\left(\\theta\\right)^{2} + r^{8}}"
      ]
     },
     "metadata": {},
     "output_type": "display_data"
    },
    {
     "name": "stdout",
     "output_type": "stream",
     "text": [
      "R_1020 = \n"
     ]
    },
    {
     "data": {
      "text/html": [
       "<html><script type=\"math/tex; mode=display\">\\newcommand{\\Bold}[1]{\\mathbf{#1}}-\\frac{3 \\, {\\left({\\left(a^{6} m - 2 \\, a^{4} m^{2} r + a^{4} m r^{2}\\right)} \\cos\\left(\\theta\\right)^{3} - 3 \\, {\\left(a^{4} m r^{2} - 2 \\, a^{2} m^{2} r^{3} + a^{2} m r^{4}\\right)} \\cos\\left(\\theta\\right)\\right)} \\sin\\left(\\theta\\right)}{a^{8} \\cos\\left(\\theta\\right)^{8} + 4 \\, a^{6} r^{2} \\cos\\left(\\theta\\right)^{6} + 6 \\, a^{4} r^{4} \\cos\\left(\\theta\\right)^{4} + 4 \\, a^{2} r^{6} \\cos\\left(\\theta\\right)^{2} + r^{8}}</script></html>"
      ],
      "text/latex": [
       "$$\\newcommand{\\Bold}[1]{\\mathbf{#1}}-\\frac{3 \\, {\\left({\\left(a^{6} m - 2 \\, a^{4} m^{2} r + a^{4} m r^{2}\\right)} \\cos\\left(\\theta\\right)^{3} - 3 \\, {\\left(a^{4} m r^{2} - 2 \\, a^{2} m^{2} r^{3} + a^{2} m r^{4}\\right)} \\cos\\left(\\theta\\right)\\right)} \\sin\\left(\\theta\\right)}{a^{8} \\cos\\left(\\theta\\right)^{8} + 4 \\, a^{6} r^{2} \\cos\\left(\\theta\\right)^{6} + 6 \\, a^{4} r^{4} \\cos\\left(\\theta\\right)^{4} + 4 \\, a^{2} r^{6} \\cos\\left(\\theta\\right)^{2} + r^{8}}$$"
      ],
      "text/plain": [
       "-\\frac{3 \\, {\\left({\\left(a^{6} m - 2 \\, a^{4} m^{2} r + a^{4} m r^{2}\\right)} \\cos\\left(\\theta\\right)^{3} - 3 \\, {\\left(a^{4} m r^{2} - 2 \\, a^{2} m^{2} r^{3} + a^{2} m r^{4}\\right)} \\cos\\left(\\theta\\right)\\right)} \\sin\\left(\\theta\\right)}{a^{8} \\cos\\left(\\theta\\right)^{8} + 4 \\, a^{6} r^{2} \\cos\\left(\\theta\\right)^{6} + 6 \\, a^{4} r^{4} \\cos\\left(\\theta\\right)^{4} + 4 \\, a^{2} r^{6} \\cos\\left(\\theta\\right)^{2} + r^{8}}"
      ]
     },
     "metadata": {},
     "output_type": "display_data"
    },
    {
     "name": "stdout",
     "output_type": "stream",
     "text": [
      "R_1023 = \n"
     ]
    },
    {
     "data": {
      "text/html": [
       "<html><script type=\"math/tex; mode=display\">\\newcommand{\\Bold}[1]{\\mathbf{#1}}-\\frac{{\\left({\\left(a^{7} m - 2 \\, a^{5} m^{2} r + a^{5} m r^{2}\\right)} \\cos\\left(\\theta\\right)^{5} - {\\left(3 \\, a^{7} m - 6 \\, a^{5} m^{2} r + 8 \\, a^{5} m r^{2} - 10 \\, a^{3} m^{2} r^{3} + 5 \\, a^{3} m r^{4}\\right)} \\cos\\left(\\theta\\right)^{3} + 3 \\, {\\left(3 \\, a^{5} m r^{2} - 6 \\, a^{3} m^{2} r^{3} + 5 \\, a^{3} m r^{4} - 4 \\, a m^{2} r^{5} + 2 \\, a m r^{6}\\right)} \\cos\\left(\\theta\\right)\\right)} \\sin\\left(\\theta\\right)}{a^{8} \\cos\\left(\\theta\\right)^{8} + 4 \\, a^{6} r^{2} \\cos\\left(\\theta\\right)^{6} + 6 \\, a^{4} r^{4} \\cos\\left(\\theta\\right)^{4} + 4 \\, a^{2} r^{6} \\cos\\left(\\theta\\right)^{2} + r^{8}}</script></html>"
      ],
      "text/latex": [
       "$$\\newcommand{\\Bold}[1]{\\mathbf{#1}}-\\frac{{\\left({\\left(a^{7} m - 2 \\, a^{5} m^{2} r + a^{5} m r^{2}\\right)} \\cos\\left(\\theta\\right)^{5} - {\\left(3 \\, a^{7} m - 6 \\, a^{5} m^{2} r + 8 \\, a^{5} m r^{2} - 10 \\, a^{3} m^{2} r^{3} + 5 \\, a^{3} m r^{4}\\right)} \\cos\\left(\\theta\\right)^{3} + 3 \\, {\\left(3 \\, a^{5} m r^{2} - 6 \\, a^{3} m^{2} r^{3} + 5 \\, a^{3} m r^{4} - 4 \\, a m^{2} r^{5} + 2 \\, a m r^{6}\\right)} \\cos\\left(\\theta\\right)\\right)} \\sin\\left(\\theta\\right)}{a^{8} \\cos\\left(\\theta\\right)^{8} + 4 \\, a^{6} r^{2} \\cos\\left(\\theta\\right)^{6} + 6 \\, a^{4} r^{4} \\cos\\left(\\theta\\right)^{4} + 4 \\, a^{2} r^{6} \\cos\\left(\\theta\\right)^{2} + r^{8}}$$"
      ],
      "text/plain": [
       "-\\frac{{\\left({\\left(a^{7} m - 2 \\, a^{5} m^{2} r + a^{5} m r^{2}\\right)} \\cos\\left(\\theta\\right)^{5} - {\\left(3 \\, a^{7} m - 6 \\, a^{5} m^{2} r + 8 \\, a^{5} m r^{2} - 10 \\, a^{3} m^{2} r^{3} + 5 \\, a^{3} m r^{4}\\right)} \\cos\\left(\\theta\\right)^{3} + 3 \\, {\\left(3 \\, a^{5} m r^{2} - 6 \\, a^{3} m^{2} r^{3} + 5 \\, a^{3} m r^{4} - 4 \\, a m^{2} r^{5} + 2 \\, a m r^{6}\\right)} \\cos\\left(\\theta\\right)\\right)} \\sin\\left(\\theta\\right)}{a^{8} \\cos\\left(\\theta\\right)^{8} + 4 \\, a^{6} r^{2} \\cos\\left(\\theta\\right)^{6} + 6 \\, a^{4} r^{4} \\cos\\left(\\theta\\right)^{4} + 4 \\, a^{2} r^{6} \\cos\\left(\\theta\\right)^{2} + r^{8}}"
      ]
     },
     "metadata": {},
     "output_type": "display_data"
    },
    {
     "name": "stdout",
     "output_type": "stream",
     "text": [
      "R_1031 = \n"
     ]
    },
    {
     "data": {
      "text/html": [
       "<html><script type=\"math/tex; mode=display\">\\newcommand{\\Bold}[1]{\\mathbf{#1}}-\\frac{3 \\, {\\left(3 \\, a^{5} m r - 4 \\, a^{3} m^{2} r^{2} + 3 \\, a^{3} m r^{3}\\right)} \\sin\\left(\\theta\\right)^{4} - {\\left(9 \\, a^{5} m r - 12 \\, a^{3} m^{2} r^{2} + 6 \\, a^{3} m r^{3} + 4 \\, a m^{2} r^{4} - 3 \\, a m r^{5}\\right)} \\sin\\left(\\theta\\right)^{2}}{a^{8} \\cos\\left(\\theta\\right)^{8} + 4 \\, a^{6} r^{2} \\cos\\left(\\theta\\right)^{6} + 6 \\, a^{4} r^{4} \\cos\\left(\\theta\\right)^{4} + 4 \\, a^{2} r^{6} \\cos\\left(\\theta\\right)^{2} + r^{8}}</script></html>"
      ],
      "text/latex": [
       "$$\\newcommand{\\Bold}[1]{\\mathbf{#1}}-\\frac{3 \\, {\\left(3 \\, a^{5} m r - 4 \\, a^{3} m^{2} r^{2} + 3 \\, a^{3} m r^{3}\\right)} \\sin\\left(\\theta\\right)^{4} - {\\left(9 \\, a^{5} m r - 12 \\, a^{3} m^{2} r^{2} + 6 \\, a^{3} m r^{3} + 4 \\, a m^{2} r^{4} - 3 \\, a m r^{5}\\right)} \\sin\\left(\\theta\\right)^{2}}{a^{8} \\cos\\left(\\theta\\right)^{8} + 4 \\, a^{6} r^{2} \\cos\\left(\\theta\\right)^{6} + 6 \\, a^{4} r^{4} \\cos\\left(\\theta\\right)^{4} + 4 \\, a^{2} r^{6} \\cos\\left(\\theta\\right)^{2} + r^{8}}$$"
      ],
      "text/plain": [
       "-\\frac{3 \\, {\\left(3 \\, a^{5} m r - 4 \\, a^{3} m^{2} r^{2} + 3 \\, a^{3} m r^{3}\\right)} \\sin\\left(\\theta\\right)^{4} - {\\left(9 \\, a^{5} m r - 12 \\, a^{3} m^{2} r^{2} + 6 \\, a^{3} m r^{3} + 4 \\, a m^{2} r^{4} - 3 \\, a m r^{5}\\right)} \\sin\\left(\\theta\\right)^{2}}{a^{8} \\cos\\left(\\theta\\right)^{8} + 4 \\, a^{6} r^{2} \\cos\\left(\\theta\\right)^{6} + 6 \\, a^{4} r^{4} \\cos\\left(\\theta\\right)^{4} + 4 \\, a^{2} r^{6} \\cos\\left(\\theta\\right)^{2} + r^{8}}"
      ]
     },
     "metadata": {},
     "output_type": "display_data"
    },
    {
     "name": "stdout",
     "output_type": "stream",
     "text": [
      "R_1032 = \n"
     ]
    },
    {
     "data": {
      "text/html": [
       "<html><script type=\"math/tex; mode=display\">\\newcommand{\\Bold}[1]{\\mathbf{#1}}\\frac{{\\left({\\left(a^{7} m - 2 \\, a^{5} m^{2} r + a^{5} m r^{2}\\right)} \\cos\\left(\\theta\\right)^{5} - {\\left(3 \\, a^{7} m - 6 \\, a^{5} m^{2} r + 8 \\, a^{5} m r^{2} - 10 \\, a^{3} m^{2} r^{3} + 5 \\, a^{3} m r^{4}\\right)} \\cos\\left(\\theta\\right)^{3} + 3 \\, {\\left(3 \\, a^{5} m r^{2} - 6 \\, a^{3} m^{2} r^{3} + 5 \\, a^{3} m r^{4} - 4 \\, a m^{2} r^{5} + 2 \\, a m r^{6}\\right)} \\cos\\left(\\theta\\right)\\right)} \\sin\\left(\\theta\\right)}{a^{8} \\cos\\left(\\theta\\right)^{8} + 4 \\, a^{6} r^{2} \\cos\\left(\\theta\\right)^{6} + 6 \\, a^{4} r^{4} \\cos\\left(\\theta\\right)^{4} + 4 \\, a^{2} r^{6} \\cos\\left(\\theta\\right)^{2} + r^{8}}</script></html>"
      ],
      "text/latex": [
       "$$\\newcommand{\\Bold}[1]{\\mathbf{#1}}\\frac{{\\left({\\left(a^{7} m - 2 \\, a^{5} m^{2} r + a^{5} m r^{2}\\right)} \\cos\\left(\\theta\\right)^{5} - {\\left(3 \\, a^{7} m - 6 \\, a^{5} m^{2} r + 8 \\, a^{5} m r^{2} - 10 \\, a^{3} m^{2} r^{3} + 5 \\, a^{3} m r^{4}\\right)} \\cos\\left(\\theta\\right)^{3} + 3 \\, {\\left(3 \\, a^{5} m r^{2} - 6 \\, a^{3} m^{2} r^{3} + 5 \\, a^{3} m r^{4} - 4 \\, a m^{2} r^{5} + 2 \\, a m r^{6}\\right)} \\cos\\left(\\theta\\right)\\right)} \\sin\\left(\\theta\\right)}{a^{8} \\cos\\left(\\theta\\right)^{8} + 4 \\, a^{6} r^{2} \\cos\\left(\\theta\\right)^{6} + 6 \\, a^{4} r^{4} \\cos\\left(\\theta\\right)^{4} + 4 \\, a^{2} r^{6} \\cos\\left(\\theta\\right)^{2} + r^{8}}$$"
      ],
      "text/plain": [
       "\\frac{{\\left({\\left(a^{7} m - 2 \\, a^{5} m^{2} r + a^{5} m r^{2}\\right)} \\cos\\left(\\theta\\right)^{5} - {\\left(3 \\, a^{7} m - 6 \\, a^{5} m^{2} r + 8 \\, a^{5} m r^{2} - 10 \\, a^{3} m^{2} r^{3} + 5 \\, a^{3} m r^{4}\\right)} \\cos\\left(\\theta\\right)^{3} + 3 \\, {\\left(3 \\, a^{5} m r^{2} - 6 \\, a^{3} m^{2} r^{3} + 5 \\, a^{3} m r^{4} - 4 \\, a m^{2} r^{5} + 2 \\, a m r^{6}\\right)} \\cos\\left(\\theta\\right)\\right)} \\sin\\left(\\theta\\right)}{a^{8} \\cos\\left(\\theta\\right)^{8} + 4 \\, a^{6} r^{2} \\cos\\left(\\theta\\right)^{6} + 6 \\, a^{4} r^{4} \\cos\\left(\\theta\\right)^{4} + 4 \\, a^{2} r^{6} \\cos\\left(\\theta\\right)^{2} + r^{8}}"
      ]
     },
     "metadata": {},
     "output_type": "display_data"
    },
    {
     "name": "stdout",
     "output_type": "stream",
     "text": [
      "R_1203 = \n"
     ]
    },
    {
     "data": {
      "text/html": [
       "<html><script type=\"math/tex; mode=display\">\\newcommand{\\Bold}[1]{\\mathbf{#1}}\\frac{{\\left({\\left(a^{5} m - 2 \\, a^{3} m^{2} r + a^{3} m r^{2}\\right)} \\cos\\left(\\theta\\right)^{3} - 3 \\, {\\left(a^{3} m r^{2} - 2 \\, a m^{2} r^{3} + a m r^{4}\\right)} \\cos\\left(\\theta\\right)\\right)} \\sin\\left(\\theta\\right)}{a^{6} \\cos\\left(\\theta\\right)^{6} + 3 \\, a^{4} r^{2} \\cos\\left(\\theta\\right)^{4} + 3 \\, a^{2} r^{4} \\cos\\left(\\theta\\right)^{2} + r^{6}}</script></html>"
      ],
      "text/latex": [
       "$$\\newcommand{\\Bold}[1]{\\mathbf{#1}}\\frac{{\\left({\\left(a^{5} m - 2 \\, a^{3} m^{2} r + a^{3} m r^{2}\\right)} \\cos\\left(\\theta\\right)^{3} - 3 \\, {\\left(a^{3} m r^{2} - 2 \\, a m^{2} r^{3} + a m r^{4}\\right)} \\cos\\left(\\theta\\right)\\right)} \\sin\\left(\\theta\\right)}{a^{6} \\cos\\left(\\theta\\right)^{6} + 3 \\, a^{4} r^{2} \\cos\\left(\\theta\\right)^{4} + 3 \\, a^{2} r^{4} \\cos\\left(\\theta\\right)^{2} + r^{6}}$$"
      ],
      "text/plain": [
       "\\frac{{\\left({\\left(a^{5} m - 2 \\, a^{3} m^{2} r + a^{3} m r^{2}\\right)} \\cos\\left(\\theta\\right)^{3} - 3 \\, {\\left(a^{3} m r^{2} - 2 \\, a m^{2} r^{3} + a m r^{4}\\right)} \\cos\\left(\\theta\\right)\\right)} \\sin\\left(\\theta\\right)}{a^{6} \\cos\\left(\\theta\\right)^{6} + 3 \\, a^{4} r^{2} \\cos\\left(\\theta\\right)^{4} + 3 \\, a^{2} r^{4} \\cos\\left(\\theta\\right)^{2} + r^{6}}"
      ]
     },
     "metadata": {},
     "output_type": "display_data"
    },
    {
     "name": "stdout",
     "output_type": "stream",
     "text": [
      "R_1212 = \n"
     ]
    },
    {
     "data": {
      "text/html": [
       "<html><script type=\"math/tex; mode=display\">\\newcommand{\\Bold}[1]{\\mathbf{#1}}\\frac{3 \\, a^{2} m r \\cos\\left(\\theta\\right)^{2} - m r^{3}}{a^{4} \\cos\\left(\\theta\\right)^{4} + 2 \\, a^{2} r^{2} \\cos\\left(\\theta\\right)^{2} + r^{4}}</script></html>"
      ],
      "text/latex": [
       "$$\\newcommand{\\Bold}[1]{\\mathbf{#1}}\\frac{3 \\, a^{2} m r \\cos\\left(\\theta\\right)^{2} - m r^{3}}{a^{4} \\cos\\left(\\theta\\right)^{4} + 2 \\, a^{2} r^{2} \\cos\\left(\\theta\\right)^{2} + r^{4}}$$"
      ],
      "text/plain": [
       "\\frac{3 \\, a^{2} m r \\cos\\left(\\theta\\right)^{2} - m r^{3}}{a^{4} \\cos\\left(\\theta\\right)^{4} + 2 \\, a^{2} r^{2} \\cos\\left(\\theta\\right)^{2} + r^{4}}"
      ]
     },
     "metadata": {},
     "output_type": "display_data"
    },
    {
     "name": "stdout",
     "output_type": "stream",
     "text": [
      "R_1221 = \n"
     ]
    },
    {
     "data": {
      "text/html": [
       "<html><script type=\"math/tex; mode=display\">\\newcommand{\\Bold}[1]{\\mathbf{#1}}-\\frac{3 \\, a^{2} m r \\cos\\left(\\theta\\right)^{2} - m r^{3}}{a^{4} \\cos\\left(\\theta\\right)^{4} + 2 \\, a^{2} r^{2} \\cos\\left(\\theta\\right)^{2} + r^{4}}</script></html>"
      ],
      "text/latex": [
       "$$\\newcommand{\\Bold}[1]{\\mathbf{#1}}-\\frac{3 \\, a^{2} m r \\cos\\left(\\theta\\right)^{2} - m r^{3}}{a^{4} \\cos\\left(\\theta\\right)^{4} + 2 \\, a^{2} r^{2} \\cos\\left(\\theta\\right)^{2} + r^{4}}$$"
      ],
      "text/plain": [
       "-\\frac{3 \\, a^{2} m r \\cos\\left(\\theta\\right)^{2} - m r^{3}}{a^{4} \\cos\\left(\\theta\\right)^{4} + 2 \\, a^{2} r^{2} \\cos\\left(\\theta\\right)^{2} + r^{4}}"
      ]
     },
     "metadata": {},
     "output_type": "display_data"
    },
    {
     "name": "stdout",
     "output_type": "stream",
     "text": [
      "R_1230 = \n"
     ]
    },
    {
     "data": {
      "text/html": [
       "<html><script type=\"math/tex; mode=display\">\\newcommand{\\Bold}[1]{\\mathbf{#1}}-\\frac{{\\left({\\left(a^{5} m - 2 \\, a^{3} m^{2} r + a^{3} m r^{2}\\right)} \\cos\\left(\\theta\\right)^{3} - 3 \\, {\\left(a^{3} m r^{2} - 2 \\, a m^{2} r^{3} + a m r^{4}\\right)} \\cos\\left(\\theta\\right)\\right)} \\sin\\left(\\theta\\right)}{a^{6} \\cos\\left(\\theta\\right)^{6} + 3 \\, a^{4} r^{2} \\cos\\left(\\theta\\right)^{4} + 3 \\, a^{2} r^{4} \\cos\\left(\\theta\\right)^{2} + r^{6}}</script></html>"
      ],
      "text/latex": [
       "$$\\newcommand{\\Bold}[1]{\\mathbf{#1}}-\\frac{{\\left({\\left(a^{5} m - 2 \\, a^{3} m^{2} r + a^{3} m r^{2}\\right)} \\cos\\left(\\theta\\right)^{3} - 3 \\, {\\left(a^{3} m r^{2} - 2 \\, a m^{2} r^{3} + a m r^{4}\\right)} \\cos\\left(\\theta\\right)\\right)} \\sin\\left(\\theta\\right)}{a^{6} \\cos\\left(\\theta\\right)^{6} + 3 \\, a^{4} r^{2} \\cos\\left(\\theta\\right)^{4} + 3 \\, a^{2} r^{4} \\cos\\left(\\theta\\right)^{2} + r^{6}}$$"
      ],
      "text/plain": [
       "-\\frac{{\\left({\\left(a^{5} m - 2 \\, a^{3} m^{2} r + a^{3} m r^{2}\\right)} \\cos\\left(\\theta\\right)^{3} - 3 \\, {\\left(a^{3} m r^{2} - 2 \\, a m^{2} r^{3} + a m r^{4}\\right)} \\cos\\left(\\theta\\right)\\right)} \\sin\\left(\\theta\\right)}{a^{6} \\cos\\left(\\theta\\right)^{6} + 3 \\, a^{4} r^{2} \\cos\\left(\\theta\\right)^{4} + 3 \\, a^{2} r^{4} \\cos\\left(\\theta\\right)^{2} + r^{6}}"
      ]
     },
     "metadata": {},
     "output_type": "display_data"
    },
    {
     "name": "stdout",
     "output_type": "stream",
     "text": [
      "R_1301 = \n"
     ]
    },
    {
     "data": {
      "text/html": [
       "<html><script type=\"math/tex; mode=display\">\\newcommand{\\Bold}[1]{\\mathbf{#1}}-\\frac{{\\left(3 \\, a^{3} m r^{3} - 4 \\, a m^{2} r^{4} + 3 \\, a m r^{5} - 3 \\, {\\left(3 \\, a^{5} m r - 4 \\, a^{3} m^{2} r^{2} + 3 \\, a^{3} m r^{3}\\right)} \\cos\\left(\\theta\\right)^{2}\\right)} \\sin\\left(\\theta\\right)^{2}}{a^{8} \\cos\\left(\\theta\\right)^{8} + 4 \\, a^{6} r^{2} \\cos\\left(\\theta\\right)^{6} + 6 \\, a^{4} r^{4} \\cos\\left(\\theta\\right)^{4} + 4 \\, a^{2} r^{6} \\cos\\left(\\theta\\right)^{2} + r^{8}}</script></html>"
      ],
      "text/latex": [
       "$$\\newcommand{\\Bold}[1]{\\mathbf{#1}}-\\frac{{\\left(3 \\, a^{3} m r^{3} - 4 \\, a m^{2} r^{4} + 3 \\, a m r^{5} - 3 \\, {\\left(3 \\, a^{5} m r - 4 \\, a^{3} m^{2} r^{2} + 3 \\, a^{3} m r^{3}\\right)} \\cos\\left(\\theta\\right)^{2}\\right)} \\sin\\left(\\theta\\right)^{2}}{a^{8} \\cos\\left(\\theta\\right)^{8} + 4 \\, a^{6} r^{2} \\cos\\left(\\theta\\right)^{6} + 6 \\, a^{4} r^{4} \\cos\\left(\\theta\\right)^{4} + 4 \\, a^{2} r^{6} \\cos\\left(\\theta\\right)^{2} + r^{8}}$$"
      ],
      "text/plain": [
       "-\\frac{{\\left(3 \\, a^{3} m r^{3} - 4 \\, a m^{2} r^{4} + 3 \\, a m r^{5} - 3 \\, {\\left(3 \\, a^{5} m r - 4 \\, a^{3} m^{2} r^{2} + 3 \\, a^{3} m r^{3}\\right)} \\cos\\left(\\theta\\right)^{2}\\right)} \\sin\\left(\\theta\\right)^{2}}{a^{8} \\cos\\left(\\theta\\right)^{8} + 4 \\, a^{6} r^{2} \\cos\\left(\\theta\\right)^{6} + 6 \\, a^{4} r^{4} \\cos\\left(\\theta\\right)^{4} + 4 \\, a^{2} r^{6} \\cos\\left(\\theta\\right)^{2} + r^{8}}"
      ]
     },
     "metadata": {},
     "output_type": "display_data"
    },
    {
     "name": "stdout",
     "output_type": "stream",
     "text": [
      "R_1302 = \n"
     ]
    },
    {
     "data": {
      "text/html": [
       "<html><script type=\"math/tex; mode=display\">\\newcommand{\\Bold}[1]{\\mathbf{#1}}\\frac{{\\left(2 \\, {\\left(a^{7} m - 2 \\, a^{5} m^{2} r + a^{5} m r^{2}\\right)} \\cos\\left(\\theta\\right)^{5} - {\\left(3 \\, a^{7} m - 6 \\, a^{5} m^{2} r + 10 \\, a^{5} m r^{2} - 14 \\, a^{3} m^{2} r^{3} + 7 \\, a^{3} m r^{4}\\right)} \\cos\\left(\\theta\\right)^{3} + 3 \\, {\\left(3 \\, a^{5} m r^{2} - 6 \\, a^{3} m^{2} r^{3} + 4 \\, a^{3} m r^{4} - 2 \\, a m^{2} r^{5} + a m r^{6}\\right)} \\cos\\left(\\theta\\right)\\right)} \\sin\\left(\\theta\\right)}{a^{8} \\cos\\left(\\theta\\right)^{8} + 4 \\, a^{6} r^{2} \\cos\\left(\\theta\\right)^{6} + 6 \\, a^{4} r^{4} \\cos\\left(\\theta\\right)^{4} + 4 \\, a^{2} r^{6} \\cos\\left(\\theta\\right)^{2} + r^{8}}</script></html>"
      ],
      "text/latex": [
       "$$\\newcommand{\\Bold}[1]{\\mathbf{#1}}\\frac{{\\left(2 \\, {\\left(a^{7} m - 2 \\, a^{5} m^{2} r + a^{5} m r^{2}\\right)} \\cos\\left(\\theta\\right)^{5} - {\\left(3 \\, a^{7} m - 6 \\, a^{5} m^{2} r + 10 \\, a^{5} m r^{2} - 14 \\, a^{3} m^{2} r^{3} + 7 \\, a^{3} m r^{4}\\right)} \\cos\\left(\\theta\\right)^{3} + 3 \\, {\\left(3 \\, a^{5} m r^{2} - 6 \\, a^{3} m^{2} r^{3} + 4 \\, a^{3} m r^{4} - 2 \\, a m^{2} r^{5} + a m r^{6}\\right)} \\cos\\left(\\theta\\right)\\right)} \\sin\\left(\\theta\\right)}{a^{8} \\cos\\left(\\theta\\right)^{8} + 4 \\, a^{6} r^{2} \\cos\\left(\\theta\\right)^{6} + 6 \\, a^{4} r^{4} \\cos\\left(\\theta\\right)^{4} + 4 \\, a^{2} r^{6} \\cos\\left(\\theta\\right)^{2} + r^{8}}$$"
      ],
      "text/plain": [
       "\\frac{{\\left(2 \\, {\\left(a^{7} m - 2 \\, a^{5} m^{2} r + a^{5} m r^{2}\\right)} \\cos\\left(\\theta\\right)^{5} - {\\left(3 \\, a^{7} m - 6 \\, a^{5} m^{2} r + 10 \\, a^{5} m r^{2} - 14 \\, a^{3} m^{2} r^{3} + 7 \\, a^{3} m r^{4}\\right)} \\cos\\left(\\theta\\right)^{3} + 3 \\, {\\left(3 \\, a^{5} m r^{2} - 6 \\, a^{3} m^{2} r^{3} + 4 \\, a^{3} m r^{4} - 2 \\, a m^{2} r^{5} + a m r^{6}\\right)} \\cos\\left(\\theta\\right)\\right)} \\sin\\left(\\theta\\right)}{a^{8} \\cos\\left(\\theta\\right)^{8} + 4 \\, a^{6} r^{2} \\cos\\left(\\theta\\right)^{6} + 6 \\, a^{4} r^{4} \\cos\\left(\\theta\\right)^{4} + 4 \\, a^{2} r^{6} \\cos\\left(\\theta\\right)^{2} + r^{8}}"
      ]
     },
     "metadata": {},
     "output_type": "display_data"
    },
    {
     "name": "stdout",
     "output_type": "stream",
     "text": [
      "R_1310 = \n"
     ]
    },
    {
     "data": {
      "text/html": [
       "<html><script type=\"math/tex; mode=display\">\\newcommand{\\Bold}[1]{\\mathbf{#1}}\\frac{{\\left(3 \\, a^{3} m r^{3} - 4 \\, a m^{2} r^{4} + 3 \\, a m r^{5} - 3 \\, {\\left(3 \\, a^{5} m r - 4 \\, a^{3} m^{2} r^{2} + 3 \\, a^{3} m r^{3}\\right)} \\cos\\left(\\theta\\right)^{2}\\right)} \\sin\\left(\\theta\\right)^{2}}{a^{8} \\cos\\left(\\theta\\right)^{8} + 4 \\, a^{6} r^{2} \\cos\\left(\\theta\\right)^{6} + 6 \\, a^{4} r^{4} \\cos\\left(\\theta\\right)^{4} + 4 \\, a^{2} r^{6} \\cos\\left(\\theta\\right)^{2} + r^{8}}</script></html>"
      ],
      "text/latex": [
       "$$\\newcommand{\\Bold}[1]{\\mathbf{#1}}\\frac{{\\left(3 \\, a^{3} m r^{3} - 4 \\, a m^{2} r^{4} + 3 \\, a m r^{5} - 3 \\, {\\left(3 \\, a^{5} m r - 4 \\, a^{3} m^{2} r^{2} + 3 \\, a^{3} m r^{3}\\right)} \\cos\\left(\\theta\\right)^{2}\\right)} \\sin\\left(\\theta\\right)^{2}}{a^{8} \\cos\\left(\\theta\\right)^{8} + 4 \\, a^{6} r^{2} \\cos\\left(\\theta\\right)^{6} + 6 \\, a^{4} r^{4} \\cos\\left(\\theta\\right)^{4} + 4 \\, a^{2} r^{6} \\cos\\left(\\theta\\right)^{2} + r^{8}}$$"
      ],
      "text/plain": [
       "\\frac{{\\left(3 \\, a^{3} m r^{3} - 4 \\, a m^{2} r^{4} + 3 \\, a m r^{5} - 3 \\, {\\left(3 \\, a^{5} m r - 4 \\, a^{3} m^{2} r^{2} + 3 \\, a^{3} m r^{3}\\right)} \\cos\\left(\\theta\\right)^{2}\\right)} \\sin\\left(\\theta\\right)^{2}}{a^{8} \\cos\\left(\\theta\\right)^{8} + 4 \\, a^{6} r^{2} \\cos\\left(\\theta\\right)^{6} + 6 \\, a^{4} r^{4} \\cos\\left(\\theta\\right)^{4} + 4 \\, a^{2} r^{6} \\cos\\left(\\theta\\right)^{2} + r^{8}}"
      ]
     },
     "metadata": {},
     "output_type": "display_data"
    },
    {
     "name": "stdout",
     "output_type": "stream",
     "text": [
      "R_1313 = \n"
     ]
    },
    {
     "data": {
      "text/html": [
       "<html><script type=\"math/tex; mode=display\">\\newcommand{\\Bold}[1]{\\mathbf{#1}}-\\frac{6 \\, {\\left(a^{6} m r - 2 \\, a^{4} m^{2} r^{2} + a^{4} m r^{3}\\right)} \\sin\\left(\\theta\\right)^{6} - {\\left(3 \\, a^{6} m r - 12 \\, a^{4} m^{2} r^{2} - 2 \\, a^{4} m r^{3} + 4 \\, a^{2} m^{2} r^{4} - 5 \\, a^{2} m r^{5}\\right)} \\sin\\left(\\theta\\right)^{4} - {\\left(3 \\, a^{6} m r + 5 \\, a^{4} m r^{3} + a^{2} m r^{5} - m r^{7}\\right)} \\sin\\left(\\theta\\right)^{2}}{a^{8} \\cos\\left(\\theta\\right)^{8} + 4 \\, a^{6} r^{2} \\cos\\left(\\theta\\right)^{6} + 6 \\, a^{4} r^{4} \\cos\\left(\\theta\\right)^{4} + 4 \\, a^{2} r^{6} \\cos\\left(\\theta\\right)^{2} + r^{8}}</script></html>"
      ],
      "text/latex": [
       "$$\\newcommand{\\Bold}[1]{\\mathbf{#1}}-\\frac{6 \\, {\\left(a^{6} m r - 2 \\, a^{4} m^{2} r^{2} + a^{4} m r^{3}\\right)} \\sin\\left(\\theta\\right)^{6} - {\\left(3 \\, a^{6} m r - 12 \\, a^{4} m^{2} r^{2} - 2 \\, a^{4} m r^{3} + 4 \\, a^{2} m^{2} r^{4} - 5 \\, a^{2} m r^{5}\\right)} \\sin\\left(\\theta\\right)^{4} - {\\left(3 \\, a^{6} m r + 5 \\, a^{4} m r^{3} + a^{2} m r^{5} - m r^{7}\\right)} \\sin\\left(\\theta\\right)^{2}}{a^{8} \\cos\\left(\\theta\\right)^{8} + 4 \\, a^{6} r^{2} \\cos\\left(\\theta\\right)^{6} + 6 \\, a^{4} r^{4} \\cos\\left(\\theta\\right)^{4} + 4 \\, a^{2} r^{6} \\cos\\left(\\theta\\right)^{2} + r^{8}}$$"
      ],
      "text/plain": [
       "-\\frac{6 \\, {\\left(a^{6} m r - 2 \\, a^{4} m^{2} r^{2} + a^{4} m r^{3}\\right)} \\sin\\left(\\theta\\right)^{6} - {\\left(3 \\, a^{6} m r - 12 \\, a^{4} m^{2} r^{2} - 2 \\, a^{4} m r^{3} + 4 \\, a^{2} m^{2} r^{4} - 5 \\, a^{2} m r^{5}\\right)} \\sin\\left(\\theta\\right)^{4} - {\\left(3 \\, a^{6} m r + 5 \\, a^{4} m r^{3} + a^{2} m r^{5} - m r^{7}\\right)} \\sin\\left(\\theta\\right)^{2}}{a^{8} \\cos\\left(\\theta\\right)^{8} + 4 \\, a^{6} r^{2} \\cos\\left(\\theta\\right)^{6} + 6 \\, a^{4} r^{4} \\cos\\left(\\theta\\right)^{4} + 4 \\, a^{2} r^{6} \\cos\\left(\\theta\\right)^{2} + r^{8}}"
      ]
     },
     "metadata": {},
     "output_type": "display_data"
    },
    {
     "name": "stdout",
     "output_type": "stream",
     "text": [
      "R_1320 = \n"
     ]
    },
    {
     "data": {
      "text/html": [
       "<html><script type=\"math/tex; mode=display\">\\newcommand{\\Bold}[1]{\\mathbf{#1}}-\\frac{{\\left(2 \\, {\\left(a^{7} m - 2 \\, a^{5} m^{2} r + a^{5} m r^{2}\\right)} \\cos\\left(\\theta\\right)^{5} - {\\left(3 \\, a^{7} m - 6 \\, a^{5} m^{2} r + 10 \\, a^{5} m r^{2} - 14 \\, a^{3} m^{2} r^{3} + 7 \\, a^{3} m r^{4}\\right)} \\cos\\left(\\theta\\right)^{3} + 3 \\, {\\left(3 \\, a^{5} m r^{2} - 6 \\, a^{3} m^{2} r^{3} + 4 \\, a^{3} m r^{4} - 2 \\, a m^{2} r^{5} + a m r^{6}\\right)} \\cos\\left(\\theta\\right)\\right)} \\sin\\left(\\theta\\right)}{a^{8} \\cos\\left(\\theta\\right)^{8} + 4 \\, a^{6} r^{2} \\cos\\left(\\theta\\right)^{6} + 6 \\, a^{4} r^{4} \\cos\\left(\\theta\\right)^{4} + 4 \\, a^{2} r^{6} \\cos\\left(\\theta\\right)^{2} + r^{8}}</script></html>"
      ],
      "text/latex": [
       "$$\\newcommand{\\Bold}[1]{\\mathbf{#1}}-\\frac{{\\left(2 \\, {\\left(a^{7} m - 2 \\, a^{5} m^{2} r + a^{5} m r^{2}\\right)} \\cos\\left(\\theta\\right)^{5} - {\\left(3 \\, a^{7} m - 6 \\, a^{5} m^{2} r + 10 \\, a^{5} m r^{2} - 14 \\, a^{3} m^{2} r^{3} + 7 \\, a^{3} m r^{4}\\right)} \\cos\\left(\\theta\\right)^{3} + 3 \\, {\\left(3 \\, a^{5} m r^{2} - 6 \\, a^{3} m^{2} r^{3} + 4 \\, a^{3} m r^{4} - 2 \\, a m^{2} r^{5} + a m r^{6}\\right)} \\cos\\left(\\theta\\right)\\right)} \\sin\\left(\\theta\\right)}{a^{8} \\cos\\left(\\theta\\right)^{8} + 4 \\, a^{6} r^{2} \\cos\\left(\\theta\\right)^{6} + 6 \\, a^{4} r^{4} \\cos\\left(\\theta\\right)^{4} + 4 \\, a^{2} r^{6} \\cos\\left(\\theta\\right)^{2} + r^{8}}$$"
      ],
      "text/plain": [
       "-\\frac{{\\left(2 \\, {\\left(a^{7} m - 2 \\, a^{5} m^{2} r + a^{5} m r^{2}\\right)} \\cos\\left(\\theta\\right)^{5} - {\\left(3 \\, a^{7} m - 6 \\, a^{5} m^{2} r + 10 \\, a^{5} m r^{2} - 14 \\, a^{3} m^{2} r^{3} + 7 \\, a^{3} m r^{4}\\right)} \\cos\\left(\\theta\\right)^{3} + 3 \\, {\\left(3 \\, a^{5} m r^{2} - 6 \\, a^{3} m^{2} r^{3} + 4 \\, a^{3} m r^{4} - 2 \\, a m^{2} r^{5} + a m r^{6}\\right)} \\cos\\left(\\theta\\right)\\right)} \\sin\\left(\\theta\\right)}{a^{8} \\cos\\left(\\theta\\right)^{8} + 4 \\, a^{6} r^{2} \\cos\\left(\\theta\\right)^{6} + 6 \\, a^{4} r^{4} \\cos\\left(\\theta\\right)^{4} + 4 \\, a^{2} r^{6} \\cos\\left(\\theta\\right)^{2} + r^{8}}"
      ]
     },
     "metadata": {},
     "output_type": "display_data"
    },
    {
     "name": "stdout",
     "output_type": "stream",
     "text": [
      "R_1323 = \n"
     ]
    },
    {
     "data": {
      "text/html": [
       "<html><script type=\"math/tex; mode=display\">\\newcommand{\\Bold}[1]{\\mathbf{#1}}\\frac{3 \\, {\\left({\\left(a^{8} m - 2 \\, a^{6} m^{2} r + 2 \\, a^{6} m r^{2} - 2 \\, a^{4} m^{2} r^{3} + a^{4} m r^{4}\\right)} \\cos\\left(\\theta\\right) \\sin\\left(\\theta\\right)^{5} - {\\left(a^{8} m - 2 \\, a^{6} m^{2} r - a^{6} m r^{2} + 4 \\, a^{4} m^{2} r^{3} - 5 \\, a^{4} m r^{4} + 6 \\, a^{2} m^{2} r^{5} - 3 \\, a^{2} m r^{6}\\right)} \\cos\\left(\\theta\\right) \\sin\\left(\\theta\\right)^{3}\\right)}}{a^{8} \\cos\\left(\\theta\\right)^{8} + 4 \\, a^{6} r^{2} \\cos\\left(\\theta\\right)^{6} + 6 \\, a^{4} r^{4} \\cos\\left(\\theta\\right)^{4} + 4 \\, a^{2} r^{6} \\cos\\left(\\theta\\right)^{2} + r^{8}}</script></html>"
      ],
      "text/latex": [
       "$$\\newcommand{\\Bold}[1]{\\mathbf{#1}}\\frac{3 \\, {\\left({\\left(a^{8} m - 2 \\, a^{6} m^{2} r + 2 \\, a^{6} m r^{2} - 2 \\, a^{4} m^{2} r^{3} + a^{4} m r^{4}\\right)} \\cos\\left(\\theta\\right) \\sin\\left(\\theta\\right)^{5} - {\\left(a^{8} m - 2 \\, a^{6} m^{2} r - a^{6} m r^{2} + 4 \\, a^{4} m^{2} r^{3} - 5 \\, a^{4} m r^{4} + 6 \\, a^{2} m^{2} r^{5} - 3 \\, a^{2} m r^{6}\\right)} \\cos\\left(\\theta\\right) \\sin\\left(\\theta\\right)^{3}\\right)}}{a^{8} \\cos\\left(\\theta\\right)^{8} + 4 \\, a^{6} r^{2} \\cos\\left(\\theta\\right)^{6} + 6 \\, a^{4} r^{4} \\cos\\left(\\theta\\right)^{4} + 4 \\, a^{2} r^{6} \\cos\\left(\\theta\\right)^{2} + r^{8}}$$"
      ],
      "text/plain": [
       "\\frac{3 \\, {\\left({\\left(a^{8} m - 2 \\, a^{6} m^{2} r + 2 \\, a^{6} m r^{2} - 2 \\, a^{4} m^{2} r^{3} + a^{4} m r^{4}\\right)} \\cos\\left(\\theta\\right) \\sin\\left(\\theta\\right)^{5} - {\\left(a^{8} m - 2 \\, a^{6} m^{2} r - a^{6} m r^{2} + 4 \\, a^{4} m^{2} r^{3} - 5 \\, a^{4} m r^{4} + 6 \\, a^{2} m^{2} r^{5} - 3 \\, a^{2} m r^{6}\\right)} \\cos\\left(\\theta\\right) \\sin\\left(\\theta\\right)^{3}\\right)}}{a^{8} \\cos\\left(\\theta\\right)^{8} + 4 \\, a^{6} r^{2} \\cos\\left(\\theta\\right)^{6} + 6 \\, a^{4} r^{4} \\cos\\left(\\theta\\right)^{4} + 4 \\, a^{2} r^{6} \\cos\\left(\\theta\\right)^{2} + r^{8}}"
      ]
     },
     "metadata": {},
     "output_type": "display_data"
    },
    {
     "name": "stdout",
     "output_type": "stream",
     "text": [
      "R_1331 = \n"
     ]
    },
    {
     "data": {
      "text/html": [
       "<html><script type=\"math/tex; mode=display\">\\newcommand{\\Bold}[1]{\\mathbf{#1}}\\frac{6 \\, {\\left(a^{6} m r - 2 \\, a^{4} m^{2} r^{2} + a^{4} m r^{3}\\right)} \\sin\\left(\\theta\\right)^{6} - {\\left(3 \\, a^{6} m r - 12 \\, a^{4} m^{2} r^{2} - 2 \\, a^{4} m r^{3} + 4 \\, a^{2} m^{2} r^{4} - 5 \\, a^{2} m r^{5}\\right)} \\sin\\left(\\theta\\right)^{4} - {\\left(3 \\, a^{6} m r + 5 \\, a^{4} m r^{3} + a^{2} m r^{5} - m r^{7}\\right)} \\sin\\left(\\theta\\right)^{2}}{a^{8} \\cos\\left(\\theta\\right)^{8} + 4 \\, a^{6} r^{2} \\cos\\left(\\theta\\right)^{6} + 6 \\, a^{4} r^{4} \\cos\\left(\\theta\\right)^{4} + 4 \\, a^{2} r^{6} \\cos\\left(\\theta\\right)^{2} + r^{8}}</script></html>"
      ],
      "text/latex": [
       "$$\\newcommand{\\Bold}[1]{\\mathbf{#1}}\\frac{6 \\, {\\left(a^{6} m r - 2 \\, a^{4} m^{2} r^{2} + a^{4} m r^{3}\\right)} \\sin\\left(\\theta\\right)^{6} - {\\left(3 \\, a^{6} m r - 12 \\, a^{4} m^{2} r^{2} - 2 \\, a^{4} m r^{3} + 4 \\, a^{2} m^{2} r^{4} - 5 \\, a^{2} m r^{5}\\right)} \\sin\\left(\\theta\\right)^{4} - {\\left(3 \\, a^{6} m r + 5 \\, a^{4} m r^{3} + a^{2} m r^{5} - m r^{7}\\right)} \\sin\\left(\\theta\\right)^{2}}{a^{8} \\cos\\left(\\theta\\right)^{8} + 4 \\, a^{6} r^{2} \\cos\\left(\\theta\\right)^{6} + 6 \\, a^{4} r^{4} \\cos\\left(\\theta\\right)^{4} + 4 \\, a^{2} r^{6} \\cos\\left(\\theta\\right)^{2} + r^{8}}$$"
      ],
      "text/plain": [
       "\\frac{6 \\, {\\left(a^{6} m r - 2 \\, a^{4} m^{2} r^{2} + a^{4} m r^{3}\\right)} \\sin\\left(\\theta\\right)^{6} - {\\left(3 \\, a^{6} m r - 12 \\, a^{4} m^{2} r^{2} - 2 \\, a^{4} m r^{3} + 4 \\, a^{2} m^{2} r^{4} - 5 \\, a^{2} m r^{5}\\right)} \\sin\\left(\\theta\\right)^{4} - {\\left(3 \\, a^{6} m r + 5 \\, a^{4} m r^{3} + a^{2} m r^{5} - m r^{7}\\right)} \\sin\\left(\\theta\\right)^{2}}{a^{8} \\cos\\left(\\theta\\right)^{8} + 4 \\, a^{6} r^{2} \\cos\\left(\\theta\\right)^{6} + 6 \\, a^{4} r^{4} \\cos\\left(\\theta\\right)^{4} + 4 \\, a^{2} r^{6} \\cos\\left(\\theta\\right)^{2} + r^{8}}"
      ]
     },
     "metadata": {},
     "output_type": "display_data"
    },
    {
     "name": "stdout",
     "output_type": "stream",
     "text": [
      "R_1332 = \n"
     ]
    },
    {
     "data": {
      "text/html": [
       "<html><script type=\"math/tex; mode=display\">\\newcommand{\\Bold}[1]{\\mathbf{#1}}-\\frac{3 \\, {\\left({\\left(a^{8} m - 2 \\, a^{6} m^{2} r + 2 \\, a^{6} m r^{2} - 2 \\, a^{4} m^{2} r^{3} + a^{4} m r^{4}\\right)} \\cos\\left(\\theta\\right) \\sin\\left(\\theta\\right)^{5} - {\\left(a^{8} m - 2 \\, a^{6} m^{2} r - a^{6} m r^{2} + 4 \\, a^{4} m^{2} r^{3} - 5 \\, a^{4} m r^{4} + 6 \\, a^{2} m^{2} r^{5} - 3 \\, a^{2} m r^{6}\\right)} \\cos\\left(\\theta\\right) \\sin\\left(\\theta\\right)^{3}\\right)}}{a^{8} \\cos\\left(\\theta\\right)^{8} + 4 \\, a^{6} r^{2} \\cos\\left(\\theta\\right)^{6} + 6 \\, a^{4} r^{4} \\cos\\left(\\theta\\right)^{4} + 4 \\, a^{2} r^{6} \\cos\\left(\\theta\\right)^{2} + r^{8}}</script></html>"
      ],
      "text/latex": [
       "$$\\newcommand{\\Bold}[1]{\\mathbf{#1}}-\\frac{3 \\, {\\left({\\left(a^{8} m - 2 \\, a^{6} m^{2} r + 2 \\, a^{6} m r^{2} - 2 \\, a^{4} m^{2} r^{3} + a^{4} m r^{4}\\right)} \\cos\\left(\\theta\\right) \\sin\\left(\\theta\\right)^{5} - {\\left(a^{8} m - 2 \\, a^{6} m^{2} r - a^{6} m r^{2} + 4 \\, a^{4} m^{2} r^{3} - 5 \\, a^{4} m r^{4} + 6 \\, a^{2} m^{2} r^{5} - 3 \\, a^{2} m r^{6}\\right)} \\cos\\left(\\theta\\right) \\sin\\left(\\theta\\right)^{3}\\right)}}{a^{8} \\cos\\left(\\theta\\right)^{8} + 4 \\, a^{6} r^{2} \\cos\\left(\\theta\\right)^{6} + 6 \\, a^{4} r^{4} \\cos\\left(\\theta\\right)^{4} + 4 \\, a^{2} r^{6} \\cos\\left(\\theta\\right)^{2} + r^{8}}$$"
      ],
      "text/plain": [
       "-\\frac{3 \\, {\\left({\\left(a^{8} m - 2 \\, a^{6} m^{2} r + 2 \\, a^{6} m r^{2} - 2 \\, a^{4} m^{2} r^{3} + a^{4} m r^{4}\\right)} \\cos\\left(\\theta\\right) \\sin\\left(\\theta\\right)^{5} - {\\left(a^{8} m - 2 \\, a^{6} m^{2} r - a^{6} m r^{2} + 4 \\, a^{4} m^{2} r^{3} - 5 \\, a^{4} m r^{4} + 6 \\, a^{2} m^{2} r^{5} - 3 \\, a^{2} m r^{6}\\right)} \\cos\\left(\\theta\\right) \\sin\\left(\\theta\\right)^{3}\\right)}}{a^{8} \\cos\\left(\\theta\\right)^{8} + 4 \\, a^{6} r^{2} \\cos\\left(\\theta\\right)^{6} + 6 \\, a^{4} r^{4} \\cos\\left(\\theta\\right)^{4} + 4 \\, a^{2} r^{6} \\cos\\left(\\theta\\right)^{2} + r^{8}}"
      ]
     },
     "metadata": {},
     "output_type": "display_data"
    },
    {
     "name": "stdout",
     "output_type": "stream",
     "text": [
      "R_2001 = \n"
     ]
    },
    {
     "data": {
      "text/html": [
       "<html><script type=\"math/tex; mode=display\">\\newcommand{\\Bold}[1]{\\mathbf{#1}}\\frac{3 \\, {\\left(a^{4} m \\cos\\left(\\theta\\right)^{3} - 3 \\, a^{2} m r^{2} \\cos\\left(\\theta\\right)\\right)} \\sin\\left(\\theta\\right)}{a^{8} \\cos\\left(\\theta\\right)^{8} + 4 \\, a^{6} r^{2} \\cos\\left(\\theta\\right)^{6} + 6 \\, a^{4} r^{4} \\cos\\left(\\theta\\right)^{4} + 4 \\, a^{2} r^{6} \\cos\\left(\\theta\\right)^{2} + r^{8}}</script></html>"
      ],
      "text/latex": [
       "$$\\newcommand{\\Bold}[1]{\\mathbf{#1}}\\frac{3 \\, {\\left(a^{4} m \\cos\\left(\\theta\\right)^{3} - 3 \\, a^{2} m r^{2} \\cos\\left(\\theta\\right)\\right)} \\sin\\left(\\theta\\right)}{a^{8} \\cos\\left(\\theta\\right)^{8} + 4 \\, a^{6} r^{2} \\cos\\left(\\theta\\right)^{6} + 6 \\, a^{4} r^{4} \\cos\\left(\\theta\\right)^{4} + 4 \\, a^{2} r^{6} \\cos\\left(\\theta\\right)^{2} + r^{8}}$$"
      ],
      "text/plain": [
       "\\frac{3 \\, {\\left(a^{4} m \\cos\\left(\\theta\\right)^{3} - 3 \\, a^{2} m r^{2} \\cos\\left(\\theta\\right)\\right)} \\sin\\left(\\theta\\right)}{a^{8} \\cos\\left(\\theta\\right)^{8} + 4 \\, a^{6} r^{2} \\cos\\left(\\theta\\right)^{6} + 6 \\, a^{4} r^{4} \\cos\\left(\\theta\\right)^{4} + 4 \\, a^{2} r^{6} \\cos\\left(\\theta\\right)^{2} + r^{8}}"
      ]
     },
     "metadata": {},
     "output_type": "display_data"
    },
    {
     "name": "stdout",
     "output_type": "stream",
     "text": [
      "R_2002 = \n"
     ]
    },
    {
     "data": {
      "text/html": [
       "<html><script type=\"math/tex; mode=display\">\\newcommand{\\Bold}[1]{\\mathbf{#1}}-\\frac{6 \\, a^{4} m r \\sin\\left(\\theta\\right)^{4} - 3 \\, a^{4} m r + 6 \\, a^{2} m^{2} r^{2} - 2 \\, a^{2} m r^{3} - 2 \\, m^{2} r^{4} + m r^{5} - {\\left(3 \\, a^{4} m r + 6 \\, a^{2} m^{2} r^{2} - 5 \\, a^{2} m r^{3}\\right)} \\sin\\left(\\theta\\right)^{2}}{a^{8} \\cos\\left(\\theta\\right)^{8} + 4 \\, a^{6} r^{2} \\cos\\left(\\theta\\right)^{6} + 6 \\, a^{4} r^{4} \\cos\\left(\\theta\\right)^{4} + 4 \\, a^{2} r^{6} \\cos\\left(\\theta\\right)^{2} + r^{8}}</script></html>"
      ],
      "text/latex": [
       "$$\\newcommand{\\Bold}[1]{\\mathbf{#1}}-\\frac{6 \\, a^{4} m r \\sin\\left(\\theta\\right)^{4} - 3 \\, a^{4} m r + 6 \\, a^{2} m^{2} r^{2} - 2 \\, a^{2} m r^{3} - 2 \\, m^{2} r^{4} + m r^{5} - {\\left(3 \\, a^{4} m r + 6 \\, a^{2} m^{2} r^{2} - 5 \\, a^{2} m r^{3}\\right)} \\sin\\left(\\theta\\right)^{2}}{a^{8} \\cos\\left(\\theta\\right)^{8} + 4 \\, a^{6} r^{2} \\cos\\left(\\theta\\right)^{6} + 6 \\, a^{4} r^{4} \\cos\\left(\\theta\\right)^{4} + 4 \\, a^{2} r^{6} \\cos\\left(\\theta\\right)^{2} + r^{8}}$$"
      ],
      "text/plain": [
       "-\\frac{6 \\, a^{4} m r \\sin\\left(\\theta\\right)^{4} - 3 \\, a^{4} m r + 6 \\, a^{2} m^{2} r^{2} - 2 \\, a^{2} m r^{3} - 2 \\, m^{2} r^{4} + m r^{5} - {\\left(3 \\, a^{4} m r + 6 \\, a^{2} m^{2} r^{2} - 5 \\, a^{2} m r^{3}\\right)} \\sin\\left(\\theta\\right)^{2}}{a^{8} \\cos\\left(\\theta\\right)^{8} + 4 \\, a^{6} r^{2} \\cos\\left(\\theta\\right)^{6} + 6 \\, a^{4} r^{4} \\cos\\left(\\theta\\right)^{4} + 4 \\, a^{2} r^{6} \\cos\\left(\\theta\\right)^{2} + r^{8}}"
      ]
     },
     "metadata": {},
     "output_type": "display_data"
    },
    {
     "name": "stdout",
     "output_type": "stream",
     "text": [
      "R_2010 = \n"
     ]
    },
    {
     "data": {
      "text/html": [
       "<html><script type=\"math/tex; mode=display\">\\newcommand{\\Bold}[1]{\\mathbf{#1}}-\\frac{3 \\, {\\left(a^{4} m \\cos\\left(\\theta\\right)^{3} - 3 \\, a^{2} m r^{2} \\cos\\left(\\theta\\right)\\right)} \\sin\\left(\\theta\\right)}{a^{8} \\cos\\left(\\theta\\right)^{8} + 4 \\, a^{6} r^{2} \\cos\\left(\\theta\\right)^{6} + 6 \\, a^{4} r^{4} \\cos\\left(\\theta\\right)^{4} + 4 \\, a^{2} r^{6} \\cos\\left(\\theta\\right)^{2} + r^{8}}</script></html>"
      ],
      "text/latex": [
       "$$\\newcommand{\\Bold}[1]{\\mathbf{#1}}-\\frac{3 \\, {\\left(a^{4} m \\cos\\left(\\theta\\right)^{3} - 3 \\, a^{2} m r^{2} \\cos\\left(\\theta\\right)\\right)} \\sin\\left(\\theta\\right)}{a^{8} \\cos\\left(\\theta\\right)^{8} + 4 \\, a^{6} r^{2} \\cos\\left(\\theta\\right)^{6} + 6 \\, a^{4} r^{4} \\cos\\left(\\theta\\right)^{4} + 4 \\, a^{2} r^{6} \\cos\\left(\\theta\\right)^{2} + r^{8}}$$"
      ],
      "text/plain": [
       "-\\frac{3 \\, {\\left(a^{4} m \\cos\\left(\\theta\\right)^{3} - 3 \\, a^{2} m r^{2} \\cos\\left(\\theta\\right)\\right)} \\sin\\left(\\theta\\right)}{a^{8} \\cos\\left(\\theta\\right)^{8} + 4 \\, a^{6} r^{2} \\cos\\left(\\theta\\right)^{6} + 6 \\, a^{4} r^{4} \\cos\\left(\\theta\\right)^{4} + 4 \\, a^{2} r^{6} \\cos\\left(\\theta\\right)^{2} + r^{8}}"
      ]
     },
     "metadata": {},
     "output_type": "display_data"
    },
    {
     "name": "stdout",
     "output_type": "stream",
     "text": [
      "R_2013 = \n"
     ]
    },
    {
     "data": {
      "text/html": [
       "<html><script type=\"math/tex; mode=display\">\\newcommand{\\Bold}[1]{\\mathbf{#1}}-\\frac{{\\left(2 \\, a^{5} m \\cos\\left(\\theta\\right)^{5} - {\\left(3 \\, a^{5} m + 7 \\, a^{3} m r^{2}\\right)} \\cos\\left(\\theta\\right)^{3} + 3 \\, {\\left(3 \\, a^{3} m r^{2} + a m r^{4}\\right)} \\cos\\left(\\theta\\right)\\right)} \\sin\\left(\\theta\\right)}{a^{8} \\cos\\left(\\theta\\right)^{8} + 4 \\, a^{6} r^{2} \\cos\\left(\\theta\\right)^{6} + 6 \\, a^{4} r^{4} \\cos\\left(\\theta\\right)^{4} + 4 \\, a^{2} r^{6} \\cos\\left(\\theta\\right)^{2} + r^{8}}</script></html>"
      ],
      "text/latex": [
       "$$\\newcommand{\\Bold}[1]{\\mathbf{#1}}-\\frac{{\\left(2 \\, a^{5} m \\cos\\left(\\theta\\right)^{5} - {\\left(3 \\, a^{5} m + 7 \\, a^{3} m r^{2}\\right)} \\cos\\left(\\theta\\right)^{3} + 3 \\, {\\left(3 \\, a^{3} m r^{2} + a m r^{4}\\right)} \\cos\\left(\\theta\\right)\\right)} \\sin\\left(\\theta\\right)}{a^{8} \\cos\\left(\\theta\\right)^{8} + 4 \\, a^{6} r^{2} \\cos\\left(\\theta\\right)^{6} + 6 \\, a^{4} r^{4} \\cos\\left(\\theta\\right)^{4} + 4 \\, a^{2} r^{6} \\cos\\left(\\theta\\right)^{2} + r^{8}}$$"
      ],
      "text/plain": [
       "-\\frac{{\\left(2 \\, a^{5} m \\cos\\left(\\theta\\right)^{5} - {\\left(3 \\, a^{5} m + 7 \\, a^{3} m r^{2}\\right)} \\cos\\left(\\theta\\right)^{3} + 3 \\, {\\left(3 \\, a^{3} m r^{2} + a m r^{4}\\right)} \\cos\\left(\\theta\\right)\\right)} \\sin\\left(\\theta\\right)}{a^{8} \\cos\\left(\\theta\\right)^{8} + 4 \\, a^{6} r^{2} \\cos\\left(\\theta\\right)^{6} + 6 \\, a^{4} r^{4} \\cos\\left(\\theta\\right)^{4} + 4 \\, a^{2} r^{6} \\cos\\left(\\theta\\right)^{2} + r^{8}}"
      ]
     },
     "metadata": {},
     "output_type": "display_data"
    },
    {
     "name": "stdout",
     "output_type": "stream",
     "text": [
      "R_2020 = \n"
     ]
    },
    {
     "data": {
      "text/html": [
       "<html><script type=\"math/tex; mode=display\">\\newcommand{\\Bold}[1]{\\mathbf{#1}}\\frac{6 \\, a^{4} m r \\cos\\left(\\theta\\right)^{4} + 3 \\, a^{2} m r^{3} - 2 \\, m^{2} r^{4} + m r^{5} - {\\left(9 \\, a^{4} m r - 6 \\, a^{2} m^{2} r^{2} + 5 \\, a^{2} m r^{3}\\right)} \\cos\\left(\\theta\\right)^{2}}{a^{8} \\cos\\left(\\theta\\right)^{8} + 4 \\, a^{6} r^{2} \\cos\\left(\\theta\\right)^{6} + 6 \\, a^{4} r^{4} \\cos\\left(\\theta\\right)^{4} + 4 \\, a^{2} r^{6} \\cos\\left(\\theta\\right)^{2} + r^{8}}</script></html>"
      ],
      "text/latex": [
       "$$\\newcommand{\\Bold}[1]{\\mathbf{#1}}\\frac{6 \\, a^{4} m r \\cos\\left(\\theta\\right)^{4} + 3 \\, a^{2} m r^{3} - 2 \\, m^{2} r^{4} + m r^{5} - {\\left(9 \\, a^{4} m r - 6 \\, a^{2} m^{2} r^{2} + 5 \\, a^{2} m r^{3}\\right)} \\cos\\left(\\theta\\right)^{2}}{a^{8} \\cos\\left(\\theta\\right)^{8} + 4 \\, a^{6} r^{2} \\cos\\left(\\theta\\right)^{6} + 6 \\, a^{4} r^{4} \\cos\\left(\\theta\\right)^{4} + 4 \\, a^{2} r^{6} \\cos\\left(\\theta\\right)^{2} + r^{8}}$$"
      ],
      "text/plain": [
       "\\frac{6 \\, a^{4} m r \\cos\\left(\\theta\\right)^{4} + 3 \\, a^{2} m r^{3} - 2 \\, m^{2} r^{4} + m r^{5} - {\\left(9 \\, a^{4} m r - 6 \\, a^{2} m^{2} r^{2} + 5 \\, a^{2} m r^{3}\\right)} \\cos\\left(\\theta\\right)^{2}}{a^{8} \\cos\\left(\\theta\\right)^{8} + 4 \\, a^{6} r^{2} \\cos\\left(\\theta\\right)^{6} + 6 \\, a^{4} r^{4} \\cos\\left(\\theta\\right)^{4} + 4 \\, a^{2} r^{6} \\cos\\left(\\theta\\right)^{2} + r^{8}}"
      ]
     },
     "metadata": {},
     "output_type": "display_data"
    },
    {
     "name": "stdout",
     "output_type": "stream",
     "text": [
      "R_2023 = \n"
     ]
    },
    {
     "data": {
      "text/html": [
       "<html><script type=\"math/tex; mode=display\">\\newcommand{\\Bold}[1]{\\mathbf{#1}}-\\frac{3 \\, {\\left(3 \\, a^{5} m r - 2 \\, a^{3} m^{2} r^{2} + 3 \\, a^{3} m r^{3}\\right)} \\sin\\left(\\theta\\right)^{4} - {\\left(9 \\, a^{5} m r - 6 \\, a^{3} m^{2} r^{2} + 6 \\, a^{3} m r^{3} + 2 \\, a m^{2} r^{4} - 3 \\, a m r^{5}\\right)} \\sin\\left(\\theta\\right)^{2}}{a^{8} \\cos\\left(\\theta\\right)^{8} + 4 \\, a^{6} r^{2} \\cos\\left(\\theta\\right)^{6} + 6 \\, a^{4} r^{4} \\cos\\left(\\theta\\right)^{4} + 4 \\, a^{2} r^{6} \\cos\\left(\\theta\\right)^{2} + r^{8}}</script></html>"
      ],
      "text/latex": [
       "$$\\newcommand{\\Bold}[1]{\\mathbf{#1}}-\\frac{3 \\, {\\left(3 \\, a^{5} m r - 2 \\, a^{3} m^{2} r^{2} + 3 \\, a^{3} m r^{3}\\right)} \\sin\\left(\\theta\\right)^{4} - {\\left(9 \\, a^{5} m r - 6 \\, a^{3} m^{2} r^{2} + 6 \\, a^{3} m r^{3} + 2 \\, a m^{2} r^{4} - 3 \\, a m r^{5}\\right)} \\sin\\left(\\theta\\right)^{2}}{a^{8} \\cos\\left(\\theta\\right)^{8} + 4 \\, a^{6} r^{2} \\cos\\left(\\theta\\right)^{6} + 6 \\, a^{4} r^{4} \\cos\\left(\\theta\\right)^{4} + 4 \\, a^{2} r^{6} \\cos\\left(\\theta\\right)^{2} + r^{8}}$$"
      ],
      "text/plain": [
       "-\\frac{3 \\, {\\left(3 \\, a^{5} m r - 2 \\, a^{3} m^{2} r^{2} + 3 \\, a^{3} m r^{3}\\right)} \\sin\\left(\\theta\\right)^{4} - {\\left(9 \\, a^{5} m r - 6 \\, a^{3} m^{2} r^{2} + 6 \\, a^{3} m r^{3} + 2 \\, a m^{2} r^{4} - 3 \\, a m r^{5}\\right)} \\sin\\left(\\theta\\right)^{2}}{a^{8} \\cos\\left(\\theta\\right)^{8} + 4 \\, a^{6} r^{2} \\cos\\left(\\theta\\right)^{6} + 6 \\, a^{4} r^{4} \\cos\\left(\\theta\\right)^{4} + 4 \\, a^{2} r^{6} \\cos\\left(\\theta\\right)^{2} + r^{8}}"
      ]
     },
     "metadata": {},
     "output_type": "display_data"
    },
    {
     "name": "stdout",
     "output_type": "stream",
     "text": [
      "R_2031 = \n"
     ]
    },
    {
     "data": {
      "text/html": [
       "<html><script type=\"math/tex; mode=display\">\\newcommand{\\Bold}[1]{\\mathbf{#1}}\\frac{{\\left(2 \\, a^{5} m \\cos\\left(\\theta\\right)^{5} - {\\left(3 \\, a^{5} m + 7 \\, a^{3} m r^{2}\\right)} \\cos\\left(\\theta\\right)^{3} + 3 \\, {\\left(3 \\, a^{3} m r^{2} + a m r^{4}\\right)} \\cos\\left(\\theta\\right)\\right)} \\sin\\left(\\theta\\right)}{a^{8} \\cos\\left(\\theta\\right)^{8} + 4 \\, a^{6} r^{2} \\cos\\left(\\theta\\right)^{6} + 6 \\, a^{4} r^{4} \\cos\\left(\\theta\\right)^{4} + 4 \\, a^{2} r^{6} \\cos\\left(\\theta\\right)^{2} + r^{8}}</script></html>"
      ],
      "text/latex": [
       "$$\\newcommand{\\Bold}[1]{\\mathbf{#1}}\\frac{{\\left(2 \\, a^{5} m \\cos\\left(\\theta\\right)^{5} - {\\left(3 \\, a^{5} m + 7 \\, a^{3} m r^{2}\\right)} \\cos\\left(\\theta\\right)^{3} + 3 \\, {\\left(3 \\, a^{3} m r^{2} + a m r^{4}\\right)} \\cos\\left(\\theta\\right)\\right)} \\sin\\left(\\theta\\right)}{a^{8} \\cos\\left(\\theta\\right)^{8} + 4 \\, a^{6} r^{2} \\cos\\left(\\theta\\right)^{6} + 6 \\, a^{4} r^{4} \\cos\\left(\\theta\\right)^{4} + 4 \\, a^{2} r^{6} \\cos\\left(\\theta\\right)^{2} + r^{8}}$$"
      ],
      "text/plain": [
       "\\frac{{\\left(2 \\, a^{5} m \\cos\\left(\\theta\\right)^{5} - {\\left(3 \\, a^{5} m + 7 \\, a^{3} m r^{2}\\right)} \\cos\\left(\\theta\\right)^{3} + 3 \\, {\\left(3 \\, a^{3} m r^{2} + a m r^{4}\\right)} \\cos\\left(\\theta\\right)\\right)} \\sin\\left(\\theta\\right)}{a^{8} \\cos\\left(\\theta\\right)^{8} + 4 \\, a^{6} r^{2} \\cos\\left(\\theta\\right)^{6} + 6 \\, a^{4} r^{4} \\cos\\left(\\theta\\right)^{4} + 4 \\, a^{2} r^{6} \\cos\\left(\\theta\\right)^{2} + r^{8}}"
      ]
     },
     "metadata": {},
     "output_type": "display_data"
    },
    {
     "name": "stdout",
     "output_type": "stream",
     "text": [
      "R_2032 = \n"
     ]
    },
    {
     "data": {
      "text/html": [
       "<html><script type=\"math/tex; mode=display\">\\newcommand{\\Bold}[1]{\\mathbf{#1}}\\frac{3 \\, {\\left(3 \\, a^{5} m r - 2 \\, a^{3} m^{2} r^{2} + 3 \\, a^{3} m r^{3}\\right)} \\sin\\left(\\theta\\right)^{4} - {\\left(9 \\, a^{5} m r - 6 \\, a^{3} m^{2} r^{2} + 6 \\, a^{3} m r^{3} + 2 \\, a m^{2} r^{4} - 3 \\, a m r^{5}\\right)} \\sin\\left(\\theta\\right)^{2}}{a^{8} \\cos\\left(\\theta\\right)^{8} + 4 \\, a^{6} r^{2} \\cos\\left(\\theta\\right)^{6} + 6 \\, a^{4} r^{4} \\cos\\left(\\theta\\right)^{4} + 4 \\, a^{2} r^{6} \\cos\\left(\\theta\\right)^{2} + r^{8}}</script></html>"
      ],
      "text/latex": [
       "$$\\newcommand{\\Bold}[1]{\\mathbf{#1}}\\frac{3 \\, {\\left(3 \\, a^{5} m r - 2 \\, a^{3} m^{2} r^{2} + 3 \\, a^{3} m r^{3}\\right)} \\sin\\left(\\theta\\right)^{4} - {\\left(9 \\, a^{5} m r - 6 \\, a^{3} m^{2} r^{2} + 6 \\, a^{3} m r^{3} + 2 \\, a m^{2} r^{4} - 3 \\, a m r^{5}\\right)} \\sin\\left(\\theta\\right)^{2}}{a^{8} \\cos\\left(\\theta\\right)^{8} + 4 \\, a^{6} r^{2} \\cos\\left(\\theta\\right)^{6} + 6 \\, a^{4} r^{4} \\cos\\left(\\theta\\right)^{4} + 4 \\, a^{2} r^{6} \\cos\\left(\\theta\\right)^{2} + r^{8}}$$"
      ],
      "text/plain": [
       "\\frac{3 \\, {\\left(3 \\, a^{5} m r - 2 \\, a^{3} m^{2} r^{2} + 3 \\, a^{3} m r^{3}\\right)} \\sin\\left(\\theta\\right)^{4} - {\\left(9 \\, a^{5} m r - 6 \\, a^{3} m^{2} r^{2} + 6 \\, a^{3} m r^{3} + 2 \\, a m^{2} r^{4} - 3 \\, a m r^{5}\\right)} \\sin\\left(\\theta\\right)^{2}}{a^{8} \\cos\\left(\\theta\\right)^{8} + 4 \\, a^{6} r^{2} \\cos\\left(\\theta\\right)^{6} + 6 \\, a^{4} r^{4} \\cos\\left(\\theta\\right)^{4} + 4 \\, a^{2} r^{6} \\cos\\left(\\theta\\right)^{2} + r^{8}}"
      ]
     },
     "metadata": {},
     "output_type": "display_data"
    },
    {
     "name": "stdout",
     "output_type": "stream",
     "text": [
      "R_2103 = \n"
     ]
    },
    {
     "data": {
      "text/html": [
       "<html><script type=\"math/tex; mode=display\">\\newcommand{\\Bold}[1]{\\mathbf{#1}}-\\frac{{\\left(a^{3} m \\cos\\left(\\theta\\right)^{3} - 3 \\, a m r^{2} \\cos\\left(\\theta\\right)\\right)} \\sin\\left(\\theta\\right)}{a^{6} \\cos\\left(\\theta\\right)^{6} + 3 \\, a^{4} r^{2} \\cos\\left(\\theta\\right)^{4} + 3 \\, a^{2} r^{4} \\cos\\left(\\theta\\right)^{2} + r^{6}}</script></html>"
      ],
      "text/latex": [
       "$$\\newcommand{\\Bold}[1]{\\mathbf{#1}}-\\frac{{\\left(a^{3} m \\cos\\left(\\theta\\right)^{3} - 3 \\, a m r^{2} \\cos\\left(\\theta\\right)\\right)} \\sin\\left(\\theta\\right)}{a^{6} \\cos\\left(\\theta\\right)^{6} + 3 \\, a^{4} r^{2} \\cos\\left(\\theta\\right)^{4} + 3 \\, a^{2} r^{4} \\cos\\left(\\theta\\right)^{2} + r^{6}}$$"
      ],
      "text/plain": [
       "-\\frac{{\\left(a^{3} m \\cos\\left(\\theta\\right)^{3} - 3 \\, a m r^{2} \\cos\\left(\\theta\\right)\\right)} \\sin\\left(\\theta\\right)}{a^{6} \\cos\\left(\\theta\\right)^{6} + 3 \\, a^{4} r^{2} \\cos\\left(\\theta\\right)^{4} + 3 \\, a^{2} r^{4} \\cos\\left(\\theta\\right)^{2} + r^{6}}"
      ]
     },
     "metadata": {},
     "output_type": "display_data"
    },
    {
     "name": "stdout",
     "output_type": "stream",
     "text": [
      "R_2112 = \n"
     ]
    },
    {
     "data": {
      "text/html": [
       "<html><script type=\"math/tex; mode=display\">\\newcommand{\\Bold}[1]{\\mathbf{#1}}-\\frac{3 \\, a^{2} m r \\cos\\left(\\theta\\right)^{2} - m r^{3}}{a^{2} r^{4} - 2 \\, m r^{5} + r^{6} + {\\left(a^{6} - 2 \\, a^{4} m r + a^{4} r^{2}\\right)} \\cos\\left(\\theta\\right)^{4} + 2 \\, {\\left(a^{4} r^{2} - 2 \\, a^{2} m r^{3} + a^{2} r^{4}\\right)} \\cos\\left(\\theta\\right)^{2}}</script></html>"
      ],
      "text/latex": [
       "$$\\newcommand{\\Bold}[1]{\\mathbf{#1}}-\\frac{3 \\, a^{2} m r \\cos\\left(\\theta\\right)^{2} - m r^{3}}{a^{2} r^{4} - 2 \\, m r^{5} + r^{6} + {\\left(a^{6} - 2 \\, a^{4} m r + a^{4} r^{2}\\right)} \\cos\\left(\\theta\\right)^{4} + 2 \\, {\\left(a^{4} r^{2} - 2 \\, a^{2} m r^{3} + a^{2} r^{4}\\right)} \\cos\\left(\\theta\\right)^{2}}$$"
      ],
      "text/plain": [
       "-\\frac{3 \\, a^{2} m r \\cos\\left(\\theta\\right)^{2} - m r^{3}}{a^{2} r^{4} - 2 \\, m r^{5} + r^{6} + {\\left(a^{6} - 2 \\, a^{4} m r + a^{4} r^{2}\\right)} \\cos\\left(\\theta\\right)^{4} + 2 \\, {\\left(a^{4} r^{2} - 2 \\, a^{2} m r^{3} + a^{2} r^{4}\\right)} \\cos\\left(\\theta\\right)^{2}}"
      ]
     },
     "metadata": {},
     "output_type": "display_data"
    },
    {
     "name": "stdout",
     "output_type": "stream",
     "text": [
      "R_2121 = \n"
     ]
    },
    {
     "data": {
      "text/html": [
       "<html><script type=\"math/tex; mode=display\">\\newcommand{\\Bold}[1]{\\mathbf{#1}}\\frac{3 \\, a^{2} m r \\cos\\left(\\theta\\right)^{2} - m r^{3}}{a^{2} r^{4} - 2 \\, m r^{5} + r^{6} + {\\left(a^{6} - 2 \\, a^{4} m r + a^{4} r^{2}\\right)} \\cos\\left(\\theta\\right)^{4} + 2 \\, {\\left(a^{4} r^{2} - 2 \\, a^{2} m r^{3} + a^{2} r^{4}\\right)} \\cos\\left(\\theta\\right)^{2}}</script></html>"
      ],
      "text/latex": [
       "$$\\newcommand{\\Bold}[1]{\\mathbf{#1}}\\frac{3 \\, a^{2} m r \\cos\\left(\\theta\\right)^{2} - m r^{3}}{a^{2} r^{4} - 2 \\, m r^{5} + r^{6} + {\\left(a^{6} - 2 \\, a^{4} m r + a^{4} r^{2}\\right)} \\cos\\left(\\theta\\right)^{4} + 2 \\, {\\left(a^{4} r^{2} - 2 \\, a^{2} m r^{3} + a^{2} r^{4}\\right)} \\cos\\left(\\theta\\right)^{2}}$$"
      ],
      "text/plain": [
       "\\frac{3 \\, a^{2} m r \\cos\\left(\\theta\\right)^{2} - m r^{3}}{a^{2} r^{4} - 2 \\, m r^{5} + r^{6} + {\\left(a^{6} - 2 \\, a^{4} m r + a^{4} r^{2}\\right)} \\cos\\left(\\theta\\right)^{4} + 2 \\, {\\left(a^{4} r^{2} - 2 \\, a^{2} m r^{3} + a^{2} r^{4}\\right)} \\cos\\left(\\theta\\right)^{2}}"
      ]
     },
     "metadata": {},
     "output_type": "display_data"
    },
    {
     "name": "stdout",
     "output_type": "stream",
     "text": [
      "R_2130 = \n"
     ]
    },
    {
     "data": {
      "text/html": [
       "<html><script type=\"math/tex; mode=display\">\\newcommand{\\Bold}[1]{\\mathbf{#1}}\\frac{{\\left(a^{3} m \\cos\\left(\\theta\\right)^{3} - 3 \\, a m r^{2} \\cos\\left(\\theta\\right)\\right)} \\sin\\left(\\theta\\right)}{a^{6} \\cos\\left(\\theta\\right)^{6} + 3 \\, a^{4} r^{2} \\cos\\left(\\theta\\right)^{4} + 3 \\, a^{2} r^{4} \\cos\\left(\\theta\\right)^{2} + r^{6}}</script></html>"
      ],
      "text/latex": [
       "$$\\newcommand{\\Bold}[1]{\\mathbf{#1}}\\frac{{\\left(a^{3} m \\cos\\left(\\theta\\right)^{3} - 3 \\, a m r^{2} \\cos\\left(\\theta\\right)\\right)} \\sin\\left(\\theta\\right)}{a^{6} \\cos\\left(\\theta\\right)^{6} + 3 \\, a^{4} r^{2} \\cos\\left(\\theta\\right)^{4} + 3 \\, a^{2} r^{4} \\cos\\left(\\theta\\right)^{2} + r^{6}}$$"
      ],
      "text/plain": [
       "\\frac{{\\left(a^{3} m \\cos\\left(\\theta\\right)^{3} - 3 \\, a m r^{2} \\cos\\left(\\theta\\right)\\right)} \\sin\\left(\\theta\\right)}{a^{6} \\cos\\left(\\theta\\right)^{6} + 3 \\, a^{4} r^{2} \\cos\\left(\\theta\\right)^{4} + 3 \\, a^{2} r^{4} \\cos\\left(\\theta\\right)^{2} + r^{6}}"
      ]
     },
     "metadata": {},
     "output_type": "display_data"
    },
    {
     "name": "stdout",
     "output_type": "stream",
     "text": [
      "R_2301 = \n"
     ]
    },
    {
     "data": {
      "text/html": [
       "<html><script type=\"math/tex; mode=display\">\\newcommand{\\Bold}[1]{\\mathbf{#1}}\\frac{{\\left(a^{5} m \\cos\\left(\\theta\\right)^{5} - {\\left(3 \\, a^{5} m + 5 \\, a^{3} m r^{2}\\right)} \\cos\\left(\\theta\\right)^{3} + 3 \\, {\\left(3 \\, a^{3} m r^{2} + 2 \\, a m r^{4}\\right)} \\cos\\left(\\theta\\right)\\right)} \\sin\\left(\\theta\\right)}{a^{8} \\cos\\left(\\theta\\right)^{8} + 4 \\, a^{6} r^{2} \\cos\\left(\\theta\\right)^{6} + 6 \\, a^{4} r^{4} \\cos\\left(\\theta\\right)^{4} + 4 \\, a^{2} r^{6} \\cos\\left(\\theta\\right)^{2} + r^{8}}</script></html>"
      ],
      "text/latex": [
       "$$\\newcommand{\\Bold}[1]{\\mathbf{#1}}\\frac{{\\left(a^{5} m \\cos\\left(\\theta\\right)^{5} - {\\left(3 \\, a^{5} m + 5 \\, a^{3} m r^{2}\\right)} \\cos\\left(\\theta\\right)^{3} + 3 \\, {\\left(3 \\, a^{3} m r^{2} + 2 \\, a m r^{4}\\right)} \\cos\\left(\\theta\\right)\\right)} \\sin\\left(\\theta\\right)}{a^{8} \\cos\\left(\\theta\\right)^{8} + 4 \\, a^{6} r^{2} \\cos\\left(\\theta\\right)^{6} + 6 \\, a^{4} r^{4} \\cos\\left(\\theta\\right)^{4} + 4 \\, a^{2} r^{6} \\cos\\left(\\theta\\right)^{2} + r^{8}}$$"
      ],
      "text/plain": [
       "\\frac{{\\left(a^{5} m \\cos\\left(\\theta\\right)^{5} - {\\left(3 \\, a^{5} m + 5 \\, a^{3} m r^{2}\\right)} \\cos\\left(\\theta\\right)^{3} + 3 \\, {\\left(3 \\, a^{3} m r^{2} + 2 \\, a m r^{4}\\right)} \\cos\\left(\\theta\\right)\\right)} \\sin\\left(\\theta\\right)}{a^{8} \\cos\\left(\\theta\\right)^{8} + 4 \\, a^{6} r^{2} \\cos\\left(\\theta\\right)^{6} + 6 \\, a^{4} r^{4} \\cos\\left(\\theta\\right)^{4} + 4 \\, a^{2} r^{6} \\cos\\left(\\theta\\right)^{2} + r^{8}}"
      ]
     },
     "metadata": {},
     "output_type": "display_data"
    },
    {
     "name": "stdout",
     "output_type": "stream",
     "text": [
      "R_2302 = \n"
     ]
    },
    {
     "data": {
      "text/html": [
       "<html><script type=\"math/tex; mode=display\">\\newcommand{\\Bold}[1]{\\mathbf{#1}}\\frac{3 \\, {\\left(3 \\, a^{5} m r - 2 \\, a^{3} m^{2} r^{2} + 3 \\, a^{3} m r^{3}\\right)} \\sin\\left(\\theta\\right)^{4} - {\\left(9 \\, a^{5} m r - 6 \\, a^{3} m^{2} r^{2} + 6 \\, a^{3} m r^{3} + 2 \\, a m^{2} r^{4} - 3 \\, a m r^{5}\\right)} \\sin\\left(\\theta\\right)^{2}}{a^{8} \\cos\\left(\\theta\\right)^{8} + 4 \\, a^{6} r^{2} \\cos\\left(\\theta\\right)^{6} + 6 \\, a^{4} r^{4} \\cos\\left(\\theta\\right)^{4} + 4 \\, a^{2} r^{6} \\cos\\left(\\theta\\right)^{2} + r^{8}}</script></html>"
      ],
      "text/latex": [
       "$$\\newcommand{\\Bold}[1]{\\mathbf{#1}}\\frac{3 \\, {\\left(3 \\, a^{5} m r - 2 \\, a^{3} m^{2} r^{2} + 3 \\, a^{3} m r^{3}\\right)} \\sin\\left(\\theta\\right)^{4} - {\\left(9 \\, a^{5} m r - 6 \\, a^{3} m^{2} r^{2} + 6 \\, a^{3} m r^{3} + 2 \\, a m^{2} r^{4} - 3 \\, a m r^{5}\\right)} \\sin\\left(\\theta\\right)^{2}}{a^{8} \\cos\\left(\\theta\\right)^{8} + 4 \\, a^{6} r^{2} \\cos\\left(\\theta\\right)^{6} + 6 \\, a^{4} r^{4} \\cos\\left(\\theta\\right)^{4} + 4 \\, a^{2} r^{6} \\cos\\left(\\theta\\right)^{2} + r^{8}}$$"
      ],
      "text/plain": [
       "\\frac{3 \\, {\\left(3 \\, a^{5} m r - 2 \\, a^{3} m^{2} r^{2} + 3 \\, a^{3} m r^{3}\\right)} \\sin\\left(\\theta\\right)^{4} - {\\left(9 \\, a^{5} m r - 6 \\, a^{3} m^{2} r^{2} + 6 \\, a^{3} m r^{3} + 2 \\, a m^{2} r^{4} - 3 \\, a m r^{5}\\right)} \\sin\\left(\\theta\\right)^{2}}{a^{8} \\cos\\left(\\theta\\right)^{8} + 4 \\, a^{6} r^{2} \\cos\\left(\\theta\\right)^{6} + 6 \\, a^{4} r^{4} \\cos\\left(\\theta\\right)^{4} + 4 \\, a^{2} r^{6} \\cos\\left(\\theta\\right)^{2} + r^{8}}"
      ]
     },
     "metadata": {},
     "output_type": "display_data"
    },
    {
     "name": "stdout",
     "output_type": "stream",
     "text": [
      "R_2310 = \n"
     ]
    },
    {
     "data": {
      "text/html": [
       "<html><script type=\"math/tex; mode=display\">\\newcommand{\\Bold}[1]{\\mathbf{#1}}-\\frac{{\\left(a^{5} m \\cos\\left(\\theta\\right)^{5} - {\\left(3 \\, a^{5} m + 5 \\, a^{3} m r^{2}\\right)} \\cos\\left(\\theta\\right)^{3} + 3 \\, {\\left(3 \\, a^{3} m r^{2} + 2 \\, a m r^{4}\\right)} \\cos\\left(\\theta\\right)\\right)} \\sin\\left(\\theta\\right)}{a^{8} \\cos\\left(\\theta\\right)^{8} + 4 \\, a^{6} r^{2} \\cos\\left(\\theta\\right)^{6} + 6 \\, a^{4} r^{4} \\cos\\left(\\theta\\right)^{4} + 4 \\, a^{2} r^{6} \\cos\\left(\\theta\\right)^{2} + r^{8}}</script></html>"
      ],
      "text/latex": [
       "$$\\newcommand{\\Bold}[1]{\\mathbf{#1}}-\\frac{{\\left(a^{5} m \\cos\\left(\\theta\\right)^{5} - {\\left(3 \\, a^{5} m + 5 \\, a^{3} m r^{2}\\right)} \\cos\\left(\\theta\\right)^{3} + 3 \\, {\\left(3 \\, a^{3} m r^{2} + 2 \\, a m r^{4}\\right)} \\cos\\left(\\theta\\right)\\right)} \\sin\\left(\\theta\\right)}{a^{8} \\cos\\left(\\theta\\right)^{8} + 4 \\, a^{6} r^{2} \\cos\\left(\\theta\\right)^{6} + 6 \\, a^{4} r^{4} \\cos\\left(\\theta\\right)^{4} + 4 \\, a^{2} r^{6} \\cos\\left(\\theta\\right)^{2} + r^{8}}$$"
      ],
      "text/plain": [
       "-\\frac{{\\left(a^{5} m \\cos\\left(\\theta\\right)^{5} - {\\left(3 \\, a^{5} m + 5 \\, a^{3} m r^{2}\\right)} \\cos\\left(\\theta\\right)^{3} + 3 \\, {\\left(3 \\, a^{3} m r^{2} + 2 \\, a m r^{4}\\right)} \\cos\\left(\\theta\\right)\\right)} \\sin\\left(\\theta\\right)}{a^{8} \\cos\\left(\\theta\\right)^{8} + 4 \\, a^{6} r^{2} \\cos\\left(\\theta\\right)^{6} + 6 \\, a^{4} r^{4} \\cos\\left(\\theta\\right)^{4} + 4 \\, a^{2} r^{6} \\cos\\left(\\theta\\right)^{2} + r^{8}}"
      ]
     },
     "metadata": {},
     "output_type": "display_data"
    },
    {
     "name": "stdout",
     "output_type": "stream",
     "text": [
      "R_2313 = \n"
     ]
    },
    {
     "data": {
      "text/html": [
       "<html><script type=\"math/tex; mode=display\">\\newcommand{\\Bold}[1]{\\mathbf{#1}}\\frac{3 \\, {\\left({\\left(a^{6} m + a^{4} m r^{2}\\right)} \\cos\\left(\\theta\\right) \\sin\\left(\\theta\\right)^{5} - {\\left(a^{6} m - 2 \\, a^{4} m r^{2} - 3 \\, a^{2} m r^{4}\\right)} \\cos\\left(\\theta\\right) \\sin\\left(\\theta\\right)^{3}\\right)}}{a^{8} \\cos\\left(\\theta\\right)^{8} + 4 \\, a^{6} r^{2} \\cos\\left(\\theta\\right)^{6} + 6 \\, a^{4} r^{4} \\cos\\left(\\theta\\right)^{4} + 4 \\, a^{2} r^{6} \\cos\\left(\\theta\\right)^{2} + r^{8}}</script></html>"
      ],
      "text/latex": [
       "$$\\newcommand{\\Bold}[1]{\\mathbf{#1}}\\frac{3 \\, {\\left({\\left(a^{6} m + a^{4} m r^{2}\\right)} \\cos\\left(\\theta\\right) \\sin\\left(\\theta\\right)^{5} - {\\left(a^{6} m - 2 \\, a^{4} m r^{2} - 3 \\, a^{2} m r^{4}\\right)} \\cos\\left(\\theta\\right) \\sin\\left(\\theta\\right)^{3}\\right)}}{a^{8} \\cos\\left(\\theta\\right)^{8} + 4 \\, a^{6} r^{2} \\cos\\left(\\theta\\right)^{6} + 6 \\, a^{4} r^{4} \\cos\\left(\\theta\\right)^{4} + 4 \\, a^{2} r^{6} \\cos\\left(\\theta\\right)^{2} + r^{8}}$$"
      ],
      "text/plain": [
       "\\frac{3 \\, {\\left({\\left(a^{6} m + a^{4} m r^{2}\\right)} \\cos\\left(\\theta\\right) \\sin\\left(\\theta\\right)^{5} - {\\left(a^{6} m - 2 \\, a^{4} m r^{2} - 3 \\, a^{2} m r^{4}\\right)} \\cos\\left(\\theta\\right) \\sin\\left(\\theta\\right)^{3}\\right)}}{a^{8} \\cos\\left(\\theta\\right)^{8} + 4 \\, a^{6} r^{2} \\cos\\left(\\theta\\right)^{6} + 6 \\, a^{4} r^{4} \\cos\\left(\\theta\\right)^{4} + 4 \\, a^{2} r^{6} \\cos\\left(\\theta\\right)^{2} + r^{8}}"
      ]
     },
     "metadata": {},
     "output_type": "display_data"
    },
    {
     "name": "stdout",
     "output_type": "stream",
     "text": [
      "R_2320 = \n"
     ]
    },
    {
     "data": {
      "text/html": [
       "<html><script type=\"math/tex; mode=display\">\\newcommand{\\Bold}[1]{\\mathbf{#1}}-\\frac{3 \\, {\\left(3 \\, a^{5} m r - 2 \\, a^{3} m^{2} r^{2} + 3 \\, a^{3} m r^{3}\\right)} \\sin\\left(\\theta\\right)^{4} - {\\left(9 \\, a^{5} m r - 6 \\, a^{3} m^{2} r^{2} + 6 \\, a^{3} m r^{3} + 2 \\, a m^{2} r^{4} - 3 \\, a m r^{5}\\right)} \\sin\\left(\\theta\\right)^{2}}{a^{8} \\cos\\left(\\theta\\right)^{8} + 4 \\, a^{6} r^{2} \\cos\\left(\\theta\\right)^{6} + 6 \\, a^{4} r^{4} \\cos\\left(\\theta\\right)^{4} + 4 \\, a^{2} r^{6} \\cos\\left(\\theta\\right)^{2} + r^{8}}</script></html>"
      ],
      "text/latex": [
       "$$\\newcommand{\\Bold}[1]{\\mathbf{#1}}-\\frac{3 \\, {\\left(3 \\, a^{5} m r - 2 \\, a^{3} m^{2} r^{2} + 3 \\, a^{3} m r^{3}\\right)} \\sin\\left(\\theta\\right)^{4} - {\\left(9 \\, a^{5} m r - 6 \\, a^{3} m^{2} r^{2} + 6 \\, a^{3} m r^{3} + 2 \\, a m^{2} r^{4} - 3 \\, a m r^{5}\\right)} \\sin\\left(\\theta\\right)^{2}}{a^{8} \\cos\\left(\\theta\\right)^{8} + 4 \\, a^{6} r^{2} \\cos\\left(\\theta\\right)^{6} + 6 \\, a^{4} r^{4} \\cos\\left(\\theta\\right)^{4} + 4 \\, a^{2} r^{6} \\cos\\left(\\theta\\right)^{2} + r^{8}}$$"
      ],
      "text/plain": [
       "-\\frac{3 \\, {\\left(3 \\, a^{5} m r - 2 \\, a^{3} m^{2} r^{2} + 3 \\, a^{3} m r^{3}\\right)} \\sin\\left(\\theta\\right)^{4} - {\\left(9 \\, a^{5} m r - 6 \\, a^{3} m^{2} r^{2} + 6 \\, a^{3} m r^{3} + 2 \\, a m^{2} r^{4} - 3 \\, a m r^{5}\\right)} \\sin\\left(\\theta\\right)^{2}}{a^{8} \\cos\\left(\\theta\\right)^{8} + 4 \\, a^{6} r^{2} \\cos\\left(\\theta\\right)^{6} + 6 \\, a^{4} r^{4} \\cos\\left(\\theta\\right)^{4} + 4 \\, a^{2} r^{6} \\cos\\left(\\theta\\right)^{2} + r^{8}}"
      ]
     },
     "metadata": {},
     "output_type": "display_data"
    },
    {
     "name": "stdout",
     "output_type": "stream",
     "text": [
      "R_2323 = \n"
     ]
    },
    {
     "data": {
      "text/html": [
       "<html><script type=\"math/tex; mode=display\">\\newcommand{\\Bold}[1]{\\mathbf{#1}}\\frac{3 \\, {\\left(a^{6} m r - 2 \\, a^{4} m^{2} r^{2} + a^{4} m r^{3}\\right)} \\sin\\left(\\theta\\right)^{6} + {\\left(3 \\, a^{6} m r + 6 \\, a^{4} m^{2} r^{2} + 10 \\, a^{4} m r^{3} - 2 \\, a^{2} m^{2} r^{4} + 7 \\, a^{2} m r^{5}\\right)} \\sin\\left(\\theta\\right)^{4} - 2 \\, {\\left(3 \\, a^{6} m r + 5 \\, a^{4} m r^{3} + a^{2} m r^{5} - m r^{7}\\right)} \\sin\\left(\\theta\\right)^{2}}{a^{8} \\cos\\left(\\theta\\right)^{8} + 4 \\, a^{6} r^{2} \\cos\\left(\\theta\\right)^{6} + 6 \\, a^{4} r^{4} \\cos\\left(\\theta\\right)^{4} + 4 \\, a^{2} r^{6} \\cos\\left(\\theta\\right)^{2} + r^{8}}</script></html>"
      ],
      "text/latex": [
       "$$\\newcommand{\\Bold}[1]{\\mathbf{#1}}\\frac{3 \\, {\\left(a^{6} m r - 2 \\, a^{4} m^{2} r^{2} + a^{4} m r^{3}\\right)} \\sin\\left(\\theta\\right)^{6} + {\\left(3 \\, a^{6} m r + 6 \\, a^{4} m^{2} r^{2} + 10 \\, a^{4} m r^{3} - 2 \\, a^{2} m^{2} r^{4} + 7 \\, a^{2} m r^{5}\\right)} \\sin\\left(\\theta\\right)^{4} - 2 \\, {\\left(3 \\, a^{6} m r + 5 \\, a^{4} m r^{3} + a^{2} m r^{5} - m r^{7}\\right)} \\sin\\left(\\theta\\right)^{2}}{a^{8} \\cos\\left(\\theta\\right)^{8} + 4 \\, a^{6} r^{2} \\cos\\left(\\theta\\right)^{6} + 6 \\, a^{4} r^{4} \\cos\\left(\\theta\\right)^{4} + 4 \\, a^{2} r^{6} \\cos\\left(\\theta\\right)^{2} + r^{8}}$$"
      ],
      "text/plain": [
       "\\frac{3 \\, {\\left(a^{6} m r - 2 \\, a^{4} m^{2} r^{2} + a^{4} m r^{3}\\right)} \\sin\\left(\\theta\\right)^{6} + {\\left(3 \\, a^{6} m r + 6 \\, a^{4} m^{2} r^{2} + 10 \\, a^{4} m r^{3} - 2 \\, a^{2} m^{2} r^{4} + 7 \\, a^{2} m r^{5}\\right)} \\sin\\left(\\theta\\right)^{4} - 2 \\, {\\left(3 \\, a^{6} m r + 5 \\, a^{4} m r^{3} + a^{2} m r^{5} - m r^{7}\\right)} \\sin\\left(\\theta\\right)^{2}}{a^{8} \\cos\\left(\\theta\\right)^{8} + 4 \\, a^{6} r^{2} \\cos\\left(\\theta\\right)^{6} + 6 \\, a^{4} r^{4} \\cos\\left(\\theta\\right)^{4} + 4 \\, a^{2} r^{6} \\cos\\left(\\theta\\right)^{2} + r^{8}}"
      ]
     },
     "metadata": {},
     "output_type": "display_data"
    },
    {
     "name": "stdout",
     "output_type": "stream",
     "text": [
      "R_2331 = \n"
     ]
    },
    {
     "data": {
      "text/html": [
       "<html><script type=\"math/tex; mode=display\">\\newcommand{\\Bold}[1]{\\mathbf{#1}}-\\frac{3 \\, {\\left({\\left(a^{6} m + a^{4} m r^{2}\\right)} \\cos\\left(\\theta\\right) \\sin\\left(\\theta\\right)^{5} - {\\left(a^{6} m - 2 \\, a^{4} m r^{2} - 3 \\, a^{2} m r^{4}\\right)} \\cos\\left(\\theta\\right) \\sin\\left(\\theta\\right)^{3}\\right)}}{a^{8} \\cos\\left(\\theta\\right)^{8} + 4 \\, a^{6} r^{2} \\cos\\left(\\theta\\right)^{6} + 6 \\, a^{4} r^{4} \\cos\\left(\\theta\\right)^{4} + 4 \\, a^{2} r^{6} \\cos\\left(\\theta\\right)^{2} + r^{8}}</script></html>"
      ],
      "text/latex": [
       "$$\\newcommand{\\Bold}[1]{\\mathbf{#1}}-\\frac{3 \\, {\\left({\\left(a^{6} m + a^{4} m r^{2}\\right)} \\cos\\left(\\theta\\right) \\sin\\left(\\theta\\right)^{5} - {\\left(a^{6} m - 2 \\, a^{4} m r^{2} - 3 \\, a^{2} m r^{4}\\right)} \\cos\\left(\\theta\\right) \\sin\\left(\\theta\\right)^{3}\\right)}}{a^{8} \\cos\\left(\\theta\\right)^{8} + 4 \\, a^{6} r^{2} \\cos\\left(\\theta\\right)^{6} + 6 \\, a^{4} r^{4} \\cos\\left(\\theta\\right)^{4} + 4 \\, a^{2} r^{6} \\cos\\left(\\theta\\right)^{2} + r^{8}}$$"
      ],
      "text/plain": [
       "-\\frac{3 \\, {\\left({\\left(a^{6} m + a^{4} m r^{2}\\right)} \\cos\\left(\\theta\\right) \\sin\\left(\\theta\\right)^{5} - {\\left(a^{6} m - 2 \\, a^{4} m r^{2} - 3 \\, a^{2} m r^{4}\\right)} \\cos\\left(\\theta\\right) \\sin\\left(\\theta\\right)^{3}\\right)}}{a^{8} \\cos\\left(\\theta\\right)^{8} + 4 \\, a^{6} r^{2} \\cos\\left(\\theta\\right)^{6} + 6 \\, a^{4} r^{4} \\cos\\left(\\theta\\right)^{4} + 4 \\, a^{2} r^{6} \\cos\\left(\\theta\\right)^{2} + r^{8}}"
      ]
     },
     "metadata": {},
     "output_type": "display_data"
    },
    {
     "name": "stdout",
     "output_type": "stream",
     "text": [
      "R_2332 = \n"
     ]
    },
    {
     "data": {
      "text/html": [
       "<html><script type=\"math/tex; mode=display\">\\newcommand{\\Bold}[1]{\\mathbf{#1}}-\\frac{3 \\, {\\left(a^{6} m r - 2 \\, a^{4} m^{2} r^{2} + a^{4} m r^{3}\\right)} \\sin\\left(\\theta\\right)^{6} + {\\left(3 \\, a^{6} m r + 6 \\, a^{4} m^{2} r^{2} + 10 \\, a^{4} m r^{3} - 2 \\, a^{2} m^{2} r^{4} + 7 \\, a^{2} m r^{5}\\right)} \\sin\\left(\\theta\\right)^{4} - 2 \\, {\\left(3 \\, a^{6} m r + 5 \\, a^{4} m r^{3} + a^{2} m r^{5} - m r^{7}\\right)} \\sin\\left(\\theta\\right)^{2}}{a^{8} \\cos\\left(\\theta\\right)^{8} + 4 \\, a^{6} r^{2} \\cos\\left(\\theta\\right)^{6} + 6 \\, a^{4} r^{4} \\cos\\left(\\theta\\right)^{4} + 4 \\, a^{2} r^{6} \\cos\\left(\\theta\\right)^{2} + r^{8}}</script></html>"
      ],
      "text/latex": [
       "$$\\newcommand{\\Bold}[1]{\\mathbf{#1}}-\\frac{3 \\, {\\left(a^{6} m r - 2 \\, a^{4} m^{2} r^{2} + a^{4} m r^{3}\\right)} \\sin\\left(\\theta\\right)^{6} + {\\left(3 \\, a^{6} m r + 6 \\, a^{4} m^{2} r^{2} + 10 \\, a^{4} m r^{3} - 2 \\, a^{2} m^{2} r^{4} + 7 \\, a^{2} m r^{5}\\right)} \\sin\\left(\\theta\\right)^{4} - 2 \\, {\\left(3 \\, a^{6} m r + 5 \\, a^{4} m r^{3} + a^{2} m r^{5} - m r^{7}\\right)} \\sin\\left(\\theta\\right)^{2}}{a^{8} \\cos\\left(\\theta\\right)^{8} + 4 \\, a^{6} r^{2} \\cos\\left(\\theta\\right)^{6} + 6 \\, a^{4} r^{4} \\cos\\left(\\theta\\right)^{4} + 4 \\, a^{2} r^{6} \\cos\\left(\\theta\\right)^{2} + r^{8}}$$"
      ],
      "text/plain": [
       "-\\frac{3 \\, {\\left(a^{6} m r - 2 \\, a^{4} m^{2} r^{2} + a^{4} m r^{3}\\right)} \\sin\\left(\\theta\\right)^{6} + {\\left(3 \\, a^{6} m r + 6 \\, a^{4} m^{2} r^{2} + 10 \\, a^{4} m r^{3} - 2 \\, a^{2} m^{2} r^{4} + 7 \\, a^{2} m r^{5}\\right)} \\sin\\left(\\theta\\right)^{4} - 2 \\, {\\left(3 \\, a^{6} m r + 5 \\, a^{4} m r^{3} + a^{2} m r^{5} - m r^{7}\\right)} \\sin\\left(\\theta\\right)^{2}}{a^{8} \\cos\\left(\\theta\\right)^{8} + 4 \\, a^{6} r^{2} \\cos\\left(\\theta\\right)^{6} + 6 \\, a^{4} r^{4} \\cos\\left(\\theta\\right)^{4} + 4 \\, a^{2} r^{6} \\cos\\left(\\theta\\right)^{2} + r^{8}}"
      ]
     },
     "metadata": {},
     "output_type": "display_data"
    },
    {
     "name": "stdout",
     "output_type": "stream",
     "text": [
      "R_3003 = \n"
     ]
    },
    {
     "data": {
      "text/html": [
       "<html><script type=\"math/tex; mode=display\">\\newcommand{\\Bold}[1]{\\mathbf{#1}}\\frac{3 \\, a^{4} m r \\cos\\left(\\theta\\right)^{4} + 2 \\, m^{2} r^{4} - m r^{5} - 2 \\, {\\left(3 \\, a^{2} m^{2} r^{2} - a^{2} m r^{3}\\right)} \\cos\\left(\\theta\\right)^{2}}{a^{8} \\cos\\left(\\theta\\right)^{8} + 4 \\, a^{6} r^{2} \\cos\\left(\\theta\\right)^{6} + 6 \\, a^{4} r^{4} \\cos\\left(\\theta\\right)^{4} + 4 \\, a^{2} r^{6} \\cos\\left(\\theta\\right)^{2} + r^{8}}</script></html>"
      ],
      "text/latex": [
       "$$\\newcommand{\\Bold}[1]{\\mathbf{#1}}\\frac{3 \\, a^{4} m r \\cos\\left(\\theta\\right)^{4} + 2 \\, m^{2} r^{4} - m r^{5} - 2 \\, {\\left(3 \\, a^{2} m^{2} r^{2} - a^{2} m r^{3}\\right)} \\cos\\left(\\theta\\right)^{2}}{a^{8} \\cos\\left(\\theta\\right)^{8} + 4 \\, a^{6} r^{2} \\cos\\left(\\theta\\right)^{6} + 6 \\, a^{4} r^{4} \\cos\\left(\\theta\\right)^{4} + 4 \\, a^{2} r^{6} \\cos\\left(\\theta\\right)^{2} + r^{8}}$$"
      ],
      "text/plain": [
       "\\frac{3 \\, a^{4} m r \\cos\\left(\\theta\\right)^{4} + 2 \\, m^{2} r^{4} - m r^{5} - 2 \\, {\\left(3 \\, a^{2} m^{2} r^{2} - a^{2} m r^{3}\\right)} \\cos\\left(\\theta\\right)^{2}}{a^{8} \\cos\\left(\\theta\\right)^{8} + 4 \\, a^{6} r^{2} \\cos\\left(\\theta\\right)^{6} + 6 \\, a^{4} r^{4} \\cos\\left(\\theta\\right)^{4} + 4 \\, a^{2} r^{6} \\cos\\left(\\theta\\right)^{2} + r^{8}}"
      ]
     },
     "metadata": {},
     "output_type": "display_data"
    },
    {
     "name": "stdout",
     "output_type": "stream",
     "text": [
      "R_3012 = \n"
     ]
    },
    {
     "data": {
      "text/html": [
       "<html><script type=\"math/tex; mode=display\">\\newcommand{\\Bold}[1]{\\mathbf{#1}}-\\frac{a^{5} m \\cos\\left(\\theta\\right)^{5} - 2 \\, {\\left(a^{3} m^{2} r + a^{3} m r^{2}\\right)} \\cos\\left(\\theta\\right)^{3} + 3 \\, {\\left(2 \\, a m^{2} r^{3} - a m r^{4}\\right)} \\cos\\left(\\theta\\right)}{{\\left(a^{2} r^{6} - 2 \\, m r^{7} + r^{8} + {\\left(a^{8} - 2 \\, a^{6} m r + a^{6} r^{2}\\right)} \\cos\\left(\\theta\\right)^{6} + 3 \\, {\\left(a^{6} r^{2} - 2 \\, a^{4} m r^{3} + a^{4} r^{4}\\right)} \\cos\\left(\\theta\\right)^{4} + 3 \\, {\\left(a^{4} r^{4} - 2 \\, a^{2} m r^{5} + a^{2} r^{6}\\right)} \\cos\\left(\\theta\\right)^{2}\\right)} \\sin\\left(\\theta\\right)}</script></html>"
      ],
      "text/latex": [
       "$$\\newcommand{\\Bold}[1]{\\mathbf{#1}}-\\frac{a^{5} m \\cos\\left(\\theta\\right)^{5} - 2 \\, {\\left(a^{3} m^{2} r + a^{3} m r^{2}\\right)} \\cos\\left(\\theta\\right)^{3} + 3 \\, {\\left(2 \\, a m^{2} r^{3} - a m r^{4}\\right)} \\cos\\left(\\theta\\right)}{{\\left(a^{2} r^{6} - 2 \\, m r^{7} + r^{8} + {\\left(a^{8} - 2 \\, a^{6} m r + a^{6} r^{2}\\right)} \\cos\\left(\\theta\\right)^{6} + 3 \\, {\\left(a^{6} r^{2} - 2 \\, a^{4} m r^{3} + a^{4} r^{4}\\right)} \\cos\\left(\\theta\\right)^{4} + 3 \\, {\\left(a^{4} r^{4} - 2 \\, a^{2} m r^{5} + a^{2} r^{6}\\right)} \\cos\\left(\\theta\\right)^{2}\\right)} \\sin\\left(\\theta\\right)}$$"
      ],
      "text/plain": [
       "-\\frac{a^{5} m \\cos\\left(\\theta\\right)^{5} - 2 \\, {\\left(a^{3} m^{2} r + a^{3} m r^{2}\\right)} \\cos\\left(\\theta\\right)^{3} + 3 \\, {\\left(2 \\, a m^{2} r^{3} - a m r^{4}\\right)} \\cos\\left(\\theta\\right)}{{\\left(a^{2} r^{6} - 2 \\, m r^{7} + r^{8} + {\\left(a^{8} - 2 \\, a^{6} m r + a^{6} r^{2}\\right)} \\cos\\left(\\theta\\right)^{6} + 3 \\, {\\left(a^{6} r^{2} - 2 \\, a^{4} m r^{3} + a^{4} r^{4}\\right)} \\cos\\left(\\theta\\right)^{4} + 3 \\, {\\left(a^{4} r^{4} - 2 \\, a^{2} m r^{5} + a^{2} r^{6}\\right)} \\cos\\left(\\theta\\right)^{2}\\right)} \\sin\\left(\\theta\\right)}"
      ]
     },
     "metadata": {},
     "output_type": "display_data"
    },
    {
     "name": "stdout",
     "output_type": "stream",
     "text": [
      "R_3021 = \n"
     ]
    },
    {
     "data": {
      "text/html": [
       "<html><script type=\"math/tex; mode=display\">\\newcommand{\\Bold}[1]{\\mathbf{#1}}\\frac{a^{5} m \\cos\\left(\\theta\\right)^{5} - 2 \\, {\\left(a^{3} m^{2} r + a^{3} m r^{2}\\right)} \\cos\\left(\\theta\\right)^{3} + 3 \\, {\\left(2 \\, a m^{2} r^{3} - a m r^{4}\\right)} \\cos\\left(\\theta\\right)}{{\\left(a^{2} r^{6} - 2 \\, m r^{7} + r^{8} + {\\left(a^{8} - 2 \\, a^{6} m r + a^{6} r^{2}\\right)} \\cos\\left(\\theta\\right)^{6} + 3 \\, {\\left(a^{6} r^{2} - 2 \\, a^{4} m r^{3} + a^{4} r^{4}\\right)} \\cos\\left(\\theta\\right)^{4} + 3 \\, {\\left(a^{4} r^{4} - 2 \\, a^{2} m r^{5} + a^{2} r^{6}\\right)} \\cos\\left(\\theta\\right)^{2}\\right)} \\sin\\left(\\theta\\right)}</script></html>"
      ],
      "text/latex": [
       "$$\\newcommand{\\Bold}[1]{\\mathbf{#1}}\\frac{a^{5} m \\cos\\left(\\theta\\right)^{5} - 2 \\, {\\left(a^{3} m^{2} r + a^{3} m r^{2}\\right)} \\cos\\left(\\theta\\right)^{3} + 3 \\, {\\left(2 \\, a m^{2} r^{3} - a m r^{4}\\right)} \\cos\\left(\\theta\\right)}{{\\left(a^{2} r^{6} - 2 \\, m r^{7} + r^{8} + {\\left(a^{8} - 2 \\, a^{6} m r + a^{6} r^{2}\\right)} \\cos\\left(\\theta\\right)^{6} + 3 \\, {\\left(a^{6} r^{2} - 2 \\, a^{4} m r^{3} + a^{4} r^{4}\\right)} \\cos\\left(\\theta\\right)^{4} + 3 \\, {\\left(a^{4} r^{4} - 2 \\, a^{2} m r^{5} + a^{2} r^{6}\\right)} \\cos\\left(\\theta\\right)^{2}\\right)} \\sin\\left(\\theta\\right)}$$"
      ],
      "text/plain": [
       "\\frac{a^{5} m \\cos\\left(\\theta\\right)^{5} - 2 \\, {\\left(a^{3} m^{2} r + a^{3} m r^{2}\\right)} \\cos\\left(\\theta\\right)^{3} + 3 \\, {\\left(2 \\, a m^{2} r^{3} - a m r^{4}\\right)} \\cos\\left(\\theta\\right)}{{\\left(a^{2} r^{6} - 2 \\, m r^{7} + r^{8} + {\\left(a^{8} - 2 \\, a^{6} m r + a^{6} r^{2}\\right)} \\cos\\left(\\theta\\right)^{6} + 3 \\, {\\left(a^{6} r^{2} - 2 \\, a^{4} m r^{3} + a^{4} r^{4}\\right)} \\cos\\left(\\theta\\right)^{4} + 3 \\, {\\left(a^{4} r^{4} - 2 \\, a^{2} m r^{5} + a^{2} r^{6}\\right)} \\cos\\left(\\theta\\right)^{2}\\right)} \\sin\\left(\\theta\\right)}"
      ]
     },
     "metadata": {},
     "output_type": "display_data"
    },
    {
     "name": "stdout",
     "output_type": "stream",
     "text": [
      "R_3030 = \n"
     ]
    },
    {
     "data": {
      "text/html": [
       "<html><script type=\"math/tex; mode=display\">\\newcommand{\\Bold}[1]{\\mathbf{#1}}-\\frac{3 \\, a^{4} m r \\cos\\left(\\theta\\right)^{4} + 2 \\, m^{2} r^{4} - m r^{5} - 2 \\, {\\left(3 \\, a^{2} m^{2} r^{2} - a^{2} m r^{3}\\right)} \\cos\\left(\\theta\\right)^{2}}{a^{8} \\cos\\left(\\theta\\right)^{8} + 4 \\, a^{6} r^{2} \\cos\\left(\\theta\\right)^{6} + 6 \\, a^{4} r^{4} \\cos\\left(\\theta\\right)^{4} + 4 \\, a^{2} r^{6} \\cos\\left(\\theta\\right)^{2} + r^{8}}</script></html>"
      ],
      "text/latex": [
       "$$\\newcommand{\\Bold}[1]{\\mathbf{#1}}-\\frac{3 \\, a^{4} m r \\cos\\left(\\theta\\right)^{4} + 2 \\, m^{2} r^{4} - m r^{5} - 2 \\, {\\left(3 \\, a^{2} m^{2} r^{2} - a^{2} m r^{3}\\right)} \\cos\\left(\\theta\\right)^{2}}{a^{8} \\cos\\left(\\theta\\right)^{8} + 4 \\, a^{6} r^{2} \\cos\\left(\\theta\\right)^{6} + 6 \\, a^{4} r^{4} \\cos\\left(\\theta\\right)^{4} + 4 \\, a^{2} r^{6} \\cos\\left(\\theta\\right)^{2} + r^{8}}$$"
      ],
      "text/plain": [
       "-\\frac{3 \\, a^{4} m r \\cos\\left(\\theta\\right)^{4} + 2 \\, m^{2} r^{4} - m r^{5} - 2 \\, {\\left(3 \\, a^{2} m^{2} r^{2} - a^{2} m r^{3}\\right)} \\cos\\left(\\theta\\right)^{2}}{a^{8} \\cos\\left(\\theta\\right)^{8} + 4 \\, a^{6} r^{2} \\cos\\left(\\theta\\right)^{6} + 6 \\, a^{4} r^{4} \\cos\\left(\\theta\\right)^{4} + 4 \\, a^{2} r^{6} \\cos\\left(\\theta\\right)^{2} + r^{8}}"
      ]
     },
     "metadata": {},
     "output_type": "display_data"
    },
    {
     "name": "stdout",
     "output_type": "stream",
     "text": [
      "R_3101 = \n"
     ]
    },
    {
     "data": {
      "text/html": [
       "<html><script type=\"math/tex; mode=display\">\\newcommand{\\Bold}[1]{\\mathbf{#1}}-\\frac{3 \\, {\\left(3 \\, a^{3} m r \\cos\\left(\\theta\\right)^{2} - a m r^{3}\\right)}}{a^{2} r^{6} - 2 \\, m r^{7} + r^{8} + {\\left(a^{8} - 2 \\, a^{6} m r + a^{6} r^{2}\\right)} \\cos\\left(\\theta\\right)^{6} + 3 \\, {\\left(a^{6} r^{2} - 2 \\, a^{4} m r^{3} + a^{4} r^{4}\\right)} \\cos\\left(\\theta\\right)^{4} + 3 \\, {\\left(a^{4} r^{4} - 2 \\, a^{2} m r^{5} + a^{2} r^{6}\\right)} \\cos\\left(\\theta\\right)^{2}}</script></html>"
      ],
      "text/latex": [
       "$$\\newcommand{\\Bold}[1]{\\mathbf{#1}}-\\frac{3 \\, {\\left(3 \\, a^{3} m r \\cos\\left(\\theta\\right)^{2} - a m r^{3}\\right)}}{a^{2} r^{6} - 2 \\, m r^{7} + r^{8} + {\\left(a^{8} - 2 \\, a^{6} m r + a^{6} r^{2}\\right)} \\cos\\left(\\theta\\right)^{6} + 3 \\, {\\left(a^{6} r^{2} - 2 \\, a^{4} m r^{3} + a^{4} r^{4}\\right)} \\cos\\left(\\theta\\right)^{4} + 3 \\, {\\left(a^{4} r^{4} - 2 \\, a^{2} m r^{5} + a^{2} r^{6}\\right)} \\cos\\left(\\theta\\right)^{2}}$$"
      ],
      "text/plain": [
       "-\\frac{3 \\, {\\left(3 \\, a^{3} m r \\cos\\left(\\theta\\right)^{2} - a m r^{3}\\right)}}{a^{2} r^{6} - 2 \\, m r^{7} + r^{8} + {\\left(a^{8} - 2 \\, a^{6} m r + a^{6} r^{2}\\right)} \\cos\\left(\\theta\\right)^{6} + 3 \\, {\\left(a^{6} r^{2} - 2 \\, a^{4} m r^{3} + a^{4} r^{4}\\right)} \\cos\\left(\\theta\\right)^{4} + 3 \\, {\\left(a^{4} r^{4} - 2 \\, a^{2} m r^{5} + a^{2} r^{6}\\right)} \\cos\\left(\\theta\\right)^{2}}"
      ]
     },
     "metadata": {},
     "output_type": "display_data"
    },
    {
     "name": "stdout",
     "output_type": "stream",
     "text": [
      "R_3102 = \n"
     ]
    },
    {
     "data": {
      "text/html": [
       "<html><script type=\"math/tex; mode=display\">\\newcommand{\\Bold}[1]{\\mathbf{#1}}-\\frac{2 \\, a^{5} m \\cos\\left(\\theta\\right)^{5} - {\\left(3 \\, a^{5} m - 2 \\, a^{3} m^{2} r + 7 \\, a^{3} m r^{2}\\right)} \\cos\\left(\\theta\\right)^{3} + 3 \\, {\\left(3 \\, a^{3} m r^{2} - 2 \\, a m^{2} r^{3} + a m r^{4}\\right)} \\cos\\left(\\theta\\right)}{{\\left(a^{2} r^{6} - 2 \\, m r^{7} + r^{8} + {\\left(a^{8} - 2 \\, a^{6} m r + a^{6} r^{2}\\right)} \\cos\\left(\\theta\\right)^{6} + 3 \\, {\\left(a^{6} r^{2} - 2 \\, a^{4} m r^{3} + a^{4} r^{4}\\right)} \\cos\\left(\\theta\\right)^{4} + 3 \\, {\\left(a^{4} r^{4} - 2 \\, a^{2} m r^{5} + a^{2} r^{6}\\right)} \\cos\\left(\\theta\\right)^{2}\\right)} \\sin\\left(\\theta\\right)}</script></html>"
      ],
      "text/latex": [
       "$$\\newcommand{\\Bold}[1]{\\mathbf{#1}}-\\frac{2 \\, a^{5} m \\cos\\left(\\theta\\right)^{5} - {\\left(3 \\, a^{5} m - 2 \\, a^{3} m^{2} r + 7 \\, a^{3} m r^{2}\\right)} \\cos\\left(\\theta\\right)^{3} + 3 \\, {\\left(3 \\, a^{3} m r^{2} - 2 \\, a m^{2} r^{3} + a m r^{4}\\right)} \\cos\\left(\\theta\\right)}{{\\left(a^{2} r^{6} - 2 \\, m r^{7} + r^{8} + {\\left(a^{8} - 2 \\, a^{6} m r + a^{6} r^{2}\\right)} \\cos\\left(\\theta\\right)^{6} + 3 \\, {\\left(a^{6} r^{2} - 2 \\, a^{4} m r^{3} + a^{4} r^{4}\\right)} \\cos\\left(\\theta\\right)^{4} + 3 \\, {\\left(a^{4} r^{4} - 2 \\, a^{2} m r^{5} + a^{2} r^{6}\\right)} \\cos\\left(\\theta\\right)^{2}\\right)} \\sin\\left(\\theta\\right)}$$"
      ],
      "text/plain": [
       "-\\frac{2 \\, a^{5} m \\cos\\left(\\theta\\right)^{5} - {\\left(3 \\, a^{5} m - 2 \\, a^{3} m^{2} r + 7 \\, a^{3} m r^{2}\\right)} \\cos\\left(\\theta\\right)^{3} + 3 \\, {\\left(3 \\, a^{3} m r^{2} - 2 \\, a m^{2} r^{3} + a m r^{4}\\right)} \\cos\\left(\\theta\\right)}{{\\left(a^{2} r^{6} - 2 \\, m r^{7} + r^{8} + {\\left(a^{8} - 2 \\, a^{6} m r + a^{6} r^{2}\\right)} \\cos\\left(\\theta\\right)^{6} + 3 \\, {\\left(a^{6} r^{2} - 2 \\, a^{4} m r^{3} + a^{4} r^{4}\\right)} \\cos\\left(\\theta\\right)^{4} + 3 \\, {\\left(a^{4} r^{4} - 2 \\, a^{2} m r^{5} + a^{2} r^{6}\\right)} \\cos\\left(\\theta\\right)^{2}\\right)} \\sin\\left(\\theta\\right)}"
      ]
     },
     "metadata": {},
     "output_type": "display_data"
    },
    {
     "name": "stdout",
     "output_type": "stream",
     "text": [
      "R_3110 = \n"
     ]
    },
    {
     "data": {
      "text/html": [
       "<html><script type=\"math/tex; mode=display\">\\newcommand{\\Bold}[1]{\\mathbf{#1}}\\frac{3 \\, {\\left(3 \\, a^{3} m r \\cos\\left(\\theta\\right)^{2} - a m r^{3}\\right)}}{a^{2} r^{6} - 2 \\, m r^{7} + r^{8} + {\\left(a^{8} - 2 \\, a^{6} m r + a^{6} r^{2}\\right)} \\cos\\left(\\theta\\right)^{6} + 3 \\, {\\left(a^{6} r^{2} - 2 \\, a^{4} m r^{3} + a^{4} r^{4}\\right)} \\cos\\left(\\theta\\right)^{4} + 3 \\, {\\left(a^{4} r^{4} - 2 \\, a^{2} m r^{5} + a^{2} r^{6}\\right)} \\cos\\left(\\theta\\right)^{2}}</script></html>"
      ],
      "text/latex": [
       "$$\\newcommand{\\Bold}[1]{\\mathbf{#1}}\\frac{3 \\, {\\left(3 \\, a^{3} m r \\cos\\left(\\theta\\right)^{2} - a m r^{3}\\right)}}{a^{2} r^{6} - 2 \\, m r^{7} + r^{8} + {\\left(a^{8} - 2 \\, a^{6} m r + a^{6} r^{2}\\right)} \\cos\\left(\\theta\\right)^{6} + 3 \\, {\\left(a^{6} r^{2} - 2 \\, a^{4} m r^{3} + a^{4} r^{4}\\right)} \\cos\\left(\\theta\\right)^{4} + 3 \\, {\\left(a^{4} r^{4} - 2 \\, a^{2} m r^{5} + a^{2} r^{6}\\right)} \\cos\\left(\\theta\\right)^{2}}$$"
      ],
      "text/plain": [
       "\\frac{3 \\, {\\left(3 \\, a^{3} m r \\cos\\left(\\theta\\right)^{2} - a m r^{3}\\right)}}{a^{2} r^{6} - 2 \\, m r^{7} + r^{8} + {\\left(a^{8} - 2 \\, a^{6} m r + a^{6} r^{2}\\right)} \\cos\\left(\\theta\\right)^{6} + 3 \\, {\\left(a^{6} r^{2} - 2 \\, a^{4} m r^{3} + a^{4} r^{4}\\right)} \\cos\\left(\\theta\\right)^{4} + 3 \\, {\\left(a^{4} r^{4} - 2 \\, a^{2} m r^{5} + a^{2} r^{6}\\right)} \\cos\\left(\\theta\\right)^{2}}"
      ]
     },
     "metadata": {},
     "output_type": "display_data"
    },
    {
     "name": "stdout",
     "output_type": "stream",
     "text": [
      "R_3113 = \n"
     ]
    },
    {
     "data": {
      "text/html": [
       "<html><script type=\"math/tex; mode=display\">\\newcommand{\\Bold}[1]{\\mathbf{#1}}\\frac{6 \\, a^{4} m r \\cos\\left(\\theta\\right)^{4} + 3 \\, a^{2} m r^{3} + m r^{5} - {\\left(9 \\, a^{4} m r + 5 \\, a^{2} m r^{3}\\right)} \\cos\\left(\\theta\\right)^{2}}{a^{2} r^{6} - 2 \\, m r^{7} + r^{8} + {\\left(a^{8} - 2 \\, a^{6} m r + a^{6} r^{2}\\right)} \\cos\\left(\\theta\\right)^{6} + 3 \\, {\\left(a^{6} r^{2} - 2 \\, a^{4} m r^{3} + a^{4} r^{4}\\right)} \\cos\\left(\\theta\\right)^{4} + 3 \\, {\\left(a^{4} r^{4} - 2 \\, a^{2} m r^{5} + a^{2} r^{6}\\right)} \\cos\\left(\\theta\\right)^{2}}</script></html>"
      ],
      "text/latex": [
       "$$\\newcommand{\\Bold}[1]{\\mathbf{#1}}\\frac{6 \\, a^{4} m r \\cos\\left(\\theta\\right)^{4} + 3 \\, a^{2} m r^{3} + m r^{5} - {\\left(9 \\, a^{4} m r + 5 \\, a^{2} m r^{3}\\right)} \\cos\\left(\\theta\\right)^{2}}{a^{2} r^{6} - 2 \\, m r^{7} + r^{8} + {\\left(a^{8} - 2 \\, a^{6} m r + a^{6} r^{2}\\right)} \\cos\\left(\\theta\\right)^{6} + 3 \\, {\\left(a^{6} r^{2} - 2 \\, a^{4} m r^{3} + a^{4} r^{4}\\right)} \\cos\\left(\\theta\\right)^{4} + 3 \\, {\\left(a^{4} r^{4} - 2 \\, a^{2} m r^{5} + a^{2} r^{6}\\right)} \\cos\\left(\\theta\\right)^{2}}$$"
      ],
      "text/plain": [
       "\\frac{6 \\, a^{4} m r \\cos\\left(\\theta\\right)^{4} + 3 \\, a^{2} m r^{3} + m r^{5} - {\\left(9 \\, a^{4} m r + 5 \\, a^{2} m r^{3}\\right)} \\cos\\left(\\theta\\right)^{2}}{a^{2} r^{6} - 2 \\, m r^{7} + r^{8} + {\\left(a^{8} - 2 \\, a^{6} m r + a^{6} r^{2}\\right)} \\cos\\left(\\theta\\right)^{6} + 3 \\, {\\left(a^{6} r^{2} - 2 \\, a^{4} m r^{3} + a^{4} r^{4}\\right)} \\cos\\left(\\theta\\right)^{4} + 3 \\, {\\left(a^{4} r^{4} - 2 \\, a^{2} m r^{5} + a^{2} r^{6}\\right)} \\cos\\left(\\theta\\right)^{2}}"
      ]
     },
     "metadata": {},
     "output_type": "display_data"
    },
    {
     "name": "stdout",
     "output_type": "stream",
     "text": [
      "R_3120 = \n"
     ]
    },
    {
     "data": {
      "text/html": [
       "<html><script type=\"math/tex; mode=display\">\\newcommand{\\Bold}[1]{\\mathbf{#1}}\\frac{2 \\, a^{5} m \\cos\\left(\\theta\\right)^{5} - {\\left(3 \\, a^{5} m - 2 \\, a^{3} m^{2} r + 7 \\, a^{3} m r^{2}\\right)} \\cos\\left(\\theta\\right)^{3} + 3 \\, {\\left(3 \\, a^{3} m r^{2} - 2 \\, a m^{2} r^{3} + a m r^{4}\\right)} \\cos\\left(\\theta\\right)}{{\\left(a^{2} r^{6} - 2 \\, m r^{7} + r^{8} + {\\left(a^{8} - 2 \\, a^{6} m r + a^{6} r^{2}\\right)} \\cos\\left(\\theta\\right)^{6} + 3 \\, {\\left(a^{6} r^{2} - 2 \\, a^{4} m r^{3} + a^{4} r^{4}\\right)} \\cos\\left(\\theta\\right)^{4} + 3 \\, {\\left(a^{4} r^{4} - 2 \\, a^{2} m r^{5} + a^{2} r^{6}\\right)} \\cos\\left(\\theta\\right)^{2}\\right)} \\sin\\left(\\theta\\right)}</script></html>"
      ],
      "text/latex": [
       "$$\\newcommand{\\Bold}[1]{\\mathbf{#1}}\\frac{2 \\, a^{5} m \\cos\\left(\\theta\\right)^{5} - {\\left(3 \\, a^{5} m - 2 \\, a^{3} m^{2} r + 7 \\, a^{3} m r^{2}\\right)} \\cos\\left(\\theta\\right)^{3} + 3 \\, {\\left(3 \\, a^{3} m r^{2} - 2 \\, a m^{2} r^{3} + a m r^{4}\\right)} \\cos\\left(\\theta\\right)}{{\\left(a^{2} r^{6} - 2 \\, m r^{7} + r^{8} + {\\left(a^{8} - 2 \\, a^{6} m r + a^{6} r^{2}\\right)} \\cos\\left(\\theta\\right)^{6} + 3 \\, {\\left(a^{6} r^{2} - 2 \\, a^{4} m r^{3} + a^{4} r^{4}\\right)} \\cos\\left(\\theta\\right)^{4} + 3 \\, {\\left(a^{4} r^{4} - 2 \\, a^{2} m r^{5} + a^{2} r^{6}\\right)} \\cos\\left(\\theta\\right)^{2}\\right)} \\sin\\left(\\theta\\right)}$$"
      ],
      "text/plain": [
       "\\frac{2 \\, a^{5} m \\cos\\left(\\theta\\right)^{5} - {\\left(3 \\, a^{5} m - 2 \\, a^{3} m^{2} r + 7 \\, a^{3} m r^{2}\\right)} \\cos\\left(\\theta\\right)^{3} + 3 \\, {\\left(3 \\, a^{3} m r^{2} - 2 \\, a m^{2} r^{3} + a m r^{4}\\right)} \\cos\\left(\\theta\\right)}{{\\left(a^{2} r^{6} - 2 \\, m r^{7} + r^{8} + {\\left(a^{8} - 2 \\, a^{6} m r + a^{6} r^{2}\\right)} \\cos\\left(\\theta\\right)^{6} + 3 \\, {\\left(a^{6} r^{2} - 2 \\, a^{4} m r^{3} + a^{4} r^{4}\\right)} \\cos\\left(\\theta\\right)^{4} + 3 \\, {\\left(a^{4} r^{4} - 2 \\, a^{2} m r^{5} + a^{2} r^{6}\\right)} \\cos\\left(\\theta\\right)^{2}\\right)} \\sin\\left(\\theta\\right)}"
      ]
     },
     "metadata": {},
     "output_type": "display_data"
    },
    {
     "name": "stdout",
     "output_type": "stream",
     "text": [
      "R_3123 = \n"
     ]
    },
    {
     "data": {
      "text/html": [
       "<html><script type=\"math/tex; mode=display\">\\newcommand{\\Bold}[1]{\\mathbf{#1}}\\frac{{\\left({\\left(3 \\, a^{6} m - 2 \\, a^{4} m^{2} r + 3 \\, a^{4} m r^{2}\\right)} \\cos\\left(\\theta\\right)^{3} - 3 \\, {\\left(3 \\, a^{4} m r^{2} - 2 \\, a^{2} m^{2} r^{3} + 3 \\, a^{2} m r^{4}\\right)} \\cos\\left(\\theta\\right)\\right)} \\sin\\left(\\theta\\right)}{a^{2} r^{6} - 2 \\, m r^{7} + r^{8} + {\\left(a^{8} - 2 \\, a^{6} m r + a^{6} r^{2}\\right)} \\cos\\left(\\theta\\right)^{6} + 3 \\, {\\left(a^{6} r^{2} - 2 \\, a^{4} m r^{3} + a^{4} r^{4}\\right)} \\cos\\left(\\theta\\right)^{4} + 3 \\, {\\left(a^{4} r^{4} - 2 \\, a^{2} m r^{5} + a^{2} r^{6}\\right)} \\cos\\left(\\theta\\right)^{2}}</script></html>"
      ],
      "text/latex": [
       "$$\\newcommand{\\Bold}[1]{\\mathbf{#1}}\\frac{{\\left({\\left(3 \\, a^{6} m - 2 \\, a^{4} m^{2} r + 3 \\, a^{4} m r^{2}\\right)} \\cos\\left(\\theta\\right)^{3} - 3 \\, {\\left(3 \\, a^{4} m r^{2} - 2 \\, a^{2} m^{2} r^{3} + 3 \\, a^{2} m r^{4}\\right)} \\cos\\left(\\theta\\right)\\right)} \\sin\\left(\\theta\\right)}{a^{2} r^{6} - 2 \\, m r^{7} + r^{8} + {\\left(a^{8} - 2 \\, a^{6} m r + a^{6} r^{2}\\right)} \\cos\\left(\\theta\\right)^{6} + 3 \\, {\\left(a^{6} r^{2} - 2 \\, a^{4} m r^{3} + a^{4} r^{4}\\right)} \\cos\\left(\\theta\\right)^{4} + 3 \\, {\\left(a^{4} r^{4} - 2 \\, a^{2} m r^{5} + a^{2} r^{6}\\right)} \\cos\\left(\\theta\\right)^{2}}$$"
      ],
      "text/plain": [
       "\\frac{{\\left({\\left(3 \\, a^{6} m - 2 \\, a^{4} m^{2} r + 3 \\, a^{4} m r^{2}\\right)} \\cos\\left(\\theta\\right)^{3} - 3 \\, {\\left(3 \\, a^{4} m r^{2} - 2 \\, a^{2} m^{2} r^{3} + 3 \\, a^{2} m r^{4}\\right)} \\cos\\left(\\theta\\right)\\right)} \\sin\\left(\\theta\\right)}{a^{2} r^{6} - 2 \\, m r^{7} + r^{8} + {\\left(a^{8} - 2 \\, a^{6} m r + a^{6} r^{2}\\right)} \\cos\\left(\\theta\\right)^{6} + 3 \\, {\\left(a^{6} r^{2} - 2 \\, a^{4} m r^{3} + a^{4} r^{4}\\right)} \\cos\\left(\\theta\\right)^{4} + 3 \\, {\\left(a^{4} r^{4} - 2 \\, a^{2} m r^{5} + a^{2} r^{6}\\right)} \\cos\\left(\\theta\\right)^{2}}"
      ]
     },
     "metadata": {},
     "output_type": "display_data"
    },
    {
     "name": "stdout",
     "output_type": "stream",
     "text": [
      "R_3131 = \n"
     ]
    },
    {
     "data": {
      "text/html": [
       "<html><script type=\"math/tex; mode=display\">\\newcommand{\\Bold}[1]{\\mathbf{#1}}-\\frac{6 \\, a^{4} m r \\cos\\left(\\theta\\right)^{4} + 3 \\, a^{2} m r^{3} + m r^{5} - {\\left(9 \\, a^{4} m r + 5 \\, a^{2} m r^{3}\\right)} \\cos\\left(\\theta\\right)^{2}}{a^{2} r^{6} - 2 \\, m r^{7} + r^{8} + {\\left(a^{8} - 2 \\, a^{6} m r + a^{6} r^{2}\\right)} \\cos\\left(\\theta\\right)^{6} + 3 \\, {\\left(a^{6} r^{2} - 2 \\, a^{4} m r^{3} + a^{4} r^{4}\\right)} \\cos\\left(\\theta\\right)^{4} + 3 \\, {\\left(a^{4} r^{4} - 2 \\, a^{2} m r^{5} + a^{2} r^{6}\\right)} \\cos\\left(\\theta\\right)^{2}}</script></html>"
      ],
      "text/latex": [
       "$$\\newcommand{\\Bold}[1]{\\mathbf{#1}}-\\frac{6 \\, a^{4} m r \\cos\\left(\\theta\\right)^{4} + 3 \\, a^{2} m r^{3} + m r^{5} - {\\left(9 \\, a^{4} m r + 5 \\, a^{2} m r^{3}\\right)} \\cos\\left(\\theta\\right)^{2}}{a^{2} r^{6} - 2 \\, m r^{7} + r^{8} + {\\left(a^{8} - 2 \\, a^{6} m r + a^{6} r^{2}\\right)} \\cos\\left(\\theta\\right)^{6} + 3 \\, {\\left(a^{6} r^{2} - 2 \\, a^{4} m r^{3} + a^{4} r^{4}\\right)} \\cos\\left(\\theta\\right)^{4} + 3 \\, {\\left(a^{4} r^{4} - 2 \\, a^{2} m r^{5} + a^{2} r^{6}\\right)} \\cos\\left(\\theta\\right)^{2}}$$"
      ],
      "text/plain": [
       "-\\frac{6 \\, a^{4} m r \\cos\\left(\\theta\\right)^{4} + 3 \\, a^{2} m r^{3} + m r^{5} - {\\left(9 \\, a^{4} m r + 5 \\, a^{2} m r^{3}\\right)} \\cos\\left(\\theta\\right)^{2}}{a^{2} r^{6} - 2 \\, m r^{7} + r^{8} + {\\left(a^{8} - 2 \\, a^{6} m r + a^{6} r^{2}\\right)} \\cos\\left(\\theta\\right)^{6} + 3 \\, {\\left(a^{6} r^{2} - 2 \\, a^{4} m r^{3} + a^{4} r^{4}\\right)} \\cos\\left(\\theta\\right)^{4} + 3 \\, {\\left(a^{4} r^{4} - 2 \\, a^{2} m r^{5} + a^{2} r^{6}\\right)} \\cos\\left(\\theta\\right)^{2}}"
      ]
     },
     "metadata": {},
     "output_type": "display_data"
    },
    {
     "name": "stdout",
     "output_type": "stream",
     "text": [
      "R_3132 = \n"
     ]
    },
    {
     "data": {
      "text/html": [
       "<html><script type=\"math/tex; mode=display\">\\newcommand{\\Bold}[1]{\\mathbf{#1}}-\\frac{{\\left({\\left(3 \\, a^{6} m - 2 \\, a^{4} m^{2} r + 3 \\, a^{4} m r^{2}\\right)} \\cos\\left(\\theta\\right)^{3} - 3 \\, {\\left(3 \\, a^{4} m r^{2} - 2 \\, a^{2} m^{2} r^{3} + 3 \\, a^{2} m r^{4}\\right)} \\cos\\left(\\theta\\right)\\right)} \\sin\\left(\\theta\\right)}{a^{2} r^{6} - 2 \\, m r^{7} + r^{8} + {\\left(a^{8} - 2 \\, a^{6} m r + a^{6} r^{2}\\right)} \\cos\\left(\\theta\\right)^{6} + 3 \\, {\\left(a^{6} r^{2} - 2 \\, a^{4} m r^{3} + a^{4} r^{4}\\right)} \\cos\\left(\\theta\\right)^{4} + 3 \\, {\\left(a^{4} r^{4} - 2 \\, a^{2} m r^{5} + a^{2} r^{6}\\right)} \\cos\\left(\\theta\\right)^{2}}</script></html>"
      ],
      "text/latex": [
       "$$\\newcommand{\\Bold}[1]{\\mathbf{#1}}-\\frac{{\\left({\\left(3 \\, a^{6} m - 2 \\, a^{4} m^{2} r + 3 \\, a^{4} m r^{2}\\right)} \\cos\\left(\\theta\\right)^{3} - 3 \\, {\\left(3 \\, a^{4} m r^{2} - 2 \\, a^{2} m^{2} r^{3} + 3 \\, a^{2} m r^{4}\\right)} \\cos\\left(\\theta\\right)\\right)} \\sin\\left(\\theta\\right)}{a^{2} r^{6} - 2 \\, m r^{7} + r^{8} + {\\left(a^{8} - 2 \\, a^{6} m r + a^{6} r^{2}\\right)} \\cos\\left(\\theta\\right)^{6} + 3 \\, {\\left(a^{6} r^{2} - 2 \\, a^{4} m r^{3} + a^{4} r^{4}\\right)} \\cos\\left(\\theta\\right)^{4} + 3 \\, {\\left(a^{4} r^{4} - 2 \\, a^{2} m r^{5} + a^{2} r^{6}\\right)} \\cos\\left(\\theta\\right)^{2}}$$"
      ],
      "text/plain": [
       "-\\frac{{\\left({\\left(3 \\, a^{6} m - 2 \\, a^{4} m^{2} r + 3 \\, a^{4} m r^{2}\\right)} \\cos\\left(\\theta\\right)^{3} - 3 \\, {\\left(3 \\, a^{4} m r^{2} - 2 \\, a^{2} m^{2} r^{3} + 3 \\, a^{2} m r^{4}\\right)} \\cos\\left(\\theta\\right)\\right)} \\sin\\left(\\theta\\right)}{a^{2} r^{6} - 2 \\, m r^{7} + r^{8} + {\\left(a^{8} - 2 \\, a^{6} m r + a^{6} r^{2}\\right)} \\cos\\left(\\theta\\right)^{6} + 3 \\, {\\left(a^{6} r^{2} - 2 \\, a^{4} m r^{3} + a^{4} r^{4}\\right)} \\cos\\left(\\theta\\right)^{4} + 3 \\, {\\left(a^{4} r^{4} - 2 \\, a^{2} m r^{5} + a^{2} r^{6}\\right)} \\cos\\left(\\theta\\right)^{2}}"
      ]
     },
     "metadata": {},
     "output_type": "display_data"
    },
    {
     "name": "stdout",
     "output_type": "stream",
     "text": [
      "R_3201 = \n"
     ]
    },
    {
     "data": {
      "text/html": [
       "<html><script type=\"math/tex; mode=display\">\\newcommand{\\Bold}[1]{\\mathbf{#1}}-\\frac{a^{5} m \\cos\\left(\\theta\\right)^{5} - {\\left(3 \\, a^{5} m - 4 \\, a^{3} m^{2} r + 5 \\, a^{3} m r^{2}\\right)} \\cos\\left(\\theta\\right)^{3} + 3 \\, {\\left(3 \\, a^{3} m r^{2} - 4 \\, a m^{2} r^{3} + 2 \\, a m r^{4}\\right)} \\cos\\left(\\theta\\right)}{{\\left(a^{2} r^{6} - 2 \\, m r^{7} + r^{8} + {\\left(a^{8} - 2 \\, a^{6} m r + a^{6} r^{2}\\right)} \\cos\\left(\\theta\\right)^{6} + 3 \\, {\\left(a^{6} r^{2} - 2 \\, a^{4} m r^{3} + a^{4} r^{4}\\right)} \\cos\\left(\\theta\\right)^{4} + 3 \\, {\\left(a^{4} r^{4} - 2 \\, a^{2} m r^{5} + a^{2} r^{6}\\right)} \\cos\\left(\\theta\\right)^{2}\\right)} \\sin\\left(\\theta\\right)}</script></html>"
      ],
      "text/latex": [
       "$$\\newcommand{\\Bold}[1]{\\mathbf{#1}}-\\frac{a^{5} m \\cos\\left(\\theta\\right)^{5} - {\\left(3 \\, a^{5} m - 4 \\, a^{3} m^{2} r + 5 \\, a^{3} m r^{2}\\right)} \\cos\\left(\\theta\\right)^{3} + 3 \\, {\\left(3 \\, a^{3} m r^{2} - 4 \\, a m^{2} r^{3} + 2 \\, a m r^{4}\\right)} \\cos\\left(\\theta\\right)}{{\\left(a^{2} r^{6} - 2 \\, m r^{7} + r^{8} + {\\left(a^{8} - 2 \\, a^{6} m r + a^{6} r^{2}\\right)} \\cos\\left(\\theta\\right)^{6} + 3 \\, {\\left(a^{6} r^{2} - 2 \\, a^{4} m r^{3} + a^{4} r^{4}\\right)} \\cos\\left(\\theta\\right)^{4} + 3 \\, {\\left(a^{4} r^{4} - 2 \\, a^{2} m r^{5} + a^{2} r^{6}\\right)} \\cos\\left(\\theta\\right)^{2}\\right)} \\sin\\left(\\theta\\right)}$$"
      ],
      "text/plain": [
       "-\\frac{a^{5} m \\cos\\left(\\theta\\right)^{5} - {\\left(3 \\, a^{5} m - 4 \\, a^{3} m^{2} r + 5 \\, a^{3} m r^{2}\\right)} \\cos\\left(\\theta\\right)^{3} + 3 \\, {\\left(3 \\, a^{3} m r^{2} - 4 \\, a m^{2} r^{3} + 2 \\, a m r^{4}\\right)} \\cos\\left(\\theta\\right)}{{\\left(a^{2} r^{6} - 2 \\, m r^{7} + r^{8} + {\\left(a^{8} - 2 \\, a^{6} m r + a^{6} r^{2}\\right)} \\cos\\left(\\theta\\right)^{6} + 3 \\, {\\left(a^{6} r^{2} - 2 \\, a^{4} m r^{3} + a^{4} r^{4}\\right)} \\cos\\left(\\theta\\right)^{4} + 3 \\, {\\left(a^{4} r^{4} - 2 \\, a^{2} m r^{5} + a^{2} r^{6}\\right)} \\cos\\left(\\theta\\right)^{2}\\right)} \\sin\\left(\\theta\\right)}"
      ]
     },
     "metadata": {},
     "output_type": "display_data"
    },
    {
     "name": "stdout",
     "output_type": "stream",
     "text": [
      "R_3202 = \n"
     ]
    },
    {
     "data": {
      "text/html": [
       "<html><script type=\"math/tex; mode=display\">\\newcommand{\\Bold}[1]{\\mathbf{#1}}\\frac{3 \\, {\\left(3 \\, a^{3} m r \\cos\\left(\\theta\\right)^{2} - a m r^{3}\\right)}}{a^{6} \\cos\\left(\\theta\\right)^{6} + 3 \\, a^{4} r^{2} \\cos\\left(\\theta\\right)^{4} + 3 \\, a^{2} r^{4} \\cos\\left(\\theta\\right)^{2} + r^{6}}</script></html>"
      ],
      "text/latex": [
       "$$\\newcommand{\\Bold}[1]{\\mathbf{#1}}\\frac{3 \\, {\\left(3 \\, a^{3} m r \\cos\\left(\\theta\\right)^{2} - a m r^{3}\\right)}}{a^{6} \\cos\\left(\\theta\\right)^{6} + 3 \\, a^{4} r^{2} \\cos\\left(\\theta\\right)^{4} + 3 \\, a^{2} r^{4} \\cos\\left(\\theta\\right)^{2} + r^{6}}$$"
      ],
      "text/plain": [
       "\\frac{3 \\, {\\left(3 \\, a^{3} m r \\cos\\left(\\theta\\right)^{2} - a m r^{3}\\right)}}{a^{6} \\cos\\left(\\theta\\right)^{6} + 3 \\, a^{4} r^{2} \\cos\\left(\\theta\\right)^{4} + 3 \\, a^{2} r^{4} \\cos\\left(\\theta\\right)^{2} + r^{6}}"
      ]
     },
     "metadata": {},
     "output_type": "display_data"
    },
    {
     "name": "stdout",
     "output_type": "stream",
     "text": [
      "R_3210 = \n"
     ]
    },
    {
     "data": {
      "text/html": [
       "<html><script type=\"math/tex; mode=display\">\\newcommand{\\Bold}[1]{\\mathbf{#1}}\\frac{a^{5} m \\cos\\left(\\theta\\right)^{5} - {\\left(3 \\, a^{5} m - 4 \\, a^{3} m^{2} r + 5 \\, a^{3} m r^{2}\\right)} \\cos\\left(\\theta\\right)^{3} + 3 \\, {\\left(3 \\, a^{3} m r^{2} - 4 \\, a m^{2} r^{3} + 2 \\, a m r^{4}\\right)} \\cos\\left(\\theta\\right)}{{\\left(a^{2} r^{6} - 2 \\, m r^{7} + r^{8} + {\\left(a^{8} - 2 \\, a^{6} m r + a^{6} r^{2}\\right)} \\cos\\left(\\theta\\right)^{6} + 3 \\, {\\left(a^{6} r^{2} - 2 \\, a^{4} m r^{3} + a^{4} r^{4}\\right)} \\cos\\left(\\theta\\right)^{4} + 3 \\, {\\left(a^{4} r^{4} - 2 \\, a^{2} m r^{5} + a^{2} r^{6}\\right)} \\cos\\left(\\theta\\right)^{2}\\right)} \\sin\\left(\\theta\\right)}</script></html>"
      ],
      "text/latex": [
       "$$\\newcommand{\\Bold}[1]{\\mathbf{#1}}\\frac{a^{5} m \\cos\\left(\\theta\\right)^{5} - {\\left(3 \\, a^{5} m - 4 \\, a^{3} m^{2} r + 5 \\, a^{3} m r^{2}\\right)} \\cos\\left(\\theta\\right)^{3} + 3 \\, {\\left(3 \\, a^{3} m r^{2} - 4 \\, a m^{2} r^{3} + 2 \\, a m r^{4}\\right)} \\cos\\left(\\theta\\right)}{{\\left(a^{2} r^{6} - 2 \\, m r^{7} + r^{8} + {\\left(a^{8} - 2 \\, a^{6} m r + a^{6} r^{2}\\right)} \\cos\\left(\\theta\\right)^{6} + 3 \\, {\\left(a^{6} r^{2} - 2 \\, a^{4} m r^{3} + a^{4} r^{4}\\right)} \\cos\\left(\\theta\\right)^{4} + 3 \\, {\\left(a^{4} r^{4} - 2 \\, a^{2} m r^{5} + a^{2} r^{6}\\right)} \\cos\\left(\\theta\\right)^{2}\\right)} \\sin\\left(\\theta\\right)}$$"
      ],
      "text/plain": [
       "\\frac{a^{5} m \\cos\\left(\\theta\\right)^{5} - {\\left(3 \\, a^{5} m - 4 \\, a^{3} m^{2} r + 5 \\, a^{3} m r^{2}\\right)} \\cos\\left(\\theta\\right)^{3} + 3 \\, {\\left(3 \\, a^{3} m r^{2} - 4 \\, a m^{2} r^{3} + 2 \\, a m r^{4}\\right)} \\cos\\left(\\theta\\right)}{{\\left(a^{2} r^{6} - 2 \\, m r^{7} + r^{8} + {\\left(a^{8} - 2 \\, a^{6} m r + a^{6} r^{2}\\right)} \\cos\\left(\\theta\\right)^{6} + 3 \\, {\\left(a^{6} r^{2} - 2 \\, a^{4} m r^{3} + a^{4} r^{4}\\right)} \\cos\\left(\\theta\\right)^{4} + 3 \\, {\\left(a^{4} r^{4} - 2 \\, a^{2} m r^{5} + a^{2} r^{6}\\right)} \\cos\\left(\\theta\\right)^{2}\\right)} \\sin\\left(\\theta\\right)}"
      ]
     },
     "metadata": {},
     "output_type": "display_data"
    },
    {
     "name": "stdout",
     "output_type": "stream",
     "text": [
      "R_3213 = \n"
     ]
    },
    {
     "data": {
      "text/html": [
       "<html><script type=\"math/tex; mode=display\">\\newcommand{\\Bold}[1]{\\mathbf{#1}}\\frac{{\\left({\\left(3 \\, a^{6} m - 4 \\, a^{4} m^{2} r + 3 \\, a^{4} m r^{2}\\right)} \\cos\\left(\\theta\\right)^{3} - 3 \\, {\\left(3 \\, a^{4} m r^{2} - 4 \\, a^{2} m^{2} r^{3} + 3 \\, a^{2} m r^{4}\\right)} \\cos\\left(\\theta\\right)\\right)} \\sin\\left(\\theta\\right)}{a^{2} r^{6} - 2 \\, m r^{7} + r^{8} + {\\left(a^{8} - 2 \\, a^{6} m r + a^{6} r^{2}\\right)} \\cos\\left(\\theta\\right)^{6} + 3 \\, {\\left(a^{6} r^{2} - 2 \\, a^{4} m r^{3} + a^{4} r^{4}\\right)} \\cos\\left(\\theta\\right)^{4} + 3 \\, {\\left(a^{4} r^{4} - 2 \\, a^{2} m r^{5} + a^{2} r^{6}\\right)} \\cos\\left(\\theta\\right)^{2}}</script></html>"
      ],
      "text/latex": [
       "$$\\newcommand{\\Bold}[1]{\\mathbf{#1}}\\frac{{\\left({\\left(3 \\, a^{6} m - 4 \\, a^{4} m^{2} r + 3 \\, a^{4} m r^{2}\\right)} \\cos\\left(\\theta\\right)^{3} - 3 \\, {\\left(3 \\, a^{4} m r^{2} - 4 \\, a^{2} m^{2} r^{3} + 3 \\, a^{2} m r^{4}\\right)} \\cos\\left(\\theta\\right)\\right)} \\sin\\left(\\theta\\right)}{a^{2} r^{6} - 2 \\, m r^{7} + r^{8} + {\\left(a^{8} - 2 \\, a^{6} m r + a^{6} r^{2}\\right)} \\cos\\left(\\theta\\right)^{6} + 3 \\, {\\left(a^{6} r^{2} - 2 \\, a^{4} m r^{3} + a^{4} r^{4}\\right)} \\cos\\left(\\theta\\right)^{4} + 3 \\, {\\left(a^{4} r^{4} - 2 \\, a^{2} m r^{5} + a^{2} r^{6}\\right)} \\cos\\left(\\theta\\right)^{2}}$$"
      ],
      "text/plain": [
       "\\frac{{\\left({\\left(3 \\, a^{6} m - 4 \\, a^{4} m^{2} r + 3 \\, a^{4} m r^{2}\\right)} \\cos\\left(\\theta\\right)^{3} - 3 \\, {\\left(3 \\, a^{4} m r^{2} - 4 \\, a^{2} m^{2} r^{3} + 3 \\, a^{2} m r^{4}\\right)} \\cos\\left(\\theta\\right)\\right)} \\sin\\left(\\theta\\right)}{a^{2} r^{6} - 2 \\, m r^{7} + r^{8} + {\\left(a^{8} - 2 \\, a^{6} m r + a^{6} r^{2}\\right)} \\cos\\left(\\theta\\right)^{6} + 3 \\, {\\left(a^{6} r^{2} - 2 \\, a^{4} m r^{3} + a^{4} r^{4}\\right)} \\cos\\left(\\theta\\right)^{4} + 3 \\, {\\left(a^{4} r^{4} - 2 \\, a^{2} m r^{5} + a^{2} r^{6}\\right)} \\cos\\left(\\theta\\right)^{2}}"
      ]
     },
     "metadata": {},
     "output_type": "display_data"
    },
    {
     "name": "stdout",
     "output_type": "stream",
     "text": [
      "R_3220 = \n"
     ]
    },
    {
     "data": {
      "text/html": [
       "<html><script type=\"math/tex; mode=display\">\\newcommand{\\Bold}[1]{\\mathbf{#1}}-\\frac{3 \\, {\\left(3 \\, a^{3} m r \\cos\\left(\\theta\\right)^{2} - a m r^{3}\\right)}}{a^{6} \\cos\\left(\\theta\\right)^{6} + 3 \\, a^{4} r^{2} \\cos\\left(\\theta\\right)^{4} + 3 \\, a^{2} r^{4} \\cos\\left(\\theta\\right)^{2} + r^{6}}</script></html>"
      ],
      "text/latex": [
       "$$\\newcommand{\\Bold}[1]{\\mathbf{#1}}-\\frac{3 \\, {\\left(3 \\, a^{3} m r \\cos\\left(\\theta\\right)^{2} - a m r^{3}\\right)}}{a^{6} \\cos\\left(\\theta\\right)^{6} + 3 \\, a^{4} r^{2} \\cos\\left(\\theta\\right)^{4} + 3 \\, a^{2} r^{4} \\cos\\left(\\theta\\right)^{2} + r^{6}}$$"
      ],
      "text/plain": [
       "-\\frac{3 \\, {\\left(3 \\, a^{3} m r \\cos\\left(\\theta\\right)^{2} - a m r^{3}\\right)}}{a^{6} \\cos\\left(\\theta\\right)^{6} + 3 \\, a^{4} r^{2} \\cos\\left(\\theta\\right)^{4} + 3 \\, a^{2} r^{4} \\cos\\left(\\theta\\right)^{2} + r^{6}}"
      ]
     },
     "metadata": {},
     "output_type": "display_data"
    },
    {
     "name": "stdout",
     "output_type": "stream",
     "text": [
      "R_3223 = \n"
     ]
    },
    {
     "data": {
      "text/html": [
       "<html><script type=\"math/tex; mode=display\">\\newcommand{\\Bold}[1]{\\mathbf{#1}}-\\frac{3 \\, a^{4} m r \\cos\\left(\\theta\\right)^{4} + 3 \\, a^{2} m r^{3} + 2 \\, m r^{5} - {\\left(9 \\, a^{4} m r + 7 \\, a^{2} m r^{3}\\right)} \\cos\\left(\\theta\\right)^{2}}{a^{6} \\cos\\left(\\theta\\right)^{6} + 3 \\, a^{4} r^{2} \\cos\\left(\\theta\\right)^{4} + 3 \\, a^{2} r^{4} \\cos\\left(\\theta\\right)^{2} + r^{6}}</script></html>"
      ],
      "text/latex": [
       "$$\\newcommand{\\Bold}[1]{\\mathbf{#1}}-\\frac{3 \\, a^{4} m r \\cos\\left(\\theta\\right)^{4} + 3 \\, a^{2} m r^{3} + 2 \\, m r^{5} - {\\left(9 \\, a^{4} m r + 7 \\, a^{2} m r^{3}\\right)} \\cos\\left(\\theta\\right)^{2}}{a^{6} \\cos\\left(\\theta\\right)^{6} + 3 \\, a^{4} r^{2} \\cos\\left(\\theta\\right)^{4} + 3 \\, a^{2} r^{4} \\cos\\left(\\theta\\right)^{2} + r^{6}}$$"
      ],
      "text/plain": [
       "-\\frac{3 \\, a^{4} m r \\cos\\left(\\theta\\right)^{4} + 3 \\, a^{2} m r^{3} + 2 \\, m r^{5} - {\\left(9 \\, a^{4} m r + 7 \\, a^{2} m r^{3}\\right)} \\cos\\left(\\theta\\right)^{2}}{a^{6} \\cos\\left(\\theta\\right)^{6} + 3 \\, a^{4} r^{2} \\cos\\left(\\theta\\right)^{4} + 3 \\, a^{2} r^{4} \\cos\\left(\\theta\\right)^{2} + r^{6}}"
      ]
     },
     "metadata": {},
     "output_type": "display_data"
    },
    {
     "name": "stdout",
     "output_type": "stream",
     "text": [
      "R_3231 = \n"
     ]
    },
    {
     "data": {
      "text/html": [
       "<html><script type=\"math/tex; mode=display\">\\newcommand{\\Bold}[1]{\\mathbf{#1}}-\\frac{{\\left({\\left(3 \\, a^{6} m - 4 \\, a^{4} m^{2} r + 3 \\, a^{4} m r^{2}\\right)} \\cos\\left(\\theta\\right)^{3} - 3 \\, {\\left(3 \\, a^{4} m r^{2} - 4 \\, a^{2} m^{2} r^{3} + 3 \\, a^{2} m r^{4}\\right)} \\cos\\left(\\theta\\right)\\right)} \\sin\\left(\\theta\\right)}{a^{2} r^{6} - 2 \\, m r^{7} + r^{8} + {\\left(a^{8} - 2 \\, a^{6} m r + a^{6} r^{2}\\right)} \\cos\\left(\\theta\\right)^{6} + 3 \\, {\\left(a^{6} r^{2} - 2 \\, a^{4} m r^{3} + a^{4} r^{4}\\right)} \\cos\\left(\\theta\\right)^{4} + 3 \\, {\\left(a^{4} r^{4} - 2 \\, a^{2} m r^{5} + a^{2} r^{6}\\right)} \\cos\\left(\\theta\\right)^{2}}</script></html>"
      ],
      "text/latex": [
       "$$\\newcommand{\\Bold}[1]{\\mathbf{#1}}-\\frac{{\\left({\\left(3 \\, a^{6} m - 4 \\, a^{4} m^{2} r + 3 \\, a^{4} m r^{2}\\right)} \\cos\\left(\\theta\\right)^{3} - 3 \\, {\\left(3 \\, a^{4} m r^{2} - 4 \\, a^{2} m^{2} r^{3} + 3 \\, a^{2} m r^{4}\\right)} \\cos\\left(\\theta\\right)\\right)} \\sin\\left(\\theta\\right)}{a^{2} r^{6} - 2 \\, m r^{7} + r^{8} + {\\left(a^{8} - 2 \\, a^{6} m r + a^{6} r^{2}\\right)} \\cos\\left(\\theta\\right)^{6} + 3 \\, {\\left(a^{6} r^{2} - 2 \\, a^{4} m r^{3} + a^{4} r^{4}\\right)} \\cos\\left(\\theta\\right)^{4} + 3 \\, {\\left(a^{4} r^{4} - 2 \\, a^{2} m r^{5} + a^{2} r^{6}\\right)} \\cos\\left(\\theta\\right)^{2}}$$"
      ],
      "text/plain": [
       "-\\frac{{\\left({\\left(3 \\, a^{6} m - 4 \\, a^{4} m^{2} r + 3 \\, a^{4} m r^{2}\\right)} \\cos\\left(\\theta\\right)^{3} - 3 \\, {\\left(3 \\, a^{4} m r^{2} - 4 \\, a^{2} m^{2} r^{3} + 3 \\, a^{2} m r^{4}\\right)} \\cos\\left(\\theta\\right)\\right)} \\sin\\left(\\theta\\right)}{a^{2} r^{6} - 2 \\, m r^{7} + r^{8} + {\\left(a^{8} - 2 \\, a^{6} m r + a^{6} r^{2}\\right)} \\cos\\left(\\theta\\right)^{6} + 3 \\, {\\left(a^{6} r^{2} - 2 \\, a^{4} m r^{3} + a^{4} r^{4}\\right)} \\cos\\left(\\theta\\right)^{4} + 3 \\, {\\left(a^{4} r^{4} - 2 \\, a^{2} m r^{5} + a^{2} r^{6}\\right)} \\cos\\left(\\theta\\right)^{2}}"
      ]
     },
     "metadata": {},
     "output_type": "display_data"
    },
    {
     "name": "stdout",
     "output_type": "stream",
     "text": [
      "R_3232 = \n"
     ]
    },
    {
     "data": {
      "text/html": [
       "<html><script type=\"math/tex; mode=display\">\\newcommand{\\Bold}[1]{\\mathbf{#1}}\\frac{3 \\, a^{4} m r \\cos\\left(\\theta\\right)^{4} + 3 \\, a^{2} m r^{3} + 2 \\, m r^{5} - {\\left(9 \\, a^{4} m r + 7 \\, a^{2} m r^{3}\\right)} \\cos\\left(\\theta\\right)^{2}}{a^{6} \\cos\\left(\\theta\\right)^{6} + 3 \\, a^{4} r^{2} \\cos\\left(\\theta\\right)^{4} + 3 \\, a^{2} r^{4} \\cos\\left(\\theta\\right)^{2} + r^{6}}</script></html>"
      ],
      "text/latex": [
       "$$\\newcommand{\\Bold}[1]{\\mathbf{#1}}\\frac{3 \\, a^{4} m r \\cos\\left(\\theta\\right)^{4} + 3 \\, a^{2} m r^{3} + 2 \\, m r^{5} - {\\left(9 \\, a^{4} m r + 7 \\, a^{2} m r^{3}\\right)} \\cos\\left(\\theta\\right)^{2}}{a^{6} \\cos\\left(\\theta\\right)^{6} + 3 \\, a^{4} r^{2} \\cos\\left(\\theta\\right)^{4} + 3 \\, a^{2} r^{4} \\cos\\left(\\theta\\right)^{2} + r^{6}}$$"
      ],
      "text/plain": [
       "\\frac{3 \\, a^{4} m r \\cos\\left(\\theta\\right)^{4} + 3 \\, a^{2} m r^{3} + 2 \\, m r^{5} - {\\left(9 \\, a^{4} m r + 7 \\, a^{2} m r^{3}\\right)} \\cos\\left(\\theta\\right)^{2}}{a^{6} \\cos\\left(\\theta\\right)^{6} + 3 \\, a^{4} r^{2} \\cos\\left(\\theta\\right)^{4} + 3 \\, a^{2} r^{4} \\cos\\left(\\theta\\right)^{2} + r^{6}}"
      ]
     },
     "metadata": {},
     "output_type": "display_data"
    },
    {
     "name": "stdout",
     "output_type": "stream",
     "text": [
      "R_3303 = \n"
     ]
    },
    {
     "data": {
      "text/html": [
       "<html><script type=\"math/tex; mode=display\">\\newcommand{\\Bold}[1]{\\mathbf{#1}}-\\frac{2 \\, {\\left(3 \\, a^{3} m^{2} r^{2} \\cos\\left(\\theta\\right)^{4} + a m^{2} r^{4} - {\\left(3 \\, a^{3} m^{2} r^{2} + a m^{2} r^{4}\\right)} \\cos\\left(\\theta\\right)^{2}\\right)}}{a^{8} \\cos\\left(\\theta\\right)^{8} + 4 \\, a^{6} r^{2} \\cos\\left(\\theta\\right)^{6} + 6 \\, a^{4} r^{4} \\cos\\left(\\theta\\right)^{4} + 4 \\, a^{2} r^{6} \\cos\\left(\\theta\\right)^{2} + r^{8}}</script></html>"
      ],
      "text/latex": [
       "$$\\newcommand{\\Bold}[1]{\\mathbf{#1}}-\\frac{2 \\, {\\left(3 \\, a^{3} m^{2} r^{2} \\cos\\left(\\theta\\right)^{4} + a m^{2} r^{4} - {\\left(3 \\, a^{3} m^{2} r^{2} + a m^{2} r^{4}\\right)} \\cos\\left(\\theta\\right)^{2}\\right)}}{a^{8} \\cos\\left(\\theta\\right)^{8} + 4 \\, a^{6} r^{2} \\cos\\left(\\theta\\right)^{6} + 6 \\, a^{4} r^{4} \\cos\\left(\\theta\\right)^{4} + 4 \\, a^{2} r^{6} \\cos\\left(\\theta\\right)^{2} + r^{8}}$$"
      ],
      "text/plain": [
       "-\\frac{2 \\, {\\left(3 \\, a^{3} m^{2} r^{2} \\cos\\left(\\theta\\right)^{4} + a m^{2} r^{4} - {\\left(3 \\, a^{3} m^{2} r^{2} + a m^{2} r^{4}\\right)} \\cos\\left(\\theta\\right)^{2}\\right)}}{a^{8} \\cos\\left(\\theta\\right)^{8} + 4 \\, a^{6} r^{2} \\cos\\left(\\theta\\right)^{6} + 6 \\, a^{4} r^{4} \\cos\\left(\\theta\\right)^{4} + 4 \\, a^{2} r^{6} \\cos\\left(\\theta\\right)^{2} + r^{8}}"
      ]
     },
     "metadata": {},
     "output_type": "display_data"
    },
    {
     "name": "stdout",
     "output_type": "stream",
     "text": [
      "R_3312 = \n"
     ]
    },
    {
     "data": {
      "text/html": [
       "<html><script type=\"math/tex; mode=display\">\\newcommand{\\Bold}[1]{\\mathbf{#1}}-\\frac{2 \\, {\\left(a^{4} m^{2} r \\cos\\left(\\theta\\right)^{3} - 3 \\, a^{2} m^{2} r^{3} \\cos\\left(\\theta\\right)\\right)} \\sin\\left(\\theta\\right)}{a^{2} r^{6} - 2 \\, m r^{7} + r^{8} + {\\left(a^{8} - 2 \\, a^{6} m r + a^{6} r^{2}\\right)} \\cos\\left(\\theta\\right)^{6} + 3 \\, {\\left(a^{6} r^{2} - 2 \\, a^{4} m r^{3} + a^{4} r^{4}\\right)} \\cos\\left(\\theta\\right)^{4} + 3 \\, {\\left(a^{4} r^{4} - 2 \\, a^{2} m r^{5} + a^{2} r^{6}\\right)} \\cos\\left(\\theta\\right)^{2}}</script></html>"
      ],
      "text/latex": [
       "$$\\newcommand{\\Bold}[1]{\\mathbf{#1}}-\\frac{2 \\, {\\left(a^{4} m^{2} r \\cos\\left(\\theta\\right)^{3} - 3 \\, a^{2} m^{2} r^{3} \\cos\\left(\\theta\\right)\\right)} \\sin\\left(\\theta\\right)}{a^{2} r^{6} - 2 \\, m r^{7} + r^{8} + {\\left(a^{8} - 2 \\, a^{6} m r + a^{6} r^{2}\\right)} \\cos\\left(\\theta\\right)^{6} + 3 \\, {\\left(a^{6} r^{2} - 2 \\, a^{4} m r^{3} + a^{4} r^{4}\\right)} \\cos\\left(\\theta\\right)^{4} + 3 \\, {\\left(a^{4} r^{4} - 2 \\, a^{2} m r^{5} + a^{2} r^{6}\\right)} \\cos\\left(\\theta\\right)^{2}}$$"
      ],
      "text/plain": [
       "-\\frac{2 \\, {\\left(a^{4} m^{2} r \\cos\\left(\\theta\\right)^{3} - 3 \\, a^{2} m^{2} r^{3} \\cos\\left(\\theta\\right)\\right)} \\sin\\left(\\theta\\right)}{a^{2} r^{6} - 2 \\, m r^{7} + r^{8} + {\\left(a^{8} - 2 \\, a^{6} m r + a^{6} r^{2}\\right)} \\cos\\left(\\theta\\right)^{6} + 3 \\, {\\left(a^{6} r^{2} - 2 \\, a^{4} m r^{3} + a^{4} r^{4}\\right)} \\cos\\left(\\theta\\right)^{4} + 3 \\, {\\left(a^{4} r^{4} - 2 \\, a^{2} m r^{5} + a^{2} r^{6}\\right)} \\cos\\left(\\theta\\right)^{2}}"
      ]
     },
     "metadata": {},
     "output_type": "display_data"
    },
    {
     "name": "stdout",
     "output_type": "stream",
     "text": [
      "R_3321 = \n"
     ]
    },
    {
     "data": {
      "text/html": [
       "<html><script type=\"math/tex; mode=display\">\\newcommand{\\Bold}[1]{\\mathbf{#1}}\\frac{2 \\, {\\left(a^{4} m^{2} r \\cos\\left(\\theta\\right)^{3} - 3 \\, a^{2} m^{2} r^{3} \\cos\\left(\\theta\\right)\\right)} \\sin\\left(\\theta\\right)}{a^{2} r^{6} - 2 \\, m r^{7} + r^{8} + {\\left(a^{8} - 2 \\, a^{6} m r + a^{6} r^{2}\\right)} \\cos\\left(\\theta\\right)^{6} + 3 \\, {\\left(a^{6} r^{2} - 2 \\, a^{4} m r^{3} + a^{4} r^{4}\\right)} \\cos\\left(\\theta\\right)^{4} + 3 \\, {\\left(a^{4} r^{4} - 2 \\, a^{2} m r^{5} + a^{2} r^{6}\\right)} \\cos\\left(\\theta\\right)^{2}}</script></html>"
      ],
      "text/latex": [
       "$$\\newcommand{\\Bold}[1]{\\mathbf{#1}}\\frac{2 \\, {\\left(a^{4} m^{2} r \\cos\\left(\\theta\\right)^{3} - 3 \\, a^{2} m^{2} r^{3} \\cos\\left(\\theta\\right)\\right)} \\sin\\left(\\theta\\right)}{a^{2} r^{6} - 2 \\, m r^{7} + r^{8} + {\\left(a^{8} - 2 \\, a^{6} m r + a^{6} r^{2}\\right)} \\cos\\left(\\theta\\right)^{6} + 3 \\, {\\left(a^{6} r^{2} - 2 \\, a^{4} m r^{3} + a^{4} r^{4}\\right)} \\cos\\left(\\theta\\right)^{4} + 3 \\, {\\left(a^{4} r^{4} - 2 \\, a^{2} m r^{5} + a^{2} r^{6}\\right)} \\cos\\left(\\theta\\right)^{2}}$$"
      ],
      "text/plain": [
       "\\frac{2 \\, {\\left(a^{4} m^{2} r \\cos\\left(\\theta\\right)^{3} - 3 \\, a^{2} m^{2} r^{3} \\cos\\left(\\theta\\right)\\right)} \\sin\\left(\\theta\\right)}{a^{2} r^{6} - 2 \\, m r^{7} + r^{8} + {\\left(a^{8} - 2 \\, a^{6} m r + a^{6} r^{2}\\right)} \\cos\\left(\\theta\\right)^{6} + 3 \\, {\\left(a^{6} r^{2} - 2 \\, a^{4} m r^{3} + a^{4} r^{4}\\right)} \\cos\\left(\\theta\\right)^{4} + 3 \\, {\\left(a^{4} r^{4} - 2 \\, a^{2} m r^{5} + a^{2} r^{6}\\right)} \\cos\\left(\\theta\\right)^{2}}"
      ]
     },
     "metadata": {},
     "output_type": "display_data"
    },
    {
     "name": "stdout",
     "output_type": "stream",
     "text": [
      "R_3330 = \n"
     ]
    },
    {
     "data": {
      "text/html": [
       "<html><script type=\"math/tex; mode=display\">\\newcommand{\\Bold}[1]{\\mathbf{#1}}\\frac{2 \\, {\\left(3 \\, a^{3} m^{2} r^{2} \\cos\\left(\\theta\\right)^{4} + a m^{2} r^{4} - {\\left(3 \\, a^{3} m^{2} r^{2} + a m^{2} r^{4}\\right)} \\cos\\left(\\theta\\right)^{2}\\right)}}{a^{8} \\cos\\left(\\theta\\right)^{8} + 4 \\, a^{6} r^{2} \\cos\\left(\\theta\\right)^{6} + 6 \\, a^{4} r^{4} \\cos\\left(\\theta\\right)^{4} + 4 \\, a^{2} r^{6} \\cos\\left(\\theta\\right)^{2} + r^{8}}</script></html>"
      ],
      "text/latex": [
       "$$\\newcommand{\\Bold}[1]{\\mathbf{#1}}\\frac{2 \\, {\\left(3 \\, a^{3} m^{2} r^{2} \\cos\\left(\\theta\\right)^{4} + a m^{2} r^{4} - {\\left(3 \\, a^{3} m^{2} r^{2} + a m^{2} r^{4}\\right)} \\cos\\left(\\theta\\right)^{2}\\right)}}{a^{8} \\cos\\left(\\theta\\right)^{8} + 4 \\, a^{6} r^{2} \\cos\\left(\\theta\\right)^{6} + 6 \\, a^{4} r^{4} \\cos\\left(\\theta\\right)^{4} + 4 \\, a^{2} r^{6} \\cos\\left(\\theta\\right)^{2} + r^{8}}$$"
      ],
      "text/plain": [
       "\\frac{2 \\, {\\left(3 \\, a^{3} m^{2} r^{2} \\cos\\left(\\theta\\right)^{4} + a m^{2} r^{4} - {\\left(3 \\, a^{3} m^{2} r^{2} + a m^{2} r^{4}\\right)} \\cos\\left(\\theta\\right)^{2}\\right)}}{a^{8} \\cos\\left(\\theta\\right)^{8} + 4 \\, a^{6} r^{2} \\cos\\left(\\theta\\right)^{6} + 6 \\, a^{4} r^{4} \\cos\\left(\\theta\\right)^{4} + 4 \\, a^{2} r^{6} \\cos\\left(\\theta\\right)^{2} + r^{8}}"
      ]
     },
     "metadata": {},
     "output_type": "display_data"
    }
   ],
   "source": [
    "#Riemann tensor\n",
    "Riemann_kerr=g_kerr.riemann()\n",
    "  \n",
    "for i in range(4):\n",
    "    for j in range(4):\n",
    "        for k in range(4):\n",
    "            for l in range(4):\n",
    "                x= Riemann_kerr[i,j,k,l]\n",
    "                if x != 0:\n",
    "                    print(f\"R_{i}{j}{k}{l} = \")\n",
    "                    show(latex(x))\n",
    "                    "
   ]
  },
  {
   "cell_type": "code",
   "execution_count": 32,
   "id": "6a3b1a42",
   "metadata": {},
   "outputs": [
    {
     "data": {
      "text/html": [
       "<html><script type=\"math/tex; mode=display\">\\newcommand{\\Bold}[1]{\\mathbf{#1}}\\left(\\begin{array}{rrrr}\n",
       "0 & 0 & 0 & 0 \\\\\n",
       "0 & 0 & 0 & 0 \\\\\n",
       "0 & 0 & 0 & 0 \\\\\n",
       "0 & 0 & 0 & 0\n",
       "\\end{array}\\right)</script></html>"
      ],
      "text/latex": [
       "$$\\newcommand{\\Bold}[1]{\\mathbf{#1}}\\left(\\begin{array}{rrrr}\n",
       "0 & 0 & 0 & 0 \\\\\n",
       "0 & 0 & 0 & 0 \\\\\n",
       "0 & 0 & 0 & 0 \\\\\n",
       "0 & 0 & 0 & 0\n",
       "\\end{array}\\right)$$"
      ],
      "text/plain": [
       "\\left(\\begin{array}{rrrr}\n",
       "0 & 0 & 0 & 0 \\\\\n",
       "0 & 0 & 0 & 0 \\\\\n",
       "0 & 0 & 0 & 0 \\\\\n",
       "0 & 0 & 0 & 0\n",
       "\\end{array}\\right)"
      ]
     },
     "metadata": {},
     "output_type": "display_data"
    }
   ],
   "source": [
    "#Ricci tensor\n",
    "Ricci_kerr=g_kerr.ricci()\n",
    "Ricci_kerr.display()\n",
    "show(latex(Ricci_kerr[:]))"
   ]
  },
  {
   "cell_type": "code",
   "execution_count": 33,
   "id": "98785400",
   "metadata": {},
   "outputs": [
    {
     "data": {
      "text/html": [
       "<html><script type=\"math/tex; mode=display\">\\newcommand{\\Bold}[1]{\\mathbf{#1}}\\mathrm{Ric}\\left(g\\right) = 0</script></html>"
      ],
      "text/latex": [
       "$$\\newcommand{\\Bold}[1]{\\mathbf{#1}}\\mathrm{Ric}\\left(g\\right) = 0$$"
      ],
      "text/plain": [
       "\\mathrm{Ric}\\left(g\\right) = 0"
      ]
     },
     "metadata": {},
     "output_type": "display_data"
    }
   ],
   "source": [
    "#other way\n",
    "nabla=g_kerr.connection()\n",
    "Ric_kerr=nabla.ricci()\n",
    "show(latex(Ric_kerr.display()))"
   ]
  },
  {
   "cell_type": "code",
   "execution_count": 37,
   "id": "611a0a0b",
   "metadata": {},
   "outputs": [
    {
     "data": {
      "text/html": [
       "<html><script type=\"math/tex; mode=display\">\\newcommand{\\Bold}[1]{\\mathbf{#1}}\\begin{array}{llcl} \\mathrm{d}0\\left( \\frac{\\partial}{\\partial \\theta } \\right) : & M & \\longrightarrow & \\mathbb{R} \\\\ & \\left(t, r, \\theta, \\phi\\right) & \\longmapsto & 0 \\end{array}</script></html>"
      ],
      "text/latex": [
       "$$\\newcommand{\\Bold}[1]{\\mathbf{#1}}\\begin{array}{llcl} \\mathrm{d}0\\left( \\frac{\\partial}{\\partial \\theta } \\right) : & M & \\longrightarrow & \\mathbb{R} \\\\ & \\left(t, r, \\theta, \\phi\\right) & \\longmapsto & 0 \\end{array}$$"
      ],
      "text/plain": [
       "\\begin{array}{llcl} \\mathrm{d}0\\left( \\frac{\\partial}{\\partial \\theta } \\right) : & M & \\longrightarrow & \\mathbb{R} \\\\ & \\left(t, r, \\theta, \\phi\\right) & \\longmapsto & 0 \\end{array}"
      ]
     },
     "metadata": {},
     "output_type": "display_data"
    }
   ],
   "source": [
    "#Ricci scalar\n",
    "Rickerr_up = Ric_kerr.up(g_kerr, 0)  # Raise the first index for contraction\n",
    "R_kerr = Rickerr_up.trace()\n",
    "show(latex(R_kerr.display()))"
   ]
  },
  {
   "cell_type": "code",
   "execution_count": 42,
   "id": "efa940ad",
   "metadata": {},
   "outputs": [
    {
     "name": "stdout",
     "output_type": "stream",
     "text": [
      "R_0003 = \n"
     ]
    },
    {
     "data": {
      "text/html": [
       "<html><script type=\"math/tex; mode=display\">\\newcommand{\\Bold}[1]{\\mathbf{#1}}0</script></html>"
      ],
      "text/latex": [
       "$$\\newcommand{\\Bold}[1]{\\mathbf{#1}}0$$"
      ],
      "text/plain": [
       "0"
      ]
     },
     "metadata": {},
     "output_type": "display_data"
    },
    {
     "name": "stdout",
     "output_type": "stream",
     "text": [
      "R_0012 = \n"
     ]
    },
    {
     "data": {
      "text/html": [
       "<html><script type=\"math/tex; mode=display\">\\newcommand{\\Bold}[1]{\\mathbf{#1}}0</script></html>"
      ],
      "text/latex": [
       "$$\\newcommand{\\Bold}[1]{\\mathbf{#1}}0$$"
      ],
      "text/plain": [
       "0"
      ]
     },
     "metadata": {},
     "output_type": "display_data"
    },
    {
     "name": "stdout",
     "output_type": "stream",
     "text": [
      "R_0021 = \n"
     ]
    },
    {
     "data": {
      "text/html": [
       "<html><script type=\"math/tex; mode=display\">\\newcommand{\\Bold}[1]{\\mathbf{#1}}0</script></html>"
      ],
      "text/latex": [
       "$$\\newcommand{\\Bold}[1]{\\mathbf{#1}}0$$"
      ],
      "text/plain": [
       "0"
      ]
     },
     "metadata": {},
     "output_type": "display_data"
    },
    {
     "name": "stdout",
     "output_type": "stream",
     "text": [
      "R_0030 = \n"
     ]
    },
    {
     "data": {
      "text/html": [
       "<html><script type=\"math/tex; mode=display\">\\newcommand{\\Bold}[1]{\\mathbf{#1}}0</script></html>"
      ],
      "text/latex": [
       "$$\\newcommand{\\Bold}[1]{\\mathbf{#1}}0$$"
      ],
      "text/plain": [
       "0"
      ]
     },
     "metadata": {},
     "output_type": "display_data"
    },
    {
     "name": "stdout",
     "output_type": "stream",
     "text": [
      "R_0101 = \n"
     ]
    },
    {
     "data": {
      "text/html": [
       "<html><script type=\"math/tex; mode=display\">\\newcommand{\\Bold}[1]{\\mathbf{#1}}0</script></html>"
      ],
      "text/latex": [
       "$$\\newcommand{\\Bold}[1]{\\mathbf{#1}}0$$"
      ],
      "text/plain": [
       "0"
      ]
     },
     "metadata": {},
     "output_type": "display_data"
    },
    {
     "name": "stdout",
     "output_type": "stream",
     "text": [
      "R_0102 = \n"
     ]
    },
    {
     "data": {
      "text/html": [
       "<html><script type=\"math/tex; mode=display\">\\newcommand{\\Bold}[1]{\\mathbf{#1}}0</script></html>"
      ],
      "text/latex": [
       "$$\\newcommand{\\Bold}[1]{\\mathbf{#1}}0$$"
      ],
      "text/plain": [
       "0"
      ]
     },
     "metadata": {},
     "output_type": "display_data"
    },
    {
     "name": "stdout",
     "output_type": "stream",
     "text": [
      "R_0110 = \n"
     ]
    },
    {
     "data": {
      "text/html": [
       "<html><script type=\"math/tex; mode=display\">\\newcommand{\\Bold}[1]{\\mathbf{#1}}0</script></html>"
      ],
      "text/latex": [
       "$$\\newcommand{\\Bold}[1]{\\mathbf{#1}}0$$"
      ],
      "text/plain": [
       "0"
      ]
     },
     "metadata": {},
     "output_type": "display_data"
    },
    {
     "name": "stdout",
     "output_type": "stream",
     "text": [
      "R_0113 = \n"
     ]
    },
    {
     "data": {
      "text/html": [
       "<html><script type=\"math/tex; mode=display\">\\newcommand{\\Bold}[1]{\\mathbf{#1}}0</script></html>"
      ],
      "text/latex": [
       "$$\\newcommand{\\Bold}[1]{\\mathbf{#1}}0$$"
      ],
      "text/plain": [
       "0"
      ]
     },
     "metadata": {},
     "output_type": "display_data"
    },
    {
     "name": "stdout",
     "output_type": "stream",
     "text": [
      "R_0120 = \n"
     ]
    },
    {
     "data": {
      "text/html": [
       "<html><script type=\"math/tex; mode=display\">\\newcommand{\\Bold}[1]{\\mathbf{#1}}0</script></html>"
      ],
      "text/latex": [
       "$$\\newcommand{\\Bold}[1]{\\mathbf{#1}}0$$"
      ],
      "text/plain": [
       "0"
      ]
     },
     "metadata": {},
     "output_type": "display_data"
    },
    {
     "name": "stdout",
     "output_type": "stream",
     "text": [
      "R_0123 = \n"
     ]
    },
    {
     "data": {
      "text/html": [
       "<html><script type=\"math/tex; mode=display\">\\newcommand{\\Bold}[1]{\\mathbf{#1}}0</script></html>"
      ],
      "text/latex": [
       "$$\\newcommand{\\Bold}[1]{\\mathbf{#1}}0$$"
      ],
      "text/plain": [
       "0"
      ]
     },
     "metadata": {},
     "output_type": "display_data"
    },
    {
     "name": "stdout",
     "output_type": "stream",
     "text": [
      "R_0131 = \n"
     ]
    },
    {
     "data": {
      "text/html": [
       "<html><script type=\"math/tex; mode=display\">\\newcommand{\\Bold}[1]{\\mathbf{#1}}0</script></html>"
      ],
      "text/latex": [
       "$$\\newcommand{\\Bold}[1]{\\mathbf{#1}}0$$"
      ],
      "text/plain": [
       "0"
      ]
     },
     "metadata": {},
     "output_type": "display_data"
    },
    {
     "name": "stdout",
     "output_type": "stream",
     "text": [
      "R_0132 = \n"
     ]
    },
    {
     "data": {
      "text/html": [
       "<html><script type=\"math/tex; mode=display\">\\newcommand{\\Bold}[1]{\\mathbf{#1}}0</script></html>"
      ],
      "text/latex": [
       "$$\\newcommand{\\Bold}[1]{\\mathbf{#1}}0$$"
      ],
      "text/plain": [
       "0"
      ]
     },
     "metadata": {},
     "output_type": "display_data"
    },
    {
     "name": "stdout",
     "output_type": "stream",
     "text": [
      "R_0201 = \n"
     ]
    },
    {
     "data": {
      "text/html": [
       "<html><script type=\"math/tex; mode=display\">\\newcommand{\\Bold}[1]{\\mathbf{#1}}0</script></html>"
      ],
      "text/latex": [
       "$$\\newcommand{\\Bold}[1]{\\mathbf{#1}}0$$"
      ],
      "text/plain": [
       "0"
      ]
     },
     "metadata": {},
     "output_type": "display_data"
    },
    {
     "name": "stdout",
     "output_type": "stream",
     "text": [
      "R_0202 = \n"
     ]
    },
    {
     "data": {
      "text/html": [
       "<html><script type=\"math/tex; mode=display\">\\newcommand{\\Bold}[1]{\\mathbf{#1}}0</script></html>"
      ],
      "text/latex": [
       "$$\\newcommand{\\Bold}[1]{\\mathbf{#1}}0$$"
      ],
      "text/plain": [
       "0"
      ]
     },
     "metadata": {},
     "output_type": "display_data"
    },
    {
     "name": "stdout",
     "output_type": "stream",
     "text": [
      "R_0210 = \n"
     ]
    },
    {
     "data": {
      "text/html": [
       "<html><script type=\"math/tex; mode=display\">\\newcommand{\\Bold}[1]{\\mathbf{#1}}0</script></html>"
      ],
      "text/latex": [
       "$$\\newcommand{\\Bold}[1]{\\mathbf{#1}}0$$"
      ],
      "text/plain": [
       "0"
      ]
     },
     "metadata": {},
     "output_type": "display_data"
    },
    {
     "name": "stdout",
     "output_type": "stream",
     "text": [
      "R_0213 = \n"
     ]
    },
    {
     "data": {
      "text/html": [
       "<html><script type=\"math/tex; mode=display\">\\newcommand{\\Bold}[1]{\\mathbf{#1}}0</script></html>"
      ],
      "text/latex": [
       "$$\\newcommand{\\Bold}[1]{\\mathbf{#1}}0$$"
      ],
      "text/plain": [
       "0"
      ]
     },
     "metadata": {},
     "output_type": "display_data"
    },
    {
     "name": "stdout",
     "output_type": "stream",
     "text": [
      "R_0220 = \n"
     ]
    },
    {
     "data": {
      "text/html": [
       "<html><script type=\"math/tex; mode=display\">\\newcommand{\\Bold}[1]{\\mathbf{#1}}0</script></html>"
      ],
      "text/latex": [
       "$$\\newcommand{\\Bold}[1]{\\mathbf{#1}}0$$"
      ],
      "text/plain": [
       "0"
      ]
     },
     "metadata": {},
     "output_type": "display_data"
    },
    {
     "name": "stdout",
     "output_type": "stream",
     "text": [
      "R_0223 = \n"
     ]
    },
    {
     "data": {
      "text/html": [
       "<html><script type=\"math/tex; mode=display\">\\newcommand{\\Bold}[1]{\\mathbf{#1}}0</script></html>"
      ],
      "text/latex": [
       "$$\\newcommand{\\Bold}[1]{\\mathbf{#1}}0$$"
      ],
      "text/plain": [
       "0"
      ]
     },
     "metadata": {},
     "output_type": "display_data"
    },
    {
     "name": "stdout",
     "output_type": "stream",
     "text": [
      "R_0231 = \n"
     ]
    },
    {
     "data": {
      "text/html": [
       "<html><script type=\"math/tex; mode=display\">\\newcommand{\\Bold}[1]{\\mathbf{#1}}0</script></html>"
      ],
      "text/latex": [
       "$$\\newcommand{\\Bold}[1]{\\mathbf{#1}}0$$"
      ],
      "text/plain": [
       "0"
      ]
     },
     "metadata": {},
     "output_type": "display_data"
    },
    {
     "name": "stdout",
     "output_type": "stream",
     "text": [
      "R_0232 = \n"
     ]
    },
    {
     "data": {
      "text/html": [
       "<html><script type=\"math/tex; mode=display\">\\newcommand{\\Bold}[1]{\\mathbf{#1}}0</script></html>"
      ],
      "text/latex": [
       "$$\\newcommand{\\Bold}[1]{\\mathbf{#1}}0$$"
      ],
      "text/plain": [
       "0"
      ]
     },
     "metadata": {},
     "output_type": "display_data"
    },
    {
     "name": "stdout",
     "output_type": "stream",
     "text": [
      "R_0303 = \n"
     ]
    },
    {
     "data": {
      "text/html": [
       "<html><script type=\"math/tex; mode=display\">\\newcommand{\\Bold}[1]{\\mathbf{#1}}0</script></html>"
      ],
      "text/latex": [
       "$$\\newcommand{\\Bold}[1]{\\mathbf{#1}}0$$"
      ],
      "text/plain": [
       "0"
      ]
     },
     "metadata": {},
     "output_type": "display_data"
    },
    {
     "name": "stdout",
     "output_type": "stream",
     "text": [
      "R_0312 = \n"
     ]
    },
    {
     "data": {
      "text/html": [
       "<html><script type=\"math/tex; mode=display\">\\newcommand{\\Bold}[1]{\\mathbf{#1}}0</script></html>"
      ],
      "text/latex": [
       "$$\\newcommand{\\Bold}[1]{\\mathbf{#1}}0$$"
      ],
      "text/plain": [
       "0"
      ]
     },
     "metadata": {},
     "output_type": "display_data"
    },
    {
     "name": "stdout",
     "output_type": "stream",
     "text": [
      "R_0321 = \n"
     ]
    },
    {
     "data": {
      "text/html": [
       "<html><script type=\"math/tex; mode=display\">\\newcommand{\\Bold}[1]{\\mathbf{#1}}0</script></html>"
      ],
      "text/latex": [
       "$$\\newcommand{\\Bold}[1]{\\mathbf{#1}}0$$"
      ],
      "text/plain": [
       "0"
      ]
     },
     "metadata": {},
     "output_type": "display_data"
    },
    {
     "name": "stdout",
     "output_type": "stream",
     "text": [
      "R_0330 = \n"
     ]
    },
    {
     "data": {
      "text/html": [
       "<html><script type=\"math/tex; mode=display\">\\newcommand{\\Bold}[1]{\\mathbf{#1}}0</script></html>"
      ],
      "text/latex": [
       "$$\\newcommand{\\Bold}[1]{\\mathbf{#1}}0$$"
      ],
      "text/plain": [
       "0"
      ]
     },
     "metadata": {},
     "output_type": "display_data"
    },
    {
     "name": "stdout",
     "output_type": "stream",
     "text": [
      "R_1001 = \n"
     ]
    },
    {
     "data": {
      "text/html": [
       "<html><script type=\"math/tex; mode=display\">\\newcommand{\\Bold}[1]{\\mathbf{#1}}0</script></html>"
      ],
      "text/latex": [
       "$$\\newcommand{\\Bold}[1]{\\mathbf{#1}}0$$"
      ],
      "text/plain": [
       "0"
      ]
     },
     "metadata": {},
     "output_type": "display_data"
    },
    {
     "name": "stdout",
     "output_type": "stream",
     "text": [
      "R_1002 = \n"
     ]
    },
    {
     "data": {
      "text/html": [
       "<html><script type=\"math/tex; mode=display\">\\newcommand{\\Bold}[1]{\\mathbf{#1}}0</script></html>"
      ],
      "text/latex": [
       "$$\\newcommand{\\Bold}[1]{\\mathbf{#1}}0$$"
      ],
      "text/plain": [
       "0"
      ]
     },
     "metadata": {},
     "output_type": "display_data"
    },
    {
     "name": "stdout",
     "output_type": "stream",
     "text": [
      "R_1010 = \n"
     ]
    },
    {
     "data": {
      "text/html": [
       "<html><script type=\"math/tex; mode=display\">\\newcommand{\\Bold}[1]{\\mathbf{#1}}0</script></html>"
      ],
      "text/latex": [
       "$$\\newcommand{\\Bold}[1]{\\mathbf{#1}}0$$"
      ],
      "text/plain": [
       "0"
      ]
     },
     "metadata": {},
     "output_type": "display_data"
    },
    {
     "name": "stdout",
     "output_type": "stream",
     "text": [
      "R_1013 = \n"
     ]
    },
    {
     "data": {
      "text/html": [
       "<html><script type=\"math/tex; mode=display\">\\newcommand{\\Bold}[1]{\\mathbf{#1}}0</script></html>"
      ],
      "text/latex": [
       "$$\\newcommand{\\Bold}[1]{\\mathbf{#1}}0$$"
      ],
      "text/plain": [
       "0"
      ]
     },
     "metadata": {},
     "output_type": "display_data"
    },
    {
     "name": "stdout",
     "output_type": "stream",
     "text": [
      "R_1020 = \n"
     ]
    },
    {
     "data": {
      "text/html": [
       "<html><script type=\"math/tex; mode=display\">\\newcommand{\\Bold}[1]{\\mathbf{#1}}0</script></html>"
      ],
      "text/latex": [
       "$$\\newcommand{\\Bold}[1]{\\mathbf{#1}}0$$"
      ],
      "text/plain": [
       "0"
      ]
     },
     "metadata": {},
     "output_type": "display_data"
    },
    {
     "name": "stdout",
     "output_type": "stream",
     "text": [
      "R_1023 = \n"
     ]
    },
    {
     "data": {
      "text/html": [
       "<html><script type=\"math/tex; mode=display\">\\newcommand{\\Bold}[1]{\\mathbf{#1}}0</script></html>"
      ],
      "text/latex": [
       "$$\\newcommand{\\Bold}[1]{\\mathbf{#1}}0$$"
      ],
      "text/plain": [
       "0"
      ]
     },
     "metadata": {},
     "output_type": "display_data"
    },
    {
     "name": "stdout",
     "output_type": "stream",
     "text": [
      "R_1031 = \n"
     ]
    },
    {
     "data": {
      "text/html": [
       "<html><script type=\"math/tex; mode=display\">\\newcommand{\\Bold}[1]{\\mathbf{#1}}0</script></html>"
      ],
      "text/latex": [
       "$$\\newcommand{\\Bold}[1]{\\mathbf{#1}}0$$"
      ],
      "text/plain": [
       "0"
      ]
     },
     "metadata": {},
     "output_type": "display_data"
    },
    {
     "name": "stdout",
     "output_type": "stream",
     "text": [
      "R_1032 = \n"
     ]
    },
    {
     "data": {
      "text/html": [
       "<html><script type=\"math/tex; mode=display\">\\newcommand{\\Bold}[1]{\\mathbf{#1}}0</script></html>"
      ],
      "text/latex": [
       "$$\\newcommand{\\Bold}[1]{\\mathbf{#1}}0$$"
      ],
      "text/plain": [
       "0"
      ]
     },
     "metadata": {},
     "output_type": "display_data"
    },
    {
     "name": "stdout",
     "output_type": "stream",
     "text": [
      "R_1203 = \n"
     ]
    },
    {
     "data": {
      "text/html": [
       "<html><script type=\"math/tex; mode=display\">\\newcommand{\\Bold}[1]{\\mathbf{#1}}0</script></html>"
      ],
      "text/latex": [
       "$$\\newcommand{\\Bold}[1]{\\mathbf{#1}}0$$"
      ],
      "text/plain": [
       "0"
      ]
     },
     "metadata": {},
     "output_type": "display_data"
    },
    {
     "name": "stdout",
     "output_type": "stream",
     "text": [
      "R_1212 = \n"
     ]
    },
    {
     "data": {
      "text/html": [
       "<html><script type=\"math/tex; mode=display\">\\newcommand{\\Bold}[1]{\\mathbf{#1}}0</script></html>"
      ],
      "text/latex": [
       "$$\\newcommand{\\Bold}[1]{\\mathbf{#1}}0$$"
      ],
      "text/plain": [
       "0"
      ]
     },
     "metadata": {},
     "output_type": "display_data"
    },
    {
     "name": "stdout",
     "output_type": "stream",
     "text": [
      "R_1221 = \n"
     ]
    },
    {
     "data": {
      "text/html": [
       "<html><script type=\"math/tex; mode=display\">\\newcommand{\\Bold}[1]{\\mathbf{#1}}0</script></html>"
      ],
      "text/latex": [
       "$$\\newcommand{\\Bold}[1]{\\mathbf{#1}}0$$"
      ],
      "text/plain": [
       "0"
      ]
     },
     "metadata": {},
     "output_type": "display_data"
    },
    {
     "name": "stdout",
     "output_type": "stream",
     "text": [
      "R_1230 = \n"
     ]
    },
    {
     "data": {
      "text/html": [
       "<html><script type=\"math/tex; mode=display\">\\newcommand{\\Bold}[1]{\\mathbf{#1}}0</script></html>"
      ],
      "text/latex": [
       "$$\\newcommand{\\Bold}[1]{\\mathbf{#1}}0$$"
      ],
      "text/plain": [
       "0"
      ]
     },
     "metadata": {},
     "output_type": "display_data"
    },
    {
     "name": "stdout",
     "output_type": "stream",
     "text": [
      "R_1301 = \n"
     ]
    },
    {
     "data": {
      "text/html": [
       "<html><script type=\"math/tex; mode=display\">\\newcommand{\\Bold}[1]{\\mathbf{#1}}0</script></html>"
      ],
      "text/latex": [
       "$$\\newcommand{\\Bold}[1]{\\mathbf{#1}}0$$"
      ],
      "text/plain": [
       "0"
      ]
     },
     "metadata": {},
     "output_type": "display_data"
    },
    {
     "name": "stdout",
     "output_type": "stream",
     "text": [
      "R_1302 = \n"
     ]
    },
    {
     "data": {
      "text/html": [
       "<html><script type=\"math/tex; mode=display\">\\newcommand{\\Bold}[1]{\\mathbf{#1}}0</script></html>"
      ],
      "text/latex": [
       "$$\\newcommand{\\Bold}[1]{\\mathbf{#1}}0$$"
      ],
      "text/plain": [
       "0"
      ]
     },
     "metadata": {},
     "output_type": "display_data"
    },
    {
     "name": "stdout",
     "output_type": "stream",
     "text": [
      "R_1310 = \n"
     ]
    },
    {
     "data": {
      "text/html": [
       "<html><script type=\"math/tex; mode=display\">\\newcommand{\\Bold}[1]{\\mathbf{#1}}0</script></html>"
      ],
      "text/latex": [
       "$$\\newcommand{\\Bold}[1]{\\mathbf{#1}}0$$"
      ],
      "text/plain": [
       "0"
      ]
     },
     "metadata": {},
     "output_type": "display_data"
    },
    {
     "name": "stdout",
     "output_type": "stream",
     "text": [
      "R_1313 = \n"
     ]
    },
    {
     "data": {
      "text/html": [
       "<html><script type=\"math/tex; mode=display\">\\newcommand{\\Bold}[1]{\\mathbf{#1}}0</script></html>"
      ],
      "text/latex": [
       "$$\\newcommand{\\Bold}[1]{\\mathbf{#1}}0$$"
      ],
      "text/plain": [
       "0"
      ]
     },
     "metadata": {},
     "output_type": "display_data"
    },
    {
     "name": "stdout",
     "output_type": "stream",
     "text": [
      "R_1320 = \n"
     ]
    },
    {
     "data": {
      "text/html": [
       "<html><script type=\"math/tex; mode=display\">\\newcommand{\\Bold}[1]{\\mathbf{#1}}0</script></html>"
      ],
      "text/latex": [
       "$$\\newcommand{\\Bold}[1]{\\mathbf{#1}}0$$"
      ],
      "text/plain": [
       "0"
      ]
     },
     "metadata": {},
     "output_type": "display_data"
    },
    {
     "name": "stdout",
     "output_type": "stream",
     "text": [
      "R_1323 = \n"
     ]
    },
    {
     "data": {
      "text/html": [
       "<html><script type=\"math/tex; mode=display\">\\newcommand{\\Bold}[1]{\\mathbf{#1}}0</script></html>"
      ],
      "text/latex": [
       "$$\\newcommand{\\Bold}[1]{\\mathbf{#1}}0$$"
      ],
      "text/plain": [
       "0"
      ]
     },
     "metadata": {},
     "output_type": "display_data"
    },
    {
     "name": "stdout",
     "output_type": "stream",
     "text": [
      "R_1331 = \n"
     ]
    },
    {
     "data": {
      "text/html": [
       "<html><script type=\"math/tex; mode=display\">\\newcommand{\\Bold}[1]{\\mathbf{#1}}0</script></html>"
      ],
      "text/latex": [
       "$$\\newcommand{\\Bold}[1]{\\mathbf{#1}}0$$"
      ],
      "text/plain": [
       "0"
      ]
     },
     "metadata": {},
     "output_type": "display_data"
    },
    {
     "name": "stdout",
     "output_type": "stream",
     "text": [
      "R_1332 = \n"
     ]
    },
    {
     "data": {
      "text/html": [
       "<html><script type=\"math/tex; mode=display\">\\newcommand{\\Bold}[1]{\\mathbf{#1}}0</script></html>"
      ],
      "text/latex": [
       "$$\\newcommand{\\Bold}[1]{\\mathbf{#1}}0$$"
      ],
      "text/plain": [
       "0"
      ]
     },
     "metadata": {},
     "output_type": "display_data"
    },
    {
     "name": "stdout",
     "output_type": "stream",
     "text": [
      "R_2001 = \n"
     ]
    },
    {
     "data": {
      "text/html": [
       "<html><script type=\"math/tex; mode=display\">\\newcommand{\\Bold}[1]{\\mathbf{#1}}0</script></html>"
      ],
      "text/latex": [
       "$$\\newcommand{\\Bold}[1]{\\mathbf{#1}}0$$"
      ],
      "text/plain": [
       "0"
      ]
     },
     "metadata": {},
     "output_type": "display_data"
    },
    {
     "name": "stdout",
     "output_type": "stream",
     "text": [
      "R_2002 = \n"
     ]
    },
    {
     "data": {
      "text/html": [
       "<html><script type=\"math/tex; mode=display\">\\newcommand{\\Bold}[1]{\\mathbf{#1}}0</script></html>"
      ],
      "text/latex": [
       "$$\\newcommand{\\Bold}[1]{\\mathbf{#1}}0$$"
      ],
      "text/plain": [
       "0"
      ]
     },
     "metadata": {},
     "output_type": "display_data"
    },
    {
     "name": "stdout",
     "output_type": "stream",
     "text": [
      "R_2010 = \n"
     ]
    },
    {
     "data": {
      "text/html": [
       "<html><script type=\"math/tex; mode=display\">\\newcommand{\\Bold}[1]{\\mathbf{#1}}0</script></html>"
      ],
      "text/latex": [
       "$$\\newcommand{\\Bold}[1]{\\mathbf{#1}}0$$"
      ],
      "text/plain": [
       "0"
      ]
     },
     "metadata": {},
     "output_type": "display_data"
    },
    {
     "name": "stdout",
     "output_type": "stream",
     "text": [
      "R_2013 = \n"
     ]
    },
    {
     "data": {
      "text/html": [
       "<html><script type=\"math/tex; mode=display\">\\newcommand{\\Bold}[1]{\\mathbf{#1}}0</script></html>"
      ],
      "text/latex": [
       "$$\\newcommand{\\Bold}[1]{\\mathbf{#1}}0$$"
      ],
      "text/plain": [
       "0"
      ]
     },
     "metadata": {},
     "output_type": "display_data"
    },
    {
     "name": "stdout",
     "output_type": "stream",
     "text": [
      "R_2020 = \n"
     ]
    },
    {
     "data": {
      "text/html": [
       "<html><script type=\"math/tex; mode=display\">\\newcommand{\\Bold}[1]{\\mathbf{#1}}0</script></html>"
      ],
      "text/latex": [
       "$$\\newcommand{\\Bold}[1]{\\mathbf{#1}}0$$"
      ],
      "text/plain": [
       "0"
      ]
     },
     "metadata": {},
     "output_type": "display_data"
    },
    {
     "name": "stdout",
     "output_type": "stream",
     "text": [
      "R_2023 = \n"
     ]
    },
    {
     "data": {
      "text/html": [
       "<html><script type=\"math/tex; mode=display\">\\newcommand{\\Bold}[1]{\\mathbf{#1}}0</script></html>"
      ],
      "text/latex": [
       "$$\\newcommand{\\Bold}[1]{\\mathbf{#1}}0$$"
      ],
      "text/plain": [
       "0"
      ]
     },
     "metadata": {},
     "output_type": "display_data"
    },
    {
     "name": "stdout",
     "output_type": "stream",
     "text": [
      "R_2031 = \n"
     ]
    },
    {
     "data": {
      "text/html": [
       "<html><script type=\"math/tex; mode=display\">\\newcommand{\\Bold}[1]{\\mathbf{#1}}0</script></html>"
      ],
      "text/latex": [
       "$$\\newcommand{\\Bold}[1]{\\mathbf{#1}}0$$"
      ],
      "text/plain": [
       "0"
      ]
     },
     "metadata": {},
     "output_type": "display_data"
    },
    {
     "name": "stdout",
     "output_type": "stream",
     "text": [
      "R_2032 = \n"
     ]
    },
    {
     "data": {
      "text/html": [
       "<html><script type=\"math/tex; mode=display\">\\newcommand{\\Bold}[1]{\\mathbf{#1}}0</script></html>"
      ],
      "text/latex": [
       "$$\\newcommand{\\Bold}[1]{\\mathbf{#1}}0$$"
      ],
      "text/plain": [
       "0"
      ]
     },
     "metadata": {},
     "output_type": "display_data"
    },
    {
     "name": "stdout",
     "output_type": "stream",
     "text": [
      "R_2103 = \n"
     ]
    },
    {
     "data": {
      "text/html": [
       "<html><script type=\"math/tex; mode=display\">\\newcommand{\\Bold}[1]{\\mathbf{#1}}0</script></html>"
      ],
      "text/latex": [
       "$$\\newcommand{\\Bold}[1]{\\mathbf{#1}}0$$"
      ],
      "text/plain": [
       "0"
      ]
     },
     "metadata": {},
     "output_type": "display_data"
    },
    {
     "name": "stdout",
     "output_type": "stream",
     "text": [
      "R_2112 = \n"
     ]
    },
    {
     "data": {
      "text/html": [
       "<html><script type=\"math/tex; mode=display\">\\newcommand{\\Bold}[1]{\\mathbf{#1}}0</script></html>"
      ],
      "text/latex": [
       "$$\\newcommand{\\Bold}[1]{\\mathbf{#1}}0$$"
      ],
      "text/plain": [
       "0"
      ]
     },
     "metadata": {},
     "output_type": "display_data"
    },
    {
     "name": "stdout",
     "output_type": "stream",
     "text": [
      "R_2121 = \n"
     ]
    },
    {
     "data": {
      "text/html": [
       "<html><script type=\"math/tex; mode=display\">\\newcommand{\\Bold}[1]{\\mathbf{#1}}0</script></html>"
      ],
      "text/latex": [
       "$$\\newcommand{\\Bold}[1]{\\mathbf{#1}}0$$"
      ],
      "text/plain": [
       "0"
      ]
     },
     "metadata": {},
     "output_type": "display_data"
    },
    {
     "name": "stdout",
     "output_type": "stream",
     "text": [
      "R_2130 = \n"
     ]
    },
    {
     "data": {
      "text/html": [
       "<html><script type=\"math/tex; mode=display\">\\newcommand{\\Bold}[1]{\\mathbf{#1}}0</script></html>"
      ],
      "text/latex": [
       "$$\\newcommand{\\Bold}[1]{\\mathbf{#1}}0$$"
      ],
      "text/plain": [
       "0"
      ]
     },
     "metadata": {},
     "output_type": "display_data"
    },
    {
     "name": "stdout",
     "output_type": "stream",
     "text": [
      "R_2301 = \n"
     ]
    },
    {
     "data": {
      "text/html": [
       "<html><script type=\"math/tex; mode=display\">\\newcommand{\\Bold}[1]{\\mathbf{#1}}0</script></html>"
      ],
      "text/latex": [
       "$$\\newcommand{\\Bold}[1]{\\mathbf{#1}}0$$"
      ],
      "text/plain": [
       "0"
      ]
     },
     "metadata": {},
     "output_type": "display_data"
    },
    {
     "name": "stdout",
     "output_type": "stream",
     "text": [
      "R_2302 = \n"
     ]
    },
    {
     "data": {
      "text/html": [
       "<html><script type=\"math/tex; mode=display\">\\newcommand{\\Bold}[1]{\\mathbf{#1}}0</script></html>"
      ],
      "text/latex": [
       "$$\\newcommand{\\Bold}[1]{\\mathbf{#1}}0$$"
      ],
      "text/plain": [
       "0"
      ]
     },
     "metadata": {},
     "output_type": "display_data"
    },
    {
     "name": "stdout",
     "output_type": "stream",
     "text": [
      "R_2310 = \n"
     ]
    },
    {
     "data": {
      "text/html": [
       "<html><script type=\"math/tex; mode=display\">\\newcommand{\\Bold}[1]{\\mathbf{#1}}0</script></html>"
      ],
      "text/latex": [
       "$$\\newcommand{\\Bold}[1]{\\mathbf{#1}}0$$"
      ],
      "text/plain": [
       "0"
      ]
     },
     "metadata": {},
     "output_type": "display_data"
    },
    {
     "name": "stdout",
     "output_type": "stream",
     "text": [
      "R_2313 = \n"
     ]
    },
    {
     "data": {
      "text/html": [
       "<html><script type=\"math/tex; mode=display\">\\newcommand{\\Bold}[1]{\\mathbf{#1}}0</script></html>"
      ],
      "text/latex": [
       "$$\\newcommand{\\Bold}[1]{\\mathbf{#1}}0$$"
      ],
      "text/plain": [
       "0"
      ]
     },
     "metadata": {},
     "output_type": "display_data"
    },
    {
     "name": "stdout",
     "output_type": "stream",
     "text": [
      "R_2320 = \n"
     ]
    },
    {
     "data": {
      "text/html": [
       "<html><script type=\"math/tex; mode=display\">\\newcommand{\\Bold}[1]{\\mathbf{#1}}0</script></html>"
      ],
      "text/latex": [
       "$$\\newcommand{\\Bold}[1]{\\mathbf{#1}}0$$"
      ],
      "text/plain": [
       "0"
      ]
     },
     "metadata": {},
     "output_type": "display_data"
    },
    {
     "name": "stdout",
     "output_type": "stream",
     "text": [
      "R_2323 = \n"
     ]
    },
    {
     "data": {
      "text/html": [
       "<html><script type=\"math/tex; mode=display\">\\newcommand{\\Bold}[1]{\\mathbf{#1}}0</script></html>"
      ],
      "text/latex": [
       "$$\\newcommand{\\Bold}[1]{\\mathbf{#1}}0$$"
      ],
      "text/plain": [
       "0"
      ]
     },
     "metadata": {},
     "output_type": "display_data"
    },
    {
     "name": "stdout",
     "output_type": "stream",
     "text": [
      "R_2331 = \n"
     ]
    },
    {
     "data": {
      "text/html": [
       "<html><script type=\"math/tex; mode=display\">\\newcommand{\\Bold}[1]{\\mathbf{#1}}0</script></html>"
      ],
      "text/latex": [
       "$$\\newcommand{\\Bold}[1]{\\mathbf{#1}}0$$"
      ],
      "text/plain": [
       "0"
      ]
     },
     "metadata": {},
     "output_type": "display_data"
    },
    {
     "name": "stdout",
     "output_type": "stream",
     "text": [
      "R_2332 = \n"
     ]
    },
    {
     "data": {
      "text/html": [
       "<html><script type=\"math/tex; mode=display\">\\newcommand{\\Bold}[1]{\\mathbf{#1}}0</script></html>"
      ],
      "text/latex": [
       "$$\\newcommand{\\Bold}[1]{\\mathbf{#1}}0$$"
      ],
      "text/plain": [
       "0"
      ]
     },
     "metadata": {},
     "output_type": "display_data"
    },
    {
     "name": "stdout",
     "output_type": "stream",
     "text": [
      "R_3003 = \n"
     ]
    },
    {
     "data": {
      "text/html": [
       "<html><script type=\"math/tex; mode=display\">\\newcommand{\\Bold}[1]{\\mathbf{#1}}0</script></html>"
      ],
      "text/latex": [
       "$$\\newcommand{\\Bold}[1]{\\mathbf{#1}}0$$"
      ],
      "text/plain": [
       "0"
      ]
     },
     "metadata": {},
     "output_type": "display_data"
    },
    {
     "name": "stdout",
     "output_type": "stream",
     "text": [
      "R_3012 = \n"
     ]
    },
    {
     "data": {
      "text/html": [
       "<html><script type=\"math/tex; mode=display\">\\newcommand{\\Bold}[1]{\\mathbf{#1}}0</script></html>"
      ],
      "text/latex": [
       "$$\\newcommand{\\Bold}[1]{\\mathbf{#1}}0$$"
      ],
      "text/plain": [
       "0"
      ]
     },
     "metadata": {},
     "output_type": "display_data"
    },
    {
     "name": "stdout",
     "output_type": "stream",
     "text": [
      "R_3021 = \n"
     ]
    },
    {
     "data": {
      "text/html": [
       "<html><script type=\"math/tex; mode=display\">\\newcommand{\\Bold}[1]{\\mathbf{#1}}0</script></html>"
      ],
      "text/latex": [
       "$$\\newcommand{\\Bold}[1]{\\mathbf{#1}}0$$"
      ],
      "text/plain": [
       "0"
      ]
     },
     "metadata": {},
     "output_type": "display_data"
    },
    {
     "name": "stdout",
     "output_type": "stream",
     "text": [
      "R_3030 = \n"
     ]
    },
    {
     "data": {
      "text/html": [
       "<html><script type=\"math/tex; mode=display\">\\newcommand{\\Bold}[1]{\\mathbf{#1}}0</script></html>"
      ],
      "text/latex": [
       "$$\\newcommand{\\Bold}[1]{\\mathbf{#1}}0$$"
      ],
      "text/plain": [
       "0"
      ]
     },
     "metadata": {},
     "output_type": "display_data"
    },
    {
     "name": "stdout",
     "output_type": "stream",
     "text": [
      "R_3101 = \n"
     ]
    },
    {
     "data": {
      "text/html": [
       "<html><script type=\"math/tex; mode=display\">\\newcommand{\\Bold}[1]{\\mathbf{#1}}0</script></html>"
      ],
      "text/latex": [
       "$$\\newcommand{\\Bold}[1]{\\mathbf{#1}}0$$"
      ],
      "text/plain": [
       "0"
      ]
     },
     "metadata": {},
     "output_type": "display_data"
    },
    {
     "name": "stdout",
     "output_type": "stream",
     "text": [
      "R_3102 = \n"
     ]
    },
    {
     "data": {
      "text/html": [
       "<html><script type=\"math/tex; mode=display\">\\newcommand{\\Bold}[1]{\\mathbf{#1}}0</script></html>"
      ],
      "text/latex": [
       "$$\\newcommand{\\Bold}[1]{\\mathbf{#1}}0$$"
      ],
      "text/plain": [
       "0"
      ]
     },
     "metadata": {},
     "output_type": "display_data"
    },
    {
     "name": "stdout",
     "output_type": "stream",
     "text": [
      "R_3110 = \n"
     ]
    },
    {
     "data": {
      "text/html": [
       "<html><script type=\"math/tex; mode=display\">\\newcommand{\\Bold}[1]{\\mathbf{#1}}0</script></html>"
      ],
      "text/latex": [
       "$$\\newcommand{\\Bold}[1]{\\mathbf{#1}}0$$"
      ],
      "text/plain": [
       "0"
      ]
     },
     "metadata": {},
     "output_type": "display_data"
    },
    {
     "name": "stdout",
     "output_type": "stream",
     "text": [
      "R_3113 = \n"
     ]
    },
    {
     "data": {
      "text/html": [
       "<html><script type=\"math/tex; mode=display\">\\newcommand{\\Bold}[1]{\\mathbf{#1}}0</script></html>"
      ],
      "text/latex": [
       "$$\\newcommand{\\Bold}[1]{\\mathbf{#1}}0$$"
      ],
      "text/plain": [
       "0"
      ]
     },
     "metadata": {},
     "output_type": "display_data"
    },
    {
     "name": "stdout",
     "output_type": "stream",
     "text": [
      "R_3120 = \n"
     ]
    },
    {
     "data": {
      "text/html": [
       "<html><script type=\"math/tex; mode=display\">\\newcommand{\\Bold}[1]{\\mathbf{#1}}0</script></html>"
      ],
      "text/latex": [
       "$$\\newcommand{\\Bold}[1]{\\mathbf{#1}}0$$"
      ],
      "text/plain": [
       "0"
      ]
     },
     "metadata": {},
     "output_type": "display_data"
    },
    {
     "name": "stdout",
     "output_type": "stream",
     "text": [
      "R_3123 = \n"
     ]
    },
    {
     "data": {
      "text/html": [
       "<html><script type=\"math/tex; mode=display\">\\newcommand{\\Bold}[1]{\\mathbf{#1}}0</script></html>"
      ],
      "text/latex": [
       "$$\\newcommand{\\Bold}[1]{\\mathbf{#1}}0$$"
      ],
      "text/plain": [
       "0"
      ]
     },
     "metadata": {},
     "output_type": "display_data"
    },
    {
     "name": "stdout",
     "output_type": "stream",
     "text": [
      "R_3131 = \n"
     ]
    },
    {
     "data": {
      "text/html": [
       "<html><script type=\"math/tex; mode=display\">\\newcommand{\\Bold}[1]{\\mathbf{#1}}0</script></html>"
      ],
      "text/latex": [
       "$$\\newcommand{\\Bold}[1]{\\mathbf{#1}}0$$"
      ],
      "text/plain": [
       "0"
      ]
     },
     "metadata": {},
     "output_type": "display_data"
    },
    {
     "name": "stdout",
     "output_type": "stream",
     "text": [
      "R_3132 = \n"
     ]
    },
    {
     "data": {
      "text/html": [
       "<html><script type=\"math/tex; mode=display\">\\newcommand{\\Bold}[1]{\\mathbf{#1}}0</script></html>"
      ],
      "text/latex": [
       "$$\\newcommand{\\Bold}[1]{\\mathbf{#1}}0$$"
      ],
      "text/plain": [
       "0"
      ]
     },
     "metadata": {},
     "output_type": "display_data"
    },
    {
     "name": "stdout",
     "output_type": "stream",
     "text": [
      "R_3201 = \n"
     ]
    },
    {
     "data": {
      "text/html": [
       "<html><script type=\"math/tex; mode=display\">\\newcommand{\\Bold}[1]{\\mathbf{#1}}0</script></html>"
      ],
      "text/latex": [
       "$$\\newcommand{\\Bold}[1]{\\mathbf{#1}}0$$"
      ],
      "text/plain": [
       "0"
      ]
     },
     "metadata": {},
     "output_type": "display_data"
    },
    {
     "name": "stdout",
     "output_type": "stream",
     "text": [
      "R_3202 = \n"
     ]
    },
    {
     "data": {
      "text/html": [
       "<html><script type=\"math/tex; mode=display\">\\newcommand{\\Bold}[1]{\\mathbf{#1}}0</script></html>"
      ],
      "text/latex": [
       "$$\\newcommand{\\Bold}[1]{\\mathbf{#1}}0$$"
      ],
      "text/plain": [
       "0"
      ]
     },
     "metadata": {},
     "output_type": "display_data"
    },
    {
     "name": "stdout",
     "output_type": "stream",
     "text": [
      "R_3210 = \n"
     ]
    },
    {
     "data": {
      "text/html": [
       "<html><script type=\"math/tex; mode=display\">\\newcommand{\\Bold}[1]{\\mathbf{#1}}0</script></html>"
      ],
      "text/latex": [
       "$$\\newcommand{\\Bold}[1]{\\mathbf{#1}}0$$"
      ],
      "text/plain": [
       "0"
      ]
     },
     "metadata": {},
     "output_type": "display_data"
    },
    {
     "name": "stdout",
     "output_type": "stream",
     "text": [
      "R_3213 = \n"
     ]
    },
    {
     "data": {
      "text/html": [
       "<html><script type=\"math/tex; mode=display\">\\newcommand{\\Bold}[1]{\\mathbf{#1}}0</script></html>"
      ],
      "text/latex": [
       "$$\\newcommand{\\Bold}[1]{\\mathbf{#1}}0$$"
      ],
      "text/plain": [
       "0"
      ]
     },
     "metadata": {},
     "output_type": "display_data"
    },
    {
     "name": "stdout",
     "output_type": "stream",
     "text": [
      "R_3220 = \n"
     ]
    },
    {
     "data": {
      "text/html": [
       "<html><script type=\"math/tex; mode=display\">\\newcommand{\\Bold}[1]{\\mathbf{#1}}0</script></html>"
      ],
      "text/latex": [
       "$$\\newcommand{\\Bold}[1]{\\mathbf{#1}}0$$"
      ],
      "text/plain": [
       "0"
      ]
     },
     "metadata": {},
     "output_type": "display_data"
    },
    {
     "name": "stdout",
     "output_type": "stream",
     "text": [
      "R_3223 = \n"
     ]
    },
    {
     "data": {
      "text/html": [
       "<html><script type=\"math/tex; mode=display\">\\newcommand{\\Bold}[1]{\\mathbf{#1}}0</script></html>"
      ],
      "text/latex": [
       "$$\\newcommand{\\Bold}[1]{\\mathbf{#1}}0$$"
      ],
      "text/plain": [
       "0"
      ]
     },
     "metadata": {},
     "output_type": "display_data"
    },
    {
     "name": "stdout",
     "output_type": "stream",
     "text": [
      "R_3231 = \n"
     ]
    },
    {
     "data": {
      "text/html": [
       "<html><script type=\"math/tex; mode=display\">\\newcommand{\\Bold}[1]{\\mathbf{#1}}0</script></html>"
      ],
      "text/latex": [
       "$$\\newcommand{\\Bold}[1]{\\mathbf{#1}}0$$"
      ],
      "text/plain": [
       "0"
      ]
     },
     "metadata": {},
     "output_type": "display_data"
    },
    {
     "name": "stdout",
     "output_type": "stream",
     "text": [
      "R_3232 = \n"
     ]
    },
    {
     "data": {
      "text/html": [
       "<html><script type=\"math/tex; mode=display\">\\newcommand{\\Bold}[1]{\\mathbf{#1}}0</script></html>"
      ],
      "text/latex": [
       "$$\\newcommand{\\Bold}[1]{\\mathbf{#1}}0$$"
      ],
      "text/plain": [
       "0"
      ]
     },
     "metadata": {},
     "output_type": "display_data"
    },
    {
     "name": "stdout",
     "output_type": "stream",
     "text": [
      "R_3303 = \n"
     ]
    },
    {
     "data": {
      "text/html": [
       "<html><script type=\"math/tex; mode=display\">\\newcommand{\\Bold}[1]{\\mathbf{#1}}0</script></html>"
      ],
      "text/latex": [
       "$$\\newcommand{\\Bold}[1]{\\mathbf{#1}}0$$"
      ],
      "text/plain": [
       "0"
      ]
     },
     "metadata": {},
     "output_type": "display_data"
    },
    {
     "name": "stdout",
     "output_type": "stream",
     "text": [
      "R_3312 = \n"
     ]
    },
    {
     "data": {
      "text/html": [
       "<html><script type=\"math/tex; mode=display\">\\newcommand{\\Bold}[1]{\\mathbf{#1}}0</script></html>"
      ],
      "text/latex": [
       "$$\\newcommand{\\Bold}[1]{\\mathbf{#1}}0$$"
      ],
      "text/plain": [
       "0"
      ]
     },
     "metadata": {},
     "output_type": "display_data"
    },
    {
     "name": "stdout",
     "output_type": "stream",
     "text": [
      "R_3321 = \n"
     ]
    },
    {
     "data": {
      "text/html": [
       "<html><script type=\"math/tex; mode=display\">\\newcommand{\\Bold}[1]{\\mathbf{#1}}0</script></html>"
      ],
      "text/latex": [
       "$$\\newcommand{\\Bold}[1]{\\mathbf{#1}}0$$"
      ],
      "text/plain": [
       "0"
      ]
     },
     "metadata": {},
     "output_type": "display_data"
    },
    {
     "name": "stdout",
     "output_type": "stream",
     "text": [
      "R_3330 = \n"
     ]
    },
    {
     "data": {
      "text/html": [
       "<html><script type=\"math/tex; mode=display\">\\newcommand{\\Bold}[1]{\\mathbf{#1}}0</script></html>"
      ],
      "text/latex": [
       "$$\\newcommand{\\Bold}[1]{\\mathbf{#1}}0$$"
      ],
      "text/plain": [
       "0"
      ]
     },
     "metadata": {},
     "output_type": "display_data"
    }
   ],
   "source": [
    "#weyl tensor\n",
    "weyl= g_kerr.weyl()\n",
    "\n",
    "  \n",
    "for i in range(4):\n",
    "    for j in range(4):\n",
    "        for k in range(4):\n",
    "            for l in range(4):\n",
    "                y= weyl[i,j,k,l]\n",
    "                if y != 0:\n",
    "                    print(f\"R_{i}{j}{k}{l} = \")\n",
    "                    show(latex(x))\n",
    "                    "
   ]
  },
  {
   "cell_type": "code",
   "execution_count": 39,
   "id": "404a02d4",
   "metadata": {},
   "outputs": [
    {
     "data": {
      "text/html": [
       "<html><script type=\"math/tex; mode=display\">\\newcommand{\\Bold}[1]{\\mathbf{#1}}\\mathrm{C}\\left(g\\right)</script></html>"
      ],
      "text/latex": [
       "$$\\newcommand{\\Bold}[1]{\\mathbf{#1}}\\mathrm{C}\\left(g\\right)$$"
      ],
      "text/plain": [
       "\\mathrm{C}\\left(g\\right)"
      ]
     },
     "metadata": {},
     "output_type": "display_data"
    }
   ],
   "source": [
    "show(latex(weyl))"
   ]
  },
  {
   "cell_type": "code",
   "execution_count": 40,
   "id": "e384b24a",
   "metadata": {},
   "outputs": [
    {
     "name": "stdout",
     "output_type": "stream",
     "text": [
      "[0 0 0 0]\n",
      "[0 0 0 0]\n",
      "[0 0 0 0]\n",
      "[0 0 0 0]\n"
     ]
    }
   ],
   "source": [
    "#Einstein tensor\n",
    "Ein = Ric_kerr - (1/2)*R_kerr*g_kerr\n",
    "\n",
    "Ein.display()\n",
    "\n",
    "components=Ein[:]\n",
    "print(components)"
   ]
  }
 ],
 "metadata": {
  "kernelspec": {
   "display_name": "SageMath 9.5",
   "language": "sage",
   "name": "sagemath"
  },
  "language_info": {
   "codemirror_mode": {
    "name": "ipython",
    "version": 3
   },
   "file_extension": ".py",
   "mimetype": "text/x-python",
   "name": "python",
   "nbconvert_exporter": "python",
   "pygments_lexer": "ipython3",
   "version": "3.10.12"
  }
 },
 "nbformat": 4,
 "nbformat_minor": 5
}
